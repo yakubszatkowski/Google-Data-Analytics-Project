{
 "cells": [
  {
   "cell_type": "markdown",
   "id": "16835915",
   "metadata": {},
   "source": [
    "# Case study, How does a bike-share navigate speedy success?\n",
    "<p style=\"align, center\"><img src=\"./misc/bike.JPG\"></p>\n",
    "\n",
    "## Business Task\n",
    "Design marketing strategies aimed at converting casual riders into annual members\n",
    "\n",
    "## Analytic questions:\n",
    "* How do annual members and casual riders use Cyclistic bikes differently?\n",
    "* Why would casual riders buy Cyclistic annual memberships? \n",
    "* How can Cyclistic use digital media to influence casual riders to become members?\n",
    "\n",
    "### Source\n",
    "* 202401-divvy-tripdata.csv\n",
    "* 202402-divvy-tripdata.csv\n",
    "* 202403-divvy-tripdata.csv\n",
    "* 202404-divvy-tripdata.csv\n",
    "* 202405-divvy-tripdata.csv\n",
    "* 202406-divvy-tripdata.csv\n",
    "* 202407-divvy-tripdata.csv\n",
    "* 202408-divvy-tripdata.csv\n",
    "* 202409-divvy-tripdata.csv\n",
    "* 202410-divvy-tripdata.csv\n",
    "* 202411-divvy-tripdata.csv\n",
    "* 202412-divvy-tripdata.csv\n",
    "\n",
    "<p style=\"font-style: italic;\">The data has been made available by Motivate International Inc. under this <a href=\"https://divvybikes.com/data-license-agreement\">license</a>.</p>"
   ]
  },
  {
   "cell_type": "markdown",
   "id": "8f802ade",
   "metadata": {},
   "source": [
    "## Libraries import"
   ]
  },
  {
   "cell_type": "code",
   "execution_count": 70,
   "id": "98e0b6ab",
   "metadata": {},
   "outputs": [],
   "source": [
    "import glob\n",
    "import pandas as pd\n",
    "import numpy as np\n",
    "import matplotlib.pyplot as plt\n",
    "import seaborn as sns\n",
    "import plotly.express as px\n",
    "from datetime import datetime, timedelta\n",
    "plt.style.use('ggplot')"
   ]
  },
  {
   "cell_type": "markdown",
   "id": "f0dd0308",
   "metadata": {},
   "source": [
    "# Preparation\n",
    "### Load raw data"
   ]
  },
  {
   "cell_type": "code",
   "execution_count": 71,
   "id": "8c8c05ff",
   "metadata": {},
   "outputs": [
    {
     "data": {
      "text/html": [
       "<div>\n",
       "<style scoped>\n",
       "    .dataframe tbody tr th:only-of-type {\n",
       "        vertical-align: middle;\n",
       "    }\n",
       "\n",
       "    .dataframe tbody tr th {\n",
       "        vertical-align: top;\n",
       "    }\n",
       "\n",
       "    .dataframe thead th {\n",
       "        text-align: right;\n",
       "    }\n",
       "</style>\n",
       "<table border=\"1\" class=\"dataframe\">\n",
       "  <thead>\n",
       "    <tr style=\"text-align: right;\">\n",
       "      <th></th>\n",
       "      <th>ride_id</th>\n",
       "      <th>rideable_type</th>\n",
       "      <th>started_at</th>\n",
       "      <th>ended_at</th>\n",
       "      <th>start_station_name</th>\n",
       "      <th>start_station_id</th>\n",
       "      <th>end_station_name</th>\n",
       "      <th>end_station_id</th>\n",
       "      <th>start_lat</th>\n",
       "      <th>start_lng</th>\n",
       "      <th>end_lat</th>\n",
       "      <th>end_lng</th>\n",
       "      <th>member_casual</th>\n",
       "    </tr>\n",
       "  </thead>\n",
       "  <tbody>\n",
       "    <tr>\n",
       "      <th>0</th>\n",
       "      <td>C1D650626C8C899A</td>\n",
       "      <td>electric_bike</td>\n",
       "      <td>2024-01-12 15:30:27</td>\n",
       "      <td>2024-01-12 15:37:59</td>\n",
       "      <td>Wells St &amp; Elm St</td>\n",
       "      <td>KA1504000135</td>\n",
       "      <td>Kingsbury St &amp; Kinzie St</td>\n",
       "      <td>KA1503000043</td>\n",
       "      <td>41.903267</td>\n",
       "      <td>-87.634737</td>\n",
       "      <td>41.889177</td>\n",
       "      <td>-87.638506</td>\n",
       "      <td>member</td>\n",
       "    </tr>\n",
       "    <tr>\n",
       "      <th>1</th>\n",
       "      <td>EECD38BDB25BFCB0</td>\n",
       "      <td>electric_bike</td>\n",
       "      <td>2024-01-08 15:45:46</td>\n",
       "      <td>2024-01-08 15:52:59</td>\n",
       "      <td>Wells St &amp; Elm St</td>\n",
       "      <td>KA1504000135</td>\n",
       "      <td>Kingsbury St &amp; Kinzie St</td>\n",
       "      <td>KA1503000043</td>\n",
       "      <td>41.902937</td>\n",
       "      <td>-87.634440</td>\n",
       "      <td>41.889177</td>\n",
       "      <td>-87.638506</td>\n",
       "      <td>member</td>\n",
       "    </tr>\n",
       "    <tr>\n",
       "      <th>2</th>\n",
       "      <td>F4A9CE78061F17F7</td>\n",
       "      <td>electric_bike</td>\n",
       "      <td>2024-01-27 12:27:19</td>\n",
       "      <td>2024-01-27 12:35:19</td>\n",
       "      <td>Wells St &amp; Elm St</td>\n",
       "      <td>KA1504000135</td>\n",
       "      <td>Kingsbury St &amp; Kinzie St</td>\n",
       "      <td>KA1503000043</td>\n",
       "      <td>41.902951</td>\n",
       "      <td>-87.634470</td>\n",
       "      <td>41.889177</td>\n",
       "      <td>-87.638506</td>\n",
       "      <td>member</td>\n",
       "    </tr>\n",
       "    <tr>\n",
       "      <th>3</th>\n",
       "      <td>0A0D9E15EE50B171</td>\n",
       "      <td>classic_bike</td>\n",
       "      <td>2024-01-29 16:26:17</td>\n",
       "      <td>2024-01-29 16:56:06</td>\n",
       "      <td>Wells St &amp; Randolph St</td>\n",
       "      <td>TA1305000030</td>\n",
       "      <td>Larrabee St &amp; Webster Ave</td>\n",
       "      <td>13193</td>\n",
       "      <td>41.884295</td>\n",
       "      <td>-87.633963</td>\n",
       "      <td>41.921822</td>\n",
       "      <td>-87.644140</td>\n",
       "      <td>member</td>\n",
       "    </tr>\n",
       "    <tr>\n",
       "      <th>4</th>\n",
       "      <td>33FFC9805E3EFF9A</td>\n",
       "      <td>classic_bike</td>\n",
       "      <td>2024-01-31 05:43:23</td>\n",
       "      <td>2024-01-31 06:09:35</td>\n",
       "      <td>Lincoln Ave &amp; Waveland Ave</td>\n",
       "      <td>13253</td>\n",
       "      <td>Kingsbury St &amp; Kinzie St</td>\n",
       "      <td>KA1503000043</td>\n",
       "      <td>41.948797</td>\n",
       "      <td>-87.675278</td>\n",
       "      <td>41.889177</td>\n",
       "      <td>-87.638506</td>\n",
       "      <td>member</td>\n",
       "    </tr>\n",
       "  </tbody>\n",
       "</table>\n",
       "</div>"
      ],
      "text/plain": [
       "            ride_id  rideable_type           started_at             ended_at  \\\n",
       "0  C1D650626C8C899A  electric_bike  2024-01-12 15:30:27  2024-01-12 15:37:59   \n",
       "1  EECD38BDB25BFCB0  electric_bike  2024-01-08 15:45:46  2024-01-08 15:52:59   \n",
       "2  F4A9CE78061F17F7  electric_bike  2024-01-27 12:27:19  2024-01-27 12:35:19   \n",
       "3  0A0D9E15EE50B171   classic_bike  2024-01-29 16:26:17  2024-01-29 16:56:06   \n",
       "4  33FFC9805E3EFF9A   classic_bike  2024-01-31 05:43:23  2024-01-31 06:09:35   \n",
       "\n",
       "           start_station_name start_station_id           end_station_name  \\\n",
       "0           Wells St & Elm St     KA1504000135   Kingsbury St & Kinzie St   \n",
       "1           Wells St & Elm St     KA1504000135   Kingsbury St & Kinzie St   \n",
       "2           Wells St & Elm St     KA1504000135   Kingsbury St & Kinzie St   \n",
       "3      Wells St & Randolph St     TA1305000030  Larrabee St & Webster Ave   \n",
       "4  Lincoln Ave & Waveland Ave            13253   Kingsbury St & Kinzie St   \n",
       "\n",
       "  end_station_id  start_lat  start_lng    end_lat    end_lng member_casual  \n",
       "0   KA1503000043  41.903267 -87.634737  41.889177 -87.638506        member  \n",
       "1   KA1503000043  41.902937 -87.634440  41.889177 -87.638506        member  \n",
       "2   KA1503000043  41.902951 -87.634470  41.889177 -87.638506        member  \n",
       "3          13193  41.884295 -87.633963  41.921822 -87.644140        member  \n",
       "4   KA1503000043  41.948797 -87.675278  41.889177 -87.638506        member  "
      ]
     },
     "execution_count": 71,
     "metadata": {},
     "output_type": "execute_result"
    }
   ],
   "source": [
    "csv_files = glob.glob('raw data/*.csv')\n",
    "dfs = []\n",
    "\n",
    "for file in csv_files:\n",
    "    data = pd.read_csv(file, encoding=\"utf-8\",) \n",
    "    dfs.append(data)\n",
    "\n",
    "df = pd.concat(dfs)\n",
    "df.head()"
   ]
  },
  {
   "cell_type": "markdown",
   "id": "c23fc3bf",
   "metadata": {},
   "source": [
    "### Loading revelant columns"
   ]
  },
  {
   "cell_type": "code",
   "execution_count": 72,
   "id": "f986eef1",
   "metadata": {},
   "outputs": [
    {
     "data": {
      "text/html": [
       "<div>\n",
       "<style scoped>\n",
       "    .dataframe tbody tr th:only-of-type {\n",
       "        vertical-align: middle;\n",
       "    }\n",
       "\n",
       "    .dataframe tbody tr th {\n",
       "        vertical-align: top;\n",
       "    }\n",
       "\n",
       "    .dataframe thead th {\n",
       "        text-align: right;\n",
       "    }\n",
       "</style>\n",
       "<table border=\"1\" class=\"dataframe\">\n",
       "  <thead>\n",
       "    <tr style=\"text-align: right;\">\n",
       "      <th></th>\n",
       "      <th>ride_id</th>\n",
       "      <th>rideable_type</th>\n",
       "      <th>started_at</th>\n",
       "      <th>ended_at</th>\n",
       "      <th>start_station_name</th>\n",
       "      <th>end_station_name</th>\n",
       "      <th>member_casual</th>\n",
       "    </tr>\n",
       "  </thead>\n",
       "  <tbody>\n",
       "    <tr>\n",
       "      <th>0</th>\n",
       "      <td>C1D650626C8C899A</td>\n",
       "      <td>electric_bike</td>\n",
       "      <td>2024-01-12 15:30:27</td>\n",
       "      <td>2024-01-12 15:37:59</td>\n",
       "      <td>Wells St &amp; Elm St</td>\n",
       "      <td>Kingsbury St &amp; Kinzie St</td>\n",
       "      <td>member</td>\n",
       "    </tr>\n",
       "    <tr>\n",
       "      <th>1</th>\n",
       "      <td>EECD38BDB25BFCB0</td>\n",
       "      <td>electric_bike</td>\n",
       "      <td>2024-01-08 15:45:46</td>\n",
       "      <td>2024-01-08 15:52:59</td>\n",
       "      <td>Wells St &amp; Elm St</td>\n",
       "      <td>Kingsbury St &amp; Kinzie St</td>\n",
       "      <td>member</td>\n",
       "    </tr>\n",
       "    <tr>\n",
       "      <th>2</th>\n",
       "      <td>F4A9CE78061F17F7</td>\n",
       "      <td>electric_bike</td>\n",
       "      <td>2024-01-27 12:27:19</td>\n",
       "      <td>2024-01-27 12:35:19</td>\n",
       "      <td>Wells St &amp; Elm St</td>\n",
       "      <td>Kingsbury St &amp; Kinzie St</td>\n",
       "      <td>member</td>\n",
       "    </tr>\n",
       "    <tr>\n",
       "      <th>3</th>\n",
       "      <td>0A0D9E15EE50B171</td>\n",
       "      <td>classic_bike</td>\n",
       "      <td>2024-01-29 16:26:17</td>\n",
       "      <td>2024-01-29 16:56:06</td>\n",
       "      <td>Wells St &amp; Randolph St</td>\n",
       "      <td>Larrabee St &amp; Webster Ave</td>\n",
       "      <td>member</td>\n",
       "    </tr>\n",
       "    <tr>\n",
       "      <th>4</th>\n",
       "      <td>33FFC9805E3EFF9A</td>\n",
       "      <td>classic_bike</td>\n",
       "      <td>2024-01-31 05:43:23</td>\n",
       "      <td>2024-01-31 06:09:35</td>\n",
       "      <td>Lincoln Ave &amp; Waveland Ave</td>\n",
       "      <td>Kingsbury St &amp; Kinzie St</td>\n",
       "      <td>member</td>\n",
       "    </tr>\n",
       "  </tbody>\n",
       "</table>\n",
       "</div>"
      ],
      "text/plain": [
       "            ride_id  rideable_type           started_at             ended_at  \\\n",
       "0  C1D650626C8C899A  electric_bike  2024-01-12 15:30:27  2024-01-12 15:37:59   \n",
       "1  EECD38BDB25BFCB0  electric_bike  2024-01-08 15:45:46  2024-01-08 15:52:59   \n",
       "2  F4A9CE78061F17F7  electric_bike  2024-01-27 12:27:19  2024-01-27 12:35:19   \n",
       "3  0A0D9E15EE50B171   classic_bike  2024-01-29 16:26:17  2024-01-29 16:56:06   \n",
       "4  33FFC9805E3EFF9A   classic_bike  2024-01-31 05:43:23  2024-01-31 06:09:35   \n",
       "\n",
       "           start_station_name           end_station_name member_casual  \n",
       "0           Wells St & Elm St   Kingsbury St & Kinzie St        member  \n",
       "1           Wells St & Elm St   Kingsbury St & Kinzie St        member  \n",
       "2           Wells St & Elm St   Kingsbury St & Kinzie St        member  \n",
       "3      Wells St & Randolph St  Larrabee St & Webster Ave        member  \n",
       "4  Lincoln Ave & Waveland Ave   Kingsbury St & Kinzie St        member  "
      ]
     },
     "execution_count": 72,
     "metadata": {},
     "output_type": "execute_result"
    }
   ],
   "source": [
    "revelant_cols_df = df[['ride_id', 'rideable_type', 'started_at', 'ended_at', 'start_station_name', 'end_station_name', 'member_casual']].copy()\n",
    "revelant_cols_df.head()"
   ]
  },
  {
   "cell_type": "markdown",
   "id": "84f140f1",
   "metadata": {},
   "source": [
    "### Efficient datatypes conversion "
   ]
  },
  {
   "cell_type": "code",
   "execution_count": 73,
   "id": "0ca39ad1",
   "metadata": {},
   "outputs": [
    {
     "data": {
      "text/plain": [
       "ride_id               string[pyarrow]\n",
       "rideable_type                category\n",
       "started_at             datetime64[ns]\n",
       "ended_at               datetime64[ns]\n",
       "start_station_name           category\n",
       "end_station_name             category\n",
       "member_casual                category\n",
       "dtype: object"
      ]
     },
     "execution_count": 73,
     "metadata": {},
     "output_type": "execute_result"
    }
   ],
   "source": [
    "schema = {\n",
    "    'ride_id': 'string[pyarrow]',\n",
    "    'rideable_type': 'category',\n",
    "    'started_at': 'datetime64[ns]',\n",
    "    'ended_at': 'datetime64[ns]',\n",
    "    'start_station_name': 'category',\n",
    "    'end_station_name': 'category',\n",
    "    'member_casual': 'category'\n",
    "}\n",
    "\n",
    "cast_df = revelant_cols_df.astype(schema).copy()\n",
    "cast_df.dtypes"
   ]
  },
  {
   "cell_type": "markdown",
   "id": "d45fca91",
   "metadata": {},
   "source": [
    "### Memory usage comparison"
   ]
  },
  {
   "cell_type": "code",
   "execution_count": 74,
   "id": "4d5cee2a",
   "metadata": {},
   "outputs": [
    {
     "name": "stdout",
     "output_type": "stream",
     "text": [
      "<class 'pandas.core.frame.DataFrame'>\n",
      "Index: 5860568 entries, 0 to 178371\n",
      "Data columns (total 13 columns):\n",
      " #   Column              Dtype  \n",
      "---  ------              -----  \n",
      " 0   ride_id             object \n",
      " 1   rideable_type       object \n",
      " 2   started_at          object \n",
      " 3   ended_at            object \n",
      " 4   start_station_name  object \n",
      " 5   start_station_id    object \n",
      " 6   end_station_name    object \n",
      " 7   end_station_id      object \n",
      " 8   start_lat           float64\n",
      " 9   start_lng           float64\n",
      " 10  end_lat             float64\n",
      " 11  end_lng             float64\n",
      " 12  member_casual       object \n",
      "dtypes: float64(4), object(9)\n",
      "memory usage: 3.3 GB\n"
     ]
    }
   ],
   "source": [
    "df.info(memory_usage='deep')"
   ]
  },
  {
   "cell_type": "code",
   "execution_count": 75,
   "id": "b85452c5",
   "metadata": {},
   "outputs": [
    {
     "name": "stdout",
     "output_type": "stream",
     "text": [
      "<class 'pandas.core.frame.DataFrame'>\n",
      "Index: 5860568 entries, 0 to 178371\n",
      "Data columns (total 7 columns):\n",
      " #   Column              Dtype         \n",
      "---  ------              -----         \n",
      " 0   ride_id             string        \n",
      " 1   rideable_type       category      \n",
      " 2   started_at          datetime64[ns]\n",
      " 3   ended_at            datetime64[ns]\n",
      " 4   start_station_name  category      \n",
      " 5   end_station_name    category      \n",
      " 6   member_casual       category      \n",
      "dtypes: category(4), datetime64[ns](2), string(1)\n",
      "memory usage: 302.2 MB\n"
     ]
    }
   ],
   "source": [
    "cast_df.info(memory_usage='deep')"
   ]
  },
  {
   "cell_type": "markdown",
   "id": "53334477",
   "metadata": {},
   "source": [
    "# Process\n",
    "\n",
    "## Preliminary data analysis"
   ]
  },
  {
   "cell_type": "code",
   "execution_count": 76,
   "id": "7facac25",
   "metadata": {},
   "outputs": [
    {
     "data": {
      "text/plain": [
       "(5860568, 7)"
      ]
     },
     "execution_count": 76,
     "metadata": {},
     "output_type": "execute_result"
    }
   ],
   "source": [
    "cast_df.shape"
   ]
  },
  {
   "cell_type": "code",
   "execution_count": 77,
   "id": "81a262fc",
   "metadata": {},
   "outputs": [
    {
     "data": {
      "text/html": [
       "<div>\n",
       "<style scoped>\n",
       "    .dataframe tbody tr th:only-of-type {\n",
       "        vertical-align: middle;\n",
       "    }\n",
       "\n",
       "    .dataframe tbody tr th {\n",
       "        vertical-align: top;\n",
       "    }\n",
       "\n",
       "    .dataframe thead th {\n",
       "        text-align: right;\n",
       "    }\n",
       "</style>\n",
       "<table border=\"1\" class=\"dataframe\">\n",
       "  <thead>\n",
       "    <tr style=\"text-align: right;\">\n",
       "      <th></th>\n",
       "      <th>ride_id</th>\n",
       "      <th>rideable_type</th>\n",
       "      <th>started_at</th>\n",
       "      <th>ended_at</th>\n",
       "      <th>start_station_name</th>\n",
       "      <th>end_station_name</th>\n",
       "      <th>member_casual</th>\n",
       "    </tr>\n",
       "  </thead>\n",
       "  <tbody>\n",
       "    <tr>\n",
       "      <th>0</th>\n",
       "      <td>C1D650626C8C899A</td>\n",
       "      <td>electric_bike</td>\n",
       "      <td>2024-01-12 15:30:27</td>\n",
       "      <td>2024-01-12 15:37:59</td>\n",
       "      <td>Wells St &amp; Elm St</td>\n",
       "      <td>Kingsbury St &amp; Kinzie St</td>\n",
       "      <td>member</td>\n",
       "    </tr>\n",
       "    <tr>\n",
       "      <th>1</th>\n",
       "      <td>EECD38BDB25BFCB0</td>\n",
       "      <td>electric_bike</td>\n",
       "      <td>2024-01-08 15:45:46</td>\n",
       "      <td>2024-01-08 15:52:59</td>\n",
       "      <td>Wells St &amp; Elm St</td>\n",
       "      <td>Kingsbury St &amp; Kinzie St</td>\n",
       "      <td>member</td>\n",
       "    </tr>\n",
       "    <tr>\n",
       "      <th>2</th>\n",
       "      <td>F4A9CE78061F17F7</td>\n",
       "      <td>electric_bike</td>\n",
       "      <td>2024-01-27 12:27:19</td>\n",
       "      <td>2024-01-27 12:35:19</td>\n",
       "      <td>Wells St &amp; Elm St</td>\n",
       "      <td>Kingsbury St &amp; Kinzie St</td>\n",
       "      <td>member</td>\n",
       "    </tr>\n",
       "    <tr>\n",
       "      <th>3</th>\n",
       "      <td>0A0D9E15EE50B171</td>\n",
       "      <td>classic_bike</td>\n",
       "      <td>2024-01-29 16:26:17</td>\n",
       "      <td>2024-01-29 16:56:06</td>\n",
       "      <td>Wells St &amp; Randolph St</td>\n",
       "      <td>Larrabee St &amp; Webster Ave</td>\n",
       "      <td>member</td>\n",
       "    </tr>\n",
       "    <tr>\n",
       "      <th>4</th>\n",
       "      <td>33FFC9805E3EFF9A</td>\n",
       "      <td>classic_bike</td>\n",
       "      <td>2024-01-31 05:43:23</td>\n",
       "      <td>2024-01-31 06:09:35</td>\n",
       "      <td>Lincoln Ave &amp; Waveland Ave</td>\n",
       "      <td>Kingsbury St &amp; Kinzie St</td>\n",
       "      <td>member</td>\n",
       "    </tr>\n",
       "    <tr>\n",
       "      <th>5</th>\n",
       "      <td>C96080812CD285C5</td>\n",
       "      <td>classic_bike</td>\n",
       "      <td>2024-01-07 11:21:24</td>\n",
       "      <td>2024-01-07 11:30:03</td>\n",
       "      <td>Wells St &amp; Elm St</td>\n",
       "      <td>Kingsbury St &amp; Kinzie St</td>\n",
       "      <td>member</td>\n",
       "    </tr>\n",
       "    <tr>\n",
       "      <th>6</th>\n",
       "      <td>0EA7CB313D4F456A</td>\n",
       "      <td>classic_bike</td>\n",
       "      <td>2024-01-05 14:44:12</td>\n",
       "      <td>2024-01-05 14:53:06</td>\n",
       "      <td>Wells St &amp; Elm St</td>\n",
       "      <td>Kingsbury St &amp; Kinzie St</td>\n",
       "      <td>member</td>\n",
       "    </tr>\n",
       "    <tr>\n",
       "      <th>7</th>\n",
       "      <td>EE11F3A3B39CFBD8</td>\n",
       "      <td>electric_bike</td>\n",
       "      <td>2024-01-04 18:19:53</td>\n",
       "      <td>2024-01-04 18:28:04</td>\n",
       "      <td>Wells St &amp; Elm St</td>\n",
       "      <td>Kingsbury St &amp; Kinzie St</td>\n",
       "      <td>member</td>\n",
       "    </tr>\n",
       "    <tr>\n",
       "      <th>8</th>\n",
       "      <td>63E83DE8E3279F15</td>\n",
       "      <td>classic_bike</td>\n",
       "      <td>2024-01-01 14:46:53</td>\n",
       "      <td>2024-01-01 14:57:02</td>\n",
       "      <td>Wells St &amp; Elm St</td>\n",
       "      <td>Kingsbury St &amp; Kinzie St</td>\n",
       "      <td>member</td>\n",
       "    </tr>\n",
       "    <tr>\n",
       "      <th>9</th>\n",
       "      <td>8005682869122D93</td>\n",
       "      <td>electric_bike</td>\n",
       "      <td>2024-01-03 19:31:08</td>\n",
       "      <td>2024-01-03 19:40:05</td>\n",
       "      <td>Clark St &amp; Ida B Wells Dr</td>\n",
       "      <td>Kingsbury St &amp; Kinzie St</td>\n",
       "      <td>member</td>\n",
       "    </tr>\n",
       "  </tbody>\n",
       "</table>\n",
       "</div>"
      ],
      "text/plain": [
       "            ride_id  rideable_type          started_at            ended_at  \\\n",
       "0  C1D650626C8C899A  electric_bike 2024-01-12 15:30:27 2024-01-12 15:37:59   \n",
       "1  EECD38BDB25BFCB0  electric_bike 2024-01-08 15:45:46 2024-01-08 15:52:59   \n",
       "2  F4A9CE78061F17F7  electric_bike 2024-01-27 12:27:19 2024-01-27 12:35:19   \n",
       "3  0A0D9E15EE50B171   classic_bike 2024-01-29 16:26:17 2024-01-29 16:56:06   \n",
       "4  33FFC9805E3EFF9A   classic_bike 2024-01-31 05:43:23 2024-01-31 06:09:35   \n",
       "5  C96080812CD285C5   classic_bike 2024-01-07 11:21:24 2024-01-07 11:30:03   \n",
       "6  0EA7CB313D4F456A   classic_bike 2024-01-05 14:44:12 2024-01-05 14:53:06   \n",
       "7  EE11F3A3B39CFBD8  electric_bike 2024-01-04 18:19:53 2024-01-04 18:28:04   \n",
       "8  63E83DE8E3279F15   classic_bike 2024-01-01 14:46:53 2024-01-01 14:57:02   \n",
       "9  8005682869122D93  electric_bike 2024-01-03 19:31:08 2024-01-03 19:40:05   \n",
       "\n",
       "           start_station_name           end_station_name member_casual  \n",
       "0           Wells St & Elm St   Kingsbury St & Kinzie St        member  \n",
       "1           Wells St & Elm St   Kingsbury St & Kinzie St        member  \n",
       "2           Wells St & Elm St   Kingsbury St & Kinzie St        member  \n",
       "3      Wells St & Randolph St  Larrabee St & Webster Ave        member  \n",
       "4  Lincoln Ave & Waveland Ave   Kingsbury St & Kinzie St        member  \n",
       "5           Wells St & Elm St   Kingsbury St & Kinzie St        member  \n",
       "6           Wells St & Elm St   Kingsbury St & Kinzie St        member  \n",
       "7           Wells St & Elm St   Kingsbury St & Kinzie St        member  \n",
       "8           Wells St & Elm St   Kingsbury St & Kinzie St        member  \n",
       "9   Clark St & Ida B Wells Dr   Kingsbury St & Kinzie St        member  "
      ]
     },
     "execution_count": 77,
     "metadata": {},
     "output_type": "execute_result"
    }
   ],
   "source": [
    "cast_df.head(10)"
   ]
  },
  {
   "cell_type": "code",
   "execution_count": 78,
   "id": "0d5e592e",
   "metadata": {},
   "outputs": [
    {
     "data": {
      "text/plain": [
       "Index(['ride_id', 'rideable_type', 'started_at', 'ended_at',\n",
       "       'start_station_name', 'end_station_name', 'member_casual'],\n",
       "      dtype='object')"
      ]
     },
     "execution_count": 78,
     "metadata": {},
     "output_type": "execute_result"
    }
   ],
   "source": [
    "cast_df.columns"
   ]
  },
  {
   "cell_type": "code",
   "execution_count": 79,
   "id": "7f8a636c",
   "metadata": {},
   "outputs": [
    {
     "data": {
      "text/html": [
       "<div>\n",
       "<style scoped>\n",
       "    .dataframe tbody tr th:only-of-type {\n",
       "        vertical-align: middle;\n",
       "    }\n",
       "\n",
       "    .dataframe tbody tr th {\n",
       "        vertical-align: top;\n",
       "    }\n",
       "\n",
       "    .dataframe thead th {\n",
       "        text-align: right;\n",
       "    }\n",
       "</style>\n",
       "<table border=\"1\" class=\"dataframe\">\n",
       "  <thead>\n",
       "    <tr style=\"text-align: right;\">\n",
       "      <th></th>\n",
       "      <th>started_at</th>\n",
       "      <th>ended_at</th>\n",
       "    </tr>\n",
       "  </thead>\n",
       "  <tbody>\n",
       "    <tr>\n",
       "      <th>count</th>\n",
       "      <td>5860568</td>\n",
       "      <td>5860568</td>\n",
       "    </tr>\n",
       "    <tr>\n",
       "      <th>mean</th>\n",
       "      <td>2024-07-17 07:55:47.617262848</td>\n",
       "      <td>2024-07-17 08:13:06.552330496</td>\n",
       "    </tr>\n",
       "    <tr>\n",
       "      <th>min</th>\n",
       "      <td>2024-01-01 00:00:39</td>\n",
       "      <td>2024-01-01 00:04:20</td>\n",
       "    </tr>\n",
       "    <tr>\n",
       "      <th>25%</th>\n",
       "      <td>2024-05-20 19:47:53</td>\n",
       "      <td>2024-05-20 20:07:54.750000128</td>\n",
       "    </tr>\n",
       "    <tr>\n",
       "      <th>50%</th>\n",
       "      <td>2024-07-22 20:36:16.283500032</td>\n",
       "      <td>2024-07-22 20:53:59.158500096</td>\n",
       "    </tr>\n",
       "    <tr>\n",
       "      <th>75%</th>\n",
       "      <td>2024-09-17 20:14:22.566249984</td>\n",
       "      <td>2024-09-17 20:27:46.025999872</td>\n",
       "    </tr>\n",
       "    <tr>\n",
       "      <th>max</th>\n",
       "      <td>2024-12-31 23:56:49.854000</td>\n",
       "      <td>2024-12-31 23:59:55.705000</td>\n",
       "    </tr>\n",
       "  </tbody>\n",
       "</table>\n",
       "</div>"
      ],
      "text/plain": [
       "                          started_at                       ended_at\n",
       "count                        5860568                        5860568\n",
       "mean   2024-07-17 07:55:47.617262848  2024-07-17 08:13:06.552330496\n",
       "min              2024-01-01 00:00:39            2024-01-01 00:04:20\n",
       "25%              2024-05-20 19:47:53  2024-05-20 20:07:54.750000128\n",
       "50%    2024-07-22 20:36:16.283500032  2024-07-22 20:53:59.158500096\n",
       "75%    2024-09-17 20:14:22.566249984  2024-09-17 20:27:46.025999872\n",
       "max       2024-12-31 23:56:49.854000     2024-12-31 23:59:55.705000"
      ]
     },
     "execution_count": 79,
     "metadata": {},
     "output_type": "execute_result"
    }
   ],
   "source": [
    "cast_df.describe()"
   ]
  },
  {
   "cell_type": "markdown",
   "id": "2c9fba6f",
   "metadata": {},
   "source": [
    "## Check for N/A values and duplicates"
   ]
  },
  {
   "cell_type": "markdown",
   "id": "686452b2",
   "metadata": {},
   "source": [
    "### Check N/A"
   ]
  },
  {
   "cell_type": "code",
   "execution_count": 158,
   "id": "4cf5d91e",
   "metadata": {},
   "outputs": [
    {
     "data": {
      "text/plain": [
       "ride_id                     0\n",
       "rideable_type               0\n",
       "started_at                  0\n",
       "ended_at                    0\n",
       "start_station_name    1073951\n",
       "end_station_name      1104653\n",
       "member_casual               0\n",
       "dtype: int64"
      ]
     },
     "execution_count": 158,
     "metadata": {},
     "output_type": "execute_result"
    }
   ],
   "source": [
    "cast_df.isna().sum()"
   ]
  },
  {
   "cell_type": "markdown",
   "id": "63f1007b",
   "metadata": {},
   "source": [
    "### Assuming that rides without registered start or end station are registered by errors thus we won't take them into analysis"
   ]
  },
  {
   "cell_type": "code",
   "execution_count": 249,
   "id": "5e95b84d",
   "metadata": {},
   "outputs": [],
   "source": [
    "clean_df = cast_df.dropna().copy()"
   ]
  },
  {
   "cell_type": "markdown",
   "id": "487f43b3",
   "metadata": {},
   "source": [
    "### Checking for duplicated with the same ride id"
   ]
  },
  {
   "cell_type": "code",
   "execution_count": 250,
   "id": "80e6b45f",
   "metadata": {},
   "outputs": [
    {
     "data": {
      "text/html": [
       "<div>\n",
       "<style scoped>\n",
       "    .dataframe tbody tr th:only-of-type {\n",
       "        vertical-align: middle;\n",
       "    }\n",
       "\n",
       "    .dataframe tbody tr th {\n",
       "        vertical-align: top;\n",
       "    }\n",
       "\n",
       "    .dataframe thead th {\n",
       "        text-align: right;\n",
       "    }\n",
       "</style>\n",
       "<table border=\"1\" class=\"dataframe\">\n",
       "  <thead>\n",
       "    <tr style=\"text-align: right;\">\n",
       "      <th></th>\n",
       "      <th>ride_id</th>\n",
       "      <th>rideable_type</th>\n",
       "      <th>started_at</th>\n",
       "      <th>ended_at</th>\n",
       "      <th>start_station_name</th>\n",
       "      <th>end_station_name</th>\n",
       "      <th>member_casual</th>\n",
       "    </tr>\n",
       "  </thead>\n",
       "  <tbody>\n",
       "    <tr>\n",
       "      <th>943</th>\n",
       "      <td>2C772EDDDBDEFDA3</td>\n",
       "      <td>electric_bike</td>\n",
       "      <td>2024-05-31 23:42:42.000</td>\n",
       "      <td>2024-06-01 00:25:08.000</td>\n",
       "      <td>Dearborn St &amp; Van Buren St</td>\n",
       "      <td>DuSable Lake Shore Dr &amp; Monroe St</td>\n",
       "      <td>casual</td>\n",
       "    </tr>\n",
       "    <tr>\n",
       "      <th>17181</th>\n",
       "      <td>7BC67FD33887B3CB</td>\n",
       "      <td>classic_bike</td>\n",
       "      <td>2024-05-31 22:54:20.000</td>\n",
       "      <td>2024-06-01 00:42:41.000</td>\n",
       "      <td>Burnham Harbor</td>\n",
       "      <td>St. Louis Ave &amp; Fullerton Ave</td>\n",
       "      <td>casual</td>\n",
       "    </tr>\n",
       "    <tr>\n",
       "      <th>20441</th>\n",
       "      <td>43CD52984AD22D99</td>\n",
       "      <td>electric_bike</td>\n",
       "      <td>2024-05-31 23:45:51.000</td>\n",
       "      <td>2024-06-01 00:11:46.000</td>\n",
       "      <td>Wentworth Ave &amp; Cermak Rd*</td>\n",
       "      <td>Loomis St &amp; Lexington St</td>\n",
       "      <td>member</td>\n",
       "    </tr>\n",
       "    <tr>\n",
       "      <th>22451</th>\n",
       "      <td>ABBD88BEBC1431FF</td>\n",
       "      <td>electric_bike</td>\n",
       "      <td>2024-05-31 23:20:35.000</td>\n",
       "      <td>2024-06-01 00:33:41.000</td>\n",
       "      <td>McClurg Ct &amp; Erie St</td>\n",
       "      <td>McClurg Ct &amp; Erie St</td>\n",
       "      <td>casual</td>\n",
       "    </tr>\n",
       "    <tr>\n",
       "      <th>25437</th>\n",
       "      <td>CA12CCDD359DA80C</td>\n",
       "      <td>classic_bike</td>\n",
       "      <td>2024-05-31 23:54:35.000</td>\n",
       "      <td>2024-06-01 00:01:25.000</td>\n",
       "      <td>Halsted St &amp; Archer Ave</td>\n",
       "      <td>Morgan St &amp; 31st St</td>\n",
       "      <td>casual</td>\n",
       "    </tr>\n",
       "    <tr>\n",
       "      <th>...</th>\n",
       "      <td>...</td>\n",
       "      <td>...</td>\n",
       "      <td>...</td>\n",
       "      <td>...</td>\n",
       "      <td>...</td>\n",
       "      <td>...</td>\n",
       "      <td>...</td>\n",
       "    </tr>\n",
       "    <tr>\n",
       "      <th>627078</th>\n",
       "      <td>2F6D74102A4FFFD6</td>\n",
       "      <td>classic_bike</td>\n",
       "      <td>2024-05-31 23:45:59.789</td>\n",
       "      <td>2024-06-01 00:11:51.768</td>\n",
       "      <td>Morgan St &amp; Lake St*</td>\n",
       "      <td>LaSalle Dr &amp; Huron St</td>\n",
       "      <td>member</td>\n",
       "    </tr>\n",
       "    <tr>\n",
       "      <th>627085</th>\n",
       "      <td>6ED3DDF49B9EE461</td>\n",
       "      <td>classic_bike</td>\n",
       "      <td>2024-05-31 23:48:38.271</td>\n",
       "      <td>2024-06-01 00:13:31.085</td>\n",
       "      <td>Morgan St &amp; Lake St*</td>\n",
       "      <td>LaSalle Dr &amp; Huron St</td>\n",
       "      <td>casual</td>\n",
       "    </tr>\n",
       "    <tr>\n",
       "      <th>627733</th>\n",
       "      <td>43637BA11F2DAA42</td>\n",
       "      <td>classic_bike</td>\n",
       "      <td>2024-05-31 20:27:14.662</td>\n",
       "      <td>2024-06-01 13:28:51.261</td>\n",
       "      <td>Dearborn St &amp; Erie St</td>\n",
       "      <td>Broadway &amp; Cornelia Ave</td>\n",
       "      <td>casual</td>\n",
       "    </tr>\n",
       "    <tr>\n",
       "      <th>632558</th>\n",
       "      <td>07DBFDA3C91006AE</td>\n",
       "      <td>classic_bike</td>\n",
       "      <td>2024-05-31 22:35:31.362</td>\n",
       "      <td>2024-06-01 09:05:13.160</td>\n",
       "      <td>Western Ave &amp; Walton St</td>\n",
       "      <td>Western Ave &amp; Walton St</td>\n",
       "      <td>casual</td>\n",
       "    </tr>\n",
       "    <tr>\n",
       "      <th>633674</th>\n",
       "      <td>657D12F170F26244</td>\n",
       "      <td>classic_bike</td>\n",
       "      <td>2024-05-31 23:48:30.810</td>\n",
       "      <td>2024-06-01 00:13:35.454</td>\n",
       "      <td>Damen Ave &amp; Cortland St</td>\n",
       "      <td>Clark St &amp; Leland Ave</td>\n",
       "      <td>casual</td>\n",
       "    </tr>\n",
       "  </tbody>\n",
       "</table>\n",
       "<p>242 rows × 7 columns</p>\n",
       "</div>"
      ],
      "text/plain": [
       "                 ride_id  rideable_type              started_at  \\\n",
       "943     2C772EDDDBDEFDA3  electric_bike 2024-05-31 23:42:42.000   \n",
       "17181   7BC67FD33887B3CB   classic_bike 2024-05-31 22:54:20.000   \n",
       "20441   43CD52984AD22D99  electric_bike 2024-05-31 23:45:51.000   \n",
       "22451   ABBD88BEBC1431FF  electric_bike 2024-05-31 23:20:35.000   \n",
       "25437   CA12CCDD359DA80C   classic_bike 2024-05-31 23:54:35.000   \n",
       "...                  ...            ...                     ...   \n",
       "627078  2F6D74102A4FFFD6   classic_bike 2024-05-31 23:45:59.789   \n",
       "627085  6ED3DDF49B9EE461   classic_bike 2024-05-31 23:48:38.271   \n",
       "627733  43637BA11F2DAA42   classic_bike 2024-05-31 20:27:14.662   \n",
       "632558  07DBFDA3C91006AE   classic_bike 2024-05-31 22:35:31.362   \n",
       "633674  657D12F170F26244   classic_bike 2024-05-31 23:48:30.810   \n",
       "\n",
       "                      ended_at          start_station_name  \\\n",
       "943    2024-06-01 00:25:08.000  Dearborn St & Van Buren St   \n",
       "17181  2024-06-01 00:42:41.000              Burnham Harbor   \n",
       "20441  2024-06-01 00:11:46.000  Wentworth Ave & Cermak Rd*   \n",
       "22451  2024-06-01 00:33:41.000        McClurg Ct & Erie St   \n",
       "25437  2024-06-01 00:01:25.000     Halsted St & Archer Ave   \n",
       "...                        ...                         ...   \n",
       "627078 2024-06-01 00:11:51.768        Morgan St & Lake St*   \n",
       "627085 2024-06-01 00:13:31.085        Morgan St & Lake St*   \n",
       "627733 2024-06-01 13:28:51.261       Dearborn St & Erie St   \n",
       "632558 2024-06-01 09:05:13.160     Western Ave & Walton St   \n",
       "633674 2024-06-01 00:13:35.454     Damen Ave & Cortland St   \n",
       "\n",
       "                         end_station_name member_casual  \n",
       "943     DuSable Lake Shore Dr & Monroe St        casual  \n",
       "17181       St. Louis Ave & Fullerton Ave        casual  \n",
       "20441            Loomis St & Lexington St        member  \n",
       "22451                McClurg Ct & Erie St        casual  \n",
       "25437                 Morgan St & 31st St        casual  \n",
       "...                                   ...           ...  \n",
       "627078              LaSalle Dr & Huron St        member  \n",
       "627085              LaSalle Dr & Huron St        casual  \n",
       "627733            Broadway & Cornelia Ave        casual  \n",
       "632558            Western Ave & Walton St        casual  \n",
       "633674              Clark St & Leland Ave        casual  \n",
       "\n",
       "[242 rows x 7 columns]"
      ]
     },
     "execution_count": 250,
     "metadata": {},
     "output_type": "execute_result"
    }
   ],
   "source": [
    "clean_df.loc[clean_df.duplicated(subset=['ride_id'], keep=False)]"
   ]
  },
  {
   "cell_type": "code",
   "execution_count": 251,
   "id": "01af4486",
   "metadata": {},
   "outputs": [],
   "source": [
    "clean_df = clean_df.drop_duplicates(subset=['ride_id']).copy()"
   ]
  },
  {
   "cell_type": "markdown",
   "id": "b04210d8",
   "metadata": {},
   "source": [
    "### Checking for stations that have same start time, end time, start station and end station"
   ]
  },
  {
   "cell_type": "code",
   "execution_count": 252,
   "id": "dd66dcb5",
   "metadata": {},
   "outputs": [
    {
     "data": {
      "text/html": [
       "<div>\n",
       "<style scoped>\n",
       "    .dataframe tbody tr th:only-of-type {\n",
       "        vertical-align: middle;\n",
       "    }\n",
       "\n",
       "    .dataframe tbody tr th {\n",
       "        vertical-align: top;\n",
       "    }\n",
       "\n",
       "    .dataframe thead th {\n",
       "        text-align: right;\n",
       "    }\n",
       "</style>\n",
       "<table border=\"1\" class=\"dataframe\">\n",
       "  <thead>\n",
       "    <tr style=\"text-align: right;\">\n",
       "      <th></th>\n",
       "      <th>ride_id</th>\n",
       "      <th>rideable_type</th>\n",
       "      <th>started_at</th>\n",
       "      <th>ended_at</th>\n",
       "      <th>start_station_name</th>\n",
       "      <th>end_station_name</th>\n",
       "      <th>member_casual</th>\n",
       "    </tr>\n",
       "  </thead>\n",
       "  <tbody>\n",
       "    <tr>\n",
       "      <th>102692</th>\n",
       "      <td>D3CE8F069C526B23</td>\n",
       "      <td>classic_bike</td>\n",
       "      <td>2024-01-30 20:27:57</td>\n",
       "      <td>2024-01-30 20:50:51</td>\n",
       "      <td>Canal St &amp; Adams St</td>\n",
       "      <td>State St &amp; Randolph St</td>\n",
       "      <td>member</td>\n",
       "    </tr>\n",
       "    <tr>\n",
       "      <th>102754</th>\n",
       "      <td>BD06A0FDAC1D1183</td>\n",
       "      <td>classic_bike</td>\n",
       "      <td>2024-01-30 20:27:57</td>\n",
       "      <td>2024-01-30 20:50:51</td>\n",
       "      <td>Canal St &amp; Adams St</td>\n",
       "      <td>State St &amp; Randolph St</td>\n",
       "      <td>member</td>\n",
       "    </tr>\n",
       "    <tr>\n",
       "      <th>71207</th>\n",
       "      <td>A47F1F8E79A156BC</td>\n",
       "      <td>classic_bike</td>\n",
       "      <td>2024-02-27 13:40:53</td>\n",
       "      <td>2024-02-27 13:57:21</td>\n",
       "      <td>McClurg Ct &amp; Erie St</td>\n",
       "      <td>Halsted St &amp; Clybourn Ave</td>\n",
       "      <td>casual</td>\n",
       "    </tr>\n",
       "    <tr>\n",
       "      <th>165886</th>\n",
       "      <td>36EE4451474A3DC0</td>\n",
       "      <td>classic_bike</td>\n",
       "      <td>2024-02-27 13:40:53</td>\n",
       "      <td>2024-02-27 13:57:21</td>\n",
       "      <td>McClurg Ct &amp; Erie St</td>\n",
       "      <td>Halsted St &amp; Clybourn Ave</td>\n",
       "      <td>casual</td>\n",
       "    </tr>\n",
       "  </tbody>\n",
       "</table>\n",
       "</div>"
      ],
      "text/plain": [
       "                 ride_id rideable_type          started_at  \\\n",
       "102692  D3CE8F069C526B23  classic_bike 2024-01-30 20:27:57   \n",
       "102754  BD06A0FDAC1D1183  classic_bike 2024-01-30 20:27:57   \n",
       "71207   A47F1F8E79A156BC  classic_bike 2024-02-27 13:40:53   \n",
       "165886  36EE4451474A3DC0  classic_bike 2024-02-27 13:40:53   \n",
       "\n",
       "                  ended_at    start_station_name           end_station_name  \\\n",
       "102692 2024-01-30 20:50:51   Canal St & Adams St     State St & Randolph St   \n",
       "102754 2024-01-30 20:50:51   Canal St & Adams St     State St & Randolph St   \n",
       "71207  2024-02-27 13:57:21  McClurg Ct & Erie St  Halsted St & Clybourn Ave   \n",
       "165886 2024-02-27 13:57:21  McClurg Ct & Erie St  Halsted St & Clybourn Ave   \n",
       "\n",
       "       member_casual  \n",
       "102692        member  \n",
       "102754        member  \n",
       "71207         casual  \n",
       "165886        casual  "
      ]
     },
     "execution_count": 252,
     "metadata": {},
     "output_type": "execute_result"
    }
   ],
   "source": [
    "clean_df.loc[clean_df.duplicated(subset=['started_at', 'ended_at', 'start_station_name', 'end_station_name'], keep=False)]"
   ]
  },
  {
   "cell_type": "code",
   "execution_count": 253,
   "id": "1ecdc70c",
   "metadata": {},
   "outputs": [],
   "source": [
    "clean_df = clean_df.drop_duplicates(subset=['started_at', 'ended_at', 'start_station_name', 'end_station_name']).copy()"
   ]
  },
  {
   "cell_type": "markdown",
   "id": "b151d76c",
   "metadata": {},
   "source": [
    "### Checking for stations that have same start time, end time, start station or end station\n",
    "Whenever those records need to be deleted, consultation with someone from the company is required to determine if the given station can hold more than two bikes."
   ]
  },
  {
   "cell_type": "code",
   "execution_count": 254,
   "id": "96d4c120",
   "metadata": {},
   "outputs": [
    {
     "data": {
      "text/html": [
       "<div>\n",
       "<style scoped>\n",
       "    .dataframe tbody tr th:only-of-type {\n",
       "        vertical-align: middle;\n",
       "    }\n",
       "\n",
       "    .dataframe tbody tr th {\n",
       "        vertical-align: top;\n",
       "    }\n",
       "\n",
       "    .dataframe thead th {\n",
       "        text-align: right;\n",
       "    }\n",
       "</style>\n",
       "<table border=\"1\" class=\"dataframe\">\n",
       "  <thead>\n",
       "    <tr style=\"text-align: right;\">\n",
       "      <th></th>\n",
       "      <th>ride_id</th>\n",
       "      <th>rideable_type</th>\n",
       "      <th>started_at</th>\n",
       "      <th>ended_at</th>\n",
       "      <th>start_station_name</th>\n",
       "      <th>end_station_name</th>\n",
       "      <th>member_casual</th>\n",
       "    </tr>\n",
       "  </thead>\n",
       "  <tbody>\n",
       "  </tbody>\n",
       "</table>\n",
       "</div>"
      ],
      "text/plain": [
       "Empty DataFrame\n",
       "Columns: [ride_id, rideable_type, started_at, ended_at, start_station_name, end_station_name, member_casual]\n",
       "Index: []"
      ]
     },
     "execution_count": 254,
     "metadata": {},
     "output_type": "execute_result"
    }
   ],
   "source": [
    "clean_df.loc[clean_df.duplicated(subset=['started_at', 'ended_at', 'start_station_name'], keep=False)]"
   ]
  },
  {
   "cell_type": "code",
   "execution_count": 255,
   "id": "d105b631",
   "metadata": {},
   "outputs": [
    {
     "data": {
      "text/html": [
       "<div>\n",
       "<style scoped>\n",
       "    .dataframe tbody tr th:only-of-type {\n",
       "        vertical-align: middle;\n",
       "    }\n",
       "\n",
       "    .dataframe tbody tr th {\n",
       "        vertical-align: top;\n",
       "    }\n",
       "\n",
       "    .dataframe thead th {\n",
       "        text-align: right;\n",
       "    }\n",
       "</style>\n",
       "<table border=\"1\" class=\"dataframe\">\n",
       "  <thead>\n",
       "    <tr style=\"text-align: right;\">\n",
       "      <th></th>\n",
       "      <th>ride_id</th>\n",
       "      <th>rideable_type</th>\n",
       "      <th>started_at</th>\n",
       "      <th>ended_at</th>\n",
       "      <th>start_station_name</th>\n",
       "      <th>end_station_name</th>\n",
       "      <th>member_casual</th>\n",
       "    </tr>\n",
       "  </thead>\n",
       "  <tbody>\n",
       "    <tr>\n",
       "      <th>102616</th>\n",
       "      <td>48AB680D63B319F5</td>\n",
       "      <td>classic_bike</td>\n",
       "      <td>2024-03-04 17:36:30</td>\n",
       "      <td>2024-03-04 17:46:12</td>\n",
       "      <td>Mies van der Rohe Way &amp; Chestnut St</td>\n",
       "      <td>New St &amp; Illinois St</td>\n",
       "      <td>member</td>\n",
       "    </tr>\n",
       "    <tr>\n",
       "      <th>181898</th>\n",
       "      <td>FAA4EB520E8918AF</td>\n",
       "      <td>classic_bike</td>\n",
       "      <td>2024-03-04 17:36:30</td>\n",
       "      <td>2024-03-04 17:46:12</td>\n",
       "      <td>Wells St &amp; Huron St</td>\n",
       "      <td>New St &amp; Illinois St</td>\n",
       "      <td>member</td>\n",
       "    </tr>\n",
       "  </tbody>\n",
       "</table>\n",
       "</div>"
      ],
      "text/plain": [
       "                 ride_id rideable_type          started_at  \\\n",
       "102616  48AB680D63B319F5  classic_bike 2024-03-04 17:36:30   \n",
       "181898  FAA4EB520E8918AF  classic_bike 2024-03-04 17:36:30   \n",
       "\n",
       "                  ended_at                   start_station_name  \\\n",
       "102616 2024-03-04 17:46:12  Mies van der Rohe Way & Chestnut St   \n",
       "181898 2024-03-04 17:46:12                  Wells St & Huron St   \n",
       "\n",
       "            end_station_name member_casual  \n",
       "102616  New St & Illinois St        member  \n",
       "181898  New St & Illinois St        member  "
      ]
     },
     "execution_count": 255,
     "metadata": {},
     "output_type": "execute_result"
    }
   ],
   "source": [
    "clean_df.loc[clean_df.duplicated(subset=['started_at', 'ended_at', 'end_station_name'], keep=False)]"
   ]
  },
  {
   "cell_type": "markdown",
   "id": "98892da3",
   "metadata": {},
   "source": [
    "### Creating ride_time column that shows difference between ended_at and started_at"
   ]
  },
  {
   "cell_type": "code",
   "execution_count": 256,
   "id": "9a0ee900",
   "metadata": {},
   "outputs": [
    {
     "data": {
      "text/html": [
       "<div>\n",
       "<style scoped>\n",
       "    .dataframe tbody tr th:only-of-type {\n",
       "        vertical-align: middle;\n",
       "    }\n",
       "\n",
       "    .dataframe tbody tr th {\n",
       "        vertical-align: top;\n",
       "    }\n",
       "\n",
       "    .dataframe thead th {\n",
       "        text-align: right;\n",
       "    }\n",
       "</style>\n",
       "<table border=\"1\" class=\"dataframe\">\n",
       "  <thead>\n",
       "    <tr style=\"text-align: right;\">\n",
       "      <th></th>\n",
       "      <th>ride_id</th>\n",
       "      <th>rideable_type</th>\n",
       "      <th>started_at</th>\n",
       "      <th>ended_at</th>\n",
       "      <th>ride_time</th>\n",
       "      <th>start_station_name</th>\n",
       "      <th>end_station_name</th>\n",
       "      <th>member_casual</th>\n",
       "    </tr>\n",
       "  </thead>\n",
       "  <tbody>\n",
       "    <tr>\n",
       "      <th>0</th>\n",
       "      <td>C1D650626C8C899A</td>\n",
       "      <td>electric_bike</td>\n",
       "      <td>2024-01-12 15:30:27.000</td>\n",
       "      <td>2024-01-12 15:37:59.000</td>\n",
       "      <td>0 days 00:07:32</td>\n",
       "      <td>Wells St &amp; Elm St</td>\n",
       "      <td>Kingsbury St &amp; Kinzie St</td>\n",
       "      <td>member</td>\n",
       "    </tr>\n",
       "    <tr>\n",
       "      <th>1</th>\n",
       "      <td>EECD38BDB25BFCB0</td>\n",
       "      <td>electric_bike</td>\n",
       "      <td>2024-01-08 15:45:46.000</td>\n",
       "      <td>2024-01-08 15:52:59.000</td>\n",
       "      <td>0 days 00:07:13</td>\n",
       "      <td>Wells St &amp; Elm St</td>\n",
       "      <td>Kingsbury St &amp; Kinzie St</td>\n",
       "      <td>member</td>\n",
       "    </tr>\n",
       "    <tr>\n",
       "      <th>2</th>\n",
       "      <td>F4A9CE78061F17F7</td>\n",
       "      <td>electric_bike</td>\n",
       "      <td>2024-01-27 12:27:19.000</td>\n",
       "      <td>2024-01-27 12:35:19.000</td>\n",
       "      <td>0 days 00:08:00</td>\n",
       "      <td>Wells St &amp; Elm St</td>\n",
       "      <td>Kingsbury St &amp; Kinzie St</td>\n",
       "      <td>member</td>\n",
       "    </tr>\n",
       "    <tr>\n",
       "      <th>3</th>\n",
       "      <td>0A0D9E15EE50B171</td>\n",
       "      <td>classic_bike</td>\n",
       "      <td>2024-01-29 16:26:17.000</td>\n",
       "      <td>2024-01-29 16:56:06.000</td>\n",
       "      <td>0 days 00:29:49</td>\n",
       "      <td>Wells St &amp; Randolph St</td>\n",
       "      <td>Larrabee St &amp; Webster Ave</td>\n",
       "      <td>member</td>\n",
       "    </tr>\n",
       "    <tr>\n",
       "      <th>4</th>\n",
       "      <td>33FFC9805E3EFF9A</td>\n",
       "      <td>classic_bike</td>\n",
       "      <td>2024-01-31 05:43:23.000</td>\n",
       "      <td>2024-01-31 06:09:35.000</td>\n",
       "      <td>0 days 00:26:12</td>\n",
       "      <td>Lincoln Ave &amp; Waveland Ave</td>\n",
       "      <td>Kingsbury St &amp; Kinzie St</td>\n",
       "      <td>member</td>\n",
       "    </tr>\n",
       "    <tr>\n",
       "      <th>...</th>\n",
       "      <td>...</td>\n",
       "      <td>...</td>\n",
       "      <td>...</td>\n",
       "      <td>...</td>\n",
       "      <td>...</td>\n",
       "      <td>...</td>\n",
       "      <td>...</td>\n",
       "      <td>...</td>\n",
       "    </tr>\n",
       "    <tr>\n",
       "      <th>178363</th>\n",
       "      <td>36DAF3C93190E07F</td>\n",
       "      <td>classic_bike</td>\n",
       "      <td>2024-12-13 15:40:06.123</td>\n",
       "      <td>2024-12-13 15:46:29.553</td>\n",
       "      <td>0 days 00:06:23.430000</td>\n",
       "      <td>Albany Ave &amp; Bloomingdale Ave</td>\n",
       "      <td>California Ave &amp; Milwaukee Ave</td>\n",
       "      <td>member</td>\n",
       "    </tr>\n",
       "    <tr>\n",
       "      <th>178365</th>\n",
       "      <td>71F02C3CF79B8090</td>\n",
       "      <td>classic_bike</td>\n",
       "      <td>2024-12-17 08:09:12.581</td>\n",
       "      <td>2024-12-17 08:15:50.134</td>\n",
       "      <td>0 days 00:06:37.553000</td>\n",
       "      <td>Albany Ave &amp; Bloomingdale Ave</td>\n",
       "      <td>California Ave &amp; Milwaukee Ave</td>\n",
       "      <td>member</td>\n",
       "    </tr>\n",
       "    <tr>\n",
       "      <th>178366</th>\n",
       "      <td>85AE8840FA0E4EAB</td>\n",
       "      <td>classic_bike</td>\n",
       "      <td>2024-12-18 08:22:40.737</td>\n",
       "      <td>2024-12-18 08:29:25.021</td>\n",
       "      <td>0 days 00:06:44.284000</td>\n",
       "      <td>Albany Ave &amp; Bloomingdale Ave</td>\n",
       "      <td>California Ave &amp; Milwaukee Ave</td>\n",
       "      <td>member</td>\n",
       "    </tr>\n",
       "    <tr>\n",
       "      <th>178369</th>\n",
       "      <td>15602635C5DF484E</td>\n",
       "      <td>electric_bike</td>\n",
       "      <td>2024-12-31 17:10:03.113</td>\n",
       "      <td>2024-12-31 17:17:21.838</td>\n",
       "      <td>0 days 00:07:18.725000</td>\n",
       "      <td>Albany Ave &amp; Bloomingdale Ave</td>\n",
       "      <td>California Ave &amp; Milwaukee Ave</td>\n",
       "      <td>member</td>\n",
       "    </tr>\n",
       "    <tr>\n",
       "      <th>178370</th>\n",
       "      <td>F15ABBA961560B75</td>\n",
       "      <td>electric_bike</td>\n",
       "      <td>2024-12-01 14:39:47.216</td>\n",
       "      <td>2024-12-01 14:45:21.268</td>\n",
       "      <td>0 days 00:05:34.052000</td>\n",
       "      <td>Albany Ave &amp; Bloomingdale Ave</td>\n",
       "      <td>California Ave &amp; Milwaukee Ave</td>\n",
       "      <td>member</td>\n",
       "    </tr>\n",
       "  </tbody>\n",
       "</table>\n",
       "<p>4208186 rows × 8 columns</p>\n",
       "</div>"
      ],
      "text/plain": [
       "                 ride_id  rideable_type              started_at  \\\n",
       "0       C1D650626C8C899A  electric_bike 2024-01-12 15:30:27.000   \n",
       "1       EECD38BDB25BFCB0  electric_bike 2024-01-08 15:45:46.000   \n",
       "2       F4A9CE78061F17F7  electric_bike 2024-01-27 12:27:19.000   \n",
       "3       0A0D9E15EE50B171   classic_bike 2024-01-29 16:26:17.000   \n",
       "4       33FFC9805E3EFF9A   classic_bike 2024-01-31 05:43:23.000   \n",
       "...                  ...            ...                     ...   \n",
       "178363  36DAF3C93190E07F   classic_bike 2024-12-13 15:40:06.123   \n",
       "178365  71F02C3CF79B8090   classic_bike 2024-12-17 08:09:12.581   \n",
       "178366  85AE8840FA0E4EAB   classic_bike 2024-12-18 08:22:40.737   \n",
       "178369  15602635C5DF484E  electric_bike 2024-12-31 17:10:03.113   \n",
       "178370  F15ABBA961560B75  electric_bike 2024-12-01 14:39:47.216   \n",
       "\n",
       "                      ended_at              ride_time  \\\n",
       "0      2024-01-12 15:37:59.000        0 days 00:07:32   \n",
       "1      2024-01-08 15:52:59.000        0 days 00:07:13   \n",
       "2      2024-01-27 12:35:19.000        0 days 00:08:00   \n",
       "3      2024-01-29 16:56:06.000        0 days 00:29:49   \n",
       "4      2024-01-31 06:09:35.000        0 days 00:26:12   \n",
       "...                        ...                    ...   \n",
       "178363 2024-12-13 15:46:29.553 0 days 00:06:23.430000   \n",
       "178365 2024-12-17 08:15:50.134 0 days 00:06:37.553000   \n",
       "178366 2024-12-18 08:29:25.021 0 days 00:06:44.284000   \n",
       "178369 2024-12-31 17:17:21.838 0 days 00:07:18.725000   \n",
       "178370 2024-12-01 14:45:21.268 0 days 00:05:34.052000   \n",
       "\n",
       "                   start_station_name                end_station_name  \\\n",
       "0                   Wells St & Elm St        Kingsbury St & Kinzie St   \n",
       "1                   Wells St & Elm St        Kingsbury St & Kinzie St   \n",
       "2                   Wells St & Elm St        Kingsbury St & Kinzie St   \n",
       "3              Wells St & Randolph St       Larrabee St & Webster Ave   \n",
       "4          Lincoln Ave & Waveland Ave        Kingsbury St & Kinzie St   \n",
       "...                               ...                             ...   \n",
       "178363  Albany Ave & Bloomingdale Ave  California Ave & Milwaukee Ave   \n",
       "178365  Albany Ave & Bloomingdale Ave  California Ave & Milwaukee Ave   \n",
       "178366  Albany Ave & Bloomingdale Ave  California Ave & Milwaukee Ave   \n",
       "178369  Albany Ave & Bloomingdale Ave  California Ave & Milwaukee Ave   \n",
       "178370  Albany Ave & Bloomingdale Ave  California Ave & Milwaukee Ave   \n",
       "\n",
       "       member_casual  \n",
       "0             member  \n",
       "1             member  \n",
       "2             member  \n",
       "3             member  \n",
       "4             member  \n",
       "...              ...  \n",
       "178363        member  \n",
       "178365        member  \n",
       "178366        member  \n",
       "178369        member  \n",
       "178370        member  \n",
       "\n",
       "[4208186 rows x 8 columns]"
      ]
     },
     "execution_count": 256,
     "metadata": {},
     "output_type": "execute_result"
    }
   ],
   "source": [
    "ride_time = clean_df['ended_at'] - clean_df['started_at']\n",
    "clean_df.insert(4, 'ride_time', ride_time)\n",
    "clean_df"
   ]
  },
  {
   "cell_type": "markdown",
   "id": "37041762",
   "metadata": {},
   "source": [
    "### Checking for rides that lasted less than 10 seconds"
   ]
  },
  {
   "cell_type": "code",
   "execution_count": 257,
   "id": "7f0861d5",
   "metadata": {},
   "outputs": [
    {
     "data": {
      "text/html": [
       "<div>\n",
       "<style scoped>\n",
       "    .dataframe tbody tr th:only-of-type {\n",
       "        vertical-align: middle;\n",
       "    }\n",
       "\n",
       "    .dataframe tbody tr th {\n",
       "        vertical-align: top;\n",
       "    }\n",
       "\n",
       "    .dataframe thead th {\n",
       "        text-align: right;\n",
       "    }\n",
       "</style>\n",
       "<table border=\"1\" class=\"dataframe\">\n",
       "  <thead>\n",
       "    <tr style=\"text-align: right;\">\n",
       "      <th></th>\n",
       "      <th>ride_id</th>\n",
       "      <th>rideable_type</th>\n",
       "      <th>started_at</th>\n",
       "      <th>ended_at</th>\n",
       "      <th>ride_time</th>\n",
       "      <th>start_station_name</th>\n",
       "      <th>end_station_name</th>\n",
       "      <th>member_casual</th>\n",
       "    </tr>\n",
       "  </thead>\n",
       "  <tbody>\n",
       "    <tr>\n",
       "      <th>3184</th>\n",
       "      <td>C1FF15F72F5E6CB9</td>\n",
       "      <td>classic_bike</td>\n",
       "      <td>2024-01-17 12:43:55.000</td>\n",
       "      <td>2024-01-17 12:44:02.000</td>\n",
       "      <td>0 days 00:00:07</td>\n",
       "      <td>Loomis St &amp; Lexington St</td>\n",
       "      <td>Loomis St &amp; Lexington St</td>\n",
       "      <td>member</td>\n",
       "    </tr>\n",
       "    <tr>\n",
       "      <th>3190</th>\n",
       "      <td>5AA3D2E8010FEF7D</td>\n",
       "      <td>classic_bike</td>\n",
       "      <td>2024-01-17 14:25:27.000</td>\n",
       "      <td>2024-01-17 14:25:29.000</td>\n",
       "      <td>0 days 00:00:02</td>\n",
       "      <td>Halsted St &amp; Wrightwood Ave</td>\n",
       "      <td>Halsted St &amp; Wrightwood Ave</td>\n",
       "      <td>member</td>\n",
       "    </tr>\n",
       "    <tr>\n",
       "      <th>3196</th>\n",
       "      <td>27E081696A03E872</td>\n",
       "      <td>classic_bike</td>\n",
       "      <td>2024-01-02 10:32:54.000</td>\n",
       "      <td>2024-01-02 10:32:56.000</td>\n",
       "      <td>0 days 00:00:02</td>\n",
       "      <td>Halsted St &amp; Wrightwood Ave</td>\n",
       "      <td>Halsted St &amp; Wrightwood Ave</td>\n",
       "      <td>member</td>\n",
       "    </tr>\n",
       "    <tr>\n",
       "      <th>3214</th>\n",
       "      <td>785A6FF31548084A</td>\n",
       "      <td>electric_bike</td>\n",
       "      <td>2024-01-09 12:08:38.000</td>\n",
       "      <td>2024-01-09 12:08:41.000</td>\n",
       "      <td>0 days 00:00:03</td>\n",
       "      <td>Public Rack - Walden Pkwy &amp; 103rd St</td>\n",
       "      <td>Public Rack - Walden Pkwy &amp; 103rd St</td>\n",
       "      <td>member</td>\n",
       "    </tr>\n",
       "    <tr>\n",
       "      <th>3888</th>\n",
       "      <td>188E0BD5237F114A</td>\n",
       "      <td>electric_bike</td>\n",
       "      <td>2024-01-13 07:59:43.000</td>\n",
       "      <td>2024-01-13 07:59:45.000</td>\n",
       "      <td>0 days 00:00:02</td>\n",
       "      <td>Milwaukee Ave &amp; Grand Ave</td>\n",
       "      <td>Milwaukee Ave &amp; Grand Ave</td>\n",
       "      <td>member</td>\n",
       "    </tr>\n",
       "    <tr>\n",
       "      <th>...</th>\n",
       "      <td>...</td>\n",
       "      <td>...</td>\n",
       "      <td>...</td>\n",
       "      <td>...</td>\n",
       "      <td>...</td>\n",
       "      <td>...</td>\n",
       "      <td>...</td>\n",
       "      <td>...</td>\n",
       "    </tr>\n",
       "    <tr>\n",
       "      <th>140459</th>\n",
       "      <td>E63529FC8E21F576</td>\n",
       "      <td>electric_bike</td>\n",
       "      <td>2024-12-12 17:32:37.347</td>\n",
       "      <td>2024-12-12 17:32:39.672</td>\n",
       "      <td>0 days 00:00:02.325000</td>\n",
       "      <td>Columbus Dr &amp; Randolph St</td>\n",
       "      <td>Columbus Dr &amp; Randolph St</td>\n",
       "      <td>member</td>\n",
       "    </tr>\n",
       "    <tr>\n",
       "      <th>144841</th>\n",
       "      <td>8EB8A2470D356A70</td>\n",
       "      <td>electric_bike</td>\n",
       "      <td>2024-12-06 08:21:21.551</td>\n",
       "      <td>2024-12-06 08:21:28.504</td>\n",
       "      <td>0 days 00:00:06.953000</td>\n",
       "      <td>Michigan Ave &amp; 14th St</td>\n",
       "      <td>Michigan Ave &amp; 14th St</td>\n",
       "      <td>member</td>\n",
       "    </tr>\n",
       "    <tr>\n",
       "      <th>144848</th>\n",
       "      <td>485D99B783F271EE</td>\n",
       "      <td>electric_bike</td>\n",
       "      <td>2024-12-24 08:00:27.583</td>\n",
       "      <td>2024-12-24 08:00:35.332</td>\n",
       "      <td>0 days 00:00:07.749000</td>\n",
       "      <td>Fairbanks Ct &amp; Grand Ave</td>\n",
       "      <td>Fairbanks Ct &amp; Grand Ave</td>\n",
       "      <td>member</td>\n",
       "    </tr>\n",
       "    <tr>\n",
       "      <th>144910</th>\n",
       "      <td>FFB5F7402AD46006</td>\n",
       "      <td>electric_bike</td>\n",
       "      <td>2024-12-20 19:20:06.577</td>\n",
       "      <td>2024-12-20 19:20:15.401</td>\n",
       "      <td>0 days 00:00:08.824000</td>\n",
       "      <td>California Ave &amp; Cortez St</td>\n",
       "      <td>California Ave &amp; Cortez St</td>\n",
       "      <td>casual</td>\n",
       "    </tr>\n",
       "    <tr>\n",
       "      <th>144914</th>\n",
       "      <td>14E97A3326EB71C6</td>\n",
       "      <td>electric_bike</td>\n",
       "      <td>2024-12-06 15:29:11.239</td>\n",
       "      <td>2024-12-06 15:29:13.149</td>\n",
       "      <td>0 days 00:00:01.910000</td>\n",
       "      <td>California Ave &amp; Cortez St</td>\n",
       "      <td>California Ave &amp; Cortez St</td>\n",
       "      <td>member</td>\n",
       "    </tr>\n",
       "  </tbody>\n",
       "</table>\n",
       "<p>9851 rows × 8 columns</p>\n",
       "</div>"
      ],
      "text/plain": [
       "                 ride_id  rideable_type              started_at  \\\n",
       "3184    C1FF15F72F5E6CB9   classic_bike 2024-01-17 12:43:55.000   \n",
       "3190    5AA3D2E8010FEF7D   classic_bike 2024-01-17 14:25:27.000   \n",
       "3196    27E081696A03E872   classic_bike 2024-01-02 10:32:54.000   \n",
       "3214    785A6FF31548084A  electric_bike 2024-01-09 12:08:38.000   \n",
       "3888    188E0BD5237F114A  electric_bike 2024-01-13 07:59:43.000   \n",
       "...                  ...            ...                     ...   \n",
       "140459  E63529FC8E21F576  electric_bike 2024-12-12 17:32:37.347   \n",
       "144841  8EB8A2470D356A70  electric_bike 2024-12-06 08:21:21.551   \n",
       "144848  485D99B783F271EE  electric_bike 2024-12-24 08:00:27.583   \n",
       "144910  FFB5F7402AD46006  electric_bike 2024-12-20 19:20:06.577   \n",
       "144914  14E97A3326EB71C6  electric_bike 2024-12-06 15:29:11.239   \n",
       "\n",
       "                      ended_at              ride_time  \\\n",
       "3184   2024-01-17 12:44:02.000        0 days 00:00:07   \n",
       "3190   2024-01-17 14:25:29.000        0 days 00:00:02   \n",
       "3196   2024-01-02 10:32:56.000        0 days 00:00:02   \n",
       "3214   2024-01-09 12:08:41.000        0 days 00:00:03   \n",
       "3888   2024-01-13 07:59:45.000        0 days 00:00:02   \n",
       "...                        ...                    ...   \n",
       "140459 2024-12-12 17:32:39.672 0 days 00:00:02.325000   \n",
       "144841 2024-12-06 08:21:28.504 0 days 00:00:06.953000   \n",
       "144848 2024-12-24 08:00:35.332 0 days 00:00:07.749000   \n",
       "144910 2024-12-20 19:20:15.401 0 days 00:00:08.824000   \n",
       "144914 2024-12-06 15:29:13.149 0 days 00:00:01.910000   \n",
       "\n",
       "                          start_station_name  \\\n",
       "3184                Loomis St & Lexington St   \n",
       "3190             Halsted St & Wrightwood Ave   \n",
       "3196             Halsted St & Wrightwood Ave   \n",
       "3214    Public Rack - Walden Pkwy & 103rd St   \n",
       "3888               Milwaukee Ave & Grand Ave   \n",
       "...                                      ...   \n",
       "140459             Columbus Dr & Randolph St   \n",
       "144841                Michigan Ave & 14th St   \n",
       "144848              Fairbanks Ct & Grand Ave   \n",
       "144910            California Ave & Cortez St   \n",
       "144914            California Ave & Cortez St   \n",
       "\n",
       "                            end_station_name member_casual  \n",
       "3184                Loomis St & Lexington St        member  \n",
       "3190             Halsted St & Wrightwood Ave        member  \n",
       "3196             Halsted St & Wrightwood Ave        member  \n",
       "3214    Public Rack - Walden Pkwy & 103rd St        member  \n",
       "3888               Milwaukee Ave & Grand Ave        member  \n",
       "...                                      ...           ...  \n",
       "140459             Columbus Dr & Randolph St        member  \n",
       "144841                Michigan Ave & 14th St        member  \n",
       "144848              Fairbanks Ct & Grand Ave        member  \n",
       "144910            California Ave & Cortez St        casual  \n",
       "144914            California Ave & Cortez St        member  \n",
       "\n",
       "[9851 rows x 8 columns]"
      ]
     },
     "execution_count": 257,
     "metadata": {},
     "output_type": "execute_result"
    }
   ],
   "source": [
    "clean_df[clean_df['ride_time'] <= timedelta(seconds=10)]"
   ]
  },
  {
   "cell_type": "markdown",
   "id": "57e32e36",
   "metadata": {},
   "source": [
    "### Creating sorted dataframe"
   ]
  },
  {
   "cell_type": "code",
   "execution_count": 258,
   "id": "149c64e4",
   "metadata": {},
   "outputs": [
    {
     "data": {
      "text/html": [
       "<div>\n",
       "<style scoped>\n",
       "    .dataframe tbody tr th:only-of-type {\n",
       "        vertical-align: middle;\n",
       "    }\n",
       "\n",
       "    .dataframe tbody tr th {\n",
       "        vertical-align: top;\n",
       "    }\n",
       "\n",
       "    .dataframe thead th {\n",
       "        text-align: right;\n",
       "    }\n",
       "</style>\n",
       "<table border=\"1\" class=\"dataframe\">\n",
       "  <thead>\n",
       "    <tr style=\"text-align: right;\">\n",
       "      <th></th>\n",
       "      <th>ride_id</th>\n",
       "      <th>rideable_type</th>\n",
       "      <th>started_at</th>\n",
       "      <th>ended_at</th>\n",
       "      <th>ride_time</th>\n",
       "      <th>start_station_name</th>\n",
       "      <th>end_station_name</th>\n",
       "      <th>member_casual</th>\n",
       "    </tr>\n",
       "  </thead>\n",
       "  <tbody>\n",
       "    <tr>\n",
       "      <th>48853</th>\n",
       "      <td>56F5C3ED5178C131</td>\n",
       "      <td>classic_bike</td>\n",
       "      <td>2024-01-01 00:01:01.000</td>\n",
       "      <td>2024-01-01 00:24:12.000</td>\n",
       "      <td>0 days 00:23:11</td>\n",
       "      <td>LaSalle St &amp; Illinois St</td>\n",
       "      <td>Indiana Ave &amp; Roosevelt Rd</td>\n",
       "      <td>member</td>\n",
       "    </tr>\n",
       "    <tr>\n",
       "      <th>26576</th>\n",
       "      <td>70BDF49A30C8BFFC</td>\n",
       "      <td>classic_bike</td>\n",
       "      <td>2024-01-01 00:02:15.000</td>\n",
       "      <td>2024-01-01 00:07:01.000</td>\n",
       "      <td>0 days 00:04:46</td>\n",
       "      <td>Sheffield Ave &amp; Fullerton Ave</td>\n",
       "      <td>Greenview Ave &amp; Fullerton Ave</td>\n",
       "      <td>casual</td>\n",
       "    </tr>\n",
       "    <tr>\n",
       "      <th>46733</th>\n",
       "      <td>B7F1F63BD1AFF4E9</td>\n",
       "      <td>classic_bike</td>\n",
       "      <td>2024-01-01 00:06:59.000</td>\n",
       "      <td>2024-01-01 00:17:21.000</td>\n",
       "      <td>0 days 00:10:22</td>\n",
       "      <td>Western Ave &amp; Howard St</td>\n",
       "      <td>Clark St &amp; Lunt Ave</td>\n",
       "      <td>member</td>\n",
       "    </tr>\n",
       "    <tr>\n",
       "      <th>40692</th>\n",
       "      <td>444DD0D82A50BA8C</td>\n",
       "      <td>classic_bike</td>\n",
       "      <td>2024-01-01 00:07:45.000</td>\n",
       "      <td>2024-01-01 00:15:41.000</td>\n",
       "      <td>0 days 00:07:56</td>\n",
       "      <td>DuSable Lake Shore Dr &amp; North Blvd</td>\n",
       "      <td>Sedgwick St &amp; Webster Ave</td>\n",
       "      <td>casual</td>\n",
       "    </tr>\n",
       "    <tr>\n",
       "      <th>71103</th>\n",
       "      <td>510C1C0AA564ADF0</td>\n",
       "      <td>classic_bike</td>\n",
       "      <td>2024-01-01 00:07:57.000</td>\n",
       "      <td>2024-01-01 00:29:42.000</td>\n",
       "      <td>0 days 00:21:45</td>\n",
       "      <td>Clinton St &amp; Tilden St</td>\n",
       "      <td>LaSalle St &amp; Illinois St</td>\n",
       "      <td>casual</td>\n",
       "    </tr>\n",
       "    <tr>\n",
       "      <th>...</th>\n",
       "      <td>...</td>\n",
       "      <td>...</td>\n",
       "      <td>...</td>\n",
       "      <td>...</td>\n",
       "      <td>...</td>\n",
       "      <td>...</td>\n",
       "      <td>...</td>\n",
       "      <td>...</td>\n",
       "    </tr>\n",
       "    <tr>\n",
       "      <th>56044</th>\n",
       "      <td>D10276507FC2E40A</td>\n",
       "      <td>electric_bike</td>\n",
       "      <td>2024-12-31 23:52:49.117</td>\n",
       "      <td>2024-12-31 23:58:19.908</td>\n",
       "      <td>0 days 00:05:30.791000</td>\n",
       "      <td>Clinton St &amp; Tilden St</td>\n",
       "      <td>Daley Center Plaza</td>\n",
       "      <td>member</td>\n",
       "    </tr>\n",
       "    <tr>\n",
       "      <th>39689</th>\n",
       "      <td>C8FBE8FBA3C157F1</td>\n",
       "      <td>electric_bike</td>\n",
       "      <td>2024-12-31 23:54:01.903</td>\n",
       "      <td>2024-12-31 23:59:28.819</td>\n",
       "      <td>0 days 00:05:26.916000</td>\n",
       "      <td>Michigan Ave &amp; Jackson Blvd</td>\n",
       "      <td>Stetson Ave &amp; South Water St</td>\n",
       "      <td>casual</td>\n",
       "    </tr>\n",
       "    <tr>\n",
       "      <th>2282</th>\n",
       "      <td>B14C678DEA55A583</td>\n",
       "      <td>electric_bike</td>\n",
       "      <td>2024-12-31 23:54:37.045</td>\n",
       "      <td>2024-12-31 23:57:19.293</td>\n",
       "      <td>0 days 00:02:42.248000</td>\n",
       "      <td>Paulina St &amp; 18th St</td>\n",
       "      <td>Racine Ave &amp; 18th St</td>\n",
       "      <td>member</td>\n",
       "    </tr>\n",
       "    <tr>\n",
       "      <th>119498</th>\n",
       "      <td>86CB9E2042DD6E4F</td>\n",
       "      <td>electric_bike</td>\n",
       "      <td>2024-12-31 23:56:38.214</td>\n",
       "      <td>2024-12-31 23:56:51.547</td>\n",
       "      <td>0 days 00:00:13.333000</td>\n",
       "      <td>Dusable Harbor</td>\n",
       "      <td>Dusable Harbor</td>\n",
       "      <td>member</td>\n",
       "    </tr>\n",
       "    <tr>\n",
       "      <th>92419</th>\n",
       "      <td>3E73BF87F0F0325A</td>\n",
       "      <td>electric_bike</td>\n",
       "      <td>2024-12-31 23:56:49.854</td>\n",
       "      <td>2024-12-31 23:57:40.525</td>\n",
       "      <td>0 days 00:00:50.671000</td>\n",
       "      <td>Sheffield Ave &amp; Fullerton Ave</td>\n",
       "      <td>Sheffield Ave &amp; Fullerton Ave</td>\n",
       "      <td>member</td>\n",
       "    </tr>\n",
       "  </tbody>\n",
       "</table>\n",
       "<p>4198335 rows × 8 columns</p>\n",
       "</div>"
      ],
      "text/plain": [
       "                 ride_id  rideable_type              started_at  \\\n",
       "48853   56F5C3ED5178C131   classic_bike 2024-01-01 00:01:01.000   \n",
       "26576   70BDF49A30C8BFFC   classic_bike 2024-01-01 00:02:15.000   \n",
       "46733   B7F1F63BD1AFF4E9   classic_bike 2024-01-01 00:06:59.000   \n",
       "40692   444DD0D82A50BA8C   classic_bike 2024-01-01 00:07:45.000   \n",
       "71103   510C1C0AA564ADF0   classic_bike 2024-01-01 00:07:57.000   \n",
       "...                  ...            ...                     ...   \n",
       "56044   D10276507FC2E40A  electric_bike 2024-12-31 23:52:49.117   \n",
       "39689   C8FBE8FBA3C157F1  electric_bike 2024-12-31 23:54:01.903   \n",
       "2282    B14C678DEA55A583  electric_bike 2024-12-31 23:54:37.045   \n",
       "119498  86CB9E2042DD6E4F  electric_bike 2024-12-31 23:56:38.214   \n",
       "92419   3E73BF87F0F0325A  electric_bike 2024-12-31 23:56:49.854   \n",
       "\n",
       "                      ended_at              ride_time  \\\n",
       "48853  2024-01-01 00:24:12.000        0 days 00:23:11   \n",
       "26576  2024-01-01 00:07:01.000        0 days 00:04:46   \n",
       "46733  2024-01-01 00:17:21.000        0 days 00:10:22   \n",
       "40692  2024-01-01 00:15:41.000        0 days 00:07:56   \n",
       "71103  2024-01-01 00:29:42.000        0 days 00:21:45   \n",
       "...                        ...                    ...   \n",
       "56044  2024-12-31 23:58:19.908 0 days 00:05:30.791000   \n",
       "39689  2024-12-31 23:59:28.819 0 days 00:05:26.916000   \n",
       "2282   2024-12-31 23:57:19.293 0 days 00:02:42.248000   \n",
       "119498 2024-12-31 23:56:51.547 0 days 00:00:13.333000   \n",
       "92419  2024-12-31 23:57:40.525 0 days 00:00:50.671000   \n",
       "\n",
       "                        start_station_name               end_station_name  \\\n",
       "48853             LaSalle St & Illinois St     Indiana Ave & Roosevelt Rd   \n",
       "26576        Sheffield Ave & Fullerton Ave  Greenview Ave & Fullerton Ave   \n",
       "46733              Western Ave & Howard St            Clark St & Lunt Ave   \n",
       "40692   DuSable Lake Shore Dr & North Blvd      Sedgwick St & Webster Ave   \n",
       "71103               Clinton St & Tilden St       LaSalle St & Illinois St   \n",
       "...                                    ...                            ...   \n",
       "56044               Clinton St & Tilden St             Daley Center Plaza   \n",
       "39689          Michigan Ave & Jackson Blvd   Stetson Ave & South Water St   \n",
       "2282                  Paulina St & 18th St           Racine Ave & 18th St   \n",
       "119498                      Dusable Harbor                 Dusable Harbor   \n",
       "92419        Sheffield Ave & Fullerton Ave  Sheffield Ave & Fullerton Ave   \n",
       "\n",
       "       member_casual  \n",
       "48853         member  \n",
       "26576         casual  \n",
       "46733         member  \n",
       "40692         casual  \n",
       "71103         casual  \n",
       "...              ...  \n",
       "56044         member  \n",
       "39689         casual  \n",
       "2282          member  \n",
       "119498        member  \n",
       "92419         member  \n",
       "\n",
       "[4198335 rows x 8 columns]"
      ]
     },
     "execution_count": 258,
     "metadata": {},
     "output_type": "execute_result"
    }
   ],
   "source": [
    "analysis_df = clean_df[~(clean_df['ride_time'] <= timedelta(seconds=10))].copy()\n",
    "analysis_df = analysis_df.sort_values('started_at')\n",
    "analysis_df"
   ]
  },
  {
   "cell_type": "markdown",
   "id": "1ff744d8",
   "metadata": {},
   "source": [
    "### Creating month and week columns of when rides started"
   ]
  },
  {
   "cell_type": "code",
   "execution_count": 259,
   "id": "c03b8fc7",
   "metadata": {},
   "outputs": [
    {
     "data": {
      "text/html": [
       "<div>\n",
       "<style scoped>\n",
       "    .dataframe tbody tr th:only-of-type {\n",
       "        vertical-align: middle;\n",
       "    }\n",
       "\n",
       "    .dataframe tbody tr th {\n",
       "        vertical-align: top;\n",
       "    }\n",
       "\n",
       "    .dataframe thead th {\n",
       "        text-align: right;\n",
       "    }\n",
       "</style>\n",
       "<table border=\"1\" class=\"dataframe\">\n",
       "  <thead>\n",
       "    <tr style=\"text-align: right;\">\n",
       "      <th></th>\n",
       "      <th>ride_id</th>\n",
       "      <th>rideable_type</th>\n",
       "      <th>started_at</th>\n",
       "      <th>ended_at</th>\n",
       "      <th>ride_time</th>\n",
       "      <th>month</th>\n",
       "      <th>week</th>\n",
       "      <th>start_station_name</th>\n",
       "      <th>end_station_name</th>\n",
       "      <th>member_casual</th>\n",
       "    </tr>\n",
       "  </thead>\n",
       "  <tbody>\n",
       "    <tr>\n",
       "      <th>48853</th>\n",
       "      <td>56F5C3ED5178C131</td>\n",
       "      <td>classic_bike</td>\n",
       "      <td>2024-01-01 00:01:01.000</td>\n",
       "      <td>2024-01-01 00:24:12.000</td>\n",
       "      <td>0 days 00:23:11</td>\n",
       "      <td>1</td>\n",
       "      <td>1</td>\n",
       "      <td>LaSalle St &amp; Illinois St</td>\n",
       "      <td>Indiana Ave &amp; Roosevelt Rd</td>\n",
       "      <td>member</td>\n",
       "    </tr>\n",
       "    <tr>\n",
       "      <th>26576</th>\n",
       "      <td>70BDF49A30C8BFFC</td>\n",
       "      <td>classic_bike</td>\n",
       "      <td>2024-01-01 00:02:15.000</td>\n",
       "      <td>2024-01-01 00:07:01.000</td>\n",
       "      <td>0 days 00:04:46</td>\n",
       "      <td>1</td>\n",
       "      <td>1</td>\n",
       "      <td>Sheffield Ave &amp; Fullerton Ave</td>\n",
       "      <td>Greenview Ave &amp; Fullerton Ave</td>\n",
       "      <td>casual</td>\n",
       "    </tr>\n",
       "    <tr>\n",
       "      <th>46733</th>\n",
       "      <td>B7F1F63BD1AFF4E9</td>\n",
       "      <td>classic_bike</td>\n",
       "      <td>2024-01-01 00:06:59.000</td>\n",
       "      <td>2024-01-01 00:17:21.000</td>\n",
       "      <td>0 days 00:10:22</td>\n",
       "      <td>1</td>\n",
       "      <td>1</td>\n",
       "      <td>Western Ave &amp; Howard St</td>\n",
       "      <td>Clark St &amp; Lunt Ave</td>\n",
       "      <td>member</td>\n",
       "    </tr>\n",
       "    <tr>\n",
       "      <th>40692</th>\n",
       "      <td>444DD0D82A50BA8C</td>\n",
       "      <td>classic_bike</td>\n",
       "      <td>2024-01-01 00:07:45.000</td>\n",
       "      <td>2024-01-01 00:15:41.000</td>\n",
       "      <td>0 days 00:07:56</td>\n",
       "      <td>1</td>\n",
       "      <td>1</td>\n",
       "      <td>DuSable Lake Shore Dr &amp; North Blvd</td>\n",
       "      <td>Sedgwick St &amp; Webster Ave</td>\n",
       "      <td>casual</td>\n",
       "    </tr>\n",
       "    <tr>\n",
       "      <th>71103</th>\n",
       "      <td>510C1C0AA564ADF0</td>\n",
       "      <td>classic_bike</td>\n",
       "      <td>2024-01-01 00:07:57.000</td>\n",
       "      <td>2024-01-01 00:29:42.000</td>\n",
       "      <td>0 days 00:21:45</td>\n",
       "      <td>1</td>\n",
       "      <td>1</td>\n",
       "      <td>Clinton St &amp; Tilden St</td>\n",
       "      <td>LaSalle St &amp; Illinois St</td>\n",
       "      <td>casual</td>\n",
       "    </tr>\n",
       "    <tr>\n",
       "      <th>...</th>\n",
       "      <td>...</td>\n",
       "      <td>...</td>\n",
       "      <td>...</td>\n",
       "      <td>...</td>\n",
       "      <td>...</td>\n",
       "      <td>...</td>\n",
       "      <td>...</td>\n",
       "      <td>...</td>\n",
       "      <td>...</td>\n",
       "      <td>...</td>\n",
       "    </tr>\n",
       "    <tr>\n",
       "      <th>56044</th>\n",
       "      <td>D10276507FC2E40A</td>\n",
       "      <td>electric_bike</td>\n",
       "      <td>2024-12-31 23:52:49.117</td>\n",
       "      <td>2024-12-31 23:58:19.908</td>\n",
       "      <td>0 days 00:05:30.791000</td>\n",
       "      <td>12</td>\n",
       "      <td>1</td>\n",
       "      <td>Clinton St &amp; Tilden St</td>\n",
       "      <td>Daley Center Plaza</td>\n",
       "      <td>member</td>\n",
       "    </tr>\n",
       "    <tr>\n",
       "      <th>39689</th>\n",
       "      <td>C8FBE8FBA3C157F1</td>\n",
       "      <td>electric_bike</td>\n",
       "      <td>2024-12-31 23:54:01.903</td>\n",
       "      <td>2024-12-31 23:59:28.819</td>\n",
       "      <td>0 days 00:05:26.916000</td>\n",
       "      <td>12</td>\n",
       "      <td>1</td>\n",
       "      <td>Michigan Ave &amp; Jackson Blvd</td>\n",
       "      <td>Stetson Ave &amp; South Water St</td>\n",
       "      <td>casual</td>\n",
       "    </tr>\n",
       "    <tr>\n",
       "      <th>2282</th>\n",
       "      <td>B14C678DEA55A583</td>\n",
       "      <td>electric_bike</td>\n",
       "      <td>2024-12-31 23:54:37.045</td>\n",
       "      <td>2024-12-31 23:57:19.293</td>\n",
       "      <td>0 days 00:02:42.248000</td>\n",
       "      <td>12</td>\n",
       "      <td>1</td>\n",
       "      <td>Paulina St &amp; 18th St</td>\n",
       "      <td>Racine Ave &amp; 18th St</td>\n",
       "      <td>member</td>\n",
       "    </tr>\n",
       "    <tr>\n",
       "      <th>119498</th>\n",
       "      <td>86CB9E2042DD6E4F</td>\n",
       "      <td>electric_bike</td>\n",
       "      <td>2024-12-31 23:56:38.214</td>\n",
       "      <td>2024-12-31 23:56:51.547</td>\n",
       "      <td>0 days 00:00:13.333000</td>\n",
       "      <td>12</td>\n",
       "      <td>1</td>\n",
       "      <td>Dusable Harbor</td>\n",
       "      <td>Dusable Harbor</td>\n",
       "      <td>member</td>\n",
       "    </tr>\n",
       "    <tr>\n",
       "      <th>92419</th>\n",
       "      <td>3E73BF87F0F0325A</td>\n",
       "      <td>electric_bike</td>\n",
       "      <td>2024-12-31 23:56:49.854</td>\n",
       "      <td>2024-12-31 23:57:40.525</td>\n",
       "      <td>0 days 00:00:50.671000</td>\n",
       "      <td>12</td>\n",
       "      <td>1</td>\n",
       "      <td>Sheffield Ave &amp; Fullerton Ave</td>\n",
       "      <td>Sheffield Ave &amp; Fullerton Ave</td>\n",
       "      <td>member</td>\n",
       "    </tr>\n",
       "  </tbody>\n",
       "</table>\n",
       "<p>4198335 rows × 10 columns</p>\n",
       "</div>"
      ],
      "text/plain": [
       "                 ride_id  rideable_type              started_at  \\\n",
       "48853   56F5C3ED5178C131   classic_bike 2024-01-01 00:01:01.000   \n",
       "26576   70BDF49A30C8BFFC   classic_bike 2024-01-01 00:02:15.000   \n",
       "46733   B7F1F63BD1AFF4E9   classic_bike 2024-01-01 00:06:59.000   \n",
       "40692   444DD0D82A50BA8C   classic_bike 2024-01-01 00:07:45.000   \n",
       "71103   510C1C0AA564ADF0   classic_bike 2024-01-01 00:07:57.000   \n",
       "...                  ...            ...                     ...   \n",
       "56044   D10276507FC2E40A  electric_bike 2024-12-31 23:52:49.117   \n",
       "39689   C8FBE8FBA3C157F1  electric_bike 2024-12-31 23:54:01.903   \n",
       "2282    B14C678DEA55A583  electric_bike 2024-12-31 23:54:37.045   \n",
       "119498  86CB9E2042DD6E4F  electric_bike 2024-12-31 23:56:38.214   \n",
       "92419   3E73BF87F0F0325A  electric_bike 2024-12-31 23:56:49.854   \n",
       "\n",
       "                      ended_at              ride_time  month  week  \\\n",
       "48853  2024-01-01 00:24:12.000        0 days 00:23:11      1     1   \n",
       "26576  2024-01-01 00:07:01.000        0 days 00:04:46      1     1   \n",
       "46733  2024-01-01 00:17:21.000        0 days 00:10:22      1     1   \n",
       "40692  2024-01-01 00:15:41.000        0 days 00:07:56      1     1   \n",
       "71103  2024-01-01 00:29:42.000        0 days 00:21:45      1     1   \n",
       "...                        ...                    ...    ...   ...   \n",
       "56044  2024-12-31 23:58:19.908 0 days 00:05:30.791000     12     1   \n",
       "39689  2024-12-31 23:59:28.819 0 days 00:05:26.916000     12     1   \n",
       "2282   2024-12-31 23:57:19.293 0 days 00:02:42.248000     12     1   \n",
       "119498 2024-12-31 23:56:51.547 0 days 00:00:13.333000     12     1   \n",
       "92419  2024-12-31 23:57:40.525 0 days 00:00:50.671000     12     1   \n",
       "\n",
       "                        start_station_name               end_station_name  \\\n",
       "48853             LaSalle St & Illinois St     Indiana Ave & Roosevelt Rd   \n",
       "26576        Sheffield Ave & Fullerton Ave  Greenview Ave & Fullerton Ave   \n",
       "46733              Western Ave & Howard St            Clark St & Lunt Ave   \n",
       "40692   DuSable Lake Shore Dr & North Blvd      Sedgwick St & Webster Ave   \n",
       "71103               Clinton St & Tilden St       LaSalle St & Illinois St   \n",
       "...                                    ...                            ...   \n",
       "56044               Clinton St & Tilden St             Daley Center Plaza   \n",
       "39689          Michigan Ave & Jackson Blvd   Stetson Ave & South Water St   \n",
       "2282                  Paulina St & 18th St           Racine Ave & 18th St   \n",
       "119498                      Dusable Harbor                 Dusable Harbor   \n",
       "92419        Sheffield Ave & Fullerton Ave  Sheffield Ave & Fullerton Ave   \n",
       "\n",
       "       member_casual  \n",
       "48853         member  \n",
       "26576         casual  \n",
       "46733         member  \n",
       "40692         casual  \n",
       "71103         casual  \n",
       "...              ...  \n",
       "56044         member  \n",
       "39689         casual  \n",
       "2282          member  \n",
       "119498        member  \n",
       "92419         member  \n",
       "\n",
       "[4198335 rows x 10 columns]"
      ]
     },
     "execution_count": 259,
     "metadata": {},
     "output_type": "execute_result"
    }
   ],
   "source": [
    "month = analysis_df['started_at'].dt.month\n",
    "week = analysis_df['started_at'].dt.isocalendar()['week']\n",
    "analysis_df.insert(5, 'month', month)\n",
    "analysis_df.insert(6, 'week', week)\n",
    "analysis_df"
   ]
  },
  {
   "cell_type": "markdown",
   "id": "7dd26d1a",
   "metadata": {},
   "source": [
    "### Fixing error where last week of 2024 is counted as first week of the year"
   ]
  },
  {
   "cell_type": "code",
   "execution_count": 260,
   "id": "6d507ca4",
   "metadata": {},
   "outputs": [
    {
     "data": {
      "text/plain": [
       "31546     1\n",
       "31553     1\n",
       "81150     1\n",
       "9355      1\n",
       "72337     1\n",
       "         ..\n",
       "56044     1\n",
       "39689     1\n",
       "2282      1\n",
       "119498    1\n",
       "92419     1\n",
       "Name: week, Length: 6831, dtype: UInt32"
      ]
     },
     "execution_count": 260,
     "metadata": {},
     "output_type": "execute_result"
    }
   ],
   "source": [
    "analysis_df.loc[(analysis_df['month'] == 12) & (analysis_df['week'] == 1), 'week']"
   ]
  },
  {
   "cell_type": "code",
   "execution_count": 261,
   "id": "753d264d",
   "metadata": {},
   "outputs": [
    {
     "data": {
      "text/html": [
       "<div>\n",
       "<style scoped>\n",
       "    .dataframe tbody tr th:only-of-type {\n",
       "        vertical-align: middle;\n",
       "    }\n",
       "\n",
       "    .dataframe tbody tr th {\n",
       "        vertical-align: top;\n",
       "    }\n",
       "\n",
       "    .dataframe thead th {\n",
       "        text-align: right;\n",
       "    }\n",
       "</style>\n",
       "<table border=\"1\" class=\"dataframe\">\n",
       "  <thead>\n",
       "    <tr style=\"text-align: right;\">\n",
       "      <th></th>\n",
       "      <th>ride_id</th>\n",
       "      <th>rideable_type</th>\n",
       "      <th>started_at</th>\n",
       "      <th>ended_at</th>\n",
       "      <th>ride_time</th>\n",
       "      <th>month</th>\n",
       "      <th>week</th>\n",
       "      <th>start_station_name</th>\n",
       "      <th>end_station_name</th>\n",
       "      <th>member_casual</th>\n",
       "    </tr>\n",
       "  </thead>\n",
       "  <tbody>\n",
       "    <tr>\n",
       "      <th>48853</th>\n",
       "      <td>56F5C3ED5178C131</td>\n",
       "      <td>classic_bike</td>\n",
       "      <td>2024-01-01 00:01:01.000</td>\n",
       "      <td>2024-01-01 00:24:12.000</td>\n",
       "      <td>0 days 00:23:11</td>\n",
       "      <td>1</td>\n",
       "      <td>1</td>\n",
       "      <td>LaSalle St &amp; Illinois St</td>\n",
       "      <td>Indiana Ave &amp; Roosevelt Rd</td>\n",
       "      <td>member</td>\n",
       "    </tr>\n",
       "    <tr>\n",
       "      <th>26576</th>\n",
       "      <td>70BDF49A30C8BFFC</td>\n",
       "      <td>classic_bike</td>\n",
       "      <td>2024-01-01 00:02:15.000</td>\n",
       "      <td>2024-01-01 00:07:01.000</td>\n",
       "      <td>0 days 00:04:46</td>\n",
       "      <td>1</td>\n",
       "      <td>1</td>\n",
       "      <td>Sheffield Ave &amp; Fullerton Ave</td>\n",
       "      <td>Greenview Ave &amp; Fullerton Ave</td>\n",
       "      <td>casual</td>\n",
       "    </tr>\n",
       "    <tr>\n",
       "      <th>46733</th>\n",
       "      <td>B7F1F63BD1AFF4E9</td>\n",
       "      <td>classic_bike</td>\n",
       "      <td>2024-01-01 00:06:59.000</td>\n",
       "      <td>2024-01-01 00:17:21.000</td>\n",
       "      <td>0 days 00:10:22</td>\n",
       "      <td>1</td>\n",
       "      <td>1</td>\n",
       "      <td>Western Ave &amp; Howard St</td>\n",
       "      <td>Clark St &amp; Lunt Ave</td>\n",
       "      <td>member</td>\n",
       "    </tr>\n",
       "    <tr>\n",
       "      <th>40692</th>\n",
       "      <td>444DD0D82A50BA8C</td>\n",
       "      <td>classic_bike</td>\n",
       "      <td>2024-01-01 00:07:45.000</td>\n",
       "      <td>2024-01-01 00:15:41.000</td>\n",
       "      <td>0 days 00:07:56</td>\n",
       "      <td>1</td>\n",
       "      <td>1</td>\n",
       "      <td>DuSable Lake Shore Dr &amp; North Blvd</td>\n",
       "      <td>Sedgwick St &amp; Webster Ave</td>\n",
       "      <td>casual</td>\n",
       "    </tr>\n",
       "    <tr>\n",
       "      <th>71103</th>\n",
       "      <td>510C1C0AA564ADF0</td>\n",
       "      <td>classic_bike</td>\n",
       "      <td>2024-01-01 00:07:57.000</td>\n",
       "      <td>2024-01-01 00:29:42.000</td>\n",
       "      <td>0 days 00:21:45</td>\n",
       "      <td>1</td>\n",
       "      <td>1</td>\n",
       "      <td>Clinton St &amp; Tilden St</td>\n",
       "      <td>LaSalle St &amp; Illinois St</td>\n",
       "      <td>casual</td>\n",
       "    </tr>\n",
       "    <tr>\n",
       "      <th>...</th>\n",
       "      <td>...</td>\n",
       "      <td>...</td>\n",
       "      <td>...</td>\n",
       "      <td>...</td>\n",
       "      <td>...</td>\n",
       "      <td>...</td>\n",
       "      <td>...</td>\n",
       "      <td>...</td>\n",
       "      <td>...</td>\n",
       "      <td>...</td>\n",
       "    </tr>\n",
       "    <tr>\n",
       "      <th>56044</th>\n",
       "      <td>D10276507FC2E40A</td>\n",
       "      <td>electric_bike</td>\n",
       "      <td>2024-12-31 23:52:49.117</td>\n",
       "      <td>2024-12-31 23:58:19.908</td>\n",
       "      <td>0 days 00:05:30.791000</td>\n",
       "      <td>12</td>\n",
       "      <td>53</td>\n",
       "      <td>Clinton St &amp; Tilden St</td>\n",
       "      <td>Daley Center Plaza</td>\n",
       "      <td>member</td>\n",
       "    </tr>\n",
       "    <tr>\n",
       "      <th>39689</th>\n",
       "      <td>C8FBE8FBA3C157F1</td>\n",
       "      <td>electric_bike</td>\n",
       "      <td>2024-12-31 23:54:01.903</td>\n",
       "      <td>2024-12-31 23:59:28.819</td>\n",
       "      <td>0 days 00:05:26.916000</td>\n",
       "      <td>12</td>\n",
       "      <td>53</td>\n",
       "      <td>Michigan Ave &amp; Jackson Blvd</td>\n",
       "      <td>Stetson Ave &amp; South Water St</td>\n",
       "      <td>casual</td>\n",
       "    </tr>\n",
       "    <tr>\n",
       "      <th>2282</th>\n",
       "      <td>B14C678DEA55A583</td>\n",
       "      <td>electric_bike</td>\n",
       "      <td>2024-12-31 23:54:37.045</td>\n",
       "      <td>2024-12-31 23:57:19.293</td>\n",
       "      <td>0 days 00:02:42.248000</td>\n",
       "      <td>12</td>\n",
       "      <td>53</td>\n",
       "      <td>Paulina St &amp; 18th St</td>\n",
       "      <td>Racine Ave &amp; 18th St</td>\n",
       "      <td>member</td>\n",
       "    </tr>\n",
       "    <tr>\n",
       "      <th>119498</th>\n",
       "      <td>86CB9E2042DD6E4F</td>\n",
       "      <td>electric_bike</td>\n",
       "      <td>2024-12-31 23:56:38.214</td>\n",
       "      <td>2024-12-31 23:56:51.547</td>\n",
       "      <td>0 days 00:00:13.333000</td>\n",
       "      <td>12</td>\n",
       "      <td>53</td>\n",
       "      <td>Dusable Harbor</td>\n",
       "      <td>Dusable Harbor</td>\n",
       "      <td>member</td>\n",
       "    </tr>\n",
       "    <tr>\n",
       "      <th>92419</th>\n",
       "      <td>3E73BF87F0F0325A</td>\n",
       "      <td>electric_bike</td>\n",
       "      <td>2024-12-31 23:56:49.854</td>\n",
       "      <td>2024-12-31 23:57:40.525</td>\n",
       "      <td>0 days 00:00:50.671000</td>\n",
       "      <td>12</td>\n",
       "      <td>53</td>\n",
       "      <td>Sheffield Ave &amp; Fullerton Ave</td>\n",
       "      <td>Sheffield Ave &amp; Fullerton Ave</td>\n",
       "      <td>member</td>\n",
       "    </tr>\n",
       "  </tbody>\n",
       "</table>\n",
       "<p>4198335 rows × 10 columns</p>\n",
       "</div>"
      ],
      "text/plain": [
       "                 ride_id  rideable_type              started_at  \\\n",
       "48853   56F5C3ED5178C131   classic_bike 2024-01-01 00:01:01.000   \n",
       "26576   70BDF49A30C8BFFC   classic_bike 2024-01-01 00:02:15.000   \n",
       "46733   B7F1F63BD1AFF4E9   classic_bike 2024-01-01 00:06:59.000   \n",
       "40692   444DD0D82A50BA8C   classic_bike 2024-01-01 00:07:45.000   \n",
       "71103   510C1C0AA564ADF0   classic_bike 2024-01-01 00:07:57.000   \n",
       "...                  ...            ...                     ...   \n",
       "56044   D10276507FC2E40A  electric_bike 2024-12-31 23:52:49.117   \n",
       "39689   C8FBE8FBA3C157F1  electric_bike 2024-12-31 23:54:01.903   \n",
       "2282    B14C678DEA55A583  electric_bike 2024-12-31 23:54:37.045   \n",
       "119498  86CB9E2042DD6E4F  electric_bike 2024-12-31 23:56:38.214   \n",
       "92419   3E73BF87F0F0325A  electric_bike 2024-12-31 23:56:49.854   \n",
       "\n",
       "                      ended_at              ride_time  month  week  \\\n",
       "48853  2024-01-01 00:24:12.000        0 days 00:23:11      1     1   \n",
       "26576  2024-01-01 00:07:01.000        0 days 00:04:46      1     1   \n",
       "46733  2024-01-01 00:17:21.000        0 days 00:10:22      1     1   \n",
       "40692  2024-01-01 00:15:41.000        0 days 00:07:56      1     1   \n",
       "71103  2024-01-01 00:29:42.000        0 days 00:21:45      1     1   \n",
       "...                        ...                    ...    ...   ...   \n",
       "56044  2024-12-31 23:58:19.908 0 days 00:05:30.791000     12    53   \n",
       "39689  2024-12-31 23:59:28.819 0 days 00:05:26.916000     12    53   \n",
       "2282   2024-12-31 23:57:19.293 0 days 00:02:42.248000     12    53   \n",
       "119498 2024-12-31 23:56:51.547 0 days 00:00:13.333000     12    53   \n",
       "92419  2024-12-31 23:57:40.525 0 days 00:00:50.671000     12    53   \n",
       "\n",
       "                        start_station_name               end_station_name  \\\n",
       "48853             LaSalle St & Illinois St     Indiana Ave & Roosevelt Rd   \n",
       "26576        Sheffield Ave & Fullerton Ave  Greenview Ave & Fullerton Ave   \n",
       "46733              Western Ave & Howard St            Clark St & Lunt Ave   \n",
       "40692   DuSable Lake Shore Dr & North Blvd      Sedgwick St & Webster Ave   \n",
       "71103               Clinton St & Tilden St       LaSalle St & Illinois St   \n",
       "...                                    ...                            ...   \n",
       "56044               Clinton St & Tilden St             Daley Center Plaza   \n",
       "39689          Michigan Ave & Jackson Blvd   Stetson Ave & South Water St   \n",
       "2282                  Paulina St & 18th St           Racine Ave & 18th St   \n",
       "119498                      Dusable Harbor                 Dusable Harbor   \n",
       "92419        Sheffield Ave & Fullerton Ave  Sheffield Ave & Fullerton Ave   \n",
       "\n",
       "       member_casual  \n",
       "48853         member  \n",
       "26576         casual  \n",
       "46733         member  \n",
       "40692         casual  \n",
       "71103         casual  \n",
       "...              ...  \n",
       "56044         member  \n",
       "39689         casual  \n",
       "2282          member  \n",
       "119498        member  \n",
       "92419         member  \n",
       "\n",
       "[4198335 rows x 10 columns]"
      ]
     },
     "execution_count": 261,
     "metadata": {},
     "output_type": "execute_result"
    }
   ],
   "source": [
    "analysis_df.loc[(analysis_df['month'] == 12) & (analysis_df['week'] == 1), 'week'] = 53\n",
    "analysis_df"
   ]
  },
  {
   "cell_type": "markdown",
   "id": "51459d60",
   "metadata": {},
   "source": [
    "# Analysis"
   ]
  },
  {
   "cell_type": "code",
   "execution_count": 262,
   "id": "1885be30",
   "metadata": {},
   "outputs": [
    {
     "data": {
      "text/html": [
       "<div>\n",
       "<style scoped>\n",
       "    .dataframe tbody tr th:only-of-type {\n",
       "        vertical-align: middle;\n",
       "    }\n",
       "\n",
       "    .dataframe tbody tr th {\n",
       "        vertical-align: top;\n",
       "    }\n",
       "\n",
       "    .dataframe thead th {\n",
       "        text-align: right;\n",
       "    }\n",
       "</style>\n",
       "<table border=\"1\" class=\"dataframe\">\n",
       "  <thead>\n",
       "    <tr style=\"text-align: right;\">\n",
       "      <th></th>\n",
       "      <th>ride_id</th>\n",
       "      <th>rideable_type</th>\n",
       "      <th>started_at</th>\n",
       "      <th>ended_at</th>\n",
       "      <th>ride_time</th>\n",
       "      <th>month</th>\n",
       "      <th>week</th>\n",
       "      <th>start_station_name</th>\n",
       "      <th>end_station_name</th>\n",
       "      <th>member_casual</th>\n",
       "    </tr>\n",
       "  </thead>\n",
       "  <tbody>\n",
       "    <tr>\n",
       "      <th>48853</th>\n",
       "      <td>56F5C3ED5178C131</td>\n",
       "      <td>classic_bike</td>\n",
       "      <td>2024-01-01 00:01:01.000</td>\n",
       "      <td>2024-01-01 00:24:12.000</td>\n",
       "      <td>0 days 00:23:11</td>\n",
       "      <td>1</td>\n",
       "      <td>1</td>\n",
       "      <td>LaSalle St &amp; Illinois St</td>\n",
       "      <td>Indiana Ave &amp; Roosevelt Rd</td>\n",
       "      <td>member</td>\n",
       "    </tr>\n",
       "    <tr>\n",
       "      <th>26576</th>\n",
       "      <td>70BDF49A30C8BFFC</td>\n",
       "      <td>classic_bike</td>\n",
       "      <td>2024-01-01 00:02:15.000</td>\n",
       "      <td>2024-01-01 00:07:01.000</td>\n",
       "      <td>0 days 00:04:46</td>\n",
       "      <td>1</td>\n",
       "      <td>1</td>\n",
       "      <td>Sheffield Ave &amp; Fullerton Ave</td>\n",
       "      <td>Greenview Ave &amp; Fullerton Ave</td>\n",
       "      <td>casual</td>\n",
       "    </tr>\n",
       "    <tr>\n",
       "      <th>46733</th>\n",
       "      <td>B7F1F63BD1AFF4E9</td>\n",
       "      <td>classic_bike</td>\n",
       "      <td>2024-01-01 00:06:59.000</td>\n",
       "      <td>2024-01-01 00:17:21.000</td>\n",
       "      <td>0 days 00:10:22</td>\n",
       "      <td>1</td>\n",
       "      <td>1</td>\n",
       "      <td>Western Ave &amp; Howard St</td>\n",
       "      <td>Clark St &amp; Lunt Ave</td>\n",
       "      <td>member</td>\n",
       "    </tr>\n",
       "    <tr>\n",
       "      <th>40692</th>\n",
       "      <td>444DD0D82A50BA8C</td>\n",
       "      <td>classic_bike</td>\n",
       "      <td>2024-01-01 00:07:45.000</td>\n",
       "      <td>2024-01-01 00:15:41.000</td>\n",
       "      <td>0 days 00:07:56</td>\n",
       "      <td>1</td>\n",
       "      <td>1</td>\n",
       "      <td>DuSable Lake Shore Dr &amp; North Blvd</td>\n",
       "      <td>Sedgwick St &amp; Webster Ave</td>\n",
       "      <td>casual</td>\n",
       "    </tr>\n",
       "    <tr>\n",
       "      <th>71103</th>\n",
       "      <td>510C1C0AA564ADF0</td>\n",
       "      <td>classic_bike</td>\n",
       "      <td>2024-01-01 00:07:57.000</td>\n",
       "      <td>2024-01-01 00:29:42.000</td>\n",
       "      <td>0 days 00:21:45</td>\n",
       "      <td>1</td>\n",
       "      <td>1</td>\n",
       "      <td>Clinton St &amp; Tilden St</td>\n",
       "      <td>LaSalle St &amp; Illinois St</td>\n",
       "      <td>casual</td>\n",
       "    </tr>\n",
       "    <tr>\n",
       "      <th>...</th>\n",
       "      <td>...</td>\n",
       "      <td>...</td>\n",
       "      <td>...</td>\n",
       "      <td>...</td>\n",
       "      <td>...</td>\n",
       "      <td>...</td>\n",
       "      <td>...</td>\n",
       "      <td>...</td>\n",
       "      <td>...</td>\n",
       "      <td>...</td>\n",
       "    </tr>\n",
       "    <tr>\n",
       "      <th>56044</th>\n",
       "      <td>D10276507FC2E40A</td>\n",
       "      <td>electric_bike</td>\n",
       "      <td>2024-12-31 23:52:49.117</td>\n",
       "      <td>2024-12-31 23:58:19.908</td>\n",
       "      <td>0 days 00:05:30.791000</td>\n",
       "      <td>12</td>\n",
       "      <td>53</td>\n",
       "      <td>Clinton St &amp; Tilden St</td>\n",
       "      <td>Daley Center Plaza</td>\n",
       "      <td>member</td>\n",
       "    </tr>\n",
       "    <tr>\n",
       "      <th>39689</th>\n",
       "      <td>C8FBE8FBA3C157F1</td>\n",
       "      <td>electric_bike</td>\n",
       "      <td>2024-12-31 23:54:01.903</td>\n",
       "      <td>2024-12-31 23:59:28.819</td>\n",
       "      <td>0 days 00:05:26.916000</td>\n",
       "      <td>12</td>\n",
       "      <td>53</td>\n",
       "      <td>Michigan Ave &amp; Jackson Blvd</td>\n",
       "      <td>Stetson Ave &amp; South Water St</td>\n",
       "      <td>casual</td>\n",
       "    </tr>\n",
       "    <tr>\n",
       "      <th>2282</th>\n",
       "      <td>B14C678DEA55A583</td>\n",
       "      <td>electric_bike</td>\n",
       "      <td>2024-12-31 23:54:37.045</td>\n",
       "      <td>2024-12-31 23:57:19.293</td>\n",
       "      <td>0 days 00:02:42.248000</td>\n",
       "      <td>12</td>\n",
       "      <td>53</td>\n",
       "      <td>Paulina St &amp; 18th St</td>\n",
       "      <td>Racine Ave &amp; 18th St</td>\n",
       "      <td>member</td>\n",
       "    </tr>\n",
       "    <tr>\n",
       "      <th>119498</th>\n",
       "      <td>86CB9E2042DD6E4F</td>\n",
       "      <td>electric_bike</td>\n",
       "      <td>2024-12-31 23:56:38.214</td>\n",
       "      <td>2024-12-31 23:56:51.547</td>\n",
       "      <td>0 days 00:00:13.333000</td>\n",
       "      <td>12</td>\n",
       "      <td>53</td>\n",
       "      <td>Dusable Harbor</td>\n",
       "      <td>Dusable Harbor</td>\n",
       "      <td>member</td>\n",
       "    </tr>\n",
       "    <tr>\n",
       "      <th>92419</th>\n",
       "      <td>3E73BF87F0F0325A</td>\n",
       "      <td>electric_bike</td>\n",
       "      <td>2024-12-31 23:56:49.854</td>\n",
       "      <td>2024-12-31 23:57:40.525</td>\n",
       "      <td>0 days 00:00:50.671000</td>\n",
       "      <td>12</td>\n",
       "      <td>53</td>\n",
       "      <td>Sheffield Ave &amp; Fullerton Ave</td>\n",
       "      <td>Sheffield Ave &amp; Fullerton Ave</td>\n",
       "      <td>member</td>\n",
       "    </tr>\n",
       "  </tbody>\n",
       "</table>\n",
       "<p>4198335 rows × 10 columns</p>\n",
       "</div>"
      ],
      "text/plain": [
       "                 ride_id  rideable_type              started_at  \\\n",
       "48853   56F5C3ED5178C131   classic_bike 2024-01-01 00:01:01.000   \n",
       "26576   70BDF49A30C8BFFC   classic_bike 2024-01-01 00:02:15.000   \n",
       "46733   B7F1F63BD1AFF4E9   classic_bike 2024-01-01 00:06:59.000   \n",
       "40692   444DD0D82A50BA8C   classic_bike 2024-01-01 00:07:45.000   \n",
       "71103   510C1C0AA564ADF0   classic_bike 2024-01-01 00:07:57.000   \n",
       "...                  ...            ...                     ...   \n",
       "56044   D10276507FC2E40A  electric_bike 2024-12-31 23:52:49.117   \n",
       "39689   C8FBE8FBA3C157F1  electric_bike 2024-12-31 23:54:01.903   \n",
       "2282    B14C678DEA55A583  electric_bike 2024-12-31 23:54:37.045   \n",
       "119498  86CB9E2042DD6E4F  electric_bike 2024-12-31 23:56:38.214   \n",
       "92419   3E73BF87F0F0325A  electric_bike 2024-12-31 23:56:49.854   \n",
       "\n",
       "                      ended_at              ride_time  month  week  \\\n",
       "48853  2024-01-01 00:24:12.000        0 days 00:23:11      1     1   \n",
       "26576  2024-01-01 00:07:01.000        0 days 00:04:46      1     1   \n",
       "46733  2024-01-01 00:17:21.000        0 days 00:10:22      1     1   \n",
       "40692  2024-01-01 00:15:41.000        0 days 00:07:56      1     1   \n",
       "71103  2024-01-01 00:29:42.000        0 days 00:21:45      1     1   \n",
       "...                        ...                    ...    ...   ...   \n",
       "56044  2024-12-31 23:58:19.908 0 days 00:05:30.791000     12    53   \n",
       "39689  2024-12-31 23:59:28.819 0 days 00:05:26.916000     12    53   \n",
       "2282   2024-12-31 23:57:19.293 0 days 00:02:42.248000     12    53   \n",
       "119498 2024-12-31 23:56:51.547 0 days 00:00:13.333000     12    53   \n",
       "92419  2024-12-31 23:57:40.525 0 days 00:00:50.671000     12    53   \n",
       "\n",
       "                        start_station_name               end_station_name  \\\n",
       "48853             LaSalle St & Illinois St     Indiana Ave & Roosevelt Rd   \n",
       "26576        Sheffield Ave & Fullerton Ave  Greenview Ave & Fullerton Ave   \n",
       "46733              Western Ave & Howard St            Clark St & Lunt Ave   \n",
       "40692   DuSable Lake Shore Dr & North Blvd      Sedgwick St & Webster Ave   \n",
       "71103               Clinton St & Tilden St       LaSalle St & Illinois St   \n",
       "...                                    ...                            ...   \n",
       "56044               Clinton St & Tilden St             Daley Center Plaza   \n",
       "39689          Michigan Ave & Jackson Blvd   Stetson Ave & South Water St   \n",
       "2282                  Paulina St & 18th St           Racine Ave & 18th St   \n",
       "119498                      Dusable Harbor                 Dusable Harbor   \n",
       "92419        Sheffield Ave & Fullerton Ave  Sheffield Ave & Fullerton Ave   \n",
       "\n",
       "       member_casual  \n",
       "48853         member  \n",
       "26576         casual  \n",
       "46733         member  \n",
       "40692         casual  \n",
       "71103         casual  \n",
       "...              ...  \n",
       "56044         member  \n",
       "39689         casual  \n",
       "2282          member  \n",
       "119498        member  \n",
       "92419         member  \n",
       "\n",
       "[4198335 rows x 10 columns]"
      ]
     },
     "execution_count": 262,
     "metadata": {},
     "output_type": "execute_result"
    }
   ],
   "source": [
    "analysis_df"
   ]
  },
  {
   "cell_type": "markdown",
   "id": "2b4c4fe7",
   "metadata": {},
   "source": [
    "### Checking unique values within columns"
   ]
  },
  {
   "cell_type": "code",
   "execution_count": 263,
   "id": "483303aa",
   "metadata": {},
   "outputs": [
    {
     "data": {
      "text/plain": [
       "ride_id               4198335\n",
       "rideable_type               3\n",
       "started_at            4077137\n",
       "ended_at              4079187\n",
       "ride_time             1512773\n",
       "month                      12\n",
       "week                       53\n",
       "start_station_name       1787\n",
       "end_station_name         1798\n",
       "member_casual               2\n",
       "dtype: int64"
      ]
     },
     "execution_count": 263,
     "metadata": {},
     "output_type": "execute_result"
    }
   ],
   "source": [
    "analysis_df.nunique()"
   ]
  },
  {
   "cell_type": "markdown",
   "id": "37dde9f7",
   "metadata": {},
   "source": [
    "### How many users are subscribed?"
   ]
  },
  {
   "cell_type": "code",
   "execution_count": 264,
   "id": "2b033ec6",
   "metadata": {},
   "outputs": [
    {
     "data": {
      "text/plain": [
       "member_casual\n",
       "member    2680018\n",
       "casual    1518317\n",
       "Name: count, dtype: int64"
      ]
     },
     "execution_count": 264,
     "metadata": {},
     "output_type": "execute_result"
    }
   ],
   "source": [
    "members = analysis_df['member_casual'].value_counts()\n",
    "members"
   ]
  },
  {
   "cell_type": "code",
   "execution_count": 265,
   "id": "e1036989",
   "metadata": {},
   "outputs": [
    {
     "data": {
      "application/vnd.plotly.v1+json": {
       "config": {
        "plotlyServerURL": "https://plot.ly"
       },
       "data": [
        {
         "hovertemplate": "variable=count<br>member_casual=%{x}<br>value=%{y}<extra></extra>",
         "legendgroup": "count",
         "marker": {
          "color": "lightgreen",
          "pattern": {
           "shape": ""
          }
         },
         "name": "count",
         "orientation": "v",
         "showlegend": true,
         "textposition": "auto",
         "type": "bar",
         "x": [
          "member",
          "casual"
         ],
         "xaxis": "x",
         "y": {
          "bdata": "0uQoAO0qFwA=",
          "dtype": "i4"
         },
         "yaxis": "y"
        }
       ],
       "layout": {
        "barmode": "relative",
        "legend": {
         "title": {
          "text": "variable"
         },
         "tracegroupgap": 0
        },
        "margin": {
         "t": 60
        },
        "showlegend": false,
        "template": {
         "data": {
          "bar": [
           {
            "error_x": {
             "color": "#2a3f5f"
            },
            "error_y": {
             "color": "#2a3f5f"
            },
            "marker": {
             "line": {
              "color": "#E5ECF6",
              "width": 0.5
             },
             "pattern": {
              "fillmode": "overlay",
              "size": 10,
              "solidity": 0.2
             }
            },
            "type": "bar"
           }
          ],
          "barpolar": [
           {
            "marker": {
             "line": {
              "color": "#E5ECF6",
              "width": 0.5
             },
             "pattern": {
              "fillmode": "overlay",
              "size": 10,
              "solidity": 0.2
             }
            },
            "type": "barpolar"
           }
          ],
          "carpet": [
           {
            "aaxis": {
             "endlinecolor": "#2a3f5f",
             "gridcolor": "white",
             "linecolor": "white",
             "minorgridcolor": "white",
             "startlinecolor": "#2a3f5f"
            },
            "baxis": {
             "endlinecolor": "#2a3f5f",
             "gridcolor": "white",
             "linecolor": "white",
             "minorgridcolor": "white",
             "startlinecolor": "#2a3f5f"
            },
            "type": "carpet"
           }
          ],
          "choropleth": [
           {
            "colorbar": {
             "outlinewidth": 0,
             "ticks": ""
            },
            "type": "choropleth"
           }
          ],
          "contour": [
           {
            "colorbar": {
             "outlinewidth": 0,
             "ticks": ""
            },
            "colorscale": [
             [
              0,
              "#0d0887"
             ],
             [
              0.1111111111111111,
              "#46039f"
             ],
             [
              0.2222222222222222,
              "#7201a8"
             ],
             [
              0.3333333333333333,
              "#9c179e"
             ],
             [
              0.4444444444444444,
              "#bd3786"
             ],
             [
              0.5555555555555556,
              "#d8576b"
             ],
             [
              0.6666666666666666,
              "#ed7953"
             ],
             [
              0.7777777777777778,
              "#fb9f3a"
             ],
             [
              0.8888888888888888,
              "#fdca26"
             ],
             [
              1,
              "#f0f921"
             ]
            ],
            "type": "contour"
           }
          ],
          "contourcarpet": [
           {
            "colorbar": {
             "outlinewidth": 0,
             "ticks": ""
            },
            "type": "contourcarpet"
           }
          ],
          "heatmap": [
           {
            "colorbar": {
             "outlinewidth": 0,
             "ticks": ""
            },
            "colorscale": [
             [
              0,
              "#0d0887"
             ],
             [
              0.1111111111111111,
              "#46039f"
             ],
             [
              0.2222222222222222,
              "#7201a8"
             ],
             [
              0.3333333333333333,
              "#9c179e"
             ],
             [
              0.4444444444444444,
              "#bd3786"
             ],
             [
              0.5555555555555556,
              "#d8576b"
             ],
             [
              0.6666666666666666,
              "#ed7953"
             ],
             [
              0.7777777777777778,
              "#fb9f3a"
             ],
             [
              0.8888888888888888,
              "#fdca26"
             ],
             [
              1,
              "#f0f921"
             ]
            ],
            "type": "heatmap"
           }
          ],
          "histogram": [
           {
            "marker": {
             "pattern": {
              "fillmode": "overlay",
              "size": 10,
              "solidity": 0.2
             }
            },
            "type": "histogram"
           }
          ],
          "histogram2d": [
           {
            "colorbar": {
             "outlinewidth": 0,
             "ticks": ""
            },
            "colorscale": [
             [
              0,
              "#0d0887"
             ],
             [
              0.1111111111111111,
              "#46039f"
             ],
             [
              0.2222222222222222,
              "#7201a8"
             ],
             [
              0.3333333333333333,
              "#9c179e"
             ],
             [
              0.4444444444444444,
              "#bd3786"
             ],
             [
              0.5555555555555556,
              "#d8576b"
             ],
             [
              0.6666666666666666,
              "#ed7953"
             ],
             [
              0.7777777777777778,
              "#fb9f3a"
             ],
             [
              0.8888888888888888,
              "#fdca26"
             ],
             [
              1,
              "#f0f921"
             ]
            ],
            "type": "histogram2d"
           }
          ],
          "histogram2dcontour": [
           {
            "colorbar": {
             "outlinewidth": 0,
             "ticks": ""
            },
            "colorscale": [
             [
              0,
              "#0d0887"
             ],
             [
              0.1111111111111111,
              "#46039f"
             ],
             [
              0.2222222222222222,
              "#7201a8"
             ],
             [
              0.3333333333333333,
              "#9c179e"
             ],
             [
              0.4444444444444444,
              "#bd3786"
             ],
             [
              0.5555555555555556,
              "#d8576b"
             ],
             [
              0.6666666666666666,
              "#ed7953"
             ],
             [
              0.7777777777777778,
              "#fb9f3a"
             ],
             [
              0.8888888888888888,
              "#fdca26"
             ],
             [
              1,
              "#f0f921"
             ]
            ],
            "type": "histogram2dcontour"
           }
          ],
          "mesh3d": [
           {
            "colorbar": {
             "outlinewidth": 0,
             "ticks": ""
            },
            "type": "mesh3d"
           }
          ],
          "parcoords": [
           {
            "line": {
             "colorbar": {
              "outlinewidth": 0,
              "ticks": ""
             }
            },
            "type": "parcoords"
           }
          ],
          "pie": [
           {
            "automargin": true,
            "type": "pie"
           }
          ],
          "scatter": [
           {
            "fillpattern": {
             "fillmode": "overlay",
             "size": 10,
             "solidity": 0.2
            },
            "type": "scatter"
           }
          ],
          "scatter3d": [
           {
            "line": {
             "colorbar": {
              "outlinewidth": 0,
              "ticks": ""
             }
            },
            "marker": {
             "colorbar": {
              "outlinewidth": 0,
              "ticks": ""
             }
            },
            "type": "scatter3d"
           }
          ],
          "scattercarpet": [
           {
            "marker": {
             "colorbar": {
              "outlinewidth": 0,
              "ticks": ""
             }
            },
            "type": "scattercarpet"
           }
          ],
          "scattergeo": [
           {
            "marker": {
             "colorbar": {
              "outlinewidth": 0,
              "ticks": ""
             }
            },
            "type": "scattergeo"
           }
          ],
          "scattergl": [
           {
            "marker": {
             "colorbar": {
              "outlinewidth": 0,
              "ticks": ""
             }
            },
            "type": "scattergl"
           }
          ],
          "scattermap": [
           {
            "marker": {
             "colorbar": {
              "outlinewidth": 0,
              "ticks": ""
             }
            },
            "type": "scattermap"
           }
          ],
          "scattermapbox": [
           {
            "marker": {
             "colorbar": {
              "outlinewidth": 0,
              "ticks": ""
             }
            },
            "type": "scattermapbox"
           }
          ],
          "scatterpolar": [
           {
            "marker": {
             "colorbar": {
              "outlinewidth": 0,
              "ticks": ""
             }
            },
            "type": "scatterpolar"
           }
          ],
          "scatterpolargl": [
           {
            "marker": {
             "colorbar": {
              "outlinewidth": 0,
              "ticks": ""
             }
            },
            "type": "scatterpolargl"
           }
          ],
          "scatterternary": [
           {
            "marker": {
             "colorbar": {
              "outlinewidth": 0,
              "ticks": ""
             }
            },
            "type": "scatterternary"
           }
          ],
          "surface": [
           {
            "colorbar": {
             "outlinewidth": 0,
             "ticks": ""
            },
            "colorscale": [
             [
              0,
              "#0d0887"
             ],
             [
              0.1111111111111111,
              "#46039f"
             ],
             [
              0.2222222222222222,
              "#7201a8"
             ],
             [
              0.3333333333333333,
              "#9c179e"
             ],
             [
              0.4444444444444444,
              "#bd3786"
             ],
             [
              0.5555555555555556,
              "#d8576b"
             ],
             [
              0.6666666666666666,
              "#ed7953"
             ],
             [
              0.7777777777777778,
              "#fb9f3a"
             ],
             [
              0.8888888888888888,
              "#fdca26"
             ],
             [
              1,
              "#f0f921"
             ]
            ],
            "type": "surface"
           }
          ],
          "table": [
           {
            "cells": {
             "fill": {
              "color": "#EBF0F8"
             },
             "line": {
              "color": "white"
             }
            },
            "header": {
             "fill": {
              "color": "#C8D4E3"
             },
             "line": {
              "color": "white"
             }
            },
            "type": "table"
           }
          ]
         },
         "layout": {
          "annotationdefaults": {
           "arrowcolor": "#2a3f5f",
           "arrowhead": 0,
           "arrowwidth": 1
          },
          "autotypenumbers": "strict",
          "coloraxis": {
           "colorbar": {
            "outlinewidth": 0,
            "ticks": ""
           }
          },
          "colorscale": {
           "diverging": [
            [
             0,
             "#8e0152"
            ],
            [
             0.1,
             "#c51b7d"
            ],
            [
             0.2,
             "#de77ae"
            ],
            [
             0.3,
             "#f1b6da"
            ],
            [
             0.4,
             "#fde0ef"
            ],
            [
             0.5,
             "#f7f7f7"
            ],
            [
             0.6,
             "#e6f5d0"
            ],
            [
             0.7,
             "#b8e186"
            ],
            [
             0.8,
             "#7fbc41"
            ],
            [
             0.9,
             "#4d9221"
            ],
            [
             1,
             "#276419"
            ]
           ],
           "sequential": [
            [
             0,
             "#0d0887"
            ],
            [
             0.1111111111111111,
             "#46039f"
            ],
            [
             0.2222222222222222,
             "#7201a8"
            ],
            [
             0.3333333333333333,
             "#9c179e"
            ],
            [
             0.4444444444444444,
             "#bd3786"
            ],
            [
             0.5555555555555556,
             "#d8576b"
            ],
            [
             0.6666666666666666,
             "#ed7953"
            ],
            [
             0.7777777777777778,
             "#fb9f3a"
            ],
            [
             0.8888888888888888,
             "#fdca26"
            ],
            [
             1,
             "#f0f921"
            ]
           ],
           "sequentialminus": [
            [
             0,
             "#0d0887"
            ],
            [
             0.1111111111111111,
             "#46039f"
            ],
            [
             0.2222222222222222,
             "#7201a8"
            ],
            [
             0.3333333333333333,
             "#9c179e"
            ],
            [
             0.4444444444444444,
             "#bd3786"
            ],
            [
             0.5555555555555556,
             "#d8576b"
            ],
            [
             0.6666666666666666,
             "#ed7953"
            ],
            [
             0.7777777777777778,
             "#fb9f3a"
            ],
            [
             0.8888888888888888,
             "#fdca26"
            ],
            [
             1,
             "#f0f921"
            ]
           ]
          },
          "colorway": [
           "#636efa",
           "#EF553B",
           "#00cc96",
           "#ab63fa",
           "#FFA15A",
           "#19d3f3",
           "#FF6692",
           "#B6E880",
           "#FF97FF",
           "#FECB52"
          ],
          "font": {
           "color": "#2a3f5f"
          },
          "geo": {
           "bgcolor": "white",
           "lakecolor": "white",
           "landcolor": "#E5ECF6",
           "showlakes": true,
           "showland": true,
           "subunitcolor": "white"
          },
          "hoverlabel": {
           "align": "left"
          },
          "hovermode": "closest",
          "mapbox": {
           "style": "light"
          },
          "paper_bgcolor": "white",
          "plot_bgcolor": "#E5ECF6",
          "polar": {
           "angularaxis": {
            "gridcolor": "white",
            "linecolor": "white",
            "ticks": ""
           },
           "bgcolor": "#E5ECF6",
           "radialaxis": {
            "gridcolor": "white",
            "linecolor": "white",
            "ticks": ""
           }
          },
          "scene": {
           "xaxis": {
            "backgroundcolor": "#E5ECF6",
            "gridcolor": "white",
            "gridwidth": 2,
            "linecolor": "white",
            "showbackground": true,
            "ticks": "",
            "zerolinecolor": "white"
           },
           "yaxis": {
            "backgroundcolor": "#E5ECF6",
            "gridcolor": "white",
            "gridwidth": 2,
            "linecolor": "white",
            "showbackground": true,
            "ticks": "",
            "zerolinecolor": "white"
           },
           "zaxis": {
            "backgroundcolor": "#E5ECF6",
            "gridcolor": "white",
            "gridwidth": 2,
            "linecolor": "white",
            "showbackground": true,
            "ticks": "",
            "zerolinecolor": "white"
           }
          },
          "shapedefaults": {
           "line": {
            "color": "#2a3f5f"
           }
          },
          "ternary": {
           "aaxis": {
            "gridcolor": "white",
            "linecolor": "white",
            "ticks": ""
           },
           "baxis": {
            "gridcolor": "white",
            "linecolor": "white",
            "ticks": ""
           },
           "bgcolor": "#E5ECF6",
           "caxis": {
            "gridcolor": "white",
            "linecolor": "white",
            "ticks": ""
           }
          },
          "title": {
           "x": 0.05
          },
          "xaxis": {
           "automargin": true,
           "gridcolor": "white",
           "linecolor": "white",
           "ticks": "",
           "title": {
            "standoff": 15
           },
           "zerolinecolor": "white",
           "zerolinewidth": 2
          },
          "yaxis": {
           "automargin": true,
           "gridcolor": "white",
           "linecolor": "white",
           "ticks": "",
           "title": {
            "standoff": 15
           },
           "zerolinecolor": "white",
           "zerolinewidth": 2
          }
         }
        },
        "title": {
         "text": "Number of Users per Membership status"
        },
        "width": 1000,
        "xaxis": {
         "anchor": "y",
         "domain": [
          0,
          1
         ],
         "title": {
          "text": "Membership status"
         }
        },
        "yaxis": {
         "anchor": "x",
         "domain": [
          0,
          1
         ],
         "title": {
          "text": "User count"
         }
        }
       }
      }
     },
     "metadata": {},
     "output_type": "display_data"
    }
   ],
   "source": [
    "members_bar = px.bar(\n",
    "    members,\n",
    "    width=1000,\n",
    "    color_discrete_sequence=['lightgreen']\n",
    ")\n",
    "\n",
    "members_bar.update_layout(\n",
    "    xaxis_title='Membership status', \n",
    "    yaxis_title='User count', \n",
    "    title='Number of Users per Membership status',\n",
    "    showlegend=False\n",
    ")\n",
    "\n",
    "members_bar.show()"
   ]
  },
  {
   "cell_type": "markdown",
   "id": "f7b6922c",
   "metadata": {},
   "source": [
    "### How many users are each using a different rideable devices?"
   ]
  },
  {
   "cell_type": "code",
   "execution_count": 266,
   "id": "ecfdc330",
   "metadata": {},
   "outputs": [
    {
     "data": {
      "text/plain": [
       "rideable_type\n",
       "classic_bike        2724476\n",
       "electric_bike       1426242\n",
       "electric_scooter      47617\n",
       "Name: count, dtype: int64"
      ]
     },
     "execution_count": 266,
     "metadata": {},
     "output_type": "execute_result"
    }
   ],
   "source": [
    "rideable_types = analysis_df['rideable_type'].value_counts()\n",
    "rideable_types"
   ]
  },
  {
   "cell_type": "code",
   "execution_count": 267,
   "id": "237bb914",
   "metadata": {},
   "outputs": [
    {
     "data": {
      "application/vnd.plotly.v1+json": {
       "config": {
        "plotlyServerURL": "https://plot.ly"
       },
       "data": [
        {
         "hovertemplate": "variable=count<br>rideable_type=%{x}<br>value=%{y}<extra></extra>",
         "legendgroup": "count",
         "marker": {
          "color": "pink",
          "pattern": {
           "shape": ""
          }
         },
         "name": "count",
         "orientation": "v",
         "showlegend": true,
         "textposition": "auto",
         "type": "bar",
         "x": [
          "classic_bike",
          "electric_bike",
          "electric_scooter"
         ],
         "xaxis": "x",
         "y": {
          "bdata": "fJIpAELDFQABugAA",
          "dtype": "i4"
         },
         "yaxis": "y"
        }
       ],
       "layout": {
        "barmode": "relative",
        "legend": {
         "title": {
          "text": "variable"
         },
         "tracegroupgap": 0
        },
        "margin": {
         "t": 60
        },
        "showlegend": false,
        "template": {
         "data": {
          "bar": [
           {
            "error_x": {
             "color": "#2a3f5f"
            },
            "error_y": {
             "color": "#2a3f5f"
            },
            "marker": {
             "line": {
              "color": "#E5ECF6",
              "width": 0.5
             },
             "pattern": {
              "fillmode": "overlay",
              "size": 10,
              "solidity": 0.2
             }
            },
            "type": "bar"
           }
          ],
          "barpolar": [
           {
            "marker": {
             "line": {
              "color": "#E5ECF6",
              "width": 0.5
             },
             "pattern": {
              "fillmode": "overlay",
              "size": 10,
              "solidity": 0.2
             }
            },
            "type": "barpolar"
           }
          ],
          "carpet": [
           {
            "aaxis": {
             "endlinecolor": "#2a3f5f",
             "gridcolor": "white",
             "linecolor": "white",
             "minorgridcolor": "white",
             "startlinecolor": "#2a3f5f"
            },
            "baxis": {
             "endlinecolor": "#2a3f5f",
             "gridcolor": "white",
             "linecolor": "white",
             "minorgridcolor": "white",
             "startlinecolor": "#2a3f5f"
            },
            "type": "carpet"
           }
          ],
          "choropleth": [
           {
            "colorbar": {
             "outlinewidth": 0,
             "ticks": ""
            },
            "type": "choropleth"
           }
          ],
          "contour": [
           {
            "colorbar": {
             "outlinewidth": 0,
             "ticks": ""
            },
            "colorscale": [
             [
              0,
              "#0d0887"
             ],
             [
              0.1111111111111111,
              "#46039f"
             ],
             [
              0.2222222222222222,
              "#7201a8"
             ],
             [
              0.3333333333333333,
              "#9c179e"
             ],
             [
              0.4444444444444444,
              "#bd3786"
             ],
             [
              0.5555555555555556,
              "#d8576b"
             ],
             [
              0.6666666666666666,
              "#ed7953"
             ],
             [
              0.7777777777777778,
              "#fb9f3a"
             ],
             [
              0.8888888888888888,
              "#fdca26"
             ],
             [
              1,
              "#f0f921"
             ]
            ],
            "type": "contour"
           }
          ],
          "contourcarpet": [
           {
            "colorbar": {
             "outlinewidth": 0,
             "ticks": ""
            },
            "type": "contourcarpet"
           }
          ],
          "heatmap": [
           {
            "colorbar": {
             "outlinewidth": 0,
             "ticks": ""
            },
            "colorscale": [
             [
              0,
              "#0d0887"
             ],
             [
              0.1111111111111111,
              "#46039f"
             ],
             [
              0.2222222222222222,
              "#7201a8"
             ],
             [
              0.3333333333333333,
              "#9c179e"
             ],
             [
              0.4444444444444444,
              "#bd3786"
             ],
             [
              0.5555555555555556,
              "#d8576b"
             ],
             [
              0.6666666666666666,
              "#ed7953"
             ],
             [
              0.7777777777777778,
              "#fb9f3a"
             ],
             [
              0.8888888888888888,
              "#fdca26"
             ],
             [
              1,
              "#f0f921"
             ]
            ],
            "type": "heatmap"
           }
          ],
          "histogram": [
           {
            "marker": {
             "pattern": {
              "fillmode": "overlay",
              "size": 10,
              "solidity": 0.2
             }
            },
            "type": "histogram"
           }
          ],
          "histogram2d": [
           {
            "colorbar": {
             "outlinewidth": 0,
             "ticks": ""
            },
            "colorscale": [
             [
              0,
              "#0d0887"
             ],
             [
              0.1111111111111111,
              "#46039f"
             ],
             [
              0.2222222222222222,
              "#7201a8"
             ],
             [
              0.3333333333333333,
              "#9c179e"
             ],
             [
              0.4444444444444444,
              "#bd3786"
             ],
             [
              0.5555555555555556,
              "#d8576b"
             ],
             [
              0.6666666666666666,
              "#ed7953"
             ],
             [
              0.7777777777777778,
              "#fb9f3a"
             ],
             [
              0.8888888888888888,
              "#fdca26"
             ],
             [
              1,
              "#f0f921"
             ]
            ],
            "type": "histogram2d"
           }
          ],
          "histogram2dcontour": [
           {
            "colorbar": {
             "outlinewidth": 0,
             "ticks": ""
            },
            "colorscale": [
             [
              0,
              "#0d0887"
             ],
             [
              0.1111111111111111,
              "#46039f"
             ],
             [
              0.2222222222222222,
              "#7201a8"
             ],
             [
              0.3333333333333333,
              "#9c179e"
             ],
             [
              0.4444444444444444,
              "#bd3786"
             ],
             [
              0.5555555555555556,
              "#d8576b"
             ],
             [
              0.6666666666666666,
              "#ed7953"
             ],
             [
              0.7777777777777778,
              "#fb9f3a"
             ],
             [
              0.8888888888888888,
              "#fdca26"
             ],
             [
              1,
              "#f0f921"
             ]
            ],
            "type": "histogram2dcontour"
           }
          ],
          "mesh3d": [
           {
            "colorbar": {
             "outlinewidth": 0,
             "ticks": ""
            },
            "type": "mesh3d"
           }
          ],
          "parcoords": [
           {
            "line": {
             "colorbar": {
              "outlinewidth": 0,
              "ticks": ""
             }
            },
            "type": "parcoords"
           }
          ],
          "pie": [
           {
            "automargin": true,
            "type": "pie"
           }
          ],
          "scatter": [
           {
            "fillpattern": {
             "fillmode": "overlay",
             "size": 10,
             "solidity": 0.2
            },
            "type": "scatter"
           }
          ],
          "scatter3d": [
           {
            "line": {
             "colorbar": {
              "outlinewidth": 0,
              "ticks": ""
             }
            },
            "marker": {
             "colorbar": {
              "outlinewidth": 0,
              "ticks": ""
             }
            },
            "type": "scatter3d"
           }
          ],
          "scattercarpet": [
           {
            "marker": {
             "colorbar": {
              "outlinewidth": 0,
              "ticks": ""
             }
            },
            "type": "scattercarpet"
           }
          ],
          "scattergeo": [
           {
            "marker": {
             "colorbar": {
              "outlinewidth": 0,
              "ticks": ""
             }
            },
            "type": "scattergeo"
           }
          ],
          "scattergl": [
           {
            "marker": {
             "colorbar": {
              "outlinewidth": 0,
              "ticks": ""
             }
            },
            "type": "scattergl"
           }
          ],
          "scattermap": [
           {
            "marker": {
             "colorbar": {
              "outlinewidth": 0,
              "ticks": ""
             }
            },
            "type": "scattermap"
           }
          ],
          "scattermapbox": [
           {
            "marker": {
             "colorbar": {
              "outlinewidth": 0,
              "ticks": ""
             }
            },
            "type": "scattermapbox"
           }
          ],
          "scatterpolar": [
           {
            "marker": {
             "colorbar": {
              "outlinewidth": 0,
              "ticks": ""
             }
            },
            "type": "scatterpolar"
           }
          ],
          "scatterpolargl": [
           {
            "marker": {
             "colorbar": {
              "outlinewidth": 0,
              "ticks": ""
             }
            },
            "type": "scatterpolargl"
           }
          ],
          "scatterternary": [
           {
            "marker": {
             "colorbar": {
              "outlinewidth": 0,
              "ticks": ""
             }
            },
            "type": "scatterternary"
           }
          ],
          "surface": [
           {
            "colorbar": {
             "outlinewidth": 0,
             "ticks": ""
            },
            "colorscale": [
             [
              0,
              "#0d0887"
             ],
             [
              0.1111111111111111,
              "#46039f"
             ],
             [
              0.2222222222222222,
              "#7201a8"
             ],
             [
              0.3333333333333333,
              "#9c179e"
             ],
             [
              0.4444444444444444,
              "#bd3786"
             ],
             [
              0.5555555555555556,
              "#d8576b"
             ],
             [
              0.6666666666666666,
              "#ed7953"
             ],
             [
              0.7777777777777778,
              "#fb9f3a"
             ],
             [
              0.8888888888888888,
              "#fdca26"
             ],
             [
              1,
              "#f0f921"
             ]
            ],
            "type": "surface"
           }
          ],
          "table": [
           {
            "cells": {
             "fill": {
              "color": "#EBF0F8"
             },
             "line": {
              "color": "white"
             }
            },
            "header": {
             "fill": {
              "color": "#C8D4E3"
             },
             "line": {
              "color": "white"
             }
            },
            "type": "table"
           }
          ]
         },
         "layout": {
          "annotationdefaults": {
           "arrowcolor": "#2a3f5f",
           "arrowhead": 0,
           "arrowwidth": 1
          },
          "autotypenumbers": "strict",
          "coloraxis": {
           "colorbar": {
            "outlinewidth": 0,
            "ticks": ""
           }
          },
          "colorscale": {
           "diverging": [
            [
             0,
             "#8e0152"
            ],
            [
             0.1,
             "#c51b7d"
            ],
            [
             0.2,
             "#de77ae"
            ],
            [
             0.3,
             "#f1b6da"
            ],
            [
             0.4,
             "#fde0ef"
            ],
            [
             0.5,
             "#f7f7f7"
            ],
            [
             0.6,
             "#e6f5d0"
            ],
            [
             0.7,
             "#b8e186"
            ],
            [
             0.8,
             "#7fbc41"
            ],
            [
             0.9,
             "#4d9221"
            ],
            [
             1,
             "#276419"
            ]
           ],
           "sequential": [
            [
             0,
             "#0d0887"
            ],
            [
             0.1111111111111111,
             "#46039f"
            ],
            [
             0.2222222222222222,
             "#7201a8"
            ],
            [
             0.3333333333333333,
             "#9c179e"
            ],
            [
             0.4444444444444444,
             "#bd3786"
            ],
            [
             0.5555555555555556,
             "#d8576b"
            ],
            [
             0.6666666666666666,
             "#ed7953"
            ],
            [
             0.7777777777777778,
             "#fb9f3a"
            ],
            [
             0.8888888888888888,
             "#fdca26"
            ],
            [
             1,
             "#f0f921"
            ]
           ],
           "sequentialminus": [
            [
             0,
             "#0d0887"
            ],
            [
             0.1111111111111111,
             "#46039f"
            ],
            [
             0.2222222222222222,
             "#7201a8"
            ],
            [
             0.3333333333333333,
             "#9c179e"
            ],
            [
             0.4444444444444444,
             "#bd3786"
            ],
            [
             0.5555555555555556,
             "#d8576b"
            ],
            [
             0.6666666666666666,
             "#ed7953"
            ],
            [
             0.7777777777777778,
             "#fb9f3a"
            ],
            [
             0.8888888888888888,
             "#fdca26"
            ],
            [
             1,
             "#f0f921"
            ]
           ]
          },
          "colorway": [
           "#636efa",
           "#EF553B",
           "#00cc96",
           "#ab63fa",
           "#FFA15A",
           "#19d3f3",
           "#FF6692",
           "#B6E880",
           "#FF97FF",
           "#FECB52"
          ],
          "font": {
           "color": "#2a3f5f"
          },
          "geo": {
           "bgcolor": "white",
           "lakecolor": "white",
           "landcolor": "#E5ECF6",
           "showlakes": true,
           "showland": true,
           "subunitcolor": "white"
          },
          "hoverlabel": {
           "align": "left"
          },
          "hovermode": "closest",
          "mapbox": {
           "style": "light"
          },
          "paper_bgcolor": "white",
          "plot_bgcolor": "#E5ECF6",
          "polar": {
           "angularaxis": {
            "gridcolor": "white",
            "linecolor": "white",
            "ticks": ""
           },
           "bgcolor": "#E5ECF6",
           "radialaxis": {
            "gridcolor": "white",
            "linecolor": "white",
            "ticks": ""
           }
          },
          "scene": {
           "xaxis": {
            "backgroundcolor": "#E5ECF6",
            "gridcolor": "white",
            "gridwidth": 2,
            "linecolor": "white",
            "showbackground": true,
            "ticks": "",
            "zerolinecolor": "white"
           },
           "yaxis": {
            "backgroundcolor": "#E5ECF6",
            "gridcolor": "white",
            "gridwidth": 2,
            "linecolor": "white",
            "showbackground": true,
            "ticks": "",
            "zerolinecolor": "white"
           },
           "zaxis": {
            "backgroundcolor": "#E5ECF6",
            "gridcolor": "white",
            "gridwidth": 2,
            "linecolor": "white",
            "showbackground": true,
            "ticks": "",
            "zerolinecolor": "white"
           }
          },
          "shapedefaults": {
           "line": {
            "color": "#2a3f5f"
           }
          },
          "ternary": {
           "aaxis": {
            "gridcolor": "white",
            "linecolor": "white",
            "ticks": ""
           },
           "baxis": {
            "gridcolor": "white",
            "linecolor": "white",
            "ticks": ""
           },
           "bgcolor": "#E5ECF6",
           "caxis": {
            "gridcolor": "white",
            "linecolor": "white",
            "ticks": ""
           }
          },
          "title": {
           "x": 0.05
          },
          "xaxis": {
           "automargin": true,
           "gridcolor": "white",
           "linecolor": "white",
           "ticks": "",
           "title": {
            "standoff": 15
           },
           "zerolinecolor": "white",
           "zerolinewidth": 2
          },
          "yaxis": {
           "automargin": true,
           "gridcolor": "white",
           "linecolor": "white",
           "ticks": "",
           "title": {
            "standoff": 15
           },
           "zerolinecolor": "white",
           "zerolinewidth": 2
          }
         }
        },
        "title": {
         "text": "Number of Users per Ridable device"
        },
        "width": 1000,
        "xaxis": {
         "anchor": "y",
         "domain": [
          0,
          1
         ],
         "title": {
          "text": "Transport device"
         }
        },
        "yaxis": {
         "anchor": "x",
         "domain": [
          0,
          1
         ],
         "title": {
          "text": "User count"
         }
        }
       }
      }
     },
     "metadata": {},
     "output_type": "display_data"
    }
   ],
   "source": [
    "rideable_types_bar = px.bar(\n",
    "    rideable_types,\n",
    "    width=1000,\n",
    "    color_discrete_sequence=['pink']\n",
    ")\n",
    "\n",
    "rideable_types_bar.update_layout(\n",
    "    xaxis_title='Transport device', \n",
    "    yaxis_title='User count', \n",
    "    showlegend=False,\n",
    "    title='Number of Users per Ridable device',    \n",
    ")\n",
    "\n",
    "rideable_types_bar.show()"
   ]
  },
  {
   "cell_type": "markdown",
   "id": "3c6a7cba",
   "metadata": {},
   "source": [
    "### What are the stations that have never been registered as start stations and end stations?"
   ]
  },
  {
   "cell_type": "code",
   "execution_count": 268,
   "id": "57c7b563",
   "metadata": {},
   "outputs": [
    {
     "name": "stdout",
     "output_type": "stream",
     "text": [
      "These stations were never start stations:\n"
     ]
    },
    {
     "data": {
      "text/plain": [
       "{'Base - 2132 W Hubbard',\n",
       " 'Cumberland Ave & Catherine Ave',\n",
       " 'Kedzie Ave & 38th Pl',\n",
       " 'Laflin St & 115th St',\n",
       " 'Public Rack - 53rd St & Indiana Ave',\n",
       " 'Public Rack - Avenue O & 118th St',\n",
       " 'Public Rack - Baltimore Ave & 134th St',\n",
       " 'Public Rack - Columbus & 79th',\n",
       " 'Public Rack - Cottage Grove & 85th St',\n",
       " 'Public Rack - Ewing Ave & 102nd St',\n",
       " 'Public Rack - Exchange Ave & 131st St',\n",
       " 'Public Rack - Marquette Rd & 67th St',\n",
       " 'Public Rack - Northwest Hwy & Overhill Ave',\n",
       " 'Public Rack - Park Manor Elementary School',\n",
       " 'Public Rack - Pulaski & 84th',\n",
       " 'Public Rack - Rockwell Ave & 71st St',\n",
       " 'Public Rack - Springfield & 79th',\n",
       " 'Public Rack - Troy & 71st',\n",
       " 'Public Rack - Wabash Ave & 87th St',\n",
       " 'Public Rack - Western & 79th',\n",
       " 'Public Rack - Western Ave & 98th St',\n",
       " 'Public Rack - Whipple St & 26th St',\n",
       " 'SCOOTERS - 2132 W Hubbard ST',\n",
       " 'SCOOTERS CLASSIC - 2132 W Hubbard ST',\n",
       " 'w. Chicago Warehouse'}"
      ]
     },
     "metadata": {},
     "output_type": "display_data"
    },
    {
     "name": "stdout",
     "output_type": "stream",
     "text": [
      "\n",
      "These stations were never end stations:\n"
     ]
    },
    {
     "data": {
      "text/plain": [
       "{'Oketo Ave & Addison',\n",
       " 'Public Rack - Artesian & 71st',\n",
       " 'Public Rack - Brooks Park',\n",
       " 'Public Rack - Corliss Ave & 103rd St',\n",
       " 'Public Rack - Ellis Ave & 132nd Pl',\n",
       " 'Public Rack - Kedzie Ave & 83rd St',\n",
       " 'Public Rack - Keeler Ave & 55th St',\n",
       " 'Public Rack - Mason Ave & Milwaukee Ave',\n",
       " 'Public Rack - Normandy Ave & Raven St',\n",
       " 'Public Rack - Northwest Hwy & Highland Ave',\n",
       " 'Public Rack - Pittsburgh Ave & Irving Park',\n",
       " 'Public Rack - Prairie Ave & 78th St',\n",
       " 'Public Rack - Roscoe St & Osceola Ave',\n",
       " 'Public Rack - Tuley (Murray) Park'}"
      ]
     },
     "metadata": {},
     "output_type": "display_data"
    }
   ],
   "source": [
    "unique_start = analysis_df['start_station_name'].unique()\n",
    "unique_end = analysis_df['end_station_name'].unique()\n",
    "never_start = set(unique_end) - set(unique_start)\n",
    "never_end = set(unique_start) - set(unique_end)\n",
    "\n",
    "print('These stations were never start stations:')\n",
    "display(never_start)\n",
    "print('\\nThese stations were never end stations:')\n",
    "display(never_end)"
   ]
  },
  {
   "cell_type": "markdown",
   "id": "04848148",
   "metadata": {},
   "source": [
    "### Casual and member rides throughout  the year"
   ]
  },
  {
   "cell_type": "code",
   "execution_count": 269,
   "id": "b9f1f3f5",
   "metadata": {},
   "outputs": [],
   "source": [
    "# pd.set_option('display.max_rows', 200)\n",
    "pd.reset_option('display.max_rows')"
   ]
  },
  {
   "cell_type": "code",
   "execution_count": 270,
   "id": "8afddbef",
   "metadata": {},
   "outputs": [
    {
     "data": {
      "text/html": [
       "<div>\n",
       "<style scoped>\n",
       "    .dataframe tbody tr th:only-of-type {\n",
       "        vertical-align: middle;\n",
       "    }\n",
       "\n",
       "    .dataframe tbody tr th {\n",
       "        vertical-align: top;\n",
       "    }\n",
       "\n",
       "    .dataframe thead th {\n",
       "        text-align: right;\n",
       "    }\n",
       "</style>\n",
       "<table border=\"1\" class=\"dataframe\">\n",
       "  <thead>\n",
       "    <tr style=\"text-align: right;\">\n",
       "      <th></th>\n",
       "      <th>week</th>\n",
       "      <th>month</th>\n",
       "      <th>member_casual</th>\n",
       "      <th>count</th>\n",
       "    </tr>\n",
       "  </thead>\n",
       "  <tbody>\n",
       "    <tr>\n",
       "      <th>0</th>\n",
       "      <td>1</td>\n",
       "      <td>1</td>\n",
       "      <td>casual</td>\n",
       "      <td>5958</td>\n",
       "    </tr>\n",
       "    <tr>\n",
       "      <th>1</th>\n",
       "      <td>1</td>\n",
       "      <td>1</td>\n",
       "      <td>member</td>\n",
       "      <td>25500</td>\n",
       "    </tr>\n",
       "    <tr>\n",
       "      <th>2</th>\n",
       "      <td>2</td>\n",
       "      <td>1</td>\n",
       "      <td>casual</td>\n",
       "      <td>3414</td>\n",
       "    </tr>\n",
       "    <tr>\n",
       "      <th>3</th>\n",
       "      <td>2</td>\n",
       "      <td>1</td>\n",
       "      <td>member</td>\n",
       "      <td>21431</td>\n",
       "    </tr>\n",
       "    <tr>\n",
       "      <th>4</th>\n",
       "      <td>3</td>\n",
       "      <td>1</td>\n",
       "      <td>casual</td>\n",
       "      <td>1726</td>\n",
       "    </tr>\n",
       "    <tr>\n",
       "      <th>...</th>\n",
       "      <td>...</td>\n",
       "      <td>...</td>\n",
       "      <td>...</td>\n",
       "      <td>...</td>\n",
       "    </tr>\n",
       "    <tr>\n",
       "      <th>119</th>\n",
       "      <td>51</td>\n",
       "      <td>12</td>\n",
       "      <td>member</td>\n",
       "      <td>24811</td>\n",
       "    </tr>\n",
       "    <tr>\n",
       "      <th>120</th>\n",
       "      <td>52</td>\n",
       "      <td>12</td>\n",
       "      <td>casual</td>\n",
       "      <td>5074</td>\n",
       "    </tr>\n",
       "    <tr>\n",
       "      <th>121</th>\n",
       "      <td>52</td>\n",
       "      <td>12</td>\n",
       "      <td>member</td>\n",
       "      <td>12606</td>\n",
       "    </tr>\n",
       "    <tr>\n",
       "      <th>122</th>\n",
       "      <td>53</td>\n",
       "      <td>12</td>\n",
       "      <td>casual</td>\n",
       "      <td>1855</td>\n",
       "    </tr>\n",
       "    <tr>\n",
       "      <th>123</th>\n",
       "      <td>53</td>\n",
       "      <td>12</td>\n",
       "      <td>member</td>\n",
       "      <td>4976</td>\n",
       "    </tr>\n",
       "  </tbody>\n",
       "</table>\n",
       "<p>124 rows × 4 columns</p>\n",
       "</div>"
      ],
      "text/plain": [
       "     week  month member_casual  count\n",
       "0       1      1        casual   5958\n",
       "1       1      1        member  25500\n",
       "2       2      1        casual   3414\n",
       "3       2      1        member  21431\n",
       "4       3      1        casual   1726\n",
       "..    ...    ...           ...    ...\n",
       "119    51     12        member  24811\n",
       "120    52     12        casual   5074\n",
       "121    52     12        member  12606\n",
       "122    53     12        casual   1855\n",
       "123    53     12        member   4976\n",
       "\n",
       "[124 rows x 4 columns]"
      ]
     },
     "execution_count": 270,
     "metadata": {},
     "output_type": "execute_result"
    }
   ],
   "source": [
    "member_year_count = analysis_df.value_counts([ 'week', 'month', 'member_casual']).sort_index().reset_index(name='count')\n",
    "# member_year_count['month'] = pd.to_datetime(member_year_count['month'], format='%m').dt.month_name()\n",
    "member_year_count"
   ]
  },
  {
   "cell_type": "code",
   "execution_count": 271,
   "id": "9d99c905",
   "metadata": {},
   "outputs": [
    {
     "ename": "ValueError",
     "evalue": "The truth value of a Series is ambiguous. Use a.empty, a.bool(), a.item(), a.any() or a.all().",
     "output_type": "error",
     "traceback": [
      "\u001b[31m---------------------------------------------------------------------------\u001b[39m",
      "\u001b[31mValueError\u001b[39m                                Traceback (most recent call last)",
      "\u001b[32m~\\AppData\\Local\\Temp\\ipykernel_11792\\2941200374.py\u001b[39m in \u001b[36m?\u001b[39m\u001b[34m()\u001b[39m\n\u001b[32m----> \u001b[39m\u001b[32m1\u001b[39m analysis_df[\u001b[33m'month'\u001b[39m] == \u001b[32m12\u001b[39m & analysis_df[\u001b[33m'week'\u001b[39m] == \u001b[32m1\u001b[39m\n",
      "\u001b[32mc:\\Users\\kubas\\Desktop\\Projects\\myenv\\Lib\\site-packages\\pandas\\core\\generic.py\u001b[39m in \u001b[36m?\u001b[39m\u001b[34m(self)\u001b[39m\n\u001b[32m   1575\u001b[39m     @final\n\u001b[32m   1576\u001b[39m     \u001b[38;5;28;01mdef\u001b[39;00m __nonzero__(self) -> NoReturn:\n\u001b[32m-> \u001b[39m\u001b[32m1577\u001b[39m         raise ValueError(\n\u001b[32m   1578\u001b[39m             f\"The truth value of a {type(self).__name__} is ambiguous. \"\n\u001b[32m   1579\u001b[39m             \u001b[33m\"Use a.empty, a.bool(), a.item(), a.any() or a.all().\"\u001b[39m\n\u001b[32m   1580\u001b[39m         )\n",
      "\u001b[31mValueError\u001b[39m: The truth value of a Series is ambiguous. Use a.empty, a.bool(), a.item(), a.any() or a.all()."
     ]
    }
   ],
   "source": [
    "analysis_df['month'] == 12 & analysis_df['week'] == 1"
   ]
  },
  {
   "cell_type": "code",
   "execution_count": null,
   "id": "9542f32e",
   "metadata": {},
   "outputs": [
    {
     "data": {
      "application/vnd.plotly.v1+json": {
       "config": {
        "plotlyServerURL": "https://plot.ly"
       },
       "data": [
        {
         "hovertemplate": "member_casual=casual<br>week=%{x}<br>count=%{y}<extra></extra>",
         "legendgroup": "casual",
         "line": {
          "color": "#636efa",
          "dash": "solid"
         },
         "marker": {
          "symbol": "circle"
         },
         "mode": "lines",
         "name": "casual",
         "orientation": "v",
         "showlegend": true,
         "type": "scatter",
         "x": {
          "bdata": "AQAAAAEAAAACAAAAAwAAAAQAAAAFAAAABQAAAAYAAAAHAAAACAAAAAkAAAAJAAAACgAAAAsAAAAMAAAADQAAAA4AAAAPAAAAEAAAABEAAAASAAAAEgAAABMAAAAUAAAAFQAAABYAAAAWAAAAFwAAABgAAAAZAAAAGgAAABsAAAAcAAAAHQAAAB4AAAAfAAAAHwAAACAAAAAhAAAAIgAAACMAAAAjAAAAJAAAACUAAAAmAAAAJwAAACgAAAAoAAAAKQAAACoAAAArAAAALAAAACwAAAAtAAAALgAAAC8AAAAwAAAAMAAAADEAAAAyAAAAMwAAADQAAAA=",
          "dtype": "u4"
         },
         "xaxis": "x",
         "y": {
          "bdata": "RhcAAD8HAABWDQAAvgYAAAMQAACVCQAAKRIAAHgjAAAiGgAA0ykAAAYbAAC8KAAAeisAAMRHAABkIwAAJjUAAP8lAADdeQAA7lEAAK1eAAAMHQAAfWEAAEKCAAA4oAAAcqIAAE9lAAAiKwAALLQAAMnBAABC0wAAebgAAKLeAABitAAAVtwAABrQAAAjSQAA25EAAFTcAACOpwAAWsYAACafAADMMgAA3ssAAOXWAAAQwAAA8Z4AADoWAABOjgAAEbgAANR8AAA4dQAATzUAAEErAABKTQAAwUoAAG8yAACsFgAAMAIAAI4fAAAjGgAAHRcAANITAAA=",
          "dtype": "i4"
         },
         "yaxis": "y"
        },
        {
         "hovertemplate": "member_casual=member<br>week=%{x}<br>count=%{y}<extra></extra>",
         "legendgroup": "member",
         "line": {
          "color": "#EF553B",
          "dash": "solid"
         },
         "marker": {
          "symbol": "circle"
         },
         "mode": "lines",
         "name": "member",
         "orientation": "v",
         "showlegend": true,
         "type": "scatter",
         "x": {
          "bdata": "AQAAAAEAAAACAAAAAwAAAAQAAAAFAAAABQAAAAYAAAAHAAAACAAAAAkAAAAJAAAACgAAAAsAAAAMAAAADQAAAA4AAAAPAAAAEAAAABEAAAASAAAAEgAAABMAAAAUAAAAFQAAABYAAAAWAAAAFwAAABgAAAAZAAAAGgAAABsAAAAcAAAAHQAAAB4AAAAfAAAAHwAAACAAAAAhAAAAIgAAACMAAAAjAAAAJAAAACUAAAAmAAAAJwAAACgAAAAoAAAAKQAAACoAAAArAAAALAAAACwAAAAtAAAALgAAAC8AAAAwAAAAMAAAADEAAAAyAAAAMwAAADQAAAA=",
          "dtype": "u4"
         },
         "xaxis": "x",
         "y": {
          "bdata": "nGMAAHATAAC3UwAAYywAAKBUAAAbPQAAo0MAAKCJAAB9eAAAs5AAAO1jAAC6QwAArI0AAMKjAAABhAAARJIAAAd2AAC71gAAFcIAACnFAACGRAAAOKAAAADfAACE/gAAYvsAAHqyAADMLgAASg4BAMYOAQDIDwEAxf8AALrwAAAfBQEAlSMBAOscAQDcfgAARJoAAOQdAQBRAwEAiRkBAA3vAABzIQAA+hsBAPc/AQBGKwEAnA4BABosAAAy7QAAMxMBAJjbAAAu9gAAOZgAAPJJAAApwwAAH8QAAOeXAADzSQAALQcAAAV3AAAmbAAA62AAAD4xAAA=",
          "dtype": "i4"
         },
         "yaxis": "y"
        }
       ],
       "layout": {
        "legend": {
         "title": {
          "text": "Subscription"
         },
         "tracegroupgap": 0
        },
        "margin": {
         "t": 60
        },
        "template": {
         "data": {
          "bar": [
           {
            "error_x": {
             "color": "#2a3f5f"
            },
            "error_y": {
             "color": "#2a3f5f"
            },
            "marker": {
             "line": {
              "color": "#E5ECF6",
              "width": 0.5
             },
             "pattern": {
              "fillmode": "overlay",
              "size": 10,
              "solidity": 0.2
             }
            },
            "type": "bar"
           }
          ],
          "barpolar": [
           {
            "marker": {
             "line": {
              "color": "#E5ECF6",
              "width": 0.5
             },
             "pattern": {
              "fillmode": "overlay",
              "size": 10,
              "solidity": 0.2
             }
            },
            "type": "barpolar"
           }
          ],
          "carpet": [
           {
            "aaxis": {
             "endlinecolor": "#2a3f5f",
             "gridcolor": "white",
             "linecolor": "white",
             "minorgridcolor": "white",
             "startlinecolor": "#2a3f5f"
            },
            "baxis": {
             "endlinecolor": "#2a3f5f",
             "gridcolor": "white",
             "linecolor": "white",
             "minorgridcolor": "white",
             "startlinecolor": "#2a3f5f"
            },
            "type": "carpet"
           }
          ],
          "choropleth": [
           {
            "colorbar": {
             "outlinewidth": 0,
             "ticks": ""
            },
            "type": "choropleth"
           }
          ],
          "contour": [
           {
            "colorbar": {
             "outlinewidth": 0,
             "ticks": ""
            },
            "colorscale": [
             [
              0,
              "#0d0887"
             ],
             [
              0.1111111111111111,
              "#46039f"
             ],
             [
              0.2222222222222222,
              "#7201a8"
             ],
             [
              0.3333333333333333,
              "#9c179e"
             ],
             [
              0.4444444444444444,
              "#bd3786"
             ],
             [
              0.5555555555555556,
              "#d8576b"
             ],
             [
              0.6666666666666666,
              "#ed7953"
             ],
             [
              0.7777777777777778,
              "#fb9f3a"
             ],
             [
              0.8888888888888888,
              "#fdca26"
             ],
             [
              1,
              "#f0f921"
             ]
            ],
            "type": "contour"
           }
          ],
          "contourcarpet": [
           {
            "colorbar": {
             "outlinewidth": 0,
             "ticks": ""
            },
            "type": "contourcarpet"
           }
          ],
          "heatmap": [
           {
            "colorbar": {
             "outlinewidth": 0,
             "ticks": ""
            },
            "colorscale": [
             [
              0,
              "#0d0887"
             ],
             [
              0.1111111111111111,
              "#46039f"
             ],
             [
              0.2222222222222222,
              "#7201a8"
             ],
             [
              0.3333333333333333,
              "#9c179e"
             ],
             [
              0.4444444444444444,
              "#bd3786"
             ],
             [
              0.5555555555555556,
              "#d8576b"
             ],
             [
              0.6666666666666666,
              "#ed7953"
             ],
             [
              0.7777777777777778,
              "#fb9f3a"
             ],
             [
              0.8888888888888888,
              "#fdca26"
             ],
             [
              1,
              "#f0f921"
             ]
            ],
            "type": "heatmap"
           }
          ],
          "histogram": [
           {
            "marker": {
             "pattern": {
              "fillmode": "overlay",
              "size": 10,
              "solidity": 0.2
             }
            },
            "type": "histogram"
           }
          ],
          "histogram2d": [
           {
            "colorbar": {
             "outlinewidth": 0,
             "ticks": ""
            },
            "colorscale": [
             [
              0,
              "#0d0887"
             ],
             [
              0.1111111111111111,
              "#46039f"
             ],
             [
              0.2222222222222222,
              "#7201a8"
             ],
             [
              0.3333333333333333,
              "#9c179e"
             ],
             [
              0.4444444444444444,
              "#bd3786"
             ],
             [
              0.5555555555555556,
              "#d8576b"
             ],
             [
              0.6666666666666666,
              "#ed7953"
             ],
             [
              0.7777777777777778,
              "#fb9f3a"
             ],
             [
              0.8888888888888888,
              "#fdca26"
             ],
             [
              1,
              "#f0f921"
             ]
            ],
            "type": "histogram2d"
           }
          ],
          "histogram2dcontour": [
           {
            "colorbar": {
             "outlinewidth": 0,
             "ticks": ""
            },
            "colorscale": [
             [
              0,
              "#0d0887"
             ],
             [
              0.1111111111111111,
              "#46039f"
             ],
             [
              0.2222222222222222,
              "#7201a8"
             ],
             [
              0.3333333333333333,
              "#9c179e"
             ],
             [
              0.4444444444444444,
              "#bd3786"
             ],
             [
              0.5555555555555556,
              "#d8576b"
             ],
             [
              0.6666666666666666,
              "#ed7953"
             ],
             [
              0.7777777777777778,
              "#fb9f3a"
             ],
             [
              0.8888888888888888,
              "#fdca26"
             ],
             [
              1,
              "#f0f921"
             ]
            ],
            "type": "histogram2dcontour"
           }
          ],
          "mesh3d": [
           {
            "colorbar": {
             "outlinewidth": 0,
             "ticks": ""
            },
            "type": "mesh3d"
           }
          ],
          "parcoords": [
           {
            "line": {
             "colorbar": {
              "outlinewidth": 0,
              "ticks": ""
             }
            },
            "type": "parcoords"
           }
          ],
          "pie": [
           {
            "automargin": true,
            "type": "pie"
           }
          ],
          "scatter": [
           {
            "fillpattern": {
             "fillmode": "overlay",
             "size": 10,
             "solidity": 0.2
            },
            "type": "scatter"
           }
          ],
          "scatter3d": [
           {
            "line": {
             "colorbar": {
              "outlinewidth": 0,
              "ticks": ""
             }
            },
            "marker": {
             "colorbar": {
              "outlinewidth": 0,
              "ticks": ""
             }
            },
            "type": "scatter3d"
           }
          ],
          "scattercarpet": [
           {
            "marker": {
             "colorbar": {
              "outlinewidth": 0,
              "ticks": ""
             }
            },
            "type": "scattercarpet"
           }
          ],
          "scattergeo": [
           {
            "marker": {
             "colorbar": {
              "outlinewidth": 0,
              "ticks": ""
             }
            },
            "type": "scattergeo"
           }
          ],
          "scattergl": [
           {
            "marker": {
             "colorbar": {
              "outlinewidth": 0,
              "ticks": ""
             }
            },
            "type": "scattergl"
           }
          ],
          "scattermap": [
           {
            "marker": {
             "colorbar": {
              "outlinewidth": 0,
              "ticks": ""
             }
            },
            "type": "scattermap"
           }
          ],
          "scattermapbox": [
           {
            "marker": {
             "colorbar": {
              "outlinewidth": 0,
              "ticks": ""
             }
            },
            "type": "scattermapbox"
           }
          ],
          "scatterpolar": [
           {
            "marker": {
             "colorbar": {
              "outlinewidth": 0,
              "ticks": ""
             }
            },
            "type": "scatterpolar"
           }
          ],
          "scatterpolargl": [
           {
            "marker": {
             "colorbar": {
              "outlinewidth": 0,
              "ticks": ""
             }
            },
            "type": "scatterpolargl"
           }
          ],
          "scatterternary": [
           {
            "marker": {
             "colorbar": {
              "outlinewidth": 0,
              "ticks": ""
             }
            },
            "type": "scatterternary"
           }
          ],
          "surface": [
           {
            "colorbar": {
             "outlinewidth": 0,
             "ticks": ""
            },
            "colorscale": [
             [
              0,
              "#0d0887"
             ],
             [
              0.1111111111111111,
              "#46039f"
             ],
             [
              0.2222222222222222,
              "#7201a8"
             ],
             [
              0.3333333333333333,
              "#9c179e"
             ],
             [
              0.4444444444444444,
              "#bd3786"
             ],
             [
              0.5555555555555556,
              "#d8576b"
             ],
             [
              0.6666666666666666,
              "#ed7953"
             ],
             [
              0.7777777777777778,
              "#fb9f3a"
             ],
             [
              0.8888888888888888,
              "#fdca26"
             ],
             [
              1,
              "#f0f921"
             ]
            ],
            "type": "surface"
           }
          ],
          "table": [
           {
            "cells": {
             "fill": {
              "color": "#EBF0F8"
             },
             "line": {
              "color": "white"
             }
            },
            "header": {
             "fill": {
              "color": "#C8D4E3"
             },
             "line": {
              "color": "white"
             }
            },
            "type": "table"
           }
          ]
         },
         "layout": {
          "annotationdefaults": {
           "arrowcolor": "#2a3f5f",
           "arrowhead": 0,
           "arrowwidth": 1
          },
          "autotypenumbers": "strict",
          "coloraxis": {
           "colorbar": {
            "outlinewidth": 0,
            "ticks": ""
           }
          },
          "colorscale": {
           "diverging": [
            [
             0,
             "#8e0152"
            ],
            [
             0.1,
             "#c51b7d"
            ],
            [
             0.2,
             "#de77ae"
            ],
            [
             0.3,
             "#f1b6da"
            ],
            [
             0.4,
             "#fde0ef"
            ],
            [
             0.5,
             "#f7f7f7"
            ],
            [
             0.6,
             "#e6f5d0"
            ],
            [
             0.7,
             "#b8e186"
            ],
            [
             0.8,
             "#7fbc41"
            ],
            [
             0.9,
             "#4d9221"
            ],
            [
             1,
             "#276419"
            ]
           ],
           "sequential": [
            [
             0,
             "#0d0887"
            ],
            [
             0.1111111111111111,
             "#46039f"
            ],
            [
             0.2222222222222222,
             "#7201a8"
            ],
            [
             0.3333333333333333,
             "#9c179e"
            ],
            [
             0.4444444444444444,
             "#bd3786"
            ],
            [
             0.5555555555555556,
             "#d8576b"
            ],
            [
             0.6666666666666666,
             "#ed7953"
            ],
            [
             0.7777777777777778,
             "#fb9f3a"
            ],
            [
             0.8888888888888888,
             "#fdca26"
            ],
            [
             1,
             "#f0f921"
            ]
           ],
           "sequentialminus": [
            [
             0,
             "#0d0887"
            ],
            [
             0.1111111111111111,
             "#46039f"
            ],
            [
             0.2222222222222222,
             "#7201a8"
            ],
            [
             0.3333333333333333,
             "#9c179e"
            ],
            [
             0.4444444444444444,
             "#bd3786"
            ],
            [
             0.5555555555555556,
             "#d8576b"
            ],
            [
             0.6666666666666666,
             "#ed7953"
            ],
            [
             0.7777777777777778,
             "#fb9f3a"
            ],
            [
             0.8888888888888888,
             "#fdca26"
            ],
            [
             1,
             "#f0f921"
            ]
           ]
          },
          "colorway": [
           "#636efa",
           "#EF553B",
           "#00cc96",
           "#ab63fa",
           "#FFA15A",
           "#19d3f3",
           "#FF6692",
           "#B6E880",
           "#FF97FF",
           "#FECB52"
          ],
          "font": {
           "color": "#2a3f5f"
          },
          "geo": {
           "bgcolor": "white",
           "lakecolor": "white",
           "landcolor": "#E5ECF6",
           "showlakes": true,
           "showland": true,
           "subunitcolor": "white"
          },
          "hoverlabel": {
           "align": "left"
          },
          "hovermode": "closest",
          "mapbox": {
           "style": "light"
          },
          "paper_bgcolor": "white",
          "plot_bgcolor": "#E5ECF6",
          "polar": {
           "angularaxis": {
            "gridcolor": "white",
            "linecolor": "white",
            "ticks": ""
           },
           "bgcolor": "#E5ECF6",
           "radialaxis": {
            "gridcolor": "white",
            "linecolor": "white",
            "ticks": ""
           }
          },
          "scene": {
           "xaxis": {
            "backgroundcolor": "#E5ECF6",
            "gridcolor": "white",
            "gridwidth": 2,
            "linecolor": "white",
            "showbackground": true,
            "ticks": "",
            "zerolinecolor": "white"
           },
           "yaxis": {
            "backgroundcolor": "#E5ECF6",
            "gridcolor": "white",
            "gridwidth": 2,
            "linecolor": "white",
            "showbackground": true,
            "ticks": "",
            "zerolinecolor": "white"
           },
           "zaxis": {
            "backgroundcolor": "#E5ECF6",
            "gridcolor": "white",
            "gridwidth": 2,
            "linecolor": "white",
            "showbackground": true,
            "ticks": "",
            "zerolinecolor": "white"
           }
          },
          "shapedefaults": {
           "line": {
            "color": "#2a3f5f"
           }
          },
          "ternary": {
           "aaxis": {
            "gridcolor": "white",
            "linecolor": "white",
            "ticks": ""
           },
           "baxis": {
            "gridcolor": "white",
            "linecolor": "white",
            "ticks": ""
           },
           "bgcolor": "#E5ECF6",
           "caxis": {
            "gridcolor": "white",
            "linecolor": "white",
            "ticks": ""
           }
          },
          "title": {
           "x": 0.05
          },
          "xaxis": {
           "automargin": true,
           "gridcolor": "white",
           "linecolor": "white",
           "ticks": "",
           "title": {
            "standoff": 15
           },
           "zerolinecolor": "white",
           "zerolinewidth": 2
          },
          "yaxis": {
           "automargin": true,
           "gridcolor": "white",
           "linecolor": "white",
           "ticks": "",
           "title": {
            "standoff": 15
           },
           "zerolinecolor": "white",
           "zerolinewidth": 2
          }
         }
        },
        "title": {
         "text": "Number of Users throughout the Year by Subscription type"
        },
        "width": 1000,
        "xaxis": {
         "anchor": "y",
         "domain": [
          0,
          1
         ],
         "title": {
          "text": "Months"
         }
        },
        "yaxis": {
         "anchor": "x",
         "domain": [
          0,
          1
         ],
         "title": {
          "text": "User count"
         }
        }
       }
      }
     },
     "metadata": {},
     "output_type": "display_data"
    }
   ],
   "source": [
    "member_year_line = px.line(\n",
    "    member_year_count,\n",
    "    x='week',\n",
    "    y='count',\n",
    "    color='member_casual',\n",
    "    width=1000\n",
    ")\n",
    "\n",
    "member_year_line.update_layout(\n",
    "    xaxis_title='Months', \n",
    "    yaxis_title='User count', \n",
    "    title='Number of Users throughout the Year by Subscription type',\n",
    "    legend_title_text='Subscription',\n",
    ")\n",
    "\n",
    "member_year_line.show()"
   ]
  },
  {
   "cell_type": "markdown",
   "id": "c21b8e19",
   "metadata": {},
   "source": [
    "According to the graph above:\n",
    "* Throughtout the year there are more membership users than casual\n",
    "* The gap between membership users and casual user count stays the same throughout the year and is around 100,000 <-- work on this\n",
    "* There is seasonal trend in usage - user count for both groups rises in warmer months"
   ]
  },
  {
   "cell_type": "markdown",
   "id": "e78d8d1f",
   "metadata": {},
   "source": [
    "### Casual and ride types throughout the year"
   ]
  },
  {
   "cell_type": "code",
   "execution_count": null,
   "id": "a85e4cf1",
   "metadata": {},
   "outputs": [
    {
     "data": {
      "text/html": [
       "<div>\n",
       "<style scoped>\n",
       "    .dataframe tbody tr th:only-of-type {\n",
       "        vertical-align: middle;\n",
       "    }\n",
       "\n",
       "    .dataframe tbody tr th {\n",
       "        vertical-align: top;\n",
       "    }\n",
       "\n",
       "    .dataframe thead th {\n",
       "        text-align: right;\n",
       "    }\n",
       "</style>\n",
       "<table border=\"1\" class=\"dataframe\">\n",
       "  <thead>\n",
       "    <tr style=\"text-align: right;\">\n",
       "      <th></th>\n",
       "      <th>rideable_type</th>\n",
       "      <th>month</th>\n",
       "      <th>count</th>\n",
       "    </tr>\n",
       "  </thead>\n",
       "  <tbody>\n",
       "    <tr>\n",
       "      <th>0</th>\n",
       "      <td>classic_bike</td>\n",
       "      <td>January</td>\n",
       "      <td>75855</td>\n",
       "    </tr>\n",
       "    <tr>\n",
       "      <th>1</th>\n",
       "      <td>classic_bike</td>\n",
       "      <td>February</td>\n",
       "      <td>139486</td>\n",
       "    </tr>\n",
       "    <tr>\n",
       "      <th>2</th>\n",
       "      <td>classic_bike</td>\n",
       "      <td>March</td>\n",
       "      <td>147594</td>\n",
       "    </tr>\n",
       "    <tr>\n",
       "      <th>3</th>\n",
       "      <td>classic_bike</td>\n",
       "      <td>April</td>\n",
       "      <td>187114</td>\n",
       "    </tr>\n",
       "    <tr>\n",
       "      <th>4</th>\n",
       "      <td>classic_bike</td>\n",
       "      <td>May</td>\n",
       "      <td>304598</td>\n",
       "    </tr>\n",
       "    <tr>\n",
       "      <th>5</th>\n",
       "      <td>classic_bike</td>\n",
       "      <td>June</td>\n",
       "      <td>336571</td>\n",
       "    </tr>\n",
       "    <tr>\n",
       "      <th>6</th>\n",
       "      <td>classic_bike</td>\n",
       "      <td>July</td>\n",
       "      <td>369404</td>\n",
       "    </tr>\n",
       "    <tr>\n",
       "      <th>7</th>\n",
       "      <td>classic_bike</td>\n",
       "      <td>August</td>\n",
       "      <td>352005</td>\n",
       "    </tr>\n",
       "    <tr>\n",
       "      <th>8</th>\n",
       "      <td>classic_bike</td>\n",
       "      <td>September</td>\n",
       "      <td>313614</td>\n",
       "    </tr>\n",
       "    <tr>\n",
       "      <th>9</th>\n",
       "      <td>classic_bike</td>\n",
       "      <td>October</td>\n",
       "      <td>280030</td>\n",
       "    </tr>\n",
       "    <tr>\n",
       "      <th>10</th>\n",
       "      <td>classic_bike</td>\n",
       "      <td>November</td>\n",
       "      <td>147823</td>\n",
       "    </tr>\n",
       "    <tr>\n",
       "      <th>11</th>\n",
       "      <td>classic_bike</td>\n",
       "      <td>December</td>\n",
       "      <td>70382</td>\n",
       "    </tr>\n",
       "    <tr>\n",
       "      <th>12</th>\n",
       "      <td>electric_bike</td>\n",
       "      <td>January</td>\n",
       "      <td>37396</td>\n",
       "    </tr>\n",
       "    <tr>\n",
       "      <th>13</th>\n",
       "      <td>electric_bike</td>\n",
       "      <td>February</td>\n",
       "      <td>44574</td>\n",
       "    </tr>\n",
       "    <tr>\n",
       "      <th>14</th>\n",
       "      <td>electric_bike</td>\n",
       "      <td>March</td>\n",
       "      <td>81767</td>\n",
       "    </tr>\n",
       "    <tr>\n",
       "      <th>15</th>\n",
       "      <td>electric_bike</td>\n",
       "      <td>April</td>\n",
       "      <td>109343</td>\n",
       "    </tr>\n",
       "    <tr>\n",
       "      <th>16</th>\n",
       "      <td>electric_bike</td>\n",
       "      <td>May</td>\n",
       "      <td>135546</td>\n",
       "    </tr>\n",
       "    <tr>\n",
       "      <th>17</th>\n",
       "      <td>electric_bike</td>\n",
       "      <td>June</td>\n",
       "      <td>157056</td>\n",
       "    </tr>\n",
       "    <tr>\n",
       "      <th>18</th>\n",
       "      <td>electric_bike</td>\n",
       "      <td>July</td>\n",
       "      <td>170704</td>\n",
       "    </tr>\n",
       "    <tr>\n",
       "      <th>19</th>\n",
       "      <td>electric_bike</td>\n",
       "      <td>August</td>\n",
       "      <td>188471</td>\n",
       "    </tr>\n",
       "    <tr>\n",
       "      <th>20</th>\n",
       "      <td>electric_bike</td>\n",
       "      <td>September</td>\n",
       "      <td>174891</td>\n",
       "    </tr>\n",
       "    <tr>\n",
       "      <th>21</th>\n",
       "      <td>electric_bike</td>\n",
       "      <td>October</td>\n",
       "      <td>168512</td>\n",
       "    </tr>\n",
       "    <tr>\n",
       "      <th>22</th>\n",
       "      <td>electric_bike</td>\n",
       "      <td>November</td>\n",
       "      <td>97804</td>\n",
       "    </tr>\n",
       "    <tr>\n",
       "      <th>23</th>\n",
       "      <td>electric_bike</td>\n",
       "      <td>December</td>\n",
       "      <td>60178</td>\n",
       "    </tr>\n",
       "    <tr>\n",
       "      <th>24</th>\n",
       "      <td>electric_scooter</td>\n",
       "      <td>August</td>\n",
       "      <td>16</td>\n",
       "    </tr>\n",
       "    <tr>\n",
       "      <th>25</th>\n",
       "      <td>electric_scooter</td>\n",
       "      <td>September</td>\n",
       "      <td>47601</td>\n",
       "    </tr>\n",
       "  </tbody>\n",
       "</table>\n",
       "</div>"
      ],
      "text/plain": [
       "       rideable_type      month   count\n",
       "0       classic_bike    January   75855\n",
       "1       classic_bike   February  139486\n",
       "2       classic_bike      March  147594\n",
       "3       classic_bike      April  187114\n",
       "4       classic_bike        May  304598\n",
       "5       classic_bike       June  336571\n",
       "6       classic_bike       July  369404\n",
       "7       classic_bike     August  352005\n",
       "8       classic_bike  September  313614\n",
       "9       classic_bike    October  280030\n",
       "10      classic_bike   November  147823\n",
       "11      classic_bike   December   70382\n",
       "12     electric_bike    January   37396\n",
       "13     electric_bike   February   44574\n",
       "14     electric_bike      March   81767\n",
       "15     electric_bike      April  109343\n",
       "16     electric_bike        May  135546\n",
       "17     electric_bike       June  157056\n",
       "18     electric_bike       July  170704\n",
       "19     electric_bike     August  188471\n",
       "20     electric_bike  September  174891\n",
       "21     electric_bike    October  168512\n",
       "22     electric_bike   November   97804\n",
       "23     electric_bike   December   60178\n",
       "24  electric_scooter     August      16\n",
       "25  electric_scooter  September   47601"
      ]
     },
     "execution_count": 146,
     "metadata": {},
     "output_type": "execute_result"
    }
   ],
   "source": [
    "ride_year_count = analysis_df.value_counts(['rideable_type', 'month']).sort_index().reset_index(name='count')\n",
    "ride_year_count['month'] = pd.to_datetime(ride_year_count['month'], format='%m').dt.month_name()\n",
    "ride_year_count"
   ]
  },
  {
   "cell_type": "code",
   "execution_count": null,
   "id": "d2c9102f",
   "metadata": {},
   "outputs": [
    {
     "data": {
      "application/vnd.plotly.v1+json": {
       "config": {
        "plotlyServerURL": "https://plot.ly"
       },
       "data": [
        {
         "hovertemplate": "rideable_type=classic_bike<br>month=%{x}<br>count=%{y}<extra></extra>",
         "legendgroup": "classic_bike",
         "line": {
          "color": "#636efa",
          "dash": "solid"
         },
         "marker": {
          "symbol": "circle"
         },
         "mode": "lines",
         "name": "classic_bike",
         "orientation": "v",
         "showlegend": true,
         "type": "scatter",
         "x": [
          "January",
          "February",
          "March",
          "April",
          "May",
          "June",
          "July",
          "August",
          "September",
          "October",
          "November",
          "December"
         ],
         "xaxis": "x",
         "y": {
          "bdata": "TygBAN4gAgCKQAIA6toCANalBAC7IgUA/KIFAAVfBQAOyQQA3kUEAG9BAgDuEgEA",
          "dtype": "i4"
         },
         "yaxis": "y"
        },
        {
         "hovertemplate": "rideable_type=electric_bike<br>month=%{x}<br>count=%{y}<extra></extra>",
         "legendgroup": "electric_bike",
         "line": {
          "color": "#EF553B",
          "dash": "solid"
         },
         "marker": {
          "symbol": "circle"
         },
         "mode": "lines",
         "name": "electric_bike",
         "orientation": "v",
         "showlegend": true,
         "type": "scatter",
         "x": [
          "January",
          "February",
          "March",
          "April",
          "May",
          "June",
          "July",
          "August",
          "September",
          "October",
          "November",
          "December"
         ],
         "xaxis": "x",
         "y": {
          "bdata": "FJIAAB6uAABnPwEAH6sBAHoRAgCAZQIA0JoCADfgAgArqwIAQJICAAx+AQAS6wAA",
          "dtype": "i4"
         },
         "yaxis": "y"
        },
        {
         "hovertemplate": "rideable_type=electric_scooter<br>month=%{x}<br>count=%{y}<extra></extra>",
         "legendgroup": "electric_scooter",
         "line": {
          "color": "#00cc96",
          "dash": "solid"
         },
         "marker": {
          "symbol": "circle"
         },
         "mode": "lines",
         "name": "electric_scooter",
         "orientation": "v",
         "showlegend": true,
         "type": "scatter",
         "x": [
          "August",
          "September"
         ],
         "xaxis": "x",
         "y": {
          "bdata": "EAAAAPG5AAA=",
          "dtype": "i4"
         },
         "yaxis": "y"
        }
       ],
       "layout": {
        "legend": {
         "title": {
          "text": "Ride type"
         },
         "tracegroupgap": 0
        },
        "margin": {
         "t": 60
        },
        "template": {
         "data": {
          "bar": [
           {
            "error_x": {
             "color": "#2a3f5f"
            },
            "error_y": {
             "color": "#2a3f5f"
            },
            "marker": {
             "line": {
              "color": "#E5ECF6",
              "width": 0.5
             },
             "pattern": {
              "fillmode": "overlay",
              "size": 10,
              "solidity": 0.2
             }
            },
            "type": "bar"
           }
          ],
          "barpolar": [
           {
            "marker": {
             "line": {
              "color": "#E5ECF6",
              "width": 0.5
             },
             "pattern": {
              "fillmode": "overlay",
              "size": 10,
              "solidity": 0.2
             }
            },
            "type": "barpolar"
           }
          ],
          "carpet": [
           {
            "aaxis": {
             "endlinecolor": "#2a3f5f",
             "gridcolor": "white",
             "linecolor": "white",
             "minorgridcolor": "white",
             "startlinecolor": "#2a3f5f"
            },
            "baxis": {
             "endlinecolor": "#2a3f5f",
             "gridcolor": "white",
             "linecolor": "white",
             "minorgridcolor": "white",
             "startlinecolor": "#2a3f5f"
            },
            "type": "carpet"
           }
          ],
          "choropleth": [
           {
            "colorbar": {
             "outlinewidth": 0,
             "ticks": ""
            },
            "type": "choropleth"
           }
          ],
          "contour": [
           {
            "colorbar": {
             "outlinewidth": 0,
             "ticks": ""
            },
            "colorscale": [
             [
              0,
              "#0d0887"
             ],
             [
              0.1111111111111111,
              "#46039f"
             ],
             [
              0.2222222222222222,
              "#7201a8"
             ],
             [
              0.3333333333333333,
              "#9c179e"
             ],
             [
              0.4444444444444444,
              "#bd3786"
             ],
             [
              0.5555555555555556,
              "#d8576b"
             ],
             [
              0.6666666666666666,
              "#ed7953"
             ],
             [
              0.7777777777777778,
              "#fb9f3a"
             ],
             [
              0.8888888888888888,
              "#fdca26"
             ],
             [
              1,
              "#f0f921"
             ]
            ],
            "type": "contour"
           }
          ],
          "contourcarpet": [
           {
            "colorbar": {
             "outlinewidth": 0,
             "ticks": ""
            },
            "type": "contourcarpet"
           }
          ],
          "heatmap": [
           {
            "colorbar": {
             "outlinewidth": 0,
             "ticks": ""
            },
            "colorscale": [
             [
              0,
              "#0d0887"
             ],
             [
              0.1111111111111111,
              "#46039f"
             ],
             [
              0.2222222222222222,
              "#7201a8"
             ],
             [
              0.3333333333333333,
              "#9c179e"
             ],
             [
              0.4444444444444444,
              "#bd3786"
             ],
             [
              0.5555555555555556,
              "#d8576b"
             ],
             [
              0.6666666666666666,
              "#ed7953"
             ],
             [
              0.7777777777777778,
              "#fb9f3a"
             ],
             [
              0.8888888888888888,
              "#fdca26"
             ],
             [
              1,
              "#f0f921"
             ]
            ],
            "type": "heatmap"
           }
          ],
          "histogram": [
           {
            "marker": {
             "pattern": {
              "fillmode": "overlay",
              "size": 10,
              "solidity": 0.2
             }
            },
            "type": "histogram"
           }
          ],
          "histogram2d": [
           {
            "colorbar": {
             "outlinewidth": 0,
             "ticks": ""
            },
            "colorscale": [
             [
              0,
              "#0d0887"
             ],
             [
              0.1111111111111111,
              "#46039f"
             ],
             [
              0.2222222222222222,
              "#7201a8"
             ],
             [
              0.3333333333333333,
              "#9c179e"
             ],
             [
              0.4444444444444444,
              "#bd3786"
             ],
             [
              0.5555555555555556,
              "#d8576b"
             ],
             [
              0.6666666666666666,
              "#ed7953"
             ],
             [
              0.7777777777777778,
              "#fb9f3a"
             ],
             [
              0.8888888888888888,
              "#fdca26"
             ],
             [
              1,
              "#f0f921"
             ]
            ],
            "type": "histogram2d"
           }
          ],
          "histogram2dcontour": [
           {
            "colorbar": {
             "outlinewidth": 0,
             "ticks": ""
            },
            "colorscale": [
             [
              0,
              "#0d0887"
             ],
             [
              0.1111111111111111,
              "#46039f"
             ],
             [
              0.2222222222222222,
              "#7201a8"
             ],
             [
              0.3333333333333333,
              "#9c179e"
             ],
             [
              0.4444444444444444,
              "#bd3786"
             ],
             [
              0.5555555555555556,
              "#d8576b"
             ],
             [
              0.6666666666666666,
              "#ed7953"
             ],
             [
              0.7777777777777778,
              "#fb9f3a"
             ],
             [
              0.8888888888888888,
              "#fdca26"
             ],
             [
              1,
              "#f0f921"
             ]
            ],
            "type": "histogram2dcontour"
           }
          ],
          "mesh3d": [
           {
            "colorbar": {
             "outlinewidth": 0,
             "ticks": ""
            },
            "type": "mesh3d"
           }
          ],
          "parcoords": [
           {
            "line": {
             "colorbar": {
              "outlinewidth": 0,
              "ticks": ""
             }
            },
            "type": "parcoords"
           }
          ],
          "pie": [
           {
            "automargin": true,
            "type": "pie"
           }
          ],
          "scatter": [
           {
            "fillpattern": {
             "fillmode": "overlay",
             "size": 10,
             "solidity": 0.2
            },
            "type": "scatter"
           }
          ],
          "scatter3d": [
           {
            "line": {
             "colorbar": {
              "outlinewidth": 0,
              "ticks": ""
             }
            },
            "marker": {
             "colorbar": {
              "outlinewidth": 0,
              "ticks": ""
             }
            },
            "type": "scatter3d"
           }
          ],
          "scattercarpet": [
           {
            "marker": {
             "colorbar": {
              "outlinewidth": 0,
              "ticks": ""
             }
            },
            "type": "scattercarpet"
           }
          ],
          "scattergeo": [
           {
            "marker": {
             "colorbar": {
              "outlinewidth": 0,
              "ticks": ""
             }
            },
            "type": "scattergeo"
           }
          ],
          "scattergl": [
           {
            "marker": {
             "colorbar": {
              "outlinewidth": 0,
              "ticks": ""
             }
            },
            "type": "scattergl"
           }
          ],
          "scattermap": [
           {
            "marker": {
             "colorbar": {
              "outlinewidth": 0,
              "ticks": ""
             }
            },
            "type": "scattermap"
           }
          ],
          "scattermapbox": [
           {
            "marker": {
             "colorbar": {
              "outlinewidth": 0,
              "ticks": ""
             }
            },
            "type": "scattermapbox"
           }
          ],
          "scatterpolar": [
           {
            "marker": {
             "colorbar": {
              "outlinewidth": 0,
              "ticks": ""
             }
            },
            "type": "scatterpolar"
           }
          ],
          "scatterpolargl": [
           {
            "marker": {
             "colorbar": {
              "outlinewidth": 0,
              "ticks": ""
             }
            },
            "type": "scatterpolargl"
           }
          ],
          "scatterternary": [
           {
            "marker": {
             "colorbar": {
              "outlinewidth": 0,
              "ticks": ""
             }
            },
            "type": "scatterternary"
           }
          ],
          "surface": [
           {
            "colorbar": {
             "outlinewidth": 0,
             "ticks": ""
            },
            "colorscale": [
             [
              0,
              "#0d0887"
             ],
             [
              0.1111111111111111,
              "#46039f"
             ],
             [
              0.2222222222222222,
              "#7201a8"
             ],
             [
              0.3333333333333333,
              "#9c179e"
             ],
             [
              0.4444444444444444,
              "#bd3786"
             ],
             [
              0.5555555555555556,
              "#d8576b"
             ],
             [
              0.6666666666666666,
              "#ed7953"
             ],
             [
              0.7777777777777778,
              "#fb9f3a"
             ],
             [
              0.8888888888888888,
              "#fdca26"
             ],
             [
              1,
              "#f0f921"
             ]
            ],
            "type": "surface"
           }
          ],
          "table": [
           {
            "cells": {
             "fill": {
              "color": "#EBF0F8"
             },
             "line": {
              "color": "white"
             }
            },
            "header": {
             "fill": {
              "color": "#C8D4E3"
             },
             "line": {
              "color": "white"
             }
            },
            "type": "table"
           }
          ]
         },
         "layout": {
          "annotationdefaults": {
           "arrowcolor": "#2a3f5f",
           "arrowhead": 0,
           "arrowwidth": 1
          },
          "autotypenumbers": "strict",
          "coloraxis": {
           "colorbar": {
            "outlinewidth": 0,
            "ticks": ""
           }
          },
          "colorscale": {
           "diverging": [
            [
             0,
             "#8e0152"
            ],
            [
             0.1,
             "#c51b7d"
            ],
            [
             0.2,
             "#de77ae"
            ],
            [
             0.3,
             "#f1b6da"
            ],
            [
             0.4,
             "#fde0ef"
            ],
            [
             0.5,
             "#f7f7f7"
            ],
            [
             0.6,
             "#e6f5d0"
            ],
            [
             0.7,
             "#b8e186"
            ],
            [
             0.8,
             "#7fbc41"
            ],
            [
             0.9,
             "#4d9221"
            ],
            [
             1,
             "#276419"
            ]
           ],
           "sequential": [
            [
             0,
             "#0d0887"
            ],
            [
             0.1111111111111111,
             "#46039f"
            ],
            [
             0.2222222222222222,
             "#7201a8"
            ],
            [
             0.3333333333333333,
             "#9c179e"
            ],
            [
             0.4444444444444444,
             "#bd3786"
            ],
            [
             0.5555555555555556,
             "#d8576b"
            ],
            [
             0.6666666666666666,
             "#ed7953"
            ],
            [
             0.7777777777777778,
             "#fb9f3a"
            ],
            [
             0.8888888888888888,
             "#fdca26"
            ],
            [
             1,
             "#f0f921"
            ]
           ],
           "sequentialminus": [
            [
             0,
             "#0d0887"
            ],
            [
             0.1111111111111111,
             "#46039f"
            ],
            [
             0.2222222222222222,
             "#7201a8"
            ],
            [
             0.3333333333333333,
             "#9c179e"
            ],
            [
             0.4444444444444444,
             "#bd3786"
            ],
            [
             0.5555555555555556,
             "#d8576b"
            ],
            [
             0.6666666666666666,
             "#ed7953"
            ],
            [
             0.7777777777777778,
             "#fb9f3a"
            ],
            [
             0.8888888888888888,
             "#fdca26"
            ],
            [
             1,
             "#f0f921"
            ]
           ]
          },
          "colorway": [
           "#636efa",
           "#EF553B",
           "#00cc96",
           "#ab63fa",
           "#FFA15A",
           "#19d3f3",
           "#FF6692",
           "#B6E880",
           "#FF97FF",
           "#FECB52"
          ],
          "font": {
           "color": "#2a3f5f"
          },
          "geo": {
           "bgcolor": "white",
           "lakecolor": "white",
           "landcolor": "#E5ECF6",
           "showlakes": true,
           "showland": true,
           "subunitcolor": "white"
          },
          "hoverlabel": {
           "align": "left"
          },
          "hovermode": "closest",
          "mapbox": {
           "style": "light"
          },
          "paper_bgcolor": "white",
          "plot_bgcolor": "#E5ECF6",
          "polar": {
           "angularaxis": {
            "gridcolor": "white",
            "linecolor": "white",
            "ticks": ""
           },
           "bgcolor": "#E5ECF6",
           "radialaxis": {
            "gridcolor": "white",
            "linecolor": "white",
            "ticks": ""
           }
          },
          "scene": {
           "xaxis": {
            "backgroundcolor": "#E5ECF6",
            "gridcolor": "white",
            "gridwidth": 2,
            "linecolor": "white",
            "showbackground": true,
            "ticks": "",
            "zerolinecolor": "white"
           },
           "yaxis": {
            "backgroundcolor": "#E5ECF6",
            "gridcolor": "white",
            "gridwidth": 2,
            "linecolor": "white",
            "showbackground": true,
            "ticks": "",
            "zerolinecolor": "white"
           },
           "zaxis": {
            "backgroundcolor": "#E5ECF6",
            "gridcolor": "white",
            "gridwidth": 2,
            "linecolor": "white",
            "showbackground": true,
            "ticks": "",
            "zerolinecolor": "white"
           }
          },
          "shapedefaults": {
           "line": {
            "color": "#2a3f5f"
           }
          },
          "ternary": {
           "aaxis": {
            "gridcolor": "white",
            "linecolor": "white",
            "ticks": ""
           },
           "baxis": {
            "gridcolor": "white",
            "linecolor": "white",
            "ticks": ""
           },
           "bgcolor": "#E5ECF6",
           "caxis": {
            "gridcolor": "white",
            "linecolor": "white",
            "ticks": ""
           }
          },
          "title": {
           "x": 0.05
          },
          "xaxis": {
           "automargin": true,
           "gridcolor": "white",
           "linecolor": "white",
           "ticks": "",
           "title": {
            "standoff": 15
           },
           "zerolinecolor": "white",
           "zerolinewidth": 2
          },
          "yaxis": {
           "automargin": true,
           "gridcolor": "white",
           "linecolor": "white",
           "ticks": "",
           "title": {
            "standoff": 15
           },
           "zerolinecolor": "white",
           "zerolinewidth": 2
          }
         }
        },
        "title": {
         "text": "Number of Users throughout the Year by Ride type"
        },
        "width": 1000,
        "xaxis": {
         "anchor": "y",
         "domain": [
          0,
          1
         ],
         "title": {
          "text": "Months"
         }
        },
        "yaxis": {
         "anchor": "x",
         "domain": [
          0,
          1
         ],
         "title": {
          "text": "User count"
         }
        }
       }
      }
     },
     "metadata": {},
     "output_type": "display_data"
    }
   ],
   "source": [
    "ride_year_line = px.line(\n",
    "    ride_year_count,\n",
    "    x='month',\n",
    "    y='count',\n",
    "    color='rideable_type',\n",
    "    width=1000\n",
    ")\n",
    "\n",
    "ride_year_line.update_layout(\n",
    "    xaxis_title='Months', \n",
    "    yaxis_title='User count', \n",
    "    title='Number of Users throughout the Year by Ride type',\n",
    "    legend_title_text='Ride type',\n",
    ")\n",
    "\n",
    "ride_year_line.show()"
   ]
  },
  {
   "cell_type": "markdown",
   "id": "dbe1b38b",
   "metadata": {},
   "source": [
    "According to the graph above:\n",
    "* Throughtout the year users tend to use classic bikes over electrics\n",
    "* There is seasonal trend in usage - user count for both classic and electric bikes rises in warmer months\n",
    "* Electric scooters were an active option for only one month\n"
   ]
  },
  {
   "cell_type": "code",
   "execution_count": null,
   "id": "23fc570d",
   "metadata": {},
   "outputs": [
    {
     "data": {
      "text/html": [
       "<div>\n",
       "<style scoped>\n",
       "    .dataframe tbody tr th:only-of-type {\n",
       "        vertical-align: middle;\n",
       "    }\n",
       "\n",
       "    .dataframe tbody tr th {\n",
       "        vertical-align: top;\n",
       "    }\n",
       "\n",
       "    .dataframe thead th {\n",
       "        text-align: right;\n",
       "    }\n",
       "</style>\n",
       "<table border=\"1\" class=\"dataframe\">\n",
       "  <thead>\n",
       "    <tr style=\"text-align: right;\">\n",
       "      <th></th>\n",
       "      <th>ride_id</th>\n",
       "      <th>rideable_type</th>\n",
       "      <th>started_at</th>\n",
       "      <th>ended_at</th>\n",
       "      <th>ride_time</th>\n",
       "      <th>month</th>\n",
       "      <th>week</th>\n",
       "      <th>start_station_name</th>\n",
       "      <th>end_station_name</th>\n",
       "      <th>member_casual</th>\n",
       "    </tr>\n",
       "  </thead>\n",
       "  <tbody>\n",
       "    <tr>\n",
       "      <th>0</th>\n",
       "      <td>C1D650626C8C899A</td>\n",
       "      <td>electric_bike</td>\n",
       "      <td>2024-01-12 15:30:27.000</td>\n",
       "      <td>2024-01-12 15:37:59.000</td>\n",
       "      <td>0 days 00:07:32</td>\n",
       "      <td>1</td>\n",
       "      <td>2</td>\n",
       "      <td>Wells St &amp; Elm St</td>\n",
       "      <td>Kingsbury St &amp; Kinzie St</td>\n",
       "      <td>member</td>\n",
       "    </tr>\n",
       "    <tr>\n",
       "      <th>1</th>\n",
       "      <td>EECD38BDB25BFCB0</td>\n",
       "      <td>electric_bike</td>\n",
       "      <td>2024-01-08 15:45:46.000</td>\n",
       "      <td>2024-01-08 15:52:59.000</td>\n",
       "      <td>0 days 00:07:13</td>\n",
       "      <td>1</td>\n",
       "      <td>2</td>\n",
       "      <td>Wells St &amp; Elm St</td>\n",
       "      <td>Kingsbury St &amp; Kinzie St</td>\n",
       "      <td>member</td>\n",
       "    </tr>\n",
       "    <tr>\n",
       "      <th>2</th>\n",
       "      <td>F4A9CE78061F17F7</td>\n",
       "      <td>electric_bike</td>\n",
       "      <td>2024-01-27 12:27:19.000</td>\n",
       "      <td>2024-01-27 12:35:19.000</td>\n",
       "      <td>0 days 00:08:00</td>\n",
       "      <td>1</td>\n",
       "      <td>4</td>\n",
       "      <td>Wells St &amp; Elm St</td>\n",
       "      <td>Kingsbury St &amp; Kinzie St</td>\n",
       "      <td>member</td>\n",
       "    </tr>\n",
       "    <tr>\n",
       "      <th>3</th>\n",
       "      <td>0A0D9E15EE50B171</td>\n",
       "      <td>classic_bike</td>\n",
       "      <td>2024-01-29 16:26:17.000</td>\n",
       "      <td>2024-01-29 16:56:06.000</td>\n",
       "      <td>0 days 00:29:49</td>\n",
       "      <td>1</td>\n",
       "      <td>5</td>\n",
       "      <td>Wells St &amp; Randolph St</td>\n",
       "      <td>Larrabee St &amp; Webster Ave</td>\n",
       "      <td>member</td>\n",
       "    </tr>\n",
       "    <tr>\n",
       "      <th>4</th>\n",
       "      <td>33FFC9805E3EFF9A</td>\n",
       "      <td>classic_bike</td>\n",
       "      <td>2024-01-31 05:43:23.000</td>\n",
       "      <td>2024-01-31 06:09:35.000</td>\n",
       "      <td>0 days 00:26:12</td>\n",
       "      <td>1</td>\n",
       "      <td>5</td>\n",
       "      <td>Lincoln Ave &amp; Waveland Ave</td>\n",
       "      <td>Kingsbury St &amp; Kinzie St</td>\n",
       "      <td>member</td>\n",
       "    </tr>\n",
       "    <tr>\n",
       "      <th>...</th>\n",
       "      <td>...</td>\n",
       "      <td>...</td>\n",
       "      <td>...</td>\n",
       "      <td>...</td>\n",
       "      <td>...</td>\n",
       "      <td>...</td>\n",
       "      <td>...</td>\n",
       "      <td>...</td>\n",
       "      <td>...</td>\n",
       "      <td>...</td>\n",
       "    </tr>\n",
       "    <tr>\n",
       "      <th>178363</th>\n",
       "      <td>36DAF3C93190E07F</td>\n",
       "      <td>classic_bike</td>\n",
       "      <td>2024-12-13 15:40:06.123</td>\n",
       "      <td>2024-12-13 15:46:29.553</td>\n",
       "      <td>0 days 00:06:23.430000</td>\n",
       "      <td>12</td>\n",
       "      <td>50</td>\n",
       "      <td>Albany Ave &amp; Bloomingdale Ave</td>\n",
       "      <td>California Ave &amp; Milwaukee Ave</td>\n",
       "      <td>member</td>\n",
       "    </tr>\n",
       "    <tr>\n",
       "      <th>178365</th>\n",
       "      <td>71F02C3CF79B8090</td>\n",
       "      <td>classic_bike</td>\n",
       "      <td>2024-12-17 08:09:12.581</td>\n",
       "      <td>2024-12-17 08:15:50.134</td>\n",
       "      <td>0 days 00:06:37.553000</td>\n",
       "      <td>12</td>\n",
       "      <td>51</td>\n",
       "      <td>Albany Ave &amp; Bloomingdale Ave</td>\n",
       "      <td>California Ave &amp; Milwaukee Ave</td>\n",
       "      <td>member</td>\n",
       "    </tr>\n",
       "    <tr>\n",
       "      <th>178366</th>\n",
       "      <td>85AE8840FA0E4EAB</td>\n",
       "      <td>classic_bike</td>\n",
       "      <td>2024-12-18 08:22:40.737</td>\n",
       "      <td>2024-12-18 08:29:25.021</td>\n",
       "      <td>0 days 00:06:44.284000</td>\n",
       "      <td>12</td>\n",
       "      <td>51</td>\n",
       "      <td>Albany Ave &amp; Bloomingdale Ave</td>\n",
       "      <td>California Ave &amp; Milwaukee Ave</td>\n",
       "      <td>member</td>\n",
       "    </tr>\n",
       "    <tr>\n",
       "      <th>178369</th>\n",
       "      <td>15602635C5DF484E</td>\n",
       "      <td>electric_bike</td>\n",
       "      <td>2024-12-31 17:10:03.113</td>\n",
       "      <td>2024-12-31 17:17:21.838</td>\n",
       "      <td>0 days 00:07:18.725000</td>\n",
       "      <td>12</td>\n",
       "      <td>1</td>\n",
       "      <td>Albany Ave &amp; Bloomingdale Ave</td>\n",
       "      <td>California Ave &amp; Milwaukee Ave</td>\n",
       "      <td>member</td>\n",
       "    </tr>\n",
       "    <tr>\n",
       "      <th>178370</th>\n",
       "      <td>F15ABBA961560B75</td>\n",
       "      <td>electric_bike</td>\n",
       "      <td>2024-12-01 14:39:47.216</td>\n",
       "      <td>2024-12-01 14:45:21.268</td>\n",
       "      <td>0 days 00:05:34.052000</td>\n",
       "      <td>12</td>\n",
       "      <td>48</td>\n",
       "      <td>Albany Ave &amp; Bloomingdale Ave</td>\n",
       "      <td>California Ave &amp; Milwaukee Ave</td>\n",
       "      <td>member</td>\n",
       "    </tr>\n",
       "  </tbody>\n",
       "</table>\n",
       "<p>4198335 rows × 10 columns</p>\n",
       "</div>"
      ],
      "text/plain": [
       "                 ride_id  rideable_type              started_at  \\\n",
       "0       C1D650626C8C899A  electric_bike 2024-01-12 15:30:27.000   \n",
       "1       EECD38BDB25BFCB0  electric_bike 2024-01-08 15:45:46.000   \n",
       "2       F4A9CE78061F17F7  electric_bike 2024-01-27 12:27:19.000   \n",
       "3       0A0D9E15EE50B171   classic_bike 2024-01-29 16:26:17.000   \n",
       "4       33FFC9805E3EFF9A   classic_bike 2024-01-31 05:43:23.000   \n",
       "...                  ...            ...                     ...   \n",
       "178363  36DAF3C93190E07F   classic_bike 2024-12-13 15:40:06.123   \n",
       "178365  71F02C3CF79B8090   classic_bike 2024-12-17 08:09:12.581   \n",
       "178366  85AE8840FA0E4EAB   classic_bike 2024-12-18 08:22:40.737   \n",
       "178369  15602635C5DF484E  electric_bike 2024-12-31 17:10:03.113   \n",
       "178370  F15ABBA961560B75  electric_bike 2024-12-01 14:39:47.216   \n",
       "\n",
       "                      ended_at              ride_time  month  week  \\\n",
       "0      2024-01-12 15:37:59.000        0 days 00:07:32      1     2   \n",
       "1      2024-01-08 15:52:59.000        0 days 00:07:13      1     2   \n",
       "2      2024-01-27 12:35:19.000        0 days 00:08:00      1     4   \n",
       "3      2024-01-29 16:56:06.000        0 days 00:29:49      1     5   \n",
       "4      2024-01-31 06:09:35.000        0 days 00:26:12      1     5   \n",
       "...                        ...                    ...    ...   ...   \n",
       "178363 2024-12-13 15:46:29.553 0 days 00:06:23.430000     12    50   \n",
       "178365 2024-12-17 08:15:50.134 0 days 00:06:37.553000     12    51   \n",
       "178366 2024-12-18 08:29:25.021 0 days 00:06:44.284000     12    51   \n",
       "178369 2024-12-31 17:17:21.838 0 days 00:07:18.725000     12     1   \n",
       "178370 2024-12-01 14:45:21.268 0 days 00:05:34.052000     12    48   \n",
       "\n",
       "                   start_station_name                end_station_name  \\\n",
       "0                   Wells St & Elm St        Kingsbury St & Kinzie St   \n",
       "1                   Wells St & Elm St        Kingsbury St & Kinzie St   \n",
       "2                   Wells St & Elm St        Kingsbury St & Kinzie St   \n",
       "3              Wells St & Randolph St       Larrabee St & Webster Ave   \n",
       "4          Lincoln Ave & Waveland Ave        Kingsbury St & Kinzie St   \n",
       "...                               ...                             ...   \n",
       "178363  Albany Ave & Bloomingdale Ave  California Ave & Milwaukee Ave   \n",
       "178365  Albany Ave & Bloomingdale Ave  California Ave & Milwaukee Ave   \n",
       "178366  Albany Ave & Bloomingdale Ave  California Ave & Milwaukee Ave   \n",
       "178369  Albany Ave & Bloomingdale Ave  California Ave & Milwaukee Ave   \n",
       "178370  Albany Ave & Bloomingdale Ave  California Ave & Milwaukee Ave   \n",
       "\n",
       "       member_casual  \n",
       "0             member  \n",
       "1             member  \n",
       "2             member  \n",
       "3             member  \n",
       "4             member  \n",
       "...              ...  \n",
       "178363        member  \n",
       "178365        member  \n",
       "178366        member  \n",
       "178369        member  \n",
       "178370        member  \n",
       "\n",
       "[4198335 rows x 10 columns]"
      ]
     },
     "execution_count": 157,
     "metadata": {},
     "output_type": "execute_result"
    }
   ],
   "source": [
    "analysis_df"
   ]
  }
 ],
 "metadata": {
  "kernelspec": {
   "display_name": "myenv",
   "language": "python",
   "name": "python3"
  },
  "language_info": {
   "codemirror_mode": {
    "name": "ipython",
    "version": 3
   },
   "file_extension": ".py",
   "mimetype": "text/x-python",
   "name": "python",
   "nbconvert_exporter": "python",
   "pygments_lexer": "ipython3",
   "version": "3.13.0"
  }
 },
 "nbformat": 4,
 "nbformat_minor": 5
}
