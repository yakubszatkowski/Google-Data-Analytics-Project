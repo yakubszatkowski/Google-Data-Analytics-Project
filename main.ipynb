{
 "cells": [
  {
   "cell_type": "markdown",
   "id": "16835915",
   "metadata": {},
   "source": [
    "# Case study, How does a bike-share navigate speedy success?\n",
    "<p style=\"align, center\"><img src=\"./misc/bike.JPG\"></p>\n",
    "\n",
    "## Business Task\n",
    "Design marketing strategies aimed at converting casual riders into annual members\n",
    "\n",
    "## Analytic questions:\n",
    "* How do annual members and casual riders use Cyclistic bikes differently?\n",
    "* Why would casual riders buy Cyclistic annual memberships? \n",
    "* How can Cyclistic use digital media to influence casual riders to become members?\n",
    "\n",
    "### Source\n",
    "* 202401-divvy-tripdata.csv\n",
    "* 202402-divvy-tripdata.csv\n",
    "* 202403-divvy-tripdata.csv\n",
    "* 202404-divvy-tripdata.csv\n",
    "* 202405-divvy-tripdata.csv\n",
    "* 202406-divvy-tripdata.csv\n",
    "* 202407-divvy-tripdata.csv\n",
    "* 202408-divvy-tripdata.csv\n",
    "* 202409-divvy-tripdata.csv\n",
    "* 202410-divvy-tripdata.csv\n",
    "* 202411-divvy-tripdata.csv\n",
    "* 202412-divvy-tripdata.csv\n",
    "\n",
    "<p style=\"font-style: italic;\">The data has been made available by Motivate International Inc. under this <a href=\"https://divvybikes.com/data-license-agreement\">license</a>.</p>"
   ]
  },
  {
   "cell_type": "markdown",
   "id": "8f802ade",
   "metadata": {},
   "source": [
    "## Libraries import"
   ]
  },
  {
   "cell_type": "code",
   "execution_count": 113,
   "id": "98e0b6ab",
   "metadata": {},
   "outputs": [],
   "source": [
    "import glob\n",
    "import pandas as pd\n",
    "import numpy as np\n",
    "import matplotlib.pyplot as plt\n",
    "import seaborn as sns\n",
    "import plotly.express as px\n",
    "import plotly.graph_objects as go\n",
    "from datetime import datetime, timedelta\n",
    "import geopandas as gpd, geodatasets\n",
    "from pypalettes import load_cmap\n",
    "import folium\n"
   ]
  },
  {
   "cell_type": "markdown",
   "id": "f0dd0308",
   "metadata": {},
   "source": [
    "# Preparation\n",
    "### Load raw data"
   ]
  },
  {
   "cell_type": "code",
   "execution_count": 114,
   "id": "8c8c05ff",
   "metadata": {},
   "outputs": [
    {
     "data": {
      "text/html": [
       "<div>\n",
       "<style scoped>\n",
       "    .dataframe tbody tr th:only-of-type {\n",
       "        vertical-align: middle;\n",
       "    }\n",
       "\n",
       "    .dataframe tbody tr th {\n",
       "        vertical-align: top;\n",
       "    }\n",
       "\n",
       "    .dataframe thead th {\n",
       "        text-align: right;\n",
       "    }\n",
       "</style>\n",
       "<table border=\"1\" class=\"dataframe\">\n",
       "  <thead>\n",
       "    <tr style=\"text-align: right;\">\n",
       "      <th></th>\n",
       "      <th>ride_id</th>\n",
       "      <th>rideable_type</th>\n",
       "      <th>started_at</th>\n",
       "      <th>ended_at</th>\n",
       "      <th>start_station_name</th>\n",
       "      <th>start_station_id</th>\n",
       "      <th>end_station_name</th>\n",
       "      <th>end_station_id</th>\n",
       "      <th>start_lat</th>\n",
       "      <th>start_lng</th>\n",
       "      <th>end_lat</th>\n",
       "      <th>end_lng</th>\n",
       "      <th>member_casual</th>\n",
       "    </tr>\n",
       "  </thead>\n",
       "  <tbody>\n",
       "    <tr>\n",
       "      <th>0</th>\n",
       "      <td>C1D650626C8C899A</td>\n",
       "      <td>electric_bike</td>\n",
       "      <td>2024-01-12 15:30:27</td>\n",
       "      <td>2024-01-12 15:37:59</td>\n",
       "      <td>Wells St &amp; Elm St</td>\n",
       "      <td>KA1504000135</td>\n",
       "      <td>Kingsbury St &amp; Kinzie St</td>\n",
       "      <td>KA1503000043</td>\n",
       "      <td>41.903267</td>\n",
       "      <td>-87.634737</td>\n",
       "      <td>41.889177</td>\n",
       "      <td>-87.638506</td>\n",
       "      <td>member</td>\n",
       "    </tr>\n",
       "    <tr>\n",
       "      <th>1</th>\n",
       "      <td>EECD38BDB25BFCB0</td>\n",
       "      <td>electric_bike</td>\n",
       "      <td>2024-01-08 15:45:46</td>\n",
       "      <td>2024-01-08 15:52:59</td>\n",
       "      <td>Wells St &amp; Elm St</td>\n",
       "      <td>KA1504000135</td>\n",
       "      <td>Kingsbury St &amp; Kinzie St</td>\n",
       "      <td>KA1503000043</td>\n",
       "      <td>41.902937</td>\n",
       "      <td>-87.634440</td>\n",
       "      <td>41.889177</td>\n",
       "      <td>-87.638506</td>\n",
       "      <td>member</td>\n",
       "    </tr>\n",
       "    <tr>\n",
       "      <th>2</th>\n",
       "      <td>F4A9CE78061F17F7</td>\n",
       "      <td>electric_bike</td>\n",
       "      <td>2024-01-27 12:27:19</td>\n",
       "      <td>2024-01-27 12:35:19</td>\n",
       "      <td>Wells St &amp; Elm St</td>\n",
       "      <td>KA1504000135</td>\n",
       "      <td>Kingsbury St &amp; Kinzie St</td>\n",
       "      <td>KA1503000043</td>\n",
       "      <td>41.902951</td>\n",
       "      <td>-87.634470</td>\n",
       "      <td>41.889177</td>\n",
       "      <td>-87.638506</td>\n",
       "      <td>member</td>\n",
       "    </tr>\n",
       "    <tr>\n",
       "      <th>3</th>\n",
       "      <td>0A0D9E15EE50B171</td>\n",
       "      <td>classic_bike</td>\n",
       "      <td>2024-01-29 16:26:17</td>\n",
       "      <td>2024-01-29 16:56:06</td>\n",
       "      <td>Wells St &amp; Randolph St</td>\n",
       "      <td>TA1305000030</td>\n",
       "      <td>Larrabee St &amp; Webster Ave</td>\n",
       "      <td>13193</td>\n",
       "      <td>41.884295</td>\n",
       "      <td>-87.633963</td>\n",
       "      <td>41.921822</td>\n",
       "      <td>-87.644140</td>\n",
       "      <td>member</td>\n",
       "    </tr>\n",
       "    <tr>\n",
       "      <th>4</th>\n",
       "      <td>33FFC9805E3EFF9A</td>\n",
       "      <td>classic_bike</td>\n",
       "      <td>2024-01-31 05:43:23</td>\n",
       "      <td>2024-01-31 06:09:35</td>\n",
       "      <td>Lincoln Ave &amp; Waveland Ave</td>\n",
       "      <td>13253</td>\n",
       "      <td>Kingsbury St &amp; Kinzie St</td>\n",
       "      <td>KA1503000043</td>\n",
       "      <td>41.948797</td>\n",
       "      <td>-87.675278</td>\n",
       "      <td>41.889177</td>\n",
       "      <td>-87.638506</td>\n",
       "      <td>member</td>\n",
       "    </tr>\n",
       "  </tbody>\n",
       "</table>\n",
       "</div>"
      ],
      "text/plain": [
       "            ride_id  rideable_type           started_at             ended_at  \\\n",
       "0  C1D650626C8C899A  electric_bike  2024-01-12 15:30:27  2024-01-12 15:37:59   \n",
       "1  EECD38BDB25BFCB0  electric_bike  2024-01-08 15:45:46  2024-01-08 15:52:59   \n",
       "2  F4A9CE78061F17F7  electric_bike  2024-01-27 12:27:19  2024-01-27 12:35:19   \n",
       "3  0A0D9E15EE50B171   classic_bike  2024-01-29 16:26:17  2024-01-29 16:56:06   \n",
       "4  33FFC9805E3EFF9A   classic_bike  2024-01-31 05:43:23  2024-01-31 06:09:35   \n",
       "\n",
       "           start_station_name start_station_id           end_station_name  \\\n",
       "0           Wells St & Elm St     KA1504000135   Kingsbury St & Kinzie St   \n",
       "1           Wells St & Elm St     KA1504000135   Kingsbury St & Kinzie St   \n",
       "2           Wells St & Elm St     KA1504000135   Kingsbury St & Kinzie St   \n",
       "3      Wells St & Randolph St     TA1305000030  Larrabee St & Webster Ave   \n",
       "4  Lincoln Ave & Waveland Ave            13253   Kingsbury St & Kinzie St   \n",
       "\n",
       "  end_station_id  start_lat  start_lng    end_lat    end_lng member_casual  \n",
       "0   KA1503000043  41.903267 -87.634737  41.889177 -87.638506        member  \n",
       "1   KA1503000043  41.902937 -87.634440  41.889177 -87.638506        member  \n",
       "2   KA1503000043  41.902951 -87.634470  41.889177 -87.638506        member  \n",
       "3          13193  41.884295 -87.633963  41.921822 -87.644140        member  \n",
       "4   KA1503000043  41.948797 -87.675278  41.889177 -87.638506        member  "
      ]
     },
     "execution_count": 114,
     "metadata": {},
     "output_type": "execute_result"
    }
   ],
   "source": [
    "csv_files = glob.glob('raw data/*.csv')\n",
    "dfs = []\n",
    "\n",
    "for file in csv_files:\n",
    "    data = pd.read_csv(file, encoding=\"utf-8\",) \n",
    "    dfs.append(data)\n",
    "\n",
    "df = pd.concat(dfs)\n",
    "df.head()"
   ]
  },
  {
   "cell_type": "markdown",
   "id": "c23fc3bf",
   "metadata": {},
   "source": [
    "### Loading revelant columns"
   ]
  },
  {
   "cell_type": "code",
   "execution_count": 115,
   "id": "f986eef1",
   "metadata": {},
   "outputs": [
    {
     "data": {
      "text/html": [
       "<div>\n",
       "<style scoped>\n",
       "    .dataframe tbody tr th:only-of-type {\n",
       "        vertical-align: middle;\n",
       "    }\n",
       "\n",
       "    .dataframe tbody tr th {\n",
       "        vertical-align: top;\n",
       "    }\n",
       "\n",
       "    .dataframe thead th {\n",
       "        text-align: right;\n",
       "    }\n",
       "</style>\n",
       "<table border=\"1\" class=\"dataframe\">\n",
       "  <thead>\n",
       "    <tr style=\"text-align: right;\">\n",
       "      <th></th>\n",
       "      <th>ride_id</th>\n",
       "      <th>rideable_type</th>\n",
       "      <th>started_at</th>\n",
       "      <th>ended_at</th>\n",
       "      <th>start_station_name</th>\n",
       "      <th>end_station_name</th>\n",
       "      <th>member_casual</th>\n",
       "      <th>start_lat</th>\n",
       "      <th>start_lng</th>\n",
       "      <th>end_lat</th>\n",
       "      <th>end_lng</th>\n",
       "    </tr>\n",
       "  </thead>\n",
       "  <tbody>\n",
       "    <tr>\n",
       "      <th>0</th>\n",
       "      <td>C1D650626C8C899A</td>\n",
       "      <td>electric_bike</td>\n",
       "      <td>2024-01-12 15:30:27</td>\n",
       "      <td>2024-01-12 15:37:59</td>\n",
       "      <td>Wells St &amp; Elm St</td>\n",
       "      <td>Kingsbury St &amp; Kinzie St</td>\n",
       "      <td>member</td>\n",
       "      <td>41.903267</td>\n",
       "      <td>-87.634737</td>\n",
       "      <td>41.889177</td>\n",
       "      <td>-87.638506</td>\n",
       "    </tr>\n",
       "    <tr>\n",
       "      <th>1</th>\n",
       "      <td>EECD38BDB25BFCB0</td>\n",
       "      <td>electric_bike</td>\n",
       "      <td>2024-01-08 15:45:46</td>\n",
       "      <td>2024-01-08 15:52:59</td>\n",
       "      <td>Wells St &amp; Elm St</td>\n",
       "      <td>Kingsbury St &amp; Kinzie St</td>\n",
       "      <td>member</td>\n",
       "      <td>41.902937</td>\n",
       "      <td>-87.634440</td>\n",
       "      <td>41.889177</td>\n",
       "      <td>-87.638506</td>\n",
       "    </tr>\n",
       "    <tr>\n",
       "      <th>2</th>\n",
       "      <td>F4A9CE78061F17F7</td>\n",
       "      <td>electric_bike</td>\n",
       "      <td>2024-01-27 12:27:19</td>\n",
       "      <td>2024-01-27 12:35:19</td>\n",
       "      <td>Wells St &amp; Elm St</td>\n",
       "      <td>Kingsbury St &amp; Kinzie St</td>\n",
       "      <td>member</td>\n",
       "      <td>41.902951</td>\n",
       "      <td>-87.634470</td>\n",
       "      <td>41.889177</td>\n",
       "      <td>-87.638506</td>\n",
       "    </tr>\n",
       "    <tr>\n",
       "      <th>3</th>\n",
       "      <td>0A0D9E15EE50B171</td>\n",
       "      <td>classic_bike</td>\n",
       "      <td>2024-01-29 16:26:17</td>\n",
       "      <td>2024-01-29 16:56:06</td>\n",
       "      <td>Wells St &amp; Randolph St</td>\n",
       "      <td>Larrabee St &amp; Webster Ave</td>\n",
       "      <td>member</td>\n",
       "      <td>41.884295</td>\n",
       "      <td>-87.633963</td>\n",
       "      <td>41.921822</td>\n",
       "      <td>-87.644140</td>\n",
       "    </tr>\n",
       "    <tr>\n",
       "      <th>4</th>\n",
       "      <td>33FFC9805E3EFF9A</td>\n",
       "      <td>classic_bike</td>\n",
       "      <td>2024-01-31 05:43:23</td>\n",
       "      <td>2024-01-31 06:09:35</td>\n",
       "      <td>Lincoln Ave &amp; Waveland Ave</td>\n",
       "      <td>Kingsbury St &amp; Kinzie St</td>\n",
       "      <td>member</td>\n",
       "      <td>41.948797</td>\n",
       "      <td>-87.675278</td>\n",
       "      <td>41.889177</td>\n",
       "      <td>-87.638506</td>\n",
       "    </tr>\n",
       "  </tbody>\n",
       "</table>\n",
       "</div>"
      ],
      "text/plain": [
       "            ride_id  rideable_type           started_at             ended_at  \\\n",
       "0  C1D650626C8C899A  electric_bike  2024-01-12 15:30:27  2024-01-12 15:37:59   \n",
       "1  EECD38BDB25BFCB0  electric_bike  2024-01-08 15:45:46  2024-01-08 15:52:59   \n",
       "2  F4A9CE78061F17F7  electric_bike  2024-01-27 12:27:19  2024-01-27 12:35:19   \n",
       "3  0A0D9E15EE50B171   classic_bike  2024-01-29 16:26:17  2024-01-29 16:56:06   \n",
       "4  33FFC9805E3EFF9A   classic_bike  2024-01-31 05:43:23  2024-01-31 06:09:35   \n",
       "\n",
       "           start_station_name           end_station_name member_casual  \\\n",
       "0           Wells St & Elm St   Kingsbury St & Kinzie St        member   \n",
       "1           Wells St & Elm St   Kingsbury St & Kinzie St        member   \n",
       "2           Wells St & Elm St   Kingsbury St & Kinzie St        member   \n",
       "3      Wells St & Randolph St  Larrabee St & Webster Ave        member   \n",
       "4  Lincoln Ave & Waveland Ave   Kingsbury St & Kinzie St        member   \n",
       "\n",
       "   start_lat  start_lng    end_lat    end_lng  \n",
       "0  41.903267 -87.634737  41.889177 -87.638506  \n",
       "1  41.902937 -87.634440  41.889177 -87.638506  \n",
       "2  41.902951 -87.634470  41.889177 -87.638506  \n",
       "3  41.884295 -87.633963  41.921822 -87.644140  \n",
       "4  41.948797 -87.675278  41.889177 -87.638506  "
      ]
     },
     "execution_count": 115,
     "metadata": {},
     "output_type": "execute_result"
    }
   ],
   "source": [
    "revelant_cols_df = df[['ride_id', 'rideable_type', 'started_at', 'ended_at', 'start_station_name', 'end_station_name', 'member_casual', 'start_lat', 'start_lng', 'end_lat', 'end_lng']].copy()\n",
    "revelant_cols_df.head()"
   ]
  },
  {
   "cell_type": "markdown",
   "id": "84f140f1",
   "metadata": {},
   "source": [
    "### Efficient datatypes conversion "
   ]
  },
  {
   "cell_type": "code",
   "execution_count": 116,
   "id": "0ca39ad1",
   "metadata": {},
   "outputs": [
    {
     "data": {
      "text/plain": [
       "ride_id               string[pyarrow]\n",
       "rideable_type                category\n",
       "started_at             datetime64[ns]\n",
       "ended_at               datetime64[ns]\n",
       "start_station_name           category\n",
       "end_station_name             category\n",
       "member_casual                category\n",
       "start_lat                    category\n",
       "start_lng                    category\n",
       "end_lat                      category\n",
       "end_lng                      category\n",
       "dtype: object"
      ]
     },
     "execution_count": 116,
     "metadata": {},
     "output_type": "execute_result"
    }
   ],
   "source": [
    "schema = {\n",
    "    'ride_id': 'string[pyarrow]',\n",
    "    'rideable_type': 'category',\n",
    "    'started_at': 'datetime64[ns]',\n",
    "    'ended_at': 'datetime64[ns]',\n",
    "    'start_station_name': 'category',\n",
    "    'end_station_name': 'category',\n",
    "    'member_casual': 'category',\n",
    "    'start_lat': 'category', \n",
    "    'start_lng': 'category', \n",
    "    'end_lat': 'category', \n",
    "    'end_lng': 'category'\n",
    "}\n",
    "\n",
    "cast_df = revelant_cols_df.astype(schema).copy()\n",
    "cast_df.dtypes"
   ]
  },
  {
   "cell_type": "markdown",
   "id": "d45fca91",
   "metadata": {},
   "source": [
    "### Memory usage comparison"
   ]
  },
  {
   "cell_type": "code",
   "execution_count": 117,
   "id": "4d5cee2a",
   "metadata": {},
   "outputs": [
    {
     "name": "stdout",
     "output_type": "stream",
     "text": [
      "<class 'pandas.core.frame.DataFrame'>\n",
      "Index: 5860568 entries, 0 to 178371\n",
      "Data columns (total 13 columns):\n",
      " #   Column              Dtype  \n",
      "---  ------              -----  \n",
      " 0   ride_id             object \n",
      " 1   rideable_type       object \n",
      " 2   started_at          object \n",
      " 3   ended_at            object \n",
      " 4   start_station_name  object \n",
      " 5   start_station_id    object \n",
      " 6   end_station_name    object \n",
      " 7   end_station_id      object \n",
      " 8   start_lat           float64\n",
      " 9   start_lng           float64\n",
      " 10  end_lat             float64\n",
      " 11  end_lng             float64\n",
      " 12  member_casual       object \n",
      "dtypes: float64(4), object(9)\n",
      "memory usage: 3.3 GB\n"
     ]
    }
   ],
   "source": [
    "df.info(memory_usage='deep')"
   ]
  },
  {
   "cell_type": "code",
   "execution_count": 118,
   "id": "b85452c5",
   "metadata": {},
   "outputs": [
    {
     "name": "stdout",
     "output_type": "stream",
     "text": [
      "<class 'pandas.core.frame.DataFrame'>\n",
      "Index: 5860568 entries, 0 to 178371\n",
      "Data columns (total 11 columns):\n",
      " #   Column              Dtype         \n",
      "---  ------              -----         \n",
      " 0   ride_id             string        \n",
      " 1   rideable_type       category      \n",
      " 2   started_at          datetime64[ns]\n",
      " 3   ended_at            datetime64[ns]\n",
      " 4   start_station_name  category      \n",
      " 5   end_station_name    category      \n",
      " 6   member_casual       category      \n",
      " 7   start_lat           category      \n",
      " 8   start_lng           category      \n",
      " 9   end_lat             category      \n",
      " 10  end_lng             category      \n",
      "dtypes: category(8), datetime64[ns](2), string(1)\n",
      "memory usage: 409.7 MB\n"
     ]
    }
   ],
   "source": [
    "cast_df.info(memory_usage='deep')"
   ]
  },
  {
   "cell_type": "markdown",
   "id": "53334477",
   "metadata": {},
   "source": [
    "# Process\n",
    "\n",
    "## Preliminary data analysis"
   ]
  },
  {
   "cell_type": "code",
   "execution_count": 119,
   "id": "7facac25",
   "metadata": {},
   "outputs": [
    {
     "data": {
      "text/plain": [
       "(5860568, 11)"
      ]
     },
     "execution_count": 119,
     "metadata": {},
     "output_type": "execute_result"
    }
   ],
   "source": [
    "cast_df.shape"
   ]
  },
  {
   "cell_type": "code",
   "execution_count": 120,
   "id": "81a262fc",
   "metadata": {},
   "outputs": [
    {
     "data": {
      "text/html": [
       "<div>\n",
       "<style scoped>\n",
       "    .dataframe tbody tr th:only-of-type {\n",
       "        vertical-align: middle;\n",
       "    }\n",
       "\n",
       "    .dataframe tbody tr th {\n",
       "        vertical-align: top;\n",
       "    }\n",
       "\n",
       "    .dataframe thead th {\n",
       "        text-align: right;\n",
       "    }\n",
       "</style>\n",
       "<table border=\"1\" class=\"dataframe\">\n",
       "  <thead>\n",
       "    <tr style=\"text-align: right;\">\n",
       "      <th></th>\n",
       "      <th>ride_id</th>\n",
       "      <th>rideable_type</th>\n",
       "      <th>started_at</th>\n",
       "      <th>ended_at</th>\n",
       "      <th>start_station_name</th>\n",
       "      <th>end_station_name</th>\n",
       "      <th>member_casual</th>\n",
       "      <th>start_lat</th>\n",
       "      <th>start_lng</th>\n",
       "      <th>end_lat</th>\n",
       "      <th>end_lng</th>\n",
       "    </tr>\n",
       "  </thead>\n",
       "  <tbody>\n",
       "    <tr>\n",
       "      <th>0</th>\n",
       "      <td>C1D650626C8C899A</td>\n",
       "      <td>electric_bike</td>\n",
       "      <td>2024-01-12 15:30:27</td>\n",
       "      <td>2024-01-12 15:37:59</td>\n",
       "      <td>Wells St &amp; Elm St</td>\n",
       "      <td>Kingsbury St &amp; Kinzie St</td>\n",
       "      <td>member</td>\n",
       "      <td>41.903267</td>\n",
       "      <td>-87.634737</td>\n",
       "      <td>41.889177</td>\n",
       "      <td>-87.638506</td>\n",
       "    </tr>\n",
       "    <tr>\n",
       "      <th>1</th>\n",
       "      <td>EECD38BDB25BFCB0</td>\n",
       "      <td>electric_bike</td>\n",
       "      <td>2024-01-08 15:45:46</td>\n",
       "      <td>2024-01-08 15:52:59</td>\n",
       "      <td>Wells St &amp; Elm St</td>\n",
       "      <td>Kingsbury St &amp; Kinzie St</td>\n",
       "      <td>member</td>\n",
       "      <td>41.902937</td>\n",
       "      <td>-87.634440</td>\n",
       "      <td>41.889177</td>\n",
       "      <td>-87.638506</td>\n",
       "    </tr>\n",
       "    <tr>\n",
       "      <th>2</th>\n",
       "      <td>F4A9CE78061F17F7</td>\n",
       "      <td>electric_bike</td>\n",
       "      <td>2024-01-27 12:27:19</td>\n",
       "      <td>2024-01-27 12:35:19</td>\n",
       "      <td>Wells St &amp; Elm St</td>\n",
       "      <td>Kingsbury St &amp; Kinzie St</td>\n",
       "      <td>member</td>\n",
       "      <td>41.902951</td>\n",
       "      <td>-87.634470</td>\n",
       "      <td>41.889177</td>\n",
       "      <td>-87.638506</td>\n",
       "    </tr>\n",
       "    <tr>\n",
       "      <th>3</th>\n",
       "      <td>0A0D9E15EE50B171</td>\n",
       "      <td>classic_bike</td>\n",
       "      <td>2024-01-29 16:26:17</td>\n",
       "      <td>2024-01-29 16:56:06</td>\n",
       "      <td>Wells St &amp; Randolph St</td>\n",
       "      <td>Larrabee St &amp; Webster Ave</td>\n",
       "      <td>member</td>\n",
       "      <td>41.884295</td>\n",
       "      <td>-87.633963</td>\n",
       "      <td>41.921822</td>\n",
       "      <td>-87.644140</td>\n",
       "    </tr>\n",
       "    <tr>\n",
       "      <th>4</th>\n",
       "      <td>33FFC9805E3EFF9A</td>\n",
       "      <td>classic_bike</td>\n",
       "      <td>2024-01-31 05:43:23</td>\n",
       "      <td>2024-01-31 06:09:35</td>\n",
       "      <td>Lincoln Ave &amp; Waveland Ave</td>\n",
       "      <td>Kingsbury St &amp; Kinzie St</td>\n",
       "      <td>member</td>\n",
       "      <td>41.948797</td>\n",
       "      <td>-87.675278</td>\n",
       "      <td>41.889177</td>\n",
       "      <td>-87.638506</td>\n",
       "    </tr>\n",
       "    <tr>\n",
       "      <th>5</th>\n",
       "      <td>C96080812CD285C5</td>\n",
       "      <td>classic_bike</td>\n",
       "      <td>2024-01-07 11:21:24</td>\n",
       "      <td>2024-01-07 11:30:03</td>\n",
       "      <td>Wells St &amp; Elm St</td>\n",
       "      <td>Kingsbury St &amp; Kinzie St</td>\n",
       "      <td>member</td>\n",
       "      <td>41.903222</td>\n",
       "      <td>-87.634324</td>\n",
       "      <td>41.889177</td>\n",
       "      <td>-87.638506</td>\n",
       "    </tr>\n",
       "    <tr>\n",
       "      <th>6</th>\n",
       "      <td>0EA7CB313D4F456A</td>\n",
       "      <td>classic_bike</td>\n",
       "      <td>2024-01-05 14:44:12</td>\n",
       "      <td>2024-01-05 14:53:06</td>\n",
       "      <td>Wells St &amp; Elm St</td>\n",
       "      <td>Kingsbury St &amp; Kinzie St</td>\n",
       "      <td>member</td>\n",
       "      <td>41.903222</td>\n",
       "      <td>-87.634324</td>\n",
       "      <td>41.889177</td>\n",
       "      <td>-87.638506</td>\n",
       "    </tr>\n",
       "    <tr>\n",
       "      <th>7</th>\n",
       "      <td>EE11F3A3B39CFBD8</td>\n",
       "      <td>electric_bike</td>\n",
       "      <td>2024-01-04 18:19:53</td>\n",
       "      <td>2024-01-04 18:28:04</td>\n",
       "      <td>Wells St &amp; Elm St</td>\n",
       "      <td>Kingsbury St &amp; Kinzie St</td>\n",
       "      <td>member</td>\n",
       "      <td>41.903368</td>\n",
       "      <td>-87.634861</td>\n",
       "      <td>41.889177</td>\n",
       "      <td>-87.638506</td>\n",
       "    </tr>\n",
       "    <tr>\n",
       "      <th>8</th>\n",
       "      <td>63E83DE8E3279F15</td>\n",
       "      <td>classic_bike</td>\n",
       "      <td>2024-01-01 14:46:53</td>\n",
       "      <td>2024-01-01 14:57:02</td>\n",
       "      <td>Wells St &amp; Elm St</td>\n",
       "      <td>Kingsbury St &amp; Kinzie St</td>\n",
       "      <td>member</td>\n",
       "      <td>41.903222</td>\n",
       "      <td>-87.634324</td>\n",
       "      <td>41.889177</td>\n",
       "      <td>-87.638506</td>\n",
       "    </tr>\n",
       "    <tr>\n",
       "      <th>9</th>\n",
       "      <td>8005682869122D93</td>\n",
       "      <td>electric_bike</td>\n",
       "      <td>2024-01-03 19:31:08</td>\n",
       "      <td>2024-01-03 19:40:05</td>\n",
       "      <td>Clark St &amp; Ida B Wells Dr</td>\n",
       "      <td>Kingsbury St &amp; Kinzie St</td>\n",
       "      <td>member</td>\n",
       "      <td>41.876033</td>\n",
       "      <td>-87.630866</td>\n",
       "      <td>41.889177</td>\n",
       "      <td>-87.638506</td>\n",
       "    </tr>\n",
       "  </tbody>\n",
       "</table>\n",
       "</div>"
      ],
      "text/plain": [
       "            ride_id  rideable_type          started_at            ended_at  \\\n",
       "0  C1D650626C8C899A  electric_bike 2024-01-12 15:30:27 2024-01-12 15:37:59   \n",
       "1  EECD38BDB25BFCB0  electric_bike 2024-01-08 15:45:46 2024-01-08 15:52:59   \n",
       "2  F4A9CE78061F17F7  electric_bike 2024-01-27 12:27:19 2024-01-27 12:35:19   \n",
       "3  0A0D9E15EE50B171   classic_bike 2024-01-29 16:26:17 2024-01-29 16:56:06   \n",
       "4  33FFC9805E3EFF9A   classic_bike 2024-01-31 05:43:23 2024-01-31 06:09:35   \n",
       "5  C96080812CD285C5   classic_bike 2024-01-07 11:21:24 2024-01-07 11:30:03   \n",
       "6  0EA7CB313D4F456A   classic_bike 2024-01-05 14:44:12 2024-01-05 14:53:06   \n",
       "7  EE11F3A3B39CFBD8  electric_bike 2024-01-04 18:19:53 2024-01-04 18:28:04   \n",
       "8  63E83DE8E3279F15   classic_bike 2024-01-01 14:46:53 2024-01-01 14:57:02   \n",
       "9  8005682869122D93  electric_bike 2024-01-03 19:31:08 2024-01-03 19:40:05   \n",
       "\n",
       "           start_station_name           end_station_name member_casual  \\\n",
       "0           Wells St & Elm St   Kingsbury St & Kinzie St        member   \n",
       "1           Wells St & Elm St   Kingsbury St & Kinzie St        member   \n",
       "2           Wells St & Elm St   Kingsbury St & Kinzie St        member   \n",
       "3      Wells St & Randolph St  Larrabee St & Webster Ave        member   \n",
       "4  Lincoln Ave & Waveland Ave   Kingsbury St & Kinzie St        member   \n",
       "5           Wells St & Elm St   Kingsbury St & Kinzie St        member   \n",
       "6           Wells St & Elm St   Kingsbury St & Kinzie St        member   \n",
       "7           Wells St & Elm St   Kingsbury St & Kinzie St        member   \n",
       "8           Wells St & Elm St   Kingsbury St & Kinzie St        member   \n",
       "9   Clark St & Ida B Wells Dr   Kingsbury St & Kinzie St        member   \n",
       "\n",
       "   start_lat  start_lng    end_lat    end_lng  \n",
       "0  41.903267 -87.634737  41.889177 -87.638506  \n",
       "1  41.902937 -87.634440  41.889177 -87.638506  \n",
       "2  41.902951 -87.634470  41.889177 -87.638506  \n",
       "3  41.884295 -87.633963  41.921822 -87.644140  \n",
       "4  41.948797 -87.675278  41.889177 -87.638506  \n",
       "5  41.903222 -87.634324  41.889177 -87.638506  \n",
       "6  41.903222 -87.634324  41.889177 -87.638506  \n",
       "7  41.903368 -87.634861  41.889177 -87.638506  \n",
       "8  41.903222 -87.634324  41.889177 -87.638506  \n",
       "9  41.876033 -87.630866  41.889177 -87.638506  "
      ]
     },
     "execution_count": 120,
     "metadata": {},
     "output_type": "execute_result"
    }
   ],
   "source": [
    "cast_df.head(10)"
   ]
  },
  {
   "cell_type": "code",
   "execution_count": 121,
   "id": "0d5e592e",
   "metadata": {},
   "outputs": [
    {
     "data": {
      "text/plain": [
       "Index(['ride_id', 'rideable_type', 'started_at', 'ended_at',\n",
       "       'start_station_name', 'end_station_name', 'member_casual', 'start_lat',\n",
       "       'start_lng', 'end_lat', 'end_lng'],\n",
       "      dtype='object')"
      ]
     },
     "execution_count": 121,
     "metadata": {},
     "output_type": "execute_result"
    }
   ],
   "source": [
    "cast_df.columns"
   ]
  },
  {
   "cell_type": "code",
   "execution_count": 122,
   "id": "7f8a636c",
   "metadata": {},
   "outputs": [
    {
     "data": {
      "text/html": [
       "<div>\n",
       "<style scoped>\n",
       "    .dataframe tbody tr th:only-of-type {\n",
       "        vertical-align: middle;\n",
       "    }\n",
       "\n",
       "    .dataframe tbody tr th {\n",
       "        vertical-align: top;\n",
       "    }\n",
       "\n",
       "    .dataframe thead th {\n",
       "        text-align: right;\n",
       "    }\n",
       "</style>\n",
       "<table border=\"1\" class=\"dataframe\">\n",
       "  <thead>\n",
       "    <tr style=\"text-align: right;\">\n",
       "      <th></th>\n",
       "      <th>started_at</th>\n",
       "      <th>ended_at</th>\n",
       "    </tr>\n",
       "  </thead>\n",
       "  <tbody>\n",
       "    <tr>\n",
       "      <th>count</th>\n",
       "      <td>5860568</td>\n",
       "      <td>5860568</td>\n",
       "    </tr>\n",
       "    <tr>\n",
       "      <th>mean</th>\n",
       "      <td>2024-07-17 07:55:47.617262848</td>\n",
       "      <td>2024-07-17 08:13:06.552330496</td>\n",
       "    </tr>\n",
       "    <tr>\n",
       "      <th>min</th>\n",
       "      <td>2024-01-01 00:00:39</td>\n",
       "      <td>2024-01-01 00:04:20</td>\n",
       "    </tr>\n",
       "    <tr>\n",
       "      <th>25%</th>\n",
       "      <td>2024-05-20 19:47:53</td>\n",
       "      <td>2024-05-20 20:07:54.750000128</td>\n",
       "    </tr>\n",
       "    <tr>\n",
       "      <th>50%</th>\n",
       "      <td>2024-07-22 20:36:16.283500032</td>\n",
       "      <td>2024-07-22 20:53:59.158500096</td>\n",
       "    </tr>\n",
       "    <tr>\n",
       "      <th>75%</th>\n",
       "      <td>2024-09-17 20:14:22.566249984</td>\n",
       "      <td>2024-09-17 20:27:46.025999872</td>\n",
       "    </tr>\n",
       "    <tr>\n",
       "      <th>max</th>\n",
       "      <td>2024-12-31 23:56:49.854000</td>\n",
       "      <td>2024-12-31 23:59:55.705000</td>\n",
       "    </tr>\n",
       "  </tbody>\n",
       "</table>\n",
       "</div>"
      ],
      "text/plain": [
       "                          started_at                       ended_at\n",
       "count                        5860568                        5860568\n",
       "mean   2024-07-17 07:55:47.617262848  2024-07-17 08:13:06.552330496\n",
       "min              2024-01-01 00:00:39            2024-01-01 00:04:20\n",
       "25%              2024-05-20 19:47:53  2024-05-20 20:07:54.750000128\n",
       "50%    2024-07-22 20:36:16.283500032  2024-07-22 20:53:59.158500096\n",
       "75%    2024-09-17 20:14:22.566249984  2024-09-17 20:27:46.025999872\n",
       "max       2024-12-31 23:56:49.854000     2024-12-31 23:59:55.705000"
      ]
     },
     "execution_count": 122,
     "metadata": {},
     "output_type": "execute_result"
    }
   ],
   "source": [
    "cast_df.describe()"
   ]
  },
  {
   "cell_type": "markdown",
   "id": "2c9fba6f",
   "metadata": {},
   "source": [
    "## Check for N/A values and duplicates"
   ]
  },
  {
   "cell_type": "markdown",
   "id": "686452b2",
   "metadata": {},
   "source": [
    "### Check N/A"
   ]
  },
  {
   "cell_type": "code",
   "execution_count": 123,
   "id": "4cf5d91e",
   "metadata": {},
   "outputs": [
    {
     "data": {
      "text/plain": [
       "ride_id                     0\n",
       "rideable_type               0\n",
       "started_at                  0\n",
       "ended_at                    0\n",
       "start_station_name    1073951\n",
       "end_station_name      1104653\n",
       "member_casual               0\n",
       "start_lat                   0\n",
       "start_lng                   0\n",
       "end_lat                  7232\n",
       "end_lng                  7232\n",
       "dtype: int64"
      ]
     },
     "execution_count": 123,
     "metadata": {},
     "output_type": "execute_result"
    }
   ],
   "source": [
    "cast_df.isna().sum()"
   ]
  },
  {
   "cell_type": "markdown",
   "id": "63f1007b",
   "metadata": {},
   "source": [
    "### Assuming that rides without registered start or end station are registered by errors thus we won't take them into analysis"
   ]
  },
  {
   "cell_type": "code",
   "execution_count": 124,
   "id": "5e95b84d",
   "metadata": {},
   "outputs": [],
   "source": [
    "clean_df = cast_df.dropna().copy()"
   ]
  },
  {
   "cell_type": "markdown",
   "id": "487f43b3",
   "metadata": {},
   "source": [
    "### Checking for duplicated with the same ride id"
   ]
  },
  {
   "cell_type": "code",
   "execution_count": 125,
   "id": "80e6b45f",
   "metadata": {},
   "outputs": [
    {
     "data": {
      "text/html": [
       "<div>\n",
       "<style scoped>\n",
       "    .dataframe tbody tr th:only-of-type {\n",
       "        vertical-align: middle;\n",
       "    }\n",
       "\n",
       "    .dataframe tbody tr th {\n",
       "        vertical-align: top;\n",
       "    }\n",
       "\n",
       "    .dataframe thead th {\n",
       "        text-align: right;\n",
       "    }\n",
       "</style>\n",
       "<table border=\"1\" class=\"dataframe\">\n",
       "  <thead>\n",
       "    <tr style=\"text-align: right;\">\n",
       "      <th></th>\n",
       "      <th>ride_id</th>\n",
       "      <th>rideable_type</th>\n",
       "      <th>started_at</th>\n",
       "      <th>ended_at</th>\n",
       "      <th>start_station_name</th>\n",
       "      <th>end_station_name</th>\n",
       "      <th>member_casual</th>\n",
       "      <th>start_lat</th>\n",
       "      <th>start_lng</th>\n",
       "      <th>end_lat</th>\n",
       "      <th>end_lng</th>\n",
       "    </tr>\n",
       "  </thead>\n",
       "  <tbody>\n",
       "    <tr>\n",
       "      <th>943</th>\n",
       "      <td>2C772EDDDBDEFDA3</td>\n",
       "      <td>electric_bike</td>\n",
       "      <td>2024-05-31 23:42:42</td>\n",
       "      <td>2024-06-01 00:25:08</td>\n",
       "      <td>Dearborn St &amp; Van Buren St</td>\n",
       "      <td>DuSable Lake Shore Dr &amp; Monroe St</td>\n",
       "      <td>casual</td>\n",
       "      <td>41.876054</td>\n",
       "      <td>-87.629921</td>\n",
       "      <td>41.880958</td>\n",
       "      <td>-87.616743</td>\n",
       "    </tr>\n",
       "    <tr>\n",
       "      <th>17181</th>\n",
       "      <td>7BC67FD33887B3CB</td>\n",
       "      <td>classic_bike</td>\n",
       "      <td>2024-05-31 22:54:20</td>\n",
       "      <td>2024-06-01 00:42:41</td>\n",
       "      <td>Burnham Harbor</td>\n",
       "      <td>St. Louis Ave &amp; Fullerton Ave</td>\n",
       "      <td>casual</td>\n",
       "      <td>41.857412</td>\n",
       "      <td>-87.613792</td>\n",
       "      <td>41.924816</td>\n",
       "      <td>-87.714495</td>\n",
       "    </tr>\n",
       "    <tr>\n",
       "      <th>20441</th>\n",
       "      <td>43CD52984AD22D99</td>\n",
       "      <td>electric_bike</td>\n",
       "      <td>2024-05-31 23:45:51</td>\n",
       "      <td>2024-06-01 00:11:46</td>\n",
       "      <td>Wentworth Ave &amp; Cermak Rd*</td>\n",
       "      <td>Loomis St &amp; Lexington St</td>\n",
       "      <td>member</td>\n",
       "      <td>41.853098</td>\n",
       "      <td>-87.631871</td>\n",
       "      <td>41.872229</td>\n",
       "      <td>-87.661364</td>\n",
       "    </tr>\n",
       "    <tr>\n",
       "      <th>22451</th>\n",
       "      <td>ABBD88BEBC1431FF</td>\n",
       "      <td>electric_bike</td>\n",
       "      <td>2024-05-31 23:20:35</td>\n",
       "      <td>2024-06-01 00:33:41</td>\n",
       "      <td>McClurg Ct &amp; Erie St</td>\n",
       "      <td>McClurg Ct &amp; Erie St</td>\n",
       "      <td>casual</td>\n",
       "      <td>41.894351</td>\n",
       "      <td>-87.617765</td>\n",
       "      <td>41.894503</td>\n",
       "      <td>-87.617854</td>\n",
       "    </tr>\n",
       "    <tr>\n",
       "      <th>25437</th>\n",
       "      <td>CA12CCDD359DA80C</td>\n",
       "      <td>classic_bike</td>\n",
       "      <td>2024-05-31 23:54:35</td>\n",
       "      <td>2024-06-01 00:01:25</td>\n",
       "      <td>Halsted St &amp; Archer Ave</td>\n",
       "      <td>Morgan St &amp; 31st St</td>\n",
       "      <td>casual</td>\n",
       "      <td>41.847203</td>\n",
       "      <td>-87.646795</td>\n",
       "      <td>41.837800</td>\n",
       "      <td>-87.651140</td>\n",
       "    </tr>\n",
       "  </tbody>\n",
       "</table>\n",
       "</div>"
      ],
      "text/plain": [
       "                ride_id  rideable_type          started_at  \\\n",
       "943    2C772EDDDBDEFDA3  electric_bike 2024-05-31 23:42:42   \n",
       "17181  7BC67FD33887B3CB   classic_bike 2024-05-31 22:54:20   \n",
       "20441  43CD52984AD22D99  electric_bike 2024-05-31 23:45:51   \n",
       "22451  ABBD88BEBC1431FF  electric_bike 2024-05-31 23:20:35   \n",
       "25437  CA12CCDD359DA80C   classic_bike 2024-05-31 23:54:35   \n",
       "\n",
       "                 ended_at          start_station_name  \\\n",
       "943   2024-06-01 00:25:08  Dearborn St & Van Buren St   \n",
       "17181 2024-06-01 00:42:41              Burnham Harbor   \n",
       "20441 2024-06-01 00:11:46  Wentworth Ave & Cermak Rd*   \n",
       "22451 2024-06-01 00:33:41        McClurg Ct & Erie St   \n",
       "25437 2024-06-01 00:01:25     Halsted St & Archer Ave   \n",
       "\n",
       "                        end_station_name member_casual  start_lat  start_lng  \\\n",
       "943    DuSable Lake Shore Dr & Monroe St        casual  41.876054 -87.629921   \n",
       "17181      St. Louis Ave & Fullerton Ave        casual  41.857412 -87.613792   \n",
       "20441           Loomis St & Lexington St        member  41.853098 -87.631871   \n",
       "22451               McClurg Ct & Erie St        casual  41.894351 -87.617765   \n",
       "25437                Morgan St & 31st St        casual  41.847203 -87.646795   \n",
       "\n",
       "         end_lat    end_lng  \n",
       "943    41.880958 -87.616743  \n",
       "17181  41.924816 -87.714495  \n",
       "20441  41.872229 -87.661364  \n",
       "22451  41.894503 -87.617854  \n",
       "25437  41.837800 -87.651140  "
      ]
     },
     "execution_count": 125,
     "metadata": {},
     "output_type": "execute_result"
    }
   ],
   "source": [
    "clean_df.loc[clean_df.duplicated(subset=['ride_id'], keep=False)].head()"
   ]
  },
  {
   "cell_type": "code",
   "execution_count": 126,
   "id": "01af4486",
   "metadata": {},
   "outputs": [],
   "source": [
    "clean_df = clean_df.drop_duplicates(subset=['ride_id']).copy()"
   ]
  },
  {
   "cell_type": "markdown",
   "id": "b04210d8",
   "metadata": {},
   "source": [
    "### Checking for stations that have same start time, end time, start station and end station"
   ]
  },
  {
   "cell_type": "code",
   "execution_count": 127,
   "id": "dd66dcb5",
   "metadata": {},
   "outputs": [
    {
     "data": {
      "text/html": [
       "<div>\n",
       "<style scoped>\n",
       "    .dataframe tbody tr th:only-of-type {\n",
       "        vertical-align: middle;\n",
       "    }\n",
       "\n",
       "    .dataframe tbody tr th {\n",
       "        vertical-align: top;\n",
       "    }\n",
       "\n",
       "    .dataframe thead th {\n",
       "        text-align: right;\n",
       "    }\n",
       "</style>\n",
       "<table border=\"1\" class=\"dataframe\">\n",
       "  <thead>\n",
       "    <tr style=\"text-align: right;\">\n",
       "      <th></th>\n",
       "      <th>ride_id</th>\n",
       "      <th>rideable_type</th>\n",
       "      <th>started_at</th>\n",
       "      <th>ended_at</th>\n",
       "      <th>start_station_name</th>\n",
       "      <th>end_station_name</th>\n",
       "      <th>member_casual</th>\n",
       "      <th>start_lat</th>\n",
       "      <th>start_lng</th>\n",
       "      <th>end_lat</th>\n",
       "      <th>end_lng</th>\n",
       "    </tr>\n",
       "  </thead>\n",
       "  <tbody>\n",
       "    <tr>\n",
       "      <th>102692</th>\n",
       "      <td>D3CE8F069C526B23</td>\n",
       "      <td>classic_bike</td>\n",
       "      <td>2024-01-30 20:27:57</td>\n",
       "      <td>2024-01-30 20:50:51</td>\n",
       "      <td>Canal St &amp; Adams St</td>\n",
       "      <td>State St &amp; Randolph St</td>\n",
       "      <td>member</td>\n",
       "      <td>41.879255</td>\n",
       "      <td>-87.639904</td>\n",
       "      <td>41.884621</td>\n",
       "      <td>-87.627834</td>\n",
       "    </tr>\n",
       "    <tr>\n",
       "      <th>102754</th>\n",
       "      <td>BD06A0FDAC1D1183</td>\n",
       "      <td>classic_bike</td>\n",
       "      <td>2024-01-30 20:27:57</td>\n",
       "      <td>2024-01-30 20:50:51</td>\n",
       "      <td>Canal St &amp; Adams St</td>\n",
       "      <td>State St &amp; Randolph St</td>\n",
       "      <td>member</td>\n",
       "      <td>41.879255</td>\n",
       "      <td>-87.639904</td>\n",
       "      <td>41.884621</td>\n",
       "      <td>-87.627834</td>\n",
       "    </tr>\n",
       "    <tr>\n",
       "      <th>71207</th>\n",
       "      <td>A47F1F8E79A156BC</td>\n",
       "      <td>classic_bike</td>\n",
       "      <td>2024-02-27 13:40:53</td>\n",
       "      <td>2024-02-27 13:57:21</td>\n",
       "      <td>McClurg Ct &amp; Erie St</td>\n",
       "      <td>Halsted St &amp; Clybourn Ave</td>\n",
       "      <td>casual</td>\n",
       "      <td>41.894503</td>\n",
       "      <td>-87.617854</td>\n",
       "      <td>41.909668</td>\n",
       "      <td>-87.648128</td>\n",
       "    </tr>\n",
       "    <tr>\n",
       "      <th>165886</th>\n",
       "      <td>36EE4451474A3DC0</td>\n",
       "      <td>classic_bike</td>\n",
       "      <td>2024-02-27 13:40:53</td>\n",
       "      <td>2024-02-27 13:57:21</td>\n",
       "      <td>McClurg Ct &amp; Erie St</td>\n",
       "      <td>Halsted St &amp; Clybourn Ave</td>\n",
       "      <td>casual</td>\n",
       "      <td>41.894503</td>\n",
       "      <td>-87.617854</td>\n",
       "      <td>41.909668</td>\n",
       "      <td>-87.648128</td>\n",
       "    </tr>\n",
       "  </tbody>\n",
       "</table>\n",
       "</div>"
      ],
      "text/plain": [
       "                 ride_id rideable_type          started_at  \\\n",
       "102692  D3CE8F069C526B23  classic_bike 2024-01-30 20:27:57   \n",
       "102754  BD06A0FDAC1D1183  classic_bike 2024-01-30 20:27:57   \n",
       "71207   A47F1F8E79A156BC  classic_bike 2024-02-27 13:40:53   \n",
       "165886  36EE4451474A3DC0  classic_bike 2024-02-27 13:40:53   \n",
       "\n",
       "                  ended_at    start_station_name           end_station_name  \\\n",
       "102692 2024-01-30 20:50:51   Canal St & Adams St     State St & Randolph St   \n",
       "102754 2024-01-30 20:50:51   Canal St & Adams St     State St & Randolph St   \n",
       "71207  2024-02-27 13:57:21  McClurg Ct & Erie St  Halsted St & Clybourn Ave   \n",
       "165886 2024-02-27 13:57:21  McClurg Ct & Erie St  Halsted St & Clybourn Ave   \n",
       "\n",
       "       member_casual  start_lat  start_lng    end_lat    end_lng  \n",
       "102692        member  41.879255 -87.639904  41.884621 -87.627834  \n",
       "102754        member  41.879255 -87.639904  41.884621 -87.627834  \n",
       "71207         casual  41.894503 -87.617854  41.909668 -87.648128  \n",
       "165886        casual  41.894503 -87.617854  41.909668 -87.648128  "
      ]
     },
     "execution_count": 127,
     "metadata": {},
     "output_type": "execute_result"
    }
   ],
   "source": [
    "clean_df.loc[clean_df.duplicated(subset=['started_at', 'ended_at', 'start_station_name', 'end_station_name'], keep=False)]"
   ]
  },
  {
   "cell_type": "code",
   "execution_count": 128,
   "id": "1ecdc70c",
   "metadata": {},
   "outputs": [],
   "source": [
    "clean_df = clean_df.drop_duplicates(subset=['started_at', 'ended_at', 'start_station_name', 'end_station_name']).copy()"
   ]
  },
  {
   "cell_type": "markdown",
   "id": "b151d76c",
   "metadata": {},
   "source": [
    "### Checking for stations that have same start time, end time, start station or end station\n",
    "Whenever those records need to be deleted, consultation with someone from the company is required to determine if the given station can hold more than two bikes."
   ]
  },
  {
   "cell_type": "code",
   "execution_count": 129,
   "id": "96d4c120",
   "metadata": {},
   "outputs": [
    {
     "data": {
      "text/html": [
       "<div>\n",
       "<style scoped>\n",
       "    .dataframe tbody tr th:only-of-type {\n",
       "        vertical-align: middle;\n",
       "    }\n",
       "\n",
       "    .dataframe tbody tr th {\n",
       "        vertical-align: top;\n",
       "    }\n",
       "\n",
       "    .dataframe thead th {\n",
       "        text-align: right;\n",
       "    }\n",
       "</style>\n",
       "<table border=\"1\" class=\"dataframe\">\n",
       "  <thead>\n",
       "    <tr style=\"text-align: right;\">\n",
       "      <th></th>\n",
       "      <th>ride_id</th>\n",
       "      <th>rideable_type</th>\n",
       "      <th>started_at</th>\n",
       "      <th>ended_at</th>\n",
       "      <th>start_station_name</th>\n",
       "      <th>end_station_name</th>\n",
       "      <th>member_casual</th>\n",
       "      <th>start_lat</th>\n",
       "      <th>start_lng</th>\n",
       "      <th>end_lat</th>\n",
       "      <th>end_lng</th>\n",
       "    </tr>\n",
       "  </thead>\n",
       "  <tbody>\n",
       "  </tbody>\n",
       "</table>\n",
       "</div>"
      ],
      "text/plain": [
       "Empty DataFrame\n",
       "Columns: [ride_id, rideable_type, started_at, ended_at, start_station_name, end_station_name, member_casual, start_lat, start_lng, end_lat, end_lng]\n",
       "Index: []"
      ]
     },
     "execution_count": 129,
     "metadata": {},
     "output_type": "execute_result"
    }
   ],
   "source": [
    "clean_df.loc[clean_df.duplicated(subset=['started_at', 'ended_at', 'start_station_name'], keep=False)]"
   ]
  },
  {
   "cell_type": "code",
   "execution_count": 130,
   "id": "d105b631",
   "metadata": {},
   "outputs": [
    {
     "data": {
      "text/html": [
       "<div>\n",
       "<style scoped>\n",
       "    .dataframe tbody tr th:only-of-type {\n",
       "        vertical-align: middle;\n",
       "    }\n",
       "\n",
       "    .dataframe tbody tr th {\n",
       "        vertical-align: top;\n",
       "    }\n",
       "\n",
       "    .dataframe thead th {\n",
       "        text-align: right;\n",
       "    }\n",
       "</style>\n",
       "<table border=\"1\" class=\"dataframe\">\n",
       "  <thead>\n",
       "    <tr style=\"text-align: right;\">\n",
       "      <th></th>\n",
       "      <th>ride_id</th>\n",
       "      <th>rideable_type</th>\n",
       "      <th>started_at</th>\n",
       "      <th>ended_at</th>\n",
       "      <th>start_station_name</th>\n",
       "      <th>end_station_name</th>\n",
       "      <th>member_casual</th>\n",
       "      <th>start_lat</th>\n",
       "      <th>start_lng</th>\n",
       "      <th>end_lat</th>\n",
       "      <th>end_lng</th>\n",
       "    </tr>\n",
       "  </thead>\n",
       "  <tbody>\n",
       "    <tr>\n",
       "      <th>102616</th>\n",
       "      <td>48AB680D63B319F5</td>\n",
       "      <td>classic_bike</td>\n",
       "      <td>2024-03-04 17:36:30</td>\n",
       "      <td>2024-03-04 17:46:12</td>\n",
       "      <td>Mies van der Rohe Way &amp; Chestnut St</td>\n",
       "      <td>New St &amp; Illinois St</td>\n",
       "      <td>member</td>\n",
       "      <td>41.898587</td>\n",
       "      <td>-87.621915</td>\n",
       "      <td>41.890847</td>\n",
       "      <td>-87.618617</td>\n",
       "    </tr>\n",
       "    <tr>\n",
       "      <th>181898</th>\n",
       "      <td>FAA4EB520E8918AF</td>\n",
       "      <td>classic_bike</td>\n",
       "      <td>2024-03-04 17:36:30</td>\n",
       "      <td>2024-03-04 17:46:12</td>\n",
       "      <td>Wells St &amp; Huron St</td>\n",
       "      <td>New St &amp; Illinois St</td>\n",
       "      <td>member</td>\n",
       "      <td>41.894722</td>\n",
       "      <td>-87.634362</td>\n",
       "      <td>41.890847</td>\n",
       "      <td>-87.618617</td>\n",
       "    </tr>\n",
       "  </tbody>\n",
       "</table>\n",
       "</div>"
      ],
      "text/plain": [
       "                 ride_id rideable_type          started_at  \\\n",
       "102616  48AB680D63B319F5  classic_bike 2024-03-04 17:36:30   \n",
       "181898  FAA4EB520E8918AF  classic_bike 2024-03-04 17:36:30   \n",
       "\n",
       "                  ended_at                   start_station_name  \\\n",
       "102616 2024-03-04 17:46:12  Mies van der Rohe Way & Chestnut St   \n",
       "181898 2024-03-04 17:46:12                  Wells St & Huron St   \n",
       "\n",
       "            end_station_name member_casual  start_lat  start_lng    end_lat  \\\n",
       "102616  New St & Illinois St        member  41.898587 -87.621915  41.890847   \n",
       "181898  New St & Illinois St        member  41.894722 -87.634362  41.890847   \n",
       "\n",
       "          end_lng  \n",
       "102616 -87.618617  \n",
       "181898 -87.618617  "
      ]
     },
     "execution_count": 130,
     "metadata": {},
     "output_type": "execute_result"
    }
   ],
   "source": [
    "clean_df.loc[clean_df.duplicated(subset=['started_at', 'ended_at', 'end_station_name'], keep=False)]"
   ]
  },
  {
   "cell_type": "markdown",
   "id": "98892da3",
   "metadata": {},
   "source": [
    "### Creating ride_time column that shows difference between ended_at and started_at"
   ]
  },
  {
   "cell_type": "code",
   "execution_count": 131,
   "id": "9a0ee900",
   "metadata": {},
   "outputs": [
    {
     "data": {
      "text/html": [
       "<div>\n",
       "<style scoped>\n",
       "    .dataframe tbody tr th:only-of-type {\n",
       "        vertical-align: middle;\n",
       "    }\n",
       "\n",
       "    .dataframe tbody tr th {\n",
       "        vertical-align: top;\n",
       "    }\n",
       "\n",
       "    .dataframe thead th {\n",
       "        text-align: right;\n",
       "    }\n",
       "</style>\n",
       "<table border=\"1\" class=\"dataframe\">\n",
       "  <thead>\n",
       "    <tr style=\"text-align: right;\">\n",
       "      <th></th>\n",
       "      <th>ride_id</th>\n",
       "      <th>rideable_type</th>\n",
       "      <th>started_at</th>\n",
       "      <th>ended_at</th>\n",
       "      <th>ride_time</th>\n",
       "      <th>start_station_name</th>\n",
       "      <th>end_station_name</th>\n",
       "      <th>member_casual</th>\n",
       "      <th>start_lat</th>\n",
       "      <th>start_lng</th>\n",
       "      <th>end_lat</th>\n",
       "      <th>end_lng</th>\n",
       "    </tr>\n",
       "  </thead>\n",
       "  <tbody>\n",
       "    <tr>\n",
       "      <th>0</th>\n",
       "      <td>C1D650626C8C899A</td>\n",
       "      <td>electric_bike</td>\n",
       "      <td>2024-01-12 15:30:27</td>\n",
       "      <td>2024-01-12 15:37:59</td>\n",
       "      <td>0 days 00:07:32</td>\n",
       "      <td>Wells St &amp; Elm St</td>\n",
       "      <td>Kingsbury St &amp; Kinzie St</td>\n",
       "      <td>member</td>\n",
       "      <td>41.903267</td>\n",
       "      <td>-87.634737</td>\n",
       "      <td>41.889177</td>\n",
       "      <td>-87.638506</td>\n",
       "    </tr>\n",
       "    <tr>\n",
       "      <th>1</th>\n",
       "      <td>EECD38BDB25BFCB0</td>\n",
       "      <td>electric_bike</td>\n",
       "      <td>2024-01-08 15:45:46</td>\n",
       "      <td>2024-01-08 15:52:59</td>\n",
       "      <td>0 days 00:07:13</td>\n",
       "      <td>Wells St &amp; Elm St</td>\n",
       "      <td>Kingsbury St &amp; Kinzie St</td>\n",
       "      <td>member</td>\n",
       "      <td>41.902937</td>\n",
       "      <td>-87.634440</td>\n",
       "      <td>41.889177</td>\n",
       "      <td>-87.638506</td>\n",
       "    </tr>\n",
       "    <tr>\n",
       "      <th>2</th>\n",
       "      <td>F4A9CE78061F17F7</td>\n",
       "      <td>electric_bike</td>\n",
       "      <td>2024-01-27 12:27:19</td>\n",
       "      <td>2024-01-27 12:35:19</td>\n",
       "      <td>0 days 00:08:00</td>\n",
       "      <td>Wells St &amp; Elm St</td>\n",
       "      <td>Kingsbury St &amp; Kinzie St</td>\n",
       "      <td>member</td>\n",
       "      <td>41.902951</td>\n",
       "      <td>-87.634470</td>\n",
       "      <td>41.889177</td>\n",
       "      <td>-87.638506</td>\n",
       "    </tr>\n",
       "    <tr>\n",
       "      <th>3</th>\n",
       "      <td>0A0D9E15EE50B171</td>\n",
       "      <td>classic_bike</td>\n",
       "      <td>2024-01-29 16:26:17</td>\n",
       "      <td>2024-01-29 16:56:06</td>\n",
       "      <td>0 days 00:29:49</td>\n",
       "      <td>Wells St &amp; Randolph St</td>\n",
       "      <td>Larrabee St &amp; Webster Ave</td>\n",
       "      <td>member</td>\n",
       "      <td>41.884295</td>\n",
       "      <td>-87.633963</td>\n",
       "      <td>41.921822</td>\n",
       "      <td>-87.644140</td>\n",
       "    </tr>\n",
       "    <tr>\n",
       "      <th>4</th>\n",
       "      <td>33FFC9805E3EFF9A</td>\n",
       "      <td>classic_bike</td>\n",
       "      <td>2024-01-31 05:43:23</td>\n",
       "      <td>2024-01-31 06:09:35</td>\n",
       "      <td>0 days 00:26:12</td>\n",
       "      <td>Lincoln Ave &amp; Waveland Ave</td>\n",
       "      <td>Kingsbury St &amp; Kinzie St</td>\n",
       "      <td>member</td>\n",
       "      <td>41.948797</td>\n",
       "      <td>-87.675278</td>\n",
       "      <td>41.889177</td>\n",
       "      <td>-87.638506</td>\n",
       "    </tr>\n",
       "  </tbody>\n",
       "</table>\n",
       "</div>"
      ],
      "text/plain": [
       "            ride_id  rideable_type          started_at            ended_at  \\\n",
       "0  C1D650626C8C899A  electric_bike 2024-01-12 15:30:27 2024-01-12 15:37:59   \n",
       "1  EECD38BDB25BFCB0  electric_bike 2024-01-08 15:45:46 2024-01-08 15:52:59   \n",
       "2  F4A9CE78061F17F7  electric_bike 2024-01-27 12:27:19 2024-01-27 12:35:19   \n",
       "3  0A0D9E15EE50B171   classic_bike 2024-01-29 16:26:17 2024-01-29 16:56:06   \n",
       "4  33FFC9805E3EFF9A   classic_bike 2024-01-31 05:43:23 2024-01-31 06:09:35   \n",
       "\n",
       "        ride_time          start_station_name           end_station_name  \\\n",
       "0 0 days 00:07:32           Wells St & Elm St   Kingsbury St & Kinzie St   \n",
       "1 0 days 00:07:13           Wells St & Elm St   Kingsbury St & Kinzie St   \n",
       "2 0 days 00:08:00           Wells St & Elm St   Kingsbury St & Kinzie St   \n",
       "3 0 days 00:29:49      Wells St & Randolph St  Larrabee St & Webster Ave   \n",
       "4 0 days 00:26:12  Lincoln Ave & Waveland Ave   Kingsbury St & Kinzie St   \n",
       "\n",
       "  member_casual  start_lat  start_lng    end_lat    end_lng  \n",
       "0        member  41.903267 -87.634737  41.889177 -87.638506  \n",
       "1        member  41.902937 -87.634440  41.889177 -87.638506  \n",
       "2        member  41.902951 -87.634470  41.889177 -87.638506  \n",
       "3        member  41.884295 -87.633963  41.921822 -87.644140  \n",
       "4        member  41.948797 -87.675278  41.889177 -87.638506  "
      ]
     },
     "execution_count": 131,
     "metadata": {},
     "output_type": "execute_result"
    }
   ],
   "source": [
    "ride_time = clean_df['ended_at'] - clean_df['started_at']\n",
    "clean_df.insert(4, 'ride_time', ride_time)\n",
    "clean_df.head()"
   ]
  },
  {
   "cell_type": "markdown",
   "id": "37041762",
   "metadata": {},
   "source": [
    "### Checking for rides that lasted less than 10 seconds"
   ]
  },
  {
   "cell_type": "code",
   "execution_count": 132,
   "id": "7f0861d5",
   "metadata": {},
   "outputs": [
    {
     "data": {
      "text/html": [
       "<div>\n",
       "<style scoped>\n",
       "    .dataframe tbody tr th:only-of-type {\n",
       "        vertical-align: middle;\n",
       "    }\n",
       "\n",
       "    .dataframe tbody tr th {\n",
       "        vertical-align: top;\n",
       "    }\n",
       "\n",
       "    .dataframe thead th {\n",
       "        text-align: right;\n",
       "    }\n",
       "</style>\n",
       "<table border=\"1\" class=\"dataframe\">\n",
       "  <thead>\n",
       "    <tr style=\"text-align: right;\">\n",
       "      <th></th>\n",
       "      <th>ride_id</th>\n",
       "      <th>rideable_type</th>\n",
       "      <th>started_at</th>\n",
       "      <th>ended_at</th>\n",
       "      <th>ride_time</th>\n",
       "      <th>start_station_name</th>\n",
       "      <th>end_station_name</th>\n",
       "      <th>member_casual</th>\n",
       "      <th>start_lat</th>\n",
       "      <th>start_lng</th>\n",
       "      <th>end_lat</th>\n",
       "      <th>end_lng</th>\n",
       "    </tr>\n",
       "  </thead>\n",
       "  <tbody>\n",
       "    <tr>\n",
       "      <th>3184</th>\n",
       "      <td>C1FF15F72F5E6CB9</td>\n",
       "      <td>classic_bike</td>\n",
       "      <td>2024-01-17 12:43:55</td>\n",
       "      <td>2024-01-17 12:44:02</td>\n",
       "      <td>0 days 00:00:07</td>\n",
       "      <td>Loomis St &amp; Lexington St</td>\n",
       "      <td>Loomis St &amp; Lexington St</td>\n",
       "      <td>member</td>\n",
       "      <td>41.872229</td>\n",
       "      <td>-87.661364</td>\n",
       "      <td>41.872229</td>\n",
       "      <td>-87.661364</td>\n",
       "    </tr>\n",
       "    <tr>\n",
       "      <th>3190</th>\n",
       "      <td>5AA3D2E8010FEF7D</td>\n",
       "      <td>classic_bike</td>\n",
       "      <td>2024-01-17 14:25:27</td>\n",
       "      <td>2024-01-17 14:25:29</td>\n",
       "      <td>0 days 00:00:02</td>\n",
       "      <td>Halsted St &amp; Wrightwood Ave</td>\n",
       "      <td>Halsted St &amp; Wrightwood Ave</td>\n",
       "      <td>member</td>\n",
       "      <td>41.929143</td>\n",
       "      <td>-87.649077</td>\n",
       "      <td>41.929143</td>\n",
       "      <td>-87.649077</td>\n",
       "    </tr>\n",
       "    <tr>\n",
       "      <th>3196</th>\n",
       "      <td>27E081696A03E872</td>\n",
       "      <td>classic_bike</td>\n",
       "      <td>2024-01-02 10:32:54</td>\n",
       "      <td>2024-01-02 10:32:56</td>\n",
       "      <td>0 days 00:00:02</td>\n",
       "      <td>Halsted St &amp; Wrightwood Ave</td>\n",
       "      <td>Halsted St &amp; Wrightwood Ave</td>\n",
       "      <td>member</td>\n",
       "      <td>41.929143</td>\n",
       "      <td>-87.649077</td>\n",
       "      <td>41.929143</td>\n",
       "      <td>-87.649077</td>\n",
       "    </tr>\n",
       "    <tr>\n",
       "      <th>3214</th>\n",
       "      <td>785A6FF31548084A</td>\n",
       "      <td>electric_bike</td>\n",
       "      <td>2024-01-09 12:08:38</td>\n",
       "      <td>2024-01-09 12:08:41</td>\n",
       "      <td>0 days 00:00:03</td>\n",
       "      <td>Public Rack - Walden Pkwy &amp; 103rd St</td>\n",
       "      <td>Public Rack - Walden Pkwy &amp; 103rd St</td>\n",
       "      <td>member</td>\n",
       "      <td>41.706084</td>\n",
       "      <td>-87.669024</td>\n",
       "      <td>41.706205</td>\n",
       "      <td>-87.668965</td>\n",
       "    </tr>\n",
       "    <tr>\n",
       "      <th>3888</th>\n",
       "      <td>188E0BD5237F114A</td>\n",
       "      <td>electric_bike</td>\n",
       "      <td>2024-01-13 07:59:43</td>\n",
       "      <td>2024-01-13 07:59:45</td>\n",
       "      <td>0 days 00:00:02</td>\n",
       "      <td>Milwaukee Ave &amp; Grand Ave</td>\n",
       "      <td>Milwaukee Ave &amp; Grand Ave</td>\n",
       "      <td>member</td>\n",
       "      <td>41.891447</td>\n",
       "      <td>-87.648382</td>\n",
       "      <td>41.891578</td>\n",
       "      <td>-87.648384</td>\n",
       "    </tr>\n",
       "  </tbody>\n",
       "</table>\n",
       "</div>"
      ],
      "text/plain": [
       "               ride_id  rideable_type          started_at            ended_at  \\\n",
       "3184  C1FF15F72F5E6CB9   classic_bike 2024-01-17 12:43:55 2024-01-17 12:44:02   \n",
       "3190  5AA3D2E8010FEF7D   classic_bike 2024-01-17 14:25:27 2024-01-17 14:25:29   \n",
       "3196  27E081696A03E872   classic_bike 2024-01-02 10:32:54 2024-01-02 10:32:56   \n",
       "3214  785A6FF31548084A  electric_bike 2024-01-09 12:08:38 2024-01-09 12:08:41   \n",
       "3888  188E0BD5237F114A  electric_bike 2024-01-13 07:59:43 2024-01-13 07:59:45   \n",
       "\n",
       "           ride_time                    start_station_name  \\\n",
       "3184 0 days 00:00:07              Loomis St & Lexington St   \n",
       "3190 0 days 00:00:02           Halsted St & Wrightwood Ave   \n",
       "3196 0 days 00:00:02           Halsted St & Wrightwood Ave   \n",
       "3214 0 days 00:00:03  Public Rack - Walden Pkwy & 103rd St   \n",
       "3888 0 days 00:00:02             Milwaukee Ave & Grand Ave   \n",
       "\n",
       "                          end_station_name member_casual  start_lat  \\\n",
       "3184              Loomis St & Lexington St        member  41.872229   \n",
       "3190           Halsted St & Wrightwood Ave        member  41.929143   \n",
       "3196           Halsted St & Wrightwood Ave        member  41.929143   \n",
       "3214  Public Rack - Walden Pkwy & 103rd St        member  41.706084   \n",
       "3888             Milwaukee Ave & Grand Ave        member  41.891447   \n",
       "\n",
       "      start_lng    end_lat    end_lng  \n",
       "3184 -87.661364  41.872229 -87.661364  \n",
       "3190 -87.649077  41.929143 -87.649077  \n",
       "3196 -87.649077  41.929143 -87.649077  \n",
       "3214 -87.669024  41.706205 -87.668965  \n",
       "3888 -87.648382  41.891578 -87.648384  "
      ]
     },
     "execution_count": 132,
     "metadata": {},
     "output_type": "execute_result"
    }
   ],
   "source": [
    "clean_df[clean_df['ride_time'] <= timedelta(seconds=10)].head()"
   ]
  },
  {
   "cell_type": "markdown",
   "id": "57e32e36",
   "metadata": {},
   "source": [
    "### Creating sorted dataframe"
   ]
  },
  {
   "cell_type": "code",
   "execution_count": 133,
   "id": "149c64e4",
   "metadata": {},
   "outputs": [
    {
     "data": {
      "text/html": [
       "<div>\n",
       "<style scoped>\n",
       "    .dataframe tbody tr th:only-of-type {\n",
       "        vertical-align: middle;\n",
       "    }\n",
       "\n",
       "    .dataframe tbody tr th {\n",
       "        vertical-align: top;\n",
       "    }\n",
       "\n",
       "    .dataframe thead th {\n",
       "        text-align: right;\n",
       "    }\n",
       "</style>\n",
       "<table border=\"1\" class=\"dataframe\">\n",
       "  <thead>\n",
       "    <tr style=\"text-align: right;\">\n",
       "      <th></th>\n",
       "      <th>ride_id</th>\n",
       "      <th>rideable_type</th>\n",
       "      <th>started_at</th>\n",
       "      <th>ended_at</th>\n",
       "      <th>ride_time</th>\n",
       "      <th>start_station_name</th>\n",
       "      <th>end_station_name</th>\n",
       "      <th>member_casual</th>\n",
       "      <th>start_lat</th>\n",
       "      <th>start_lng</th>\n",
       "      <th>end_lat</th>\n",
       "      <th>end_lng</th>\n",
       "    </tr>\n",
       "  </thead>\n",
       "  <tbody>\n",
       "    <tr>\n",
       "      <th>48853</th>\n",
       "      <td>56F5C3ED5178C131</td>\n",
       "      <td>classic_bike</td>\n",
       "      <td>2024-01-01 00:01:01</td>\n",
       "      <td>2024-01-01 00:24:12</td>\n",
       "      <td>0 days 00:23:11</td>\n",
       "      <td>LaSalle St &amp; Illinois St</td>\n",
       "      <td>Indiana Ave &amp; Roosevelt Rd</td>\n",
       "      <td>member</td>\n",
       "      <td>41.890762</td>\n",
       "      <td>-87.631697</td>\n",
       "      <td>41.867888</td>\n",
       "      <td>-87.623041</td>\n",
       "    </tr>\n",
       "    <tr>\n",
       "      <th>26576</th>\n",
       "      <td>70BDF49A30C8BFFC</td>\n",
       "      <td>classic_bike</td>\n",
       "      <td>2024-01-01 00:02:15</td>\n",
       "      <td>2024-01-01 00:07:01</td>\n",
       "      <td>0 days 00:04:46</td>\n",
       "      <td>Sheffield Ave &amp; Fullerton Ave</td>\n",
       "      <td>Greenview Ave &amp; Fullerton Ave</td>\n",
       "      <td>casual</td>\n",
       "      <td>41.925602</td>\n",
       "      <td>-87.653708</td>\n",
       "      <td>41.925330</td>\n",
       "      <td>-87.665800</td>\n",
       "    </tr>\n",
       "    <tr>\n",
       "      <th>46733</th>\n",
       "      <td>B7F1F63BD1AFF4E9</td>\n",
       "      <td>classic_bike</td>\n",
       "      <td>2024-01-01 00:06:59</td>\n",
       "      <td>2024-01-01 00:17:21</td>\n",
       "      <td>0 days 00:10:22</td>\n",
       "      <td>Western Ave &amp; Howard St</td>\n",
       "      <td>Clark St &amp; Lunt Ave</td>\n",
       "      <td>member</td>\n",
       "      <td>42.018901</td>\n",
       "      <td>-87.690048</td>\n",
       "      <td>42.009011</td>\n",
       "      <td>-87.674112</td>\n",
       "    </tr>\n",
       "    <tr>\n",
       "      <th>40692</th>\n",
       "      <td>444DD0D82A50BA8C</td>\n",
       "      <td>classic_bike</td>\n",
       "      <td>2024-01-01 00:07:45</td>\n",
       "      <td>2024-01-01 00:15:41</td>\n",
       "      <td>0 days 00:07:56</td>\n",
       "      <td>DuSable Lake Shore Dr &amp; North Blvd</td>\n",
       "      <td>Sedgwick St &amp; Webster Ave</td>\n",
       "      <td>casual</td>\n",
       "      <td>41.911722</td>\n",
       "      <td>-87.626804</td>\n",
       "      <td>41.922167</td>\n",
       "      <td>-87.638888</td>\n",
       "    </tr>\n",
       "    <tr>\n",
       "      <th>71103</th>\n",
       "      <td>510C1C0AA564ADF0</td>\n",
       "      <td>classic_bike</td>\n",
       "      <td>2024-01-01 00:07:57</td>\n",
       "      <td>2024-01-01 00:29:42</td>\n",
       "      <td>0 days 00:21:45</td>\n",
       "      <td>Clinton St &amp; Tilden St</td>\n",
       "      <td>LaSalle St &amp; Illinois St</td>\n",
       "      <td>casual</td>\n",
       "      <td>41.875885</td>\n",
       "      <td>-87.640795</td>\n",
       "      <td>41.890762</td>\n",
       "      <td>-87.631697</td>\n",
       "    </tr>\n",
       "  </tbody>\n",
       "</table>\n",
       "</div>"
      ],
      "text/plain": [
       "                ride_id rideable_type          started_at            ended_at  \\\n",
       "48853  56F5C3ED5178C131  classic_bike 2024-01-01 00:01:01 2024-01-01 00:24:12   \n",
       "26576  70BDF49A30C8BFFC  classic_bike 2024-01-01 00:02:15 2024-01-01 00:07:01   \n",
       "46733  B7F1F63BD1AFF4E9  classic_bike 2024-01-01 00:06:59 2024-01-01 00:17:21   \n",
       "40692  444DD0D82A50BA8C  classic_bike 2024-01-01 00:07:45 2024-01-01 00:15:41   \n",
       "71103  510C1C0AA564ADF0  classic_bike 2024-01-01 00:07:57 2024-01-01 00:29:42   \n",
       "\n",
       "            ride_time                  start_station_name  \\\n",
       "48853 0 days 00:23:11            LaSalle St & Illinois St   \n",
       "26576 0 days 00:04:46       Sheffield Ave & Fullerton Ave   \n",
       "46733 0 days 00:10:22             Western Ave & Howard St   \n",
       "40692 0 days 00:07:56  DuSable Lake Shore Dr & North Blvd   \n",
       "71103 0 days 00:21:45              Clinton St & Tilden St   \n",
       "\n",
       "                    end_station_name member_casual  start_lat  start_lng  \\\n",
       "48853     Indiana Ave & Roosevelt Rd        member  41.890762 -87.631697   \n",
       "26576  Greenview Ave & Fullerton Ave        casual  41.925602 -87.653708   \n",
       "46733            Clark St & Lunt Ave        member  42.018901 -87.690048   \n",
       "40692      Sedgwick St & Webster Ave        casual  41.911722 -87.626804   \n",
       "71103       LaSalle St & Illinois St        casual  41.875885 -87.640795   \n",
       "\n",
       "         end_lat    end_lng  \n",
       "48853  41.867888 -87.623041  \n",
       "26576  41.925330 -87.665800  \n",
       "46733  42.009011 -87.674112  \n",
       "40692  41.922167 -87.638888  \n",
       "71103  41.890762 -87.631697  "
      ]
     },
     "execution_count": 133,
     "metadata": {},
     "output_type": "execute_result"
    }
   ],
   "source": [
    "analysis_df = clean_df[~(clean_df['ride_time'] <= timedelta(seconds=10))].copy()\n",
    "analysis_df = analysis_df.sort_values('started_at')\n",
    "analysis_df.head()"
   ]
  },
  {
   "cell_type": "markdown",
   "id": "1ff744d8",
   "metadata": {},
   "source": [
    "### Creating month and weekday columns of when rides started"
   ]
  },
  {
   "cell_type": "code",
   "execution_count": 134,
   "id": "c03b8fc7",
   "metadata": {},
   "outputs": [
    {
     "data": {
      "text/html": [
       "<div>\n",
       "<style scoped>\n",
       "    .dataframe tbody tr th:only-of-type {\n",
       "        vertical-align: middle;\n",
       "    }\n",
       "\n",
       "    .dataframe tbody tr th {\n",
       "        vertical-align: top;\n",
       "    }\n",
       "\n",
       "    .dataframe thead th {\n",
       "        text-align: right;\n",
       "    }\n",
       "</style>\n",
       "<table border=\"1\" class=\"dataframe\">\n",
       "  <thead>\n",
       "    <tr style=\"text-align: right;\">\n",
       "      <th></th>\n",
       "      <th>ride_id</th>\n",
       "      <th>rideable_type</th>\n",
       "      <th>started_at</th>\n",
       "      <th>ended_at</th>\n",
       "      <th>ride_time</th>\n",
       "      <th>month</th>\n",
       "      <th>weekday</th>\n",
       "      <th>start_station_name</th>\n",
       "      <th>end_station_name</th>\n",
       "      <th>member_casual</th>\n",
       "      <th>start_lat</th>\n",
       "      <th>start_lng</th>\n",
       "      <th>end_lat</th>\n",
       "      <th>end_lng</th>\n",
       "    </tr>\n",
       "  </thead>\n",
       "  <tbody>\n",
       "    <tr>\n",
       "      <th>48853</th>\n",
       "      <td>56F5C3ED5178C131</td>\n",
       "      <td>classic_bike</td>\n",
       "      <td>2024-01-01 00:01:01</td>\n",
       "      <td>2024-01-01 00:24:12</td>\n",
       "      <td>0 days 00:23:11</td>\n",
       "      <td>1</td>\n",
       "      <td>Monday</td>\n",
       "      <td>LaSalle St &amp; Illinois St</td>\n",
       "      <td>Indiana Ave &amp; Roosevelt Rd</td>\n",
       "      <td>member</td>\n",
       "      <td>41.890762</td>\n",
       "      <td>-87.631697</td>\n",
       "      <td>41.867888</td>\n",
       "      <td>-87.623041</td>\n",
       "    </tr>\n",
       "    <tr>\n",
       "      <th>26576</th>\n",
       "      <td>70BDF49A30C8BFFC</td>\n",
       "      <td>classic_bike</td>\n",
       "      <td>2024-01-01 00:02:15</td>\n",
       "      <td>2024-01-01 00:07:01</td>\n",
       "      <td>0 days 00:04:46</td>\n",
       "      <td>1</td>\n",
       "      <td>Monday</td>\n",
       "      <td>Sheffield Ave &amp; Fullerton Ave</td>\n",
       "      <td>Greenview Ave &amp; Fullerton Ave</td>\n",
       "      <td>casual</td>\n",
       "      <td>41.925602</td>\n",
       "      <td>-87.653708</td>\n",
       "      <td>41.925330</td>\n",
       "      <td>-87.665800</td>\n",
       "    </tr>\n",
       "    <tr>\n",
       "      <th>46733</th>\n",
       "      <td>B7F1F63BD1AFF4E9</td>\n",
       "      <td>classic_bike</td>\n",
       "      <td>2024-01-01 00:06:59</td>\n",
       "      <td>2024-01-01 00:17:21</td>\n",
       "      <td>0 days 00:10:22</td>\n",
       "      <td>1</td>\n",
       "      <td>Monday</td>\n",
       "      <td>Western Ave &amp; Howard St</td>\n",
       "      <td>Clark St &amp; Lunt Ave</td>\n",
       "      <td>member</td>\n",
       "      <td>42.018901</td>\n",
       "      <td>-87.690048</td>\n",
       "      <td>42.009011</td>\n",
       "      <td>-87.674112</td>\n",
       "    </tr>\n",
       "    <tr>\n",
       "      <th>40692</th>\n",
       "      <td>444DD0D82A50BA8C</td>\n",
       "      <td>classic_bike</td>\n",
       "      <td>2024-01-01 00:07:45</td>\n",
       "      <td>2024-01-01 00:15:41</td>\n",
       "      <td>0 days 00:07:56</td>\n",
       "      <td>1</td>\n",
       "      <td>Monday</td>\n",
       "      <td>DuSable Lake Shore Dr &amp; North Blvd</td>\n",
       "      <td>Sedgwick St &amp; Webster Ave</td>\n",
       "      <td>casual</td>\n",
       "      <td>41.911722</td>\n",
       "      <td>-87.626804</td>\n",
       "      <td>41.922167</td>\n",
       "      <td>-87.638888</td>\n",
       "    </tr>\n",
       "    <tr>\n",
       "      <th>71103</th>\n",
       "      <td>510C1C0AA564ADF0</td>\n",
       "      <td>classic_bike</td>\n",
       "      <td>2024-01-01 00:07:57</td>\n",
       "      <td>2024-01-01 00:29:42</td>\n",
       "      <td>0 days 00:21:45</td>\n",
       "      <td>1</td>\n",
       "      <td>Monday</td>\n",
       "      <td>Clinton St &amp; Tilden St</td>\n",
       "      <td>LaSalle St &amp; Illinois St</td>\n",
       "      <td>casual</td>\n",
       "      <td>41.875885</td>\n",
       "      <td>-87.640795</td>\n",
       "      <td>41.890762</td>\n",
       "      <td>-87.631697</td>\n",
       "    </tr>\n",
       "  </tbody>\n",
       "</table>\n",
       "</div>"
      ],
      "text/plain": [
       "                ride_id rideable_type          started_at            ended_at  \\\n",
       "48853  56F5C3ED5178C131  classic_bike 2024-01-01 00:01:01 2024-01-01 00:24:12   \n",
       "26576  70BDF49A30C8BFFC  classic_bike 2024-01-01 00:02:15 2024-01-01 00:07:01   \n",
       "46733  B7F1F63BD1AFF4E9  classic_bike 2024-01-01 00:06:59 2024-01-01 00:17:21   \n",
       "40692  444DD0D82A50BA8C  classic_bike 2024-01-01 00:07:45 2024-01-01 00:15:41   \n",
       "71103  510C1C0AA564ADF0  classic_bike 2024-01-01 00:07:57 2024-01-01 00:29:42   \n",
       "\n",
       "            ride_time  month weekday                  start_station_name  \\\n",
       "48853 0 days 00:23:11      1  Monday            LaSalle St & Illinois St   \n",
       "26576 0 days 00:04:46      1  Monday       Sheffield Ave & Fullerton Ave   \n",
       "46733 0 days 00:10:22      1  Monday             Western Ave & Howard St   \n",
       "40692 0 days 00:07:56      1  Monday  DuSable Lake Shore Dr & North Blvd   \n",
       "71103 0 days 00:21:45      1  Monday              Clinton St & Tilden St   \n",
       "\n",
       "                    end_station_name member_casual  start_lat  start_lng  \\\n",
       "48853     Indiana Ave & Roosevelt Rd        member  41.890762 -87.631697   \n",
       "26576  Greenview Ave & Fullerton Ave        casual  41.925602 -87.653708   \n",
       "46733            Clark St & Lunt Ave        member  42.018901 -87.690048   \n",
       "40692      Sedgwick St & Webster Ave        casual  41.911722 -87.626804   \n",
       "71103       LaSalle St & Illinois St        casual  41.875885 -87.640795   \n",
       "\n",
       "         end_lat    end_lng  \n",
       "48853  41.867888 -87.623041  \n",
       "26576  41.925330 -87.665800  \n",
       "46733  42.009011 -87.674112  \n",
       "40692  41.922167 -87.638888  \n",
       "71103  41.890762 -87.631697  "
      ]
     },
     "execution_count": 134,
     "metadata": {},
     "output_type": "execute_result"
    }
   ],
   "source": [
    "month = analysis_df['started_at'].dt.month\n",
    "weekday = analysis_df['started_at'].dt.day_name().astype('category')\n",
    "analysis_df.insert(5, 'month', month)\n",
    "analysis_df.insert(6, 'weekday', weekday)\n",
    "analysis_df.head()"
   ]
  },
  {
   "cell_type": "markdown",
   "id": "51459d60",
   "metadata": {},
   "source": [
    "# Analysis and Share"
   ]
  },
  {
   "cell_type": "code",
   "execution_count": 135,
   "id": "1885be30",
   "metadata": {},
   "outputs": [
    {
     "data": {
      "text/plain": [
       "ride_id               string[pyarrow]\n",
       "rideable_type                category\n",
       "started_at             datetime64[ns]\n",
       "ended_at               datetime64[ns]\n",
       "ride_time             timedelta64[ns]\n",
       "month                           int32\n",
       "weekday                      category\n",
       "start_station_name           category\n",
       "end_station_name             category\n",
       "member_casual                category\n",
       "start_lat                    category\n",
       "start_lng                    category\n",
       "end_lat                      category\n",
       "end_lng                      category\n",
       "dtype: object"
      ]
     },
     "execution_count": 135,
     "metadata": {},
     "output_type": "execute_result"
    }
   ],
   "source": [
    "analysis_df.dtypes"
   ]
  },
  {
   "cell_type": "markdown",
   "id": "2b4c4fe7",
   "metadata": {},
   "source": [
    "### Checking unique values within columns"
   ]
  },
  {
   "cell_type": "code",
   "execution_count": 136,
   "id": "483303aa",
   "metadata": {},
   "outputs": [
    {
     "data": {
      "text/plain": [
       "ride_id               4198335\n",
       "rideable_type               3\n",
       "started_at            4077137\n",
       "ended_at              4079187\n",
       "ride_time             1512773\n",
       "month                      12\n",
       "weekday                     7\n",
       "start_station_name       1787\n",
       "end_station_name         1798\n",
       "member_casual               2\n",
       "start_lat              428465\n",
       "start_lng              415170\n",
       "end_lat                  2329\n",
       "end_lng                  2330\n",
       "dtype: int64"
      ]
     },
     "execution_count": 136,
     "metadata": {},
     "output_type": "execute_result"
    }
   ],
   "source": [
    "analysis_df.nunique()"
   ]
  },
  {
   "cell_type": "markdown",
   "id": "37dde9f7",
   "metadata": {},
   "source": [
    "### How many users are subscribed and how many are not?"
   ]
  },
  {
   "cell_type": "code",
   "execution_count": 137,
   "id": "2b033ec6",
   "metadata": {},
   "outputs": [
    {
     "data": {
      "text/html": [
       "<div>\n",
       "<style scoped>\n",
       "    .dataframe tbody tr th:only-of-type {\n",
       "        vertical-align: middle;\n",
       "    }\n",
       "\n",
       "    .dataframe tbody tr th {\n",
       "        vertical-align: top;\n",
       "    }\n",
       "\n",
       "    .dataframe thead th {\n",
       "        text-align: right;\n",
       "    }\n",
       "</style>\n",
       "<table border=\"1\" class=\"dataframe\">\n",
       "  <thead>\n",
       "    <tr style=\"text-align: right;\">\n",
       "      <th></th>\n",
       "      <th>member_casual</th>\n",
       "      <th>count</th>\n",
       "    </tr>\n",
       "  </thead>\n",
       "  <tbody>\n",
       "    <tr>\n",
       "      <th>0</th>\n",
       "      <td>member</td>\n",
       "      <td>2680018</td>\n",
       "    </tr>\n",
       "    <tr>\n",
       "      <th>1</th>\n",
       "      <td>casual</td>\n",
       "      <td>1518317</td>\n",
       "    </tr>\n",
       "  </tbody>\n",
       "</table>\n",
       "</div>"
      ],
      "text/plain": [
       "  member_casual    count\n",
       "0        member  2680018\n",
       "1        casual  1518317"
      ]
     },
     "execution_count": 137,
     "metadata": {},
     "output_type": "execute_result"
    }
   ],
   "source": [
    "members = (\n",
    "    analysis_df['member_casual']\n",
    "    .value_counts()\n",
    "    .reset_index()\n",
    ")\n",
    "\n",
    "members"
   ]
  },
  {
   "cell_type": "code",
   "execution_count": 138,
   "id": "e1036989",
   "metadata": {},
   "outputs": [
    {
     "data": {
      "application/vnd.plotly.v1+json": {
       "config": {
        "plotlyServerURL": "https://plot.ly"
       },
       "data": [
        {
         "hovertemplate": "member_casual=%{x}<br>count=%{y}<extra></extra>",
         "legendgroup": "member",
         "marker": {
          "color": "goldenrod",
          "pattern": {
           "shape": ""
          }
         },
         "name": "member",
         "orientation": "v",
         "showlegend": true,
         "textposition": "auto",
         "type": "bar",
         "x": [
          "member"
         ],
         "xaxis": "x",
         "y": {
          "bdata": "0uQoAA==",
          "dtype": "i4"
         },
         "yaxis": "y"
        },
        {
         "hovertemplate": "member_casual=%{x}<br>count=%{y}<extra></extra>",
         "legendgroup": "casual",
         "marker": {
          "color": "gray",
          "pattern": {
           "shape": ""
          }
         },
         "name": "casual",
         "orientation": "v",
         "showlegend": true,
         "textposition": "auto",
         "type": "bar",
         "x": [
          "casual"
         ],
         "xaxis": "x",
         "y": {
          "bdata": "7SoXAA==",
          "dtype": "i4"
         },
         "yaxis": "y"
        }
       ],
       "layout": {
        "barmode": "relative",
        "legend": {
         "title": {
          "text": "member_casual"
         },
         "tracegroupgap": 0
        },
        "margin": {
         "t": 60
        },
        "showlegend": false,
        "template": {
         "data": {
          "bar": [
           {
            "error_x": {
             "color": "#f2f5fa"
            },
            "error_y": {
             "color": "#f2f5fa"
            },
            "marker": {
             "line": {
              "color": "rgb(17,17,17)",
              "width": 0.5
             },
             "pattern": {
              "fillmode": "overlay",
              "size": 10,
              "solidity": 0.2
             }
            },
            "type": "bar"
           }
          ],
          "barpolar": [
           {
            "marker": {
             "line": {
              "color": "rgb(17,17,17)",
              "width": 0.5
             },
             "pattern": {
              "fillmode": "overlay",
              "size": 10,
              "solidity": 0.2
             }
            },
            "type": "barpolar"
           }
          ],
          "carpet": [
           {
            "aaxis": {
             "endlinecolor": "#A2B1C6",
             "gridcolor": "#506784",
             "linecolor": "#506784",
             "minorgridcolor": "#506784",
             "startlinecolor": "#A2B1C6"
            },
            "baxis": {
             "endlinecolor": "#A2B1C6",
             "gridcolor": "#506784",
             "linecolor": "#506784",
             "minorgridcolor": "#506784",
             "startlinecolor": "#A2B1C6"
            },
            "type": "carpet"
           }
          ],
          "choropleth": [
           {
            "colorbar": {
             "outlinewidth": 0,
             "ticks": ""
            },
            "type": "choropleth"
           }
          ],
          "contour": [
           {
            "colorbar": {
             "outlinewidth": 0,
             "ticks": ""
            },
            "colorscale": [
             [
              0,
              "#0d0887"
             ],
             [
              0.1111111111111111,
              "#46039f"
             ],
             [
              0.2222222222222222,
              "#7201a8"
             ],
             [
              0.3333333333333333,
              "#9c179e"
             ],
             [
              0.4444444444444444,
              "#bd3786"
             ],
             [
              0.5555555555555556,
              "#d8576b"
             ],
             [
              0.6666666666666666,
              "#ed7953"
             ],
             [
              0.7777777777777778,
              "#fb9f3a"
             ],
             [
              0.8888888888888888,
              "#fdca26"
             ],
             [
              1,
              "#f0f921"
             ]
            ],
            "type": "contour"
           }
          ],
          "contourcarpet": [
           {
            "colorbar": {
             "outlinewidth": 0,
             "ticks": ""
            },
            "type": "contourcarpet"
           }
          ],
          "heatmap": [
           {
            "colorbar": {
             "outlinewidth": 0,
             "ticks": ""
            },
            "colorscale": [
             [
              0,
              "#0d0887"
             ],
             [
              0.1111111111111111,
              "#46039f"
             ],
             [
              0.2222222222222222,
              "#7201a8"
             ],
             [
              0.3333333333333333,
              "#9c179e"
             ],
             [
              0.4444444444444444,
              "#bd3786"
             ],
             [
              0.5555555555555556,
              "#d8576b"
             ],
             [
              0.6666666666666666,
              "#ed7953"
             ],
             [
              0.7777777777777778,
              "#fb9f3a"
             ],
             [
              0.8888888888888888,
              "#fdca26"
             ],
             [
              1,
              "#f0f921"
             ]
            ],
            "type": "heatmap"
           }
          ],
          "histogram": [
           {
            "marker": {
             "pattern": {
              "fillmode": "overlay",
              "size": 10,
              "solidity": 0.2
             }
            },
            "type": "histogram"
           }
          ],
          "histogram2d": [
           {
            "colorbar": {
             "outlinewidth": 0,
             "ticks": ""
            },
            "colorscale": [
             [
              0,
              "#0d0887"
             ],
             [
              0.1111111111111111,
              "#46039f"
             ],
             [
              0.2222222222222222,
              "#7201a8"
             ],
             [
              0.3333333333333333,
              "#9c179e"
             ],
             [
              0.4444444444444444,
              "#bd3786"
             ],
             [
              0.5555555555555556,
              "#d8576b"
             ],
             [
              0.6666666666666666,
              "#ed7953"
             ],
             [
              0.7777777777777778,
              "#fb9f3a"
             ],
             [
              0.8888888888888888,
              "#fdca26"
             ],
             [
              1,
              "#f0f921"
             ]
            ],
            "type": "histogram2d"
           }
          ],
          "histogram2dcontour": [
           {
            "colorbar": {
             "outlinewidth": 0,
             "ticks": ""
            },
            "colorscale": [
             [
              0,
              "#0d0887"
             ],
             [
              0.1111111111111111,
              "#46039f"
             ],
             [
              0.2222222222222222,
              "#7201a8"
             ],
             [
              0.3333333333333333,
              "#9c179e"
             ],
             [
              0.4444444444444444,
              "#bd3786"
             ],
             [
              0.5555555555555556,
              "#d8576b"
             ],
             [
              0.6666666666666666,
              "#ed7953"
             ],
             [
              0.7777777777777778,
              "#fb9f3a"
             ],
             [
              0.8888888888888888,
              "#fdca26"
             ],
             [
              1,
              "#f0f921"
             ]
            ],
            "type": "histogram2dcontour"
           }
          ],
          "mesh3d": [
           {
            "colorbar": {
             "outlinewidth": 0,
             "ticks": ""
            },
            "type": "mesh3d"
           }
          ],
          "parcoords": [
           {
            "line": {
             "colorbar": {
              "outlinewidth": 0,
              "ticks": ""
             }
            },
            "type": "parcoords"
           }
          ],
          "pie": [
           {
            "automargin": true,
            "type": "pie"
           }
          ],
          "scatter": [
           {
            "marker": {
             "line": {
              "color": "#283442"
             }
            },
            "type": "scatter"
           }
          ],
          "scatter3d": [
           {
            "line": {
             "colorbar": {
              "outlinewidth": 0,
              "ticks": ""
             }
            },
            "marker": {
             "colorbar": {
              "outlinewidth": 0,
              "ticks": ""
             }
            },
            "type": "scatter3d"
           }
          ],
          "scattercarpet": [
           {
            "marker": {
             "colorbar": {
              "outlinewidth": 0,
              "ticks": ""
             }
            },
            "type": "scattercarpet"
           }
          ],
          "scattergeo": [
           {
            "marker": {
             "colorbar": {
              "outlinewidth": 0,
              "ticks": ""
             }
            },
            "type": "scattergeo"
           }
          ],
          "scattergl": [
           {
            "marker": {
             "line": {
              "color": "#283442"
             }
            },
            "type": "scattergl"
           }
          ],
          "scattermap": [
           {
            "marker": {
             "colorbar": {
              "outlinewidth": 0,
              "ticks": ""
             }
            },
            "type": "scattermap"
           }
          ],
          "scattermapbox": [
           {
            "marker": {
             "colorbar": {
              "outlinewidth": 0,
              "ticks": ""
             }
            },
            "type": "scattermapbox"
           }
          ],
          "scatterpolar": [
           {
            "marker": {
             "colorbar": {
              "outlinewidth": 0,
              "ticks": ""
             }
            },
            "type": "scatterpolar"
           }
          ],
          "scatterpolargl": [
           {
            "marker": {
             "colorbar": {
              "outlinewidth": 0,
              "ticks": ""
             }
            },
            "type": "scatterpolargl"
           }
          ],
          "scatterternary": [
           {
            "marker": {
             "colorbar": {
              "outlinewidth": 0,
              "ticks": ""
             }
            },
            "type": "scatterternary"
           }
          ],
          "surface": [
           {
            "colorbar": {
             "outlinewidth": 0,
             "ticks": ""
            },
            "colorscale": [
             [
              0,
              "#0d0887"
             ],
             [
              0.1111111111111111,
              "#46039f"
             ],
             [
              0.2222222222222222,
              "#7201a8"
             ],
             [
              0.3333333333333333,
              "#9c179e"
             ],
             [
              0.4444444444444444,
              "#bd3786"
             ],
             [
              0.5555555555555556,
              "#d8576b"
             ],
             [
              0.6666666666666666,
              "#ed7953"
             ],
             [
              0.7777777777777778,
              "#fb9f3a"
             ],
             [
              0.8888888888888888,
              "#fdca26"
             ],
             [
              1,
              "#f0f921"
             ]
            ],
            "type": "surface"
           }
          ],
          "table": [
           {
            "cells": {
             "fill": {
              "color": "#506784"
             },
             "line": {
              "color": "rgb(17,17,17)"
             }
            },
            "header": {
             "fill": {
              "color": "#2a3f5f"
             },
             "line": {
              "color": "rgb(17,17,17)"
             }
            },
            "type": "table"
           }
          ]
         },
         "layout": {
          "annotationdefaults": {
           "arrowcolor": "#f2f5fa",
           "arrowhead": 0,
           "arrowwidth": 1
          },
          "autotypenumbers": "strict",
          "coloraxis": {
           "colorbar": {
            "outlinewidth": 0,
            "ticks": ""
           }
          },
          "colorscale": {
           "diverging": [
            [
             0,
             "#8e0152"
            ],
            [
             0.1,
             "#c51b7d"
            ],
            [
             0.2,
             "#de77ae"
            ],
            [
             0.3,
             "#f1b6da"
            ],
            [
             0.4,
             "#fde0ef"
            ],
            [
             0.5,
             "#f7f7f7"
            ],
            [
             0.6,
             "#e6f5d0"
            ],
            [
             0.7,
             "#b8e186"
            ],
            [
             0.8,
             "#7fbc41"
            ],
            [
             0.9,
             "#4d9221"
            ],
            [
             1,
             "#276419"
            ]
           ],
           "sequential": [
            [
             0,
             "#0d0887"
            ],
            [
             0.1111111111111111,
             "#46039f"
            ],
            [
             0.2222222222222222,
             "#7201a8"
            ],
            [
             0.3333333333333333,
             "#9c179e"
            ],
            [
             0.4444444444444444,
             "#bd3786"
            ],
            [
             0.5555555555555556,
             "#d8576b"
            ],
            [
             0.6666666666666666,
             "#ed7953"
            ],
            [
             0.7777777777777778,
             "#fb9f3a"
            ],
            [
             0.8888888888888888,
             "#fdca26"
            ],
            [
             1,
             "#f0f921"
            ]
           ],
           "sequentialminus": [
            [
             0,
             "#0d0887"
            ],
            [
             0.1111111111111111,
             "#46039f"
            ],
            [
             0.2222222222222222,
             "#7201a8"
            ],
            [
             0.3333333333333333,
             "#9c179e"
            ],
            [
             0.4444444444444444,
             "#bd3786"
            ],
            [
             0.5555555555555556,
             "#d8576b"
            ],
            [
             0.6666666666666666,
             "#ed7953"
            ],
            [
             0.7777777777777778,
             "#fb9f3a"
            ],
            [
             0.8888888888888888,
             "#fdca26"
            ],
            [
             1,
             "#f0f921"
            ]
           ]
          },
          "colorway": [
           "#636efa",
           "#EF553B",
           "#00cc96",
           "#ab63fa",
           "#FFA15A",
           "#19d3f3",
           "#FF6692",
           "#B6E880",
           "#FF97FF",
           "#FECB52"
          ],
          "font": {
           "color": "#f2f5fa"
          },
          "geo": {
           "bgcolor": "rgb(17,17,17)",
           "lakecolor": "rgb(17,17,17)",
           "landcolor": "rgb(17,17,17)",
           "showlakes": true,
           "showland": true,
           "subunitcolor": "#506784"
          },
          "hoverlabel": {
           "align": "left"
          },
          "hovermode": "closest",
          "mapbox": {
           "style": "dark"
          },
          "paper_bgcolor": "rgb(17,17,17)",
          "plot_bgcolor": "rgb(17,17,17)",
          "polar": {
           "angularaxis": {
            "gridcolor": "#506784",
            "linecolor": "#506784",
            "ticks": ""
           },
           "bgcolor": "rgb(17,17,17)",
           "radialaxis": {
            "gridcolor": "#506784",
            "linecolor": "#506784",
            "ticks": ""
           }
          },
          "scene": {
           "xaxis": {
            "backgroundcolor": "rgb(17,17,17)",
            "gridcolor": "#506784",
            "gridwidth": 2,
            "linecolor": "#506784",
            "showbackground": true,
            "ticks": "",
            "zerolinecolor": "#C8D4E3"
           },
           "yaxis": {
            "backgroundcolor": "rgb(17,17,17)",
            "gridcolor": "#506784",
            "gridwidth": 2,
            "linecolor": "#506784",
            "showbackground": true,
            "ticks": "",
            "zerolinecolor": "#C8D4E3"
           },
           "zaxis": {
            "backgroundcolor": "rgb(17,17,17)",
            "gridcolor": "#506784",
            "gridwidth": 2,
            "linecolor": "#506784",
            "showbackground": true,
            "ticks": "",
            "zerolinecolor": "#C8D4E3"
           }
          },
          "shapedefaults": {
           "line": {
            "color": "#f2f5fa"
           }
          },
          "sliderdefaults": {
           "bgcolor": "#C8D4E3",
           "bordercolor": "rgb(17,17,17)",
           "borderwidth": 1,
           "tickwidth": 0
          },
          "ternary": {
           "aaxis": {
            "gridcolor": "#506784",
            "linecolor": "#506784",
            "ticks": ""
           },
           "baxis": {
            "gridcolor": "#506784",
            "linecolor": "#506784",
            "ticks": ""
           },
           "bgcolor": "rgb(17,17,17)",
           "caxis": {
            "gridcolor": "#506784",
            "linecolor": "#506784",
            "ticks": ""
           }
          },
          "title": {
           "x": 0.05
          },
          "updatemenudefaults": {
           "bgcolor": "#506784",
           "borderwidth": 0
          },
          "xaxis": {
           "automargin": true,
           "gridcolor": "#283442",
           "linecolor": "#506784",
           "ticks": "",
           "title": {
            "standoff": 15
           },
           "zerolinecolor": "#283442",
           "zerolinewidth": 2
          },
          "yaxis": {
           "automargin": true,
           "gridcolor": "#283442",
           "linecolor": "#506784",
           "ticks": "",
           "title": {
            "standoff": 15
           },
           "zerolinecolor": "#283442",
           "zerolinewidth": 2
          }
         }
        },
        "title": {
         "text": "Users by Subscription"
        },
        "width": 1000,
        "xaxis": {
         "anchor": "y",
         "categoryarray": [
          "member",
          "casual"
         ],
         "categoryorder": "array",
         "domain": [
          0,
          1
         ],
         "ticktext": [
          "Member",
          "Casual"
         ],
         "tickvals": [
          "member",
          "casual"
         ],
         "title": {
          "text": "Membership status"
         }
        },
        "yaxis": {
         "anchor": "x",
         "domain": [
          0,
          1
         ],
         "title": {
          "text": "User count"
         }
        }
       }
      }
     },
     "metadata": {},
     "output_type": "display_data"
    }
   ],
   "source": [
    "members_bar = px.bar(\n",
    "    members,\n",
    "    width=1000,\n",
    "    x='member_casual',\n",
    "    y='count',\n",
    "    color='member_casual',\n",
    "    template='plotly_dark',\n",
    "    color_discrete_sequence=[\"goldenrod\", \"gray\"],\n",
    ")\n",
    "\n",
    "members_bar.update_layout(\n",
    "    xaxis_title='Membership status', \n",
    "    yaxis_title='User count', \n",
    "    title='Users by Subscription',\n",
    "    showlegend=False,\n",
    "    xaxis=dict(\n",
    "        tickvals=members['member_casual'],\n",
    "        ticktext=['Member', 'Casual']\n",
    "    )\n",
    ")\n",
    "\n",
    "members_bar.show()"
   ]
  },
  {
   "cell_type": "markdown",
   "id": "f7b6922c",
   "metadata": {},
   "source": [
    "### How many users are each using a different rideable devices?"
   ]
  },
  {
   "cell_type": "code",
   "execution_count": 139,
   "id": "ecfdc330",
   "metadata": {},
   "outputs": [
    {
     "data": {
      "text/html": [
       "<div>\n",
       "<style scoped>\n",
       "    .dataframe tbody tr th:only-of-type {\n",
       "        vertical-align: middle;\n",
       "    }\n",
       "\n",
       "    .dataframe tbody tr th {\n",
       "        vertical-align: top;\n",
       "    }\n",
       "\n",
       "    .dataframe thead th {\n",
       "        text-align: right;\n",
       "    }\n",
       "</style>\n",
       "<table border=\"1\" class=\"dataframe\">\n",
       "  <thead>\n",
       "    <tr style=\"text-align: right;\">\n",
       "      <th></th>\n",
       "      <th>rideable_type</th>\n",
       "      <th>count</th>\n",
       "    </tr>\n",
       "  </thead>\n",
       "  <tbody>\n",
       "    <tr>\n",
       "      <th>0</th>\n",
       "      <td>classic_bike</td>\n",
       "      <td>2724476</td>\n",
       "    </tr>\n",
       "    <tr>\n",
       "      <th>1</th>\n",
       "      <td>electric_bike</td>\n",
       "      <td>1426242</td>\n",
       "    </tr>\n",
       "    <tr>\n",
       "      <th>2</th>\n",
       "      <td>electric_scooter</td>\n",
       "      <td>47617</td>\n",
       "    </tr>\n",
       "  </tbody>\n",
       "</table>\n",
       "</div>"
      ],
      "text/plain": [
       "      rideable_type    count\n",
       "0      classic_bike  2724476\n",
       "1     electric_bike  1426242\n",
       "2  electric_scooter    47617"
      ]
     },
     "execution_count": 139,
     "metadata": {},
     "output_type": "execute_result"
    }
   ],
   "source": [
    "rideable_types = (\n",
    "    analysis_df['rideable_type']\n",
    "    .value_counts()\n",
    "    .reset_index()\n",
    ")\n",
    "\n",
    "rideable_types"
   ]
  },
  {
   "cell_type": "code",
   "execution_count": 140,
   "id": "237bb914",
   "metadata": {},
   "outputs": [
    {
     "data": {
      "application/vnd.plotly.v1+json": {
       "config": {
        "plotlyServerURL": "https://plot.ly"
       },
       "data": [
        {
         "hovertemplate": "rideable_type=%{x}<br>count=%{y}<extra></extra>",
         "legendgroup": "classic_bike",
         "marker": {
          "color": "brown",
          "pattern": {
           "shape": ""
          }
         },
         "name": "classic_bike",
         "orientation": "v",
         "showlegend": true,
         "textposition": "auto",
         "type": "bar",
         "x": [
          "classic_bike"
         ],
         "xaxis": "x",
         "y": {
          "bdata": "fJIpAA==",
          "dtype": "i4"
         },
         "yaxis": "y"
        },
        {
         "hovertemplate": "rideable_type=%{x}<br>count=%{y}<extra></extra>",
         "legendgroup": "electric_bike",
         "marker": {
          "color": "dodgerblue",
          "pattern": {
           "shape": ""
          }
         },
         "name": "electric_bike",
         "orientation": "v",
         "showlegend": true,
         "textposition": "auto",
         "type": "bar",
         "x": [
          "electric_bike"
         ],
         "xaxis": "x",
         "y": {
          "bdata": "QsMVAA==",
          "dtype": "i4"
         },
         "yaxis": "y"
        },
        {
         "hovertemplate": "rideable_type=%{x}<br>count=%{y}<extra></extra>",
         "legendgroup": "electric_scooter",
         "marker": {
          "color": "lime",
          "pattern": {
           "shape": ""
          }
         },
         "name": "electric_scooter",
         "orientation": "v",
         "showlegend": true,
         "textposition": "auto",
         "type": "bar",
         "x": [
          "electric_scooter"
         ],
         "xaxis": "x",
         "y": {
          "bdata": "AboAAA==",
          "dtype": "i4"
         },
         "yaxis": "y"
        }
       ],
       "layout": {
        "barmode": "relative",
        "legend": {
         "title": {
          "text": "rideable_type"
         },
         "tracegroupgap": 0
        },
        "margin": {
         "t": 60
        },
        "showlegend": false,
        "template": {
         "data": {
          "bar": [
           {
            "error_x": {
             "color": "#f2f5fa"
            },
            "error_y": {
             "color": "#f2f5fa"
            },
            "marker": {
             "line": {
              "color": "rgb(17,17,17)",
              "width": 0.5
             },
             "pattern": {
              "fillmode": "overlay",
              "size": 10,
              "solidity": 0.2
             }
            },
            "type": "bar"
           }
          ],
          "barpolar": [
           {
            "marker": {
             "line": {
              "color": "rgb(17,17,17)",
              "width": 0.5
             },
             "pattern": {
              "fillmode": "overlay",
              "size": 10,
              "solidity": 0.2
             }
            },
            "type": "barpolar"
           }
          ],
          "carpet": [
           {
            "aaxis": {
             "endlinecolor": "#A2B1C6",
             "gridcolor": "#506784",
             "linecolor": "#506784",
             "minorgridcolor": "#506784",
             "startlinecolor": "#A2B1C6"
            },
            "baxis": {
             "endlinecolor": "#A2B1C6",
             "gridcolor": "#506784",
             "linecolor": "#506784",
             "minorgridcolor": "#506784",
             "startlinecolor": "#A2B1C6"
            },
            "type": "carpet"
           }
          ],
          "choropleth": [
           {
            "colorbar": {
             "outlinewidth": 0,
             "ticks": ""
            },
            "type": "choropleth"
           }
          ],
          "contour": [
           {
            "colorbar": {
             "outlinewidth": 0,
             "ticks": ""
            },
            "colorscale": [
             [
              0,
              "#0d0887"
             ],
             [
              0.1111111111111111,
              "#46039f"
             ],
             [
              0.2222222222222222,
              "#7201a8"
             ],
             [
              0.3333333333333333,
              "#9c179e"
             ],
             [
              0.4444444444444444,
              "#bd3786"
             ],
             [
              0.5555555555555556,
              "#d8576b"
             ],
             [
              0.6666666666666666,
              "#ed7953"
             ],
             [
              0.7777777777777778,
              "#fb9f3a"
             ],
             [
              0.8888888888888888,
              "#fdca26"
             ],
             [
              1,
              "#f0f921"
             ]
            ],
            "type": "contour"
           }
          ],
          "contourcarpet": [
           {
            "colorbar": {
             "outlinewidth": 0,
             "ticks": ""
            },
            "type": "contourcarpet"
           }
          ],
          "heatmap": [
           {
            "colorbar": {
             "outlinewidth": 0,
             "ticks": ""
            },
            "colorscale": [
             [
              0,
              "#0d0887"
             ],
             [
              0.1111111111111111,
              "#46039f"
             ],
             [
              0.2222222222222222,
              "#7201a8"
             ],
             [
              0.3333333333333333,
              "#9c179e"
             ],
             [
              0.4444444444444444,
              "#bd3786"
             ],
             [
              0.5555555555555556,
              "#d8576b"
             ],
             [
              0.6666666666666666,
              "#ed7953"
             ],
             [
              0.7777777777777778,
              "#fb9f3a"
             ],
             [
              0.8888888888888888,
              "#fdca26"
             ],
             [
              1,
              "#f0f921"
             ]
            ],
            "type": "heatmap"
           }
          ],
          "histogram": [
           {
            "marker": {
             "pattern": {
              "fillmode": "overlay",
              "size": 10,
              "solidity": 0.2
             }
            },
            "type": "histogram"
           }
          ],
          "histogram2d": [
           {
            "colorbar": {
             "outlinewidth": 0,
             "ticks": ""
            },
            "colorscale": [
             [
              0,
              "#0d0887"
             ],
             [
              0.1111111111111111,
              "#46039f"
             ],
             [
              0.2222222222222222,
              "#7201a8"
             ],
             [
              0.3333333333333333,
              "#9c179e"
             ],
             [
              0.4444444444444444,
              "#bd3786"
             ],
             [
              0.5555555555555556,
              "#d8576b"
             ],
             [
              0.6666666666666666,
              "#ed7953"
             ],
             [
              0.7777777777777778,
              "#fb9f3a"
             ],
             [
              0.8888888888888888,
              "#fdca26"
             ],
             [
              1,
              "#f0f921"
             ]
            ],
            "type": "histogram2d"
           }
          ],
          "histogram2dcontour": [
           {
            "colorbar": {
             "outlinewidth": 0,
             "ticks": ""
            },
            "colorscale": [
             [
              0,
              "#0d0887"
             ],
             [
              0.1111111111111111,
              "#46039f"
             ],
             [
              0.2222222222222222,
              "#7201a8"
             ],
             [
              0.3333333333333333,
              "#9c179e"
             ],
             [
              0.4444444444444444,
              "#bd3786"
             ],
             [
              0.5555555555555556,
              "#d8576b"
             ],
             [
              0.6666666666666666,
              "#ed7953"
             ],
             [
              0.7777777777777778,
              "#fb9f3a"
             ],
             [
              0.8888888888888888,
              "#fdca26"
             ],
             [
              1,
              "#f0f921"
             ]
            ],
            "type": "histogram2dcontour"
           }
          ],
          "mesh3d": [
           {
            "colorbar": {
             "outlinewidth": 0,
             "ticks": ""
            },
            "type": "mesh3d"
           }
          ],
          "parcoords": [
           {
            "line": {
             "colorbar": {
              "outlinewidth": 0,
              "ticks": ""
             }
            },
            "type": "parcoords"
           }
          ],
          "pie": [
           {
            "automargin": true,
            "type": "pie"
           }
          ],
          "scatter": [
           {
            "marker": {
             "line": {
              "color": "#283442"
             }
            },
            "type": "scatter"
           }
          ],
          "scatter3d": [
           {
            "line": {
             "colorbar": {
              "outlinewidth": 0,
              "ticks": ""
             }
            },
            "marker": {
             "colorbar": {
              "outlinewidth": 0,
              "ticks": ""
             }
            },
            "type": "scatter3d"
           }
          ],
          "scattercarpet": [
           {
            "marker": {
             "colorbar": {
              "outlinewidth": 0,
              "ticks": ""
             }
            },
            "type": "scattercarpet"
           }
          ],
          "scattergeo": [
           {
            "marker": {
             "colorbar": {
              "outlinewidth": 0,
              "ticks": ""
             }
            },
            "type": "scattergeo"
           }
          ],
          "scattergl": [
           {
            "marker": {
             "line": {
              "color": "#283442"
             }
            },
            "type": "scattergl"
           }
          ],
          "scattermap": [
           {
            "marker": {
             "colorbar": {
              "outlinewidth": 0,
              "ticks": ""
             }
            },
            "type": "scattermap"
           }
          ],
          "scattermapbox": [
           {
            "marker": {
             "colorbar": {
              "outlinewidth": 0,
              "ticks": ""
             }
            },
            "type": "scattermapbox"
           }
          ],
          "scatterpolar": [
           {
            "marker": {
             "colorbar": {
              "outlinewidth": 0,
              "ticks": ""
             }
            },
            "type": "scatterpolar"
           }
          ],
          "scatterpolargl": [
           {
            "marker": {
             "colorbar": {
              "outlinewidth": 0,
              "ticks": ""
             }
            },
            "type": "scatterpolargl"
           }
          ],
          "scatterternary": [
           {
            "marker": {
             "colorbar": {
              "outlinewidth": 0,
              "ticks": ""
             }
            },
            "type": "scatterternary"
           }
          ],
          "surface": [
           {
            "colorbar": {
             "outlinewidth": 0,
             "ticks": ""
            },
            "colorscale": [
             [
              0,
              "#0d0887"
             ],
             [
              0.1111111111111111,
              "#46039f"
             ],
             [
              0.2222222222222222,
              "#7201a8"
             ],
             [
              0.3333333333333333,
              "#9c179e"
             ],
             [
              0.4444444444444444,
              "#bd3786"
             ],
             [
              0.5555555555555556,
              "#d8576b"
             ],
             [
              0.6666666666666666,
              "#ed7953"
             ],
             [
              0.7777777777777778,
              "#fb9f3a"
             ],
             [
              0.8888888888888888,
              "#fdca26"
             ],
             [
              1,
              "#f0f921"
             ]
            ],
            "type": "surface"
           }
          ],
          "table": [
           {
            "cells": {
             "fill": {
              "color": "#506784"
             },
             "line": {
              "color": "rgb(17,17,17)"
             }
            },
            "header": {
             "fill": {
              "color": "#2a3f5f"
             },
             "line": {
              "color": "rgb(17,17,17)"
             }
            },
            "type": "table"
           }
          ]
         },
         "layout": {
          "annotationdefaults": {
           "arrowcolor": "#f2f5fa",
           "arrowhead": 0,
           "arrowwidth": 1
          },
          "autotypenumbers": "strict",
          "coloraxis": {
           "colorbar": {
            "outlinewidth": 0,
            "ticks": ""
           }
          },
          "colorscale": {
           "diverging": [
            [
             0,
             "#8e0152"
            ],
            [
             0.1,
             "#c51b7d"
            ],
            [
             0.2,
             "#de77ae"
            ],
            [
             0.3,
             "#f1b6da"
            ],
            [
             0.4,
             "#fde0ef"
            ],
            [
             0.5,
             "#f7f7f7"
            ],
            [
             0.6,
             "#e6f5d0"
            ],
            [
             0.7,
             "#b8e186"
            ],
            [
             0.8,
             "#7fbc41"
            ],
            [
             0.9,
             "#4d9221"
            ],
            [
             1,
             "#276419"
            ]
           ],
           "sequential": [
            [
             0,
             "#0d0887"
            ],
            [
             0.1111111111111111,
             "#46039f"
            ],
            [
             0.2222222222222222,
             "#7201a8"
            ],
            [
             0.3333333333333333,
             "#9c179e"
            ],
            [
             0.4444444444444444,
             "#bd3786"
            ],
            [
             0.5555555555555556,
             "#d8576b"
            ],
            [
             0.6666666666666666,
             "#ed7953"
            ],
            [
             0.7777777777777778,
             "#fb9f3a"
            ],
            [
             0.8888888888888888,
             "#fdca26"
            ],
            [
             1,
             "#f0f921"
            ]
           ],
           "sequentialminus": [
            [
             0,
             "#0d0887"
            ],
            [
             0.1111111111111111,
             "#46039f"
            ],
            [
             0.2222222222222222,
             "#7201a8"
            ],
            [
             0.3333333333333333,
             "#9c179e"
            ],
            [
             0.4444444444444444,
             "#bd3786"
            ],
            [
             0.5555555555555556,
             "#d8576b"
            ],
            [
             0.6666666666666666,
             "#ed7953"
            ],
            [
             0.7777777777777778,
             "#fb9f3a"
            ],
            [
             0.8888888888888888,
             "#fdca26"
            ],
            [
             1,
             "#f0f921"
            ]
           ]
          },
          "colorway": [
           "#636efa",
           "#EF553B",
           "#00cc96",
           "#ab63fa",
           "#FFA15A",
           "#19d3f3",
           "#FF6692",
           "#B6E880",
           "#FF97FF",
           "#FECB52"
          ],
          "font": {
           "color": "#f2f5fa"
          },
          "geo": {
           "bgcolor": "rgb(17,17,17)",
           "lakecolor": "rgb(17,17,17)",
           "landcolor": "rgb(17,17,17)",
           "showlakes": true,
           "showland": true,
           "subunitcolor": "#506784"
          },
          "hoverlabel": {
           "align": "left"
          },
          "hovermode": "closest",
          "mapbox": {
           "style": "dark"
          },
          "paper_bgcolor": "rgb(17,17,17)",
          "plot_bgcolor": "rgb(17,17,17)",
          "polar": {
           "angularaxis": {
            "gridcolor": "#506784",
            "linecolor": "#506784",
            "ticks": ""
           },
           "bgcolor": "rgb(17,17,17)",
           "radialaxis": {
            "gridcolor": "#506784",
            "linecolor": "#506784",
            "ticks": ""
           }
          },
          "scene": {
           "xaxis": {
            "backgroundcolor": "rgb(17,17,17)",
            "gridcolor": "#506784",
            "gridwidth": 2,
            "linecolor": "#506784",
            "showbackground": true,
            "ticks": "",
            "zerolinecolor": "#C8D4E3"
           },
           "yaxis": {
            "backgroundcolor": "rgb(17,17,17)",
            "gridcolor": "#506784",
            "gridwidth": 2,
            "linecolor": "#506784",
            "showbackground": true,
            "ticks": "",
            "zerolinecolor": "#C8D4E3"
           },
           "zaxis": {
            "backgroundcolor": "rgb(17,17,17)",
            "gridcolor": "#506784",
            "gridwidth": 2,
            "linecolor": "#506784",
            "showbackground": true,
            "ticks": "",
            "zerolinecolor": "#C8D4E3"
           }
          },
          "shapedefaults": {
           "line": {
            "color": "#f2f5fa"
           }
          },
          "sliderdefaults": {
           "bgcolor": "#C8D4E3",
           "bordercolor": "rgb(17,17,17)",
           "borderwidth": 1,
           "tickwidth": 0
          },
          "ternary": {
           "aaxis": {
            "gridcolor": "#506784",
            "linecolor": "#506784",
            "ticks": ""
           },
           "baxis": {
            "gridcolor": "#506784",
            "linecolor": "#506784",
            "ticks": ""
           },
           "bgcolor": "rgb(17,17,17)",
           "caxis": {
            "gridcolor": "#506784",
            "linecolor": "#506784",
            "ticks": ""
           }
          },
          "title": {
           "x": 0.05
          },
          "updatemenudefaults": {
           "bgcolor": "#506784",
           "borderwidth": 0
          },
          "xaxis": {
           "automargin": true,
           "gridcolor": "#283442",
           "linecolor": "#506784",
           "ticks": "",
           "title": {
            "standoff": 15
           },
           "zerolinecolor": "#283442",
           "zerolinewidth": 2
          },
          "yaxis": {
           "automargin": true,
           "gridcolor": "#283442",
           "linecolor": "#506784",
           "ticks": "",
           "title": {
            "standoff": 15
           },
           "zerolinecolor": "#283442",
           "zerolinewidth": 2
          }
         }
        },
        "title": {
         "text": "Users by Ridable Device"
        },
        "width": 1000,
        "xaxis": {
         "anchor": "y",
         "categoryarray": [
          "classic_bike",
          "electric_bike",
          "electric_scooter"
         ],
         "categoryorder": "array",
         "domain": [
          0,
          1
         ],
         "ticktext": [
          "Classic Bike",
          "Electric Bike",
          "Electric Scooter"
         ],
         "tickvals": [
          "classic_bike",
          "electric_bike",
          "electric_scooter"
         ],
         "title": {
          "text": "Transport device"
         }
        },
        "yaxis": {
         "anchor": "x",
         "domain": [
          0,
          1
         ],
         "title": {
          "text": "User count"
         }
        }
       }
      }
     },
     "metadata": {},
     "output_type": "display_data"
    }
   ],
   "source": [
    "rideable_types_bar = px.bar(\n",
    "    rideable_types,\n",
    "    x='rideable_type',\n",
    "    y='count',\n",
    "    color='rideable_type',\n",
    "    width=1000,\n",
    "    color_discrete_sequence=['brown', 'dodgerblue', 'lime'],\n",
    "    template='plotly_dark'\n",
    ")\n",
    "\n",
    "rideable_types_bar.update_layout(\n",
    "    xaxis_title='Transport device', \n",
    "    yaxis_title='User count', \n",
    "    showlegend=False,\n",
    "    title='Users by Ridable Device',\n",
    "        xaxis=dict(\n",
    "        tickvals=rideable_types['rideable_type'],\n",
    "        ticktext=['Classic Bike', 'Electric Bike', 'Electric Scooter']\n",
    "    )\n",
    ")\n",
    "\n",
    "rideable_types_bar.show()"
   ]
  },
  {
   "cell_type": "markdown",
   "id": "3c6a7cba",
   "metadata": {},
   "source": [
    "### How does the number of users, grouped by subscription type, vary across different weekdays?"
   ]
  },
  {
   "cell_type": "code",
   "execution_count": 141,
   "id": "494f54fc",
   "metadata": {},
   "outputs": [
    {
     "data": {
      "text/html": [
       "<div>\n",
       "<style scoped>\n",
       "    .dataframe tbody tr th:only-of-type {\n",
       "        vertical-align: middle;\n",
       "    }\n",
       "\n",
       "    .dataframe tbody tr th {\n",
       "        vertical-align: top;\n",
       "    }\n",
       "\n",
       "    .dataframe thead th {\n",
       "        text-align: right;\n",
       "    }\n",
       "</style>\n",
       "<table border=\"1\" class=\"dataframe\">\n",
       "  <thead>\n",
       "    <tr style=\"text-align: right;\">\n",
       "      <th></th>\n",
       "      <th>weekday</th>\n",
       "      <th>member_casual</th>\n",
       "      <th>count</th>\n",
       "    </tr>\n",
       "  </thead>\n",
       "  <tbody>\n",
       "    <tr>\n",
       "      <th>2</th>\n",
       "      <td>Monday</td>\n",
       "      <td>casual</td>\n",
       "      <td>181283</td>\n",
       "    </tr>\n",
       "    <tr>\n",
       "      <th>3</th>\n",
       "      <td>Monday</td>\n",
       "      <td>member</td>\n",
       "      <td>398293</td>\n",
       "    </tr>\n",
       "    <tr>\n",
       "      <th>10</th>\n",
       "      <td>Tuesday</td>\n",
       "      <td>casual</td>\n",
       "      <td>162472</td>\n",
       "    </tr>\n",
       "    <tr>\n",
       "      <th>11</th>\n",
       "      <td>Tuesday</td>\n",
       "      <td>member</td>\n",
       "      <td>420461</td>\n",
       "    </tr>\n",
       "    <tr>\n",
       "      <th>12</th>\n",
       "      <td>Wednesday</td>\n",
       "      <td>casual</td>\n",
       "      <td>187000</td>\n",
       "    </tr>\n",
       "  </tbody>\n",
       "</table>\n",
       "</div>"
      ],
      "text/plain": [
       "      weekday member_casual   count\n",
       "2      Monday        casual  181283\n",
       "3      Monday        member  398293\n",
       "10    Tuesday        casual  162472\n",
       "11    Tuesday        member  420461\n",
       "12  Wednesday        casual  187000"
      ]
     },
     "execution_count": 141,
     "metadata": {},
     "output_type": "execute_result"
    }
   ],
   "source": [
    "cat = ['Monday', 'Tuesday', 'Wednesday', 'Thursday', 'Friday', 'Saturday', 'Sunday']\n",
    "\n",
    "weekday_count_df = (analysis_df\n",
    "    .value_counts(['weekday', 'member_casual'])\n",
    "    .sort_index()\n",
    "    .reset_index(name='count')\n",
    ")\n",
    "\n",
    "weekday_count_df['weekday'] = pd.Categorical(weekday_count_df['weekday'], categories=cat, ordered=True)\n",
    "weekday_count_df = weekday_count_df.sort_values('weekday')\n",
    "weekday_count_df.head()"
   ]
  },
  {
   "cell_type": "code",
   "execution_count": 142,
   "id": "b9fa0576",
   "metadata": {},
   "outputs": [
    {
     "data": {
      "application/vnd.plotly.v1+json": {
       "config": {
        "plotlyServerURL": "https://plot.ly"
       },
       "data": [
        {
         "alignmentgroup": "True",
         "hovertemplate": "member_casual=member<br>weekday=%{x}<br>count=%{y}<extra></extra>",
         "legendgroup": "member",
         "marker": {
          "color": "goldenrod",
          "pattern": {
           "shape": ""
          }
         },
         "name": "Member",
         "offsetgroup": "member",
         "orientation": "v",
         "showlegend": true,
         "textposition": "auto",
         "type": "bar",
         "x": [
          "Monday",
          "Tuesday",
          "Wednesday",
          "Thursday",
          "Friday",
          "Saturday",
          "Sunday"
         ],
         "xaxis": "x",
         "y": {
          "bdata": "1RMGAG1qBgB3zQYAZU4GAMO7BQB4DwUAeX8EAA==",
          "dtype": "i4"
         },
         "yaxis": "y"
        },
        {
         "alignmentgroup": "True",
         "hovertemplate": "member_casual=casual<br>weekday=%{x}<br>count=%{y}<extra></extra>",
         "legendgroup": "casual",
         "marker": {
          "color": "gray",
          "pattern": {
           "shape": ""
          }
         },
         "name": "Casual",
         "offsetgroup": "casual",
         "orientation": "v",
         "showlegend": true,
         "textposition": "auto",
         "type": "bar",
         "x": [
          "Monday",
          "Tuesday",
          "Wednesday",
          "Thursday",
          "Friday",
          "Saturday",
          "Sunday"
         ],
         "xaxis": "x",
         "y": {
          "bdata": "I8QCAKh6AgB42gIAnskCAIZjAwD91gQAiQ0EAA==",
          "dtype": "i4"
         },
         "yaxis": "y"
        }
       ],
       "layout": {
        "barmode": "group",
        "legend": {
         "title": {
          "text": "Subscription"
         },
         "tracegroupgap": 0
        },
        "margin": {
         "t": 60
        },
        "template": {
         "data": {
          "bar": [
           {
            "error_x": {
             "color": "#f2f5fa"
            },
            "error_y": {
             "color": "#f2f5fa"
            },
            "marker": {
             "line": {
              "color": "rgb(17,17,17)",
              "width": 0.5
             },
             "pattern": {
              "fillmode": "overlay",
              "size": 10,
              "solidity": 0.2
             }
            },
            "type": "bar"
           }
          ],
          "barpolar": [
           {
            "marker": {
             "line": {
              "color": "rgb(17,17,17)",
              "width": 0.5
             },
             "pattern": {
              "fillmode": "overlay",
              "size": 10,
              "solidity": 0.2
             }
            },
            "type": "barpolar"
           }
          ],
          "carpet": [
           {
            "aaxis": {
             "endlinecolor": "#A2B1C6",
             "gridcolor": "#506784",
             "linecolor": "#506784",
             "minorgridcolor": "#506784",
             "startlinecolor": "#A2B1C6"
            },
            "baxis": {
             "endlinecolor": "#A2B1C6",
             "gridcolor": "#506784",
             "linecolor": "#506784",
             "minorgridcolor": "#506784",
             "startlinecolor": "#A2B1C6"
            },
            "type": "carpet"
           }
          ],
          "choropleth": [
           {
            "colorbar": {
             "outlinewidth": 0,
             "ticks": ""
            },
            "type": "choropleth"
           }
          ],
          "contour": [
           {
            "colorbar": {
             "outlinewidth": 0,
             "ticks": ""
            },
            "colorscale": [
             [
              0,
              "#0d0887"
             ],
             [
              0.1111111111111111,
              "#46039f"
             ],
             [
              0.2222222222222222,
              "#7201a8"
             ],
             [
              0.3333333333333333,
              "#9c179e"
             ],
             [
              0.4444444444444444,
              "#bd3786"
             ],
             [
              0.5555555555555556,
              "#d8576b"
             ],
             [
              0.6666666666666666,
              "#ed7953"
             ],
             [
              0.7777777777777778,
              "#fb9f3a"
             ],
             [
              0.8888888888888888,
              "#fdca26"
             ],
             [
              1,
              "#f0f921"
             ]
            ],
            "type": "contour"
           }
          ],
          "contourcarpet": [
           {
            "colorbar": {
             "outlinewidth": 0,
             "ticks": ""
            },
            "type": "contourcarpet"
           }
          ],
          "heatmap": [
           {
            "colorbar": {
             "outlinewidth": 0,
             "ticks": ""
            },
            "colorscale": [
             [
              0,
              "#0d0887"
             ],
             [
              0.1111111111111111,
              "#46039f"
             ],
             [
              0.2222222222222222,
              "#7201a8"
             ],
             [
              0.3333333333333333,
              "#9c179e"
             ],
             [
              0.4444444444444444,
              "#bd3786"
             ],
             [
              0.5555555555555556,
              "#d8576b"
             ],
             [
              0.6666666666666666,
              "#ed7953"
             ],
             [
              0.7777777777777778,
              "#fb9f3a"
             ],
             [
              0.8888888888888888,
              "#fdca26"
             ],
             [
              1,
              "#f0f921"
             ]
            ],
            "type": "heatmap"
           }
          ],
          "histogram": [
           {
            "marker": {
             "pattern": {
              "fillmode": "overlay",
              "size": 10,
              "solidity": 0.2
             }
            },
            "type": "histogram"
           }
          ],
          "histogram2d": [
           {
            "colorbar": {
             "outlinewidth": 0,
             "ticks": ""
            },
            "colorscale": [
             [
              0,
              "#0d0887"
             ],
             [
              0.1111111111111111,
              "#46039f"
             ],
             [
              0.2222222222222222,
              "#7201a8"
             ],
             [
              0.3333333333333333,
              "#9c179e"
             ],
             [
              0.4444444444444444,
              "#bd3786"
             ],
             [
              0.5555555555555556,
              "#d8576b"
             ],
             [
              0.6666666666666666,
              "#ed7953"
             ],
             [
              0.7777777777777778,
              "#fb9f3a"
             ],
             [
              0.8888888888888888,
              "#fdca26"
             ],
             [
              1,
              "#f0f921"
             ]
            ],
            "type": "histogram2d"
           }
          ],
          "histogram2dcontour": [
           {
            "colorbar": {
             "outlinewidth": 0,
             "ticks": ""
            },
            "colorscale": [
             [
              0,
              "#0d0887"
             ],
             [
              0.1111111111111111,
              "#46039f"
             ],
             [
              0.2222222222222222,
              "#7201a8"
             ],
             [
              0.3333333333333333,
              "#9c179e"
             ],
             [
              0.4444444444444444,
              "#bd3786"
             ],
             [
              0.5555555555555556,
              "#d8576b"
             ],
             [
              0.6666666666666666,
              "#ed7953"
             ],
             [
              0.7777777777777778,
              "#fb9f3a"
             ],
             [
              0.8888888888888888,
              "#fdca26"
             ],
             [
              1,
              "#f0f921"
             ]
            ],
            "type": "histogram2dcontour"
           }
          ],
          "mesh3d": [
           {
            "colorbar": {
             "outlinewidth": 0,
             "ticks": ""
            },
            "type": "mesh3d"
           }
          ],
          "parcoords": [
           {
            "line": {
             "colorbar": {
              "outlinewidth": 0,
              "ticks": ""
             }
            },
            "type": "parcoords"
           }
          ],
          "pie": [
           {
            "automargin": true,
            "type": "pie"
           }
          ],
          "scatter": [
           {
            "marker": {
             "line": {
              "color": "#283442"
             }
            },
            "type": "scatter"
           }
          ],
          "scatter3d": [
           {
            "line": {
             "colorbar": {
              "outlinewidth": 0,
              "ticks": ""
             }
            },
            "marker": {
             "colorbar": {
              "outlinewidth": 0,
              "ticks": ""
             }
            },
            "type": "scatter3d"
           }
          ],
          "scattercarpet": [
           {
            "marker": {
             "colorbar": {
              "outlinewidth": 0,
              "ticks": ""
             }
            },
            "type": "scattercarpet"
           }
          ],
          "scattergeo": [
           {
            "marker": {
             "colorbar": {
              "outlinewidth": 0,
              "ticks": ""
             }
            },
            "type": "scattergeo"
           }
          ],
          "scattergl": [
           {
            "marker": {
             "line": {
              "color": "#283442"
             }
            },
            "type": "scattergl"
           }
          ],
          "scattermap": [
           {
            "marker": {
             "colorbar": {
              "outlinewidth": 0,
              "ticks": ""
             }
            },
            "type": "scattermap"
           }
          ],
          "scattermapbox": [
           {
            "marker": {
             "colorbar": {
              "outlinewidth": 0,
              "ticks": ""
             }
            },
            "type": "scattermapbox"
           }
          ],
          "scatterpolar": [
           {
            "marker": {
             "colorbar": {
              "outlinewidth": 0,
              "ticks": ""
             }
            },
            "type": "scatterpolar"
           }
          ],
          "scatterpolargl": [
           {
            "marker": {
             "colorbar": {
              "outlinewidth": 0,
              "ticks": ""
             }
            },
            "type": "scatterpolargl"
           }
          ],
          "scatterternary": [
           {
            "marker": {
             "colorbar": {
              "outlinewidth": 0,
              "ticks": ""
             }
            },
            "type": "scatterternary"
           }
          ],
          "surface": [
           {
            "colorbar": {
             "outlinewidth": 0,
             "ticks": ""
            },
            "colorscale": [
             [
              0,
              "#0d0887"
             ],
             [
              0.1111111111111111,
              "#46039f"
             ],
             [
              0.2222222222222222,
              "#7201a8"
             ],
             [
              0.3333333333333333,
              "#9c179e"
             ],
             [
              0.4444444444444444,
              "#bd3786"
             ],
             [
              0.5555555555555556,
              "#d8576b"
             ],
             [
              0.6666666666666666,
              "#ed7953"
             ],
             [
              0.7777777777777778,
              "#fb9f3a"
             ],
             [
              0.8888888888888888,
              "#fdca26"
             ],
             [
              1,
              "#f0f921"
             ]
            ],
            "type": "surface"
           }
          ],
          "table": [
           {
            "cells": {
             "fill": {
              "color": "#506784"
             },
             "line": {
              "color": "rgb(17,17,17)"
             }
            },
            "header": {
             "fill": {
              "color": "#2a3f5f"
             },
             "line": {
              "color": "rgb(17,17,17)"
             }
            },
            "type": "table"
           }
          ]
         },
         "layout": {
          "annotationdefaults": {
           "arrowcolor": "#f2f5fa",
           "arrowhead": 0,
           "arrowwidth": 1
          },
          "autotypenumbers": "strict",
          "coloraxis": {
           "colorbar": {
            "outlinewidth": 0,
            "ticks": ""
           }
          },
          "colorscale": {
           "diverging": [
            [
             0,
             "#8e0152"
            ],
            [
             0.1,
             "#c51b7d"
            ],
            [
             0.2,
             "#de77ae"
            ],
            [
             0.3,
             "#f1b6da"
            ],
            [
             0.4,
             "#fde0ef"
            ],
            [
             0.5,
             "#f7f7f7"
            ],
            [
             0.6,
             "#e6f5d0"
            ],
            [
             0.7,
             "#b8e186"
            ],
            [
             0.8,
             "#7fbc41"
            ],
            [
             0.9,
             "#4d9221"
            ],
            [
             1,
             "#276419"
            ]
           ],
           "sequential": [
            [
             0,
             "#0d0887"
            ],
            [
             0.1111111111111111,
             "#46039f"
            ],
            [
             0.2222222222222222,
             "#7201a8"
            ],
            [
             0.3333333333333333,
             "#9c179e"
            ],
            [
             0.4444444444444444,
             "#bd3786"
            ],
            [
             0.5555555555555556,
             "#d8576b"
            ],
            [
             0.6666666666666666,
             "#ed7953"
            ],
            [
             0.7777777777777778,
             "#fb9f3a"
            ],
            [
             0.8888888888888888,
             "#fdca26"
            ],
            [
             1,
             "#f0f921"
            ]
           ],
           "sequentialminus": [
            [
             0,
             "#0d0887"
            ],
            [
             0.1111111111111111,
             "#46039f"
            ],
            [
             0.2222222222222222,
             "#7201a8"
            ],
            [
             0.3333333333333333,
             "#9c179e"
            ],
            [
             0.4444444444444444,
             "#bd3786"
            ],
            [
             0.5555555555555556,
             "#d8576b"
            ],
            [
             0.6666666666666666,
             "#ed7953"
            ],
            [
             0.7777777777777778,
             "#fb9f3a"
            ],
            [
             0.8888888888888888,
             "#fdca26"
            ],
            [
             1,
             "#f0f921"
            ]
           ]
          },
          "colorway": [
           "#636efa",
           "#EF553B",
           "#00cc96",
           "#ab63fa",
           "#FFA15A",
           "#19d3f3",
           "#FF6692",
           "#B6E880",
           "#FF97FF",
           "#FECB52"
          ],
          "font": {
           "color": "#f2f5fa"
          },
          "geo": {
           "bgcolor": "rgb(17,17,17)",
           "lakecolor": "rgb(17,17,17)",
           "landcolor": "rgb(17,17,17)",
           "showlakes": true,
           "showland": true,
           "subunitcolor": "#506784"
          },
          "hoverlabel": {
           "align": "left"
          },
          "hovermode": "closest",
          "mapbox": {
           "style": "dark"
          },
          "paper_bgcolor": "rgb(17,17,17)",
          "plot_bgcolor": "rgb(17,17,17)",
          "polar": {
           "angularaxis": {
            "gridcolor": "#506784",
            "linecolor": "#506784",
            "ticks": ""
           },
           "bgcolor": "rgb(17,17,17)",
           "radialaxis": {
            "gridcolor": "#506784",
            "linecolor": "#506784",
            "ticks": ""
           }
          },
          "scene": {
           "xaxis": {
            "backgroundcolor": "rgb(17,17,17)",
            "gridcolor": "#506784",
            "gridwidth": 2,
            "linecolor": "#506784",
            "showbackground": true,
            "ticks": "",
            "zerolinecolor": "#C8D4E3"
           },
           "yaxis": {
            "backgroundcolor": "rgb(17,17,17)",
            "gridcolor": "#506784",
            "gridwidth": 2,
            "linecolor": "#506784",
            "showbackground": true,
            "ticks": "",
            "zerolinecolor": "#C8D4E3"
           },
           "zaxis": {
            "backgroundcolor": "rgb(17,17,17)",
            "gridcolor": "#506784",
            "gridwidth": 2,
            "linecolor": "#506784",
            "showbackground": true,
            "ticks": "",
            "zerolinecolor": "#C8D4E3"
           }
          },
          "shapedefaults": {
           "line": {
            "color": "#f2f5fa"
           }
          },
          "sliderdefaults": {
           "bgcolor": "#C8D4E3",
           "bordercolor": "rgb(17,17,17)",
           "borderwidth": 1,
           "tickwidth": 0
          },
          "ternary": {
           "aaxis": {
            "gridcolor": "#506784",
            "linecolor": "#506784",
            "ticks": ""
           },
           "baxis": {
            "gridcolor": "#506784",
            "linecolor": "#506784",
            "ticks": ""
           },
           "bgcolor": "rgb(17,17,17)",
           "caxis": {
            "gridcolor": "#506784",
            "linecolor": "#506784",
            "ticks": ""
           }
          },
          "title": {
           "x": 0.05
          },
          "updatemenudefaults": {
           "bgcolor": "#506784",
           "borderwidth": 0
          },
          "xaxis": {
           "automargin": true,
           "gridcolor": "#283442",
           "linecolor": "#506784",
           "ticks": "",
           "title": {
            "standoff": 15
           },
           "zerolinecolor": "#283442",
           "zerolinewidth": 2
          },
          "yaxis": {
           "automargin": true,
           "gridcolor": "#283442",
           "linecolor": "#506784",
           "ticks": "",
           "title": {
            "standoff": 15
           },
           "zerolinecolor": "#283442",
           "zerolinewidth": 2
          }
         }
        },
        "title": {
         "text": "Users by Weekday"
        },
        "width": 1000,
        "xaxis": {
         "anchor": "y",
         "domain": [
          0,
          1
         ],
         "title": {
          "text": "Weekday"
         }
        },
        "yaxis": {
         "anchor": "x",
         "domain": [
          0,
          1
         ],
         "title": {
          "text": "User count"
         }
        }
       }
      }
     },
     "metadata": {},
     "output_type": "display_data"
    }
   ],
   "source": [
    "legend_name = {\n",
    "    'casual': 'Casual',\n",
    "    'member': 'Member',\n",
    "}\n",
    "\n",
    "weekday_count_bar = px.bar(\n",
    "    weekday_count_df,\n",
    "    x='weekday',\n",
    "    y='count',\n",
    "    width=1000,\n",
    "    color='member_casual',\n",
    "    template='plotly_dark',\n",
    "    barmode='group',\n",
    "    color_discrete_sequence=[\"goldenrod\", \"gray\"],\n",
    "    category_orders={'member_casual': ['member', 'casual']}\n",
    ")\n",
    "\n",
    "weekday_count_bar.update_layout(\n",
    "    xaxis_title='Weekday', \n",
    "    yaxis_title='User count', \n",
    "    legend_title_text='Subscription',\n",
    "    title='Users by Weekday',    \n",
    ")\n",
    "\n",
    "weekday_count_bar.for_each_trace(lambda x: x.update(name=legend_name[x.name]))\n",
    "\n",
    "weekday_count_bar.show()"
   ]
  },
  {
   "cell_type": "markdown",
   "id": "04848148",
   "metadata": {},
   "source": [
    "### What is the monthly trend in user count for each subscription type during 2024?"
   ]
  },
  {
   "cell_type": "code",
   "execution_count": 143,
   "id": "474e19a6",
   "metadata": {},
   "outputs": [
    {
     "data": {
      "text/html": [
       "<div>\n",
       "<style scoped>\n",
       "    .dataframe tbody tr th:only-of-type {\n",
       "        vertical-align: middle;\n",
       "    }\n",
       "\n",
       "    .dataframe tbody tr th {\n",
       "        vertical-align: top;\n",
       "    }\n",
       "\n",
       "    .dataframe thead th {\n",
       "        text-align: right;\n",
       "    }\n",
       "</style>\n",
       "<table border=\"1\" class=\"dataframe\">\n",
       "  <thead>\n",
       "    <tr style=\"text-align: right;\">\n",
       "      <th></th>\n",
       "      <th>ride_id</th>\n",
       "      <th>rideable_type</th>\n",
       "      <th>started_at</th>\n",
       "      <th>ended_at</th>\n",
       "      <th>ride_time</th>\n",
       "      <th>month</th>\n",
       "      <th>weekday</th>\n",
       "      <th>start_station_name</th>\n",
       "      <th>end_station_name</th>\n",
       "      <th>member_casual</th>\n",
       "      <th>start_lat</th>\n",
       "      <th>start_lng</th>\n",
       "      <th>end_lat</th>\n",
       "      <th>end_lng</th>\n",
       "      <th>week_start</th>\n",
       "    </tr>\n",
       "  </thead>\n",
       "  <tbody>\n",
       "    <tr>\n",
       "      <th>48853</th>\n",
       "      <td>56F5C3ED5178C131</td>\n",
       "      <td>classic_bike</td>\n",
       "      <td>2024-01-01 00:01:01</td>\n",
       "      <td>2024-01-01 00:24:12</td>\n",
       "      <td>0 days 00:23:11</td>\n",
       "      <td>1</td>\n",
       "      <td>Monday</td>\n",
       "      <td>LaSalle St &amp; Illinois St</td>\n",
       "      <td>Indiana Ave &amp; Roosevelt Rd</td>\n",
       "      <td>member</td>\n",
       "      <td>41.890762</td>\n",
       "      <td>-87.631697</td>\n",
       "      <td>41.867888</td>\n",
       "      <td>-87.623041</td>\n",
       "      <td>2024-01-01</td>\n",
       "    </tr>\n",
       "    <tr>\n",
       "      <th>26576</th>\n",
       "      <td>70BDF49A30C8BFFC</td>\n",
       "      <td>classic_bike</td>\n",
       "      <td>2024-01-01 00:02:15</td>\n",
       "      <td>2024-01-01 00:07:01</td>\n",
       "      <td>0 days 00:04:46</td>\n",
       "      <td>1</td>\n",
       "      <td>Monday</td>\n",
       "      <td>Sheffield Ave &amp; Fullerton Ave</td>\n",
       "      <td>Greenview Ave &amp; Fullerton Ave</td>\n",
       "      <td>casual</td>\n",
       "      <td>41.925602</td>\n",
       "      <td>-87.653708</td>\n",
       "      <td>41.925330</td>\n",
       "      <td>-87.665800</td>\n",
       "      <td>2024-01-01</td>\n",
       "    </tr>\n",
       "    <tr>\n",
       "      <th>46733</th>\n",
       "      <td>B7F1F63BD1AFF4E9</td>\n",
       "      <td>classic_bike</td>\n",
       "      <td>2024-01-01 00:06:59</td>\n",
       "      <td>2024-01-01 00:17:21</td>\n",
       "      <td>0 days 00:10:22</td>\n",
       "      <td>1</td>\n",
       "      <td>Monday</td>\n",
       "      <td>Western Ave &amp; Howard St</td>\n",
       "      <td>Clark St &amp; Lunt Ave</td>\n",
       "      <td>member</td>\n",
       "      <td>42.018901</td>\n",
       "      <td>-87.690048</td>\n",
       "      <td>42.009011</td>\n",
       "      <td>-87.674112</td>\n",
       "      <td>2024-01-01</td>\n",
       "    </tr>\n",
       "    <tr>\n",
       "      <th>40692</th>\n",
       "      <td>444DD0D82A50BA8C</td>\n",
       "      <td>classic_bike</td>\n",
       "      <td>2024-01-01 00:07:45</td>\n",
       "      <td>2024-01-01 00:15:41</td>\n",
       "      <td>0 days 00:07:56</td>\n",
       "      <td>1</td>\n",
       "      <td>Monday</td>\n",
       "      <td>DuSable Lake Shore Dr &amp; North Blvd</td>\n",
       "      <td>Sedgwick St &amp; Webster Ave</td>\n",
       "      <td>casual</td>\n",
       "      <td>41.911722</td>\n",
       "      <td>-87.626804</td>\n",
       "      <td>41.922167</td>\n",
       "      <td>-87.638888</td>\n",
       "      <td>2024-01-01</td>\n",
       "    </tr>\n",
       "    <tr>\n",
       "      <th>71103</th>\n",
       "      <td>510C1C0AA564ADF0</td>\n",
       "      <td>classic_bike</td>\n",
       "      <td>2024-01-01 00:07:57</td>\n",
       "      <td>2024-01-01 00:29:42</td>\n",
       "      <td>0 days 00:21:45</td>\n",
       "      <td>1</td>\n",
       "      <td>Monday</td>\n",
       "      <td>Clinton St &amp; Tilden St</td>\n",
       "      <td>LaSalle St &amp; Illinois St</td>\n",
       "      <td>casual</td>\n",
       "      <td>41.875885</td>\n",
       "      <td>-87.640795</td>\n",
       "      <td>41.890762</td>\n",
       "      <td>-87.631697</td>\n",
       "      <td>2024-01-01</td>\n",
       "    </tr>\n",
       "  </tbody>\n",
       "</table>\n",
       "</div>"
      ],
      "text/plain": [
       "                ride_id rideable_type          started_at            ended_at  \\\n",
       "48853  56F5C3ED5178C131  classic_bike 2024-01-01 00:01:01 2024-01-01 00:24:12   \n",
       "26576  70BDF49A30C8BFFC  classic_bike 2024-01-01 00:02:15 2024-01-01 00:07:01   \n",
       "46733  B7F1F63BD1AFF4E9  classic_bike 2024-01-01 00:06:59 2024-01-01 00:17:21   \n",
       "40692  444DD0D82A50BA8C  classic_bike 2024-01-01 00:07:45 2024-01-01 00:15:41   \n",
       "71103  510C1C0AA564ADF0  classic_bike 2024-01-01 00:07:57 2024-01-01 00:29:42   \n",
       "\n",
       "            ride_time  month weekday                  start_station_name  \\\n",
       "48853 0 days 00:23:11      1  Monday            LaSalle St & Illinois St   \n",
       "26576 0 days 00:04:46      1  Monday       Sheffield Ave & Fullerton Ave   \n",
       "46733 0 days 00:10:22      1  Monday             Western Ave & Howard St   \n",
       "40692 0 days 00:07:56      1  Monday  DuSable Lake Shore Dr & North Blvd   \n",
       "71103 0 days 00:21:45      1  Monday              Clinton St & Tilden St   \n",
       "\n",
       "                    end_station_name member_casual  start_lat  start_lng  \\\n",
       "48853     Indiana Ave & Roosevelt Rd        member  41.890762 -87.631697   \n",
       "26576  Greenview Ave & Fullerton Ave        casual  41.925602 -87.653708   \n",
       "46733            Clark St & Lunt Ave        member  42.018901 -87.690048   \n",
       "40692      Sedgwick St & Webster Ave        casual  41.911722 -87.626804   \n",
       "71103       LaSalle St & Illinois St        casual  41.875885 -87.640795   \n",
       "\n",
       "         end_lat    end_lng  week_start  \n",
       "48853  41.867888 -87.623041  2024-01-01  \n",
       "26576  41.925330 -87.665800  2024-01-01  \n",
       "46733  42.009011 -87.674112  2024-01-01  \n",
       "40692  41.922167 -87.638888  2024-01-01  \n",
       "71103  41.890762 -87.631697  2024-01-01  "
      ]
     },
     "execution_count": 143,
     "metadata": {},
     "output_type": "execute_result"
    }
   ],
   "source": [
    "analysis_df['week_start'] = (analysis_df['started_at'] - pd.to_timedelta(analysis_df['started_at'].dt.weekday, unit='D')).dt.date\n",
    "analysis_df.head()"
   ]
  },
  {
   "cell_type": "code",
   "execution_count": 144,
   "id": "8afddbef",
   "metadata": {},
   "outputs": [
    {
     "data": {
      "text/html": [
       "<div>\n",
       "<style scoped>\n",
       "    .dataframe tbody tr th:only-of-type {\n",
       "        vertical-align: middle;\n",
       "    }\n",
       "\n",
       "    .dataframe tbody tr th {\n",
       "        vertical-align: top;\n",
       "    }\n",
       "\n",
       "    .dataframe thead th {\n",
       "        text-align: right;\n",
       "    }\n",
       "</style>\n",
       "<table border=\"1\" class=\"dataframe\">\n",
       "  <thead>\n",
       "    <tr style=\"text-align: right;\">\n",
       "      <th></th>\n",
       "      <th>week_start</th>\n",
       "      <th>member_casual</th>\n",
       "      <th>count</th>\n",
       "    </tr>\n",
       "  </thead>\n",
       "  <tbody>\n",
       "    <tr>\n",
       "      <th>0</th>\n",
       "      <td>2024-01-01</td>\n",
       "      <td>casual</td>\n",
       "      <td>5958</td>\n",
       "    </tr>\n",
       "    <tr>\n",
       "      <th>1</th>\n",
       "      <td>2024-01-01</td>\n",
       "      <td>member</td>\n",
       "      <td>25500</td>\n",
       "    </tr>\n",
       "    <tr>\n",
       "      <th>2</th>\n",
       "      <td>2024-01-08</td>\n",
       "      <td>casual</td>\n",
       "      <td>3414</td>\n",
       "    </tr>\n",
       "    <tr>\n",
       "      <th>3</th>\n",
       "      <td>2024-01-08</td>\n",
       "      <td>member</td>\n",
       "      <td>21431</td>\n",
       "    </tr>\n",
       "    <tr>\n",
       "      <th>4</th>\n",
       "      <td>2024-01-15</td>\n",
       "      <td>casual</td>\n",
       "      <td>1726</td>\n",
       "    </tr>\n",
       "  </tbody>\n",
       "</table>\n",
       "</div>"
      ],
      "text/plain": [
       "   week_start member_casual  count\n",
       "0  2024-01-01        casual   5958\n",
       "1  2024-01-01        member  25500\n",
       "2  2024-01-08        casual   3414\n",
       "3  2024-01-08        member  21431\n",
       "4  2024-01-15        casual   1726"
      ]
     },
     "execution_count": 144,
     "metadata": {},
     "output_type": "execute_result"
    }
   ],
   "source": [
    "member_year_count_df = (\n",
    "    analysis_df\n",
    "    .value_counts(['week_start', 'member_casual'])\n",
    "    .sort_index()\n",
    "    .reset_index(name='count')\n",
    ")\n",
    "\n",
    "member_year_count_df.head()"
   ]
  },
  {
   "cell_type": "code",
   "execution_count": 145,
   "id": "c0c30a33",
   "metadata": {},
   "outputs": [
    {
     "data": {
      "text/html": [
       "<div>\n",
       "<style scoped>\n",
       "    .dataframe tbody tr th:only-of-type {\n",
       "        vertical-align: middle;\n",
       "    }\n",
       "\n",
       "    .dataframe tbody tr th {\n",
       "        vertical-align: top;\n",
       "    }\n",
       "\n",
       "    .dataframe thead th {\n",
       "        text-align: right;\n",
       "    }\n",
       "</style>\n",
       "<table border=\"1\" class=\"dataframe\">\n",
       "  <thead>\n",
       "    <tr style=\"text-align: right;\">\n",
       "      <th></th>\n",
       "      <th>week_start</th>\n",
       "      <th>gap_diff</th>\n",
       "    </tr>\n",
       "  </thead>\n",
       "  <tbody>\n",
       "    <tr>\n",
       "      <th>0</th>\n",
       "      <td>2024-01-01</td>\n",
       "      <td>19542</td>\n",
       "    </tr>\n",
       "    <tr>\n",
       "      <th>1</th>\n",
       "      <td>2024-01-08</td>\n",
       "      <td>18017</td>\n",
       "    </tr>\n",
       "    <tr>\n",
       "      <th>2</th>\n",
       "      <td>2024-01-15</td>\n",
       "      <td>9637</td>\n",
       "    </tr>\n",
       "    <tr>\n",
       "      <th>3</th>\n",
       "      <td>2024-01-22</td>\n",
       "      <td>17565</td>\n",
       "    </tr>\n",
       "    <tr>\n",
       "      <th>4</th>\n",
       "      <td>2024-01-29</td>\n",
       "      <td>25856</td>\n",
       "    </tr>\n",
       "  </tbody>\n",
       "</table>\n",
       "</div>"
      ],
      "text/plain": [
       "   week_start  gap_diff\n",
       "0  2024-01-01     19542\n",
       "1  2024-01-08     18017\n",
       "2  2024-01-15      9637\n",
       "3  2024-01-22     17565\n",
       "4  2024-01-29     25856"
      ]
     },
     "execution_count": 145,
     "metadata": {},
     "output_type": "execute_result"
    }
   ],
   "source": [
    "member_count = member_year_count_df[member_year_count_df['member_casual'] == 'member']['count'].reset_index()['count']\n",
    "casual_count = member_year_count_df[member_year_count_df['member_casual'] == 'casual']['count'].reset_index()['count']\n",
    "week_start_index = member_year_count_df[member_year_count_df['member_casual'] == 'member'].reset_index()['week_start']\n",
    "abs_diff_index = (member_count - casual_count).abs()\n",
    "\n",
    "gap_df = pd.DataFrame()\n",
    "gap_df['week_start'] = week_start_index\n",
    "gap_df['gap_diff'] = abs_diff_index\n",
    "\n",
    "gap_df.head()"
   ]
  },
  {
   "cell_type": "code",
   "execution_count": 146,
   "id": "9542f32e",
   "metadata": {},
   "outputs": [
    {
     "data": {
      "application/vnd.plotly.v1+json": {
       "config": {
        "plotlyServerURL": "https://plot.ly"
       },
       "data": [
        {
         "hovertemplate": "member_casual=casual<br>week_start=%{x}<br>count=%{y}<extra></extra>",
         "legendgroup": "casual",
         "line": {
          "color": "silver",
          "dash": "solid"
         },
         "marker": {
          "symbol": "circle"
         },
         "mode": "lines",
         "name": "Casual",
         "orientation": "v",
         "showlegend": true,
         "type": "scatter",
         "x": [
          "2024-01-01",
          "2024-01-08",
          "2024-01-15",
          "2024-01-22",
          "2024-01-29",
          "2024-02-05",
          "2024-02-12",
          "2024-02-19",
          "2024-02-26",
          "2024-03-04",
          "2024-03-11",
          "2024-03-18",
          "2024-03-25",
          "2024-04-01",
          "2024-04-08",
          "2024-04-15",
          "2024-04-22",
          "2024-04-29",
          "2024-05-06",
          "2024-05-13",
          "2024-05-20",
          "2024-05-27",
          "2024-06-03",
          "2024-06-10",
          "2024-06-17",
          "2024-06-24",
          "2024-07-01",
          "2024-07-08",
          "2024-07-15",
          "2024-07-22",
          "2024-07-29",
          "2024-08-05",
          "2024-08-12",
          "2024-08-19",
          "2024-08-26",
          "2024-09-02",
          "2024-09-09",
          "2024-09-16",
          "2024-09-23",
          "2024-09-30",
          "2024-10-07",
          "2024-10-14",
          "2024-10-21",
          "2024-10-28",
          "2024-11-04",
          "2024-11-11",
          "2024-11-18",
          "2024-11-25",
          "2024-12-02",
          "2024-12-09",
          "2024-12-16",
          "2024-12-23",
          "2024-12-30"
         ],
         "xaxis": "x",
         "y": {
          "bdata": "RhcAAFYNAAC+BgAAAxAAAL4bAAB4IwAAIhoAANMpAADCQwAAeisAAMRHAABkIwAAJjUAAP8lAADdeQAA7lEAAK1eAACJfgAAQoIAADigAAByogAAcZAAACy0AADJwQAAQtMAAHm4AACi3gAAYrQAAFbcAAAa0AAA/toAAFTcAACOpwAAWsYAAPLRAADeywAA5dYAABDAAADxngAAiKQAABG4AADUfAAAOHUAAJBgAABKTQAAwUoAAG8yAADcGAAAjh8AACMaAAAdFwAA0hMAAD8HAAA=",
          "dtype": "i4"
         },
         "yaxis": "y"
        },
        {
         "hovertemplate": "member_casual=member<br>week_start=%{x}<br>count=%{y}<extra></extra>",
         "legendgroup": "member",
         "line": {
          "color": "goldenrod",
          "dash": "solid"
         },
         "marker": {
          "symbol": "circle"
         },
         "mode": "lines",
         "name": "Member",
         "orientation": "v",
         "showlegend": true,
         "type": "scatter",
         "x": [
          "2024-01-01",
          "2024-01-08",
          "2024-01-15",
          "2024-01-22",
          "2024-01-29",
          "2024-02-05",
          "2024-02-12",
          "2024-02-19",
          "2024-02-26",
          "2024-03-04",
          "2024-03-11",
          "2024-03-18",
          "2024-03-25",
          "2024-04-01",
          "2024-04-08",
          "2024-04-15",
          "2024-04-22",
          "2024-04-29",
          "2024-05-06",
          "2024-05-13",
          "2024-05-20",
          "2024-05-27",
          "2024-06-03",
          "2024-06-10",
          "2024-06-17",
          "2024-06-24",
          "2024-07-01",
          "2024-07-08",
          "2024-07-15",
          "2024-07-22",
          "2024-07-29",
          "2024-08-05",
          "2024-08-12",
          "2024-08-19",
          "2024-08-26",
          "2024-09-02",
          "2024-09-09",
          "2024-09-16",
          "2024-09-23",
          "2024-09-30",
          "2024-10-07",
          "2024-10-14",
          "2024-10-21",
          "2024-10-28",
          "2024-11-04",
          "2024-11-11",
          "2024-11-18",
          "2024-11-25",
          "2024-12-02",
          "2024-12-09",
          "2024-12-16",
          "2024-12-23",
          "2024-12-30"
         ],
         "xaxis": "x",
         "y": {
          "bdata": "nGMAALdTAABjLAAAoFQAAL6AAACgiQAAfXgAALOQAACnpwAArI0AAMKjAAABhAAARJIAAAd2AAC71gAAFcIAACnFAAC+5AAAAN8AAIT+AABi+wAARuEAAEoOAQDGDgEAyA8BAMX/AAC68AAAHwUBAJUjAQDrHAEAIBkBAOQdAQBRAwEAiRkBAIAQAQD6GwEA9z8BAEYrAQCcDgEATBkBADMTAQCY2wAALvYAACviAAApwwAAH8QAAOeXAAAgUQAABXcAACZsAADrYAAAPjEAAHATAAA=",
          "dtype": "i4"
         },
         "yaxis": "y"
        },
        {
         "line": {
          "dash": "dash",
          "width": 1
         },
         "name": "Gap difference",
         "type": "scatter",
         "x": [
          "2024-01-01",
          "2024-01-08",
          "2024-01-15",
          "2024-01-22",
          "2024-01-29",
          "2024-02-05",
          "2024-02-12",
          "2024-02-19",
          "2024-02-26",
          "2024-03-04",
          "2024-03-11",
          "2024-03-18",
          "2024-03-25",
          "2024-04-01",
          "2024-04-08",
          "2024-04-15",
          "2024-04-22",
          "2024-04-29",
          "2024-05-06",
          "2024-05-13",
          "2024-05-20",
          "2024-05-27",
          "2024-06-03",
          "2024-06-10",
          "2024-06-17",
          "2024-06-24",
          "2024-07-01",
          "2024-07-08",
          "2024-07-15",
          "2024-07-22",
          "2024-07-29",
          "2024-08-05",
          "2024-08-12",
          "2024-08-19",
          "2024-08-26",
          "2024-09-02",
          "2024-09-09",
          "2024-09-16",
          "2024-09-23",
          "2024-09-30",
          "2024-10-07",
          "2024-10-14",
          "2024-10-21",
          "2024-10-28",
          "2024-11-04",
          "2024-11-11",
          "2024-11-18",
          "2024-11-25",
          "2024-12-02",
          "2024-12-09",
          "2024-12-16",
          "2024-12-23",
          "2024-12-30"
         ],
         "y": {
          "bdata": "VkwAAGFGAAClJQAAnUQAAABlAAAoZgAAW14AAOBmAADlYwAAMmIAAP5bAACdYAAAHl0AAAhQAADeXAAAJ3AAAHxmAAA1ZgAAvlwAAExeAADwWAAA1VAAAB5aAAD9TAAAhjwAAExHAAAYEgAAvVAAAD9HAADRTAAAIj4AAJBBAADDWwAAL1MAAI4+AAAcUAAAEmkAADZrAACrbwAAxHQAACJbAADEXgAA9oAAAJuBAADfdQAAXnkAAHhlAABEOAAAd1cAAANSAADOSQAAbB0AADEMAAA=",
          "dtype": "i4"
         },
         "yaxis": "y2"
        }
       ],
       "layout": {
        "legend": {
         "title": {
          "text": "Subscription"
         },
         "tracegroupgap": 0,
         "x": 1.1
        },
        "margin": {
         "pad": 10,
         "t": 60
        },
        "template": {
         "data": {
          "bar": [
           {
            "error_x": {
             "color": "#f2f5fa"
            },
            "error_y": {
             "color": "#f2f5fa"
            },
            "marker": {
             "line": {
              "color": "rgb(17,17,17)",
              "width": 0.5
             },
             "pattern": {
              "fillmode": "overlay",
              "size": 10,
              "solidity": 0.2
             }
            },
            "type": "bar"
           }
          ],
          "barpolar": [
           {
            "marker": {
             "line": {
              "color": "rgb(17,17,17)",
              "width": 0.5
             },
             "pattern": {
              "fillmode": "overlay",
              "size": 10,
              "solidity": 0.2
             }
            },
            "type": "barpolar"
           }
          ],
          "carpet": [
           {
            "aaxis": {
             "endlinecolor": "#A2B1C6",
             "gridcolor": "#506784",
             "linecolor": "#506784",
             "minorgridcolor": "#506784",
             "startlinecolor": "#A2B1C6"
            },
            "baxis": {
             "endlinecolor": "#A2B1C6",
             "gridcolor": "#506784",
             "linecolor": "#506784",
             "minorgridcolor": "#506784",
             "startlinecolor": "#A2B1C6"
            },
            "type": "carpet"
           }
          ],
          "choropleth": [
           {
            "colorbar": {
             "outlinewidth": 0,
             "ticks": ""
            },
            "type": "choropleth"
           }
          ],
          "contour": [
           {
            "colorbar": {
             "outlinewidth": 0,
             "ticks": ""
            },
            "colorscale": [
             [
              0,
              "#0d0887"
             ],
             [
              0.1111111111111111,
              "#46039f"
             ],
             [
              0.2222222222222222,
              "#7201a8"
             ],
             [
              0.3333333333333333,
              "#9c179e"
             ],
             [
              0.4444444444444444,
              "#bd3786"
             ],
             [
              0.5555555555555556,
              "#d8576b"
             ],
             [
              0.6666666666666666,
              "#ed7953"
             ],
             [
              0.7777777777777778,
              "#fb9f3a"
             ],
             [
              0.8888888888888888,
              "#fdca26"
             ],
             [
              1,
              "#f0f921"
             ]
            ],
            "type": "contour"
           }
          ],
          "contourcarpet": [
           {
            "colorbar": {
             "outlinewidth": 0,
             "ticks": ""
            },
            "type": "contourcarpet"
           }
          ],
          "heatmap": [
           {
            "colorbar": {
             "outlinewidth": 0,
             "ticks": ""
            },
            "colorscale": [
             [
              0,
              "#0d0887"
             ],
             [
              0.1111111111111111,
              "#46039f"
             ],
             [
              0.2222222222222222,
              "#7201a8"
             ],
             [
              0.3333333333333333,
              "#9c179e"
             ],
             [
              0.4444444444444444,
              "#bd3786"
             ],
             [
              0.5555555555555556,
              "#d8576b"
             ],
             [
              0.6666666666666666,
              "#ed7953"
             ],
             [
              0.7777777777777778,
              "#fb9f3a"
             ],
             [
              0.8888888888888888,
              "#fdca26"
             ],
             [
              1,
              "#f0f921"
             ]
            ],
            "type": "heatmap"
           }
          ],
          "histogram": [
           {
            "marker": {
             "pattern": {
              "fillmode": "overlay",
              "size": 10,
              "solidity": 0.2
             }
            },
            "type": "histogram"
           }
          ],
          "histogram2d": [
           {
            "colorbar": {
             "outlinewidth": 0,
             "ticks": ""
            },
            "colorscale": [
             [
              0,
              "#0d0887"
             ],
             [
              0.1111111111111111,
              "#46039f"
             ],
             [
              0.2222222222222222,
              "#7201a8"
             ],
             [
              0.3333333333333333,
              "#9c179e"
             ],
             [
              0.4444444444444444,
              "#bd3786"
             ],
             [
              0.5555555555555556,
              "#d8576b"
             ],
             [
              0.6666666666666666,
              "#ed7953"
             ],
             [
              0.7777777777777778,
              "#fb9f3a"
             ],
             [
              0.8888888888888888,
              "#fdca26"
             ],
             [
              1,
              "#f0f921"
             ]
            ],
            "type": "histogram2d"
           }
          ],
          "histogram2dcontour": [
           {
            "colorbar": {
             "outlinewidth": 0,
             "ticks": ""
            },
            "colorscale": [
             [
              0,
              "#0d0887"
             ],
             [
              0.1111111111111111,
              "#46039f"
             ],
             [
              0.2222222222222222,
              "#7201a8"
             ],
             [
              0.3333333333333333,
              "#9c179e"
             ],
             [
              0.4444444444444444,
              "#bd3786"
             ],
             [
              0.5555555555555556,
              "#d8576b"
             ],
             [
              0.6666666666666666,
              "#ed7953"
             ],
             [
              0.7777777777777778,
              "#fb9f3a"
             ],
             [
              0.8888888888888888,
              "#fdca26"
             ],
             [
              1,
              "#f0f921"
             ]
            ],
            "type": "histogram2dcontour"
           }
          ],
          "mesh3d": [
           {
            "colorbar": {
             "outlinewidth": 0,
             "ticks": ""
            },
            "type": "mesh3d"
           }
          ],
          "parcoords": [
           {
            "line": {
             "colorbar": {
              "outlinewidth": 0,
              "ticks": ""
             }
            },
            "type": "parcoords"
           }
          ],
          "pie": [
           {
            "automargin": true,
            "type": "pie"
           }
          ],
          "scatter": [
           {
            "marker": {
             "line": {
              "color": "#283442"
             }
            },
            "type": "scatter"
           }
          ],
          "scatter3d": [
           {
            "line": {
             "colorbar": {
              "outlinewidth": 0,
              "ticks": ""
             }
            },
            "marker": {
             "colorbar": {
              "outlinewidth": 0,
              "ticks": ""
             }
            },
            "type": "scatter3d"
           }
          ],
          "scattercarpet": [
           {
            "marker": {
             "colorbar": {
              "outlinewidth": 0,
              "ticks": ""
             }
            },
            "type": "scattercarpet"
           }
          ],
          "scattergeo": [
           {
            "marker": {
             "colorbar": {
              "outlinewidth": 0,
              "ticks": ""
             }
            },
            "type": "scattergeo"
           }
          ],
          "scattergl": [
           {
            "marker": {
             "line": {
              "color": "#283442"
             }
            },
            "type": "scattergl"
           }
          ],
          "scattermap": [
           {
            "marker": {
             "colorbar": {
              "outlinewidth": 0,
              "ticks": ""
             }
            },
            "type": "scattermap"
           }
          ],
          "scattermapbox": [
           {
            "marker": {
             "colorbar": {
              "outlinewidth": 0,
              "ticks": ""
             }
            },
            "type": "scattermapbox"
           }
          ],
          "scatterpolar": [
           {
            "marker": {
             "colorbar": {
              "outlinewidth": 0,
              "ticks": ""
             }
            },
            "type": "scatterpolar"
           }
          ],
          "scatterpolargl": [
           {
            "marker": {
             "colorbar": {
              "outlinewidth": 0,
              "ticks": ""
             }
            },
            "type": "scatterpolargl"
           }
          ],
          "scatterternary": [
           {
            "marker": {
             "colorbar": {
              "outlinewidth": 0,
              "ticks": ""
             }
            },
            "type": "scatterternary"
           }
          ],
          "surface": [
           {
            "colorbar": {
             "outlinewidth": 0,
             "ticks": ""
            },
            "colorscale": [
             [
              0,
              "#0d0887"
             ],
             [
              0.1111111111111111,
              "#46039f"
             ],
             [
              0.2222222222222222,
              "#7201a8"
             ],
             [
              0.3333333333333333,
              "#9c179e"
             ],
             [
              0.4444444444444444,
              "#bd3786"
             ],
             [
              0.5555555555555556,
              "#d8576b"
             ],
             [
              0.6666666666666666,
              "#ed7953"
             ],
             [
              0.7777777777777778,
              "#fb9f3a"
             ],
             [
              0.8888888888888888,
              "#fdca26"
             ],
             [
              1,
              "#f0f921"
             ]
            ],
            "type": "surface"
           }
          ],
          "table": [
           {
            "cells": {
             "fill": {
              "color": "#506784"
             },
             "line": {
              "color": "rgb(17,17,17)"
             }
            },
            "header": {
             "fill": {
              "color": "#2a3f5f"
             },
             "line": {
              "color": "rgb(17,17,17)"
             }
            },
            "type": "table"
           }
          ]
         },
         "layout": {
          "annotationdefaults": {
           "arrowcolor": "#f2f5fa",
           "arrowhead": 0,
           "arrowwidth": 1
          },
          "autotypenumbers": "strict",
          "coloraxis": {
           "colorbar": {
            "outlinewidth": 0,
            "ticks": ""
           }
          },
          "colorscale": {
           "diverging": [
            [
             0,
             "#8e0152"
            ],
            [
             0.1,
             "#c51b7d"
            ],
            [
             0.2,
             "#de77ae"
            ],
            [
             0.3,
             "#f1b6da"
            ],
            [
             0.4,
             "#fde0ef"
            ],
            [
             0.5,
             "#f7f7f7"
            ],
            [
             0.6,
             "#e6f5d0"
            ],
            [
             0.7,
             "#b8e186"
            ],
            [
             0.8,
             "#7fbc41"
            ],
            [
             0.9,
             "#4d9221"
            ],
            [
             1,
             "#276419"
            ]
           ],
           "sequential": [
            [
             0,
             "#0d0887"
            ],
            [
             0.1111111111111111,
             "#46039f"
            ],
            [
             0.2222222222222222,
             "#7201a8"
            ],
            [
             0.3333333333333333,
             "#9c179e"
            ],
            [
             0.4444444444444444,
             "#bd3786"
            ],
            [
             0.5555555555555556,
             "#d8576b"
            ],
            [
             0.6666666666666666,
             "#ed7953"
            ],
            [
             0.7777777777777778,
             "#fb9f3a"
            ],
            [
             0.8888888888888888,
             "#fdca26"
            ],
            [
             1,
             "#f0f921"
            ]
           ],
           "sequentialminus": [
            [
             0,
             "#0d0887"
            ],
            [
             0.1111111111111111,
             "#46039f"
            ],
            [
             0.2222222222222222,
             "#7201a8"
            ],
            [
             0.3333333333333333,
             "#9c179e"
            ],
            [
             0.4444444444444444,
             "#bd3786"
            ],
            [
             0.5555555555555556,
             "#d8576b"
            ],
            [
             0.6666666666666666,
             "#ed7953"
            ],
            [
             0.7777777777777778,
             "#fb9f3a"
            ],
            [
             0.8888888888888888,
             "#fdca26"
            ],
            [
             1,
             "#f0f921"
            ]
           ]
          },
          "colorway": [
           "#636efa",
           "#EF553B",
           "#00cc96",
           "#ab63fa",
           "#FFA15A",
           "#19d3f3",
           "#FF6692",
           "#B6E880",
           "#FF97FF",
           "#FECB52"
          ],
          "font": {
           "color": "#f2f5fa"
          },
          "geo": {
           "bgcolor": "rgb(17,17,17)",
           "lakecolor": "rgb(17,17,17)",
           "landcolor": "rgb(17,17,17)",
           "showlakes": true,
           "showland": true,
           "subunitcolor": "#506784"
          },
          "hoverlabel": {
           "align": "left"
          },
          "hovermode": "closest",
          "mapbox": {
           "style": "dark"
          },
          "paper_bgcolor": "rgb(17,17,17)",
          "plot_bgcolor": "rgb(17,17,17)",
          "polar": {
           "angularaxis": {
            "gridcolor": "#506784",
            "linecolor": "#506784",
            "ticks": ""
           },
           "bgcolor": "rgb(17,17,17)",
           "radialaxis": {
            "gridcolor": "#506784",
            "linecolor": "#506784",
            "ticks": ""
           }
          },
          "scene": {
           "xaxis": {
            "backgroundcolor": "rgb(17,17,17)",
            "gridcolor": "#506784",
            "gridwidth": 2,
            "linecolor": "#506784",
            "showbackground": true,
            "ticks": "",
            "zerolinecolor": "#C8D4E3"
           },
           "yaxis": {
            "backgroundcolor": "rgb(17,17,17)",
            "gridcolor": "#506784",
            "gridwidth": 2,
            "linecolor": "#506784",
            "showbackground": true,
            "ticks": "",
            "zerolinecolor": "#C8D4E3"
           },
           "zaxis": {
            "backgroundcolor": "rgb(17,17,17)",
            "gridcolor": "#506784",
            "gridwidth": 2,
            "linecolor": "#506784",
            "showbackground": true,
            "ticks": "",
            "zerolinecolor": "#C8D4E3"
           }
          },
          "shapedefaults": {
           "line": {
            "color": "#f2f5fa"
           }
          },
          "sliderdefaults": {
           "bgcolor": "#C8D4E3",
           "bordercolor": "rgb(17,17,17)",
           "borderwidth": 1,
           "tickwidth": 0
          },
          "ternary": {
           "aaxis": {
            "gridcolor": "#506784",
            "linecolor": "#506784",
            "ticks": ""
           },
           "baxis": {
            "gridcolor": "#506784",
            "linecolor": "#506784",
            "ticks": ""
           },
           "bgcolor": "rgb(17,17,17)",
           "caxis": {
            "gridcolor": "#506784",
            "linecolor": "#506784",
            "ticks": ""
           }
          },
          "title": {
           "x": 0.05
          },
          "updatemenudefaults": {
           "bgcolor": "#506784",
           "borderwidth": 0
          },
          "xaxis": {
           "automargin": true,
           "gridcolor": "#283442",
           "linecolor": "#506784",
           "ticks": "",
           "title": {
            "standoff": 15
           },
           "zerolinecolor": "#283442",
           "zerolinewidth": 2
          },
          "yaxis": {
           "automargin": true,
           "gridcolor": "#283442",
           "linecolor": "#506784",
           "ticks": "",
           "title": {
            "standoff": 15
           },
           "zerolinecolor": "#283442",
           "zerolinewidth": 2
          }
         }
        },
        "title": {
         "text": "Users Throughout the 2024 by Subscription Type"
        },
        "width": 1000,
        "xaxis": {
         "anchor": "y",
         "domain": [
          0,
          1
         ],
         "dtick": "M1",
         "tickformat": "%b",
         "title": {
          "text": "Weeks"
         }
        },
        "yaxis": {
         "anchor": "x",
         "domain": [
          0,
          1
         ],
         "range": [
          0,
          null
         ],
         "title": {
          "text": "User count"
         }
        },
        "yaxis2": {
         "dtick": 5000,
         "overlaying": "y",
         "range": [
          0,
          null
         ],
         "showgrid": false,
         "side": "right",
         "tickmode": "linear",
         "title": {
          "text": "Gap difference"
         }
        }
       }
      }
     },
     "metadata": {},
     "output_type": "display_data"
    }
   ],
   "source": [
    "legend_name = {\n",
    "    'casual': 'Casual',\n",
    "    'member': 'Member',\n",
    "    'gap_df': 'Gap difference'\n",
    "}\n",
    "\n",
    "member_year_line = px.line(\n",
    "    member_year_count_df,\n",
    "    x='week_start',\n",
    "    y='count',\n",
    "    color='member_casual',\n",
    "    width=1000,\n",
    "    template='plotly_dark',\n",
    "    color_discrete_sequence=['silver', 'goldenrod'],\n",
    "    \n",
    ")\n",
    "\n",
    "member_year_line.add_trace(\n",
    "    go.Scatter(\n",
    "        x=gap_df['week_start'],\n",
    "        y=gap_df['gap_diff'],\n",
    "        name='gap_df',\n",
    "        line={\n",
    "            'dash': 'dash',\n",
    "            'width': 1\n",
    "        },\n",
    "        yaxis=\"y2\"\n",
    "    )\n",
    ")\n",
    "\n",
    "member_year_line.update_layout(\n",
    "    xaxis_title='Weeks', \n",
    "    yaxis_title='User count', \n",
    "    title='Users Throughout the 2024 by Subscription Type',\n",
    "    legend_title_text='Subscription',\n",
    "    yaxis=dict(\n",
    "        range=[0, None],\n",
    "    ),\n",
    "    yaxis2=dict(\n",
    "        title=dict(text=\"Gap difference\"),\n",
    "        dtick=5000,\n",
    "        tickmode='linear',\n",
    "        side=\"right\",\n",
    "        range=[0, None],\n",
    "        overlaying=\"y\",\n",
    "        showgrid= False,\n",
    "    ),\n",
    "    xaxis=dict(\n",
    "        dtick=\"M1\",\n",
    "        tickformat=\"%b\",\n",
    "    ),\n",
    "    margin=dict(\n",
    "        pad=10\n",
    "    ),\n",
    "    legend=dict(\n",
    "        x=1.1\n",
    "    )\n",
    ")\n",
    "\n",
    "member_year_line.for_each_trace(lambda x: x.update(name=legend_name[x.name]))\n",
    "\n",
    "member_year_line.show()"
   ]
  },
  {
   "cell_type": "markdown",
   "id": "c21b8e19",
   "metadata": {},
   "source": [
    "According to the graph above:\n",
    "* The number of users with membership is higher then casual users throughout the year by 10,000-30,000.\n",
    "* Amount of users increase significantly during warmer months peaking between May and September and then decline sharply from October onward.\n",
    "* The highest user counts for both groups occur during late summer."
   ]
  },
  {
   "cell_type": "markdown",
   "id": "e78d8d1f",
   "metadata": {},
   "source": [
    "### Number of Users throughout the Year by Ride type"
   ]
  },
  {
   "cell_type": "code",
   "execution_count": 147,
   "id": "a85e4cf1",
   "metadata": {},
   "outputs": [
    {
     "data": {
      "text/html": [
       "<div>\n",
       "<style scoped>\n",
       "    .dataframe tbody tr th:only-of-type {\n",
       "        vertical-align: middle;\n",
       "    }\n",
       "\n",
       "    .dataframe tbody tr th {\n",
       "        vertical-align: top;\n",
       "    }\n",
       "\n",
       "    .dataframe thead th {\n",
       "        text-align: right;\n",
       "    }\n",
       "</style>\n",
       "<table border=\"1\" class=\"dataframe\">\n",
       "  <thead>\n",
       "    <tr style=\"text-align: right;\">\n",
       "      <th></th>\n",
       "      <th>week_start</th>\n",
       "      <th>rideable_type</th>\n",
       "      <th>count</th>\n",
       "    </tr>\n",
       "  </thead>\n",
       "  <tbody>\n",
       "    <tr>\n",
       "      <th>0</th>\n",
       "      <td>2024-01-01</td>\n",
       "      <td>classic_bike</td>\n",
       "      <td>19518</td>\n",
       "    </tr>\n",
       "    <tr>\n",
       "      <th>1</th>\n",
       "      <td>2024-01-01</td>\n",
       "      <td>electric_bike</td>\n",
       "      <td>11940</td>\n",
       "    </tr>\n",
       "    <tr>\n",
       "      <th>2</th>\n",
       "      <td>2024-01-08</td>\n",
       "      <td>classic_bike</td>\n",
       "      <td>15576</td>\n",
       "    </tr>\n",
       "    <tr>\n",
       "      <th>3</th>\n",
       "      <td>2024-01-08</td>\n",
       "      <td>electric_bike</td>\n",
       "      <td>9269</td>\n",
       "    </tr>\n",
       "    <tr>\n",
       "      <th>4</th>\n",
       "      <td>2024-01-15</td>\n",
       "      <td>classic_bike</td>\n",
       "      <td>10005</td>\n",
       "    </tr>\n",
       "  </tbody>\n",
       "</table>\n",
       "</div>"
      ],
      "text/plain": [
       "   week_start  rideable_type  count\n",
       "0  2024-01-01   classic_bike  19518\n",
       "1  2024-01-01  electric_bike  11940\n",
       "2  2024-01-08   classic_bike  15576\n",
       "3  2024-01-08  electric_bike   9269\n",
       "4  2024-01-15   classic_bike  10005"
      ]
     },
     "execution_count": 147,
     "metadata": {},
     "output_type": "execute_result"
    }
   ],
   "source": [
    "ride_year_count_df = (\n",
    "    analysis_df\n",
    "    .value_counts(['week_start', 'rideable_type'])\n",
    "    .sort_index()\n",
    "    .reset_index(name='count')\n",
    ")\n",
    "\n",
    "ride_year_count_df.head()"
   ]
  },
  {
   "cell_type": "code",
   "execution_count": 148,
   "id": "d2c9102f",
   "metadata": {},
   "outputs": [
    {
     "data": {
      "application/vnd.plotly.v1+json": {
       "config": {
        "plotlyServerURL": "https://plot.ly"
       },
       "data": [
        {
         "hovertemplate": "rideable_type=classic_bike<br>week_start=%{x}<br>count=%{y}<extra></extra>",
         "legendgroup": "classic_bike",
         "line": {
          "color": "brown",
          "dash": "solid"
         },
         "marker": {
          "symbol": "circle"
         },
         "mode": "lines",
         "name": "Classic Bike",
         "orientation": "v",
         "showlegend": true,
         "type": "scatter",
         "x": [
          "2024-01-01",
          "2024-01-08",
          "2024-01-15",
          "2024-01-22",
          "2024-01-29",
          "2024-02-05",
          "2024-02-12",
          "2024-02-19",
          "2024-02-26",
          "2024-03-04",
          "2024-03-11",
          "2024-03-18",
          "2024-03-25",
          "2024-04-01",
          "2024-04-08",
          "2024-04-15",
          "2024-04-22",
          "2024-04-29",
          "2024-05-06",
          "2024-05-13",
          "2024-05-20",
          "2024-05-27",
          "2024-06-03",
          "2024-06-10",
          "2024-06-17",
          "2024-06-24",
          "2024-07-01",
          "2024-07-08",
          "2024-07-15",
          "2024-07-22",
          "2024-07-29",
          "2024-08-05",
          "2024-08-12",
          "2024-08-19",
          "2024-08-26",
          "2024-09-02",
          "2024-09-09",
          "2024-09-16",
          "2024-09-23",
          "2024-09-30",
          "2024-10-07",
          "2024-10-14",
          "2024-10-21",
          "2024-10-28",
          "2024-11-04",
          "2024-11-11",
          "2024-11-18",
          "2024-11-25",
          "2024-12-02",
          "2024-12-09",
          "2024-12-16",
          "2024-12-23",
          "2024-12-30"
         ],
         "xaxis": "x",
         "y": {
          "bdata": "PkwAANg8AAAVJwAAyUMAAJ98AABcigAA/m0AACeFAAB9qAAABXkAACKaAABNZQAAsnoAAOdbAACk2wAAzKwAACC3AAAg7QAAlPUAAO8kAQCmIwEAhPcAAF8vAQBDQAEANUkBAGAsAQDsOgEAfCwBAPRfAQCpUwEAz1EBAG1WAQDMFQEADi0BAPIyAQBvIgEATDwBAJ4fAQAh7gAAiA8BAKIqAQDw0QAAheMAAKvAAACSnwAAjqkAAOJ6AADvPQAAgVQAAD9KAABEPgAADyMAAHUNAAA=",
          "dtype": "i4"
         },
         "yaxis": "y"
        },
        {
         "hovertemplate": "rideable_type=electric_bike<br>week_start=%{x}<br>count=%{y}<extra></extra>",
         "legendgroup": "electric_bike",
         "line": {
          "color": "dodgerblue",
          "dash": "solid"
         },
         "marker": {
          "symbol": "circle"
         },
         "mode": "lines",
         "name": "Electric Bike",
         "orientation": "v",
         "showlegend": true,
         "type": "scatter",
         "x": [
          "2024-01-01",
          "2024-01-08",
          "2024-01-15",
          "2024-01-22",
          "2024-01-29",
          "2024-02-05",
          "2024-02-12",
          "2024-02-19",
          "2024-02-26",
          "2024-03-04",
          "2024-03-11",
          "2024-03-18",
          "2024-03-25",
          "2024-04-01",
          "2024-04-08",
          "2024-04-15",
          "2024-04-22",
          "2024-04-29",
          "2024-05-06",
          "2024-05-13",
          "2024-05-20",
          "2024-05-27",
          "2024-06-03",
          "2024-06-10",
          "2024-06-17",
          "2024-06-24",
          "2024-07-01",
          "2024-07-08",
          "2024-07-15",
          "2024-07-22",
          "2024-07-29",
          "2024-08-05",
          "2024-08-12",
          "2024-08-19",
          "2024-08-26",
          "2024-09-02",
          "2024-09-09",
          "2024-09-16",
          "2024-09-23",
          "2024-09-30",
          "2024-10-07",
          "2024-10-14",
          "2024-10-21",
          "2024-10-28",
          "2024-11-04",
          "2024-11-11",
          "2024-11-18",
          "2024-11-25",
          "2024-12-02",
          "2024-12-09",
          "2024-12-16",
          "2024-12-23",
          "2024-12-30"
         ],
         "xaxis": "x",
         "y": {
          "bdata": "pC4AADUkAAAMDAAA2iAAAN0fAAC8IgAAoSQAAF81AADsQgAAIUAAAGRRAAAYQgAAuEwAAB9AAAD0dAAAN2cAALZsAAAndgAArmsAAM15AAAuegAAM3oAABeTAABMkAAA1ZkAAN6LAABwlAAABY0AAPefAABcmQAAT6IAAMujAAATlQAA1bIAAI2pAAAEmgAAkqsAAMGgAADdlgAAJ6gAAKKgAAB8hgAA4YcAABCCAADhcAAAUmUAAHRPAAANLAAAEkIAAAo8AADEOQAAASIAADoNAAA=",
          "dtype": "i4"
         },
         "yaxis": "y"
        },
        {
         "hovertemplate": "rideable_type=electric_scooter<br>week_start=%{x}<br>count=%{y}<extra></extra>",
         "legendgroup": "electric_scooter",
         "line": {
          "color": "lime",
          "dash": "solid"
         },
         "marker": {
          "symbol": "circle"
         },
         "mode": "lines",
         "name": "Electric Scooter",
         "orientation": "v",
         "showlegend": true,
         "type": "scatter",
         "x": [
          "2024-08-26",
          "2024-09-02",
          "2024-09-09",
          "2024-09-16",
          "2024-09-23",
          "2024-09-30"
         ],
         "xaxis": "x",
         "y": {
          "bdata": "8wVlK/4u9yqPKCUG",
          "dtype": "i2"
         },
         "yaxis": "y"
        }
       ],
       "layout": {
        "legend": {
         "title": {
          "text": "Ride type"
         },
         "tracegroupgap": 0
        },
        "margin": {
         "pad": 10,
         "t": 60
        },
        "template": {
         "data": {
          "bar": [
           {
            "error_x": {
             "color": "#f2f5fa"
            },
            "error_y": {
             "color": "#f2f5fa"
            },
            "marker": {
             "line": {
              "color": "rgb(17,17,17)",
              "width": 0.5
             },
             "pattern": {
              "fillmode": "overlay",
              "size": 10,
              "solidity": 0.2
             }
            },
            "type": "bar"
           }
          ],
          "barpolar": [
           {
            "marker": {
             "line": {
              "color": "rgb(17,17,17)",
              "width": 0.5
             },
             "pattern": {
              "fillmode": "overlay",
              "size": 10,
              "solidity": 0.2
             }
            },
            "type": "barpolar"
           }
          ],
          "carpet": [
           {
            "aaxis": {
             "endlinecolor": "#A2B1C6",
             "gridcolor": "#506784",
             "linecolor": "#506784",
             "minorgridcolor": "#506784",
             "startlinecolor": "#A2B1C6"
            },
            "baxis": {
             "endlinecolor": "#A2B1C6",
             "gridcolor": "#506784",
             "linecolor": "#506784",
             "minorgridcolor": "#506784",
             "startlinecolor": "#A2B1C6"
            },
            "type": "carpet"
           }
          ],
          "choropleth": [
           {
            "colorbar": {
             "outlinewidth": 0,
             "ticks": ""
            },
            "type": "choropleth"
           }
          ],
          "contour": [
           {
            "colorbar": {
             "outlinewidth": 0,
             "ticks": ""
            },
            "colorscale": [
             [
              0,
              "#0d0887"
             ],
             [
              0.1111111111111111,
              "#46039f"
             ],
             [
              0.2222222222222222,
              "#7201a8"
             ],
             [
              0.3333333333333333,
              "#9c179e"
             ],
             [
              0.4444444444444444,
              "#bd3786"
             ],
             [
              0.5555555555555556,
              "#d8576b"
             ],
             [
              0.6666666666666666,
              "#ed7953"
             ],
             [
              0.7777777777777778,
              "#fb9f3a"
             ],
             [
              0.8888888888888888,
              "#fdca26"
             ],
             [
              1,
              "#f0f921"
             ]
            ],
            "type": "contour"
           }
          ],
          "contourcarpet": [
           {
            "colorbar": {
             "outlinewidth": 0,
             "ticks": ""
            },
            "type": "contourcarpet"
           }
          ],
          "heatmap": [
           {
            "colorbar": {
             "outlinewidth": 0,
             "ticks": ""
            },
            "colorscale": [
             [
              0,
              "#0d0887"
             ],
             [
              0.1111111111111111,
              "#46039f"
             ],
             [
              0.2222222222222222,
              "#7201a8"
             ],
             [
              0.3333333333333333,
              "#9c179e"
             ],
             [
              0.4444444444444444,
              "#bd3786"
             ],
             [
              0.5555555555555556,
              "#d8576b"
             ],
             [
              0.6666666666666666,
              "#ed7953"
             ],
             [
              0.7777777777777778,
              "#fb9f3a"
             ],
             [
              0.8888888888888888,
              "#fdca26"
             ],
             [
              1,
              "#f0f921"
             ]
            ],
            "type": "heatmap"
           }
          ],
          "histogram": [
           {
            "marker": {
             "pattern": {
              "fillmode": "overlay",
              "size": 10,
              "solidity": 0.2
             }
            },
            "type": "histogram"
           }
          ],
          "histogram2d": [
           {
            "colorbar": {
             "outlinewidth": 0,
             "ticks": ""
            },
            "colorscale": [
             [
              0,
              "#0d0887"
             ],
             [
              0.1111111111111111,
              "#46039f"
             ],
             [
              0.2222222222222222,
              "#7201a8"
             ],
             [
              0.3333333333333333,
              "#9c179e"
             ],
             [
              0.4444444444444444,
              "#bd3786"
             ],
             [
              0.5555555555555556,
              "#d8576b"
             ],
             [
              0.6666666666666666,
              "#ed7953"
             ],
             [
              0.7777777777777778,
              "#fb9f3a"
             ],
             [
              0.8888888888888888,
              "#fdca26"
             ],
             [
              1,
              "#f0f921"
             ]
            ],
            "type": "histogram2d"
           }
          ],
          "histogram2dcontour": [
           {
            "colorbar": {
             "outlinewidth": 0,
             "ticks": ""
            },
            "colorscale": [
             [
              0,
              "#0d0887"
             ],
             [
              0.1111111111111111,
              "#46039f"
             ],
             [
              0.2222222222222222,
              "#7201a8"
             ],
             [
              0.3333333333333333,
              "#9c179e"
             ],
             [
              0.4444444444444444,
              "#bd3786"
             ],
             [
              0.5555555555555556,
              "#d8576b"
             ],
             [
              0.6666666666666666,
              "#ed7953"
             ],
             [
              0.7777777777777778,
              "#fb9f3a"
             ],
             [
              0.8888888888888888,
              "#fdca26"
             ],
             [
              1,
              "#f0f921"
             ]
            ],
            "type": "histogram2dcontour"
           }
          ],
          "mesh3d": [
           {
            "colorbar": {
             "outlinewidth": 0,
             "ticks": ""
            },
            "type": "mesh3d"
           }
          ],
          "parcoords": [
           {
            "line": {
             "colorbar": {
              "outlinewidth": 0,
              "ticks": ""
             }
            },
            "type": "parcoords"
           }
          ],
          "pie": [
           {
            "automargin": true,
            "type": "pie"
           }
          ],
          "scatter": [
           {
            "marker": {
             "line": {
              "color": "#283442"
             }
            },
            "type": "scatter"
           }
          ],
          "scatter3d": [
           {
            "line": {
             "colorbar": {
              "outlinewidth": 0,
              "ticks": ""
             }
            },
            "marker": {
             "colorbar": {
              "outlinewidth": 0,
              "ticks": ""
             }
            },
            "type": "scatter3d"
           }
          ],
          "scattercarpet": [
           {
            "marker": {
             "colorbar": {
              "outlinewidth": 0,
              "ticks": ""
             }
            },
            "type": "scattercarpet"
           }
          ],
          "scattergeo": [
           {
            "marker": {
             "colorbar": {
              "outlinewidth": 0,
              "ticks": ""
             }
            },
            "type": "scattergeo"
           }
          ],
          "scattergl": [
           {
            "marker": {
             "line": {
              "color": "#283442"
             }
            },
            "type": "scattergl"
           }
          ],
          "scattermap": [
           {
            "marker": {
             "colorbar": {
              "outlinewidth": 0,
              "ticks": ""
             }
            },
            "type": "scattermap"
           }
          ],
          "scattermapbox": [
           {
            "marker": {
             "colorbar": {
              "outlinewidth": 0,
              "ticks": ""
             }
            },
            "type": "scattermapbox"
           }
          ],
          "scatterpolar": [
           {
            "marker": {
             "colorbar": {
              "outlinewidth": 0,
              "ticks": ""
             }
            },
            "type": "scatterpolar"
           }
          ],
          "scatterpolargl": [
           {
            "marker": {
             "colorbar": {
              "outlinewidth": 0,
              "ticks": ""
             }
            },
            "type": "scatterpolargl"
           }
          ],
          "scatterternary": [
           {
            "marker": {
             "colorbar": {
              "outlinewidth": 0,
              "ticks": ""
             }
            },
            "type": "scatterternary"
           }
          ],
          "surface": [
           {
            "colorbar": {
             "outlinewidth": 0,
             "ticks": ""
            },
            "colorscale": [
             [
              0,
              "#0d0887"
             ],
             [
              0.1111111111111111,
              "#46039f"
             ],
             [
              0.2222222222222222,
              "#7201a8"
             ],
             [
              0.3333333333333333,
              "#9c179e"
             ],
             [
              0.4444444444444444,
              "#bd3786"
             ],
             [
              0.5555555555555556,
              "#d8576b"
             ],
             [
              0.6666666666666666,
              "#ed7953"
             ],
             [
              0.7777777777777778,
              "#fb9f3a"
             ],
             [
              0.8888888888888888,
              "#fdca26"
             ],
             [
              1,
              "#f0f921"
             ]
            ],
            "type": "surface"
           }
          ],
          "table": [
           {
            "cells": {
             "fill": {
              "color": "#506784"
             },
             "line": {
              "color": "rgb(17,17,17)"
             }
            },
            "header": {
             "fill": {
              "color": "#2a3f5f"
             },
             "line": {
              "color": "rgb(17,17,17)"
             }
            },
            "type": "table"
           }
          ]
         },
         "layout": {
          "annotationdefaults": {
           "arrowcolor": "#f2f5fa",
           "arrowhead": 0,
           "arrowwidth": 1
          },
          "autotypenumbers": "strict",
          "coloraxis": {
           "colorbar": {
            "outlinewidth": 0,
            "ticks": ""
           }
          },
          "colorscale": {
           "diverging": [
            [
             0,
             "#8e0152"
            ],
            [
             0.1,
             "#c51b7d"
            ],
            [
             0.2,
             "#de77ae"
            ],
            [
             0.3,
             "#f1b6da"
            ],
            [
             0.4,
             "#fde0ef"
            ],
            [
             0.5,
             "#f7f7f7"
            ],
            [
             0.6,
             "#e6f5d0"
            ],
            [
             0.7,
             "#b8e186"
            ],
            [
             0.8,
             "#7fbc41"
            ],
            [
             0.9,
             "#4d9221"
            ],
            [
             1,
             "#276419"
            ]
           ],
           "sequential": [
            [
             0,
             "#0d0887"
            ],
            [
             0.1111111111111111,
             "#46039f"
            ],
            [
             0.2222222222222222,
             "#7201a8"
            ],
            [
             0.3333333333333333,
             "#9c179e"
            ],
            [
             0.4444444444444444,
             "#bd3786"
            ],
            [
             0.5555555555555556,
             "#d8576b"
            ],
            [
             0.6666666666666666,
             "#ed7953"
            ],
            [
             0.7777777777777778,
             "#fb9f3a"
            ],
            [
             0.8888888888888888,
             "#fdca26"
            ],
            [
             1,
             "#f0f921"
            ]
           ],
           "sequentialminus": [
            [
             0,
             "#0d0887"
            ],
            [
             0.1111111111111111,
             "#46039f"
            ],
            [
             0.2222222222222222,
             "#7201a8"
            ],
            [
             0.3333333333333333,
             "#9c179e"
            ],
            [
             0.4444444444444444,
             "#bd3786"
            ],
            [
             0.5555555555555556,
             "#d8576b"
            ],
            [
             0.6666666666666666,
             "#ed7953"
            ],
            [
             0.7777777777777778,
             "#fb9f3a"
            ],
            [
             0.8888888888888888,
             "#fdca26"
            ],
            [
             1,
             "#f0f921"
            ]
           ]
          },
          "colorway": [
           "#636efa",
           "#EF553B",
           "#00cc96",
           "#ab63fa",
           "#FFA15A",
           "#19d3f3",
           "#FF6692",
           "#B6E880",
           "#FF97FF",
           "#FECB52"
          ],
          "font": {
           "color": "#f2f5fa"
          },
          "geo": {
           "bgcolor": "rgb(17,17,17)",
           "lakecolor": "rgb(17,17,17)",
           "landcolor": "rgb(17,17,17)",
           "showlakes": true,
           "showland": true,
           "subunitcolor": "#506784"
          },
          "hoverlabel": {
           "align": "left"
          },
          "hovermode": "closest",
          "mapbox": {
           "style": "dark"
          },
          "paper_bgcolor": "rgb(17,17,17)",
          "plot_bgcolor": "rgb(17,17,17)",
          "polar": {
           "angularaxis": {
            "gridcolor": "#506784",
            "linecolor": "#506784",
            "ticks": ""
           },
           "bgcolor": "rgb(17,17,17)",
           "radialaxis": {
            "gridcolor": "#506784",
            "linecolor": "#506784",
            "ticks": ""
           }
          },
          "scene": {
           "xaxis": {
            "backgroundcolor": "rgb(17,17,17)",
            "gridcolor": "#506784",
            "gridwidth": 2,
            "linecolor": "#506784",
            "showbackground": true,
            "ticks": "",
            "zerolinecolor": "#C8D4E3"
           },
           "yaxis": {
            "backgroundcolor": "rgb(17,17,17)",
            "gridcolor": "#506784",
            "gridwidth": 2,
            "linecolor": "#506784",
            "showbackground": true,
            "ticks": "",
            "zerolinecolor": "#C8D4E3"
           },
           "zaxis": {
            "backgroundcolor": "rgb(17,17,17)",
            "gridcolor": "#506784",
            "gridwidth": 2,
            "linecolor": "#506784",
            "showbackground": true,
            "ticks": "",
            "zerolinecolor": "#C8D4E3"
           }
          },
          "shapedefaults": {
           "line": {
            "color": "#f2f5fa"
           }
          },
          "sliderdefaults": {
           "bgcolor": "#C8D4E3",
           "bordercolor": "rgb(17,17,17)",
           "borderwidth": 1,
           "tickwidth": 0
          },
          "ternary": {
           "aaxis": {
            "gridcolor": "#506784",
            "linecolor": "#506784",
            "ticks": ""
           },
           "baxis": {
            "gridcolor": "#506784",
            "linecolor": "#506784",
            "ticks": ""
           },
           "bgcolor": "rgb(17,17,17)",
           "caxis": {
            "gridcolor": "#506784",
            "linecolor": "#506784",
            "ticks": ""
           }
          },
          "title": {
           "x": 0.05
          },
          "updatemenudefaults": {
           "bgcolor": "#506784",
           "borderwidth": 0
          },
          "xaxis": {
           "automargin": true,
           "gridcolor": "#283442",
           "linecolor": "#506784",
           "ticks": "",
           "title": {
            "standoff": 15
           },
           "zerolinecolor": "#283442",
           "zerolinewidth": 2
          },
          "yaxis": {
           "automargin": true,
           "gridcolor": "#283442",
           "linecolor": "#506784",
           "ticks": "",
           "title": {
            "standoff": 15
           },
           "zerolinecolor": "#283442",
           "zerolinewidth": 2
          }
         }
        },
        "title": {
         "text": "Users Throughout 2024 by Ride"
        },
        "width": 1000,
        "xaxis": {
         "anchor": "y",
         "domain": [
          0,
          1
         ],
         "dtick": "M1",
         "tickformat": "%b",
         "title": {
          "text": "Months"
         }
        },
        "yaxis": {
         "anchor": "x",
         "domain": [
          0,
          1
         ],
         "dtick": 10000,
         "range": [
          0,
          null
         ],
         "side": "left",
         "title": {
          "text": "User count"
         }
        }
       }
      }
     },
     "metadata": {},
     "output_type": "display_data"
    }
   ],
   "source": [
    "legend_name = {\n",
    "    'classic_bike': 'Classic Bike',\n",
    "    'electric_bike': 'Electric Bike',\n",
    "    'electric_scooter': 'Electric Scooter'\n",
    "}\n",
    "\n",
    "ride_year_line = px.line(\n",
    "    ride_year_count_df,\n",
    "    x='week_start',\n",
    "    y='count',\n",
    "    color='rideable_type',\n",
    "    width=1000,\n",
    "    template='plotly_dark',\n",
    "    color_discrete_sequence=['brown', 'dodgerblue', 'lime'],\n",
    ")\n",
    "\n",
    "ride_year_line.update_layout(\n",
    "    xaxis_title='Months', \n",
    "    yaxis_title='User count', \n",
    "    title='Users Throughout 2024 by Ride',\n",
    "    legend_title_text='Ride type',\n",
    "    yaxis=dict(\n",
    "        range=[0, None],\n",
    "        dtick=10000,\n",
    "        side='left'\n",
    "    ),\n",
    "    xaxis=dict(\n",
    "        dtick=\"M1\",\n",
    "        tickformat=\"%b\",\n",
    "    ),\n",
    "    margin=dict(\n",
    "        pad=10\n",
    "    ),\n",
    ")\n",
    "\n",
    "ride_year_line.for_each_trace(lambda x: x.update(name=legend_name[x.name]))\n",
    "\n",
    "ride_year_line.show()"
   ]
  },
  {
   "cell_type": "markdown",
   "id": "dbe1b38b",
   "metadata": {},
   "source": [
    "According to the graph above:\n",
    "* There is seasonal trend in usage - users prefer to use classic bikes over electric bikes especially in warmer months\n",
    "* Electric bikes show more consistent, sustained level throughout the year while classic bikes shows more volatile patterns\n",
    "* Electric scooters were discontinued after 5 weeks\n"
   ]
  },
  {
   "cell_type": "markdown",
   "id": "0190d118",
   "metadata": {},
   "source": [
    "### Number of Users throughout the Year by Ride type and Subscription\n",
    "* Electric scooter won't be included in this analisis"
   ]
  },
  {
   "cell_type": "code",
   "execution_count": 149,
   "id": "2f2005f3",
   "metadata": {},
   "outputs": [
    {
     "data": {
      "text/html": [
       "<div>\n",
       "<style scoped>\n",
       "    .dataframe tbody tr th:only-of-type {\n",
       "        vertical-align: middle;\n",
       "    }\n",
       "\n",
       "    .dataframe tbody tr th {\n",
       "        vertical-align: top;\n",
       "    }\n",
       "\n",
       "    .dataframe thead th {\n",
       "        text-align: right;\n",
       "    }\n",
       "</style>\n",
       "<table border=\"1\" class=\"dataframe\">\n",
       "  <thead>\n",
       "    <tr style=\"text-align: right;\">\n",
       "      <th></th>\n",
       "      <th>ride_id</th>\n",
       "      <th>rideable_type</th>\n",
       "      <th>started_at</th>\n",
       "      <th>ended_at</th>\n",
       "      <th>ride_time</th>\n",
       "      <th>month</th>\n",
       "      <th>weekday</th>\n",
       "      <th>start_station_name</th>\n",
       "      <th>end_station_name</th>\n",
       "      <th>member_casual</th>\n",
       "      <th>start_lat</th>\n",
       "      <th>start_lng</th>\n",
       "      <th>end_lat</th>\n",
       "      <th>end_lng</th>\n",
       "      <th>week_start</th>\n",
       "    </tr>\n",
       "  </thead>\n",
       "  <tbody>\n",
       "    <tr>\n",
       "      <th>48853</th>\n",
       "      <td>56F5C3ED5178C131</td>\n",
       "      <td>classic_bike</td>\n",
       "      <td>2024-01-01 00:01:01</td>\n",
       "      <td>2024-01-01 00:24:12</td>\n",
       "      <td>0 days 00:23:11</td>\n",
       "      <td>1</td>\n",
       "      <td>Monday</td>\n",
       "      <td>LaSalle St &amp; Illinois St</td>\n",
       "      <td>Indiana Ave &amp; Roosevelt Rd</td>\n",
       "      <td>member</td>\n",
       "      <td>41.890762</td>\n",
       "      <td>-87.631697</td>\n",
       "      <td>41.867888</td>\n",
       "      <td>-87.623041</td>\n",
       "      <td>2024-01-01</td>\n",
       "    </tr>\n",
       "    <tr>\n",
       "      <th>26576</th>\n",
       "      <td>70BDF49A30C8BFFC</td>\n",
       "      <td>classic_bike</td>\n",
       "      <td>2024-01-01 00:02:15</td>\n",
       "      <td>2024-01-01 00:07:01</td>\n",
       "      <td>0 days 00:04:46</td>\n",
       "      <td>1</td>\n",
       "      <td>Monday</td>\n",
       "      <td>Sheffield Ave &amp; Fullerton Ave</td>\n",
       "      <td>Greenview Ave &amp; Fullerton Ave</td>\n",
       "      <td>casual</td>\n",
       "      <td>41.925602</td>\n",
       "      <td>-87.653708</td>\n",
       "      <td>41.925330</td>\n",
       "      <td>-87.665800</td>\n",
       "      <td>2024-01-01</td>\n",
       "    </tr>\n",
       "    <tr>\n",
       "      <th>46733</th>\n",
       "      <td>B7F1F63BD1AFF4E9</td>\n",
       "      <td>classic_bike</td>\n",
       "      <td>2024-01-01 00:06:59</td>\n",
       "      <td>2024-01-01 00:17:21</td>\n",
       "      <td>0 days 00:10:22</td>\n",
       "      <td>1</td>\n",
       "      <td>Monday</td>\n",
       "      <td>Western Ave &amp; Howard St</td>\n",
       "      <td>Clark St &amp; Lunt Ave</td>\n",
       "      <td>member</td>\n",
       "      <td>42.018901</td>\n",
       "      <td>-87.690048</td>\n",
       "      <td>42.009011</td>\n",
       "      <td>-87.674112</td>\n",
       "      <td>2024-01-01</td>\n",
       "    </tr>\n",
       "    <tr>\n",
       "      <th>40692</th>\n",
       "      <td>444DD0D82A50BA8C</td>\n",
       "      <td>classic_bike</td>\n",
       "      <td>2024-01-01 00:07:45</td>\n",
       "      <td>2024-01-01 00:15:41</td>\n",
       "      <td>0 days 00:07:56</td>\n",
       "      <td>1</td>\n",
       "      <td>Monday</td>\n",
       "      <td>DuSable Lake Shore Dr &amp; North Blvd</td>\n",
       "      <td>Sedgwick St &amp; Webster Ave</td>\n",
       "      <td>casual</td>\n",
       "      <td>41.911722</td>\n",
       "      <td>-87.626804</td>\n",
       "      <td>41.922167</td>\n",
       "      <td>-87.638888</td>\n",
       "      <td>2024-01-01</td>\n",
       "    </tr>\n",
       "    <tr>\n",
       "      <th>71103</th>\n",
       "      <td>510C1C0AA564ADF0</td>\n",
       "      <td>classic_bike</td>\n",
       "      <td>2024-01-01 00:07:57</td>\n",
       "      <td>2024-01-01 00:29:42</td>\n",
       "      <td>0 days 00:21:45</td>\n",
       "      <td>1</td>\n",
       "      <td>Monday</td>\n",
       "      <td>Clinton St &amp; Tilden St</td>\n",
       "      <td>LaSalle St &amp; Illinois St</td>\n",
       "      <td>casual</td>\n",
       "      <td>41.875885</td>\n",
       "      <td>-87.640795</td>\n",
       "      <td>41.890762</td>\n",
       "      <td>-87.631697</td>\n",
       "      <td>2024-01-01</td>\n",
       "    </tr>\n",
       "  </tbody>\n",
       "</table>\n",
       "</div>"
      ],
      "text/plain": [
       "                ride_id rideable_type          started_at            ended_at  \\\n",
       "48853  56F5C3ED5178C131  classic_bike 2024-01-01 00:01:01 2024-01-01 00:24:12   \n",
       "26576  70BDF49A30C8BFFC  classic_bike 2024-01-01 00:02:15 2024-01-01 00:07:01   \n",
       "46733  B7F1F63BD1AFF4E9  classic_bike 2024-01-01 00:06:59 2024-01-01 00:17:21   \n",
       "40692  444DD0D82A50BA8C  classic_bike 2024-01-01 00:07:45 2024-01-01 00:15:41   \n",
       "71103  510C1C0AA564ADF0  classic_bike 2024-01-01 00:07:57 2024-01-01 00:29:42   \n",
       "\n",
       "            ride_time  month weekday                  start_station_name  \\\n",
       "48853 0 days 00:23:11      1  Monday            LaSalle St & Illinois St   \n",
       "26576 0 days 00:04:46      1  Monday       Sheffield Ave & Fullerton Ave   \n",
       "46733 0 days 00:10:22      1  Monday             Western Ave & Howard St   \n",
       "40692 0 days 00:07:56      1  Monday  DuSable Lake Shore Dr & North Blvd   \n",
       "71103 0 days 00:21:45      1  Monday              Clinton St & Tilden St   \n",
       "\n",
       "                    end_station_name member_casual  start_lat  start_lng  \\\n",
       "48853     Indiana Ave & Roosevelt Rd        member  41.890762 -87.631697   \n",
       "26576  Greenview Ave & Fullerton Ave        casual  41.925602 -87.653708   \n",
       "46733            Clark St & Lunt Ave        member  42.018901 -87.690048   \n",
       "40692      Sedgwick St & Webster Ave        casual  41.911722 -87.626804   \n",
       "71103       LaSalle St & Illinois St        casual  41.875885 -87.640795   \n",
       "\n",
       "         end_lat    end_lng  week_start  \n",
       "48853  41.867888 -87.623041  2024-01-01  \n",
       "26576  41.925330 -87.665800  2024-01-01  \n",
       "46733  42.009011 -87.674112  2024-01-01  \n",
       "40692  41.922167 -87.638888  2024-01-01  \n",
       "71103  41.890762 -87.631697  2024-01-01  "
      ]
     },
     "execution_count": 149,
     "metadata": {},
     "output_type": "execute_result"
    }
   ],
   "source": [
    "bike_ebike_df = analysis_df[(analysis_df['rideable_type'] == 'classic_bike') | (analysis_df['rideable_type'] == 'electric_bike')]\n",
    "bike_ebike_df.head()"
   ]
  },
  {
   "cell_type": "code",
   "execution_count": 150,
   "id": "94f75414",
   "metadata": {},
   "outputs": [
    {
     "data": {
      "text/html": [
       "<div>\n",
       "<style scoped>\n",
       "    .dataframe tbody tr th:only-of-type {\n",
       "        vertical-align: middle;\n",
       "    }\n",
       "\n",
       "    .dataframe tbody tr th {\n",
       "        vertical-align: top;\n",
       "    }\n",
       "\n",
       "    .dataframe thead th {\n",
       "        text-align: right;\n",
       "    }\n",
       "</style>\n",
       "<table border=\"1\" class=\"dataframe\">\n",
       "  <thead>\n",
       "    <tr style=\"text-align: right;\">\n",
       "      <th></th>\n",
       "      <th>member_casual</th>\n",
       "      <th>rideable_type</th>\n",
       "      <th>week_start</th>\n",
       "      <th>count</th>\n",
       "    </tr>\n",
       "  </thead>\n",
       "  <tbody>\n",
       "    <tr>\n",
       "      <th>0</th>\n",
       "      <td>casual</td>\n",
       "      <td>classic_bike</td>\n",
       "      <td>2024-01-01</td>\n",
       "      <td>3252</td>\n",
       "    </tr>\n",
       "    <tr>\n",
       "      <th>1</th>\n",
       "      <td>casual</td>\n",
       "      <td>classic_bike</td>\n",
       "      <td>2024-01-08</td>\n",
       "      <td>1855</td>\n",
       "    </tr>\n",
       "    <tr>\n",
       "      <th>2</th>\n",
       "      <td>casual</td>\n",
       "      <td>classic_bike</td>\n",
       "      <td>2024-01-15</td>\n",
       "      <td>1137</td>\n",
       "    </tr>\n",
       "    <tr>\n",
       "      <th>3</th>\n",
       "      <td>casual</td>\n",
       "      <td>classic_bike</td>\n",
       "      <td>2024-01-22</td>\n",
       "      <td>2435</td>\n",
       "    </tr>\n",
       "    <tr>\n",
       "      <th>4</th>\n",
       "      <td>casual</td>\n",
       "      <td>classic_bike</td>\n",
       "      <td>2024-01-29</td>\n",
       "      <td>5396</td>\n",
       "    </tr>\n",
       "  </tbody>\n",
       "</table>\n",
       "</div>"
      ],
      "text/plain": [
       "  member_casual rideable_type  week_start  count\n",
       "0        casual  classic_bike  2024-01-01   3252\n",
       "1        casual  classic_bike  2024-01-08   1855\n",
       "2        casual  classic_bike  2024-01-15   1137\n",
       "3        casual  classic_bike  2024-01-22   2435\n",
       "4        casual  classic_bike  2024-01-29   5396"
      ]
     },
     "execution_count": 150,
     "metadata": {},
     "output_type": "execute_result"
    }
   ],
   "source": [
    "ride_member_year_count_df = (\n",
    "    bike_ebike_df\n",
    "    .value_counts(['member_casual', 'rideable_type', 'week_start', ])\n",
    "    .sort_index()\n",
    "    .reset_index(name='count')\n",
    ")\n",
    "\n",
    "ride_member_year_count_df.head()"
   ]
  },
  {
   "cell_type": "code",
   "execution_count": 151,
   "id": "32872a83",
   "metadata": {},
   "outputs": [
    {
     "data": {
      "text/html": [
       "<div>\n",
       "<style scoped>\n",
       "    .dataframe tbody tr th:only-of-type {\n",
       "        vertical-align: middle;\n",
       "    }\n",
       "\n",
       "    .dataframe tbody tr th {\n",
       "        vertical-align: top;\n",
       "    }\n",
       "\n",
       "    .dataframe thead th {\n",
       "        text-align: right;\n",
       "    }\n",
       "</style>\n",
       "<table border=\"1\" class=\"dataframe\">\n",
       "  <thead>\n",
       "    <tr style=\"text-align: right;\">\n",
       "      <th></th>\n",
       "      <th>subscription_rideable_type</th>\n",
       "      <th>week_start</th>\n",
       "      <th>count</th>\n",
       "    </tr>\n",
       "  </thead>\n",
       "  <tbody>\n",
       "    <tr>\n",
       "      <th>0</th>\n",
       "      <td>casual_classic_bike</td>\n",
       "      <td>2024-01-01</td>\n",
       "      <td>3252</td>\n",
       "    </tr>\n",
       "    <tr>\n",
       "      <th>1</th>\n",
       "      <td>casual_classic_bike</td>\n",
       "      <td>2024-01-08</td>\n",
       "      <td>1855</td>\n",
       "    </tr>\n",
       "    <tr>\n",
       "      <th>2</th>\n",
       "      <td>casual_classic_bike</td>\n",
       "      <td>2024-01-15</td>\n",
       "      <td>1137</td>\n",
       "    </tr>\n",
       "    <tr>\n",
       "      <th>3</th>\n",
       "      <td>casual_classic_bike</td>\n",
       "      <td>2024-01-22</td>\n",
       "      <td>2435</td>\n",
       "    </tr>\n",
       "    <tr>\n",
       "      <th>4</th>\n",
       "      <td>casual_classic_bike</td>\n",
       "      <td>2024-01-29</td>\n",
       "      <td>5396</td>\n",
       "    </tr>\n",
       "  </tbody>\n",
       "</table>\n",
       "</div>"
      ],
      "text/plain": [
       "  subscription_rideable_type  week_start  count\n",
       "0        casual_classic_bike  2024-01-01   3252\n",
       "1        casual_classic_bike  2024-01-08   1855\n",
       "2        casual_classic_bike  2024-01-15   1137\n",
       "3        casual_classic_bike  2024-01-22   2435\n",
       "4        casual_classic_bike  2024-01-29   5396"
      ]
     },
     "execution_count": 151,
     "metadata": {},
     "output_type": "execute_result"
    }
   ],
   "source": [
    "subscription_rideable_type = ride_member_year_count_df['member_casual'].astype(str) + '_' + ride_member_year_count_df['rideable_type'].astype(str)\n",
    "ride_member_year_count_df.insert(0, 'subscription_rideable_type', subscription_rideable_type)\n",
    "ride_member_year_count_df.astype({'subscription_rideable_type': 'category'})\n",
    "\n",
    "ride_member_year_count_df = ride_member_year_count_df.drop(columns=['member_casual', 'rideable_type'])\n",
    "ride_member_year_count_df.head()"
   ]
  },
  {
   "cell_type": "code",
   "execution_count": 152,
   "id": "425b4da9",
   "metadata": {},
   "outputs": [
    {
     "data": {
      "application/vnd.plotly.v1+json": {
       "config": {
        "plotlyServerURL": "https://plot.ly"
       },
       "data": [
        {
         "hovertemplate": "subscription_rideable_type=casual_classic_bike<br>variable=count<br>week_start=%{x}<br>value=%{y}<extra></extra>",
         "legendgroup": "casual_classic_bike",
         "line": {
          "color": "rgb(90, 90, 255)",
          "dash": "solid"
         },
         "marker": {
          "symbol": "circle"
         },
         "mode": "lines",
         "name": "Casual Classic Bike",
         "orientation": "v",
         "showlegend": true,
         "type": "scatter",
         "x": [
          "2024-01-01",
          "2024-01-08",
          "2024-01-15",
          "2024-01-22",
          "2024-01-29",
          "2024-02-05",
          "2024-02-12",
          "2024-02-19",
          "2024-02-26",
          "2024-03-04",
          "2024-03-11",
          "2024-03-18",
          "2024-03-25",
          "2024-04-01",
          "2024-04-08",
          "2024-04-15",
          "2024-04-22",
          "2024-04-29",
          "2024-05-06",
          "2024-05-13",
          "2024-05-20",
          "2024-05-27",
          "2024-06-03",
          "2024-06-10",
          "2024-06-17",
          "2024-06-24",
          "2024-07-01",
          "2024-07-08",
          "2024-07-15",
          "2024-07-22",
          "2024-07-29",
          "2024-08-05",
          "2024-08-12",
          "2024-08-19",
          "2024-08-26",
          "2024-09-02",
          "2024-09-09",
          "2024-09-16",
          "2024-09-23",
          "2024-09-30",
          "2024-10-07",
          "2024-10-14",
          "2024-10-21",
          "2024-10-28",
          "2024-11-04",
          "2024-11-11",
          "2024-11-18",
          "2024-11-25",
          "2024-12-02",
          "2024-12-09",
          "2024-12-16",
          "2024-12-23",
          "2024-12-30"
         ],
         "xaxis": "x",
         "y": {
          "bdata": "tAwAAD8HAABxBAAAgwkAABQVAABHGwAAOBIAAI8cAADmLwAAIRsAALMtAABOEwAA3R8AAJgUAACTTgAA3S8AAHM6AAANVAAAZFoAABZyAABncgAAD2AAAJN3AACwhQAAx48AAG59AADmlwAAbHoAADiYAACikAAAApUAAKGWAADTagAAQHoAAEqFAAAXdAAA/XkAAHdqAACvUAAAEGEAAGx5AAARSwAAwEUAALU1AABPKgAAUSwAAKgcAAA2DQAAdw8AACQMAAAMCgAA9QgAADADAAA=",
          "dtype": "i4"
         },
         "yaxis": "y"
        },
        {
         "hovertemplate": "subscription_rideable_type=casual_electric_bike<br>variable=count<br>week_start=%{x}<br>value=%{y}<extra></extra>",
         "legendgroup": "casual_electric_bike",
         "line": {
          "color": "rgb(30, 30, 255)",
          "dash": "solid"
         },
         "marker": {
          "symbol": "circle"
         },
         "mode": "lines",
         "name": "Casual Electric Bike",
         "orientation": "v",
         "showlegend": true,
         "type": "scatter",
         "x": [
          "2024-01-01",
          "2024-01-08",
          "2024-01-15",
          "2024-01-22",
          "2024-01-29",
          "2024-02-05",
          "2024-02-12",
          "2024-02-19",
          "2024-02-26",
          "2024-03-04",
          "2024-03-11",
          "2024-03-18",
          "2024-03-25",
          "2024-04-01",
          "2024-04-08",
          "2024-04-15",
          "2024-04-22",
          "2024-04-29",
          "2024-05-06",
          "2024-05-13",
          "2024-05-20",
          "2024-05-27",
          "2024-06-03",
          "2024-06-10",
          "2024-06-17",
          "2024-06-24",
          "2024-07-01",
          "2024-07-08",
          "2024-07-15",
          "2024-07-22",
          "2024-07-29",
          "2024-08-05",
          "2024-08-12",
          "2024-08-19",
          "2024-08-26",
          "2024-09-02",
          "2024-09-09",
          "2024-09-16",
          "2024-09-23",
          "2024-09-30",
          "2024-10-07",
          "2024-10-14",
          "2024-10-21",
          "2024-10-28",
          "2024-11-04",
          "2024-11-11",
          "2024-11-18",
          "2024-11-25",
          "2024-12-02",
          "2024-12-09",
          "2024-12-16",
          "2024-12-23",
          "2024-12-30"
         ],
         "xaxis": "x",
         "y": {
          "bdata": "kgoXBk0CgAaqBjEI6gdEDdwTWRARGhYQSRVnEUorESI6JHwq3iciLgswYjCZPBk8e0MLO7xG9jkeRHg//EWzRbs8GkyOSFFAo0McP6k4PkClPsMxeC/bKvsicB7HFaYLFxD/DREN3QoPBA==",
          "dtype": "i2"
         },
         "yaxis": "y"
        },
        {
         "hovertemplate": "subscription_rideable_type=member_classic_bike<br>variable=count<br>week_start=%{x}<br>value=%{y}<extra></extra>",
         "legendgroup": "member_classic_bike",
         "line": {
          "color": "rgb(255, 90, 90)",
          "dash": "solid"
         },
         "marker": {
          "symbol": "circle"
         },
         "mode": "lines",
         "name": "Member Classic Bike",
         "orientation": "v",
         "showlegend": true,
         "type": "scatter",
         "x": [
          "2024-01-01",
          "2024-01-08",
          "2024-01-15",
          "2024-01-22",
          "2024-01-29",
          "2024-02-05",
          "2024-02-12",
          "2024-02-19",
          "2024-02-26",
          "2024-03-04",
          "2024-03-11",
          "2024-03-18",
          "2024-03-25",
          "2024-04-01",
          "2024-04-08",
          "2024-04-15",
          "2024-04-22",
          "2024-04-29",
          "2024-05-06",
          "2024-05-13",
          "2024-05-20",
          "2024-05-27",
          "2024-06-03",
          "2024-06-10",
          "2024-06-17",
          "2024-06-24",
          "2024-07-01",
          "2024-07-08",
          "2024-07-15",
          "2024-07-22",
          "2024-07-29",
          "2024-08-05",
          "2024-08-12",
          "2024-08-19",
          "2024-08-26",
          "2024-09-02",
          "2024-09-09",
          "2024-09-16",
          "2024-09-23",
          "2024-09-30",
          "2024-10-07",
          "2024-10-14",
          "2024-10-21",
          "2024-10-28",
          "2024-11-04",
          "2024-11-11",
          "2024-11-18",
          "2024-11-25",
          "2024-12-02",
          "2024-12-09",
          "2024-12-16",
          "2024-12-23",
          "2024-12-30"
         ],
         "xaxis": "x",
         "y": {
          "bdata": "ij8AAJk1AACkIgAARjoAAItnAAAVbwAAxlsAAJhoAACXeAAA5F0AAG9sAAD/UQAA1VoAAE9HAAARjQAA73wAAK18AAATmQAAMJsAANmyAAA/sQAAdZcAAMy3AACTugAAbrkAAPKuAAAGowAAELIAALzHAAAHwwAAzbwAAMy/AAD5qgAAzrIAAKitAABYrgAAT8IAACe1AABynQAAeK4AADaxAADfhgAAxZ0AAPaKAABDdQAAPX0AADpeAAC5MAAACkUAABs+AAA4NAAAGhoAAEUKAAA=",
          "dtype": "i4"
         },
         "yaxis": "y"
        },
        {
         "hovertemplate": "subscription_rideable_type=member_electric_bike<br>variable=count<br>week_start=%{x}<br>value=%{y}<extra></extra>",
         "legendgroup": "member_electric_bike",
         "line": {
          "color": "rgb(255, 30, 30)",
          "dash": "solid"
         },
         "marker": {
          "symbol": "circle"
         },
         "mode": "lines",
         "name": "Member Electric Bike",
         "orientation": "v",
         "showlegend": true,
         "type": "scatter",
         "x": [
          "2024-01-01",
          "2024-01-08",
          "2024-01-15",
          "2024-01-22",
          "2024-01-29",
          "2024-02-05",
          "2024-02-12",
          "2024-02-19",
          "2024-02-26",
          "2024-03-04",
          "2024-03-11",
          "2024-03-18",
          "2024-03-25",
          "2024-04-01",
          "2024-04-08",
          "2024-04-15",
          "2024-04-22",
          "2024-04-29",
          "2024-05-06",
          "2024-05-13",
          "2024-05-20",
          "2024-05-27",
          "2024-06-03",
          "2024-06-10",
          "2024-06-17",
          "2024-06-24",
          "2024-07-01",
          "2024-07-08",
          "2024-07-15",
          "2024-07-22",
          "2024-07-29",
          "2024-08-05",
          "2024-08-12",
          "2024-08-19",
          "2024-08-26",
          "2024-09-02",
          "2024-09-09",
          "2024-09-16",
          "2024-09-23",
          "2024-09-30",
          "2024-10-07",
          "2024-10-14",
          "2024-10-21",
          "2024-10-28",
          "2024-11-04",
          "2024-11-11",
          "2024-11-18",
          "2024-11-25",
          "2024-12-02",
          "2024-12-09",
          "2024-12-16",
          "2024-12-23",
          "2024-12-30"
         ],
         "xaxis": "x",
         "y": {
          "bdata": "EiQeHr8JWhozGYsatxwbKBAvyC9TNwIybze4LqpJJkV8SKtL0EOrSyNK0Ul+VjNUWlbTULRND1PZW+RZU1wYXlhYu2b/YLNZ72elYTRe6Wf9YblUaVg1V+ZN4katOWcg+zELLrMsJBcrCQ==",
          "dtype": "i2"
         },
         "yaxis": "y"
        }
       ],
       "layout": {
        "legend": {
         "title": {
          "text": "Ride type"
         },
         "tracegroupgap": 0
        },
        "margin": {
         "pad": 10,
         "t": 60
        },
        "template": {
         "data": {
          "bar": [
           {
            "error_x": {
             "color": "#f2f5fa"
            },
            "error_y": {
             "color": "#f2f5fa"
            },
            "marker": {
             "line": {
              "color": "rgb(17,17,17)",
              "width": 0.5
             },
             "pattern": {
              "fillmode": "overlay",
              "size": 10,
              "solidity": 0.2
             }
            },
            "type": "bar"
           }
          ],
          "barpolar": [
           {
            "marker": {
             "line": {
              "color": "rgb(17,17,17)",
              "width": 0.5
             },
             "pattern": {
              "fillmode": "overlay",
              "size": 10,
              "solidity": 0.2
             }
            },
            "type": "barpolar"
           }
          ],
          "carpet": [
           {
            "aaxis": {
             "endlinecolor": "#A2B1C6",
             "gridcolor": "#506784",
             "linecolor": "#506784",
             "minorgridcolor": "#506784",
             "startlinecolor": "#A2B1C6"
            },
            "baxis": {
             "endlinecolor": "#A2B1C6",
             "gridcolor": "#506784",
             "linecolor": "#506784",
             "minorgridcolor": "#506784",
             "startlinecolor": "#A2B1C6"
            },
            "type": "carpet"
           }
          ],
          "choropleth": [
           {
            "colorbar": {
             "outlinewidth": 0,
             "ticks": ""
            },
            "type": "choropleth"
           }
          ],
          "contour": [
           {
            "colorbar": {
             "outlinewidth": 0,
             "ticks": ""
            },
            "colorscale": [
             [
              0,
              "#0d0887"
             ],
             [
              0.1111111111111111,
              "#46039f"
             ],
             [
              0.2222222222222222,
              "#7201a8"
             ],
             [
              0.3333333333333333,
              "#9c179e"
             ],
             [
              0.4444444444444444,
              "#bd3786"
             ],
             [
              0.5555555555555556,
              "#d8576b"
             ],
             [
              0.6666666666666666,
              "#ed7953"
             ],
             [
              0.7777777777777778,
              "#fb9f3a"
             ],
             [
              0.8888888888888888,
              "#fdca26"
             ],
             [
              1,
              "#f0f921"
             ]
            ],
            "type": "contour"
           }
          ],
          "contourcarpet": [
           {
            "colorbar": {
             "outlinewidth": 0,
             "ticks": ""
            },
            "type": "contourcarpet"
           }
          ],
          "heatmap": [
           {
            "colorbar": {
             "outlinewidth": 0,
             "ticks": ""
            },
            "colorscale": [
             [
              0,
              "#0d0887"
             ],
             [
              0.1111111111111111,
              "#46039f"
             ],
             [
              0.2222222222222222,
              "#7201a8"
             ],
             [
              0.3333333333333333,
              "#9c179e"
             ],
             [
              0.4444444444444444,
              "#bd3786"
             ],
             [
              0.5555555555555556,
              "#d8576b"
             ],
             [
              0.6666666666666666,
              "#ed7953"
             ],
             [
              0.7777777777777778,
              "#fb9f3a"
             ],
             [
              0.8888888888888888,
              "#fdca26"
             ],
             [
              1,
              "#f0f921"
             ]
            ],
            "type": "heatmap"
           }
          ],
          "histogram": [
           {
            "marker": {
             "pattern": {
              "fillmode": "overlay",
              "size": 10,
              "solidity": 0.2
             }
            },
            "type": "histogram"
           }
          ],
          "histogram2d": [
           {
            "colorbar": {
             "outlinewidth": 0,
             "ticks": ""
            },
            "colorscale": [
             [
              0,
              "#0d0887"
             ],
             [
              0.1111111111111111,
              "#46039f"
             ],
             [
              0.2222222222222222,
              "#7201a8"
             ],
             [
              0.3333333333333333,
              "#9c179e"
             ],
             [
              0.4444444444444444,
              "#bd3786"
             ],
             [
              0.5555555555555556,
              "#d8576b"
             ],
             [
              0.6666666666666666,
              "#ed7953"
             ],
             [
              0.7777777777777778,
              "#fb9f3a"
             ],
             [
              0.8888888888888888,
              "#fdca26"
             ],
             [
              1,
              "#f0f921"
             ]
            ],
            "type": "histogram2d"
           }
          ],
          "histogram2dcontour": [
           {
            "colorbar": {
             "outlinewidth": 0,
             "ticks": ""
            },
            "colorscale": [
             [
              0,
              "#0d0887"
             ],
             [
              0.1111111111111111,
              "#46039f"
             ],
             [
              0.2222222222222222,
              "#7201a8"
             ],
             [
              0.3333333333333333,
              "#9c179e"
             ],
             [
              0.4444444444444444,
              "#bd3786"
             ],
             [
              0.5555555555555556,
              "#d8576b"
             ],
             [
              0.6666666666666666,
              "#ed7953"
             ],
             [
              0.7777777777777778,
              "#fb9f3a"
             ],
             [
              0.8888888888888888,
              "#fdca26"
             ],
             [
              1,
              "#f0f921"
             ]
            ],
            "type": "histogram2dcontour"
           }
          ],
          "mesh3d": [
           {
            "colorbar": {
             "outlinewidth": 0,
             "ticks": ""
            },
            "type": "mesh3d"
           }
          ],
          "parcoords": [
           {
            "line": {
             "colorbar": {
              "outlinewidth": 0,
              "ticks": ""
             }
            },
            "type": "parcoords"
           }
          ],
          "pie": [
           {
            "automargin": true,
            "type": "pie"
           }
          ],
          "scatter": [
           {
            "marker": {
             "line": {
              "color": "#283442"
             }
            },
            "type": "scatter"
           }
          ],
          "scatter3d": [
           {
            "line": {
             "colorbar": {
              "outlinewidth": 0,
              "ticks": ""
             }
            },
            "marker": {
             "colorbar": {
              "outlinewidth": 0,
              "ticks": ""
             }
            },
            "type": "scatter3d"
           }
          ],
          "scattercarpet": [
           {
            "marker": {
             "colorbar": {
              "outlinewidth": 0,
              "ticks": ""
             }
            },
            "type": "scattercarpet"
           }
          ],
          "scattergeo": [
           {
            "marker": {
             "colorbar": {
              "outlinewidth": 0,
              "ticks": ""
             }
            },
            "type": "scattergeo"
           }
          ],
          "scattergl": [
           {
            "marker": {
             "line": {
              "color": "#283442"
             }
            },
            "type": "scattergl"
           }
          ],
          "scattermap": [
           {
            "marker": {
             "colorbar": {
              "outlinewidth": 0,
              "ticks": ""
             }
            },
            "type": "scattermap"
           }
          ],
          "scattermapbox": [
           {
            "marker": {
             "colorbar": {
              "outlinewidth": 0,
              "ticks": ""
             }
            },
            "type": "scattermapbox"
           }
          ],
          "scatterpolar": [
           {
            "marker": {
             "colorbar": {
              "outlinewidth": 0,
              "ticks": ""
             }
            },
            "type": "scatterpolar"
           }
          ],
          "scatterpolargl": [
           {
            "marker": {
             "colorbar": {
              "outlinewidth": 0,
              "ticks": ""
             }
            },
            "type": "scatterpolargl"
           }
          ],
          "scatterternary": [
           {
            "marker": {
             "colorbar": {
              "outlinewidth": 0,
              "ticks": ""
             }
            },
            "type": "scatterternary"
           }
          ],
          "surface": [
           {
            "colorbar": {
             "outlinewidth": 0,
             "ticks": ""
            },
            "colorscale": [
             [
              0,
              "#0d0887"
             ],
             [
              0.1111111111111111,
              "#46039f"
             ],
             [
              0.2222222222222222,
              "#7201a8"
             ],
             [
              0.3333333333333333,
              "#9c179e"
             ],
             [
              0.4444444444444444,
              "#bd3786"
             ],
             [
              0.5555555555555556,
              "#d8576b"
             ],
             [
              0.6666666666666666,
              "#ed7953"
             ],
             [
              0.7777777777777778,
              "#fb9f3a"
             ],
             [
              0.8888888888888888,
              "#fdca26"
             ],
             [
              1,
              "#f0f921"
             ]
            ],
            "type": "surface"
           }
          ],
          "table": [
           {
            "cells": {
             "fill": {
              "color": "#506784"
             },
             "line": {
              "color": "rgb(17,17,17)"
             }
            },
            "header": {
             "fill": {
              "color": "#2a3f5f"
             },
             "line": {
              "color": "rgb(17,17,17)"
             }
            },
            "type": "table"
           }
          ]
         },
         "layout": {
          "annotationdefaults": {
           "arrowcolor": "#f2f5fa",
           "arrowhead": 0,
           "arrowwidth": 1
          },
          "autotypenumbers": "strict",
          "coloraxis": {
           "colorbar": {
            "outlinewidth": 0,
            "ticks": ""
           }
          },
          "colorscale": {
           "diverging": [
            [
             0,
             "#8e0152"
            ],
            [
             0.1,
             "#c51b7d"
            ],
            [
             0.2,
             "#de77ae"
            ],
            [
             0.3,
             "#f1b6da"
            ],
            [
             0.4,
             "#fde0ef"
            ],
            [
             0.5,
             "#f7f7f7"
            ],
            [
             0.6,
             "#e6f5d0"
            ],
            [
             0.7,
             "#b8e186"
            ],
            [
             0.8,
             "#7fbc41"
            ],
            [
             0.9,
             "#4d9221"
            ],
            [
             1,
             "#276419"
            ]
           ],
           "sequential": [
            [
             0,
             "#0d0887"
            ],
            [
             0.1111111111111111,
             "#46039f"
            ],
            [
             0.2222222222222222,
             "#7201a8"
            ],
            [
             0.3333333333333333,
             "#9c179e"
            ],
            [
             0.4444444444444444,
             "#bd3786"
            ],
            [
             0.5555555555555556,
             "#d8576b"
            ],
            [
             0.6666666666666666,
             "#ed7953"
            ],
            [
             0.7777777777777778,
             "#fb9f3a"
            ],
            [
             0.8888888888888888,
             "#fdca26"
            ],
            [
             1,
             "#f0f921"
            ]
           ],
           "sequentialminus": [
            [
             0,
             "#0d0887"
            ],
            [
             0.1111111111111111,
             "#46039f"
            ],
            [
             0.2222222222222222,
             "#7201a8"
            ],
            [
             0.3333333333333333,
             "#9c179e"
            ],
            [
             0.4444444444444444,
             "#bd3786"
            ],
            [
             0.5555555555555556,
             "#d8576b"
            ],
            [
             0.6666666666666666,
             "#ed7953"
            ],
            [
             0.7777777777777778,
             "#fb9f3a"
            ],
            [
             0.8888888888888888,
             "#fdca26"
            ],
            [
             1,
             "#f0f921"
            ]
           ]
          },
          "colorway": [
           "#636efa",
           "#EF553B",
           "#00cc96",
           "#ab63fa",
           "#FFA15A",
           "#19d3f3",
           "#FF6692",
           "#B6E880",
           "#FF97FF",
           "#FECB52"
          ],
          "font": {
           "color": "#f2f5fa"
          },
          "geo": {
           "bgcolor": "rgb(17,17,17)",
           "lakecolor": "rgb(17,17,17)",
           "landcolor": "rgb(17,17,17)",
           "showlakes": true,
           "showland": true,
           "subunitcolor": "#506784"
          },
          "hoverlabel": {
           "align": "left"
          },
          "hovermode": "closest",
          "mapbox": {
           "style": "dark"
          },
          "paper_bgcolor": "rgb(17,17,17)",
          "plot_bgcolor": "rgb(17,17,17)",
          "polar": {
           "angularaxis": {
            "gridcolor": "#506784",
            "linecolor": "#506784",
            "ticks": ""
           },
           "bgcolor": "rgb(17,17,17)",
           "radialaxis": {
            "gridcolor": "#506784",
            "linecolor": "#506784",
            "ticks": ""
           }
          },
          "scene": {
           "xaxis": {
            "backgroundcolor": "rgb(17,17,17)",
            "gridcolor": "#506784",
            "gridwidth": 2,
            "linecolor": "#506784",
            "showbackground": true,
            "ticks": "",
            "zerolinecolor": "#C8D4E3"
           },
           "yaxis": {
            "backgroundcolor": "rgb(17,17,17)",
            "gridcolor": "#506784",
            "gridwidth": 2,
            "linecolor": "#506784",
            "showbackground": true,
            "ticks": "",
            "zerolinecolor": "#C8D4E3"
           },
           "zaxis": {
            "backgroundcolor": "rgb(17,17,17)",
            "gridcolor": "#506784",
            "gridwidth": 2,
            "linecolor": "#506784",
            "showbackground": true,
            "ticks": "",
            "zerolinecolor": "#C8D4E3"
           }
          },
          "shapedefaults": {
           "line": {
            "color": "#f2f5fa"
           }
          },
          "sliderdefaults": {
           "bgcolor": "#C8D4E3",
           "bordercolor": "rgb(17,17,17)",
           "borderwidth": 1,
           "tickwidth": 0
          },
          "ternary": {
           "aaxis": {
            "gridcolor": "#506784",
            "linecolor": "#506784",
            "ticks": ""
           },
           "baxis": {
            "gridcolor": "#506784",
            "linecolor": "#506784",
            "ticks": ""
           },
           "bgcolor": "rgb(17,17,17)",
           "caxis": {
            "gridcolor": "#506784",
            "linecolor": "#506784",
            "ticks": ""
           }
          },
          "title": {
           "x": 0.05
          },
          "updatemenudefaults": {
           "bgcolor": "#506784",
           "borderwidth": 0
          },
          "xaxis": {
           "automargin": true,
           "gridcolor": "#283442",
           "linecolor": "#506784",
           "ticks": "",
           "title": {
            "standoff": 15
           },
           "zerolinecolor": "#283442",
           "zerolinewidth": 2
          },
          "yaxis": {
           "automargin": true,
           "gridcolor": "#283442",
           "linecolor": "#506784",
           "ticks": "",
           "title": {
            "standoff": 15
           },
           "zerolinecolor": "#283442",
           "zerolinewidth": 2
          }
         }
        },
        "title": {
         "text": "Users throughout the Year by Ride and Subscription"
        },
        "width": 1000,
        "xaxis": {
         "anchor": "y",
         "domain": [
          0,
          1
         ],
         "dtick": "M1",
         "tickformat": "%b",
         "title": {
          "text": "Months"
         }
        },
        "yaxis": {
         "anchor": "x",
         "domain": [
          0,
          1
         ],
         "dtick": 10000,
         "range": [
          0,
          null
         ],
         "side": "left",
         "title": {
          "text": "User count"
         }
        }
       }
      }
     },
     "metadata": {},
     "output_type": "display_data"
    }
   ],
   "source": [
    "legend_name = {\n",
    "    'casual_classic_bike': 'Casual Classic Bike',\n",
    "    'member_classic_bike': 'Member Classic Bike',\n",
    "    'casual_electric_bike': 'Casual Electric Bike',\n",
    "    'member_electric_bike': 'Member Electric Bike',\n",
    "}\n",
    "\n",
    "ride_bike_year_line = px.line(\n",
    "    ride_member_year_count_df,\n",
    "    x='week_start',\n",
    "    y=['count'],\n",
    "    color='subscription_rideable_type',\n",
    "    width=1000,\n",
    "    template='plotly_dark',\n",
    "    color_discrete_sequence=[\n",
    "        'rgb(90, 90, 255)',  # Casual Classic Bike\n",
    "        'rgb(30, 30, 255)',  # Casual Electric Bike\n",
    "        'rgb(255, 90, 90)',  # Member Classic Bike\n",
    "        'rgb(255, 30, 30)',  # Member Electric Bike\n",
    "    ]\n",
    ")\n",
    "\n",
    "ride_bike_year_line.update_layout(\n",
    "    xaxis_title='Months', \n",
    "    yaxis_title='User count', \n",
    "    title='Users throughout the Year by Ride and Subscription',\n",
    "    legend_title_text='Ride type',\n",
    "    yaxis=dict(\n",
    "        range=[0, None],\n",
    "        dtick=10000,\n",
    "        side='left'\n",
    "    ),\n",
    "    xaxis=dict(\n",
    "        dtick=\"M1\",\n",
    "        tickformat=\"%b\",\n",
    "    ),\n",
    "    margin=dict(\n",
    "        pad=10\n",
    "    ),\n",
    ")\n",
    "\n",
    "ride_bike_year_line.for_each_trace(lambda x: x.update(name=legend_name[x.name]))\n",
    "\n",
    "ride_bike_year_line.show()"
   ]
  },
  {
   "cell_type": "markdown",
   "id": "4f93b410",
   "metadata": {},
   "source": [
    "According to the graph above:\n",
    "* No additional trends have been noticed compared to the last graphs."
   ]
  },
  {
   "cell_type": "markdown",
   "id": "5bd40701",
   "metadata": {},
   "source": [
    "### Number of Users by Stations"
   ]
  },
  {
   "cell_type": "code",
   "execution_count": 153,
   "id": "9d333ee7",
   "metadata": {},
   "outputs": [
    {
     "data": {
      "text/html": [
       "<div>\n",
       "<style scoped>\n",
       "    .dataframe tbody tr th:only-of-type {\n",
       "        vertical-align: middle;\n",
       "    }\n",
       "\n",
       "    .dataframe tbody tr th {\n",
       "        vertical-align: top;\n",
       "    }\n",
       "\n",
       "    .dataframe thead th {\n",
       "        text-align: right;\n",
       "    }\n",
       "</style>\n",
       "<table border=\"1\" class=\"dataframe\">\n",
       "  <thead>\n",
       "    <tr style=\"text-align: right;\">\n",
       "      <th></th>\n",
       "      <th>start_station_name</th>\n",
       "      <th>count</th>\n",
       "    </tr>\n",
       "  </thead>\n",
       "  <tbody>\n",
       "    <tr>\n",
       "      <th>0</th>\n",
       "      <td>Streeter Dr &amp; Grand Ave</td>\n",
       "      <td>62148</td>\n",
       "    </tr>\n",
       "    <tr>\n",
       "      <th>1</th>\n",
       "      <td>DuSable Lake Shore Dr &amp; Monroe St</td>\n",
       "      <td>41385</td>\n",
       "    </tr>\n",
       "    <tr>\n",
       "      <th>2</th>\n",
       "      <td>DuSable Lake Shore Dr &amp; North Blvd</td>\n",
       "      <td>36587</td>\n",
       "    </tr>\n",
       "    <tr>\n",
       "      <th>3</th>\n",
       "      <td>Michigan Ave &amp; Oak St</td>\n",
       "      <td>36263</td>\n",
       "    </tr>\n",
       "    <tr>\n",
       "      <th>4</th>\n",
       "      <td>Kingsbury St &amp; Kinzie St</td>\n",
       "      <td>35771</td>\n",
       "    </tr>\n",
       "  </tbody>\n",
       "</table>\n",
       "</div>"
      ],
      "text/plain": [
       "                   start_station_name  count\n",
       "0             Streeter Dr & Grand Ave  62148\n",
       "1   DuSable Lake Shore Dr & Monroe St  41385\n",
       "2  DuSable Lake Shore Dr & North Blvd  36587\n",
       "3               Michigan Ave & Oak St  36263\n",
       "4            Kingsbury St & Kinzie St  35771"
      ]
     },
     "execution_count": 153,
     "metadata": {},
     "output_type": "execute_result"
    }
   ],
   "source": [
    "station_df = (\n",
    "    analysis_df\n",
    "    .value_counts(['start_station_name'])\n",
    "    .reset_index()\n",
    ")\n",
    "\n",
    "most_popular_stations_df = station_df.head(20)\n",
    "most_popular_stations_df.head(5)"
   ]
  },
  {
   "cell_type": "code",
   "execution_count": 154,
   "id": "64a86eb4",
   "metadata": {},
   "outputs": [
    {
     "data": {
      "text/html": [
       "<div>\n",
       "<style scoped>\n",
       "    .dataframe tbody tr th:only-of-type {\n",
       "        vertical-align: middle;\n",
       "    }\n",
       "\n",
       "    .dataframe tbody tr th {\n",
       "        vertical-align: top;\n",
       "    }\n",
       "\n",
       "    .dataframe thead th {\n",
       "        text-align: right;\n",
       "    }\n",
       "</style>\n",
       "<table border=\"1\" class=\"dataframe\">\n",
       "  <thead>\n",
       "    <tr style=\"text-align: right;\">\n",
       "      <th></th>\n",
       "      <th>start_station_name</th>\n",
       "      <th>member_casual</th>\n",
       "      <th>count</th>\n",
       "    </tr>\n",
       "  </thead>\n",
       "  <tbody>\n",
       "    <tr>\n",
       "      <th>0</th>\n",
       "      <td>Streeter Dr &amp; Grand Ave</td>\n",
       "      <td>casual</td>\n",
       "      <td>48223</td>\n",
       "    </tr>\n",
       "    <tr>\n",
       "      <th>1</th>\n",
       "      <td>Streeter Dr &amp; Grand Ave</td>\n",
       "      <td>member</td>\n",
       "      <td>13925</td>\n",
       "    </tr>\n",
       "    <tr>\n",
       "      <th>2</th>\n",
       "      <td>DuSable Lake Shore Dr &amp; Monroe St</td>\n",
       "      <td>casual</td>\n",
       "      <td>32115</td>\n",
       "    </tr>\n",
       "    <tr>\n",
       "      <th>3</th>\n",
       "      <td>DuSable Lake Shore Dr &amp; Monroe St</td>\n",
       "      <td>member</td>\n",
       "      <td>9270</td>\n",
       "    </tr>\n",
       "    <tr>\n",
       "      <th>4</th>\n",
       "      <td>DuSable Lake Shore Dr &amp; North Blvd</td>\n",
       "      <td>casual</td>\n",
       "      <td>21326</td>\n",
       "    </tr>\n",
       "    <tr>\n",
       "      <th>5</th>\n",
       "      <td>DuSable Lake Shore Dr &amp; North Blvd</td>\n",
       "      <td>member</td>\n",
       "      <td>15261</td>\n",
       "    </tr>\n",
       "    <tr>\n",
       "      <th>6</th>\n",
       "      <td>Michigan Ave &amp; Oak St</td>\n",
       "      <td>casual</td>\n",
       "      <td>23269</td>\n",
       "    </tr>\n",
       "    <tr>\n",
       "      <th>7</th>\n",
       "      <td>Michigan Ave &amp; Oak St</td>\n",
       "      <td>member</td>\n",
       "      <td>12994</td>\n",
       "    </tr>\n",
       "    <tr>\n",
       "      <th>8</th>\n",
       "      <td>Kingsbury St &amp; Kinzie St</td>\n",
       "      <td>member</td>\n",
       "      <td>26749</td>\n",
       "    </tr>\n",
       "    <tr>\n",
       "      <th>9</th>\n",
       "      <td>Kingsbury St &amp; Kinzie St</td>\n",
       "      <td>casual</td>\n",
       "      <td>9022</td>\n",
       "    </tr>\n",
       "  </tbody>\n",
       "</table>\n",
       "</div>"
      ],
      "text/plain": [
       "                   start_station_name member_casual  count\n",
       "0             Streeter Dr & Grand Ave        casual  48223\n",
       "1             Streeter Dr & Grand Ave        member  13925\n",
       "2   DuSable Lake Shore Dr & Monroe St        casual  32115\n",
       "3   DuSable Lake Shore Dr & Monroe St        member   9270\n",
       "4  DuSable Lake Shore Dr & North Blvd        casual  21326\n",
       "5  DuSable Lake Shore Dr & North Blvd        member  15261\n",
       "6               Michigan Ave & Oak St        casual  23269\n",
       "7               Michigan Ave & Oak St        member  12994\n",
       "8            Kingsbury St & Kinzie St        member  26749\n",
       "9            Kingsbury St & Kinzie St        casual   9022"
      ]
     },
     "execution_count": 154,
     "metadata": {},
     "output_type": "execute_result"
    }
   ],
   "source": [
    "most_popular_stations = most_popular_stations_df['start_station_name'].reset_index(drop=True).to_list()\n",
    "\n",
    "most_popular_stations_df = (\n",
    "    analysis_df\n",
    "    .query('start_station_name in @most_popular_stations')\n",
    "    .value_counts(['start_station_name', 'member_casual'])\n",
    "    .reset_index()\n",
    ")\n",
    "\n",
    "most_popular_stations_df['start_station_name'] = pd.Categorical(most_popular_stations_df['start_station_name'], categories=most_popular_stations, ordered=True)\n",
    "most_popular_stations_df = most_popular_stations_df.sort_values('start_station_name').reset_index(drop=True)\n",
    "\n",
    "most_popular_stations_df.head(10)"
   ]
  },
  {
   "cell_type": "code",
   "execution_count": 155,
   "id": "f232ce34",
   "metadata": {},
   "outputs": [
    {
     "data": {
      "application/vnd.plotly.v1+json": {
       "config": {
        "plotlyServerURL": "https://plot.ly"
       },
       "data": [
        {
         "hovertemplate": "member_casual=casual<br>start_station_name=%{x}<br>count=%{y}<extra></extra>",
         "legendgroup": "casual",
         "marker": {
          "color": "silver",
          "pattern": {
           "shape": ""
          }
         },
         "name": "Casual",
         "orientation": "v",
         "showlegend": true,
         "textposition": "auto",
         "type": "bar",
         "x": [
          "Streeter Dr & Grand Ave",
          "DuSable Lake Shore Dr & Monroe St",
          "DuSable Lake Shore Dr & North Blvd",
          "Michigan Ave & Oak St",
          "Kingsbury St & Kinzie St",
          "Clark St & Elm St",
          "Clinton St & Washington Blvd",
          "Millennium Park",
          "Clinton St & Madison St",
          "Wells St & Concord Ln",
          "Theater on the Lake",
          "Wells St & Elm St",
          "Dearborn St & Erie St",
          "Shedd Aquarium",
          "Indiana Ave & Roosevelt Rd",
          "Clinton St & Jackson Blvd",
          "State St & Chicago Ave",
          "Canal St & Madison St",
          "Wabash Ave & Grand Ave",
          "Dusable Harbor"
         ],
         "xaxis": "x",
         "y": {
          "bdata": "X7wAAHN9AABOUwAA5VoAAD4jAACCJQAAlxcAAENRAAApHAAAdyYAABE8AABEIgAATB0AAG5OAAAIKwAAsBUAADQbAAD/GAAAQiYAAF5DAAA=",
          "dtype": "i4"
         },
         "yaxis": "y"
        },
        {
         "hovertemplate": "member_casual=member<br>start_station_name=%{x}<br>count=%{y}<extra></extra>",
         "legendgroup": "member",
         "marker": {
          "color": "goldenrod",
          "pattern": {
           "shape": ""
          }
         },
         "name": "Member",
         "orientation": "v",
         "showlegend": true,
         "textposition": "auto",
         "type": "bar",
         "x": [
          "Streeter Dr & Grand Ave",
          "DuSable Lake Shore Dr & Monroe St",
          "DuSable Lake Shore Dr & North Blvd",
          "Michigan Ave & Oak St",
          "Kingsbury St & Kinzie St",
          "Clark St & Elm St",
          "Clinton St & Washington Blvd",
          "Millennium Park",
          "Clinton St & Madison St",
          "Wells St & Concord Ln",
          "Theater on the Lake",
          "Wells St & Elm St",
          "Dearborn St & Erie St",
          "Shedd Aquarium",
          "Indiana Ave & Roosevelt Rd",
          "Clinton St & Jackson Blvd",
          "State St & Chicago Ave",
          "Canal St & Madison St",
          "Wabash Ave & Grand Ave",
          "Dusable Harbor"
         ],
         "xaxis": "x",
         "y": {
          "bdata": "ZTY2JJ07wjJ9aClXEWLTJUhYukbKLu1FdUTBEXEzq0jQQZxCJDVaFw==",
          "dtype": "i2"
         },
         "yaxis": "y"
        }
       ],
       "layout": {
        "barmode": "relative",
        "legend": {
         "title": {
          "text": "Subscription"
         },
         "tracegroupgap": 0
        },
        "margin": {
         "pad": 10,
         "t": 60
        },
        "template": {
         "data": {
          "bar": [
           {
            "error_x": {
             "color": "#f2f5fa"
            },
            "error_y": {
             "color": "#f2f5fa"
            },
            "marker": {
             "line": {
              "color": "rgb(17,17,17)",
              "width": 0.5
             },
             "pattern": {
              "fillmode": "overlay",
              "size": 10,
              "solidity": 0.2
             }
            },
            "type": "bar"
           }
          ],
          "barpolar": [
           {
            "marker": {
             "line": {
              "color": "rgb(17,17,17)",
              "width": 0.5
             },
             "pattern": {
              "fillmode": "overlay",
              "size": 10,
              "solidity": 0.2
             }
            },
            "type": "barpolar"
           }
          ],
          "carpet": [
           {
            "aaxis": {
             "endlinecolor": "#A2B1C6",
             "gridcolor": "#506784",
             "linecolor": "#506784",
             "minorgridcolor": "#506784",
             "startlinecolor": "#A2B1C6"
            },
            "baxis": {
             "endlinecolor": "#A2B1C6",
             "gridcolor": "#506784",
             "linecolor": "#506784",
             "minorgridcolor": "#506784",
             "startlinecolor": "#A2B1C6"
            },
            "type": "carpet"
           }
          ],
          "choropleth": [
           {
            "colorbar": {
             "outlinewidth": 0,
             "ticks": ""
            },
            "type": "choropleth"
           }
          ],
          "contour": [
           {
            "colorbar": {
             "outlinewidth": 0,
             "ticks": ""
            },
            "colorscale": [
             [
              0,
              "#0d0887"
             ],
             [
              0.1111111111111111,
              "#46039f"
             ],
             [
              0.2222222222222222,
              "#7201a8"
             ],
             [
              0.3333333333333333,
              "#9c179e"
             ],
             [
              0.4444444444444444,
              "#bd3786"
             ],
             [
              0.5555555555555556,
              "#d8576b"
             ],
             [
              0.6666666666666666,
              "#ed7953"
             ],
             [
              0.7777777777777778,
              "#fb9f3a"
             ],
             [
              0.8888888888888888,
              "#fdca26"
             ],
             [
              1,
              "#f0f921"
             ]
            ],
            "type": "contour"
           }
          ],
          "contourcarpet": [
           {
            "colorbar": {
             "outlinewidth": 0,
             "ticks": ""
            },
            "type": "contourcarpet"
           }
          ],
          "heatmap": [
           {
            "colorbar": {
             "outlinewidth": 0,
             "ticks": ""
            },
            "colorscale": [
             [
              0,
              "#0d0887"
             ],
             [
              0.1111111111111111,
              "#46039f"
             ],
             [
              0.2222222222222222,
              "#7201a8"
             ],
             [
              0.3333333333333333,
              "#9c179e"
             ],
             [
              0.4444444444444444,
              "#bd3786"
             ],
             [
              0.5555555555555556,
              "#d8576b"
             ],
             [
              0.6666666666666666,
              "#ed7953"
             ],
             [
              0.7777777777777778,
              "#fb9f3a"
             ],
             [
              0.8888888888888888,
              "#fdca26"
             ],
             [
              1,
              "#f0f921"
             ]
            ],
            "type": "heatmap"
           }
          ],
          "histogram": [
           {
            "marker": {
             "pattern": {
              "fillmode": "overlay",
              "size": 10,
              "solidity": 0.2
             }
            },
            "type": "histogram"
           }
          ],
          "histogram2d": [
           {
            "colorbar": {
             "outlinewidth": 0,
             "ticks": ""
            },
            "colorscale": [
             [
              0,
              "#0d0887"
             ],
             [
              0.1111111111111111,
              "#46039f"
             ],
             [
              0.2222222222222222,
              "#7201a8"
             ],
             [
              0.3333333333333333,
              "#9c179e"
             ],
             [
              0.4444444444444444,
              "#bd3786"
             ],
             [
              0.5555555555555556,
              "#d8576b"
             ],
             [
              0.6666666666666666,
              "#ed7953"
             ],
             [
              0.7777777777777778,
              "#fb9f3a"
             ],
             [
              0.8888888888888888,
              "#fdca26"
             ],
             [
              1,
              "#f0f921"
             ]
            ],
            "type": "histogram2d"
           }
          ],
          "histogram2dcontour": [
           {
            "colorbar": {
             "outlinewidth": 0,
             "ticks": ""
            },
            "colorscale": [
             [
              0,
              "#0d0887"
             ],
             [
              0.1111111111111111,
              "#46039f"
             ],
             [
              0.2222222222222222,
              "#7201a8"
             ],
             [
              0.3333333333333333,
              "#9c179e"
             ],
             [
              0.4444444444444444,
              "#bd3786"
             ],
             [
              0.5555555555555556,
              "#d8576b"
             ],
             [
              0.6666666666666666,
              "#ed7953"
             ],
             [
              0.7777777777777778,
              "#fb9f3a"
             ],
             [
              0.8888888888888888,
              "#fdca26"
             ],
             [
              1,
              "#f0f921"
             ]
            ],
            "type": "histogram2dcontour"
           }
          ],
          "mesh3d": [
           {
            "colorbar": {
             "outlinewidth": 0,
             "ticks": ""
            },
            "type": "mesh3d"
           }
          ],
          "parcoords": [
           {
            "line": {
             "colorbar": {
              "outlinewidth": 0,
              "ticks": ""
             }
            },
            "type": "parcoords"
           }
          ],
          "pie": [
           {
            "automargin": true,
            "type": "pie"
           }
          ],
          "scatter": [
           {
            "marker": {
             "line": {
              "color": "#283442"
             }
            },
            "type": "scatter"
           }
          ],
          "scatter3d": [
           {
            "line": {
             "colorbar": {
              "outlinewidth": 0,
              "ticks": ""
             }
            },
            "marker": {
             "colorbar": {
              "outlinewidth": 0,
              "ticks": ""
             }
            },
            "type": "scatter3d"
           }
          ],
          "scattercarpet": [
           {
            "marker": {
             "colorbar": {
              "outlinewidth": 0,
              "ticks": ""
             }
            },
            "type": "scattercarpet"
           }
          ],
          "scattergeo": [
           {
            "marker": {
             "colorbar": {
              "outlinewidth": 0,
              "ticks": ""
             }
            },
            "type": "scattergeo"
           }
          ],
          "scattergl": [
           {
            "marker": {
             "line": {
              "color": "#283442"
             }
            },
            "type": "scattergl"
           }
          ],
          "scattermap": [
           {
            "marker": {
             "colorbar": {
              "outlinewidth": 0,
              "ticks": ""
             }
            },
            "type": "scattermap"
           }
          ],
          "scattermapbox": [
           {
            "marker": {
             "colorbar": {
              "outlinewidth": 0,
              "ticks": ""
             }
            },
            "type": "scattermapbox"
           }
          ],
          "scatterpolar": [
           {
            "marker": {
             "colorbar": {
              "outlinewidth": 0,
              "ticks": ""
             }
            },
            "type": "scatterpolar"
           }
          ],
          "scatterpolargl": [
           {
            "marker": {
             "colorbar": {
              "outlinewidth": 0,
              "ticks": ""
             }
            },
            "type": "scatterpolargl"
           }
          ],
          "scatterternary": [
           {
            "marker": {
             "colorbar": {
              "outlinewidth": 0,
              "ticks": ""
             }
            },
            "type": "scatterternary"
           }
          ],
          "surface": [
           {
            "colorbar": {
             "outlinewidth": 0,
             "ticks": ""
            },
            "colorscale": [
             [
              0,
              "#0d0887"
             ],
             [
              0.1111111111111111,
              "#46039f"
             ],
             [
              0.2222222222222222,
              "#7201a8"
             ],
             [
              0.3333333333333333,
              "#9c179e"
             ],
             [
              0.4444444444444444,
              "#bd3786"
             ],
             [
              0.5555555555555556,
              "#d8576b"
             ],
             [
              0.6666666666666666,
              "#ed7953"
             ],
             [
              0.7777777777777778,
              "#fb9f3a"
             ],
             [
              0.8888888888888888,
              "#fdca26"
             ],
             [
              1,
              "#f0f921"
             ]
            ],
            "type": "surface"
           }
          ],
          "table": [
           {
            "cells": {
             "fill": {
              "color": "#506784"
             },
             "line": {
              "color": "rgb(17,17,17)"
             }
            },
            "header": {
             "fill": {
              "color": "#2a3f5f"
             },
             "line": {
              "color": "rgb(17,17,17)"
             }
            },
            "type": "table"
           }
          ]
         },
         "layout": {
          "annotationdefaults": {
           "arrowcolor": "#f2f5fa",
           "arrowhead": 0,
           "arrowwidth": 1
          },
          "autotypenumbers": "strict",
          "coloraxis": {
           "colorbar": {
            "outlinewidth": 0,
            "ticks": ""
           }
          },
          "colorscale": {
           "diverging": [
            [
             0,
             "#8e0152"
            ],
            [
             0.1,
             "#c51b7d"
            ],
            [
             0.2,
             "#de77ae"
            ],
            [
             0.3,
             "#f1b6da"
            ],
            [
             0.4,
             "#fde0ef"
            ],
            [
             0.5,
             "#f7f7f7"
            ],
            [
             0.6,
             "#e6f5d0"
            ],
            [
             0.7,
             "#b8e186"
            ],
            [
             0.8,
             "#7fbc41"
            ],
            [
             0.9,
             "#4d9221"
            ],
            [
             1,
             "#276419"
            ]
           ],
           "sequential": [
            [
             0,
             "#0d0887"
            ],
            [
             0.1111111111111111,
             "#46039f"
            ],
            [
             0.2222222222222222,
             "#7201a8"
            ],
            [
             0.3333333333333333,
             "#9c179e"
            ],
            [
             0.4444444444444444,
             "#bd3786"
            ],
            [
             0.5555555555555556,
             "#d8576b"
            ],
            [
             0.6666666666666666,
             "#ed7953"
            ],
            [
             0.7777777777777778,
             "#fb9f3a"
            ],
            [
             0.8888888888888888,
             "#fdca26"
            ],
            [
             1,
             "#f0f921"
            ]
           ],
           "sequentialminus": [
            [
             0,
             "#0d0887"
            ],
            [
             0.1111111111111111,
             "#46039f"
            ],
            [
             0.2222222222222222,
             "#7201a8"
            ],
            [
             0.3333333333333333,
             "#9c179e"
            ],
            [
             0.4444444444444444,
             "#bd3786"
            ],
            [
             0.5555555555555556,
             "#d8576b"
            ],
            [
             0.6666666666666666,
             "#ed7953"
            ],
            [
             0.7777777777777778,
             "#fb9f3a"
            ],
            [
             0.8888888888888888,
             "#fdca26"
            ],
            [
             1,
             "#f0f921"
            ]
           ]
          },
          "colorway": [
           "#636efa",
           "#EF553B",
           "#00cc96",
           "#ab63fa",
           "#FFA15A",
           "#19d3f3",
           "#FF6692",
           "#B6E880",
           "#FF97FF",
           "#FECB52"
          ],
          "font": {
           "color": "#f2f5fa"
          },
          "geo": {
           "bgcolor": "rgb(17,17,17)",
           "lakecolor": "rgb(17,17,17)",
           "landcolor": "rgb(17,17,17)",
           "showlakes": true,
           "showland": true,
           "subunitcolor": "#506784"
          },
          "hoverlabel": {
           "align": "left"
          },
          "hovermode": "closest",
          "mapbox": {
           "style": "dark"
          },
          "paper_bgcolor": "rgb(17,17,17)",
          "plot_bgcolor": "rgb(17,17,17)",
          "polar": {
           "angularaxis": {
            "gridcolor": "#506784",
            "linecolor": "#506784",
            "ticks": ""
           },
           "bgcolor": "rgb(17,17,17)",
           "radialaxis": {
            "gridcolor": "#506784",
            "linecolor": "#506784",
            "ticks": ""
           }
          },
          "scene": {
           "xaxis": {
            "backgroundcolor": "rgb(17,17,17)",
            "gridcolor": "#506784",
            "gridwidth": 2,
            "linecolor": "#506784",
            "showbackground": true,
            "ticks": "",
            "zerolinecolor": "#C8D4E3"
           },
           "yaxis": {
            "backgroundcolor": "rgb(17,17,17)",
            "gridcolor": "#506784",
            "gridwidth": 2,
            "linecolor": "#506784",
            "showbackground": true,
            "ticks": "",
            "zerolinecolor": "#C8D4E3"
           },
           "zaxis": {
            "backgroundcolor": "rgb(17,17,17)",
            "gridcolor": "#506784",
            "gridwidth": 2,
            "linecolor": "#506784",
            "showbackground": true,
            "ticks": "",
            "zerolinecolor": "#C8D4E3"
           }
          },
          "shapedefaults": {
           "line": {
            "color": "#f2f5fa"
           }
          },
          "sliderdefaults": {
           "bgcolor": "#C8D4E3",
           "bordercolor": "rgb(17,17,17)",
           "borderwidth": 1,
           "tickwidth": 0
          },
          "ternary": {
           "aaxis": {
            "gridcolor": "#506784",
            "linecolor": "#506784",
            "ticks": ""
           },
           "baxis": {
            "gridcolor": "#506784",
            "linecolor": "#506784",
            "ticks": ""
           },
           "bgcolor": "rgb(17,17,17)",
           "caxis": {
            "gridcolor": "#506784",
            "linecolor": "#506784",
            "ticks": ""
           }
          },
          "title": {
           "x": 0.05
          },
          "updatemenudefaults": {
           "bgcolor": "#506784",
           "borderwidth": 0
          },
          "xaxis": {
           "automargin": true,
           "gridcolor": "#283442",
           "linecolor": "#506784",
           "ticks": "",
           "title": {
            "standoff": 15
           },
           "zerolinecolor": "#283442",
           "zerolinewidth": 2
          },
          "yaxis": {
           "automargin": true,
           "gridcolor": "#283442",
           "linecolor": "#506784",
           "ticks": "",
           "title": {
            "standoff": 15
           },
           "zerolinecolor": "#283442",
           "zerolinewidth": 2
          }
         }
        },
        "title": {
         "text": "Users by Most Popular Stations"
        },
        "width": 1400,
        "xaxis": {
         "anchor": "y",
         "domain": [
          0,
          1
         ],
         "dtick": "M1",
         "tickformat": "%b",
         "title": {
          "text": "Station name"
         }
        },
        "yaxis": {
         "anchor": "x",
         "domain": [
          0,
          1
         ],
         "dtick": 10000,
         "range": [
          0,
          null
         ],
         "side": "left",
         "title": {
          "text": "Activity"
         }
        }
       }
      }
     },
     "metadata": {},
     "output_type": "display_data"
    }
   ],
   "source": [
    "legend_name = {\n",
    "    'casual': 'Casual',\n",
    "    'member': 'Member',\n",
    "}\n",
    "\n",
    "most_popular_stations_records_bar = px.bar(\n",
    "    most_popular_stations_df,\n",
    "    x='start_station_name',\n",
    "    y='count',\n",
    "    color='member_casual',\n",
    "    width=1400,\n",
    "    template='plotly_dark',\n",
    "    color_discrete_sequence=['silver', 'goldenrod'],\n",
    ")\n",
    "\n",
    "most_popular_stations_records_bar.for_each_trace(lambda x: x.update(name=legend_name[x.name]))\n",
    "\n",
    "most_popular_stations_records_bar.update_layout(\n",
    "    xaxis_title='Station name', \n",
    "    yaxis_title='Activity', \n",
    "    title='Users by Most Popular Stations',\n",
    "    legend_title_text='Subscription',\n",
    "    yaxis=dict(\n",
    "        range=[0, None],\n",
    "        dtick=10000,\n",
    "        side='left'\n",
    "    ),\n",
    "    xaxis=dict(\n",
    "        dtick=\"M1\",\n",
    "        tickformat=\"%b\",\n",
    "    ),\n",
    "    margin=dict(\n",
    "        pad=10\n",
    "    ),\n",
    ")\n",
    "\n",
    "most_popular_stations_records_bar.show()"
   ]
  },
  {
   "cell_type": "markdown",
   "id": "eead707b",
   "metadata": {},
   "source": [
    "According to the graph above:\n",
    "* Streeter Dr & Grand Ave stands out as the highest used stations with dominant casual users.\n",
    "* Variation in usage patterns across station indicates different roles - some for commute (members) and some for tourist spots (casual)"
   ]
  },
  {
   "cell_type": "markdown",
   "id": "a2e9bf06",
   "metadata": {},
   "source": [
    "### Most popular stations by casual users"
   ]
  },
  {
   "cell_type": "code",
   "execution_count": 156,
   "id": "89b76f70",
   "metadata": {},
   "outputs": [
    {
     "data": {
      "text/plain": [
       "['Streeter Dr & Grand Ave',\n",
       " 'DuSable Lake Shore Dr & Monroe St',\n",
       " 'Michigan Ave & Oak St',\n",
       " 'DuSable Lake Shore Dr & North Blvd',\n",
       " 'Millennium Park',\n",
       " 'Shedd Aquarium',\n",
       " 'Dusable Harbor',\n",
       " 'Theater on the Lake',\n",
       " 'Michigan Ave & 8th St',\n",
       " 'Adler Planetarium',\n",
       " 'Buckingham Fountain',\n",
       " 'Montrose Harbor',\n",
       " 'Field Museum',\n",
       " 'Lincoln Park Conservatory',\n",
       " 'Michigan Ave & Jackson Blvd',\n",
       " 'McCormick Place',\n",
       " 'Streeter Dr/Grand Ave',\n",
       " 'Michigan Ave & Pearson St',\n",
       " 'Michigan Ave & Ida B Wells Dr',\n",
       " 'Lakefront Trail & Wilson Ave']"
      ]
     },
     "execution_count": 156,
     "metadata": {},
     "output_type": "execute_result"
    }
   ],
   "source": [
    "station_member_df = (\n",
    "    analysis_df\n",
    "    .value_counts(['start_station_name', 'member_casual'])\n",
    "    .reset_index()\n",
    ")\n",
    "\n",
    "station_member_pivot = (\n",
    "    station_member_df\n",
    "    .pivot(index='start_station_name', columns='member_casual', values='count')\n",
    ")\n",
    "\n",
    "casual_dominant_stations = (\n",
    "    station_member_pivot\n",
    "    .query('casual > member')\n",
    "    .head(20)\n",
    "    .index\n",
    "    .tolist()\n",
    ")\n",
    "\n",
    "casual_dominant_stations"
   ]
  },
  {
   "cell_type": "code",
   "execution_count": 157,
   "id": "f9c9813f",
   "metadata": {},
   "outputs": [
    {
     "data": {
      "text/html": [
       "<div>\n",
       "<style scoped>\n",
       "    .dataframe tbody tr th:only-of-type {\n",
       "        vertical-align: middle;\n",
       "    }\n",
       "\n",
       "    .dataframe tbody tr th {\n",
       "        vertical-align: top;\n",
       "    }\n",
       "\n",
       "    .dataframe thead th {\n",
       "        text-align: right;\n",
       "    }\n",
       "</style>\n",
       "<table border=\"1\" class=\"dataframe\">\n",
       "  <thead>\n",
       "    <tr style=\"text-align: right;\">\n",
       "      <th></th>\n",
       "      <th>start_station_name</th>\n",
       "      <th>member_casual</th>\n",
       "      <th>count</th>\n",
       "    </tr>\n",
       "  </thead>\n",
       "  <tbody>\n",
       "    <tr>\n",
       "      <th>0</th>\n",
       "      <td>Streeter Dr &amp; Grand Ave</td>\n",
       "      <td>casual</td>\n",
       "      <td>48223</td>\n",
       "    </tr>\n",
       "    <tr>\n",
       "      <th>1</th>\n",
       "      <td>DuSable Lake Shore Dr &amp; Monroe St</td>\n",
       "      <td>casual</td>\n",
       "      <td>32115</td>\n",
       "    </tr>\n",
       "    <tr>\n",
       "      <th>2</th>\n",
       "      <td>Michigan Ave &amp; Oak St</td>\n",
       "      <td>casual</td>\n",
       "      <td>23269</td>\n",
       "    </tr>\n",
       "    <tr>\n",
       "      <th>3</th>\n",
       "      <td>DuSable Lake Shore Dr &amp; North Blvd</td>\n",
       "      <td>casual</td>\n",
       "      <td>21326</td>\n",
       "    </tr>\n",
       "    <tr>\n",
       "      <th>4</th>\n",
       "      <td>Millennium Park</td>\n",
       "      <td>casual</td>\n",
       "      <td>20803</td>\n",
       "    </tr>\n",
       "    <tr>\n",
       "      <th>5</th>\n",
       "      <td>Shedd Aquarium</td>\n",
       "      <td>casual</td>\n",
       "      <td>20078</td>\n",
       "    </tr>\n",
       "    <tr>\n",
       "      <th>6</th>\n",
       "      <td>Dusable Harbor</td>\n",
       "      <td>casual</td>\n",
       "      <td>17246</td>\n",
       "    </tr>\n",
       "    <tr>\n",
       "      <th>7</th>\n",
       "      <td>Theater on the Lake</td>\n",
       "      <td>casual</td>\n",
       "      <td>15377</td>\n",
       "    </tr>\n",
       "    <tr>\n",
       "      <th>8</th>\n",
       "      <td>DuSable Lake Shore Dr &amp; North Blvd</td>\n",
       "      <td>member</td>\n",
       "      <td>15261</td>\n",
       "    </tr>\n",
       "    <tr>\n",
       "      <th>9</th>\n",
       "      <td>Streeter Dr &amp; Grand Ave</td>\n",
       "      <td>member</td>\n",
       "      <td>13925</td>\n",
       "    </tr>\n",
       "  </tbody>\n",
       "</table>\n",
       "</div>"
      ],
      "text/plain": [
       "                   start_station_name member_casual  count\n",
       "0             Streeter Dr & Grand Ave        casual  48223\n",
       "1   DuSable Lake Shore Dr & Monroe St        casual  32115\n",
       "2               Michigan Ave & Oak St        casual  23269\n",
       "3  DuSable Lake Shore Dr & North Blvd        casual  21326\n",
       "4                     Millennium Park        casual  20803\n",
       "5                      Shedd Aquarium        casual  20078\n",
       "6                      Dusable Harbor        casual  17246\n",
       "7                 Theater on the Lake        casual  15377\n",
       "8  DuSable Lake Shore Dr & North Blvd        member  15261\n",
       "9             Streeter Dr & Grand Ave        member  13925"
      ]
     },
     "execution_count": 157,
     "metadata": {},
     "output_type": "execute_result"
    }
   ],
   "source": [
    "most_popular_casual_stations_df = (\n",
    "    analysis_df\n",
    "    .query('start_station_name in @casual_dominant_stations')\n",
    "    .value_counts(['start_station_name', 'member_casual'])\n",
    "    .reset_index()\n",
    ")\n",
    "\n",
    "most_popular_casual_stations_df.head(10)"
   ]
  },
  {
   "cell_type": "code",
   "execution_count": 158,
   "id": "512145a3",
   "metadata": {},
   "outputs": [
    {
     "data": {
      "application/vnd.plotly.v1+json": {
       "config": {
        "plotlyServerURL": "https://plot.ly"
       },
       "data": [
        {
         "hovertemplate": "member_casual=casual<br>start_station_name=%{x}<br>count=%{y}<extra></extra>",
         "legendgroup": "casual",
         "marker": {
          "color": "silver",
          "pattern": {
           "shape": ""
          }
         },
         "name": "Casual",
         "orientation": "v",
         "showlegend": true,
         "textposition": "auto",
         "type": "bar",
         "x": [
          "Streeter Dr & Grand Ave",
          "DuSable Lake Shore Dr & Monroe St",
          "Michigan Ave & Oak St",
          "DuSable Lake Shore Dr & North Blvd",
          "Millennium Park",
          "Shedd Aquarium",
          "Dusable Harbor",
          "Theater on the Lake",
          "Michigan Ave & 8th St",
          "Adler Planetarium",
          "Buckingham Fountain",
          "Montrose Harbor",
          "Field Museum",
          "Lincoln Park Conservatory",
          "Michigan Ave & Jackson Blvd",
          "McCormick Place",
          "Streeter Dr/Grand Ave",
          "Michigan Ave & Pearson St",
          "Michigan Ave & Ida B Wells Dr",
          "Lakefront Trail & Wilson Ave"
         ],
         "xaxis": "x",
         "y": {
          "bdata": "X7wAAHN9AADlWgAATlMAAENRAABuTgAAXkMAABE8AAD3MAAA2C8AAIEqAADkJwAAdyQAABsaAABfGQAALRUAANQTAADJEwAAChAAAHQOAAA=",
          "dtype": "i4"
         },
         "yaxis": "y"
        },
        {
         "hovertemplate": "member_casual=member<br>start_station_name=%{x}<br>count=%{y}<extra></extra>",
         "legendgroup": "member",
         "marker": {
          "color": "goldenrod",
          "pattern": {
           "shape": ""
          }
         },
         "name": "Member",
         "orientation": "v",
         "showlegend": true,
         "textposition": "auto",
         "type": "bar",
         "x": [
          "DuSable Lake Shore Dr & North Blvd",
          "Streeter Dr & Grand Ave",
          "Michigan Ave & Oak St",
          "Theater on the Lake",
          "Millennium Park",
          "DuSable Lake Shore Dr & Monroe St",
          "Montrose Harbor",
          "Michigan Ave & 8th St",
          "Dusable Harbor",
          "Michigan Ave & Jackson Blvd",
          "Lincoln Park Conservatory",
          "Adler Planetarium",
          "Michigan Ave & Pearson St",
          "Shedd Aquarium",
          "Buckingham Fountain",
          "Lakefront Trail & Wilson Ave",
          "Michigan Ave & Ida B Wells Dr",
          "Streeter Dr/Grand Ave",
          "McCormick Place",
          "Field Museum"
         ],
         "xaxis": "x",
         "y": {
          "bdata": "nTtlNsIyyi7TJTYkrhvbGVoXGxW1FPMS8hHBEVoNHgwOCmsJ+AjrBw==",
          "dtype": "i2"
         },
         "yaxis": "y"
        }
       ],
       "layout": {
        "barmode": "relative",
        "legend": {
         "title": {
          "text": "Subscription"
         },
         "tracegroupgap": 0
        },
        "margin": {
         "pad": 10,
         "t": 60
        },
        "template": {
         "data": {
          "bar": [
           {
            "error_x": {
             "color": "#f2f5fa"
            },
            "error_y": {
             "color": "#f2f5fa"
            },
            "marker": {
             "line": {
              "color": "rgb(17,17,17)",
              "width": 0.5
             },
             "pattern": {
              "fillmode": "overlay",
              "size": 10,
              "solidity": 0.2
             }
            },
            "type": "bar"
           }
          ],
          "barpolar": [
           {
            "marker": {
             "line": {
              "color": "rgb(17,17,17)",
              "width": 0.5
             },
             "pattern": {
              "fillmode": "overlay",
              "size": 10,
              "solidity": 0.2
             }
            },
            "type": "barpolar"
           }
          ],
          "carpet": [
           {
            "aaxis": {
             "endlinecolor": "#A2B1C6",
             "gridcolor": "#506784",
             "linecolor": "#506784",
             "minorgridcolor": "#506784",
             "startlinecolor": "#A2B1C6"
            },
            "baxis": {
             "endlinecolor": "#A2B1C6",
             "gridcolor": "#506784",
             "linecolor": "#506784",
             "minorgridcolor": "#506784",
             "startlinecolor": "#A2B1C6"
            },
            "type": "carpet"
           }
          ],
          "choropleth": [
           {
            "colorbar": {
             "outlinewidth": 0,
             "ticks": ""
            },
            "type": "choropleth"
           }
          ],
          "contour": [
           {
            "colorbar": {
             "outlinewidth": 0,
             "ticks": ""
            },
            "colorscale": [
             [
              0,
              "#0d0887"
             ],
             [
              0.1111111111111111,
              "#46039f"
             ],
             [
              0.2222222222222222,
              "#7201a8"
             ],
             [
              0.3333333333333333,
              "#9c179e"
             ],
             [
              0.4444444444444444,
              "#bd3786"
             ],
             [
              0.5555555555555556,
              "#d8576b"
             ],
             [
              0.6666666666666666,
              "#ed7953"
             ],
             [
              0.7777777777777778,
              "#fb9f3a"
             ],
             [
              0.8888888888888888,
              "#fdca26"
             ],
             [
              1,
              "#f0f921"
             ]
            ],
            "type": "contour"
           }
          ],
          "contourcarpet": [
           {
            "colorbar": {
             "outlinewidth": 0,
             "ticks": ""
            },
            "type": "contourcarpet"
           }
          ],
          "heatmap": [
           {
            "colorbar": {
             "outlinewidth": 0,
             "ticks": ""
            },
            "colorscale": [
             [
              0,
              "#0d0887"
             ],
             [
              0.1111111111111111,
              "#46039f"
             ],
             [
              0.2222222222222222,
              "#7201a8"
             ],
             [
              0.3333333333333333,
              "#9c179e"
             ],
             [
              0.4444444444444444,
              "#bd3786"
             ],
             [
              0.5555555555555556,
              "#d8576b"
             ],
             [
              0.6666666666666666,
              "#ed7953"
             ],
             [
              0.7777777777777778,
              "#fb9f3a"
             ],
             [
              0.8888888888888888,
              "#fdca26"
             ],
             [
              1,
              "#f0f921"
             ]
            ],
            "type": "heatmap"
           }
          ],
          "histogram": [
           {
            "marker": {
             "pattern": {
              "fillmode": "overlay",
              "size": 10,
              "solidity": 0.2
             }
            },
            "type": "histogram"
           }
          ],
          "histogram2d": [
           {
            "colorbar": {
             "outlinewidth": 0,
             "ticks": ""
            },
            "colorscale": [
             [
              0,
              "#0d0887"
             ],
             [
              0.1111111111111111,
              "#46039f"
             ],
             [
              0.2222222222222222,
              "#7201a8"
             ],
             [
              0.3333333333333333,
              "#9c179e"
             ],
             [
              0.4444444444444444,
              "#bd3786"
             ],
             [
              0.5555555555555556,
              "#d8576b"
             ],
             [
              0.6666666666666666,
              "#ed7953"
             ],
             [
              0.7777777777777778,
              "#fb9f3a"
             ],
             [
              0.8888888888888888,
              "#fdca26"
             ],
             [
              1,
              "#f0f921"
             ]
            ],
            "type": "histogram2d"
           }
          ],
          "histogram2dcontour": [
           {
            "colorbar": {
             "outlinewidth": 0,
             "ticks": ""
            },
            "colorscale": [
             [
              0,
              "#0d0887"
             ],
             [
              0.1111111111111111,
              "#46039f"
             ],
             [
              0.2222222222222222,
              "#7201a8"
             ],
             [
              0.3333333333333333,
              "#9c179e"
             ],
             [
              0.4444444444444444,
              "#bd3786"
             ],
             [
              0.5555555555555556,
              "#d8576b"
             ],
             [
              0.6666666666666666,
              "#ed7953"
             ],
             [
              0.7777777777777778,
              "#fb9f3a"
             ],
             [
              0.8888888888888888,
              "#fdca26"
             ],
             [
              1,
              "#f0f921"
             ]
            ],
            "type": "histogram2dcontour"
           }
          ],
          "mesh3d": [
           {
            "colorbar": {
             "outlinewidth": 0,
             "ticks": ""
            },
            "type": "mesh3d"
           }
          ],
          "parcoords": [
           {
            "line": {
             "colorbar": {
              "outlinewidth": 0,
              "ticks": ""
             }
            },
            "type": "parcoords"
           }
          ],
          "pie": [
           {
            "automargin": true,
            "type": "pie"
           }
          ],
          "scatter": [
           {
            "marker": {
             "line": {
              "color": "#283442"
             }
            },
            "type": "scatter"
           }
          ],
          "scatter3d": [
           {
            "line": {
             "colorbar": {
              "outlinewidth": 0,
              "ticks": ""
             }
            },
            "marker": {
             "colorbar": {
              "outlinewidth": 0,
              "ticks": ""
             }
            },
            "type": "scatter3d"
           }
          ],
          "scattercarpet": [
           {
            "marker": {
             "colorbar": {
              "outlinewidth": 0,
              "ticks": ""
             }
            },
            "type": "scattercarpet"
           }
          ],
          "scattergeo": [
           {
            "marker": {
             "colorbar": {
              "outlinewidth": 0,
              "ticks": ""
             }
            },
            "type": "scattergeo"
           }
          ],
          "scattergl": [
           {
            "marker": {
             "line": {
              "color": "#283442"
             }
            },
            "type": "scattergl"
           }
          ],
          "scattermap": [
           {
            "marker": {
             "colorbar": {
              "outlinewidth": 0,
              "ticks": ""
             }
            },
            "type": "scattermap"
           }
          ],
          "scattermapbox": [
           {
            "marker": {
             "colorbar": {
              "outlinewidth": 0,
              "ticks": ""
             }
            },
            "type": "scattermapbox"
           }
          ],
          "scatterpolar": [
           {
            "marker": {
             "colorbar": {
              "outlinewidth": 0,
              "ticks": ""
             }
            },
            "type": "scatterpolar"
           }
          ],
          "scatterpolargl": [
           {
            "marker": {
             "colorbar": {
              "outlinewidth": 0,
              "ticks": ""
             }
            },
            "type": "scatterpolargl"
           }
          ],
          "scatterternary": [
           {
            "marker": {
             "colorbar": {
              "outlinewidth": 0,
              "ticks": ""
             }
            },
            "type": "scatterternary"
           }
          ],
          "surface": [
           {
            "colorbar": {
             "outlinewidth": 0,
             "ticks": ""
            },
            "colorscale": [
             [
              0,
              "#0d0887"
             ],
             [
              0.1111111111111111,
              "#46039f"
             ],
             [
              0.2222222222222222,
              "#7201a8"
             ],
             [
              0.3333333333333333,
              "#9c179e"
             ],
             [
              0.4444444444444444,
              "#bd3786"
             ],
             [
              0.5555555555555556,
              "#d8576b"
             ],
             [
              0.6666666666666666,
              "#ed7953"
             ],
             [
              0.7777777777777778,
              "#fb9f3a"
             ],
             [
              0.8888888888888888,
              "#fdca26"
             ],
             [
              1,
              "#f0f921"
             ]
            ],
            "type": "surface"
           }
          ],
          "table": [
           {
            "cells": {
             "fill": {
              "color": "#506784"
             },
             "line": {
              "color": "rgb(17,17,17)"
             }
            },
            "header": {
             "fill": {
              "color": "#2a3f5f"
             },
             "line": {
              "color": "rgb(17,17,17)"
             }
            },
            "type": "table"
           }
          ]
         },
         "layout": {
          "annotationdefaults": {
           "arrowcolor": "#f2f5fa",
           "arrowhead": 0,
           "arrowwidth": 1
          },
          "autotypenumbers": "strict",
          "coloraxis": {
           "colorbar": {
            "outlinewidth": 0,
            "ticks": ""
           }
          },
          "colorscale": {
           "diverging": [
            [
             0,
             "#8e0152"
            ],
            [
             0.1,
             "#c51b7d"
            ],
            [
             0.2,
             "#de77ae"
            ],
            [
             0.3,
             "#f1b6da"
            ],
            [
             0.4,
             "#fde0ef"
            ],
            [
             0.5,
             "#f7f7f7"
            ],
            [
             0.6,
             "#e6f5d0"
            ],
            [
             0.7,
             "#b8e186"
            ],
            [
             0.8,
             "#7fbc41"
            ],
            [
             0.9,
             "#4d9221"
            ],
            [
             1,
             "#276419"
            ]
           ],
           "sequential": [
            [
             0,
             "#0d0887"
            ],
            [
             0.1111111111111111,
             "#46039f"
            ],
            [
             0.2222222222222222,
             "#7201a8"
            ],
            [
             0.3333333333333333,
             "#9c179e"
            ],
            [
             0.4444444444444444,
             "#bd3786"
            ],
            [
             0.5555555555555556,
             "#d8576b"
            ],
            [
             0.6666666666666666,
             "#ed7953"
            ],
            [
             0.7777777777777778,
             "#fb9f3a"
            ],
            [
             0.8888888888888888,
             "#fdca26"
            ],
            [
             1,
             "#f0f921"
            ]
           ],
           "sequentialminus": [
            [
             0,
             "#0d0887"
            ],
            [
             0.1111111111111111,
             "#46039f"
            ],
            [
             0.2222222222222222,
             "#7201a8"
            ],
            [
             0.3333333333333333,
             "#9c179e"
            ],
            [
             0.4444444444444444,
             "#bd3786"
            ],
            [
             0.5555555555555556,
             "#d8576b"
            ],
            [
             0.6666666666666666,
             "#ed7953"
            ],
            [
             0.7777777777777778,
             "#fb9f3a"
            ],
            [
             0.8888888888888888,
             "#fdca26"
            ],
            [
             1,
             "#f0f921"
            ]
           ]
          },
          "colorway": [
           "#636efa",
           "#EF553B",
           "#00cc96",
           "#ab63fa",
           "#FFA15A",
           "#19d3f3",
           "#FF6692",
           "#B6E880",
           "#FF97FF",
           "#FECB52"
          ],
          "font": {
           "color": "#f2f5fa"
          },
          "geo": {
           "bgcolor": "rgb(17,17,17)",
           "lakecolor": "rgb(17,17,17)",
           "landcolor": "rgb(17,17,17)",
           "showlakes": true,
           "showland": true,
           "subunitcolor": "#506784"
          },
          "hoverlabel": {
           "align": "left"
          },
          "hovermode": "closest",
          "mapbox": {
           "style": "dark"
          },
          "paper_bgcolor": "rgb(17,17,17)",
          "plot_bgcolor": "rgb(17,17,17)",
          "polar": {
           "angularaxis": {
            "gridcolor": "#506784",
            "linecolor": "#506784",
            "ticks": ""
           },
           "bgcolor": "rgb(17,17,17)",
           "radialaxis": {
            "gridcolor": "#506784",
            "linecolor": "#506784",
            "ticks": ""
           }
          },
          "scene": {
           "xaxis": {
            "backgroundcolor": "rgb(17,17,17)",
            "gridcolor": "#506784",
            "gridwidth": 2,
            "linecolor": "#506784",
            "showbackground": true,
            "ticks": "",
            "zerolinecolor": "#C8D4E3"
           },
           "yaxis": {
            "backgroundcolor": "rgb(17,17,17)",
            "gridcolor": "#506784",
            "gridwidth": 2,
            "linecolor": "#506784",
            "showbackground": true,
            "ticks": "",
            "zerolinecolor": "#C8D4E3"
           },
           "zaxis": {
            "backgroundcolor": "rgb(17,17,17)",
            "gridcolor": "#506784",
            "gridwidth": 2,
            "linecolor": "#506784",
            "showbackground": true,
            "ticks": "",
            "zerolinecolor": "#C8D4E3"
           }
          },
          "shapedefaults": {
           "line": {
            "color": "#f2f5fa"
           }
          },
          "sliderdefaults": {
           "bgcolor": "#C8D4E3",
           "bordercolor": "rgb(17,17,17)",
           "borderwidth": 1,
           "tickwidth": 0
          },
          "ternary": {
           "aaxis": {
            "gridcolor": "#506784",
            "linecolor": "#506784",
            "ticks": ""
           },
           "baxis": {
            "gridcolor": "#506784",
            "linecolor": "#506784",
            "ticks": ""
           },
           "bgcolor": "rgb(17,17,17)",
           "caxis": {
            "gridcolor": "#506784",
            "linecolor": "#506784",
            "ticks": ""
           }
          },
          "title": {
           "x": 0.05
          },
          "updatemenudefaults": {
           "bgcolor": "#506784",
           "borderwidth": 0
          },
          "xaxis": {
           "automargin": true,
           "gridcolor": "#283442",
           "linecolor": "#506784",
           "ticks": "",
           "title": {
            "standoff": 15
           },
           "zerolinecolor": "#283442",
           "zerolinewidth": 2
          },
          "yaxis": {
           "automargin": true,
           "gridcolor": "#283442",
           "linecolor": "#506784",
           "ticks": "",
           "title": {
            "standoff": 15
           },
           "zerolinecolor": "#283442",
           "zerolinewidth": 2
          }
         }
        },
        "title": {
         "text": "Users by Most Popular Stations for Casual Users"
        },
        "width": 1400,
        "xaxis": {
         "anchor": "y",
         "domain": [
          0,
          1
         ],
         "dtick": "M1",
         "tickformat": "%b",
         "title": {
          "text": "Station name"
         }
        },
        "yaxis": {
         "anchor": "x",
         "domain": [
          0,
          1
         ],
         "dtick": 10000,
         "range": [
          0,
          null
         ],
         "side": "left",
         "title": {
          "text": "Activity"
         }
        }
       }
      }
     },
     "metadata": {},
     "output_type": "display_data"
    }
   ],
   "source": [
    "legend_name = {\n",
    "    'casual': 'Casual',\n",
    "    'member': 'Member',\n",
    "}\n",
    "\n",
    "most_popular_stations_records_bar = px.bar(\n",
    "    most_popular_casual_stations_df,\n",
    "    x='start_station_name',\n",
    "    y='count',\n",
    "    color='member_casual',\n",
    "    width=1400,\n",
    "    template='plotly_dark',\n",
    "    color_discrete_sequence=['silver', 'goldenrod'],\n",
    ")\n",
    "\n",
    "most_popular_stations_records_bar.for_each_trace(lambda x: x.update(name=legend_name[x.name]))\n",
    "\n",
    "most_popular_stations_records_bar.update_layout(\n",
    "    xaxis_title='Station name', \n",
    "    yaxis_title='Activity', \n",
    "    title='Users by Most Popular Stations for Casual Users',\n",
    "    legend_title_text='Subscription',\n",
    "    yaxis=dict(\n",
    "        range=[0, None],\n",
    "        dtick=10000,\n",
    "        side='left'\n",
    "    ),\n",
    "    xaxis=dict(\n",
    "        dtick=\"M1\",\n",
    "        tickformat=\"%b\",\n",
    "    ),\n",
    "    margin=dict(\n",
    "        pad=10\n",
    "    ),\n",
    ")\n",
    "\n",
    "most_popular_stations_records_bar.show()"
   ]
  },
  {
   "cell_type": "markdown",
   "id": "72b45947",
   "metadata": {},
   "source": [
    "According to the graph above:\n",
    "* High casual use at stations near attractions or scenic areas confirms that casual riders are likely tourists or occasional users"
   ]
  },
  {
   "cell_type": "markdown",
   "id": "5d576c5a",
   "metadata": {},
   "source": [
    "### Number of Users by Geolocation"
   ]
  },
  {
   "cell_type": "code",
   "execution_count": 159,
   "id": "d1249afc",
   "metadata": {},
   "outputs": [
    {
     "data": {
      "text/html": [
       "<div>\n",
       "<style scoped>\n",
       "    .dataframe tbody tr th:only-of-type {\n",
       "        vertical-align: middle;\n",
       "    }\n",
       "\n",
       "    .dataframe tbody tr th {\n",
       "        vertical-align: top;\n",
       "    }\n",
       "\n",
       "    .dataframe thead th {\n",
       "        text-align: right;\n",
       "    }\n",
       "</style>\n",
       "<table border=\"1\" class=\"dataframe\">\n",
       "  <thead>\n",
       "    <tr style=\"text-align: right;\">\n",
       "      <th></th>\n",
       "      <th>start_lat</th>\n",
       "      <th>start_lng</th>\n",
       "      <th>count</th>\n",
       "    </tr>\n",
       "  </thead>\n",
       "  <tbody>\n",
       "    <tr>\n",
       "      <th>0</th>\n",
       "      <td>41.892278</td>\n",
       "      <td>-87.612043</td>\n",
       "      <td>55900</td>\n",
       "    </tr>\n",
       "    <tr>\n",
       "      <th>1</th>\n",
       "      <td>41.880958</td>\n",
       "      <td>-87.616743</td>\n",
       "      <td>37223</td>\n",
       "    </tr>\n",
       "    <tr>\n",
       "      <th>2</th>\n",
       "      <td>41.911722</td>\n",
       "      <td>-87.626804</td>\n",
       "      <td>33175</td>\n",
       "    </tr>\n",
       "    <tr>\n",
       "      <th>3</th>\n",
       "      <td>41.900960</td>\n",
       "      <td>-87.623777</td>\n",
       "      <td>31666</td>\n",
       "    </tr>\n",
       "    <tr>\n",
       "      <th>4</th>\n",
       "      <td>41.889177</td>\n",
       "      <td>-87.638506</td>\n",
       "      <td>29669</td>\n",
       "    </tr>\n",
       "    <tr>\n",
       "      <th>...</th>\n",
       "      <td>...</td>\n",
       "      <td>...</td>\n",
       "      <td>...</td>\n",
       "    </tr>\n",
       "    <tr>\n",
       "      <th>749</th>\n",
       "      <td>41.930980</td>\n",
       "      <td>-87.801060</td>\n",
       "      <td>102</td>\n",
       "    </tr>\n",
       "    <tr>\n",
       "      <th>750</th>\n",
       "      <td>41.902820</td>\n",
       "      <td>-87.692397</td>\n",
       "      <td>102</td>\n",
       "    </tr>\n",
       "    <tr>\n",
       "      <th>751</th>\n",
       "      <td>41.704575</td>\n",
       "      <td>-87.528232</td>\n",
       "      <td>102</td>\n",
       "    </tr>\n",
       "    <tr>\n",
       "      <th>752</th>\n",
       "      <td>41.924751</td>\n",
       "      <td>-87.778272</td>\n",
       "      <td>102</td>\n",
       "    </tr>\n",
       "    <tr>\n",
       "      <th>753</th>\n",
       "      <td>41.838912</td>\n",
       "      <td>-87.716896</td>\n",
       "      <td>101</td>\n",
       "    </tr>\n",
       "  </tbody>\n",
       "</table>\n",
       "<p>754 rows × 3 columns</p>\n",
       "</div>"
      ],
      "text/plain": [
       "     start_lat  start_lng  count\n",
       "0    41.892278 -87.612043  55900\n",
       "1    41.880958 -87.616743  37223\n",
       "2    41.911722 -87.626804  33175\n",
       "3    41.900960 -87.623777  31666\n",
       "4    41.889177 -87.638506  29669\n",
       "..         ...        ...    ...\n",
       "749  41.930980 -87.801060    102\n",
       "750  41.902820 -87.692397    102\n",
       "751  41.704575 -87.528232    102\n",
       "752  41.924751 -87.778272    102\n",
       "753  41.838912 -87.716896    101\n",
       "\n",
       "[754 rows x 3 columns]"
      ]
     },
     "execution_count": 159,
     "metadata": {},
     "output_type": "execute_result"
    }
   ],
   "source": [
    "geo_member_df = (\n",
    "    analysis_df\n",
    "    .value_counts(['start_lat', 'start_lng'])\n",
    "    .reset_index()\n",
    "    .query('count > 100')\n",
    "    .astype({'start_lat': 'float64', 'start_lng': 'float64',})\n",
    ")\n",
    "\n",
    "geo_member_df"
   ]
  },
  {
   "cell_type": "code",
   "execution_count": 160,
   "id": "0804e2fc",
   "metadata": {},
   "outputs": [
    {
     "data": {
      "application/vnd.plotly.v1+json": {
       "config": {
        "plotlyServerURL": "https://plot.ly"
       },
       "data": [
        {
         "hovertemplate": "count=%{marker.color}<br>start_lat=%{lat}<br>start_lng=%{lon}<extra></extra>",
         "lat": {
          "bdata": "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",
          "dtype": "f8"
         },
         "legendgroup": "",
         "lon": {
          "bdata": "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",
          "dtype": "f8"
         },
         "marker": {
          "color": {
           "bdata": "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",
           "dtype": "i4"
          },
          "coloraxis": "coloraxis",
          "size": {
           "bdata": "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",
           "dtype": "i4"
          },
          "sizemode": "area",
          "sizeref": 248.44444444444446
         },
         "mode": "markers",
         "name": "",
         "showlegend": false,
         "subplot": "map",
         "type": "scattermap"
        }
       ],
       "layout": {
        "coloraxis": {
         "colorbar": {
          "title": {
           "text": "count"
          }
         },
         "colorscale": [
          [
           0,
           "#0d0887"
          ],
          [
           0.1111111111111111,
           "#46039f"
          ],
          [
           0.2222222222222222,
           "#7201a8"
          ],
          [
           0.3333333333333333,
           "#9c179e"
          ],
          [
           0.4444444444444444,
           "#bd3786"
          ],
          [
           0.5555555555555556,
           "#d8576b"
          ],
          [
           0.6666666666666666,
           "#ed7953"
          ],
          [
           0.7777777777777778,
           "#fb9f3a"
          ],
          [
           0.8888888888888888,
           "#fdca26"
          ],
          [
           1,
           "#f0f921"
          ]
         ]
        },
        "height": 1000,
        "legend": {
         "itemsizing": "constant",
         "tracegroupgap": 0
        },
        "map": {
         "center": {
          "lat": 41.897885610936356,
          "lon": -87.66346172901211
         },
         "domain": {
          "x": [
           0,
           1
          ],
          "y": [
           0,
           1
          ]
         },
         "zoom": 10.5
        },
        "mapbox": {
         "center": {
          "lat": 41.897885610936356,
          "lon": -87.66346172901211
         },
         "zoom": 10.5
        },
        "margin": {
         "t": 60
        },
        "template": {
         "data": {
          "bar": [
           {
            "error_x": {
             "color": "#2a3f5f"
            },
            "error_y": {
             "color": "#2a3f5f"
            },
            "marker": {
             "line": {
              "color": "#E5ECF6",
              "width": 0.5
             },
             "pattern": {
              "fillmode": "overlay",
              "size": 10,
              "solidity": 0.2
             }
            },
            "type": "bar"
           }
          ],
          "barpolar": [
           {
            "marker": {
             "line": {
              "color": "#E5ECF6",
              "width": 0.5
             },
             "pattern": {
              "fillmode": "overlay",
              "size": 10,
              "solidity": 0.2
             }
            },
            "type": "barpolar"
           }
          ],
          "carpet": [
           {
            "aaxis": {
             "endlinecolor": "#2a3f5f",
             "gridcolor": "white",
             "linecolor": "white",
             "minorgridcolor": "white",
             "startlinecolor": "#2a3f5f"
            },
            "baxis": {
             "endlinecolor": "#2a3f5f",
             "gridcolor": "white",
             "linecolor": "white",
             "minorgridcolor": "white",
             "startlinecolor": "#2a3f5f"
            },
            "type": "carpet"
           }
          ],
          "choropleth": [
           {
            "colorbar": {
             "outlinewidth": 0,
             "ticks": ""
            },
            "type": "choropleth"
           }
          ],
          "contour": [
           {
            "colorbar": {
             "outlinewidth": 0,
             "ticks": ""
            },
            "colorscale": [
             [
              0,
              "#0d0887"
             ],
             [
              0.1111111111111111,
              "#46039f"
             ],
             [
              0.2222222222222222,
              "#7201a8"
             ],
             [
              0.3333333333333333,
              "#9c179e"
             ],
             [
              0.4444444444444444,
              "#bd3786"
             ],
             [
              0.5555555555555556,
              "#d8576b"
             ],
             [
              0.6666666666666666,
              "#ed7953"
             ],
             [
              0.7777777777777778,
              "#fb9f3a"
             ],
             [
              0.8888888888888888,
              "#fdca26"
             ],
             [
              1,
              "#f0f921"
             ]
            ],
            "type": "contour"
           }
          ],
          "contourcarpet": [
           {
            "colorbar": {
             "outlinewidth": 0,
             "ticks": ""
            },
            "type": "contourcarpet"
           }
          ],
          "heatmap": [
           {
            "colorbar": {
             "outlinewidth": 0,
             "ticks": ""
            },
            "colorscale": [
             [
              0,
              "#0d0887"
             ],
             [
              0.1111111111111111,
              "#46039f"
             ],
             [
              0.2222222222222222,
              "#7201a8"
             ],
             [
              0.3333333333333333,
              "#9c179e"
             ],
             [
              0.4444444444444444,
              "#bd3786"
             ],
             [
              0.5555555555555556,
              "#d8576b"
             ],
             [
              0.6666666666666666,
              "#ed7953"
             ],
             [
              0.7777777777777778,
              "#fb9f3a"
             ],
             [
              0.8888888888888888,
              "#fdca26"
             ],
             [
              1,
              "#f0f921"
             ]
            ],
            "type": "heatmap"
           }
          ],
          "histogram": [
           {
            "marker": {
             "pattern": {
              "fillmode": "overlay",
              "size": 10,
              "solidity": 0.2
             }
            },
            "type": "histogram"
           }
          ],
          "histogram2d": [
           {
            "colorbar": {
             "outlinewidth": 0,
             "ticks": ""
            },
            "colorscale": [
             [
              0,
              "#0d0887"
             ],
             [
              0.1111111111111111,
              "#46039f"
             ],
             [
              0.2222222222222222,
              "#7201a8"
             ],
             [
              0.3333333333333333,
              "#9c179e"
             ],
             [
              0.4444444444444444,
              "#bd3786"
             ],
             [
              0.5555555555555556,
              "#d8576b"
             ],
             [
              0.6666666666666666,
              "#ed7953"
             ],
             [
              0.7777777777777778,
              "#fb9f3a"
             ],
             [
              0.8888888888888888,
              "#fdca26"
             ],
             [
              1,
              "#f0f921"
             ]
            ],
            "type": "histogram2d"
           }
          ],
          "histogram2dcontour": [
           {
            "colorbar": {
             "outlinewidth": 0,
             "ticks": ""
            },
            "colorscale": [
             [
              0,
              "#0d0887"
             ],
             [
              0.1111111111111111,
              "#46039f"
             ],
             [
              0.2222222222222222,
              "#7201a8"
             ],
             [
              0.3333333333333333,
              "#9c179e"
             ],
             [
              0.4444444444444444,
              "#bd3786"
             ],
             [
              0.5555555555555556,
              "#d8576b"
             ],
             [
              0.6666666666666666,
              "#ed7953"
             ],
             [
              0.7777777777777778,
              "#fb9f3a"
             ],
             [
              0.8888888888888888,
              "#fdca26"
             ],
             [
              1,
              "#f0f921"
             ]
            ],
            "type": "histogram2dcontour"
           }
          ],
          "mesh3d": [
           {
            "colorbar": {
             "outlinewidth": 0,
             "ticks": ""
            },
            "type": "mesh3d"
           }
          ],
          "parcoords": [
           {
            "line": {
             "colorbar": {
              "outlinewidth": 0,
              "ticks": ""
             }
            },
            "type": "parcoords"
           }
          ],
          "pie": [
           {
            "automargin": true,
            "type": "pie"
           }
          ],
          "scatter": [
           {
            "fillpattern": {
             "fillmode": "overlay",
             "size": 10,
             "solidity": 0.2
            },
            "type": "scatter"
           }
          ],
          "scatter3d": [
           {
            "line": {
             "colorbar": {
              "outlinewidth": 0,
              "ticks": ""
             }
            },
            "marker": {
             "colorbar": {
              "outlinewidth": 0,
              "ticks": ""
             }
            },
            "type": "scatter3d"
           }
          ],
          "scattercarpet": [
           {
            "marker": {
             "colorbar": {
              "outlinewidth": 0,
              "ticks": ""
             }
            },
            "type": "scattercarpet"
           }
          ],
          "scattergeo": [
           {
            "marker": {
             "colorbar": {
              "outlinewidth": 0,
              "ticks": ""
             }
            },
            "type": "scattergeo"
           }
          ],
          "scattergl": [
           {
            "marker": {
             "colorbar": {
              "outlinewidth": 0,
              "ticks": ""
             }
            },
            "type": "scattergl"
           }
          ],
          "scattermap": [
           {
            "marker": {
             "colorbar": {
              "outlinewidth": 0,
              "ticks": ""
             }
            },
            "type": "scattermap"
           }
          ],
          "scattermapbox": [
           {
            "marker": {
             "colorbar": {
              "outlinewidth": 0,
              "ticks": ""
             }
            },
            "type": "scattermapbox"
           }
          ],
          "scatterpolar": [
           {
            "marker": {
             "colorbar": {
              "outlinewidth": 0,
              "ticks": ""
             }
            },
            "type": "scatterpolar"
           }
          ],
          "scatterpolargl": [
           {
            "marker": {
             "colorbar": {
              "outlinewidth": 0,
              "ticks": ""
             }
            },
            "type": "scatterpolargl"
           }
          ],
          "scatterternary": [
           {
            "marker": {
             "colorbar": {
              "outlinewidth": 0,
              "ticks": ""
             }
            },
            "type": "scatterternary"
           }
          ],
          "surface": [
           {
            "colorbar": {
             "outlinewidth": 0,
             "ticks": ""
            },
            "colorscale": [
             [
              0,
              "#0d0887"
             ],
             [
              0.1111111111111111,
              "#46039f"
             ],
             [
              0.2222222222222222,
              "#7201a8"
             ],
             [
              0.3333333333333333,
              "#9c179e"
             ],
             [
              0.4444444444444444,
              "#bd3786"
             ],
             [
              0.5555555555555556,
              "#d8576b"
             ],
             [
              0.6666666666666666,
              "#ed7953"
             ],
             [
              0.7777777777777778,
              "#fb9f3a"
             ],
             [
              0.8888888888888888,
              "#fdca26"
             ],
             [
              1,
              "#f0f921"
             ]
            ],
            "type": "surface"
           }
          ],
          "table": [
           {
            "cells": {
             "fill": {
              "color": "#EBF0F8"
             },
             "line": {
              "color": "white"
             }
            },
            "header": {
             "fill": {
              "color": "#C8D4E3"
             },
             "line": {
              "color": "white"
             }
            },
            "type": "table"
           }
          ]
         },
         "layout": {
          "annotationdefaults": {
           "arrowcolor": "#2a3f5f",
           "arrowhead": 0,
           "arrowwidth": 1
          },
          "autotypenumbers": "strict",
          "coloraxis": {
           "colorbar": {
            "outlinewidth": 0,
            "ticks": ""
           }
          },
          "colorscale": {
           "diverging": [
            [
             0,
             "#8e0152"
            ],
            [
             0.1,
             "#c51b7d"
            ],
            [
             0.2,
             "#de77ae"
            ],
            [
             0.3,
             "#f1b6da"
            ],
            [
             0.4,
             "#fde0ef"
            ],
            [
             0.5,
             "#f7f7f7"
            ],
            [
             0.6,
             "#e6f5d0"
            ],
            [
             0.7,
             "#b8e186"
            ],
            [
             0.8,
             "#7fbc41"
            ],
            [
             0.9,
             "#4d9221"
            ],
            [
             1,
             "#276419"
            ]
           ],
           "sequential": [
            [
             0,
             "#0d0887"
            ],
            [
             0.1111111111111111,
             "#46039f"
            ],
            [
             0.2222222222222222,
             "#7201a8"
            ],
            [
             0.3333333333333333,
             "#9c179e"
            ],
            [
             0.4444444444444444,
             "#bd3786"
            ],
            [
             0.5555555555555556,
             "#d8576b"
            ],
            [
             0.6666666666666666,
             "#ed7953"
            ],
            [
             0.7777777777777778,
             "#fb9f3a"
            ],
            [
             0.8888888888888888,
             "#fdca26"
            ],
            [
             1,
             "#f0f921"
            ]
           ],
           "sequentialminus": [
            [
             0,
             "#0d0887"
            ],
            [
             0.1111111111111111,
             "#46039f"
            ],
            [
             0.2222222222222222,
             "#7201a8"
            ],
            [
             0.3333333333333333,
             "#9c179e"
            ],
            [
             0.4444444444444444,
             "#bd3786"
            ],
            [
             0.5555555555555556,
             "#d8576b"
            ],
            [
             0.6666666666666666,
             "#ed7953"
            ],
            [
             0.7777777777777778,
             "#fb9f3a"
            ],
            [
             0.8888888888888888,
             "#fdca26"
            ],
            [
             1,
             "#f0f921"
            ]
           ]
          },
          "colorway": [
           "#636efa",
           "#EF553B",
           "#00cc96",
           "#ab63fa",
           "#FFA15A",
           "#19d3f3",
           "#FF6692",
           "#B6E880",
           "#FF97FF",
           "#FECB52"
          ],
          "font": {
           "color": "#2a3f5f"
          },
          "geo": {
           "bgcolor": "white",
           "lakecolor": "white",
           "landcolor": "#E5ECF6",
           "showlakes": true,
           "showland": true,
           "subunitcolor": "white"
          },
          "hoverlabel": {
           "align": "left"
          },
          "hovermode": "closest",
          "mapbox": {
           "style": "light"
          },
          "paper_bgcolor": "white",
          "plot_bgcolor": "#E5ECF6",
          "polar": {
           "angularaxis": {
            "gridcolor": "white",
            "linecolor": "white",
            "ticks": ""
           },
           "bgcolor": "#E5ECF6",
           "radialaxis": {
            "gridcolor": "white",
            "linecolor": "white",
            "ticks": ""
           }
          },
          "scene": {
           "xaxis": {
            "backgroundcolor": "#E5ECF6",
            "gridcolor": "white",
            "gridwidth": 2,
            "linecolor": "white",
            "showbackground": true,
            "ticks": "",
            "zerolinecolor": "white"
           },
           "yaxis": {
            "backgroundcolor": "#E5ECF6",
            "gridcolor": "white",
            "gridwidth": 2,
            "linecolor": "white",
            "showbackground": true,
            "ticks": "",
            "zerolinecolor": "white"
           },
           "zaxis": {
            "backgroundcolor": "#E5ECF6",
            "gridcolor": "white",
            "gridwidth": 2,
            "linecolor": "white",
            "showbackground": true,
            "ticks": "",
            "zerolinecolor": "white"
           }
          },
          "shapedefaults": {
           "line": {
            "color": "#2a3f5f"
           }
          },
          "ternary": {
           "aaxis": {
            "gridcolor": "white",
            "linecolor": "white",
            "ticks": ""
           },
           "baxis": {
            "gridcolor": "white",
            "linecolor": "white",
            "ticks": ""
           },
           "bgcolor": "#E5ECF6",
           "caxis": {
            "gridcolor": "white",
            "linecolor": "white",
            "ticks": ""
           }
          },
          "title": {
           "x": 0.05
          },
          "xaxis": {
           "automargin": true,
           "gridcolor": "white",
           "linecolor": "white",
           "ticks": "",
           "title": {
            "standoff": 15
           },
           "zerolinecolor": "white",
           "zerolinewidth": 2
          },
          "yaxis": {
           "automargin": true,
           "gridcolor": "white",
           "linecolor": "white",
           "ticks": "",
           "title": {
            "standoff": 15
           },
           "zerolinecolor": "white",
           "zerolinewidth": 2
          }
         }
        },
        "width": 800
       }
      }
     },
     "metadata": {},
     "output_type": "display_data"
    }
   ],
   "source": [
    "geo_member_scatter_map = px.scatter_map(\n",
    "    geo_member_df,\n",
    "    lat='start_lat',\n",
    "    lon='start_lng',\n",
    "    size='count',\n",
    "    color='count',\n",
    "    size_max=15, \n",
    "    zoom=10.5,\n",
    "    width=800,\n",
    "    height=1000\n",
    ")\n",
    "\n",
    "geo_member_scatter_map.show()"
   ]
  },
  {
   "cell_type": "code",
   "execution_count": 164,
   "id": "c25176ab",
   "metadata": {},
   "outputs": [
    {
     "data": {
      "text/html": [
       "<div>\n",
       "<style scoped>\n",
       "    .dataframe tbody tr th:only-of-type {\n",
       "        vertical-align: middle;\n",
       "    }\n",
       "\n",
       "    .dataframe tbody tr th {\n",
       "        vertical-align: top;\n",
       "    }\n",
       "\n",
       "    .dataframe thead th {\n",
       "        text-align: right;\n",
       "    }\n",
       "</style>\n",
       "<table border=\"1\" class=\"dataframe\">\n",
       "  <thead>\n",
       "    <tr style=\"text-align: right;\">\n",
       "      <th></th>\n",
       "      <th>community</th>\n",
       "      <th>geometry</th>\n",
       "    </tr>\n",
       "  </thead>\n",
       "  <tbody>\n",
       "    <tr>\n",
       "      <th>0</th>\n",
       "      <td>DOUGLAS</td>\n",
       "      <td>MULTIPOLYGON (((-87.60914 41.84469, -87.60915 ...</td>\n",
       "    </tr>\n",
       "    <tr>\n",
       "      <th>1</th>\n",
       "      <td>OAKLAND</td>\n",
       "      <td>MULTIPOLYGON (((-87.59215 41.81693, -87.59231 ...</td>\n",
       "    </tr>\n",
       "    <tr>\n",
       "      <th>2</th>\n",
       "      <td>FULLER PARK</td>\n",
       "      <td>MULTIPOLYGON (((-87.6288 41.80189, -87.62879 4...</td>\n",
       "    </tr>\n",
       "    <tr>\n",
       "      <th>3</th>\n",
       "      <td>GRAND BOULEVARD</td>\n",
       "      <td>MULTIPOLYGON (((-87.60671 41.81681, -87.6067 4...</td>\n",
       "    </tr>\n",
       "    <tr>\n",
       "      <th>4</th>\n",
       "      <td>KENWOOD</td>\n",
       "      <td>MULTIPOLYGON (((-87.59215 41.81693, -87.59215 ...</td>\n",
       "    </tr>\n",
       "    <tr>\n",
       "      <th>...</th>\n",
       "      <td>...</td>\n",
       "      <td>...</td>\n",
       "    </tr>\n",
       "    <tr>\n",
       "      <th>72</th>\n",
       "      <td>MOUNT GREENWOOD</td>\n",
       "      <td>MULTIPOLYGON (((-87.69646 41.70714, -87.69644 ...</td>\n",
       "    </tr>\n",
       "    <tr>\n",
       "      <th>73</th>\n",
       "      <td>MORGAN PARK</td>\n",
       "      <td>MULTIPOLYGON (((-87.64215 41.68508, -87.64249 ...</td>\n",
       "    </tr>\n",
       "    <tr>\n",
       "      <th>74</th>\n",
       "      <td>OHARE</td>\n",
       "      <td>MULTIPOLYGON (((-87.83658 41.9864, -87.83658 4...</td>\n",
       "    </tr>\n",
       "    <tr>\n",
       "      <th>75</th>\n",
       "      <td>EDGEWATER</td>\n",
       "      <td>MULTIPOLYGON (((-87.65456 41.99817, -87.65456 ...</td>\n",
       "    </tr>\n",
       "    <tr>\n",
       "      <th>76</th>\n",
       "      <td>EDISON PARK</td>\n",
       "      <td>MULTIPOLYGON (((-87.80676 42.00084, -87.80676 ...</td>\n",
       "    </tr>\n",
       "  </tbody>\n",
       "</table>\n",
       "<p>77 rows × 2 columns</p>\n",
       "</div>"
      ],
      "text/plain": [
       "          community                                           geometry\n",
       "0           DOUGLAS  MULTIPOLYGON (((-87.60914 41.84469, -87.60915 ...\n",
       "1           OAKLAND  MULTIPOLYGON (((-87.59215 41.81693, -87.59231 ...\n",
       "2       FULLER PARK  MULTIPOLYGON (((-87.6288 41.80189, -87.62879 4...\n",
       "3   GRAND BOULEVARD  MULTIPOLYGON (((-87.60671 41.81681, -87.6067 4...\n",
       "4           KENWOOD  MULTIPOLYGON (((-87.59215 41.81693, -87.59215 ...\n",
       "..              ...                                                ...\n",
       "72  MOUNT GREENWOOD  MULTIPOLYGON (((-87.69646 41.70714, -87.69644 ...\n",
       "73      MORGAN PARK  MULTIPOLYGON (((-87.64215 41.68508, -87.64249 ...\n",
       "74            OHARE  MULTIPOLYGON (((-87.83658 41.9864, -87.83658 4...\n",
       "75        EDGEWATER  MULTIPOLYGON (((-87.65456 41.99817, -87.65456 ...\n",
       "76      EDISON PARK  MULTIPOLYGON (((-87.80676 42.00084, -87.80676 ...\n",
       "\n",
       "[77 rows x 2 columns]"
      ]
     },
     "execution_count": 164,
     "metadata": {},
     "output_type": "execute_result"
    }
   ],
   "source": [
    "commareas = gpd.read_file(\"chicago-community-areas.geojson\")\n",
    "chicago_areas = commareas[['community', 'geometry']]\n",
    "chicago_areas"
   ]
  },
  {
   "cell_type": "code",
   "execution_count": 177,
   "id": "4177b323",
   "metadata": {},
   "outputs": [
    {
     "data": {
      "text/plain": [
       "matplotlib.axes._axes.Axes"
      ]
     },
     "execution_count": 177,
     "metadata": {},
     "output_type": "execute_result"
    },
    {
     "data": {
      "image/png": "[encoded data removed]",
      "text/plain": [
       "<Figure size 1500x1000 with 1 Axes>"
      ]
     },
     "metadata": {},
     "output_type": "display_data"
    }
   ],
   "source": [
    "# https://geopandas.org/en/stable/docs/user_guide/mapping.html\n",
    "\n",
    "# how to assign count values to communities of chicago_areas?\n",
    "# how to draw scatterplot on base?\n",
    "# how to do it in plotly?\n",
    "\n",
    "base = chicago_areas.plot(\n",
    "    color='white', \n",
    "    edgecolor='black', \n",
    "    figsize=(15, 10), \n",
    ")\n",
    "\n",
    "type(base)"
   ]
  }
 ],
 "metadata": {
  "kernelspec": {
   "display_name": "myenv",
   "language": "python",
   "name": "python3"
  },
  "language_info": {
   "codemirror_mode": {
    "name": "ipython",
    "version": 3
   },
   "file_extension": ".py",
   "mimetype": "text/x-python",
   "name": "python",
   "nbconvert_exporter": "python",
   "pygments_lexer": "ipython3",
   "version": "3.13.0"
  }
 },
 "nbformat": 4,
 "nbformat_minor": 5
}
