{
 "cells": [
  {
   "cell_type": "markdown",
   "id": "16835915",
   "metadata": {},
   "source": [
    "# Case study, How does a bike-share navigate speedy success?\n",
    "<p style=\"align, center\"><img src=\"./misc/bike.JPG\"></p>\n",
    "\n",
    "## Business Task\n",
    "Design marketing strategies aimed at converting casual riders into annual members\n",
    "\n",
    "## Analytic questions:\n",
    "* How do annual members and casual riders use Cyclistic bikes differently?\n",
    "* Why would casual riders buy Cyclistic annual memberships? \n",
    "* How can Cyclistic use digital media to influence casual riders to become members?\n",
    "\n",
    "### Source\n",
    "* 202401-divvy-tripdata.csv\n",
    "* 202402-divvy-tripdata.csv\n",
    "* 202403-divvy-tripdata.csv\n",
    "* 202404-divvy-tripdata.csv\n",
    "* 202405-divvy-tripdata.csv\n",
    "* 202406-divvy-tripdata.csv\n",
    "* 202407-divvy-tripdata.csv\n",
    "* 202408-divvy-tripdata.csv\n",
    "* 202409-divvy-tripdata.csv\n",
    "* 202410-divvy-tripdata.csv\n",
    "* 202411-divvy-tripdata.csv\n",
    "* 202412-divvy-tripdata.csv\n",
    "\n",
    "<p style=\"font-style: italic;\">The data has been made available by Motivate International Inc. under this <a href=\"https://divvybikes.com/data-license-agreement\">license</a>.</p>"
   ]
  },
  {
   "cell_type": "markdown",
   "id": "8f802ade",
   "metadata": {},
   "source": [
    "## Libraries import"
   ]
  },
  {
   "cell_type": "code",
   "execution_count": 579,
   "id": "98e0b6ab",
   "metadata": {},
   "outputs": [],
   "source": [
    "import glob\n",
    "import pandas as pd\n",
    "import numpy as np\n",
    "import matplotlib.pyplot as plt\n",
    "import seaborn as sns\n",
    "import plotly.express as px\n",
    "import plotly.graph_objects as go\n",
    "from datetime import datetime, timedelta\n",
    "plt.style.use('ggplot')"
   ]
  },
  {
   "cell_type": "markdown",
   "id": "f0dd0308",
   "metadata": {},
   "source": [
    "# Preparation\n",
    "### Load raw data"
   ]
  },
  {
   "cell_type": "code",
   "execution_count": 580,
   "id": "8c8c05ff",
   "metadata": {},
   "outputs": [
    {
     "data": {
      "text/html": [
       "<div>\n",
       "<style scoped>\n",
       "    .dataframe tbody tr th:only-of-type {\n",
       "        vertical-align: middle;\n",
       "    }\n",
       "\n",
       "    .dataframe tbody tr th {\n",
       "        vertical-align: top;\n",
       "    }\n",
       "\n",
       "    .dataframe thead th {\n",
       "        text-align: right;\n",
       "    }\n",
       "</style>\n",
       "<table border=\"1\" class=\"dataframe\">\n",
       "  <thead>\n",
       "    <tr style=\"text-align: right;\">\n",
       "      <th></th>\n",
       "      <th>ride_id</th>\n",
       "      <th>rideable_type</th>\n",
       "      <th>started_at</th>\n",
       "      <th>ended_at</th>\n",
       "      <th>start_station_name</th>\n",
       "      <th>start_station_id</th>\n",
       "      <th>end_station_name</th>\n",
       "      <th>end_station_id</th>\n",
       "      <th>start_lat</th>\n",
       "      <th>start_lng</th>\n",
       "      <th>end_lat</th>\n",
       "      <th>end_lng</th>\n",
       "      <th>member_casual</th>\n",
       "    </tr>\n",
       "  </thead>\n",
       "  <tbody>\n",
       "    <tr>\n",
       "      <th>0</th>\n",
       "      <td>C1D650626C8C899A</td>\n",
       "      <td>electric_bike</td>\n",
       "      <td>2024-01-12 15:30:27</td>\n",
       "      <td>2024-01-12 15:37:59</td>\n",
       "      <td>Wells St &amp; Elm St</td>\n",
       "      <td>KA1504000135</td>\n",
       "      <td>Kingsbury St &amp; Kinzie St</td>\n",
       "      <td>KA1503000043</td>\n",
       "      <td>41.903267</td>\n",
       "      <td>-87.634737</td>\n",
       "      <td>41.889177</td>\n",
       "      <td>-87.638506</td>\n",
       "      <td>member</td>\n",
       "    </tr>\n",
       "    <tr>\n",
       "      <th>1</th>\n",
       "      <td>EECD38BDB25BFCB0</td>\n",
       "      <td>electric_bike</td>\n",
       "      <td>2024-01-08 15:45:46</td>\n",
       "      <td>2024-01-08 15:52:59</td>\n",
       "      <td>Wells St &amp; Elm St</td>\n",
       "      <td>KA1504000135</td>\n",
       "      <td>Kingsbury St &amp; Kinzie St</td>\n",
       "      <td>KA1503000043</td>\n",
       "      <td>41.902937</td>\n",
       "      <td>-87.634440</td>\n",
       "      <td>41.889177</td>\n",
       "      <td>-87.638506</td>\n",
       "      <td>member</td>\n",
       "    </tr>\n",
       "    <tr>\n",
       "      <th>2</th>\n",
       "      <td>F4A9CE78061F17F7</td>\n",
       "      <td>electric_bike</td>\n",
       "      <td>2024-01-27 12:27:19</td>\n",
       "      <td>2024-01-27 12:35:19</td>\n",
       "      <td>Wells St &amp; Elm St</td>\n",
       "      <td>KA1504000135</td>\n",
       "      <td>Kingsbury St &amp; Kinzie St</td>\n",
       "      <td>KA1503000043</td>\n",
       "      <td>41.902951</td>\n",
       "      <td>-87.634470</td>\n",
       "      <td>41.889177</td>\n",
       "      <td>-87.638506</td>\n",
       "      <td>member</td>\n",
       "    </tr>\n",
       "    <tr>\n",
       "      <th>3</th>\n",
       "      <td>0A0D9E15EE50B171</td>\n",
       "      <td>classic_bike</td>\n",
       "      <td>2024-01-29 16:26:17</td>\n",
       "      <td>2024-01-29 16:56:06</td>\n",
       "      <td>Wells St &amp; Randolph St</td>\n",
       "      <td>TA1305000030</td>\n",
       "      <td>Larrabee St &amp; Webster Ave</td>\n",
       "      <td>13193</td>\n",
       "      <td>41.884295</td>\n",
       "      <td>-87.633963</td>\n",
       "      <td>41.921822</td>\n",
       "      <td>-87.644140</td>\n",
       "      <td>member</td>\n",
       "    </tr>\n",
       "    <tr>\n",
       "      <th>4</th>\n",
       "      <td>33FFC9805E3EFF9A</td>\n",
       "      <td>classic_bike</td>\n",
       "      <td>2024-01-31 05:43:23</td>\n",
       "      <td>2024-01-31 06:09:35</td>\n",
       "      <td>Lincoln Ave &amp; Waveland Ave</td>\n",
       "      <td>13253</td>\n",
       "      <td>Kingsbury St &amp; Kinzie St</td>\n",
       "      <td>KA1503000043</td>\n",
       "      <td>41.948797</td>\n",
       "      <td>-87.675278</td>\n",
       "      <td>41.889177</td>\n",
       "      <td>-87.638506</td>\n",
       "      <td>member</td>\n",
       "    </tr>\n",
       "  </tbody>\n",
       "</table>\n",
       "</div>"
      ],
      "text/plain": [
       "            ride_id  rideable_type           started_at             ended_at  \\\n",
       "0  C1D650626C8C899A  electric_bike  2024-01-12 15:30:27  2024-01-12 15:37:59   \n",
       "1  EECD38BDB25BFCB0  electric_bike  2024-01-08 15:45:46  2024-01-08 15:52:59   \n",
       "2  F4A9CE78061F17F7  electric_bike  2024-01-27 12:27:19  2024-01-27 12:35:19   \n",
       "3  0A0D9E15EE50B171   classic_bike  2024-01-29 16:26:17  2024-01-29 16:56:06   \n",
       "4  33FFC9805E3EFF9A   classic_bike  2024-01-31 05:43:23  2024-01-31 06:09:35   \n",
       "\n",
       "           start_station_name start_station_id           end_station_name  \\\n",
       "0           Wells St & Elm St     KA1504000135   Kingsbury St & Kinzie St   \n",
       "1           Wells St & Elm St     KA1504000135   Kingsbury St & Kinzie St   \n",
       "2           Wells St & Elm St     KA1504000135   Kingsbury St & Kinzie St   \n",
       "3      Wells St & Randolph St     TA1305000030  Larrabee St & Webster Ave   \n",
       "4  Lincoln Ave & Waveland Ave            13253   Kingsbury St & Kinzie St   \n",
       "\n",
       "  end_station_id  start_lat  start_lng    end_lat    end_lng member_casual  \n",
       "0   KA1503000043  41.903267 -87.634737  41.889177 -87.638506        member  \n",
       "1   KA1503000043  41.902937 -87.634440  41.889177 -87.638506        member  \n",
       "2   KA1503000043  41.902951 -87.634470  41.889177 -87.638506        member  \n",
       "3          13193  41.884295 -87.633963  41.921822 -87.644140        member  \n",
       "4   KA1503000043  41.948797 -87.675278  41.889177 -87.638506        member  "
      ]
     },
     "execution_count": 580,
     "metadata": {},
     "output_type": "execute_result"
    }
   ],
   "source": [
    "csv_files = glob.glob('raw data/*.csv')\n",
    "dfs = []\n",
    "\n",
    "for file in csv_files:\n",
    "    data = pd.read_csv(file, encoding=\"utf-8\",) \n",
    "    dfs.append(data)\n",
    "\n",
    "df = pd.concat(dfs)\n",
    "df.head()"
   ]
  },
  {
   "cell_type": "markdown",
   "id": "c23fc3bf",
   "metadata": {},
   "source": [
    "### Loading revelant columns"
   ]
  },
  {
   "cell_type": "code",
   "execution_count": 581,
   "id": "f986eef1",
   "metadata": {},
   "outputs": [
    {
     "data": {
      "text/html": [
       "<div>\n",
       "<style scoped>\n",
       "    .dataframe tbody tr th:only-of-type {\n",
       "        vertical-align: middle;\n",
       "    }\n",
       "\n",
       "    .dataframe tbody tr th {\n",
       "        vertical-align: top;\n",
       "    }\n",
       "\n",
       "    .dataframe thead th {\n",
       "        text-align: right;\n",
       "    }\n",
       "</style>\n",
       "<table border=\"1\" class=\"dataframe\">\n",
       "  <thead>\n",
       "    <tr style=\"text-align: right;\">\n",
       "      <th></th>\n",
       "      <th>ride_id</th>\n",
       "      <th>rideable_type</th>\n",
       "      <th>started_at</th>\n",
       "      <th>ended_at</th>\n",
       "      <th>start_station_name</th>\n",
       "      <th>end_station_name</th>\n",
       "      <th>member_casual</th>\n",
       "      <th>start_lat</th>\n",
       "      <th>start_lng</th>\n",
       "      <th>end_lat</th>\n",
       "      <th>end_lng</th>\n",
       "    </tr>\n",
       "  </thead>\n",
       "  <tbody>\n",
       "    <tr>\n",
       "      <th>0</th>\n",
       "      <td>C1D650626C8C899A</td>\n",
       "      <td>electric_bike</td>\n",
       "      <td>2024-01-12 15:30:27</td>\n",
       "      <td>2024-01-12 15:37:59</td>\n",
       "      <td>Wells St &amp; Elm St</td>\n",
       "      <td>Kingsbury St &amp; Kinzie St</td>\n",
       "      <td>member</td>\n",
       "      <td>41.903267</td>\n",
       "      <td>-87.634737</td>\n",
       "      <td>41.889177</td>\n",
       "      <td>-87.638506</td>\n",
       "    </tr>\n",
       "    <tr>\n",
       "      <th>1</th>\n",
       "      <td>EECD38BDB25BFCB0</td>\n",
       "      <td>electric_bike</td>\n",
       "      <td>2024-01-08 15:45:46</td>\n",
       "      <td>2024-01-08 15:52:59</td>\n",
       "      <td>Wells St &amp; Elm St</td>\n",
       "      <td>Kingsbury St &amp; Kinzie St</td>\n",
       "      <td>member</td>\n",
       "      <td>41.902937</td>\n",
       "      <td>-87.634440</td>\n",
       "      <td>41.889177</td>\n",
       "      <td>-87.638506</td>\n",
       "    </tr>\n",
       "    <tr>\n",
       "      <th>2</th>\n",
       "      <td>F4A9CE78061F17F7</td>\n",
       "      <td>electric_bike</td>\n",
       "      <td>2024-01-27 12:27:19</td>\n",
       "      <td>2024-01-27 12:35:19</td>\n",
       "      <td>Wells St &amp; Elm St</td>\n",
       "      <td>Kingsbury St &amp; Kinzie St</td>\n",
       "      <td>member</td>\n",
       "      <td>41.902951</td>\n",
       "      <td>-87.634470</td>\n",
       "      <td>41.889177</td>\n",
       "      <td>-87.638506</td>\n",
       "    </tr>\n",
       "    <tr>\n",
       "      <th>3</th>\n",
       "      <td>0A0D9E15EE50B171</td>\n",
       "      <td>classic_bike</td>\n",
       "      <td>2024-01-29 16:26:17</td>\n",
       "      <td>2024-01-29 16:56:06</td>\n",
       "      <td>Wells St &amp; Randolph St</td>\n",
       "      <td>Larrabee St &amp; Webster Ave</td>\n",
       "      <td>member</td>\n",
       "      <td>41.884295</td>\n",
       "      <td>-87.633963</td>\n",
       "      <td>41.921822</td>\n",
       "      <td>-87.644140</td>\n",
       "    </tr>\n",
       "    <tr>\n",
       "      <th>4</th>\n",
       "      <td>33FFC9805E3EFF9A</td>\n",
       "      <td>classic_bike</td>\n",
       "      <td>2024-01-31 05:43:23</td>\n",
       "      <td>2024-01-31 06:09:35</td>\n",
       "      <td>Lincoln Ave &amp; Waveland Ave</td>\n",
       "      <td>Kingsbury St &amp; Kinzie St</td>\n",
       "      <td>member</td>\n",
       "      <td>41.948797</td>\n",
       "      <td>-87.675278</td>\n",
       "      <td>41.889177</td>\n",
       "      <td>-87.638506</td>\n",
       "    </tr>\n",
       "  </tbody>\n",
       "</table>\n",
       "</div>"
      ],
      "text/plain": [
       "            ride_id  rideable_type           started_at             ended_at  \\\n",
       "0  C1D650626C8C899A  electric_bike  2024-01-12 15:30:27  2024-01-12 15:37:59   \n",
       "1  EECD38BDB25BFCB0  electric_bike  2024-01-08 15:45:46  2024-01-08 15:52:59   \n",
       "2  F4A9CE78061F17F7  electric_bike  2024-01-27 12:27:19  2024-01-27 12:35:19   \n",
       "3  0A0D9E15EE50B171   classic_bike  2024-01-29 16:26:17  2024-01-29 16:56:06   \n",
       "4  33FFC9805E3EFF9A   classic_bike  2024-01-31 05:43:23  2024-01-31 06:09:35   \n",
       "\n",
       "           start_station_name           end_station_name member_casual  \\\n",
       "0           Wells St & Elm St   Kingsbury St & Kinzie St        member   \n",
       "1           Wells St & Elm St   Kingsbury St & Kinzie St        member   \n",
       "2           Wells St & Elm St   Kingsbury St & Kinzie St        member   \n",
       "3      Wells St & Randolph St  Larrabee St & Webster Ave        member   \n",
       "4  Lincoln Ave & Waveland Ave   Kingsbury St & Kinzie St        member   \n",
       "\n",
       "   start_lat  start_lng    end_lat    end_lng  \n",
       "0  41.903267 -87.634737  41.889177 -87.638506  \n",
       "1  41.902937 -87.634440  41.889177 -87.638506  \n",
       "2  41.902951 -87.634470  41.889177 -87.638506  \n",
       "3  41.884295 -87.633963  41.921822 -87.644140  \n",
       "4  41.948797 -87.675278  41.889177 -87.638506  "
      ]
     },
     "execution_count": 581,
     "metadata": {},
     "output_type": "execute_result"
    }
   ],
   "source": [
    "revelant_cols_df = df[['ride_id', 'rideable_type', 'started_at', 'ended_at', 'start_station_name', 'end_station_name', 'member_casual', 'start_lat', 'start_lng', 'end_lat', 'end_lng']].copy()\n",
    "revelant_cols_df.head()"
   ]
  },
  {
   "cell_type": "markdown",
   "id": "84f140f1",
   "metadata": {},
   "source": [
    "### Efficient datatypes conversion "
   ]
  },
  {
   "cell_type": "code",
   "execution_count": 582,
   "id": "0ca39ad1",
   "metadata": {},
   "outputs": [
    {
     "data": {
      "text/plain": [
       "ride_id               string[pyarrow]\n",
       "rideable_type                category\n",
       "started_at             datetime64[ns]\n",
       "ended_at               datetime64[ns]\n",
       "start_station_name           category\n",
       "end_station_name             category\n",
       "member_casual                category\n",
       "start_lat                    category\n",
       "start_lng                    category\n",
       "end_lat                      category\n",
       "end_lng                      category\n",
       "dtype: object"
      ]
     },
     "execution_count": 582,
     "metadata": {},
     "output_type": "execute_result"
    }
   ],
   "source": [
    "schema = {\n",
    "    'ride_id': 'string[pyarrow]',\n",
    "    'rideable_type': 'category',\n",
    "    'started_at': 'datetime64[ns]',\n",
    "    'ended_at': 'datetime64[ns]',\n",
    "    'start_station_name': 'category',\n",
    "    'end_station_name': 'category',\n",
    "    'member_casual': 'category',\n",
    "    'start_lat': 'category', \n",
    "    'start_lng': 'category', \n",
    "    'end_lat': 'category', \n",
    "    'end_lng': 'category'\n",
    "}\n",
    "\n",
    "cast_df = revelant_cols_df.astype(schema).copy()\n",
    "cast_df.dtypes"
   ]
  },
  {
   "cell_type": "markdown",
   "id": "d45fca91",
   "metadata": {},
   "source": [
    "### Memory usage comparison"
   ]
  },
  {
   "cell_type": "code",
   "execution_count": 583,
   "id": "4d5cee2a",
   "metadata": {},
   "outputs": [
    {
     "name": "stdout",
     "output_type": "stream",
     "text": [
      "<class 'pandas.core.frame.DataFrame'>\n",
      "Index: 5860568 entries, 0 to 178371\n",
      "Data columns (total 13 columns):\n",
      " #   Column              Dtype  \n",
      "---  ------              -----  \n",
      " 0   ride_id             object \n",
      " 1   rideable_type       object \n",
      " 2   started_at          object \n",
      " 3   ended_at            object \n",
      " 4   start_station_name  object \n",
      " 5   start_station_id    object \n",
      " 6   end_station_name    object \n",
      " 7   end_station_id      object \n",
      " 8   start_lat           float64\n",
      " 9   start_lng           float64\n",
      " 10  end_lat             float64\n",
      " 11  end_lng             float64\n",
      " 12  member_casual       object \n",
      "dtypes: float64(4), object(9)\n",
      "memory usage: 3.3 GB\n"
     ]
    }
   ],
   "source": [
    "df.info(memory_usage='deep')"
   ]
  },
  {
   "cell_type": "code",
   "execution_count": 584,
   "id": "b85452c5",
   "metadata": {},
   "outputs": [
    {
     "name": "stdout",
     "output_type": "stream",
     "text": [
      "<class 'pandas.core.frame.DataFrame'>\n",
      "Index: 5860568 entries, 0 to 178371\n",
      "Data columns (total 11 columns):\n",
      " #   Column              Dtype         \n",
      "---  ------              -----         \n",
      " 0   ride_id             string        \n",
      " 1   rideable_type       category      \n",
      " 2   started_at          datetime64[ns]\n",
      " 3   ended_at            datetime64[ns]\n",
      " 4   start_station_name  category      \n",
      " 5   end_station_name    category      \n",
      " 6   member_casual       category      \n",
      " 7   start_lat           category      \n",
      " 8   start_lng           category      \n",
      " 9   end_lat             category      \n",
      " 10  end_lng             category      \n",
      "dtypes: category(8), datetime64[ns](2), string(1)\n",
      "memory usage: 409.7 MB\n"
     ]
    }
   ],
   "source": [
    "cast_df.info(memory_usage='deep')"
   ]
  },
  {
   "cell_type": "markdown",
   "id": "53334477",
   "metadata": {},
   "source": [
    "# Process\n",
    "\n",
    "## Preliminary data analysis"
   ]
  },
  {
   "cell_type": "code",
   "execution_count": 585,
   "id": "7facac25",
   "metadata": {},
   "outputs": [
    {
     "data": {
      "text/plain": [
       "(5860568, 11)"
      ]
     },
     "execution_count": 585,
     "metadata": {},
     "output_type": "execute_result"
    }
   ],
   "source": [
    "cast_df.shape"
   ]
  },
  {
   "cell_type": "code",
   "execution_count": 586,
   "id": "81a262fc",
   "metadata": {},
   "outputs": [
    {
     "data": {
      "text/html": [
       "<div>\n",
       "<style scoped>\n",
       "    .dataframe tbody tr th:only-of-type {\n",
       "        vertical-align: middle;\n",
       "    }\n",
       "\n",
       "    .dataframe tbody tr th {\n",
       "        vertical-align: top;\n",
       "    }\n",
       "\n",
       "    .dataframe thead th {\n",
       "        text-align: right;\n",
       "    }\n",
       "</style>\n",
       "<table border=\"1\" class=\"dataframe\">\n",
       "  <thead>\n",
       "    <tr style=\"text-align: right;\">\n",
       "      <th></th>\n",
       "      <th>ride_id</th>\n",
       "      <th>rideable_type</th>\n",
       "      <th>started_at</th>\n",
       "      <th>ended_at</th>\n",
       "      <th>start_station_name</th>\n",
       "      <th>end_station_name</th>\n",
       "      <th>member_casual</th>\n",
       "      <th>start_lat</th>\n",
       "      <th>start_lng</th>\n",
       "      <th>end_lat</th>\n",
       "      <th>end_lng</th>\n",
       "    </tr>\n",
       "  </thead>\n",
       "  <tbody>\n",
       "    <tr>\n",
       "      <th>0</th>\n",
       "      <td>C1D650626C8C899A</td>\n",
       "      <td>electric_bike</td>\n",
       "      <td>2024-01-12 15:30:27</td>\n",
       "      <td>2024-01-12 15:37:59</td>\n",
       "      <td>Wells St &amp; Elm St</td>\n",
       "      <td>Kingsbury St &amp; Kinzie St</td>\n",
       "      <td>member</td>\n",
       "      <td>41.903267</td>\n",
       "      <td>-87.634737</td>\n",
       "      <td>41.889177</td>\n",
       "      <td>-87.638506</td>\n",
       "    </tr>\n",
       "    <tr>\n",
       "      <th>1</th>\n",
       "      <td>EECD38BDB25BFCB0</td>\n",
       "      <td>electric_bike</td>\n",
       "      <td>2024-01-08 15:45:46</td>\n",
       "      <td>2024-01-08 15:52:59</td>\n",
       "      <td>Wells St &amp; Elm St</td>\n",
       "      <td>Kingsbury St &amp; Kinzie St</td>\n",
       "      <td>member</td>\n",
       "      <td>41.902937</td>\n",
       "      <td>-87.634440</td>\n",
       "      <td>41.889177</td>\n",
       "      <td>-87.638506</td>\n",
       "    </tr>\n",
       "    <tr>\n",
       "      <th>2</th>\n",
       "      <td>F4A9CE78061F17F7</td>\n",
       "      <td>electric_bike</td>\n",
       "      <td>2024-01-27 12:27:19</td>\n",
       "      <td>2024-01-27 12:35:19</td>\n",
       "      <td>Wells St &amp; Elm St</td>\n",
       "      <td>Kingsbury St &amp; Kinzie St</td>\n",
       "      <td>member</td>\n",
       "      <td>41.902951</td>\n",
       "      <td>-87.634470</td>\n",
       "      <td>41.889177</td>\n",
       "      <td>-87.638506</td>\n",
       "    </tr>\n",
       "    <tr>\n",
       "      <th>3</th>\n",
       "      <td>0A0D9E15EE50B171</td>\n",
       "      <td>classic_bike</td>\n",
       "      <td>2024-01-29 16:26:17</td>\n",
       "      <td>2024-01-29 16:56:06</td>\n",
       "      <td>Wells St &amp; Randolph St</td>\n",
       "      <td>Larrabee St &amp; Webster Ave</td>\n",
       "      <td>member</td>\n",
       "      <td>41.884295</td>\n",
       "      <td>-87.633963</td>\n",
       "      <td>41.921822</td>\n",
       "      <td>-87.644140</td>\n",
       "    </tr>\n",
       "    <tr>\n",
       "      <th>4</th>\n",
       "      <td>33FFC9805E3EFF9A</td>\n",
       "      <td>classic_bike</td>\n",
       "      <td>2024-01-31 05:43:23</td>\n",
       "      <td>2024-01-31 06:09:35</td>\n",
       "      <td>Lincoln Ave &amp; Waveland Ave</td>\n",
       "      <td>Kingsbury St &amp; Kinzie St</td>\n",
       "      <td>member</td>\n",
       "      <td>41.948797</td>\n",
       "      <td>-87.675278</td>\n",
       "      <td>41.889177</td>\n",
       "      <td>-87.638506</td>\n",
       "    </tr>\n",
       "    <tr>\n",
       "      <th>5</th>\n",
       "      <td>C96080812CD285C5</td>\n",
       "      <td>classic_bike</td>\n",
       "      <td>2024-01-07 11:21:24</td>\n",
       "      <td>2024-01-07 11:30:03</td>\n",
       "      <td>Wells St &amp; Elm St</td>\n",
       "      <td>Kingsbury St &amp; Kinzie St</td>\n",
       "      <td>member</td>\n",
       "      <td>41.903222</td>\n",
       "      <td>-87.634324</td>\n",
       "      <td>41.889177</td>\n",
       "      <td>-87.638506</td>\n",
       "    </tr>\n",
       "    <tr>\n",
       "      <th>6</th>\n",
       "      <td>0EA7CB313D4F456A</td>\n",
       "      <td>classic_bike</td>\n",
       "      <td>2024-01-05 14:44:12</td>\n",
       "      <td>2024-01-05 14:53:06</td>\n",
       "      <td>Wells St &amp; Elm St</td>\n",
       "      <td>Kingsbury St &amp; Kinzie St</td>\n",
       "      <td>member</td>\n",
       "      <td>41.903222</td>\n",
       "      <td>-87.634324</td>\n",
       "      <td>41.889177</td>\n",
       "      <td>-87.638506</td>\n",
       "    </tr>\n",
       "    <tr>\n",
       "      <th>7</th>\n",
       "      <td>EE11F3A3B39CFBD8</td>\n",
       "      <td>electric_bike</td>\n",
       "      <td>2024-01-04 18:19:53</td>\n",
       "      <td>2024-01-04 18:28:04</td>\n",
       "      <td>Wells St &amp; Elm St</td>\n",
       "      <td>Kingsbury St &amp; Kinzie St</td>\n",
       "      <td>member</td>\n",
       "      <td>41.903368</td>\n",
       "      <td>-87.634861</td>\n",
       "      <td>41.889177</td>\n",
       "      <td>-87.638506</td>\n",
       "    </tr>\n",
       "    <tr>\n",
       "      <th>8</th>\n",
       "      <td>63E83DE8E3279F15</td>\n",
       "      <td>classic_bike</td>\n",
       "      <td>2024-01-01 14:46:53</td>\n",
       "      <td>2024-01-01 14:57:02</td>\n",
       "      <td>Wells St &amp; Elm St</td>\n",
       "      <td>Kingsbury St &amp; Kinzie St</td>\n",
       "      <td>member</td>\n",
       "      <td>41.903222</td>\n",
       "      <td>-87.634324</td>\n",
       "      <td>41.889177</td>\n",
       "      <td>-87.638506</td>\n",
       "    </tr>\n",
       "    <tr>\n",
       "      <th>9</th>\n",
       "      <td>8005682869122D93</td>\n",
       "      <td>electric_bike</td>\n",
       "      <td>2024-01-03 19:31:08</td>\n",
       "      <td>2024-01-03 19:40:05</td>\n",
       "      <td>Clark St &amp; Ida B Wells Dr</td>\n",
       "      <td>Kingsbury St &amp; Kinzie St</td>\n",
       "      <td>member</td>\n",
       "      <td>41.876033</td>\n",
       "      <td>-87.630866</td>\n",
       "      <td>41.889177</td>\n",
       "      <td>-87.638506</td>\n",
       "    </tr>\n",
       "  </tbody>\n",
       "</table>\n",
       "</div>"
      ],
      "text/plain": [
       "            ride_id  rideable_type          started_at            ended_at  \\\n",
       "0  C1D650626C8C899A  electric_bike 2024-01-12 15:30:27 2024-01-12 15:37:59   \n",
       "1  EECD38BDB25BFCB0  electric_bike 2024-01-08 15:45:46 2024-01-08 15:52:59   \n",
       "2  F4A9CE78061F17F7  electric_bike 2024-01-27 12:27:19 2024-01-27 12:35:19   \n",
       "3  0A0D9E15EE50B171   classic_bike 2024-01-29 16:26:17 2024-01-29 16:56:06   \n",
       "4  33FFC9805E3EFF9A   classic_bike 2024-01-31 05:43:23 2024-01-31 06:09:35   \n",
       "5  C96080812CD285C5   classic_bike 2024-01-07 11:21:24 2024-01-07 11:30:03   \n",
       "6  0EA7CB313D4F456A   classic_bike 2024-01-05 14:44:12 2024-01-05 14:53:06   \n",
       "7  EE11F3A3B39CFBD8  electric_bike 2024-01-04 18:19:53 2024-01-04 18:28:04   \n",
       "8  63E83DE8E3279F15   classic_bike 2024-01-01 14:46:53 2024-01-01 14:57:02   \n",
       "9  8005682869122D93  electric_bike 2024-01-03 19:31:08 2024-01-03 19:40:05   \n",
       "\n",
       "           start_station_name           end_station_name member_casual  \\\n",
       "0           Wells St & Elm St   Kingsbury St & Kinzie St        member   \n",
       "1           Wells St & Elm St   Kingsbury St & Kinzie St        member   \n",
       "2           Wells St & Elm St   Kingsbury St & Kinzie St        member   \n",
       "3      Wells St & Randolph St  Larrabee St & Webster Ave        member   \n",
       "4  Lincoln Ave & Waveland Ave   Kingsbury St & Kinzie St        member   \n",
       "5           Wells St & Elm St   Kingsbury St & Kinzie St        member   \n",
       "6           Wells St & Elm St   Kingsbury St & Kinzie St        member   \n",
       "7           Wells St & Elm St   Kingsbury St & Kinzie St        member   \n",
       "8           Wells St & Elm St   Kingsbury St & Kinzie St        member   \n",
       "9   Clark St & Ida B Wells Dr   Kingsbury St & Kinzie St        member   \n",
       "\n",
       "   start_lat  start_lng    end_lat    end_lng  \n",
       "0  41.903267 -87.634737  41.889177 -87.638506  \n",
       "1  41.902937 -87.634440  41.889177 -87.638506  \n",
       "2  41.902951 -87.634470  41.889177 -87.638506  \n",
       "3  41.884295 -87.633963  41.921822 -87.644140  \n",
       "4  41.948797 -87.675278  41.889177 -87.638506  \n",
       "5  41.903222 -87.634324  41.889177 -87.638506  \n",
       "6  41.903222 -87.634324  41.889177 -87.638506  \n",
       "7  41.903368 -87.634861  41.889177 -87.638506  \n",
       "8  41.903222 -87.634324  41.889177 -87.638506  \n",
       "9  41.876033 -87.630866  41.889177 -87.638506  "
      ]
     },
     "execution_count": 586,
     "metadata": {},
     "output_type": "execute_result"
    }
   ],
   "source": [
    "cast_df.head(10)"
   ]
  },
  {
   "cell_type": "code",
   "execution_count": 587,
   "id": "0d5e592e",
   "metadata": {},
   "outputs": [
    {
     "data": {
      "text/plain": [
       "Index(['ride_id', 'rideable_type', 'started_at', 'ended_at',\n",
       "       'start_station_name', 'end_station_name', 'member_casual', 'start_lat',\n",
       "       'start_lng', 'end_lat', 'end_lng'],\n",
       "      dtype='object')"
      ]
     },
     "execution_count": 587,
     "metadata": {},
     "output_type": "execute_result"
    }
   ],
   "source": [
    "cast_df.columns"
   ]
  },
  {
   "cell_type": "code",
   "execution_count": 588,
   "id": "7f8a636c",
   "metadata": {},
   "outputs": [
    {
     "data": {
      "text/html": [
       "<div>\n",
       "<style scoped>\n",
       "    .dataframe tbody tr th:only-of-type {\n",
       "        vertical-align: middle;\n",
       "    }\n",
       "\n",
       "    .dataframe tbody tr th {\n",
       "        vertical-align: top;\n",
       "    }\n",
       "\n",
       "    .dataframe thead th {\n",
       "        text-align: right;\n",
       "    }\n",
       "</style>\n",
       "<table border=\"1\" class=\"dataframe\">\n",
       "  <thead>\n",
       "    <tr style=\"text-align: right;\">\n",
       "      <th></th>\n",
       "      <th>started_at</th>\n",
       "      <th>ended_at</th>\n",
       "    </tr>\n",
       "  </thead>\n",
       "  <tbody>\n",
       "    <tr>\n",
       "      <th>count</th>\n",
       "      <td>5860568</td>\n",
       "      <td>5860568</td>\n",
       "    </tr>\n",
       "    <tr>\n",
       "      <th>mean</th>\n",
       "      <td>2024-07-17 07:55:47.617262848</td>\n",
       "      <td>2024-07-17 08:13:06.552330496</td>\n",
       "    </tr>\n",
       "    <tr>\n",
       "      <th>min</th>\n",
       "      <td>2024-01-01 00:00:39</td>\n",
       "      <td>2024-01-01 00:04:20</td>\n",
       "    </tr>\n",
       "    <tr>\n",
       "      <th>25%</th>\n",
       "      <td>2024-05-20 19:47:53</td>\n",
       "      <td>2024-05-20 20:07:54.750000128</td>\n",
       "    </tr>\n",
       "    <tr>\n",
       "      <th>50%</th>\n",
       "      <td>2024-07-22 20:36:16.283500032</td>\n",
       "      <td>2024-07-22 20:53:59.158500096</td>\n",
       "    </tr>\n",
       "    <tr>\n",
       "      <th>75%</th>\n",
       "      <td>2024-09-17 20:14:22.566249984</td>\n",
       "      <td>2024-09-17 20:27:46.025999872</td>\n",
       "    </tr>\n",
       "    <tr>\n",
       "      <th>max</th>\n",
       "      <td>2024-12-31 23:56:49.854000</td>\n",
       "      <td>2024-12-31 23:59:55.705000</td>\n",
       "    </tr>\n",
       "  </tbody>\n",
       "</table>\n",
       "</div>"
      ],
      "text/plain": [
       "                          started_at                       ended_at\n",
       "count                        5860568                        5860568\n",
       "mean   2024-07-17 07:55:47.617262848  2024-07-17 08:13:06.552330496\n",
       "min              2024-01-01 00:00:39            2024-01-01 00:04:20\n",
       "25%              2024-05-20 19:47:53  2024-05-20 20:07:54.750000128\n",
       "50%    2024-07-22 20:36:16.283500032  2024-07-22 20:53:59.158500096\n",
       "75%    2024-09-17 20:14:22.566249984  2024-09-17 20:27:46.025999872\n",
       "max       2024-12-31 23:56:49.854000     2024-12-31 23:59:55.705000"
      ]
     },
     "execution_count": 588,
     "metadata": {},
     "output_type": "execute_result"
    }
   ],
   "source": [
    "cast_df.describe()"
   ]
  },
  {
   "cell_type": "markdown",
   "id": "2c9fba6f",
   "metadata": {},
   "source": [
    "## Check for N/A values and duplicates"
   ]
  },
  {
   "cell_type": "markdown",
   "id": "686452b2",
   "metadata": {},
   "source": [
    "### Check N/A"
   ]
  },
  {
   "cell_type": "code",
   "execution_count": 589,
   "id": "4cf5d91e",
   "metadata": {},
   "outputs": [
    {
     "data": {
      "text/plain": [
       "ride_id                     0\n",
       "rideable_type               0\n",
       "started_at                  0\n",
       "ended_at                    0\n",
       "start_station_name    1073951\n",
       "end_station_name      1104653\n",
       "member_casual               0\n",
       "start_lat                   0\n",
       "start_lng                   0\n",
       "end_lat                  7232\n",
       "end_lng                  7232\n",
       "dtype: int64"
      ]
     },
     "execution_count": 589,
     "metadata": {},
     "output_type": "execute_result"
    }
   ],
   "source": [
    "cast_df.isna().sum()"
   ]
  },
  {
   "cell_type": "markdown",
   "id": "63f1007b",
   "metadata": {},
   "source": [
    "### Assuming that rides without registered start or end station are registered by errors thus we won't take them into analysis"
   ]
  },
  {
   "cell_type": "code",
   "execution_count": 590,
   "id": "5e95b84d",
   "metadata": {},
   "outputs": [],
   "source": [
    "clean_df = cast_df.dropna().copy()"
   ]
  },
  {
   "cell_type": "markdown",
   "id": "487f43b3",
   "metadata": {},
   "source": [
    "### Checking for duplicated with the same ride id"
   ]
  },
  {
   "cell_type": "code",
   "execution_count": 591,
   "id": "80e6b45f",
   "metadata": {},
   "outputs": [
    {
     "data": {
      "text/html": [
       "<div>\n",
       "<style scoped>\n",
       "    .dataframe tbody tr th:only-of-type {\n",
       "        vertical-align: middle;\n",
       "    }\n",
       "\n",
       "    .dataframe tbody tr th {\n",
       "        vertical-align: top;\n",
       "    }\n",
       "\n",
       "    .dataframe thead th {\n",
       "        text-align: right;\n",
       "    }\n",
       "</style>\n",
       "<table border=\"1\" class=\"dataframe\">\n",
       "  <thead>\n",
       "    <tr style=\"text-align: right;\">\n",
       "      <th></th>\n",
       "      <th>ride_id</th>\n",
       "      <th>rideable_type</th>\n",
       "      <th>started_at</th>\n",
       "      <th>ended_at</th>\n",
       "      <th>start_station_name</th>\n",
       "      <th>end_station_name</th>\n",
       "      <th>member_casual</th>\n",
       "      <th>start_lat</th>\n",
       "      <th>start_lng</th>\n",
       "      <th>end_lat</th>\n",
       "      <th>end_lng</th>\n",
       "    </tr>\n",
       "  </thead>\n",
       "  <tbody>\n",
       "    <tr>\n",
       "      <th>943</th>\n",
       "      <td>2C772EDDDBDEFDA3</td>\n",
       "      <td>electric_bike</td>\n",
       "      <td>2024-05-31 23:42:42</td>\n",
       "      <td>2024-06-01 00:25:08</td>\n",
       "      <td>Dearborn St &amp; Van Buren St</td>\n",
       "      <td>DuSable Lake Shore Dr &amp; Monroe St</td>\n",
       "      <td>casual</td>\n",
       "      <td>41.876054</td>\n",
       "      <td>-87.629921</td>\n",
       "      <td>41.880958</td>\n",
       "      <td>-87.616743</td>\n",
       "    </tr>\n",
       "    <tr>\n",
       "      <th>17181</th>\n",
       "      <td>7BC67FD33887B3CB</td>\n",
       "      <td>classic_bike</td>\n",
       "      <td>2024-05-31 22:54:20</td>\n",
       "      <td>2024-06-01 00:42:41</td>\n",
       "      <td>Burnham Harbor</td>\n",
       "      <td>St. Louis Ave &amp; Fullerton Ave</td>\n",
       "      <td>casual</td>\n",
       "      <td>41.857412</td>\n",
       "      <td>-87.613792</td>\n",
       "      <td>41.924816</td>\n",
       "      <td>-87.714495</td>\n",
       "    </tr>\n",
       "    <tr>\n",
       "      <th>20441</th>\n",
       "      <td>43CD52984AD22D99</td>\n",
       "      <td>electric_bike</td>\n",
       "      <td>2024-05-31 23:45:51</td>\n",
       "      <td>2024-06-01 00:11:46</td>\n",
       "      <td>Wentworth Ave &amp; Cermak Rd*</td>\n",
       "      <td>Loomis St &amp; Lexington St</td>\n",
       "      <td>member</td>\n",
       "      <td>41.853098</td>\n",
       "      <td>-87.631871</td>\n",
       "      <td>41.872229</td>\n",
       "      <td>-87.661364</td>\n",
       "    </tr>\n",
       "    <tr>\n",
       "      <th>22451</th>\n",
       "      <td>ABBD88BEBC1431FF</td>\n",
       "      <td>electric_bike</td>\n",
       "      <td>2024-05-31 23:20:35</td>\n",
       "      <td>2024-06-01 00:33:41</td>\n",
       "      <td>McClurg Ct &amp; Erie St</td>\n",
       "      <td>McClurg Ct &amp; Erie St</td>\n",
       "      <td>casual</td>\n",
       "      <td>41.894351</td>\n",
       "      <td>-87.617765</td>\n",
       "      <td>41.894503</td>\n",
       "      <td>-87.617854</td>\n",
       "    </tr>\n",
       "    <tr>\n",
       "      <th>25437</th>\n",
       "      <td>CA12CCDD359DA80C</td>\n",
       "      <td>classic_bike</td>\n",
       "      <td>2024-05-31 23:54:35</td>\n",
       "      <td>2024-06-01 00:01:25</td>\n",
       "      <td>Halsted St &amp; Archer Ave</td>\n",
       "      <td>Morgan St &amp; 31st St</td>\n",
       "      <td>casual</td>\n",
       "      <td>41.847203</td>\n",
       "      <td>-87.646795</td>\n",
       "      <td>41.837800</td>\n",
       "      <td>-87.651140</td>\n",
       "    </tr>\n",
       "  </tbody>\n",
       "</table>\n",
       "</div>"
      ],
      "text/plain": [
       "                ride_id  rideable_type          started_at  \\\n",
       "943    2C772EDDDBDEFDA3  electric_bike 2024-05-31 23:42:42   \n",
       "17181  7BC67FD33887B3CB   classic_bike 2024-05-31 22:54:20   \n",
       "20441  43CD52984AD22D99  electric_bike 2024-05-31 23:45:51   \n",
       "22451  ABBD88BEBC1431FF  electric_bike 2024-05-31 23:20:35   \n",
       "25437  CA12CCDD359DA80C   classic_bike 2024-05-31 23:54:35   \n",
       "\n",
       "                 ended_at          start_station_name  \\\n",
       "943   2024-06-01 00:25:08  Dearborn St & Van Buren St   \n",
       "17181 2024-06-01 00:42:41              Burnham Harbor   \n",
       "20441 2024-06-01 00:11:46  Wentworth Ave & Cermak Rd*   \n",
       "22451 2024-06-01 00:33:41        McClurg Ct & Erie St   \n",
       "25437 2024-06-01 00:01:25     Halsted St & Archer Ave   \n",
       "\n",
       "                        end_station_name member_casual  start_lat  start_lng  \\\n",
       "943    DuSable Lake Shore Dr & Monroe St        casual  41.876054 -87.629921   \n",
       "17181      St. Louis Ave & Fullerton Ave        casual  41.857412 -87.613792   \n",
       "20441           Loomis St & Lexington St        member  41.853098 -87.631871   \n",
       "22451               McClurg Ct & Erie St        casual  41.894351 -87.617765   \n",
       "25437                Morgan St & 31st St        casual  41.847203 -87.646795   \n",
       "\n",
       "         end_lat    end_lng  \n",
       "943    41.880958 -87.616743  \n",
       "17181  41.924816 -87.714495  \n",
       "20441  41.872229 -87.661364  \n",
       "22451  41.894503 -87.617854  \n",
       "25437  41.837800 -87.651140  "
      ]
     },
     "execution_count": 591,
     "metadata": {},
     "output_type": "execute_result"
    }
   ],
   "source": [
    "clean_df.loc[clean_df.duplicated(subset=['ride_id'], keep=False)].head()"
   ]
  },
  {
   "cell_type": "code",
   "execution_count": 592,
   "id": "01af4486",
   "metadata": {},
   "outputs": [],
   "source": [
    "clean_df = clean_df.drop_duplicates(subset=['ride_id']).copy()"
   ]
  },
  {
   "cell_type": "markdown",
   "id": "b04210d8",
   "metadata": {},
   "source": [
    "### Checking for stations that have same start time, end time, start station and end station"
   ]
  },
  {
   "cell_type": "code",
   "execution_count": 593,
   "id": "dd66dcb5",
   "metadata": {},
   "outputs": [
    {
     "data": {
      "text/html": [
       "<div>\n",
       "<style scoped>\n",
       "    .dataframe tbody tr th:only-of-type {\n",
       "        vertical-align: middle;\n",
       "    }\n",
       "\n",
       "    .dataframe tbody tr th {\n",
       "        vertical-align: top;\n",
       "    }\n",
       "\n",
       "    .dataframe thead th {\n",
       "        text-align: right;\n",
       "    }\n",
       "</style>\n",
       "<table border=\"1\" class=\"dataframe\">\n",
       "  <thead>\n",
       "    <tr style=\"text-align: right;\">\n",
       "      <th></th>\n",
       "      <th>ride_id</th>\n",
       "      <th>rideable_type</th>\n",
       "      <th>started_at</th>\n",
       "      <th>ended_at</th>\n",
       "      <th>start_station_name</th>\n",
       "      <th>end_station_name</th>\n",
       "      <th>member_casual</th>\n",
       "      <th>start_lat</th>\n",
       "      <th>start_lng</th>\n",
       "      <th>end_lat</th>\n",
       "      <th>end_lng</th>\n",
       "    </tr>\n",
       "  </thead>\n",
       "  <tbody>\n",
       "    <tr>\n",
       "      <th>102692</th>\n",
       "      <td>D3CE8F069C526B23</td>\n",
       "      <td>classic_bike</td>\n",
       "      <td>2024-01-30 20:27:57</td>\n",
       "      <td>2024-01-30 20:50:51</td>\n",
       "      <td>Canal St &amp; Adams St</td>\n",
       "      <td>State St &amp; Randolph St</td>\n",
       "      <td>member</td>\n",
       "      <td>41.879255</td>\n",
       "      <td>-87.639904</td>\n",
       "      <td>41.884621</td>\n",
       "      <td>-87.627834</td>\n",
       "    </tr>\n",
       "    <tr>\n",
       "      <th>102754</th>\n",
       "      <td>BD06A0FDAC1D1183</td>\n",
       "      <td>classic_bike</td>\n",
       "      <td>2024-01-30 20:27:57</td>\n",
       "      <td>2024-01-30 20:50:51</td>\n",
       "      <td>Canal St &amp; Adams St</td>\n",
       "      <td>State St &amp; Randolph St</td>\n",
       "      <td>member</td>\n",
       "      <td>41.879255</td>\n",
       "      <td>-87.639904</td>\n",
       "      <td>41.884621</td>\n",
       "      <td>-87.627834</td>\n",
       "    </tr>\n",
       "    <tr>\n",
       "      <th>71207</th>\n",
       "      <td>A47F1F8E79A156BC</td>\n",
       "      <td>classic_bike</td>\n",
       "      <td>2024-02-27 13:40:53</td>\n",
       "      <td>2024-02-27 13:57:21</td>\n",
       "      <td>McClurg Ct &amp; Erie St</td>\n",
       "      <td>Halsted St &amp; Clybourn Ave</td>\n",
       "      <td>casual</td>\n",
       "      <td>41.894503</td>\n",
       "      <td>-87.617854</td>\n",
       "      <td>41.909668</td>\n",
       "      <td>-87.648128</td>\n",
       "    </tr>\n",
       "    <tr>\n",
       "      <th>165886</th>\n",
       "      <td>36EE4451474A3DC0</td>\n",
       "      <td>classic_bike</td>\n",
       "      <td>2024-02-27 13:40:53</td>\n",
       "      <td>2024-02-27 13:57:21</td>\n",
       "      <td>McClurg Ct &amp; Erie St</td>\n",
       "      <td>Halsted St &amp; Clybourn Ave</td>\n",
       "      <td>casual</td>\n",
       "      <td>41.894503</td>\n",
       "      <td>-87.617854</td>\n",
       "      <td>41.909668</td>\n",
       "      <td>-87.648128</td>\n",
       "    </tr>\n",
       "  </tbody>\n",
       "</table>\n",
       "</div>"
      ],
      "text/plain": [
       "                 ride_id rideable_type          started_at  \\\n",
       "102692  D3CE8F069C526B23  classic_bike 2024-01-30 20:27:57   \n",
       "102754  BD06A0FDAC1D1183  classic_bike 2024-01-30 20:27:57   \n",
       "71207   A47F1F8E79A156BC  classic_bike 2024-02-27 13:40:53   \n",
       "165886  36EE4451474A3DC0  classic_bike 2024-02-27 13:40:53   \n",
       "\n",
       "                  ended_at    start_station_name           end_station_name  \\\n",
       "102692 2024-01-30 20:50:51   Canal St & Adams St     State St & Randolph St   \n",
       "102754 2024-01-30 20:50:51   Canal St & Adams St     State St & Randolph St   \n",
       "71207  2024-02-27 13:57:21  McClurg Ct & Erie St  Halsted St & Clybourn Ave   \n",
       "165886 2024-02-27 13:57:21  McClurg Ct & Erie St  Halsted St & Clybourn Ave   \n",
       "\n",
       "       member_casual  start_lat  start_lng    end_lat    end_lng  \n",
       "102692        member  41.879255 -87.639904  41.884621 -87.627834  \n",
       "102754        member  41.879255 -87.639904  41.884621 -87.627834  \n",
       "71207         casual  41.894503 -87.617854  41.909668 -87.648128  \n",
       "165886        casual  41.894503 -87.617854  41.909668 -87.648128  "
      ]
     },
     "execution_count": 593,
     "metadata": {},
     "output_type": "execute_result"
    }
   ],
   "source": [
    "clean_df.loc[clean_df.duplicated(subset=['started_at', 'ended_at', 'start_station_name', 'end_station_name'], keep=False)]"
   ]
  },
  {
   "cell_type": "code",
   "execution_count": 594,
   "id": "1ecdc70c",
   "metadata": {},
   "outputs": [],
   "source": [
    "clean_df = clean_df.drop_duplicates(subset=['started_at', 'ended_at', 'start_station_name', 'end_station_name']).copy()"
   ]
  },
  {
   "cell_type": "markdown",
   "id": "b151d76c",
   "metadata": {},
   "source": [
    "### Checking for stations that have same start time, end time, start station or end station\n",
    "Whenever those records need to be deleted, consultation with someone from the company is required to determine if the given station can hold more than two bikes."
   ]
  },
  {
   "cell_type": "code",
   "execution_count": 595,
   "id": "96d4c120",
   "metadata": {},
   "outputs": [
    {
     "data": {
      "text/html": [
       "<div>\n",
       "<style scoped>\n",
       "    .dataframe tbody tr th:only-of-type {\n",
       "        vertical-align: middle;\n",
       "    }\n",
       "\n",
       "    .dataframe tbody tr th {\n",
       "        vertical-align: top;\n",
       "    }\n",
       "\n",
       "    .dataframe thead th {\n",
       "        text-align: right;\n",
       "    }\n",
       "</style>\n",
       "<table border=\"1\" class=\"dataframe\">\n",
       "  <thead>\n",
       "    <tr style=\"text-align: right;\">\n",
       "      <th></th>\n",
       "      <th>ride_id</th>\n",
       "      <th>rideable_type</th>\n",
       "      <th>started_at</th>\n",
       "      <th>ended_at</th>\n",
       "      <th>start_station_name</th>\n",
       "      <th>end_station_name</th>\n",
       "      <th>member_casual</th>\n",
       "      <th>start_lat</th>\n",
       "      <th>start_lng</th>\n",
       "      <th>end_lat</th>\n",
       "      <th>end_lng</th>\n",
       "    </tr>\n",
       "  </thead>\n",
       "  <tbody>\n",
       "  </tbody>\n",
       "</table>\n",
       "</div>"
      ],
      "text/plain": [
       "Empty DataFrame\n",
       "Columns: [ride_id, rideable_type, started_at, ended_at, start_station_name, end_station_name, member_casual, start_lat, start_lng, end_lat, end_lng]\n",
       "Index: []"
      ]
     },
     "execution_count": 595,
     "metadata": {},
     "output_type": "execute_result"
    }
   ],
   "source": [
    "clean_df.loc[clean_df.duplicated(subset=['started_at', 'ended_at', 'start_station_name'], keep=False)]"
   ]
  },
  {
   "cell_type": "code",
   "execution_count": 596,
   "id": "d105b631",
   "metadata": {},
   "outputs": [
    {
     "data": {
      "text/html": [
       "<div>\n",
       "<style scoped>\n",
       "    .dataframe tbody tr th:only-of-type {\n",
       "        vertical-align: middle;\n",
       "    }\n",
       "\n",
       "    .dataframe tbody tr th {\n",
       "        vertical-align: top;\n",
       "    }\n",
       "\n",
       "    .dataframe thead th {\n",
       "        text-align: right;\n",
       "    }\n",
       "</style>\n",
       "<table border=\"1\" class=\"dataframe\">\n",
       "  <thead>\n",
       "    <tr style=\"text-align: right;\">\n",
       "      <th></th>\n",
       "      <th>ride_id</th>\n",
       "      <th>rideable_type</th>\n",
       "      <th>started_at</th>\n",
       "      <th>ended_at</th>\n",
       "      <th>start_station_name</th>\n",
       "      <th>end_station_name</th>\n",
       "      <th>member_casual</th>\n",
       "      <th>start_lat</th>\n",
       "      <th>start_lng</th>\n",
       "      <th>end_lat</th>\n",
       "      <th>end_lng</th>\n",
       "    </tr>\n",
       "  </thead>\n",
       "  <tbody>\n",
       "    <tr>\n",
       "      <th>102616</th>\n",
       "      <td>48AB680D63B319F5</td>\n",
       "      <td>classic_bike</td>\n",
       "      <td>2024-03-04 17:36:30</td>\n",
       "      <td>2024-03-04 17:46:12</td>\n",
       "      <td>Mies van der Rohe Way &amp; Chestnut St</td>\n",
       "      <td>New St &amp; Illinois St</td>\n",
       "      <td>member</td>\n",
       "      <td>41.898587</td>\n",
       "      <td>-87.621915</td>\n",
       "      <td>41.890847</td>\n",
       "      <td>-87.618617</td>\n",
       "    </tr>\n",
       "    <tr>\n",
       "      <th>181898</th>\n",
       "      <td>FAA4EB520E8918AF</td>\n",
       "      <td>classic_bike</td>\n",
       "      <td>2024-03-04 17:36:30</td>\n",
       "      <td>2024-03-04 17:46:12</td>\n",
       "      <td>Wells St &amp; Huron St</td>\n",
       "      <td>New St &amp; Illinois St</td>\n",
       "      <td>member</td>\n",
       "      <td>41.894722</td>\n",
       "      <td>-87.634362</td>\n",
       "      <td>41.890847</td>\n",
       "      <td>-87.618617</td>\n",
       "    </tr>\n",
       "  </tbody>\n",
       "</table>\n",
       "</div>"
      ],
      "text/plain": [
       "                 ride_id rideable_type          started_at  \\\n",
       "102616  48AB680D63B319F5  classic_bike 2024-03-04 17:36:30   \n",
       "181898  FAA4EB520E8918AF  classic_bike 2024-03-04 17:36:30   \n",
       "\n",
       "                  ended_at                   start_station_name  \\\n",
       "102616 2024-03-04 17:46:12  Mies van der Rohe Way & Chestnut St   \n",
       "181898 2024-03-04 17:46:12                  Wells St & Huron St   \n",
       "\n",
       "            end_station_name member_casual  start_lat  start_lng    end_lat  \\\n",
       "102616  New St & Illinois St        member  41.898587 -87.621915  41.890847   \n",
       "181898  New St & Illinois St        member  41.894722 -87.634362  41.890847   \n",
       "\n",
       "          end_lng  \n",
       "102616 -87.618617  \n",
       "181898 -87.618617  "
      ]
     },
     "execution_count": 596,
     "metadata": {},
     "output_type": "execute_result"
    }
   ],
   "source": [
    "clean_df.loc[clean_df.duplicated(subset=['started_at', 'ended_at', 'end_station_name'], keep=False)]"
   ]
  },
  {
   "cell_type": "markdown",
   "id": "98892da3",
   "metadata": {},
   "source": [
    "### Creating ride_time column that shows difference between ended_at and started_at"
   ]
  },
  {
   "cell_type": "code",
   "execution_count": 597,
   "id": "9a0ee900",
   "metadata": {},
   "outputs": [
    {
     "data": {
      "text/html": [
       "<div>\n",
       "<style scoped>\n",
       "    .dataframe tbody tr th:only-of-type {\n",
       "        vertical-align: middle;\n",
       "    }\n",
       "\n",
       "    .dataframe tbody tr th {\n",
       "        vertical-align: top;\n",
       "    }\n",
       "\n",
       "    .dataframe thead th {\n",
       "        text-align: right;\n",
       "    }\n",
       "</style>\n",
       "<table border=\"1\" class=\"dataframe\">\n",
       "  <thead>\n",
       "    <tr style=\"text-align: right;\">\n",
       "      <th></th>\n",
       "      <th>ride_id</th>\n",
       "      <th>rideable_type</th>\n",
       "      <th>started_at</th>\n",
       "      <th>ended_at</th>\n",
       "      <th>ride_time</th>\n",
       "      <th>start_station_name</th>\n",
       "      <th>end_station_name</th>\n",
       "      <th>member_casual</th>\n",
       "      <th>start_lat</th>\n",
       "      <th>start_lng</th>\n",
       "      <th>end_lat</th>\n",
       "      <th>end_lng</th>\n",
       "    </tr>\n",
       "  </thead>\n",
       "  <tbody>\n",
       "    <tr>\n",
       "      <th>0</th>\n",
       "      <td>C1D650626C8C899A</td>\n",
       "      <td>electric_bike</td>\n",
       "      <td>2024-01-12 15:30:27</td>\n",
       "      <td>2024-01-12 15:37:59</td>\n",
       "      <td>0 days 00:07:32</td>\n",
       "      <td>Wells St &amp; Elm St</td>\n",
       "      <td>Kingsbury St &amp; Kinzie St</td>\n",
       "      <td>member</td>\n",
       "      <td>41.903267</td>\n",
       "      <td>-87.634737</td>\n",
       "      <td>41.889177</td>\n",
       "      <td>-87.638506</td>\n",
       "    </tr>\n",
       "    <tr>\n",
       "      <th>1</th>\n",
       "      <td>EECD38BDB25BFCB0</td>\n",
       "      <td>electric_bike</td>\n",
       "      <td>2024-01-08 15:45:46</td>\n",
       "      <td>2024-01-08 15:52:59</td>\n",
       "      <td>0 days 00:07:13</td>\n",
       "      <td>Wells St &amp; Elm St</td>\n",
       "      <td>Kingsbury St &amp; Kinzie St</td>\n",
       "      <td>member</td>\n",
       "      <td>41.902937</td>\n",
       "      <td>-87.634440</td>\n",
       "      <td>41.889177</td>\n",
       "      <td>-87.638506</td>\n",
       "    </tr>\n",
       "    <tr>\n",
       "      <th>2</th>\n",
       "      <td>F4A9CE78061F17F7</td>\n",
       "      <td>electric_bike</td>\n",
       "      <td>2024-01-27 12:27:19</td>\n",
       "      <td>2024-01-27 12:35:19</td>\n",
       "      <td>0 days 00:08:00</td>\n",
       "      <td>Wells St &amp; Elm St</td>\n",
       "      <td>Kingsbury St &amp; Kinzie St</td>\n",
       "      <td>member</td>\n",
       "      <td>41.902951</td>\n",
       "      <td>-87.634470</td>\n",
       "      <td>41.889177</td>\n",
       "      <td>-87.638506</td>\n",
       "    </tr>\n",
       "    <tr>\n",
       "      <th>3</th>\n",
       "      <td>0A0D9E15EE50B171</td>\n",
       "      <td>classic_bike</td>\n",
       "      <td>2024-01-29 16:26:17</td>\n",
       "      <td>2024-01-29 16:56:06</td>\n",
       "      <td>0 days 00:29:49</td>\n",
       "      <td>Wells St &amp; Randolph St</td>\n",
       "      <td>Larrabee St &amp; Webster Ave</td>\n",
       "      <td>member</td>\n",
       "      <td>41.884295</td>\n",
       "      <td>-87.633963</td>\n",
       "      <td>41.921822</td>\n",
       "      <td>-87.644140</td>\n",
       "    </tr>\n",
       "    <tr>\n",
       "      <th>4</th>\n",
       "      <td>33FFC9805E3EFF9A</td>\n",
       "      <td>classic_bike</td>\n",
       "      <td>2024-01-31 05:43:23</td>\n",
       "      <td>2024-01-31 06:09:35</td>\n",
       "      <td>0 days 00:26:12</td>\n",
       "      <td>Lincoln Ave &amp; Waveland Ave</td>\n",
       "      <td>Kingsbury St &amp; Kinzie St</td>\n",
       "      <td>member</td>\n",
       "      <td>41.948797</td>\n",
       "      <td>-87.675278</td>\n",
       "      <td>41.889177</td>\n",
       "      <td>-87.638506</td>\n",
       "    </tr>\n",
       "  </tbody>\n",
       "</table>\n",
       "</div>"
      ],
      "text/plain": [
       "            ride_id  rideable_type          started_at            ended_at  \\\n",
       "0  C1D650626C8C899A  electric_bike 2024-01-12 15:30:27 2024-01-12 15:37:59   \n",
       "1  EECD38BDB25BFCB0  electric_bike 2024-01-08 15:45:46 2024-01-08 15:52:59   \n",
       "2  F4A9CE78061F17F7  electric_bike 2024-01-27 12:27:19 2024-01-27 12:35:19   \n",
       "3  0A0D9E15EE50B171   classic_bike 2024-01-29 16:26:17 2024-01-29 16:56:06   \n",
       "4  33FFC9805E3EFF9A   classic_bike 2024-01-31 05:43:23 2024-01-31 06:09:35   \n",
       "\n",
       "        ride_time          start_station_name           end_station_name  \\\n",
       "0 0 days 00:07:32           Wells St & Elm St   Kingsbury St & Kinzie St   \n",
       "1 0 days 00:07:13           Wells St & Elm St   Kingsbury St & Kinzie St   \n",
       "2 0 days 00:08:00           Wells St & Elm St   Kingsbury St & Kinzie St   \n",
       "3 0 days 00:29:49      Wells St & Randolph St  Larrabee St & Webster Ave   \n",
       "4 0 days 00:26:12  Lincoln Ave & Waveland Ave   Kingsbury St & Kinzie St   \n",
       "\n",
       "  member_casual  start_lat  start_lng    end_lat    end_lng  \n",
       "0        member  41.903267 -87.634737  41.889177 -87.638506  \n",
       "1        member  41.902937 -87.634440  41.889177 -87.638506  \n",
       "2        member  41.902951 -87.634470  41.889177 -87.638506  \n",
       "3        member  41.884295 -87.633963  41.921822 -87.644140  \n",
       "4        member  41.948797 -87.675278  41.889177 -87.638506  "
      ]
     },
     "execution_count": 597,
     "metadata": {},
     "output_type": "execute_result"
    }
   ],
   "source": [
    "ride_time = clean_df['ended_at'] - clean_df['started_at']\n",
    "clean_df.insert(4, 'ride_time', ride_time)\n",
    "clean_df.head()"
   ]
  },
  {
   "cell_type": "markdown",
   "id": "37041762",
   "metadata": {},
   "source": [
    "### Checking for rides that lasted less than 10 seconds"
   ]
  },
  {
   "cell_type": "code",
   "execution_count": 598,
   "id": "7f0861d5",
   "metadata": {},
   "outputs": [
    {
     "data": {
      "text/html": [
       "<div>\n",
       "<style scoped>\n",
       "    .dataframe tbody tr th:only-of-type {\n",
       "        vertical-align: middle;\n",
       "    }\n",
       "\n",
       "    .dataframe tbody tr th {\n",
       "        vertical-align: top;\n",
       "    }\n",
       "\n",
       "    .dataframe thead th {\n",
       "        text-align: right;\n",
       "    }\n",
       "</style>\n",
       "<table border=\"1\" class=\"dataframe\">\n",
       "  <thead>\n",
       "    <tr style=\"text-align: right;\">\n",
       "      <th></th>\n",
       "      <th>ride_id</th>\n",
       "      <th>rideable_type</th>\n",
       "      <th>started_at</th>\n",
       "      <th>ended_at</th>\n",
       "      <th>ride_time</th>\n",
       "      <th>start_station_name</th>\n",
       "      <th>end_station_name</th>\n",
       "      <th>member_casual</th>\n",
       "      <th>start_lat</th>\n",
       "      <th>start_lng</th>\n",
       "      <th>end_lat</th>\n",
       "      <th>end_lng</th>\n",
       "    </tr>\n",
       "  </thead>\n",
       "  <tbody>\n",
       "    <tr>\n",
       "      <th>3184</th>\n",
       "      <td>C1FF15F72F5E6CB9</td>\n",
       "      <td>classic_bike</td>\n",
       "      <td>2024-01-17 12:43:55</td>\n",
       "      <td>2024-01-17 12:44:02</td>\n",
       "      <td>0 days 00:00:07</td>\n",
       "      <td>Loomis St &amp; Lexington St</td>\n",
       "      <td>Loomis St &amp; Lexington St</td>\n",
       "      <td>member</td>\n",
       "      <td>41.872229</td>\n",
       "      <td>-87.661364</td>\n",
       "      <td>41.872229</td>\n",
       "      <td>-87.661364</td>\n",
       "    </tr>\n",
       "    <tr>\n",
       "      <th>3190</th>\n",
       "      <td>5AA3D2E8010FEF7D</td>\n",
       "      <td>classic_bike</td>\n",
       "      <td>2024-01-17 14:25:27</td>\n",
       "      <td>2024-01-17 14:25:29</td>\n",
       "      <td>0 days 00:00:02</td>\n",
       "      <td>Halsted St &amp; Wrightwood Ave</td>\n",
       "      <td>Halsted St &amp; Wrightwood Ave</td>\n",
       "      <td>member</td>\n",
       "      <td>41.929143</td>\n",
       "      <td>-87.649077</td>\n",
       "      <td>41.929143</td>\n",
       "      <td>-87.649077</td>\n",
       "    </tr>\n",
       "    <tr>\n",
       "      <th>3196</th>\n",
       "      <td>27E081696A03E872</td>\n",
       "      <td>classic_bike</td>\n",
       "      <td>2024-01-02 10:32:54</td>\n",
       "      <td>2024-01-02 10:32:56</td>\n",
       "      <td>0 days 00:00:02</td>\n",
       "      <td>Halsted St &amp; Wrightwood Ave</td>\n",
       "      <td>Halsted St &amp; Wrightwood Ave</td>\n",
       "      <td>member</td>\n",
       "      <td>41.929143</td>\n",
       "      <td>-87.649077</td>\n",
       "      <td>41.929143</td>\n",
       "      <td>-87.649077</td>\n",
       "    </tr>\n",
       "    <tr>\n",
       "      <th>3214</th>\n",
       "      <td>785A6FF31548084A</td>\n",
       "      <td>electric_bike</td>\n",
       "      <td>2024-01-09 12:08:38</td>\n",
       "      <td>2024-01-09 12:08:41</td>\n",
       "      <td>0 days 00:00:03</td>\n",
       "      <td>Public Rack - Walden Pkwy &amp; 103rd St</td>\n",
       "      <td>Public Rack - Walden Pkwy &amp; 103rd St</td>\n",
       "      <td>member</td>\n",
       "      <td>41.706084</td>\n",
       "      <td>-87.669024</td>\n",
       "      <td>41.706205</td>\n",
       "      <td>-87.668965</td>\n",
       "    </tr>\n",
       "    <tr>\n",
       "      <th>3888</th>\n",
       "      <td>188E0BD5237F114A</td>\n",
       "      <td>electric_bike</td>\n",
       "      <td>2024-01-13 07:59:43</td>\n",
       "      <td>2024-01-13 07:59:45</td>\n",
       "      <td>0 days 00:00:02</td>\n",
       "      <td>Milwaukee Ave &amp; Grand Ave</td>\n",
       "      <td>Milwaukee Ave &amp; Grand Ave</td>\n",
       "      <td>member</td>\n",
       "      <td>41.891447</td>\n",
       "      <td>-87.648382</td>\n",
       "      <td>41.891578</td>\n",
       "      <td>-87.648384</td>\n",
       "    </tr>\n",
       "  </tbody>\n",
       "</table>\n",
       "</div>"
      ],
      "text/plain": [
       "               ride_id  rideable_type          started_at            ended_at  \\\n",
       "3184  C1FF15F72F5E6CB9   classic_bike 2024-01-17 12:43:55 2024-01-17 12:44:02   \n",
       "3190  5AA3D2E8010FEF7D   classic_bike 2024-01-17 14:25:27 2024-01-17 14:25:29   \n",
       "3196  27E081696A03E872   classic_bike 2024-01-02 10:32:54 2024-01-02 10:32:56   \n",
       "3214  785A6FF31548084A  electric_bike 2024-01-09 12:08:38 2024-01-09 12:08:41   \n",
       "3888  188E0BD5237F114A  electric_bike 2024-01-13 07:59:43 2024-01-13 07:59:45   \n",
       "\n",
       "           ride_time                    start_station_name  \\\n",
       "3184 0 days 00:00:07              Loomis St & Lexington St   \n",
       "3190 0 days 00:00:02           Halsted St & Wrightwood Ave   \n",
       "3196 0 days 00:00:02           Halsted St & Wrightwood Ave   \n",
       "3214 0 days 00:00:03  Public Rack - Walden Pkwy & 103rd St   \n",
       "3888 0 days 00:00:02             Milwaukee Ave & Grand Ave   \n",
       "\n",
       "                          end_station_name member_casual  start_lat  \\\n",
       "3184              Loomis St & Lexington St        member  41.872229   \n",
       "3190           Halsted St & Wrightwood Ave        member  41.929143   \n",
       "3196           Halsted St & Wrightwood Ave        member  41.929143   \n",
       "3214  Public Rack - Walden Pkwy & 103rd St        member  41.706084   \n",
       "3888             Milwaukee Ave & Grand Ave        member  41.891447   \n",
       "\n",
       "      start_lng    end_lat    end_lng  \n",
       "3184 -87.661364  41.872229 -87.661364  \n",
       "3190 -87.649077  41.929143 -87.649077  \n",
       "3196 -87.649077  41.929143 -87.649077  \n",
       "3214 -87.669024  41.706205 -87.668965  \n",
       "3888 -87.648382  41.891578 -87.648384  "
      ]
     },
     "execution_count": 598,
     "metadata": {},
     "output_type": "execute_result"
    }
   ],
   "source": [
    "clean_df[clean_df['ride_time'] <= timedelta(seconds=10)].head()"
   ]
  },
  {
   "cell_type": "markdown",
   "id": "57e32e36",
   "metadata": {},
   "source": [
    "### Creating sorted dataframe"
   ]
  },
  {
   "cell_type": "code",
   "execution_count": 599,
   "id": "149c64e4",
   "metadata": {},
   "outputs": [
    {
     "data": {
      "text/html": [
       "<div>\n",
       "<style scoped>\n",
       "    .dataframe tbody tr th:only-of-type {\n",
       "        vertical-align: middle;\n",
       "    }\n",
       "\n",
       "    .dataframe tbody tr th {\n",
       "        vertical-align: top;\n",
       "    }\n",
       "\n",
       "    .dataframe thead th {\n",
       "        text-align: right;\n",
       "    }\n",
       "</style>\n",
       "<table border=\"1\" class=\"dataframe\">\n",
       "  <thead>\n",
       "    <tr style=\"text-align: right;\">\n",
       "      <th></th>\n",
       "      <th>ride_id</th>\n",
       "      <th>rideable_type</th>\n",
       "      <th>started_at</th>\n",
       "      <th>ended_at</th>\n",
       "      <th>ride_time</th>\n",
       "      <th>start_station_name</th>\n",
       "      <th>end_station_name</th>\n",
       "      <th>member_casual</th>\n",
       "      <th>start_lat</th>\n",
       "      <th>start_lng</th>\n",
       "      <th>end_lat</th>\n",
       "      <th>end_lng</th>\n",
       "    </tr>\n",
       "  </thead>\n",
       "  <tbody>\n",
       "    <tr>\n",
       "      <th>48853</th>\n",
       "      <td>56F5C3ED5178C131</td>\n",
       "      <td>classic_bike</td>\n",
       "      <td>2024-01-01 00:01:01</td>\n",
       "      <td>2024-01-01 00:24:12</td>\n",
       "      <td>0 days 00:23:11</td>\n",
       "      <td>LaSalle St &amp; Illinois St</td>\n",
       "      <td>Indiana Ave &amp; Roosevelt Rd</td>\n",
       "      <td>member</td>\n",
       "      <td>41.890762</td>\n",
       "      <td>-87.631697</td>\n",
       "      <td>41.867888</td>\n",
       "      <td>-87.623041</td>\n",
       "    </tr>\n",
       "    <tr>\n",
       "      <th>26576</th>\n",
       "      <td>70BDF49A30C8BFFC</td>\n",
       "      <td>classic_bike</td>\n",
       "      <td>2024-01-01 00:02:15</td>\n",
       "      <td>2024-01-01 00:07:01</td>\n",
       "      <td>0 days 00:04:46</td>\n",
       "      <td>Sheffield Ave &amp; Fullerton Ave</td>\n",
       "      <td>Greenview Ave &amp; Fullerton Ave</td>\n",
       "      <td>casual</td>\n",
       "      <td>41.925602</td>\n",
       "      <td>-87.653708</td>\n",
       "      <td>41.925330</td>\n",
       "      <td>-87.665800</td>\n",
       "    </tr>\n",
       "    <tr>\n",
       "      <th>46733</th>\n",
       "      <td>B7F1F63BD1AFF4E9</td>\n",
       "      <td>classic_bike</td>\n",
       "      <td>2024-01-01 00:06:59</td>\n",
       "      <td>2024-01-01 00:17:21</td>\n",
       "      <td>0 days 00:10:22</td>\n",
       "      <td>Western Ave &amp; Howard St</td>\n",
       "      <td>Clark St &amp; Lunt Ave</td>\n",
       "      <td>member</td>\n",
       "      <td>42.018901</td>\n",
       "      <td>-87.690048</td>\n",
       "      <td>42.009011</td>\n",
       "      <td>-87.674112</td>\n",
       "    </tr>\n",
       "    <tr>\n",
       "      <th>40692</th>\n",
       "      <td>444DD0D82A50BA8C</td>\n",
       "      <td>classic_bike</td>\n",
       "      <td>2024-01-01 00:07:45</td>\n",
       "      <td>2024-01-01 00:15:41</td>\n",
       "      <td>0 days 00:07:56</td>\n",
       "      <td>DuSable Lake Shore Dr &amp; North Blvd</td>\n",
       "      <td>Sedgwick St &amp; Webster Ave</td>\n",
       "      <td>casual</td>\n",
       "      <td>41.911722</td>\n",
       "      <td>-87.626804</td>\n",
       "      <td>41.922167</td>\n",
       "      <td>-87.638888</td>\n",
       "    </tr>\n",
       "    <tr>\n",
       "      <th>71103</th>\n",
       "      <td>510C1C0AA564ADF0</td>\n",
       "      <td>classic_bike</td>\n",
       "      <td>2024-01-01 00:07:57</td>\n",
       "      <td>2024-01-01 00:29:42</td>\n",
       "      <td>0 days 00:21:45</td>\n",
       "      <td>Clinton St &amp; Tilden St</td>\n",
       "      <td>LaSalle St &amp; Illinois St</td>\n",
       "      <td>casual</td>\n",
       "      <td>41.875885</td>\n",
       "      <td>-87.640795</td>\n",
       "      <td>41.890762</td>\n",
       "      <td>-87.631697</td>\n",
       "    </tr>\n",
       "  </tbody>\n",
       "</table>\n",
       "</div>"
      ],
      "text/plain": [
       "                ride_id rideable_type          started_at            ended_at  \\\n",
       "48853  56F5C3ED5178C131  classic_bike 2024-01-01 00:01:01 2024-01-01 00:24:12   \n",
       "26576  70BDF49A30C8BFFC  classic_bike 2024-01-01 00:02:15 2024-01-01 00:07:01   \n",
       "46733  B7F1F63BD1AFF4E9  classic_bike 2024-01-01 00:06:59 2024-01-01 00:17:21   \n",
       "40692  444DD0D82A50BA8C  classic_bike 2024-01-01 00:07:45 2024-01-01 00:15:41   \n",
       "71103  510C1C0AA564ADF0  classic_bike 2024-01-01 00:07:57 2024-01-01 00:29:42   \n",
       "\n",
       "            ride_time                  start_station_name  \\\n",
       "48853 0 days 00:23:11            LaSalle St & Illinois St   \n",
       "26576 0 days 00:04:46       Sheffield Ave & Fullerton Ave   \n",
       "46733 0 days 00:10:22             Western Ave & Howard St   \n",
       "40692 0 days 00:07:56  DuSable Lake Shore Dr & North Blvd   \n",
       "71103 0 days 00:21:45              Clinton St & Tilden St   \n",
       "\n",
       "                    end_station_name member_casual  start_lat  start_lng  \\\n",
       "48853     Indiana Ave & Roosevelt Rd        member  41.890762 -87.631697   \n",
       "26576  Greenview Ave & Fullerton Ave        casual  41.925602 -87.653708   \n",
       "46733            Clark St & Lunt Ave        member  42.018901 -87.690048   \n",
       "40692      Sedgwick St & Webster Ave        casual  41.911722 -87.626804   \n",
       "71103       LaSalle St & Illinois St        casual  41.875885 -87.640795   \n",
       "\n",
       "         end_lat    end_lng  \n",
       "48853  41.867888 -87.623041  \n",
       "26576  41.925330 -87.665800  \n",
       "46733  42.009011 -87.674112  \n",
       "40692  41.922167 -87.638888  \n",
       "71103  41.890762 -87.631697  "
      ]
     },
     "execution_count": 599,
     "metadata": {},
     "output_type": "execute_result"
    }
   ],
   "source": [
    "analysis_df = clean_df[~(clean_df['ride_time'] <= timedelta(seconds=10))].copy()\n",
    "analysis_df = analysis_df.sort_values('started_at')\n",
    "analysis_df.head()"
   ]
  },
  {
   "cell_type": "markdown",
   "id": "1ff744d8",
   "metadata": {},
   "source": [
    "### Creating month and weekday columns of when rides started"
   ]
  },
  {
   "cell_type": "code",
   "execution_count": 600,
   "id": "c03b8fc7",
   "metadata": {},
   "outputs": [
    {
     "data": {
      "text/html": [
       "<div>\n",
       "<style scoped>\n",
       "    .dataframe tbody tr th:only-of-type {\n",
       "        vertical-align: middle;\n",
       "    }\n",
       "\n",
       "    .dataframe tbody tr th {\n",
       "        vertical-align: top;\n",
       "    }\n",
       "\n",
       "    .dataframe thead th {\n",
       "        text-align: right;\n",
       "    }\n",
       "</style>\n",
       "<table border=\"1\" class=\"dataframe\">\n",
       "  <thead>\n",
       "    <tr style=\"text-align: right;\">\n",
       "      <th></th>\n",
       "      <th>ride_id</th>\n",
       "      <th>rideable_type</th>\n",
       "      <th>started_at</th>\n",
       "      <th>ended_at</th>\n",
       "      <th>ride_time</th>\n",
       "      <th>month</th>\n",
       "      <th>weekday</th>\n",
       "      <th>start_station_name</th>\n",
       "      <th>end_station_name</th>\n",
       "      <th>member_casual</th>\n",
       "      <th>start_lat</th>\n",
       "      <th>start_lng</th>\n",
       "      <th>end_lat</th>\n",
       "      <th>end_lng</th>\n",
       "    </tr>\n",
       "  </thead>\n",
       "  <tbody>\n",
       "    <tr>\n",
       "      <th>48853</th>\n",
       "      <td>56F5C3ED5178C131</td>\n",
       "      <td>classic_bike</td>\n",
       "      <td>2024-01-01 00:01:01</td>\n",
       "      <td>2024-01-01 00:24:12</td>\n",
       "      <td>0 days 00:23:11</td>\n",
       "      <td>1</td>\n",
       "      <td>Monday</td>\n",
       "      <td>LaSalle St &amp; Illinois St</td>\n",
       "      <td>Indiana Ave &amp; Roosevelt Rd</td>\n",
       "      <td>member</td>\n",
       "      <td>41.890762</td>\n",
       "      <td>-87.631697</td>\n",
       "      <td>41.867888</td>\n",
       "      <td>-87.623041</td>\n",
       "    </tr>\n",
       "    <tr>\n",
       "      <th>26576</th>\n",
       "      <td>70BDF49A30C8BFFC</td>\n",
       "      <td>classic_bike</td>\n",
       "      <td>2024-01-01 00:02:15</td>\n",
       "      <td>2024-01-01 00:07:01</td>\n",
       "      <td>0 days 00:04:46</td>\n",
       "      <td>1</td>\n",
       "      <td>Monday</td>\n",
       "      <td>Sheffield Ave &amp; Fullerton Ave</td>\n",
       "      <td>Greenview Ave &amp; Fullerton Ave</td>\n",
       "      <td>casual</td>\n",
       "      <td>41.925602</td>\n",
       "      <td>-87.653708</td>\n",
       "      <td>41.925330</td>\n",
       "      <td>-87.665800</td>\n",
       "    </tr>\n",
       "    <tr>\n",
       "      <th>46733</th>\n",
       "      <td>B7F1F63BD1AFF4E9</td>\n",
       "      <td>classic_bike</td>\n",
       "      <td>2024-01-01 00:06:59</td>\n",
       "      <td>2024-01-01 00:17:21</td>\n",
       "      <td>0 days 00:10:22</td>\n",
       "      <td>1</td>\n",
       "      <td>Monday</td>\n",
       "      <td>Western Ave &amp; Howard St</td>\n",
       "      <td>Clark St &amp; Lunt Ave</td>\n",
       "      <td>member</td>\n",
       "      <td>42.018901</td>\n",
       "      <td>-87.690048</td>\n",
       "      <td>42.009011</td>\n",
       "      <td>-87.674112</td>\n",
       "    </tr>\n",
       "    <tr>\n",
       "      <th>40692</th>\n",
       "      <td>444DD0D82A50BA8C</td>\n",
       "      <td>classic_bike</td>\n",
       "      <td>2024-01-01 00:07:45</td>\n",
       "      <td>2024-01-01 00:15:41</td>\n",
       "      <td>0 days 00:07:56</td>\n",
       "      <td>1</td>\n",
       "      <td>Monday</td>\n",
       "      <td>DuSable Lake Shore Dr &amp; North Blvd</td>\n",
       "      <td>Sedgwick St &amp; Webster Ave</td>\n",
       "      <td>casual</td>\n",
       "      <td>41.911722</td>\n",
       "      <td>-87.626804</td>\n",
       "      <td>41.922167</td>\n",
       "      <td>-87.638888</td>\n",
       "    </tr>\n",
       "    <tr>\n",
       "      <th>71103</th>\n",
       "      <td>510C1C0AA564ADF0</td>\n",
       "      <td>classic_bike</td>\n",
       "      <td>2024-01-01 00:07:57</td>\n",
       "      <td>2024-01-01 00:29:42</td>\n",
       "      <td>0 days 00:21:45</td>\n",
       "      <td>1</td>\n",
       "      <td>Monday</td>\n",
       "      <td>Clinton St &amp; Tilden St</td>\n",
       "      <td>LaSalle St &amp; Illinois St</td>\n",
       "      <td>casual</td>\n",
       "      <td>41.875885</td>\n",
       "      <td>-87.640795</td>\n",
       "      <td>41.890762</td>\n",
       "      <td>-87.631697</td>\n",
       "    </tr>\n",
       "  </tbody>\n",
       "</table>\n",
       "</div>"
      ],
      "text/plain": [
       "                ride_id rideable_type          started_at            ended_at  \\\n",
       "48853  56F5C3ED5178C131  classic_bike 2024-01-01 00:01:01 2024-01-01 00:24:12   \n",
       "26576  70BDF49A30C8BFFC  classic_bike 2024-01-01 00:02:15 2024-01-01 00:07:01   \n",
       "46733  B7F1F63BD1AFF4E9  classic_bike 2024-01-01 00:06:59 2024-01-01 00:17:21   \n",
       "40692  444DD0D82A50BA8C  classic_bike 2024-01-01 00:07:45 2024-01-01 00:15:41   \n",
       "71103  510C1C0AA564ADF0  classic_bike 2024-01-01 00:07:57 2024-01-01 00:29:42   \n",
       "\n",
       "            ride_time  month weekday                  start_station_name  \\\n",
       "48853 0 days 00:23:11      1  Monday            LaSalle St & Illinois St   \n",
       "26576 0 days 00:04:46      1  Monday       Sheffield Ave & Fullerton Ave   \n",
       "46733 0 days 00:10:22      1  Monday             Western Ave & Howard St   \n",
       "40692 0 days 00:07:56      1  Monday  DuSable Lake Shore Dr & North Blvd   \n",
       "71103 0 days 00:21:45      1  Monday              Clinton St & Tilden St   \n",
       "\n",
       "                    end_station_name member_casual  start_lat  start_lng  \\\n",
       "48853     Indiana Ave & Roosevelt Rd        member  41.890762 -87.631697   \n",
       "26576  Greenview Ave & Fullerton Ave        casual  41.925602 -87.653708   \n",
       "46733            Clark St & Lunt Ave        member  42.018901 -87.690048   \n",
       "40692      Sedgwick St & Webster Ave        casual  41.911722 -87.626804   \n",
       "71103       LaSalle St & Illinois St        casual  41.875885 -87.640795   \n",
       "\n",
       "         end_lat    end_lng  \n",
       "48853  41.867888 -87.623041  \n",
       "26576  41.925330 -87.665800  \n",
       "46733  42.009011 -87.674112  \n",
       "40692  41.922167 -87.638888  \n",
       "71103  41.890762 -87.631697  "
      ]
     },
     "execution_count": 600,
     "metadata": {},
     "output_type": "execute_result"
    }
   ],
   "source": [
    "month = analysis_df['started_at'].dt.month\n",
    "weekday = analysis_df['started_at'].dt.day_name().astype('category')\n",
    "analysis_df.insert(5, 'month', month)\n",
    "analysis_df.insert(6, 'weekday', weekday)\n",
    "analysis_df.head()"
   ]
  },
  {
   "cell_type": "markdown",
   "id": "51459d60",
   "metadata": {},
   "source": [
    "# Analysis and Share"
   ]
  },
  {
   "cell_type": "code",
   "execution_count": 601,
   "id": "1885be30",
   "metadata": {},
   "outputs": [
    {
     "data": {
      "text/plain": [
       "ride_id               string[pyarrow]\n",
       "rideable_type                category\n",
       "started_at             datetime64[ns]\n",
       "ended_at               datetime64[ns]\n",
       "ride_time             timedelta64[ns]\n",
       "month                           int32\n",
       "weekday                      category\n",
       "start_station_name           category\n",
       "end_station_name             category\n",
       "member_casual                category\n",
       "start_lat                    category\n",
       "start_lng                    category\n",
       "end_lat                      category\n",
       "end_lng                      category\n",
       "dtype: object"
      ]
     },
     "execution_count": 601,
     "metadata": {},
     "output_type": "execute_result"
    }
   ],
   "source": [
    "analysis_df.dtypes"
   ]
  },
  {
   "cell_type": "markdown",
   "id": "2b4c4fe7",
   "metadata": {},
   "source": [
    "### Checking unique values within columns"
   ]
  },
  {
   "cell_type": "code",
   "execution_count": 602,
   "id": "483303aa",
   "metadata": {},
   "outputs": [
    {
     "data": {
      "text/plain": [
       "ride_id               4198335\n",
       "rideable_type               3\n",
       "started_at            4077137\n",
       "ended_at              4079187\n",
       "ride_time             1512773\n",
       "month                      12\n",
       "weekday                     7\n",
       "start_station_name       1787\n",
       "end_station_name         1798\n",
       "member_casual               2\n",
       "start_lat              428465\n",
       "start_lng              415170\n",
       "end_lat                  2329\n",
       "end_lng                  2330\n",
       "dtype: int64"
      ]
     },
     "execution_count": 602,
     "metadata": {},
     "output_type": "execute_result"
    }
   ],
   "source": [
    "analysis_df.nunique()"
   ]
  },
  {
   "cell_type": "markdown",
   "id": "37dde9f7",
   "metadata": {},
   "source": [
    "### How many users are subscribed and how many are not?"
   ]
  },
  {
   "cell_type": "code",
   "execution_count": 603,
   "id": "2b033ec6",
   "metadata": {},
   "outputs": [
    {
     "data": {
      "text/html": [
       "<div>\n",
       "<style scoped>\n",
       "    .dataframe tbody tr th:only-of-type {\n",
       "        vertical-align: middle;\n",
       "    }\n",
       "\n",
       "    .dataframe tbody tr th {\n",
       "        vertical-align: top;\n",
       "    }\n",
       "\n",
       "    .dataframe thead th {\n",
       "        text-align: right;\n",
       "    }\n",
       "</style>\n",
       "<table border=\"1\" class=\"dataframe\">\n",
       "  <thead>\n",
       "    <tr style=\"text-align: right;\">\n",
       "      <th></th>\n",
       "      <th>member_casual</th>\n",
       "      <th>count</th>\n",
       "    </tr>\n",
       "  </thead>\n",
       "  <tbody>\n",
       "    <tr>\n",
       "      <th>0</th>\n",
       "      <td>member</td>\n",
       "      <td>2680018</td>\n",
       "    </tr>\n",
       "    <tr>\n",
       "      <th>1</th>\n",
       "      <td>casual</td>\n",
       "      <td>1518317</td>\n",
       "    </tr>\n",
       "  </tbody>\n",
       "</table>\n",
       "</div>"
      ],
      "text/plain": [
       "  member_casual    count\n",
       "0        member  2680018\n",
       "1        casual  1518317"
      ]
     },
     "execution_count": 603,
     "metadata": {},
     "output_type": "execute_result"
    }
   ],
   "source": [
    "members = (\n",
    "    analysis_df['member_casual']\n",
    "    .value_counts()\n",
    "    .reset_index()\n",
    ")\n",
    "\n",
    "members"
   ]
  },
  {
   "cell_type": "code",
   "execution_count": 604,
   "id": "e1036989",
   "metadata": {},
   "outputs": [
    {
     "data": {
      "application/vnd.plotly.v1+json": {
       "config": {
        "plotlyServerURL": "https://plot.ly"
       },
       "data": [
        {
         "hovertemplate": "member_casual=%{x}<br>count=%{y}<extra></extra>",
         "legendgroup": "member",
         "marker": {
          "color": "goldenrod",
          "pattern": {
           "shape": ""
          }
         },
         "name": "member",
         "orientation": "v",
         "showlegend": true,
         "textposition": "auto",
         "type": "bar",
         "x": [
          "member"
         ],
         "xaxis": "x",
         "y": {
          "bdata": "0uQoAA==",
          "dtype": "i4"
         },
         "yaxis": "y"
        },
        {
         "hovertemplate": "member_casual=%{x}<br>count=%{y}<extra></extra>",
         "legendgroup": "casual",
         "marker": {
          "color": "gray",
          "pattern": {
           "shape": ""
          }
         },
         "name": "casual",
         "orientation": "v",
         "showlegend": true,
         "textposition": "auto",
         "type": "bar",
         "x": [
          "casual"
         ],
         "xaxis": "x",
         "y": {
          "bdata": "7SoXAA==",
          "dtype": "i4"
         },
         "yaxis": "y"
        }
       ],
       "layout": {
        "barmode": "relative",
        "legend": {
         "title": {
          "text": "member_casual"
         },
         "tracegroupgap": 0
        },
        "margin": {
         "t": 60
        },
        "showlegend": false,
        "template": {
         "data": {
          "bar": [
           {
            "error_x": {
             "color": "#f2f5fa"
            },
            "error_y": {
             "color": "#f2f5fa"
            },
            "marker": {
             "line": {
              "color": "rgb(17,17,17)",
              "width": 0.5
             },
             "pattern": {
              "fillmode": "overlay",
              "size": 10,
              "solidity": 0.2
             }
            },
            "type": "bar"
           }
          ],
          "barpolar": [
           {
            "marker": {
             "line": {
              "color": "rgb(17,17,17)",
              "width": 0.5
             },
             "pattern": {
              "fillmode": "overlay",
              "size": 10,
              "solidity": 0.2
             }
            },
            "type": "barpolar"
           }
          ],
          "carpet": [
           {
            "aaxis": {
             "endlinecolor": "#A2B1C6",
             "gridcolor": "#506784",
             "linecolor": "#506784",
             "minorgridcolor": "#506784",
             "startlinecolor": "#A2B1C6"
            },
            "baxis": {
             "endlinecolor": "#A2B1C6",
             "gridcolor": "#506784",
             "linecolor": "#506784",
             "minorgridcolor": "#506784",
             "startlinecolor": "#A2B1C6"
            },
            "type": "carpet"
           }
          ],
          "choropleth": [
           {
            "colorbar": {
             "outlinewidth": 0,
             "ticks": ""
            },
            "type": "choropleth"
           }
          ],
          "contour": [
           {
            "colorbar": {
             "outlinewidth": 0,
             "ticks": ""
            },
            "colorscale": [
             [
              0,
              "#0d0887"
             ],
             [
              0.1111111111111111,
              "#46039f"
             ],
             [
              0.2222222222222222,
              "#7201a8"
             ],
             [
              0.3333333333333333,
              "#9c179e"
             ],
             [
              0.4444444444444444,
              "#bd3786"
             ],
             [
              0.5555555555555556,
              "#d8576b"
             ],
             [
              0.6666666666666666,
              "#ed7953"
             ],
             [
              0.7777777777777778,
              "#fb9f3a"
             ],
             [
              0.8888888888888888,
              "#fdca26"
             ],
             [
              1,
              "#f0f921"
             ]
            ],
            "type": "contour"
           }
          ],
          "contourcarpet": [
           {
            "colorbar": {
             "outlinewidth": 0,
             "ticks": ""
            },
            "type": "contourcarpet"
           }
          ],
          "heatmap": [
           {
            "colorbar": {
             "outlinewidth": 0,
             "ticks": ""
            },
            "colorscale": [
             [
              0,
              "#0d0887"
             ],
             [
              0.1111111111111111,
              "#46039f"
             ],
             [
              0.2222222222222222,
              "#7201a8"
             ],
             [
              0.3333333333333333,
              "#9c179e"
             ],
             [
              0.4444444444444444,
              "#bd3786"
             ],
             [
              0.5555555555555556,
              "#d8576b"
             ],
             [
              0.6666666666666666,
              "#ed7953"
             ],
             [
              0.7777777777777778,
              "#fb9f3a"
             ],
             [
              0.8888888888888888,
              "#fdca26"
             ],
             [
              1,
              "#f0f921"
             ]
            ],
            "type": "heatmap"
           }
          ],
          "histogram": [
           {
            "marker": {
             "pattern": {
              "fillmode": "overlay",
              "size": 10,
              "solidity": 0.2
             }
            },
            "type": "histogram"
           }
          ],
          "histogram2d": [
           {
            "colorbar": {
             "outlinewidth": 0,
             "ticks": ""
            },
            "colorscale": [
             [
              0,
              "#0d0887"
             ],
             [
              0.1111111111111111,
              "#46039f"
             ],
             [
              0.2222222222222222,
              "#7201a8"
             ],
             [
              0.3333333333333333,
              "#9c179e"
             ],
             [
              0.4444444444444444,
              "#bd3786"
             ],
             [
              0.5555555555555556,
              "#d8576b"
             ],
             [
              0.6666666666666666,
              "#ed7953"
             ],
             [
              0.7777777777777778,
              "#fb9f3a"
             ],
             [
              0.8888888888888888,
              "#fdca26"
             ],
             [
              1,
              "#f0f921"
             ]
            ],
            "type": "histogram2d"
           }
          ],
          "histogram2dcontour": [
           {
            "colorbar": {
             "outlinewidth": 0,
             "ticks": ""
            },
            "colorscale": [
             [
              0,
              "#0d0887"
             ],
             [
              0.1111111111111111,
              "#46039f"
             ],
             [
              0.2222222222222222,
              "#7201a8"
             ],
             [
              0.3333333333333333,
              "#9c179e"
             ],
             [
              0.4444444444444444,
              "#bd3786"
             ],
             [
              0.5555555555555556,
              "#d8576b"
             ],
             [
              0.6666666666666666,
              "#ed7953"
             ],
             [
              0.7777777777777778,
              "#fb9f3a"
             ],
             [
              0.8888888888888888,
              "#fdca26"
             ],
             [
              1,
              "#f0f921"
             ]
            ],
            "type": "histogram2dcontour"
           }
          ],
          "mesh3d": [
           {
            "colorbar": {
             "outlinewidth": 0,
             "ticks": ""
            },
            "type": "mesh3d"
           }
          ],
          "parcoords": [
           {
            "line": {
             "colorbar": {
              "outlinewidth": 0,
              "ticks": ""
             }
            },
            "type": "parcoords"
           }
          ],
          "pie": [
           {
            "automargin": true,
            "type": "pie"
           }
          ],
          "scatter": [
           {
            "marker": {
             "line": {
              "color": "#283442"
             }
            },
            "type": "scatter"
           }
          ],
          "scatter3d": [
           {
            "line": {
             "colorbar": {
              "outlinewidth": 0,
              "ticks": ""
             }
            },
            "marker": {
             "colorbar": {
              "outlinewidth": 0,
              "ticks": ""
             }
            },
            "type": "scatter3d"
           }
          ],
          "scattercarpet": [
           {
            "marker": {
             "colorbar": {
              "outlinewidth": 0,
              "ticks": ""
             }
            },
            "type": "scattercarpet"
           }
          ],
          "scattergeo": [
           {
            "marker": {
             "colorbar": {
              "outlinewidth": 0,
              "ticks": ""
             }
            },
            "type": "scattergeo"
           }
          ],
          "scattergl": [
           {
            "marker": {
             "line": {
              "color": "#283442"
             }
            },
            "type": "scattergl"
           }
          ],
          "scattermap": [
           {
            "marker": {
             "colorbar": {
              "outlinewidth": 0,
              "ticks": ""
             }
            },
            "type": "scattermap"
           }
          ],
          "scattermapbox": [
           {
            "marker": {
             "colorbar": {
              "outlinewidth": 0,
              "ticks": ""
             }
            },
            "type": "scattermapbox"
           }
          ],
          "scatterpolar": [
           {
            "marker": {
             "colorbar": {
              "outlinewidth": 0,
              "ticks": ""
             }
            },
            "type": "scatterpolar"
           }
          ],
          "scatterpolargl": [
           {
            "marker": {
             "colorbar": {
              "outlinewidth": 0,
              "ticks": ""
             }
            },
            "type": "scatterpolargl"
           }
          ],
          "scatterternary": [
           {
            "marker": {
             "colorbar": {
              "outlinewidth": 0,
              "ticks": ""
             }
            },
            "type": "scatterternary"
           }
          ],
          "surface": [
           {
            "colorbar": {
             "outlinewidth": 0,
             "ticks": ""
            },
            "colorscale": [
             [
              0,
              "#0d0887"
             ],
             [
              0.1111111111111111,
              "#46039f"
             ],
             [
              0.2222222222222222,
              "#7201a8"
             ],
             [
              0.3333333333333333,
              "#9c179e"
             ],
             [
              0.4444444444444444,
              "#bd3786"
             ],
             [
              0.5555555555555556,
              "#d8576b"
             ],
             [
              0.6666666666666666,
              "#ed7953"
             ],
             [
              0.7777777777777778,
              "#fb9f3a"
             ],
             [
              0.8888888888888888,
              "#fdca26"
             ],
             [
              1,
              "#f0f921"
             ]
            ],
            "type": "surface"
           }
          ],
          "table": [
           {
            "cells": {
             "fill": {
              "color": "#506784"
             },
             "line": {
              "color": "rgb(17,17,17)"
             }
            },
            "header": {
             "fill": {
              "color": "#2a3f5f"
             },
             "line": {
              "color": "rgb(17,17,17)"
             }
            },
            "type": "table"
           }
          ]
         },
         "layout": {
          "annotationdefaults": {
           "arrowcolor": "#f2f5fa",
           "arrowhead": 0,
           "arrowwidth": 1
          },
          "autotypenumbers": "strict",
          "coloraxis": {
           "colorbar": {
            "outlinewidth": 0,
            "ticks": ""
           }
          },
          "colorscale": {
           "diverging": [
            [
             0,
             "#8e0152"
            ],
            [
             0.1,
             "#c51b7d"
            ],
            [
             0.2,
             "#de77ae"
            ],
            [
             0.3,
             "#f1b6da"
            ],
            [
             0.4,
             "#fde0ef"
            ],
            [
             0.5,
             "#f7f7f7"
            ],
            [
             0.6,
             "#e6f5d0"
            ],
            [
             0.7,
             "#b8e186"
            ],
            [
             0.8,
             "#7fbc41"
            ],
            [
             0.9,
             "#4d9221"
            ],
            [
             1,
             "#276419"
            ]
           ],
           "sequential": [
            [
             0,
             "#0d0887"
            ],
            [
             0.1111111111111111,
             "#46039f"
            ],
            [
             0.2222222222222222,
             "#7201a8"
            ],
            [
             0.3333333333333333,
             "#9c179e"
            ],
            [
             0.4444444444444444,
             "#bd3786"
            ],
            [
             0.5555555555555556,
             "#d8576b"
            ],
            [
             0.6666666666666666,
             "#ed7953"
            ],
            [
             0.7777777777777778,
             "#fb9f3a"
            ],
            [
             0.8888888888888888,
             "#fdca26"
            ],
            [
             1,
             "#f0f921"
            ]
           ],
           "sequentialminus": [
            [
             0,
             "#0d0887"
            ],
            [
             0.1111111111111111,
             "#46039f"
            ],
            [
             0.2222222222222222,
             "#7201a8"
            ],
            [
             0.3333333333333333,
             "#9c179e"
            ],
            [
             0.4444444444444444,
             "#bd3786"
            ],
            [
             0.5555555555555556,
             "#d8576b"
            ],
            [
             0.6666666666666666,
             "#ed7953"
            ],
            [
             0.7777777777777778,
             "#fb9f3a"
            ],
            [
             0.8888888888888888,
             "#fdca26"
            ],
            [
             1,
             "#f0f921"
            ]
           ]
          },
          "colorway": [
           "#636efa",
           "#EF553B",
           "#00cc96",
           "#ab63fa",
           "#FFA15A",
           "#19d3f3",
           "#FF6692",
           "#B6E880",
           "#FF97FF",
           "#FECB52"
          ],
          "font": {
           "color": "#f2f5fa"
          },
          "geo": {
           "bgcolor": "rgb(17,17,17)",
           "lakecolor": "rgb(17,17,17)",
           "landcolor": "rgb(17,17,17)",
           "showlakes": true,
           "showland": true,
           "subunitcolor": "#506784"
          },
          "hoverlabel": {
           "align": "left"
          },
          "hovermode": "closest",
          "mapbox": {
           "style": "dark"
          },
          "paper_bgcolor": "rgb(17,17,17)",
          "plot_bgcolor": "rgb(17,17,17)",
          "polar": {
           "angularaxis": {
            "gridcolor": "#506784",
            "linecolor": "#506784",
            "ticks": ""
           },
           "bgcolor": "rgb(17,17,17)",
           "radialaxis": {
            "gridcolor": "#506784",
            "linecolor": "#506784",
            "ticks": ""
           }
          },
          "scene": {
           "xaxis": {
            "backgroundcolor": "rgb(17,17,17)",
            "gridcolor": "#506784",
            "gridwidth": 2,
            "linecolor": "#506784",
            "showbackground": true,
            "ticks": "",
            "zerolinecolor": "#C8D4E3"
           },
           "yaxis": {
            "backgroundcolor": "rgb(17,17,17)",
            "gridcolor": "#506784",
            "gridwidth": 2,
            "linecolor": "#506784",
            "showbackground": true,
            "ticks": "",
            "zerolinecolor": "#C8D4E3"
           },
           "zaxis": {
            "backgroundcolor": "rgb(17,17,17)",
            "gridcolor": "#506784",
            "gridwidth": 2,
            "linecolor": "#506784",
            "showbackground": true,
            "ticks": "",
            "zerolinecolor": "#C8D4E3"
           }
          },
          "shapedefaults": {
           "line": {
            "color": "#f2f5fa"
           }
          },
          "sliderdefaults": {
           "bgcolor": "#C8D4E3",
           "bordercolor": "rgb(17,17,17)",
           "borderwidth": 1,
           "tickwidth": 0
          },
          "ternary": {
           "aaxis": {
            "gridcolor": "#506784",
            "linecolor": "#506784",
            "ticks": ""
           },
           "baxis": {
            "gridcolor": "#506784",
            "linecolor": "#506784",
            "ticks": ""
           },
           "bgcolor": "rgb(17,17,17)",
           "caxis": {
            "gridcolor": "#506784",
            "linecolor": "#506784",
            "ticks": ""
           }
          },
          "title": {
           "x": 0.05
          },
          "updatemenudefaults": {
           "bgcolor": "#506784",
           "borderwidth": 0
          },
          "xaxis": {
           "automargin": true,
           "gridcolor": "#283442",
           "linecolor": "#506784",
           "ticks": "",
           "title": {
            "standoff": 15
           },
           "zerolinecolor": "#283442",
           "zerolinewidth": 2
          },
          "yaxis": {
           "automargin": true,
           "gridcolor": "#283442",
           "linecolor": "#506784",
           "ticks": "",
           "title": {
            "standoff": 15
           },
           "zerolinecolor": "#283442",
           "zerolinewidth": 2
          }
         }
        },
        "title": {
         "text": "Users by Subscription"
        },
        "width": 1000,
        "xaxis": {
         "anchor": "y",
         "categoryarray": [
          "member",
          "casual"
         ],
         "categoryorder": "array",
         "domain": [
          0,
          1
         ],
         "ticktext": [
          "Member",
          "Casual"
         ],
         "tickvals": [
          "member",
          "casual"
         ],
         "title": {
          "text": "Membership status"
         }
        },
        "yaxis": {
         "anchor": "x",
         "domain": [
          0,
          1
         ],
         "title": {
          "text": "User count"
         }
        }
       }
      }
     },
     "metadata": {},
     "output_type": "display_data"
    }
   ],
   "source": [
    "members_bar = px.bar(\n",
    "    members,\n",
    "    width=1000,\n",
    "    x='member_casual',\n",
    "    y='count',\n",
    "    color='member_casual',\n",
    "    template='plotly_dark',\n",
    "    color_discrete_sequence=[\"goldenrod\", \"gray\"],\n",
    ")\n",
    "\n",
    "members_bar.update_layout(\n",
    "    xaxis_title='Membership status', \n",
    "    yaxis_title='User count', \n",
    "    title='Users by Subscription',\n",
    "    showlegend=False,\n",
    "    xaxis=dict(\n",
    "        tickvals=members['member_casual'],\n",
    "        ticktext=['Member', 'Casual']\n",
    "    )\n",
    ")\n",
    "\n",
    "members_bar.show()"
   ]
  },
  {
   "cell_type": "markdown",
   "id": "f7b6922c",
   "metadata": {},
   "source": [
    "### How many users are each using a different rideable devices?"
   ]
  },
  {
   "cell_type": "code",
   "execution_count": 605,
   "id": "ecfdc330",
   "metadata": {},
   "outputs": [
    {
     "data": {
      "text/html": [
       "<div>\n",
       "<style scoped>\n",
       "    .dataframe tbody tr th:only-of-type {\n",
       "        vertical-align: middle;\n",
       "    }\n",
       "\n",
       "    .dataframe tbody tr th {\n",
       "        vertical-align: top;\n",
       "    }\n",
       "\n",
       "    .dataframe thead th {\n",
       "        text-align: right;\n",
       "    }\n",
       "</style>\n",
       "<table border=\"1\" class=\"dataframe\">\n",
       "  <thead>\n",
       "    <tr style=\"text-align: right;\">\n",
       "      <th></th>\n",
       "      <th>rideable_type</th>\n",
       "      <th>count</th>\n",
       "    </tr>\n",
       "  </thead>\n",
       "  <tbody>\n",
       "    <tr>\n",
       "      <th>0</th>\n",
       "      <td>classic_bike</td>\n",
       "      <td>2724476</td>\n",
       "    </tr>\n",
       "    <tr>\n",
       "      <th>1</th>\n",
       "      <td>electric_bike</td>\n",
       "      <td>1426242</td>\n",
       "    </tr>\n",
       "    <tr>\n",
       "      <th>2</th>\n",
       "      <td>electric_scooter</td>\n",
       "      <td>47617</td>\n",
       "    </tr>\n",
       "  </tbody>\n",
       "</table>\n",
       "</div>"
      ],
      "text/plain": [
       "      rideable_type    count\n",
       "0      classic_bike  2724476\n",
       "1     electric_bike  1426242\n",
       "2  electric_scooter    47617"
      ]
     },
     "execution_count": 605,
     "metadata": {},
     "output_type": "execute_result"
    }
   ],
   "source": [
    "rideable_types = (\n",
    "    analysis_df['rideable_type']\n",
    "    .value_counts()\n",
    "    .reset_index()\n",
    ")\n",
    "\n",
    "rideable_types"
   ]
  },
  {
   "cell_type": "code",
   "execution_count": 606,
   "id": "237bb914",
   "metadata": {},
   "outputs": [
    {
     "data": {
      "application/vnd.plotly.v1+json": {
       "config": {
        "plotlyServerURL": "https://plot.ly"
       },
       "data": [
        {
         "hovertemplate": "rideable_type=%{x}<br>count=%{y}<extra></extra>",
         "legendgroup": "classic_bike",
         "marker": {
          "color": "brown",
          "pattern": {
           "shape": ""
          }
         },
         "name": "classic_bike",
         "orientation": "v",
         "showlegend": true,
         "textposition": "auto",
         "type": "bar",
         "x": [
          "classic_bike"
         ],
         "xaxis": "x",
         "y": {
          "bdata": "fJIpAA==",
          "dtype": "i4"
         },
         "yaxis": "y"
        },
        {
         "hovertemplate": "rideable_type=%{x}<br>count=%{y}<extra></extra>",
         "legendgroup": "electric_bike",
         "marker": {
          "color": "dodgerblue",
          "pattern": {
           "shape": ""
          }
         },
         "name": "electric_bike",
         "orientation": "v",
         "showlegend": true,
         "textposition": "auto",
         "type": "bar",
         "x": [
          "electric_bike"
         ],
         "xaxis": "x",
         "y": {
          "bdata": "QsMVAA==",
          "dtype": "i4"
         },
         "yaxis": "y"
        },
        {
         "hovertemplate": "rideable_type=%{x}<br>count=%{y}<extra></extra>",
         "legendgroup": "electric_scooter",
         "marker": {
          "color": "lime",
          "pattern": {
           "shape": ""
          }
         },
         "name": "electric_scooter",
         "orientation": "v",
         "showlegend": true,
         "textposition": "auto",
         "type": "bar",
         "x": [
          "electric_scooter"
         ],
         "xaxis": "x",
         "y": {
          "bdata": "AboAAA==",
          "dtype": "i4"
         },
         "yaxis": "y"
        }
       ],
       "layout": {
        "barmode": "relative",
        "legend": {
         "title": {
          "text": "rideable_type"
         },
         "tracegroupgap": 0
        },
        "margin": {
         "t": 60
        },
        "showlegend": false,
        "template": {
         "data": {
          "bar": [
           {
            "error_x": {
             "color": "#f2f5fa"
            },
            "error_y": {
             "color": "#f2f5fa"
            },
            "marker": {
             "line": {
              "color": "rgb(17,17,17)",
              "width": 0.5
             },
             "pattern": {
              "fillmode": "overlay",
              "size": 10,
              "solidity": 0.2
             }
            },
            "type": "bar"
           }
          ],
          "barpolar": [
           {
            "marker": {
             "line": {
              "color": "rgb(17,17,17)",
              "width": 0.5
             },
             "pattern": {
              "fillmode": "overlay",
              "size": 10,
              "solidity": 0.2
             }
            },
            "type": "barpolar"
           }
          ],
          "carpet": [
           {
            "aaxis": {
             "endlinecolor": "#A2B1C6",
             "gridcolor": "#506784",
             "linecolor": "#506784",
             "minorgridcolor": "#506784",
             "startlinecolor": "#A2B1C6"
            },
            "baxis": {
             "endlinecolor": "#A2B1C6",
             "gridcolor": "#506784",
             "linecolor": "#506784",
             "minorgridcolor": "#506784",
             "startlinecolor": "#A2B1C6"
            },
            "type": "carpet"
           }
          ],
          "choropleth": [
           {
            "colorbar": {
             "outlinewidth": 0,
             "ticks": ""
            },
            "type": "choropleth"
           }
          ],
          "contour": [
           {
            "colorbar": {
             "outlinewidth": 0,
             "ticks": ""
            },
            "colorscale": [
             [
              0,
              "#0d0887"
             ],
             [
              0.1111111111111111,
              "#46039f"
             ],
             [
              0.2222222222222222,
              "#7201a8"
             ],
             [
              0.3333333333333333,
              "#9c179e"
             ],
             [
              0.4444444444444444,
              "#bd3786"
             ],
             [
              0.5555555555555556,
              "#d8576b"
             ],
             [
              0.6666666666666666,
              "#ed7953"
             ],
             [
              0.7777777777777778,
              "#fb9f3a"
             ],
             [
              0.8888888888888888,
              "#fdca26"
             ],
             [
              1,
              "#f0f921"
             ]
            ],
            "type": "contour"
           }
          ],
          "contourcarpet": [
           {
            "colorbar": {
             "outlinewidth": 0,
             "ticks": ""
            },
            "type": "contourcarpet"
           }
          ],
          "heatmap": [
           {
            "colorbar": {
             "outlinewidth": 0,
             "ticks": ""
            },
            "colorscale": [
             [
              0,
              "#0d0887"
             ],
             [
              0.1111111111111111,
              "#46039f"
             ],
             [
              0.2222222222222222,
              "#7201a8"
             ],
             [
              0.3333333333333333,
              "#9c179e"
             ],
             [
              0.4444444444444444,
              "#bd3786"
             ],
             [
              0.5555555555555556,
              "#d8576b"
             ],
             [
              0.6666666666666666,
              "#ed7953"
             ],
             [
              0.7777777777777778,
              "#fb9f3a"
             ],
             [
              0.8888888888888888,
              "#fdca26"
             ],
             [
              1,
              "#f0f921"
             ]
            ],
            "type": "heatmap"
           }
          ],
          "histogram": [
           {
            "marker": {
             "pattern": {
              "fillmode": "overlay",
              "size": 10,
              "solidity": 0.2
             }
            },
            "type": "histogram"
           }
          ],
          "histogram2d": [
           {
            "colorbar": {
             "outlinewidth": 0,
             "ticks": ""
            },
            "colorscale": [
             [
              0,
              "#0d0887"
             ],
             [
              0.1111111111111111,
              "#46039f"
             ],
             [
              0.2222222222222222,
              "#7201a8"
             ],
             [
              0.3333333333333333,
              "#9c179e"
             ],
             [
              0.4444444444444444,
              "#bd3786"
             ],
             [
              0.5555555555555556,
              "#d8576b"
             ],
             [
              0.6666666666666666,
              "#ed7953"
             ],
             [
              0.7777777777777778,
              "#fb9f3a"
             ],
             [
              0.8888888888888888,
              "#fdca26"
             ],
             [
              1,
              "#f0f921"
             ]
            ],
            "type": "histogram2d"
           }
          ],
          "histogram2dcontour": [
           {
            "colorbar": {
             "outlinewidth": 0,
             "ticks": ""
            },
            "colorscale": [
             [
              0,
              "#0d0887"
             ],
             [
              0.1111111111111111,
              "#46039f"
             ],
             [
              0.2222222222222222,
              "#7201a8"
             ],
             [
              0.3333333333333333,
              "#9c179e"
             ],
             [
              0.4444444444444444,
              "#bd3786"
             ],
             [
              0.5555555555555556,
              "#d8576b"
             ],
             [
              0.6666666666666666,
              "#ed7953"
             ],
             [
              0.7777777777777778,
              "#fb9f3a"
             ],
             [
              0.8888888888888888,
              "#fdca26"
             ],
             [
              1,
              "#f0f921"
             ]
            ],
            "type": "histogram2dcontour"
           }
          ],
          "mesh3d": [
           {
            "colorbar": {
             "outlinewidth": 0,
             "ticks": ""
            },
            "type": "mesh3d"
           }
          ],
          "parcoords": [
           {
            "line": {
             "colorbar": {
              "outlinewidth": 0,
              "ticks": ""
             }
            },
            "type": "parcoords"
           }
          ],
          "pie": [
           {
            "automargin": true,
            "type": "pie"
           }
          ],
          "scatter": [
           {
            "marker": {
             "line": {
              "color": "#283442"
             }
            },
            "type": "scatter"
           }
          ],
          "scatter3d": [
           {
            "line": {
             "colorbar": {
              "outlinewidth": 0,
              "ticks": ""
             }
            },
            "marker": {
             "colorbar": {
              "outlinewidth": 0,
              "ticks": ""
             }
            },
            "type": "scatter3d"
           }
          ],
          "scattercarpet": [
           {
            "marker": {
             "colorbar": {
              "outlinewidth": 0,
              "ticks": ""
             }
            },
            "type": "scattercarpet"
           }
          ],
          "scattergeo": [
           {
            "marker": {
             "colorbar": {
              "outlinewidth": 0,
              "ticks": ""
             }
            },
            "type": "scattergeo"
           }
          ],
          "scattergl": [
           {
            "marker": {
             "line": {
              "color": "#283442"
             }
            },
            "type": "scattergl"
           }
          ],
          "scattermap": [
           {
            "marker": {
             "colorbar": {
              "outlinewidth": 0,
              "ticks": ""
             }
            },
            "type": "scattermap"
           }
          ],
          "scattermapbox": [
           {
            "marker": {
             "colorbar": {
              "outlinewidth": 0,
              "ticks": ""
             }
            },
            "type": "scattermapbox"
           }
          ],
          "scatterpolar": [
           {
            "marker": {
             "colorbar": {
              "outlinewidth": 0,
              "ticks": ""
             }
            },
            "type": "scatterpolar"
           }
          ],
          "scatterpolargl": [
           {
            "marker": {
             "colorbar": {
              "outlinewidth": 0,
              "ticks": ""
             }
            },
            "type": "scatterpolargl"
           }
          ],
          "scatterternary": [
           {
            "marker": {
             "colorbar": {
              "outlinewidth": 0,
              "ticks": ""
             }
            },
            "type": "scatterternary"
           }
          ],
          "surface": [
           {
            "colorbar": {
             "outlinewidth": 0,
             "ticks": ""
            },
            "colorscale": [
             [
              0,
              "#0d0887"
             ],
             [
              0.1111111111111111,
              "#46039f"
             ],
             [
              0.2222222222222222,
              "#7201a8"
             ],
             [
              0.3333333333333333,
              "#9c179e"
             ],
             [
              0.4444444444444444,
              "#bd3786"
             ],
             [
              0.5555555555555556,
              "#d8576b"
             ],
             [
              0.6666666666666666,
              "#ed7953"
             ],
             [
              0.7777777777777778,
              "#fb9f3a"
             ],
             [
              0.8888888888888888,
              "#fdca26"
             ],
             [
              1,
              "#f0f921"
             ]
            ],
            "type": "surface"
           }
          ],
          "table": [
           {
            "cells": {
             "fill": {
              "color": "#506784"
             },
             "line": {
              "color": "rgb(17,17,17)"
             }
            },
            "header": {
             "fill": {
              "color": "#2a3f5f"
             },
             "line": {
              "color": "rgb(17,17,17)"
             }
            },
            "type": "table"
           }
          ]
         },
         "layout": {
          "annotationdefaults": {
           "arrowcolor": "#f2f5fa",
           "arrowhead": 0,
           "arrowwidth": 1
          },
          "autotypenumbers": "strict",
          "coloraxis": {
           "colorbar": {
            "outlinewidth": 0,
            "ticks": ""
           }
          },
          "colorscale": {
           "diverging": [
            [
             0,
             "#8e0152"
            ],
            [
             0.1,
             "#c51b7d"
            ],
            [
             0.2,
             "#de77ae"
            ],
            [
             0.3,
             "#f1b6da"
            ],
            [
             0.4,
             "#fde0ef"
            ],
            [
             0.5,
             "#f7f7f7"
            ],
            [
             0.6,
             "#e6f5d0"
            ],
            [
             0.7,
             "#b8e186"
            ],
            [
             0.8,
             "#7fbc41"
            ],
            [
             0.9,
             "#4d9221"
            ],
            [
             1,
             "#276419"
            ]
           ],
           "sequential": [
            [
             0,
             "#0d0887"
            ],
            [
             0.1111111111111111,
             "#46039f"
            ],
            [
             0.2222222222222222,
             "#7201a8"
            ],
            [
             0.3333333333333333,
             "#9c179e"
            ],
            [
             0.4444444444444444,
             "#bd3786"
            ],
            [
             0.5555555555555556,
             "#d8576b"
            ],
            [
             0.6666666666666666,
             "#ed7953"
            ],
            [
             0.7777777777777778,
             "#fb9f3a"
            ],
            [
             0.8888888888888888,
             "#fdca26"
            ],
            [
             1,
             "#f0f921"
            ]
           ],
           "sequentialminus": [
            [
             0,
             "#0d0887"
            ],
            [
             0.1111111111111111,
             "#46039f"
            ],
            [
             0.2222222222222222,
             "#7201a8"
            ],
            [
             0.3333333333333333,
             "#9c179e"
            ],
            [
             0.4444444444444444,
             "#bd3786"
            ],
            [
             0.5555555555555556,
             "#d8576b"
            ],
            [
             0.6666666666666666,
             "#ed7953"
            ],
            [
             0.7777777777777778,
             "#fb9f3a"
            ],
            [
             0.8888888888888888,
             "#fdca26"
            ],
            [
             1,
             "#f0f921"
            ]
           ]
          },
          "colorway": [
           "#636efa",
           "#EF553B",
           "#00cc96",
           "#ab63fa",
           "#FFA15A",
           "#19d3f3",
           "#FF6692",
           "#B6E880",
           "#FF97FF",
           "#FECB52"
          ],
          "font": {
           "color": "#f2f5fa"
          },
          "geo": {
           "bgcolor": "rgb(17,17,17)",
           "lakecolor": "rgb(17,17,17)",
           "landcolor": "rgb(17,17,17)",
           "showlakes": true,
           "showland": true,
           "subunitcolor": "#506784"
          },
          "hoverlabel": {
           "align": "left"
          },
          "hovermode": "closest",
          "mapbox": {
           "style": "dark"
          },
          "paper_bgcolor": "rgb(17,17,17)",
          "plot_bgcolor": "rgb(17,17,17)",
          "polar": {
           "angularaxis": {
            "gridcolor": "#506784",
            "linecolor": "#506784",
            "ticks": ""
           },
           "bgcolor": "rgb(17,17,17)",
           "radialaxis": {
            "gridcolor": "#506784",
            "linecolor": "#506784",
            "ticks": ""
           }
          },
          "scene": {
           "xaxis": {
            "backgroundcolor": "rgb(17,17,17)",
            "gridcolor": "#506784",
            "gridwidth": 2,
            "linecolor": "#506784",
            "showbackground": true,
            "ticks": "",
            "zerolinecolor": "#C8D4E3"
           },
           "yaxis": {
            "backgroundcolor": "rgb(17,17,17)",
            "gridcolor": "#506784",
            "gridwidth": 2,
            "linecolor": "#506784",
            "showbackground": true,
            "ticks": "",
            "zerolinecolor": "#C8D4E3"
           },
           "zaxis": {
            "backgroundcolor": "rgb(17,17,17)",
            "gridcolor": "#506784",
            "gridwidth": 2,
            "linecolor": "#506784",
            "showbackground": true,
            "ticks": "",
            "zerolinecolor": "#C8D4E3"
           }
          },
          "shapedefaults": {
           "line": {
            "color": "#f2f5fa"
           }
          },
          "sliderdefaults": {
           "bgcolor": "#C8D4E3",
           "bordercolor": "rgb(17,17,17)",
           "borderwidth": 1,
           "tickwidth": 0
          },
          "ternary": {
           "aaxis": {
            "gridcolor": "#506784",
            "linecolor": "#506784",
            "ticks": ""
           },
           "baxis": {
            "gridcolor": "#506784",
            "linecolor": "#506784",
            "ticks": ""
           },
           "bgcolor": "rgb(17,17,17)",
           "caxis": {
            "gridcolor": "#506784",
            "linecolor": "#506784",
            "ticks": ""
           }
          },
          "title": {
           "x": 0.05
          },
          "updatemenudefaults": {
           "bgcolor": "#506784",
           "borderwidth": 0
          },
          "xaxis": {
           "automargin": true,
           "gridcolor": "#283442",
           "linecolor": "#506784",
           "ticks": "",
           "title": {
            "standoff": 15
           },
           "zerolinecolor": "#283442",
           "zerolinewidth": 2
          },
          "yaxis": {
           "automargin": true,
           "gridcolor": "#283442",
           "linecolor": "#506784",
           "ticks": "",
           "title": {
            "standoff": 15
           },
           "zerolinecolor": "#283442",
           "zerolinewidth": 2
          }
         }
        },
        "title": {
         "text": "Users by Ridable Device"
        },
        "width": 1000,
        "xaxis": {
         "anchor": "y",
         "categoryarray": [
          "classic_bike",
          "electric_bike",
          "electric_scooter"
         ],
         "categoryorder": "array",
         "domain": [
          0,
          1
         ],
         "ticktext": [
          "Classic Bike",
          "Electric Bike",
          "Electric Scooter"
         ],
         "tickvals": [
          "classic_bike",
          "electric_bike",
          "electric_scooter"
         ],
         "title": {
          "text": "Transport device"
         }
        },
        "yaxis": {
         "anchor": "x",
         "domain": [
          0,
          1
         ],
         "title": {
          "text": "User count"
         }
        }
       }
      }
     },
     "metadata": {},
     "output_type": "display_data"
    }
   ],
   "source": [
    "rideable_types_bar = px.bar(\n",
    "    rideable_types,\n",
    "    x='rideable_type',\n",
    "    y='count',\n",
    "    color='rideable_type',\n",
    "    width=1000,\n",
    "    color_discrete_sequence=['brown', 'dodgerblue', 'lime'],\n",
    "    template='plotly_dark'\n",
    ")\n",
    "\n",
    "rideable_types_bar.update_layout(\n",
    "    xaxis_title='Transport device', \n",
    "    yaxis_title='User count', \n",
    "    showlegend=False,\n",
    "    title='Users by Ridable Device',\n",
    "        xaxis=dict(\n",
    "        tickvals=rideable_types['rideable_type'],\n",
    "        ticktext=['Classic Bike', 'Electric Bike', 'Electric Scooter']\n",
    "    )\n",
    ")\n",
    "\n",
    "rideable_types_bar.show()"
   ]
  },
  {
   "cell_type": "markdown",
   "id": "3c6a7cba",
   "metadata": {},
   "source": [
    "### How does the number of users, grouped by subscription type, vary across different weekdays?"
   ]
  },
  {
   "cell_type": "code",
   "execution_count": 607,
   "id": "494f54fc",
   "metadata": {},
   "outputs": [
    {
     "data": {
      "text/html": [
       "<div>\n",
       "<style scoped>\n",
       "    .dataframe tbody tr th:only-of-type {\n",
       "        vertical-align: middle;\n",
       "    }\n",
       "\n",
       "    .dataframe tbody tr th {\n",
       "        vertical-align: top;\n",
       "    }\n",
       "\n",
       "    .dataframe thead th {\n",
       "        text-align: right;\n",
       "    }\n",
       "</style>\n",
       "<table border=\"1\" class=\"dataframe\">\n",
       "  <thead>\n",
       "    <tr style=\"text-align: right;\">\n",
       "      <th></th>\n",
       "      <th>weekday</th>\n",
       "      <th>member_casual</th>\n",
       "      <th>count</th>\n",
       "    </tr>\n",
       "  </thead>\n",
       "  <tbody>\n",
       "    <tr>\n",
       "      <th>2</th>\n",
       "      <td>Monday</td>\n",
       "      <td>casual</td>\n",
       "      <td>181283</td>\n",
       "    </tr>\n",
       "    <tr>\n",
       "      <th>3</th>\n",
       "      <td>Monday</td>\n",
       "      <td>member</td>\n",
       "      <td>398293</td>\n",
       "    </tr>\n",
       "    <tr>\n",
       "      <th>10</th>\n",
       "      <td>Tuesday</td>\n",
       "      <td>casual</td>\n",
       "      <td>162472</td>\n",
       "    </tr>\n",
       "    <tr>\n",
       "      <th>11</th>\n",
       "      <td>Tuesday</td>\n",
       "      <td>member</td>\n",
       "      <td>420461</td>\n",
       "    </tr>\n",
       "    <tr>\n",
       "      <th>12</th>\n",
       "      <td>Wednesday</td>\n",
       "      <td>casual</td>\n",
       "      <td>187000</td>\n",
       "    </tr>\n",
       "  </tbody>\n",
       "</table>\n",
       "</div>"
      ],
      "text/plain": [
       "      weekday member_casual   count\n",
       "2      Monday        casual  181283\n",
       "3      Monday        member  398293\n",
       "10    Tuesday        casual  162472\n",
       "11    Tuesday        member  420461\n",
       "12  Wednesday        casual  187000"
      ]
     },
     "execution_count": 607,
     "metadata": {},
     "output_type": "execute_result"
    }
   ],
   "source": [
    "cat = ['Monday', 'Tuesday', 'Wednesday', 'Thursday', 'Friday', 'Saturday', 'Sunday']\n",
    "\n",
    "weekday_count_df = (analysis_df\n",
    "    .value_counts(['weekday', 'member_casual'])\n",
    "    .sort_index()\n",
    "    .reset_index(name='count')\n",
    ")\n",
    "\n",
    "weekday_count_df['weekday'] = pd.Categorical(weekday_count_df['weekday'], categories=cat, ordered=True)\n",
    "weekday_count_df = weekday_count_df.sort_values('weekday')\n",
    "weekday_count_df.head()"
   ]
  },
  {
   "cell_type": "code",
   "execution_count": 608,
   "id": "b9fa0576",
   "metadata": {},
   "outputs": [
    {
     "data": {
      "application/vnd.plotly.v1+json": {
       "config": {
        "plotlyServerURL": "https://plot.ly"
       },
       "data": [
        {
         "alignmentgroup": "True",
         "hovertemplate": "member_casual=casual<br>weekday=%{x}<br>count=%{y}<extra></extra>",
         "legendgroup": "casual",
         "marker": {
          "color": "gray",
          "pattern": {
           "shape": ""
          }
         },
         "name": "Casual",
         "offsetgroup": "casual",
         "orientation": "v",
         "showlegend": true,
         "textposition": "auto",
         "type": "bar",
         "x": [
          "Monday",
          "Tuesday",
          "Wednesday",
          "Thursday",
          "Friday",
          "Saturday",
          "Sunday"
         ],
         "xaxis": "x",
         "y": {
          "bdata": "I8QCAKh6AgB42gIAnskCAIZjAwD91gQAiQ0EAA==",
          "dtype": "i4"
         },
         "yaxis": "y"
        },
        {
         "alignmentgroup": "True",
         "hovertemplate": "member_casual=member<br>weekday=%{x}<br>count=%{y}<extra></extra>",
         "legendgroup": "member",
         "marker": {
          "color": "goldenrod",
          "pattern": {
           "shape": ""
          }
         },
         "name": "Member",
         "offsetgroup": "member",
         "orientation": "v",
         "showlegend": true,
         "textposition": "auto",
         "type": "bar",
         "x": [
          "Monday",
          "Tuesday",
          "Wednesday",
          "Thursday",
          "Friday",
          "Saturday",
          "Sunday"
         ],
         "xaxis": "x",
         "y": {
          "bdata": "1RMGAG1qBgB3zQYAZU4GAMO7BQB4DwUAeX8EAA==",
          "dtype": "i4"
         },
         "yaxis": "y"
        }
       ],
       "layout": {
        "barmode": "group",
        "legend": {
         "title": {
          "text": "Subscription"
         },
         "tracegroupgap": 0
        },
        "margin": {
         "t": 60
        },
        "template": {
         "data": {
          "bar": [
           {
            "error_x": {
             "color": "#f2f5fa"
            },
            "error_y": {
             "color": "#f2f5fa"
            },
            "marker": {
             "line": {
              "color": "rgb(17,17,17)",
              "width": 0.5
             },
             "pattern": {
              "fillmode": "overlay",
              "size": 10,
              "solidity": 0.2
             }
            },
            "type": "bar"
           }
          ],
          "barpolar": [
           {
            "marker": {
             "line": {
              "color": "rgb(17,17,17)",
              "width": 0.5
             },
             "pattern": {
              "fillmode": "overlay",
              "size": 10,
              "solidity": 0.2
             }
            },
            "type": "barpolar"
           }
          ],
          "carpet": [
           {
            "aaxis": {
             "endlinecolor": "#A2B1C6",
             "gridcolor": "#506784",
             "linecolor": "#506784",
             "minorgridcolor": "#506784",
             "startlinecolor": "#A2B1C6"
            },
            "baxis": {
             "endlinecolor": "#A2B1C6",
             "gridcolor": "#506784",
             "linecolor": "#506784",
             "minorgridcolor": "#506784",
             "startlinecolor": "#A2B1C6"
            },
            "type": "carpet"
           }
          ],
          "choropleth": [
           {
            "colorbar": {
             "outlinewidth": 0,
             "ticks": ""
            },
            "type": "choropleth"
           }
          ],
          "contour": [
           {
            "colorbar": {
             "outlinewidth": 0,
             "ticks": ""
            },
            "colorscale": [
             [
              0,
              "#0d0887"
             ],
             [
              0.1111111111111111,
              "#46039f"
             ],
             [
              0.2222222222222222,
              "#7201a8"
             ],
             [
              0.3333333333333333,
              "#9c179e"
             ],
             [
              0.4444444444444444,
              "#bd3786"
             ],
             [
              0.5555555555555556,
              "#d8576b"
             ],
             [
              0.6666666666666666,
              "#ed7953"
             ],
             [
              0.7777777777777778,
              "#fb9f3a"
             ],
             [
              0.8888888888888888,
              "#fdca26"
             ],
             [
              1,
              "#f0f921"
             ]
            ],
            "type": "contour"
           }
          ],
          "contourcarpet": [
           {
            "colorbar": {
             "outlinewidth": 0,
             "ticks": ""
            },
            "type": "contourcarpet"
           }
          ],
          "heatmap": [
           {
            "colorbar": {
             "outlinewidth": 0,
             "ticks": ""
            },
            "colorscale": [
             [
              0,
              "#0d0887"
             ],
             [
              0.1111111111111111,
              "#46039f"
             ],
             [
              0.2222222222222222,
              "#7201a8"
             ],
             [
              0.3333333333333333,
              "#9c179e"
             ],
             [
              0.4444444444444444,
              "#bd3786"
             ],
             [
              0.5555555555555556,
              "#d8576b"
             ],
             [
              0.6666666666666666,
              "#ed7953"
             ],
             [
              0.7777777777777778,
              "#fb9f3a"
             ],
             [
              0.8888888888888888,
              "#fdca26"
             ],
             [
              1,
              "#f0f921"
             ]
            ],
            "type": "heatmap"
           }
          ],
          "histogram": [
           {
            "marker": {
             "pattern": {
              "fillmode": "overlay",
              "size": 10,
              "solidity": 0.2
             }
            },
            "type": "histogram"
           }
          ],
          "histogram2d": [
           {
            "colorbar": {
             "outlinewidth": 0,
             "ticks": ""
            },
            "colorscale": [
             [
              0,
              "#0d0887"
             ],
             [
              0.1111111111111111,
              "#46039f"
             ],
             [
              0.2222222222222222,
              "#7201a8"
             ],
             [
              0.3333333333333333,
              "#9c179e"
             ],
             [
              0.4444444444444444,
              "#bd3786"
             ],
             [
              0.5555555555555556,
              "#d8576b"
             ],
             [
              0.6666666666666666,
              "#ed7953"
             ],
             [
              0.7777777777777778,
              "#fb9f3a"
             ],
             [
              0.8888888888888888,
              "#fdca26"
             ],
             [
              1,
              "#f0f921"
             ]
            ],
            "type": "histogram2d"
           }
          ],
          "histogram2dcontour": [
           {
            "colorbar": {
             "outlinewidth": 0,
             "ticks": ""
            },
            "colorscale": [
             [
              0,
              "#0d0887"
             ],
             [
              0.1111111111111111,
              "#46039f"
             ],
             [
              0.2222222222222222,
              "#7201a8"
             ],
             [
              0.3333333333333333,
              "#9c179e"
             ],
             [
              0.4444444444444444,
              "#bd3786"
             ],
             [
              0.5555555555555556,
              "#d8576b"
             ],
             [
              0.6666666666666666,
              "#ed7953"
             ],
             [
              0.7777777777777778,
              "#fb9f3a"
             ],
             [
              0.8888888888888888,
              "#fdca26"
             ],
             [
              1,
              "#f0f921"
             ]
            ],
            "type": "histogram2dcontour"
           }
          ],
          "mesh3d": [
           {
            "colorbar": {
             "outlinewidth": 0,
             "ticks": ""
            },
            "type": "mesh3d"
           }
          ],
          "parcoords": [
           {
            "line": {
             "colorbar": {
              "outlinewidth": 0,
              "ticks": ""
             }
            },
            "type": "parcoords"
           }
          ],
          "pie": [
           {
            "automargin": true,
            "type": "pie"
           }
          ],
          "scatter": [
           {
            "marker": {
             "line": {
              "color": "#283442"
             }
            },
            "type": "scatter"
           }
          ],
          "scatter3d": [
           {
            "line": {
             "colorbar": {
              "outlinewidth": 0,
              "ticks": ""
             }
            },
            "marker": {
             "colorbar": {
              "outlinewidth": 0,
              "ticks": ""
             }
            },
            "type": "scatter3d"
           }
          ],
          "scattercarpet": [
           {
            "marker": {
             "colorbar": {
              "outlinewidth": 0,
              "ticks": ""
             }
            },
            "type": "scattercarpet"
           }
          ],
          "scattergeo": [
           {
            "marker": {
             "colorbar": {
              "outlinewidth": 0,
              "ticks": ""
             }
            },
            "type": "scattergeo"
           }
          ],
          "scattergl": [
           {
            "marker": {
             "line": {
              "color": "#283442"
             }
            },
            "type": "scattergl"
           }
          ],
          "scattermap": [
           {
            "marker": {
             "colorbar": {
              "outlinewidth": 0,
              "ticks": ""
             }
            },
            "type": "scattermap"
           }
          ],
          "scattermapbox": [
           {
            "marker": {
             "colorbar": {
              "outlinewidth": 0,
              "ticks": ""
             }
            },
            "type": "scattermapbox"
           }
          ],
          "scatterpolar": [
           {
            "marker": {
             "colorbar": {
              "outlinewidth": 0,
              "ticks": ""
             }
            },
            "type": "scatterpolar"
           }
          ],
          "scatterpolargl": [
           {
            "marker": {
             "colorbar": {
              "outlinewidth": 0,
              "ticks": ""
             }
            },
            "type": "scatterpolargl"
           }
          ],
          "scatterternary": [
           {
            "marker": {
             "colorbar": {
              "outlinewidth": 0,
              "ticks": ""
             }
            },
            "type": "scatterternary"
           }
          ],
          "surface": [
           {
            "colorbar": {
             "outlinewidth": 0,
             "ticks": ""
            },
            "colorscale": [
             [
              0,
              "#0d0887"
             ],
             [
              0.1111111111111111,
              "#46039f"
             ],
             [
              0.2222222222222222,
              "#7201a8"
             ],
             [
              0.3333333333333333,
              "#9c179e"
             ],
             [
              0.4444444444444444,
              "#bd3786"
             ],
             [
              0.5555555555555556,
              "#d8576b"
             ],
             [
              0.6666666666666666,
              "#ed7953"
             ],
             [
              0.7777777777777778,
              "#fb9f3a"
             ],
             [
              0.8888888888888888,
              "#fdca26"
             ],
             [
              1,
              "#f0f921"
             ]
            ],
            "type": "surface"
           }
          ],
          "table": [
           {
            "cells": {
             "fill": {
              "color": "#506784"
             },
             "line": {
              "color": "rgb(17,17,17)"
             }
            },
            "header": {
             "fill": {
              "color": "#2a3f5f"
             },
             "line": {
              "color": "rgb(17,17,17)"
             }
            },
            "type": "table"
           }
          ]
         },
         "layout": {
          "annotationdefaults": {
           "arrowcolor": "#f2f5fa",
           "arrowhead": 0,
           "arrowwidth": 1
          },
          "autotypenumbers": "strict",
          "coloraxis": {
           "colorbar": {
            "outlinewidth": 0,
            "ticks": ""
           }
          },
          "colorscale": {
           "diverging": [
            [
             0,
             "#8e0152"
            ],
            [
             0.1,
             "#c51b7d"
            ],
            [
             0.2,
             "#de77ae"
            ],
            [
             0.3,
             "#f1b6da"
            ],
            [
             0.4,
             "#fde0ef"
            ],
            [
             0.5,
             "#f7f7f7"
            ],
            [
             0.6,
             "#e6f5d0"
            ],
            [
             0.7,
             "#b8e186"
            ],
            [
             0.8,
             "#7fbc41"
            ],
            [
             0.9,
             "#4d9221"
            ],
            [
             1,
             "#276419"
            ]
           ],
           "sequential": [
            [
             0,
             "#0d0887"
            ],
            [
             0.1111111111111111,
             "#46039f"
            ],
            [
             0.2222222222222222,
             "#7201a8"
            ],
            [
             0.3333333333333333,
             "#9c179e"
            ],
            [
             0.4444444444444444,
             "#bd3786"
            ],
            [
             0.5555555555555556,
             "#d8576b"
            ],
            [
             0.6666666666666666,
             "#ed7953"
            ],
            [
             0.7777777777777778,
             "#fb9f3a"
            ],
            [
             0.8888888888888888,
             "#fdca26"
            ],
            [
             1,
             "#f0f921"
            ]
           ],
           "sequentialminus": [
            [
             0,
             "#0d0887"
            ],
            [
             0.1111111111111111,
             "#46039f"
            ],
            [
             0.2222222222222222,
             "#7201a8"
            ],
            [
             0.3333333333333333,
             "#9c179e"
            ],
            [
             0.4444444444444444,
             "#bd3786"
            ],
            [
             0.5555555555555556,
             "#d8576b"
            ],
            [
             0.6666666666666666,
             "#ed7953"
            ],
            [
             0.7777777777777778,
             "#fb9f3a"
            ],
            [
             0.8888888888888888,
             "#fdca26"
            ],
            [
             1,
             "#f0f921"
            ]
           ]
          },
          "colorway": [
           "#636efa",
           "#EF553B",
           "#00cc96",
           "#ab63fa",
           "#FFA15A",
           "#19d3f3",
           "#FF6692",
           "#B6E880",
           "#FF97FF",
           "#FECB52"
          ],
          "font": {
           "color": "#f2f5fa"
          },
          "geo": {
           "bgcolor": "rgb(17,17,17)",
           "lakecolor": "rgb(17,17,17)",
           "landcolor": "rgb(17,17,17)",
           "showlakes": true,
           "showland": true,
           "subunitcolor": "#506784"
          },
          "hoverlabel": {
           "align": "left"
          },
          "hovermode": "closest",
          "mapbox": {
           "style": "dark"
          },
          "paper_bgcolor": "rgb(17,17,17)",
          "plot_bgcolor": "rgb(17,17,17)",
          "polar": {
           "angularaxis": {
            "gridcolor": "#506784",
            "linecolor": "#506784",
            "ticks": ""
           },
           "bgcolor": "rgb(17,17,17)",
           "radialaxis": {
            "gridcolor": "#506784",
            "linecolor": "#506784",
            "ticks": ""
           }
          },
          "scene": {
           "xaxis": {
            "backgroundcolor": "rgb(17,17,17)",
            "gridcolor": "#506784",
            "gridwidth": 2,
            "linecolor": "#506784",
            "showbackground": true,
            "ticks": "",
            "zerolinecolor": "#C8D4E3"
           },
           "yaxis": {
            "backgroundcolor": "rgb(17,17,17)",
            "gridcolor": "#506784",
            "gridwidth": 2,
            "linecolor": "#506784",
            "showbackground": true,
            "ticks": "",
            "zerolinecolor": "#C8D4E3"
           },
           "zaxis": {
            "backgroundcolor": "rgb(17,17,17)",
            "gridcolor": "#506784",
            "gridwidth": 2,
            "linecolor": "#506784",
            "showbackground": true,
            "ticks": "",
            "zerolinecolor": "#C8D4E3"
           }
          },
          "shapedefaults": {
           "line": {
            "color": "#f2f5fa"
           }
          },
          "sliderdefaults": {
           "bgcolor": "#C8D4E3",
           "bordercolor": "rgb(17,17,17)",
           "borderwidth": 1,
           "tickwidth": 0
          },
          "ternary": {
           "aaxis": {
            "gridcolor": "#506784",
            "linecolor": "#506784",
            "ticks": ""
           },
           "baxis": {
            "gridcolor": "#506784",
            "linecolor": "#506784",
            "ticks": ""
           },
           "bgcolor": "rgb(17,17,17)",
           "caxis": {
            "gridcolor": "#506784",
            "linecolor": "#506784",
            "ticks": ""
           }
          },
          "title": {
           "x": 0.05
          },
          "updatemenudefaults": {
           "bgcolor": "#506784",
           "borderwidth": 0
          },
          "xaxis": {
           "automargin": true,
           "gridcolor": "#283442",
           "linecolor": "#506784",
           "ticks": "",
           "title": {
            "standoff": 15
           },
           "zerolinecolor": "#283442",
           "zerolinewidth": 2
          },
          "yaxis": {
           "automargin": true,
           "gridcolor": "#283442",
           "linecolor": "#506784",
           "ticks": "",
           "title": {
            "standoff": 15
           },
           "zerolinecolor": "#283442",
           "zerolinewidth": 2
          }
         }
        },
        "title": {
         "text": "Users by Weekday"
        },
        "width": 1000,
        "xaxis": {
         "anchor": "y",
         "domain": [
          0,
          1
         ],
         "title": {
          "text": "Weekday"
         }
        },
        "yaxis": {
         "anchor": "x",
         "domain": [
          0,
          1
         ],
         "title": {
          "text": "User count"
         }
        }
       }
      }
     },
     "metadata": {},
     "output_type": "display_data"
    }
   ],
   "source": [
    "legend_name = {\n",
    "    'casual': 'Casual',\n",
    "    'member': 'Member',\n",
    "}\n",
    "\n",
    "weekday_count_bar = px.bar(\n",
    "    weekday_count_df,\n",
    "    x='weekday',\n",
    "    y='count',\n",
    "    width=1000,\n",
    "    color='member_casual',\n",
    "    template='plotly_dark',\n",
    "    barmode='group',\n",
    "    color_discrete_sequence=[\"gray\", \"goldenrod\"]\n",
    ")\n",
    "\n",
    "weekday_count_bar.update_layout(\n",
    "    xaxis_title='Weekday', \n",
    "    yaxis_title='User count', \n",
    "    legend_title_text='Subscription',\n",
    "    title='Users by Weekday',    \n",
    ")\n",
    "\n",
    "weekday_count_bar.for_each_trace(lambda x: x.update(name=legend_name[x.name]))\n",
    "\n",
    "weekday_count_bar.show()"
   ]
  },
  {
   "cell_type": "markdown",
   "id": "04848148",
   "metadata": {},
   "source": [
    "### What is the monthly trend in user count for each subscription type during 2024?"
   ]
  },
  {
   "cell_type": "code",
   "execution_count": 609,
   "id": "474e19a6",
   "metadata": {},
   "outputs": [
    {
     "data": {
      "text/html": [
       "<div>\n",
       "<style scoped>\n",
       "    .dataframe tbody tr th:only-of-type {\n",
       "        vertical-align: middle;\n",
       "    }\n",
       "\n",
       "    .dataframe tbody tr th {\n",
       "        vertical-align: top;\n",
       "    }\n",
       "\n",
       "    .dataframe thead th {\n",
       "        text-align: right;\n",
       "    }\n",
       "</style>\n",
       "<table border=\"1\" class=\"dataframe\">\n",
       "  <thead>\n",
       "    <tr style=\"text-align: right;\">\n",
       "      <th></th>\n",
       "      <th>ride_id</th>\n",
       "      <th>rideable_type</th>\n",
       "      <th>started_at</th>\n",
       "      <th>ended_at</th>\n",
       "      <th>ride_time</th>\n",
       "      <th>month</th>\n",
       "      <th>weekday</th>\n",
       "      <th>start_station_name</th>\n",
       "      <th>end_station_name</th>\n",
       "      <th>member_casual</th>\n",
       "      <th>start_lat</th>\n",
       "      <th>start_lng</th>\n",
       "      <th>end_lat</th>\n",
       "      <th>end_lng</th>\n",
       "      <th>week_start</th>\n",
       "    </tr>\n",
       "  </thead>\n",
       "  <tbody>\n",
       "    <tr>\n",
       "      <th>48853</th>\n",
       "      <td>56F5C3ED5178C131</td>\n",
       "      <td>classic_bike</td>\n",
       "      <td>2024-01-01 00:01:01</td>\n",
       "      <td>2024-01-01 00:24:12</td>\n",
       "      <td>0 days 00:23:11</td>\n",
       "      <td>1</td>\n",
       "      <td>Monday</td>\n",
       "      <td>LaSalle St &amp; Illinois St</td>\n",
       "      <td>Indiana Ave &amp; Roosevelt Rd</td>\n",
       "      <td>member</td>\n",
       "      <td>41.890762</td>\n",
       "      <td>-87.631697</td>\n",
       "      <td>41.867888</td>\n",
       "      <td>-87.623041</td>\n",
       "      <td>2024-01-01</td>\n",
       "    </tr>\n",
       "    <tr>\n",
       "      <th>26576</th>\n",
       "      <td>70BDF49A30C8BFFC</td>\n",
       "      <td>classic_bike</td>\n",
       "      <td>2024-01-01 00:02:15</td>\n",
       "      <td>2024-01-01 00:07:01</td>\n",
       "      <td>0 days 00:04:46</td>\n",
       "      <td>1</td>\n",
       "      <td>Monday</td>\n",
       "      <td>Sheffield Ave &amp; Fullerton Ave</td>\n",
       "      <td>Greenview Ave &amp; Fullerton Ave</td>\n",
       "      <td>casual</td>\n",
       "      <td>41.925602</td>\n",
       "      <td>-87.653708</td>\n",
       "      <td>41.925330</td>\n",
       "      <td>-87.665800</td>\n",
       "      <td>2024-01-01</td>\n",
       "    </tr>\n",
       "    <tr>\n",
       "      <th>46733</th>\n",
       "      <td>B7F1F63BD1AFF4E9</td>\n",
       "      <td>classic_bike</td>\n",
       "      <td>2024-01-01 00:06:59</td>\n",
       "      <td>2024-01-01 00:17:21</td>\n",
       "      <td>0 days 00:10:22</td>\n",
       "      <td>1</td>\n",
       "      <td>Monday</td>\n",
       "      <td>Western Ave &amp; Howard St</td>\n",
       "      <td>Clark St &amp; Lunt Ave</td>\n",
       "      <td>member</td>\n",
       "      <td>42.018901</td>\n",
       "      <td>-87.690048</td>\n",
       "      <td>42.009011</td>\n",
       "      <td>-87.674112</td>\n",
       "      <td>2024-01-01</td>\n",
       "    </tr>\n",
       "    <tr>\n",
       "      <th>40692</th>\n",
       "      <td>444DD0D82A50BA8C</td>\n",
       "      <td>classic_bike</td>\n",
       "      <td>2024-01-01 00:07:45</td>\n",
       "      <td>2024-01-01 00:15:41</td>\n",
       "      <td>0 days 00:07:56</td>\n",
       "      <td>1</td>\n",
       "      <td>Monday</td>\n",
       "      <td>DuSable Lake Shore Dr &amp; North Blvd</td>\n",
       "      <td>Sedgwick St &amp; Webster Ave</td>\n",
       "      <td>casual</td>\n",
       "      <td>41.911722</td>\n",
       "      <td>-87.626804</td>\n",
       "      <td>41.922167</td>\n",
       "      <td>-87.638888</td>\n",
       "      <td>2024-01-01</td>\n",
       "    </tr>\n",
       "    <tr>\n",
       "      <th>71103</th>\n",
       "      <td>510C1C0AA564ADF0</td>\n",
       "      <td>classic_bike</td>\n",
       "      <td>2024-01-01 00:07:57</td>\n",
       "      <td>2024-01-01 00:29:42</td>\n",
       "      <td>0 days 00:21:45</td>\n",
       "      <td>1</td>\n",
       "      <td>Monday</td>\n",
       "      <td>Clinton St &amp; Tilden St</td>\n",
       "      <td>LaSalle St &amp; Illinois St</td>\n",
       "      <td>casual</td>\n",
       "      <td>41.875885</td>\n",
       "      <td>-87.640795</td>\n",
       "      <td>41.890762</td>\n",
       "      <td>-87.631697</td>\n",
       "      <td>2024-01-01</td>\n",
       "    </tr>\n",
       "  </tbody>\n",
       "</table>\n",
       "</div>"
      ],
      "text/plain": [
       "                ride_id rideable_type          started_at            ended_at  \\\n",
       "48853  56F5C3ED5178C131  classic_bike 2024-01-01 00:01:01 2024-01-01 00:24:12   \n",
       "26576  70BDF49A30C8BFFC  classic_bike 2024-01-01 00:02:15 2024-01-01 00:07:01   \n",
       "46733  B7F1F63BD1AFF4E9  classic_bike 2024-01-01 00:06:59 2024-01-01 00:17:21   \n",
       "40692  444DD0D82A50BA8C  classic_bike 2024-01-01 00:07:45 2024-01-01 00:15:41   \n",
       "71103  510C1C0AA564ADF0  classic_bike 2024-01-01 00:07:57 2024-01-01 00:29:42   \n",
       "\n",
       "            ride_time  month weekday                  start_station_name  \\\n",
       "48853 0 days 00:23:11      1  Monday            LaSalle St & Illinois St   \n",
       "26576 0 days 00:04:46      1  Monday       Sheffield Ave & Fullerton Ave   \n",
       "46733 0 days 00:10:22      1  Monday             Western Ave & Howard St   \n",
       "40692 0 days 00:07:56      1  Monday  DuSable Lake Shore Dr & North Blvd   \n",
       "71103 0 days 00:21:45      1  Monday              Clinton St & Tilden St   \n",
       "\n",
       "                    end_station_name member_casual  start_lat  start_lng  \\\n",
       "48853     Indiana Ave & Roosevelt Rd        member  41.890762 -87.631697   \n",
       "26576  Greenview Ave & Fullerton Ave        casual  41.925602 -87.653708   \n",
       "46733            Clark St & Lunt Ave        member  42.018901 -87.690048   \n",
       "40692      Sedgwick St & Webster Ave        casual  41.911722 -87.626804   \n",
       "71103       LaSalle St & Illinois St        casual  41.875885 -87.640795   \n",
       "\n",
       "         end_lat    end_lng  week_start  \n",
       "48853  41.867888 -87.623041  2024-01-01  \n",
       "26576  41.925330 -87.665800  2024-01-01  \n",
       "46733  42.009011 -87.674112  2024-01-01  \n",
       "40692  41.922167 -87.638888  2024-01-01  \n",
       "71103  41.890762 -87.631697  2024-01-01  "
      ]
     },
     "execution_count": 609,
     "metadata": {},
     "output_type": "execute_result"
    }
   ],
   "source": [
    "analysis_df['week_start'] = (analysis_df['started_at'] - pd.to_timedelta(analysis_df['started_at'].dt.weekday, unit='D')).dt.date\n",
    "analysis_df.head()"
   ]
  },
  {
   "cell_type": "code",
   "execution_count": 610,
   "id": "8afddbef",
   "metadata": {},
   "outputs": [
    {
     "data": {
      "text/html": [
       "<div>\n",
       "<style scoped>\n",
       "    .dataframe tbody tr th:only-of-type {\n",
       "        vertical-align: middle;\n",
       "    }\n",
       "\n",
       "    .dataframe tbody tr th {\n",
       "        vertical-align: top;\n",
       "    }\n",
       "\n",
       "    .dataframe thead th {\n",
       "        text-align: right;\n",
       "    }\n",
       "</style>\n",
       "<table border=\"1\" class=\"dataframe\">\n",
       "  <thead>\n",
       "    <tr style=\"text-align: right;\">\n",
       "      <th></th>\n",
       "      <th>week_start</th>\n",
       "      <th>member_casual</th>\n",
       "      <th>count</th>\n",
       "    </tr>\n",
       "  </thead>\n",
       "  <tbody>\n",
       "    <tr>\n",
       "      <th>0</th>\n",
       "      <td>2024-01-01</td>\n",
       "      <td>casual</td>\n",
       "      <td>5958</td>\n",
       "    </tr>\n",
       "    <tr>\n",
       "      <th>1</th>\n",
       "      <td>2024-01-01</td>\n",
       "      <td>member</td>\n",
       "      <td>25500</td>\n",
       "    </tr>\n",
       "    <tr>\n",
       "      <th>2</th>\n",
       "      <td>2024-01-08</td>\n",
       "      <td>casual</td>\n",
       "      <td>3414</td>\n",
       "    </tr>\n",
       "    <tr>\n",
       "      <th>3</th>\n",
       "      <td>2024-01-08</td>\n",
       "      <td>member</td>\n",
       "      <td>21431</td>\n",
       "    </tr>\n",
       "    <tr>\n",
       "      <th>4</th>\n",
       "      <td>2024-01-15</td>\n",
       "      <td>casual</td>\n",
       "      <td>1726</td>\n",
       "    </tr>\n",
       "  </tbody>\n",
       "</table>\n",
       "</div>"
      ],
      "text/plain": [
       "   week_start member_casual  count\n",
       "0  2024-01-01        casual   5958\n",
       "1  2024-01-01        member  25500\n",
       "2  2024-01-08        casual   3414\n",
       "3  2024-01-08        member  21431\n",
       "4  2024-01-15        casual   1726"
      ]
     },
     "execution_count": 610,
     "metadata": {},
     "output_type": "execute_result"
    }
   ],
   "source": [
    "member_year_count_df = (\n",
    "    analysis_df\n",
    "    .value_counts(['week_start', 'member_casual'])\n",
    "    .sort_index()\n",
    "    .reset_index(name='count')\n",
    ")\n",
    "\n",
    "member_year_count_df.head()"
   ]
  },
  {
   "cell_type": "code",
   "execution_count": 611,
   "id": "c0c30a33",
   "metadata": {},
   "outputs": [
    {
     "data": {
      "text/html": [
       "<div>\n",
       "<style scoped>\n",
       "    .dataframe tbody tr th:only-of-type {\n",
       "        vertical-align: middle;\n",
       "    }\n",
       "\n",
       "    .dataframe tbody tr th {\n",
       "        vertical-align: top;\n",
       "    }\n",
       "\n",
       "    .dataframe thead th {\n",
       "        text-align: right;\n",
       "    }\n",
       "</style>\n",
       "<table border=\"1\" class=\"dataframe\">\n",
       "  <thead>\n",
       "    <tr style=\"text-align: right;\">\n",
       "      <th></th>\n",
       "      <th>week_start</th>\n",
       "      <th>gap_diff</th>\n",
       "    </tr>\n",
       "  </thead>\n",
       "  <tbody>\n",
       "    <tr>\n",
       "      <th>0</th>\n",
       "      <td>2024-01-01</td>\n",
       "      <td>19542</td>\n",
       "    </tr>\n",
       "    <tr>\n",
       "      <th>1</th>\n",
       "      <td>2024-01-08</td>\n",
       "      <td>18017</td>\n",
       "    </tr>\n",
       "    <tr>\n",
       "      <th>2</th>\n",
       "      <td>2024-01-15</td>\n",
       "      <td>9637</td>\n",
       "    </tr>\n",
       "    <tr>\n",
       "      <th>3</th>\n",
       "      <td>2024-01-22</td>\n",
       "      <td>17565</td>\n",
       "    </tr>\n",
       "    <tr>\n",
       "      <th>4</th>\n",
       "      <td>2024-01-29</td>\n",
       "      <td>25856</td>\n",
       "    </tr>\n",
       "  </tbody>\n",
       "</table>\n",
       "</div>"
      ],
      "text/plain": [
       "   week_start  gap_diff\n",
       "0  2024-01-01     19542\n",
       "1  2024-01-08     18017\n",
       "2  2024-01-15      9637\n",
       "3  2024-01-22     17565\n",
       "4  2024-01-29     25856"
      ]
     },
     "execution_count": 611,
     "metadata": {},
     "output_type": "execute_result"
    }
   ],
   "source": [
    "member_count = member_year_count_df[member_year_count_df['member_casual'] == 'member']['count'].reset_index()['count']\n",
    "casual_count = member_year_count_df[member_year_count_df['member_casual'] == 'casual']['count'].reset_index()['count']\n",
    "week_start_index = member_year_count_df[member_year_count_df['member_casual'] == 'member'].reset_index()['week_start']\n",
    "abs_diff_index = (member_count - casual_count).abs()\n",
    "\n",
    "gap_df = pd.DataFrame()\n",
    "gap_df['week_start'] = week_start_index\n",
    "gap_df['gap_diff'] = abs_diff_index\n",
    "\n",
    "gap_df.head()"
   ]
  },
  {
   "cell_type": "code",
   "execution_count": 612,
   "id": "9542f32e",
   "metadata": {},
   "outputs": [
    {
     "data": {
      "application/vnd.plotly.v1+json": {
       "config": {
        "plotlyServerURL": "https://plot.ly"
       },
       "data": [
        {
         "hovertemplate": "member_casual=casual<br>week_start=%{x}<br>count=%{y}<extra></extra>",
         "legendgroup": "casual",
         "line": {
          "color": "silver",
          "dash": "solid"
         },
         "marker": {
          "symbol": "circle"
         },
         "mode": "lines",
         "name": "Casual",
         "orientation": "v",
         "showlegend": true,
         "type": "scatter",
         "x": [
          "2024-01-01",
          "2024-01-08",
          "2024-01-15",
          "2024-01-22",
          "2024-01-29",
          "2024-02-05",
          "2024-02-12",
          "2024-02-19",
          "2024-02-26",
          "2024-03-04",
          "2024-03-11",
          "2024-03-18",
          "2024-03-25",
          "2024-04-01",
          "2024-04-08",
          "2024-04-15",
          "2024-04-22",
          "2024-04-29",
          "2024-05-06",
          "2024-05-13",
          "2024-05-20",
          "2024-05-27",
          "2024-06-03",
          "2024-06-10",
          "2024-06-17",
          "2024-06-24",
          "2024-07-01",
          "2024-07-08",
          "2024-07-15",
          "2024-07-22",
          "2024-07-29",
          "2024-08-05",
          "2024-08-12",
          "2024-08-19",
          "2024-08-26",
          "2024-09-02",
          "2024-09-09",
          "2024-09-16",
          "2024-09-23",
          "2024-09-30",
          "2024-10-07",
          "2024-10-14",
          "2024-10-21",
          "2024-10-28",
          "2024-11-04",
          "2024-11-11",
          "2024-11-18",
          "2024-11-25",
          "2024-12-02",
          "2024-12-09",
          "2024-12-16",
          "2024-12-23",
          "2024-12-30"
         ],
         "xaxis": "x",
         "y": {
          "bdata": "RhcAAFYNAAC+BgAAAxAAAL4bAAB4IwAAIhoAANMpAADCQwAAeisAAMRHAABkIwAAJjUAAP8lAADdeQAA7lEAAK1eAACJfgAAQoIAADigAAByogAAcZAAACy0AADJwQAAQtMAAHm4AACi3gAAYrQAAFbcAAAa0AAA/toAAFTcAACOpwAAWsYAAPLRAADeywAA5dYAABDAAADxngAAiKQAABG4AADUfAAAOHUAAJBgAABKTQAAwUoAAG8yAADcGAAAjh8AACMaAAAdFwAA0hMAAD8HAAA=",
          "dtype": "i4"
         },
         "yaxis": "y"
        },
        {
         "hovertemplate": "member_casual=member<br>week_start=%{x}<br>count=%{y}<extra></extra>",
         "legendgroup": "member",
         "line": {
          "color": "goldenrod",
          "dash": "solid"
         },
         "marker": {
          "symbol": "circle"
         },
         "mode": "lines",
         "name": "Member",
         "orientation": "v",
         "showlegend": true,
         "type": "scatter",
         "x": [
          "2024-01-01",
          "2024-01-08",
          "2024-01-15",
          "2024-01-22",
          "2024-01-29",
          "2024-02-05",
          "2024-02-12",
          "2024-02-19",
          "2024-02-26",
          "2024-03-04",
          "2024-03-11",
          "2024-03-18",
          "2024-03-25",
          "2024-04-01",
          "2024-04-08",
          "2024-04-15",
          "2024-04-22",
          "2024-04-29",
          "2024-05-06",
          "2024-05-13",
          "2024-05-20",
          "2024-05-27",
          "2024-06-03",
          "2024-06-10",
          "2024-06-17",
          "2024-06-24",
          "2024-07-01",
          "2024-07-08",
          "2024-07-15",
          "2024-07-22",
          "2024-07-29",
          "2024-08-05",
          "2024-08-12",
          "2024-08-19",
          "2024-08-26",
          "2024-09-02",
          "2024-09-09",
          "2024-09-16",
          "2024-09-23",
          "2024-09-30",
          "2024-10-07",
          "2024-10-14",
          "2024-10-21",
          "2024-10-28",
          "2024-11-04",
          "2024-11-11",
          "2024-11-18",
          "2024-11-25",
          "2024-12-02",
          "2024-12-09",
          "2024-12-16",
          "2024-12-23",
          "2024-12-30"
         ],
         "xaxis": "x",
         "y": {
          "bdata": "nGMAALdTAABjLAAAoFQAAL6AAACgiQAAfXgAALOQAACnpwAArI0AAMKjAAABhAAARJIAAAd2AAC71gAAFcIAACnFAAC+5AAAAN8AAIT+AABi+wAARuEAAEoOAQDGDgEAyA8BAMX/AAC68AAAHwUBAJUjAQDrHAEAIBkBAOQdAQBRAwEAiRkBAIAQAQD6GwEA9z8BAEYrAQCcDgEATBkBADMTAQCY2wAALvYAACviAAApwwAAH8QAAOeXAAAgUQAABXcAACZsAADrYAAAPjEAAHATAAA=",
          "dtype": "i4"
         },
         "yaxis": "y"
        },
        {
         "line": {
          "dash": "dash",
          "width": 1
         },
         "name": "Gap difference",
         "type": "scatter",
         "x": [
          "2024-01-01",
          "2024-01-08",
          "2024-01-15",
          "2024-01-22",
          "2024-01-29",
          "2024-02-05",
          "2024-02-12",
          "2024-02-19",
          "2024-02-26",
          "2024-03-04",
          "2024-03-11",
          "2024-03-18",
          "2024-03-25",
          "2024-04-01",
          "2024-04-08",
          "2024-04-15",
          "2024-04-22",
          "2024-04-29",
          "2024-05-06",
          "2024-05-13",
          "2024-05-20",
          "2024-05-27",
          "2024-06-03",
          "2024-06-10",
          "2024-06-17",
          "2024-06-24",
          "2024-07-01",
          "2024-07-08",
          "2024-07-15",
          "2024-07-22",
          "2024-07-29",
          "2024-08-05",
          "2024-08-12",
          "2024-08-19",
          "2024-08-26",
          "2024-09-02",
          "2024-09-09",
          "2024-09-16",
          "2024-09-23",
          "2024-09-30",
          "2024-10-07",
          "2024-10-14",
          "2024-10-21",
          "2024-10-28",
          "2024-11-04",
          "2024-11-11",
          "2024-11-18",
          "2024-11-25",
          "2024-12-02",
          "2024-12-09",
          "2024-12-16",
          "2024-12-23",
          "2024-12-30"
         ],
         "y": {
          "bdata": "VkwAAGFGAAClJQAAnUQAAABlAAAoZgAAW14AAOBmAADlYwAAMmIAAP5bAACdYAAAHl0AAAhQAADeXAAAJ3AAAHxmAAA1ZgAAvlwAAExeAADwWAAA1VAAAB5aAAD9TAAAhjwAAExHAAAYEgAAvVAAAD9HAADRTAAAIj4AAJBBAADDWwAAL1MAAI4+AAAcUAAAEmkAADZrAACrbwAAxHQAACJbAADEXgAA9oAAAJuBAADfdQAAXnkAAHhlAABEOAAAd1cAAANSAADOSQAAbB0AADEMAAA=",
          "dtype": "i4"
         },
         "yaxis": "y2"
        }
       ],
       "layout": {
        "legend": {
         "title": {
          "text": "Subscription"
         },
         "tracegroupgap": 0,
         "x": 1.1
        },
        "margin": {
         "pad": 10,
         "t": 60
        },
        "template": {
         "data": {
          "bar": [
           {
            "error_x": {
             "color": "#f2f5fa"
            },
            "error_y": {
             "color": "#f2f5fa"
            },
            "marker": {
             "line": {
              "color": "rgb(17,17,17)",
              "width": 0.5
             },
             "pattern": {
              "fillmode": "overlay",
              "size": 10,
              "solidity": 0.2
             }
            },
            "type": "bar"
           }
          ],
          "barpolar": [
           {
            "marker": {
             "line": {
              "color": "rgb(17,17,17)",
              "width": 0.5
             },
             "pattern": {
              "fillmode": "overlay",
              "size": 10,
              "solidity": 0.2
             }
            },
            "type": "barpolar"
           }
          ],
          "carpet": [
           {
            "aaxis": {
             "endlinecolor": "#A2B1C6",
             "gridcolor": "#506784",
             "linecolor": "#506784",
             "minorgridcolor": "#506784",
             "startlinecolor": "#A2B1C6"
            },
            "baxis": {
             "endlinecolor": "#A2B1C6",
             "gridcolor": "#506784",
             "linecolor": "#506784",
             "minorgridcolor": "#506784",
             "startlinecolor": "#A2B1C6"
            },
            "type": "carpet"
           }
          ],
          "choropleth": [
           {
            "colorbar": {
             "outlinewidth": 0,
             "ticks": ""
            },
            "type": "choropleth"
           }
          ],
          "contour": [
           {
            "colorbar": {
             "outlinewidth": 0,
             "ticks": ""
            },
            "colorscale": [
             [
              0,
              "#0d0887"
             ],
             [
              0.1111111111111111,
              "#46039f"
             ],
             [
              0.2222222222222222,
              "#7201a8"
             ],
             [
              0.3333333333333333,
              "#9c179e"
             ],
             [
              0.4444444444444444,
              "#bd3786"
             ],
             [
              0.5555555555555556,
              "#d8576b"
             ],
             [
              0.6666666666666666,
              "#ed7953"
             ],
             [
              0.7777777777777778,
              "#fb9f3a"
             ],
             [
              0.8888888888888888,
              "#fdca26"
             ],
             [
              1,
              "#f0f921"
             ]
            ],
            "type": "contour"
           }
          ],
          "contourcarpet": [
           {
            "colorbar": {
             "outlinewidth": 0,
             "ticks": ""
            },
            "type": "contourcarpet"
           }
          ],
          "heatmap": [
           {
            "colorbar": {
             "outlinewidth": 0,
             "ticks": ""
            },
            "colorscale": [
             [
              0,
              "#0d0887"
             ],
             [
              0.1111111111111111,
              "#46039f"
             ],
             [
              0.2222222222222222,
              "#7201a8"
             ],
             [
              0.3333333333333333,
              "#9c179e"
             ],
             [
              0.4444444444444444,
              "#bd3786"
             ],
             [
              0.5555555555555556,
              "#d8576b"
             ],
             [
              0.6666666666666666,
              "#ed7953"
             ],
             [
              0.7777777777777778,
              "#fb9f3a"
             ],
             [
              0.8888888888888888,
              "#fdca26"
             ],
             [
              1,
              "#f0f921"
             ]
            ],
            "type": "heatmap"
           }
          ],
          "histogram": [
           {
            "marker": {
             "pattern": {
              "fillmode": "overlay",
              "size": 10,
              "solidity": 0.2
             }
            },
            "type": "histogram"
           }
          ],
          "histogram2d": [
           {
            "colorbar": {
             "outlinewidth": 0,
             "ticks": ""
            },
            "colorscale": [
             [
              0,
              "#0d0887"
             ],
             [
              0.1111111111111111,
              "#46039f"
             ],
             [
              0.2222222222222222,
              "#7201a8"
             ],
             [
              0.3333333333333333,
              "#9c179e"
             ],
             [
              0.4444444444444444,
              "#bd3786"
             ],
             [
              0.5555555555555556,
              "#d8576b"
             ],
             [
              0.6666666666666666,
              "#ed7953"
             ],
             [
              0.7777777777777778,
              "#fb9f3a"
             ],
             [
              0.8888888888888888,
              "#fdca26"
             ],
             [
              1,
              "#f0f921"
             ]
            ],
            "type": "histogram2d"
           }
          ],
          "histogram2dcontour": [
           {
            "colorbar": {
             "outlinewidth": 0,
             "ticks": ""
            },
            "colorscale": [
             [
              0,
              "#0d0887"
             ],
             [
              0.1111111111111111,
              "#46039f"
             ],
             [
              0.2222222222222222,
              "#7201a8"
             ],
             [
              0.3333333333333333,
              "#9c179e"
             ],
             [
              0.4444444444444444,
              "#bd3786"
             ],
             [
              0.5555555555555556,
              "#d8576b"
             ],
             [
              0.6666666666666666,
              "#ed7953"
             ],
             [
              0.7777777777777778,
              "#fb9f3a"
             ],
             [
              0.8888888888888888,
              "#fdca26"
             ],
             [
              1,
              "#f0f921"
             ]
            ],
            "type": "histogram2dcontour"
           }
          ],
          "mesh3d": [
           {
            "colorbar": {
             "outlinewidth": 0,
             "ticks": ""
            },
            "type": "mesh3d"
           }
          ],
          "parcoords": [
           {
            "line": {
             "colorbar": {
              "outlinewidth": 0,
              "ticks": ""
             }
            },
            "type": "parcoords"
           }
          ],
          "pie": [
           {
            "automargin": true,
            "type": "pie"
           }
          ],
          "scatter": [
           {
            "marker": {
             "line": {
              "color": "#283442"
             }
            },
            "type": "scatter"
           }
          ],
          "scatter3d": [
           {
            "line": {
             "colorbar": {
              "outlinewidth": 0,
              "ticks": ""
             }
            },
            "marker": {
             "colorbar": {
              "outlinewidth": 0,
              "ticks": ""
             }
            },
            "type": "scatter3d"
           }
          ],
          "scattercarpet": [
           {
            "marker": {
             "colorbar": {
              "outlinewidth": 0,
              "ticks": ""
             }
            },
            "type": "scattercarpet"
           }
          ],
          "scattergeo": [
           {
            "marker": {
             "colorbar": {
              "outlinewidth": 0,
              "ticks": ""
             }
            },
            "type": "scattergeo"
           }
          ],
          "scattergl": [
           {
            "marker": {
             "line": {
              "color": "#283442"
             }
            },
            "type": "scattergl"
           }
          ],
          "scattermap": [
           {
            "marker": {
             "colorbar": {
              "outlinewidth": 0,
              "ticks": ""
             }
            },
            "type": "scattermap"
           }
          ],
          "scattermapbox": [
           {
            "marker": {
             "colorbar": {
              "outlinewidth": 0,
              "ticks": ""
             }
            },
            "type": "scattermapbox"
           }
          ],
          "scatterpolar": [
           {
            "marker": {
             "colorbar": {
              "outlinewidth": 0,
              "ticks": ""
             }
            },
            "type": "scatterpolar"
           }
          ],
          "scatterpolargl": [
           {
            "marker": {
             "colorbar": {
              "outlinewidth": 0,
              "ticks": ""
             }
            },
            "type": "scatterpolargl"
           }
          ],
          "scatterternary": [
           {
            "marker": {
             "colorbar": {
              "outlinewidth": 0,
              "ticks": ""
             }
            },
            "type": "scatterternary"
           }
          ],
          "surface": [
           {
            "colorbar": {
             "outlinewidth": 0,
             "ticks": ""
            },
            "colorscale": [
             [
              0,
              "#0d0887"
             ],
             [
              0.1111111111111111,
              "#46039f"
             ],
             [
              0.2222222222222222,
              "#7201a8"
             ],
             [
              0.3333333333333333,
              "#9c179e"
             ],
             [
              0.4444444444444444,
              "#bd3786"
             ],
             [
              0.5555555555555556,
              "#d8576b"
             ],
             [
              0.6666666666666666,
              "#ed7953"
             ],
             [
              0.7777777777777778,
              "#fb9f3a"
             ],
             [
              0.8888888888888888,
              "#fdca26"
             ],
             [
              1,
              "#f0f921"
             ]
            ],
            "type": "surface"
           }
          ],
          "table": [
           {
            "cells": {
             "fill": {
              "color": "#506784"
             },
             "line": {
              "color": "rgb(17,17,17)"
             }
            },
            "header": {
             "fill": {
              "color": "#2a3f5f"
             },
             "line": {
              "color": "rgb(17,17,17)"
             }
            },
            "type": "table"
           }
          ]
         },
         "layout": {
          "annotationdefaults": {
           "arrowcolor": "#f2f5fa",
           "arrowhead": 0,
           "arrowwidth": 1
          },
          "autotypenumbers": "strict",
          "coloraxis": {
           "colorbar": {
            "outlinewidth": 0,
            "ticks": ""
           }
          },
          "colorscale": {
           "diverging": [
            [
             0,
             "#8e0152"
            ],
            [
             0.1,
             "#c51b7d"
            ],
            [
             0.2,
             "#de77ae"
            ],
            [
             0.3,
             "#f1b6da"
            ],
            [
             0.4,
             "#fde0ef"
            ],
            [
             0.5,
             "#f7f7f7"
            ],
            [
             0.6,
             "#e6f5d0"
            ],
            [
             0.7,
             "#b8e186"
            ],
            [
             0.8,
             "#7fbc41"
            ],
            [
             0.9,
             "#4d9221"
            ],
            [
             1,
             "#276419"
            ]
           ],
           "sequential": [
            [
             0,
             "#0d0887"
            ],
            [
             0.1111111111111111,
             "#46039f"
            ],
            [
             0.2222222222222222,
             "#7201a8"
            ],
            [
             0.3333333333333333,
             "#9c179e"
            ],
            [
             0.4444444444444444,
             "#bd3786"
            ],
            [
             0.5555555555555556,
             "#d8576b"
            ],
            [
             0.6666666666666666,
             "#ed7953"
            ],
            [
             0.7777777777777778,
             "#fb9f3a"
            ],
            [
             0.8888888888888888,
             "#fdca26"
            ],
            [
             1,
             "#f0f921"
            ]
           ],
           "sequentialminus": [
            [
             0,
             "#0d0887"
            ],
            [
             0.1111111111111111,
             "#46039f"
            ],
            [
             0.2222222222222222,
             "#7201a8"
            ],
            [
             0.3333333333333333,
             "#9c179e"
            ],
            [
             0.4444444444444444,
             "#bd3786"
            ],
            [
             0.5555555555555556,
             "#d8576b"
            ],
            [
             0.6666666666666666,
             "#ed7953"
            ],
            [
             0.7777777777777778,
             "#fb9f3a"
            ],
            [
             0.8888888888888888,
             "#fdca26"
            ],
            [
             1,
             "#f0f921"
            ]
           ]
          },
          "colorway": [
           "#636efa",
           "#EF553B",
           "#00cc96",
           "#ab63fa",
           "#FFA15A",
           "#19d3f3",
           "#FF6692",
           "#B6E880",
           "#FF97FF",
           "#FECB52"
          ],
          "font": {
           "color": "#f2f5fa"
          },
          "geo": {
           "bgcolor": "rgb(17,17,17)",
           "lakecolor": "rgb(17,17,17)",
           "landcolor": "rgb(17,17,17)",
           "showlakes": true,
           "showland": true,
           "subunitcolor": "#506784"
          },
          "hoverlabel": {
           "align": "left"
          },
          "hovermode": "closest",
          "mapbox": {
           "style": "dark"
          },
          "paper_bgcolor": "rgb(17,17,17)",
          "plot_bgcolor": "rgb(17,17,17)",
          "polar": {
           "angularaxis": {
            "gridcolor": "#506784",
            "linecolor": "#506784",
            "ticks": ""
           },
           "bgcolor": "rgb(17,17,17)",
           "radialaxis": {
            "gridcolor": "#506784",
            "linecolor": "#506784",
            "ticks": ""
           }
          },
          "scene": {
           "xaxis": {
            "backgroundcolor": "rgb(17,17,17)",
            "gridcolor": "#506784",
            "gridwidth": 2,
            "linecolor": "#506784",
            "showbackground": true,
            "ticks": "",
            "zerolinecolor": "#C8D4E3"
           },
           "yaxis": {
            "backgroundcolor": "rgb(17,17,17)",
            "gridcolor": "#506784",
            "gridwidth": 2,
            "linecolor": "#506784",
            "showbackground": true,
            "ticks": "",
            "zerolinecolor": "#C8D4E3"
           },
           "zaxis": {
            "backgroundcolor": "rgb(17,17,17)",
            "gridcolor": "#506784",
            "gridwidth": 2,
            "linecolor": "#506784",
            "showbackground": true,
            "ticks": "",
            "zerolinecolor": "#C8D4E3"
           }
          },
          "shapedefaults": {
           "line": {
            "color": "#f2f5fa"
           }
          },
          "sliderdefaults": {
           "bgcolor": "#C8D4E3",
           "bordercolor": "rgb(17,17,17)",
           "borderwidth": 1,
           "tickwidth": 0
          },
          "ternary": {
           "aaxis": {
            "gridcolor": "#506784",
            "linecolor": "#506784",
            "ticks": ""
           },
           "baxis": {
            "gridcolor": "#506784",
            "linecolor": "#506784",
            "ticks": ""
           },
           "bgcolor": "rgb(17,17,17)",
           "caxis": {
            "gridcolor": "#506784",
            "linecolor": "#506784",
            "ticks": ""
           }
          },
          "title": {
           "x": 0.05
          },
          "updatemenudefaults": {
           "bgcolor": "#506784",
           "borderwidth": 0
          },
          "xaxis": {
           "automargin": true,
           "gridcolor": "#283442",
           "linecolor": "#506784",
           "ticks": "",
           "title": {
            "standoff": 15
           },
           "zerolinecolor": "#283442",
           "zerolinewidth": 2
          },
          "yaxis": {
           "automargin": true,
           "gridcolor": "#283442",
           "linecolor": "#506784",
           "ticks": "",
           "title": {
            "standoff": 15
           },
           "zerolinecolor": "#283442",
           "zerolinewidth": 2
          }
         }
        },
        "title": {
         "text": "Users Throughout the 2024 by Subscription Type"
        },
        "width": 1000,
        "xaxis": {
         "anchor": "y",
         "domain": [
          0,
          1
         ],
         "dtick": "M1",
         "tickformat": "%b",
         "title": {
          "text": "Weeks"
         }
        },
        "yaxis": {
         "anchor": "x",
         "domain": [
          0,
          1
         ],
         "range": [
          0,
          null
         ],
         "title": {
          "text": "User count"
         }
        },
        "yaxis2": {
         "dtick": 5000,
         "overlaying": "y",
         "range": [
          0,
          null
         ],
         "showgrid": false,
         "side": "right",
         "tickmode": "linear",
         "title": {
          "text": "Gap difference"
         }
        }
       }
      }
     },
     "metadata": {},
     "output_type": "display_data"
    }
   ],
   "source": [
    "legend_name = {\n",
    "    'casual': 'Casual',\n",
    "    'member': 'Member',\n",
    "    'gap_df': 'Gap difference'\n",
    "}\n",
    "\n",
    "member_year_line = px.line(\n",
    "    member_year_count_df,\n",
    "    x='week_start',\n",
    "    y='count',\n",
    "    color='member_casual',\n",
    "    width=1000,\n",
    "    template='plotly_dark',\n",
    "    color_discrete_sequence=['silver', 'goldenrod'],\n",
    "    \n",
    ")\n",
    "\n",
    "member_year_line.add_trace(\n",
    "    go.Scatter(\n",
    "        x=gap_df['week_start'],\n",
    "        y=gap_df['gap_diff'],\n",
    "        name='gap_df',\n",
    "        line={\n",
    "            'dash': 'dash',\n",
    "            'width': 1\n",
    "        },\n",
    "        yaxis=\"y2\"\n",
    "    )\n",
    ")\n",
    "\n",
    "member_year_line.update_layout(\n",
    "    xaxis_title='Weeks', \n",
    "    yaxis_title='User count', \n",
    "    title='Users Throughout the 2024 by Subscription Type',\n",
    "    legend_title_text='Subscription',\n",
    "    yaxis=dict(\n",
    "        range=[0, None],\n",
    "    ),\n",
    "    yaxis2=dict(\n",
    "        title=dict(text=\"Gap difference\"),\n",
    "        dtick=5000,\n",
    "        tickmode='linear',\n",
    "        side=\"right\",\n",
    "        range=[0, None],\n",
    "        overlaying=\"y\",\n",
    "        showgrid= False,\n",
    "    ),\n",
    "    xaxis=dict(\n",
    "        dtick=\"M1\",\n",
    "        tickformat=\"%b\",\n",
    "    ),\n",
    "    margin=dict(\n",
    "        pad=10\n",
    "    ),\n",
    "    legend=dict(\n",
    "        x=1.1\n",
    "    )\n",
    ")\n",
    "\n",
    "member_year_line.for_each_trace(lambda x: x.update(name=legend_name[x.name]))\n",
    "\n",
    "member_year_line.show()"
   ]
  },
  {
   "cell_type": "markdown",
   "id": "c21b8e19",
   "metadata": {},
   "source": [
    "According to the graph above:\n",
    "* The number of users with membership is higher then casual users throughout the year by 10,000-30,000.\n",
    "* Amount of users increase significantly during warmer months peaking between May and September and then decline sharply from October onward.\n",
    "* The highest user counts for both groups occur during late summer."
   ]
  },
  {
   "cell_type": "markdown",
   "id": "e78d8d1f",
   "metadata": {},
   "source": [
    "### Number of Users throughout the Year by Ride type"
   ]
  },
  {
   "cell_type": "code",
   "execution_count": 613,
   "id": "a85e4cf1",
   "metadata": {},
   "outputs": [
    {
     "data": {
      "text/html": [
       "<div>\n",
       "<style scoped>\n",
       "    .dataframe tbody tr th:only-of-type {\n",
       "        vertical-align: middle;\n",
       "    }\n",
       "\n",
       "    .dataframe tbody tr th {\n",
       "        vertical-align: top;\n",
       "    }\n",
       "\n",
       "    .dataframe thead th {\n",
       "        text-align: right;\n",
       "    }\n",
       "</style>\n",
       "<table border=\"1\" class=\"dataframe\">\n",
       "  <thead>\n",
       "    <tr style=\"text-align: right;\">\n",
       "      <th></th>\n",
       "      <th>week_start</th>\n",
       "      <th>rideable_type</th>\n",
       "      <th>count</th>\n",
       "    </tr>\n",
       "  </thead>\n",
       "  <tbody>\n",
       "    <tr>\n",
       "      <th>0</th>\n",
       "      <td>2024-01-01</td>\n",
       "      <td>classic_bike</td>\n",
       "      <td>19518</td>\n",
       "    </tr>\n",
       "    <tr>\n",
       "      <th>1</th>\n",
       "      <td>2024-01-01</td>\n",
       "      <td>electric_bike</td>\n",
       "      <td>11940</td>\n",
       "    </tr>\n",
       "    <tr>\n",
       "      <th>2</th>\n",
       "      <td>2024-01-08</td>\n",
       "      <td>classic_bike</td>\n",
       "      <td>15576</td>\n",
       "    </tr>\n",
       "    <tr>\n",
       "      <th>3</th>\n",
       "      <td>2024-01-08</td>\n",
       "      <td>electric_bike</td>\n",
       "      <td>9269</td>\n",
       "    </tr>\n",
       "    <tr>\n",
       "      <th>4</th>\n",
       "      <td>2024-01-15</td>\n",
       "      <td>classic_bike</td>\n",
       "      <td>10005</td>\n",
       "    </tr>\n",
       "  </tbody>\n",
       "</table>\n",
       "</div>"
      ],
      "text/plain": [
       "   week_start  rideable_type  count\n",
       "0  2024-01-01   classic_bike  19518\n",
       "1  2024-01-01  electric_bike  11940\n",
       "2  2024-01-08   classic_bike  15576\n",
       "3  2024-01-08  electric_bike   9269\n",
       "4  2024-01-15   classic_bike  10005"
      ]
     },
     "execution_count": 613,
     "metadata": {},
     "output_type": "execute_result"
    }
   ],
   "source": [
    "ride_year_count_df = (\n",
    "    analysis_df\n",
    "    .value_counts(['week_start', 'rideable_type'])\n",
    "    .sort_index()\n",
    "    .reset_index(name='count')\n",
    ")\n",
    "\n",
    "ride_year_count_df.head()"
   ]
  },
  {
   "cell_type": "code",
   "execution_count": 614,
   "id": "d2c9102f",
   "metadata": {},
   "outputs": [
    {
     "data": {
      "application/vnd.plotly.v1+json": {
       "config": {
        "plotlyServerURL": "https://plot.ly"
       },
       "data": [
        {
         "hovertemplate": "rideable_type=classic_bike<br>week_start=%{x}<br>count=%{y}<extra></extra>",
         "legendgroup": "classic_bike",
         "line": {
          "color": "brown",
          "dash": "solid"
         },
         "marker": {
          "symbol": "circle"
         },
         "mode": "lines",
         "name": "Classic Bike",
         "orientation": "v",
         "showlegend": true,
         "type": "scatter",
         "x": [
          "2024-01-01",
          "2024-01-08",
          "2024-01-15",
          "2024-01-22",
          "2024-01-29",
          "2024-02-05",
          "2024-02-12",
          "2024-02-19",
          "2024-02-26",
          "2024-03-04",
          "2024-03-11",
          "2024-03-18",
          "2024-03-25",
          "2024-04-01",
          "2024-04-08",
          "2024-04-15",
          "2024-04-22",
          "2024-04-29",
          "2024-05-06",
          "2024-05-13",
          "2024-05-20",
          "2024-05-27",
          "2024-06-03",
          "2024-06-10",
          "2024-06-17",
          "2024-06-24",
          "2024-07-01",
          "2024-07-08",
          "2024-07-15",
          "2024-07-22",
          "2024-07-29",
          "2024-08-05",
          "2024-08-12",
          "2024-08-19",
          "2024-08-26",
          "2024-09-02",
          "2024-09-09",
          "2024-09-16",
          "2024-09-23",
          "2024-09-30",
          "2024-10-07",
          "2024-10-14",
          "2024-10-21",
          "2024-10-28",
          "2024-11-04",
          "2024-11-11",
          "2024-11-18",
          "2024-11-25",
          "2024-12-02",
          "2024-12-09",
          "2024-12-16",
          "2024-12-23",
          "2024-12-30"
         ],
         "xaxis": "x",
         "y": {
          "bdata": "PkwAANg8AAAVJwAAyUMAAJ98AABcigAA/m0AACeFAAB9qAAABXkAACKaAABNZQAAsnoAAOdbAACk2wAAzKwAACC3AAAg7QAAlPUAAO8kAQCmIwEAhPcAAF8vAQBDQAEANUkBAGAsAQDsOgEAfCwBAPRfAQCpUwEAz1EBAG1WAQDMFQEADi0BAPIyAQBvIgEATDwBAJ4fAQAh7gAAiA8BAKIqAQDw0QAAheMAAKvAAACSnwAAjqkAAOJ6AADvPQAAgVQAAD9KAABEPgAADyMAAHUNAAA=",
          "dtype": "i4"
         },
         "yaxis": "y"
        },
        {
         "hovertemplate": "rideable_type=electric_bike<br>week_start=%{x}<br>count=%{y}<extra></extra>",
         "legendgroup": "electric_bike",
         "line": {
          "color": "dodgerblue",
          "dash": "solid"
         },
         "marker": {
          "symbol": "circle"
         },
         "mode": "lines",
         "name": "Electric Bike",
         "orientation": "v",
         "showlegend": true,
         "type": "scatter",
         "x": [
          "2024-01-01",
          "2024-01-08",
          "2024-01-15",
          "2024-01-22",
          "2024-01-29",
          "2024-02-05",
          "2024-02-12",
          "2024-02-19",
          "2024-02-26",
          "2024-03-04",
          "2024-03-11",
          "2024-03-18",
          "2024-03-25",
          "2024-04-01",
          "2024-04-08",
          "2024-04-15",
          "2024-04-22",
          "2024-04-29",
          "2024-05-06",
          "2024-05-13",
          "2024-05-20",
          "2024-05-27",
          "2024-06-03",
          "2024-06-10",
          "2024-06-17",
          "2024-06-24",
          "2024-07-01",
          "2024-07-08",
          "2024-07-15",
          "2024-07-22",
          "2024-07-29",
          "2024-08-05",
          "2024-08-12",
          "2024-08-19",
          "2024-08-26",
          "2024-09-02",
          "2024-09-09",
          "2024-09-16",
          "2024-09-23",
          "2024-09-30",
          "2024-10-07",
          "2024-10-14",
          "2024-10-21",
          "2024-10-28",
          "2024-11-04",
          "2024-11-11",
          "2024-11-18",
          "2024-11-25",
          "2024-12-02",
          "2024-12-09",
          "2024-12-16",
          "2024-12-23",
          "2024-12-30"
         ],
         "xaxis": "x",
         "y": {
          "bdata": "pC4AADUkAAAMDAAA2iAAAN0fAAC8IgAAoSQAAF81AADsQgAAIUAAAGRRAAAYQgAAuEwAAB9AAAD0dAAAN2cAALZsAAAndgAArmsAAM15AAAuegAAM3oAABeTAABMkAAA1ZkAAN6LAABwlAAABY0AAPefAABcmQAAT6IAAMujAAATlQAA1bIAAI2pAAAEmgAAkqsAAMGgAADdlgAAJ6gAAKKgAAB8hgAA4YcAABCCAADhcAAAUmUAAHRPAAANLAAAEkIAAAo8AADEOQAAASIAADoNAAA=",
          "dtype": "i4"
         },
         "yaxis": "y"
        },
        {
         "hovertemplate": "rideable_type=electric_scooter<br>week_start=%{x}<br>count=%{y}<extra></extra>",
         "legendgroup": "electric_scooter",
         "line": {
          "color": "lime",
          "dash": "solid"
         },
         "marker": {
          "symbol": "circle"
         },
         "mode": "lines",
         "name": "Electric Scooter",
         "orientation": "v",
         "showlegend": true,
         "type": "scatter",
         "x": [
          "2024-08-26",
          "2024-09-02",
          "2024-09-09",
          "2024-09-16",
          "2024-09-23",
          "2024-09-30"
         ],
         "xaxis": "x",
         "y": {
          "bdata": "8wVlK/4u9yqPKCUG",
          "dtype": "i2"
         },
         "yaxis": "y"
        }
       ],
       "layout": {
        "legend": {
         "title": {
          "text": "Ride type"
         },
         "tracegroupgap": 0
        },
        "margin": {
         "pad": 10,
         "t": 60
        },
        "template": {
         "data": {
          "bar": [
           {
            "error_x": {
             "color": "#f2f5fa"
            },
            "error_y": {
             "color": "#f2f5fa"
            },
            "marker": {
             "line": {
              "color": "rgb(17,17,17)",
              "width": 0.5
             },
             "pattern": {
              "fillmode": "overlay",
              "size": 10,
              "solidity": 0.2
             }
            },
            "type": "bar"
           }
          ],
          "barpolar": [
           {
            "marker": {
             "line": {
              "color": "rgb(17,17,17)",
              "width": 0.5
             },
             "pattern": {
              "fillmode": "overlay",
              "size": 10,
              "solidity": 0.2
             }
            },
            "type": "barpolar"
           }
          ],
          "carpet": [
           {
            "aaxis": {
             "endlinecolor": "#A2B1C6",
             "gridcolor": "#506784",
             "linecolor": "#506784",
             "minorgridcolor": "#506784",
             "startlinecolor": "#A2B1C6"
            },
            "baxis": {
             "endlinecolor": "#A2B1C6",
             "gridcolor": "#506784",
             "linecolor": "#506784",
             "minorgridcolor": "#506784",
             "startlinecolor": "#A2B1C6"
            },
            "type": "carpet"
           }
          ],
          "choropleth": [
           {
            "colorbar": {
             "outlinewidth": 0,
             "ticks": ""
            },
            "type": "choropleth"
           }
          ],
          "contour": [
           {
            "colorbar": {
             "outlinewidth": 0,
             "ticks": ""
            },
            "colorscale": [
             [
              0,
              "#0d0887"
             ],
             [
              0.1111111111111111,
              "#46039f"
             ],
             [
              0.2222222222222222,
              "#7201a8"
             ],
             [
              0.3333333333333333,
              "#9c179e"
             ],
             [
              0.4444444444444444,
              "#bd3786"
             ],
             [
              0.5555555555555556,
              "#d8576b"
             ],
             [
              0.6666666666666666,
              "#ed7953"
             ],
             [
              0.7777777777777778,
              "#fb9f3a"
             ],
             [
              0.8888888888888888,
              "#fdca26"
             ],
             [
              1,
              "#f0f921"
             ]
            ],
            "type": "contour"
           }
          ],
          "contourcarpet": [
           {
            "colorbar": {
             "outlinewidth": 0,
             "ticks": ""
            },
            "type": "contourcarpet"
           }
          ],
          "heatmap": [
           {
            "colorbar": {
             "outlinewidth": 0,
             "ticks": ""
            },
            "colorscale": [
             [
              0,
              "#0d0887"
             ],
             [
              0.1111111111111111,
              "#46039f"
             ],
             [
              0.2222222222222222,
              "#7201a8"
             ],
             [
              0.3333333333333333,
              "#9c179e"
             ],
             [
              0.4444444444444444,
              "#bd3786"
             ],
             [
              0.5555555555555556,
              "#d8576b"
             ],
             [
              0.6666666666666666,
              "#ed7953"
             ],
             [
              0.7777777777777778,
              "#fb9f3a"
             ],
             [
              0.8888888888888888,
              "#fdca26"
             ],
             [
              1,
              "#f0f921"
             ]
            ],
            "type": "heatmap"
           }
          ],
          "histogram": [
           {
            "marker": {
             "pattern": {
              "fillmode": "overlay",
              "size": 10,
              "solidity": 0.2
             }
            },
            "type": "histogram"
           }
          ],
          "histogram2d": [
           {
            "colorbar": {
             "outlinewidth": 0,
             "ticks": ""
            },
            "colorscale": [
             [
              0,
              "#0d0887"
             ],
             [
              0.1111111111111111,
              "#46039f"
             ],
             [
              0.2222222222222222,
              "#7201a8"
             ],
             [
              0.3333333333333333,
              "#9c179e"
             ],
             [
              0.4444444444444444,
              "#bd3786"
             ],
             [
              0.5555555555555556,
              "#d8576b"
             ],
             [
              0.6666666666666666,
              "#ed7953"
             ],
             [
              0.7777777777777778,
              "#fb9f3a"
             ],
             [
              0.8888888888888888,
              "#fdca26"
             ],
             [
              1,
              "#f0f921"
             ]
            ],
            "type": "histogram2d"
           }
          ],
          "histogram2dcontour": [
           {
            "colorbar": {
             "outlinewidth": 0,
             "ticks": ""
            },
            "colorscale": [
             [
              0,
              "#0d0887"
             ],
             [
              0.1111111111111111,
              "#46039f"
             ],
             [
              0.2222222222222222,
              "#7201a8"
             ],
             [
              0.3333333333333333,
              "#9c179e"
             ],
             [
              0.4444444444444444,
              "#bd3786"
             ],
             [
              0.5555555555555556,
              "#d8576b"
             ],
             [
              0.6666666666666666,
              "#ed7953"
             ],
             [
              0.7777777777777778,
              "#fb9f3a"
             ],
             [
              0.8888888888888888,
              "#fdca26"
             ],
             [
              1,
              "#f0f921"
             ]
            ],
            "type": "histogram2dcontour"
           }
          ],
          "mesh3d": [
           {
            "colorbar": {
             "outlinewidth": 0,
             "ticks": ""
            },
            "type": "mesh3d"
           }
          ],
          "parcoords": [
           {
            "line": {
             "colorbar": {
              "outlinewidth": 0,
              "ticks": ""
             }
            },
            "type": "parcoords"
           }
          ],
          "pie": [
           {
            "automargin": true,
            "type": "pie"
           }
          ],
          "scatter": [
           {
            "marker": {
             "line": {
              "color": "#283442"
             }
            },
            "type": "scatter"
           }
          ],
          "scatter3d": [
           {
            "line": {
             "colorbar": {
              "outlinewidth": 0,
              "ticks": ""
             }
            },
            "marker": {
             "colorbar": {
              "outlinewidth": 0,
              "ticks": ""
             }
            },
            "type": "scatter3d"
           }
          ],
          "scattercarpet": [
           {
            "marker": {
             "colorbar": {
              "outlinewidth": 0,
              "ticks": ""
             }
            },
            "type": "scattercarpet"
           }
          ],
          "scattergeo": [
           {
            "marker": {
             "colorbar": {
              "outlinewidth": 0,
              "ticks": ""
             }
            },
            "type": "scattergeo"
           }
          ],
          "scattergl": [
           {
            "marker": {
             "line": {
              "color": "#283442"
             }
            },
            "type": "scattergl"
           }
          ],
          "scattermap": [
           {
            "marker": {
             "colorbar": {
              "outlinewidth": 0,
              "ticks": ""
             }
            },
            "type": "scattermap"
           }
          ],
          "scattermapbox": [
           {
            "marker": {
             "colorbar": {
              "outlinewidth": 0,
              "ticks": ""
             }
            },
            "type": "scattermapbox"
           }
          ],
          "scatterpolar": [
           {
            "marker": {
             "colorbar": {
              "outlinewidth": 0,
              "ticks": ""
             }
            },
            "type": "scatterpolar"
           }
          ],
          "scatterpolargl": [
           {
            "marker": {
             "colorbar": {
              "outlinewidth": 0,
              "ticks": ""
             }
            },
            "type": "scatterpolargl"
           }
          ],
          "scatterternary": [
           {
            "marker": {
             "colorbar": {
              "outlinewidth": 0,
              "ticks": ""
             }
            },
            "type": "scatterternary"
           }
          ],
          "surface": [
           {
            "colorbar": {
             "outlinewidth": 0,
             "ticks": ""
            },
            "colorscale": [
             [
              0,
              "#0d0887"
             ],
             [
              0.1111111111111111,
              "#46039f"
             ],
             [
              0.2222222222222222,
              "#7201a8"
             ],
             [
              0.3333333333333333,
              "#9c179e"
             ],
             [
              0.4444444444444444,
              "#bd3786"
             ],
             [
              0.5555555555555556,
              "#d8576b"
             ],
             [
              0.6666666666666666,
              "#ed7953"
             ],
             [
              0.7777777777777778,
              "#fb9f3a"
             ],
             [
              0.8888888888888888,
              "#fdca26"
             ],
             [
              1,
              "#f0f921"
             ]
            ],
            "type": "surface"
           }
          ],
          "table": [
           {
            "cells": {
             "fill": {
              "color": "#506784"
             },
             "line": {
              "color": "rgb(17,17,17)"
             }
            },
            "header": {
             "fill": {
              "color": "#2a3f5f"
             },
             "line": {
              "color": "rgb(17,17,17)"
             }
            },
            "type": "table"
           }
          ]
         },
         "layout": {
          "annotationdefaults": {
           "arrowcolor": "#f2f5fa",
           "arrowhead": 0,
           "arrowwidth": 1
          },
          "autotypenumbers": "strict",
          "coloraxis": {
           "colorbar": {
            "outlinewidth": 0,
            "ticks": ""
           }
          },
          "colorscale": {
           "diverging": [
            [
             0,
             "#8e0152"
            ],
            [
             0.1,
             "#c51b7d"
            ],
            [
             0.2,
             "#de77ae"
            ],
            [
             0.3,
             "#f1b6da"
            ],
            [
             0.4,
             "#fde0ef"
            ],
            [
             0.5,
             "#f7f7f7"
            ],
            [
             0.6,
             "#e6f5d0"
            ],
            [
             0.7,
             "#b8e186"
            ],
            [
             0.8,
             "#7fbc41"
            ],
            [
             0.9,
             "#4d9221"
            ],
            [
             1,
             "#276419"
            ]
           ],
           "sequential": [
            [
             0,
             "#0d0887"
            ],
            [
             0.1111111111111111,
             "#46039f"
            ],
            [
             0.2222222222222222,
             "#7201a8"
            ],
            [
             0.3333333333333333,
             "#9c179e"
            ],
            [
             0.4444444444444444,
             "#bd3786"
            ],
            [
             0.5555555555555556,
             "#d8576b"
            ],
            [
             0.6666666666666666,
             "#ed7953"
            ],
            [
             0.7777777777777778,
             "#fb9f3a"
            ],
            [
             0.8888888888888888,
             "#fdca26"
            ],
            [
             1,
             "#f0f921"
            ]
           ],
           "sequentialminus": [
            [
             0,
             "#0d0887"
            ],
            [
             0.1111111111111111,
             "#46039f"
            ],
            [
             0.2222222222222222,
             "#7201a8"
            ],
            [
             0.3333333333333333,
             "#9c179e"
            ],
            [
             0.4444444444444444,
             "#bd3786"
            ],
            [
             0.5555555555555556,
             "#d8576b"
            ],
            [
             0.6666666666666666,
             "#ed7953"
            ],
            [
             0.7777777777777778,
             "#fb9f3a"
            ],
            [
             0.8888888888888888,
             "#fdca26"
            ],
            [
             1,
             "#f0f921"
            ]
           ]
          },
          "colorway": [
           "#636efa",
           "#EF553B",
           "#00cc96",
           "#ab63fa",
           "#FFA15A",
           "#19d3f3",
           "#FF6692",
           "#B6E880",
           "#FF97FF",
           "#FECB52"
          ],
          "font": {
           "color": "#f2f5fa"
          },
          "geo": {
           "bgcolor": "rgb(17,17,17)",
           "lakecolor": "rgb(17,17,17)",
           "landcolor": "rgb(17,17,17)",
           "showlakes": true,
           "showland": true,
           "subunitcolor": "#506784"
          },
          "hoverlabel": {
           "align": "left"
          },
          "hovermode": "closest",
          "mapbox": {
           "style": "dark"
          },
          "paper_bgcolor": "rgb(17,17,17)",
          "plot_bgcolor": "rgb(17,17,17)",
          "polar": {
           "angularaxis": {
            "gridcolor": "#506784",
            "linecolor": "#506784",
            "ticks": ""
           },
           "bgcolor": "rgb(17,17,17)",
           "radialaxis": {
            "gridcolor": "#506784",
            "linecolor": "#506784",
            "ticks": ""
           }
          },
          "scene": {
           "xaxis": {
            "backgroundcolor": "rgb(17,17,17)",
            "gridcolor": "#506784",
            "gridwidth": 2,
            "linecolor": "#506784",
            "showbackground": true,
            "ticks": "",
            "zerolinecolor": "#C8D4E3"
           },
           "yaxis": {
            "backgroundcolor": "rgb(17,17,17)",
            "gridcolor": "#506784",
            "gridwidth": 2,
            "linecolor": "#506784",
            "showbackground": true,
            "ticks": "",
            "zerolinecolor": "#C8D4E3"
           },
           "zaxis": {
            "backgroundcolor": "rgb(17,17,17)",
            "gridcolor": "#506784",
            "gridwidth": 2,
            "linecolor": "#506784",
            "showbackground": true,
            "ticks": "",
            "zerolinecolor": "#C8D4E3"
           }
          },
          "shapedefaults": {
           "line": {
            "color": "#f2f5fa"
           }
          },
          "sliderdefaults": {
           "bgcolor": "#C8D4E3",
           "bordercolor": "rgb(17,17,17)",
           "borderwidth": 1,
           "tickwidth": 0
          },
          "ternary": {
           "aaxis": {
            "gridcolor": "#506784",
            "linecolor": "#506784",
            "ticks": ""
           },
           "baxis": {
            "gridcolor": "#506784",
            "linecolor": "#506784",
            "ticks": ""
           },
           "bgcolor": "rgb(17,17,17)",
           "caxis": {
            "gridcolor": "#506784",
            "linecolor": "#506784",
            "ticks": ""
           }
          },
          "title": {
           "x": 0.05
          },
          "updatemenudefaults": {
           "bgcolor": "#506784",
           "borderwidth": 0
          },
          "xaxis": {
           "automargin": true,
           "gridcolor": "#283442",
           "linecolor": "#506784",
           "ticks": "",
           "title": {
            "standoff": 15
           },
           "zerolinecolor": "#283442",
           "zerolinewidth": 2
          },
          "yaxis": {
           "automargin": true,
           "gridcolor": "#283442",
           "linecolor": "#506784",
           "ticks": "",
           "title": {
            "standoff": 15
           },
           "zerolinecolor": "#283442",
           "zerolinewidth": 2
          }
         }
        },
        "title": {
         "text": "Users Throughout 2024 by Ride"
        },
        "width": 1000,
        "xaxis": {
         "anchor": "y",
         "domain": [
          0,
          1
         ],
         "dtick": "M1",
         "tickformat": "%b",
         "title": {
          "text": "Months"
         }
        },
        "yaxis": {
         "anchor": "x",
         "domain": [
          0,
          1
         ],
         "dtick": 10000,
         "range": [
          0,
          null
         ],
         "side": "left",
         "title": {
          "text": "User count"
         }
        }
       }
      }
     },
     "metadata": {},
     "output_type": "display_data"
    }
   ],
   "source": [
    "legend_name = {\n",
    "    'classic_bike': 'Classic Bike',\n",
    "    'electric_bike': 'Electric Bike',\n",
    "    'electric_scooter': 'Electric Scooter'\n",
    "}\n",
    "\n",
    "ride_year_line = px.line(\n",
    "    ride_year_count_df,\n",
    "    x='week_start',\n",
    "    y='count',\n",
    "    color='rideable_type',\n",
    "    width=1000,\n",
    "    template='plotly_dark',\n",
    "    color_discrete_sequence=['brown', 'dodgerblue', 'lime'],\n",
    ")\n",
    "\n",
    "ride_year_line.update_layout(\n",
    "    xaxis_title='Months', \n",
    "    yaxis_title='User count', \n",
    "    title='Users Throughout 2024 by Ride',\n",
    "    legend_title_text='Ride type',\n",
    "    yaxis=dict(\n",
    "        range=[0, None],\n",
    "        dtick=10000,\n",
    "        side='left'\n",
    "    ),\n",
    "    xaxis=dict(\n",
    "        dtick=\"M1\",\n",
    "        tickformat=\"%b\",\n",
    "    ),\n",
    "    margin=dict(\n",
    "        pad=10\n",
    "    ),\n",
    ")\n",
    "\n",
    "ride_year_line.for_each_trace(lambda x: x.update(name=legend_name[x.name]))\n",
    "\n",
    "ride_year_line.show()"
   ]
  },
  {
   "cell_type": "markdown",
   "id": "dbe1b38b",
   "metadata": {},
   "source": [
    "According to the graph above:\n",
    "* There is seasonal trend in usage - users prefer to use classic bikes over electric bikes especially in warmer months\n",
    "* Electric bikes show more consistent, sustained level throughout the year while classic bikes shows more volatile patterns\n",
    "* Electric scooters were discontinued after 5 weeks\n"
   ]
  },
  {
   "cell_type": "markdown",
   "id": "0190d118",
   "metadata": {},
   "source": [
    "### Number of Users throughout the Year by Ride type and Subscription\n",
    "* Electric scooter won't be included in this analisis"
   ]
  },
  {
   "cell_type": "code",
   "execution_count": 615,
   "id": "2f2005f3",
   "metadata": {},
   "outputs": [
    {
     "data": {
      "text/html": [
       "<div>\n",
       "<style scoped>\n",
       "    .dataframe tbody tr th:only-of-type {\n",
       "        vertical-align: middle;\n",
       "    }\n",
       "\n",
       "    .dataframe tbody tr th {\n",
       "        vertical-align: top;\n",
       "    }\n",
       "\n",
       "    .dataframe thead th {\n",
       "        text-align: right;\n",
       "    }\n",
       "</style>\n",
       "<table border=\"1\" class=\"dataframe\">\n",
       "  <thead>\n",
       "    <tr style=\"text-align: right;\">\n",
       "      <th></th>\n",
       "      <th>ride_id</th>\n",
       "      <th>rideable_type</th>\n",
       "      <th>started_at</th>\n",
       "      <th>ended_at</th>\n",
       "      <th>ride_time</th>\n",
       "      <th>month</th>\n",
       "      <th>weekday</th>\n",
       "      <th>start_station_name</th>\n",
       "      <th>end_station_name</th>\n",
       "      <th>member_casual</th>\n",
       "      <th>start_lat</th>\n",
       "      <th>start_lng</th>\n",
       "      <th>end_lat</th>\n",
       "      <th>end_lng</th>\n",
       "      <th>week_start</th>\n",
       "    </tr>\n",
       "  </thead>\n",
       "  <tbody>\n",
       "    <tr>\n",
       "      <th>48853</th>\n",
       "      <td>56F5C3ED5178C131</td>\n",
       "      <td>classic_bike</td>\n",
       "      <td>2024-01-01 00:01:01</td>\n",
       "      <td>2024-01-01 00:24:12</td>\n",
       "      <td>0 days 00:23:11</td>\n",
       "      <td>1</td>\n",
       "      <td>Monday</td>\n",
       "      <td>LaSalle St &amp; Illinois St</td>\n",
       "      <td>Indiana Ave &amp; Roosevelt Rd</td>\n",
       "      <td>member</td>\n",
       "      <td>41.890762</td>\n",
       "      <td>-87.631697</td>\n",
       "      <td>41.867888</td>\n",
       "      <td>-87.623041</td>\n",
       "      <td>2024-01-01</td>\n",
       "    </tr>\n",
       "    <tr>\n",
       "      <th>26576</th>\n",
       "      <td>70BDF49A30C8BFFC</td>\n",
       "      <td>classic_bike</td>\n",
       "      <td>2024-01-01 00:02:15</td>\n",
       "      <td>2024-01-01 00:07:01</td>\n",
       "      <td>0 days 00:04:46</td>\n",
       "      <td>1</td>\n",
       "      <td>Monday</td>\n",
       "      <td>Sheffield Ave &amp; Fullerton Ave</td>\n",
       "      <td>Greenview Ave &amp; Fullerton Ave</td>\n",
       "      <td>casual</td>\n",
       "      <td>41.925602</td>\n",
       "      <td>-87.653708</td>\n",
       "      <td>41.925330</td>\n",
       "      <td>-87.665800</td>\n",
       "      <td>2024-01-01</td>\n",
       "    </tr>\n",
       "    <tr>\n",
       "      <th>46733</th>\n",
       "      <td>B7F1F63BD1AFF4E9</td>\n",
       "      <td>classic_bike</td>\n",
       "      <td>2024-01-01 00:06:59</td>\n",
       "      <td>2024-01-01 00:17:21</td>\n",
       "      <td>0 days 00:10:22</td>\n",
       "      <td>1</td>\n",
       "      <td>Monday</td>\n",
       "      <td>Western Ave &amp; Howard St</td>\n",
       "      <td>Clark St &amp; Lunt Ave</td>\n",
       "      <td>member</td>\n",
       "      <td>42.018901</td>\n",
       "      <td>-87.690048</td>\n",
       "      <td>42.009011</td>\n",
       "      <td>-87.674112</td>\n",
       "      <td>2024-01-01</td>\n",
       "    </tr>\n",
       "    <tr>\n",
       "      <th>40692</th>\n",
       "      <td>444DD0D82A50BA8C</td>\n",
       "      <td>classic_bike</td>\n",
       "      <td>2024-01-01 00:07:45</td>\n",
       "      <td>2024-01-01 00:15:41</td>\n",
       "      <td>0 days 00:07:56</td>\n",
       "      <td>1</td>\n",
       "      <td>Monday</td>\n",
       "      <td>DuSable Lake Shore Dr &amp; North Blvd</td>\n",
       "      <td>Sedgwick St &amp; Webster Ave</td>\n",
       "      <td>casual</td>\n",
       "      <td>41.911722</td>\n",
       "      <td>-87.626804</td>\n",
       "      <td>41.922167</td>\n",
       "      <td>-87.638888</td>\n",
       "      <td>2024-01-01</td>\n",
       "    </tr>\n",
       "    <tr>\n",
       "      <th>71103</th>\n",
       "      <td>510C1C0AA564ADF0</td>\n",
       "      <td>classic_bike</td>\n",
       "      <td>2024-01-01 00:07:57</td>\n",
       "      <td>2024-01-01 00:29:42</td>\n",
       "      <td>0 days 00:21:45</td>\n",
       "      <td>1</td>\n",
       "      <td>Monday</td>\n",
       "      <td>Clinton St &amp; Tilden St</td>\n",
       "      <td>LaSalle St &amp; Illinois St</td>\n",
       "      <td>casual</td>\n",
       "      <td>41.875885</td>\n",
       "      <td>-87.640795</td>\n",
       "      <td>41.890762</td>\n",
       "      <td>-87.631697</td>\n",
       "      <td>2024-01-01</td>\n",
       "    </tr>\n",
       "  </tbody>\n",
       "</table>\n",
       "</div>"
      ],
      "text/plain": [
       "                ride_id rideable_type          started_at            ended_at  \\\n",
       "48853  56F5C3ED5178C131  classic_bike 2024-01-01 00:01:01 2024-01-01 00:24:12   \n",
       "26576  70BDF49A30C8BFFC  classic_bike 2024-01-01 00:02:15 2024-01-01 00:07:01   \n",
       "46733  B7F1F63BD1AFF4E9  classic_bike 2024-01-01 00:06:59 2024-01-01 00:17:21   \n",
       "40692  444DD0D82A50BA8C  classic_bike 2024-01-01 00:07:45 2024-01-01 00:15:41   \n",
       "71103  510C1C0AA564ADF0  classic_bike 2024-01-01 00:07:57 2024-01-01 00:29:42   \n",
       "\n",
       "            ride_time  month weekday                  start_station_name  \\\n",
       "48853 0 days 00:23:11      1  Monday            LaSalle St & Illinois St   \n",
       "26576 0 days 00:04:46      1  Monday       Sheffield Ave & Fullerton Ave   \n",
       "46733 0 days 00:10:22      1  Monday             Western Ave & Howard St   \n",
       "40692 0 days 00:07:56      1  Monday  DuSable Lake Shore Dr & North Blvd   \n",
       "71103 0 days 00:21:45      1  Monday              Clinton St & Tilden St   \n",
       "\n",
       "                    end_station_name member_casual  start_lat  start_lng  \\\n",
       "48853     Indiana Ave & Roosevelt Rd        member  41.890762 -87.631697   \n",
       "26576  Greenview Ave & Fullerton Ave        casual  41.925602 -87.653708   \n",
       "46733            Clark St & Lunt Ave        member  42.018901 -87.690048   \n",
       "40692      Sedgwick St & Webster Ave        casual  41.911722 -87.626804   \n",
       "71103       LaSalle St & Illinois St        casual  41.875885 -87.640795   \n",
       "\n",
       "         end_lat    end_lng  week_start  \n",
       "48853  41.867888 -87.623041  2024-01-01  \n",
       "26576  41.925330 -87.665800  2024-01-01  \n",
       "46733  42.009011 -87.674112  2024-01-01  \n",
       "40692  41.922167 -87.638888  2024-01-01  \n",
       "71103  41.890762 -87.631697  2024-01-01  "
      ]
     },
     "execution_count": 615,
     "metadata": {},
     "output_type": "execute_result"
    }
   ],
   "source": [
    "bike_ebike_df = analysis_df[(analysis_df['rideable_type'] == 'classic_bike') | (analysis_df['rideable_type'] == 'electric_bike')]\n",
    "bike_ebike_df.head()"
   ]
  },
  {
   "cell_type": "code",
   "execution_count": 616,
   "id": "94f75414",
   "metadata": {},
   "outputs": [
    {
     "data": {
      "text/html": [
       "<div>\n",
       "<style scoped>\n",
       "    .dataframe tbody tr th:only-of-type {\n",
       "        vertical-align: middle;\n",
       "    }\n",
       "\n",
       "    .dataframe tbody tr th {\n",
       "        vertical-align: top;\n",
       "    }\n",
       "\n",
       "    .dataframe thead th {\n",
       "        text-align: right;\n",
       "    }\n",
       "</style>\n",
       "<table border=\"1\" class=\"dataframe\">\n",
       "  <thead>\n",
       "    <tr style=\"text-align: right;\">\n",
       "      <th></th>\n",
       "      <th>member_casual</th>\n",
       "      <th>rideable_type</th>\n",
       "      <th>week_start</th>\n",
       "      <th>count</th>\n",
       "    </tr>\n",
       "  </thead>\n",
       "  <tbody>\n",
       "    <tr>\n",
       "      <th>0</th>\n",
       "      <td>casual</td>\n",
       "      <td>classic_bike</td>\n",
       "      <td>2024-01-01</td>\n",
       "      <td>3252</td>\n",
       "    </tr>\n",
       "    <tr>\n",
       "      <th>1</th>\n",
       "      <td>casual</td>\n",
       "      <td>classic_bike</td>\n",
       "      <td>2024-01-08</td>\n",
       "      <td>1855</td>\n",
       "    </tr>\n",
       "    <tr>\n",
       "      <th>2</th>\n",
       "      <td>casual</td>\n",
       "      <td>classic_bike</td>\n",
       "      <td>2024-01-15</td>\n",
       "      <td>1137</td>\n",
       "    </tr>\n",
       "    <tr>\n",
       "      <th>3</th>\n",
       "      <td>casual</td>\n",
       "      <td>classic_bike</td>\n",
       "      <td>2024-01-22</td>\n",
       "      <td>2435</td>\n",
       "    </tr>\n",
       "    <tr>\n",
       "      <th>4</th>\n",
       "      <td>casual</td>\n",
       "      <td>classic_bike</td>\n",
       "      <td>2024-01-29</td>\n",
       "      <td>5396</td>\n",
       "    </tr>\n",
       "  </tbody>\n",
       "</table>\n",
       "</div>"
      ],
      "text/plain": [
       "  member_casual rideable_type  week_start  count\n",
       "0        casual  classic_bike  2024-01-01   3252\n",
       "1        casual  classic_bike  2024-01-08   1855\n",
       "2        casual  classic_bike  2024-01-15   1137\n",
       "3        casual  classic_bike  2024-01-22   2435\n",
       "4        casual  classic_bike  2024-01-29   5396"
      ]
     },
     "execution_count": 616,
     "metadata": {},
     "output_type": "execute_result"
    }
   ],
   "source": [
    "ride_member_year_count_df = (\n",
    "    bike_ebike_df\n",
    "    .value_counts(['member_casual', 'rideable_type', 'week_start', ])\n",
    "    .sort_index()\n",
    "    .reset_index(name='count')\n",
    ")\n",
    "\n",
    "ride_member_year_count_df.head()"
   ]
  },
  {
   "cell_type": "code",
   "execution_count": 617,
   "id": "32872a83",
   "metadata": {},
   "outputs": [
    {
     "data": {
      "text/html": [
       "<div>\n",
       "<style scoped>\n",
       "    .dataframe tbody tr th:only-of-type {\n",
       "        vertical-align: middle;\n",
       "    }\n",
       "\n",
       "    .dataframe tbody tr th {\n",
       "        vertical-align: top;\n",
       "    }\n",
       "\n",
       "    .dataframe thead th {\n",
       "        text-align: right;\n",
       "    }\n",
       "</style>\n",
       "<table border=\"1\" class=\"dataframe\">\n",
       "  <thead>\n",
       "    <tr style=\"text-align: right;\">\n",
       "      <th></th>\n",
       "      <th>subscription_rideable_type</th>\n",
       "      <th>week_start</th>\n",
       "      <th>count</th>\n",
       "    </tr>\n",
       "  </thead>\n",
       "  <tbody>\n",
       "    <tr>\n",
       "      <th>0</th>\n",
       "      <td>casual_classic_bike</td>\n",
       "      <td>2024-01-01</td>\n",
       "      <td>3252</td>\n",
       "    </tr>\n",
       "    <tr>\n",
       "      <th>1</th>\n",
       "      <td>casual_classic_bike</td>\n",
       "      <td>2024-01-08</td>\n",
       "      <td>1855</td>\n",
       "    </tr>\n",
       "    <tr>\n",
       "      <th>2</th>\n",
       "      <td>casual_classic_bike</td>\n",
       "      <td>2024-01-15</td>\n",
       "      <td>1137</td>\n",
       "    </tr>\n",
       "    <tr>\n",
       "      <th>3</th>\n",
       "      <td>casual_classic_bike</td>\n",
       "      <td>2024-01-22</td>\n",
       "      <td>2435</td>\n",
       "    </tr>\n",
       "    <tr>\n",
       "      <th>4</th>\n",
       "      <td>casual_classic_bike</td>\n",
       "      <td>2024-01-29</td>\n",
       "      <td>5396</td>\n",
       "    </tr>\n",
       "  </tbody>\n",
       "</table>\n",
       "</div>"
      ],
      "text/plain": [
       "  subscription_rideable_type  week_start  count\n",
       "0        casual_classic_bike  2024-01-01   3252\n",
       "1        casual_classic_bike  2024-01-08   1855\n",
       "2        casual_classic_bike  2024-01-15   1137\n",
       "3        casual_classic_bike  2024-01-22   2435\n",
       "4        casual_classic_bike  2024-01-29   5396"
      ]
     },
     "execution_count": 617,
     "metadata": {},
     "output_type": "execute_result"
    }
   ],
   "source": [
    "subscription_rideable_type = ride_member_year_count_df['member_casual'].astype(str) + '_' + ride_member_year_count_df['rideable_type'].astype(str)\n",
    "ride_member_year_count_df.insert(0, 'subscription_rideable_type', subscription_rideable_type)\n",
    "ride_member_year_count_df.astype({'subscription_rideable_type': 'category'})\n",
    "\n",
    "ride_member_year_count_df = ride_member_year_count_df.drop(columns=['member_casual', 'rideable_type'])\n",
    "ride_member_year_count_df.head()"
   ]
  },
  {
   "cell_type": "code",
   "execution_count": 618,
   "id": "425b4da9",
   "metadata": {},
   "outputs": [
    {
     "data": {
      "application/vnd.plotly.v1+json": {
       "config": {
        "plotlyServerURL": "https://plot.ly"
       },
       "data": [
        {
         "hovertemplate": "subscription_rideable_type=casual_classic_bike<br>variable=count<br>week_start=%{x}<br>value=%{y}<extra></extra>",
         "legendgroup": "casual_classic_bike",
         "line": {
          "color": "rgb(90, 90, 255)",
          "dash": "solid"
         },
         "marker": {
          "symbol": "circle"
         },
         "mode": "lines",
         "name": "Casual Classic Bike",
         "orientation": "v",
         "showlegend": true,
         "type": "scatter",
         "x": [
          "2024-01-01",
          "2024-01-08",
          "2024-01-15",
          "2024-01-22",
          "2024-01-29",
          "2024-02-05",
          "2024-02-12",
          "2024-02-19",
          "2024-02-26",
          "2024-03-04",
          "2024-03-11",
          "2024-03-18",
          "2024-03-25",
          "2024-04-01",
          "2024-04-08",
          "2024-04-15",
          "2024-04-22",
          "2024-04-29",
          "2024-05-06",
          "2024-05-13",
          "2024-05-20",
          "2024-05-27",
          "2024-06-03",
          "2024-06-10",
          "2024-06-17",
          "2024-06-24",
          "2024-07-01",
          "2024-07-08",
          "2024-07-15",
          "2024-07-22",
          "2024-07-29",
          "2024-08-05",
          "2024-08-12",
          "2024-08-19",
          "2024-08-26",
          "2024-09-02",
          "2024-09-09",
          "2024-09-16",
          "2024-09-23",
          "2024-09-30",
          "2024-10-07",
          "2024-10-14",
          "2024-10-21",
          "2024-10-28",
          "2024-11-04",
          "2024-11-11",
          "2024-11-18",
          "2024-11-25",
          "2024-12-02",
          "2024-12-09",
          "2024-12-16",
          "2024-12-23",
          "2024-12-30"
         ],
         "xaxis": "x",
         "y": {
          "bdata": "tAwAAD8HAABxBAAAgwkAABQVAABHGwAAOBIAAI8cAADmLwAAIRsAALMtAABOEwAA3R8AAJgUAACTTgAA3S8AAHM6AAANVAAAZFoAABZyAABncgAAD2AAAJN3AACwhQAAx48AAG59AADmlwAAbHoAADiYAACikAAAApUAAKGWAADTagAAQHoAAEqFAAAXdAAA/XkAAHdqAACvUAAAEGEAAGx5AAARSwAAwEUAALU1AABPKgAAUSwAAKgcAAA2DQAAdw8AACQMAAAMCgAA9QgAADADAAA=",
          "dtype": "i4"
         },
         "yaxis": "y"
        },
        {
         "hovertemplate": "subscription_rideable_type=casual_electric_bike<br>variable=count<br>week_start=%{x}<br>value=%{y}<extra></extra>",
         "legendgroup": "casual_electric_bike",
         "line": {
          "color": "rgb(30, 30, 255)",
          "dash": "solid"
         },
         "marker": {
          "symbol": "circle"
         },
         "mode": "lines",
         "name": "Casual Electric Bike",
         "orientation": "v",
         "showlegend": true,
         "type": "scatter",
         "x": [
          "2024-01-01",
          "2024-01-08",
          "2024-01-15",
          "2024-01-22",
          "2024-01-29",
          "2024-02-05",
          "2024-02-12",
          "2024-02-19",
          "2024-02-26",
          "2024-03-04",
          "2024-03-11",
          "2024-03-18",
          "2024-03-25",
          "2024-04-01",
          "2024-04-08",
          "2024-04-15",
          "2024-04-22",
          "2024-04-29",
          "2024-05-06",
          "2024-05-13",
          "2024-05-20",
          "2024-05-27",
          "2024-06-03",
          "2024-06-10",
          "2024-06-17",
          "2024-06-24",
          "2024-07-01",
          "2024-07-08",
          "2024-07-15",
          "2024-07-22",
          "2024-07-29",
          "2024-08-05",
          "2024-08-12",
          "2024-08-19",
          "2024-08-26",
          "2024-09-02",
          "2024-09-09",
          "2024-09-16",
          "2024-09-23",
          "2024-09-30",
          "2024-10-07",
          "2024-10-14",
          "2024-10-21",
          "2024-10-28",
          "2024-11-04",
          "2024-11-11",
          "2024-11-18",
          "2024-11-25",
          "2024-12-02",
          "2024-12-09",
          "2024-12-16",
          "2024-12-23",
          "2024-12-30"
         ],
         "xaxis": "x",
         "y": {
          "bdata": "kgoXBk0CgAaqBjEI6gdEDdwTWRARGhYQSRVnEUorESI6JHwq3iciLgswYjCZPBk8e0MLO7xG9jkeRHg//EWzRbs8GkyOSFFAo0McP6k4PkClPsMxeC/bKvsicB7HFaYLFxD/DREN3QoPBA==",
          "dtype": "i2"
         },
         "yaxis": "y"
        },
        {
         "hovertemplate": "subscription_rideable_type=member_classic_bike<br>variable=count<br>week_start=%{x}<br>value=%{y}<extra></extra>",
         "legendgroup": "member_classic_bike",
         "line": {
          "color": "rgb(255, 90, 90)",
          "dash": "solid"
         },
         "marker": {
          "symbol": "circle"
         },
         "mode": "lines",
         "name": "Member Classic Bike",
         "orientation": "v",
         "showlegend": true,
         "type": "scatter",
         "x": [
          "2024-01-01",
          "2024-01-08",
          "2024-01-15",
          "2024-01-22",
          "2024-01-29",
          "2024-02-05",
          "2024-02-12",
          "2024-02-19",
          "2024-02-26",
          "2024-03-04",
          "2024-03-11",
          "2024-03-18",
          "2024-03-25",
          "2024-04-01",
          "2024-04-08",
          "2024-04-15",
          "2024-04-22",
          "2024-04-29",
          "2024-05-06",
          "2024-05-13",
          "2024-05-20",
          "2024-05-27",
          "2024-06-03",
          "2024-06-10",
          "2024-06-17",
          "2024-06-24",
          "2024-07-01",
          "2024-07-08",
          "2024-07-15",
          "2024-07-22",
          "2024-07-29",
          "2024-08-05",
          "2024-08-12",
          "2024-08-19",
          "2024-08-26",
          "2024-09-02",
          "2024-09-09",
          "2024-09-16",
          "2024-09-23",
          "2024-09-30",
          "2024-10-07",
          "2024-10-14",
          "2024-10-21",
          "2024-10-28",
          "2024-11-04",
          "2024-11-11",
          "2024-11-18",
          "2024-11-25",
          "2024-12-02",
          "2024-12-09",
          "2024-12-16",
          "2024-12-23",
          "2024-12-30"
         ],
         "xaxis": "x",
         "y": {
          "bdata": "ij8AAJk1AACkIgAARjoAAItnAAAVbwAAxlsAAJhoAACXeAAA5F0AAG9sAAD/UQAA1VoAAE9HAAARjQAA73wAAK18AAATmQAAMJsAANmyAAA/sQAAdZcAAMy3AACTugAAbrkAAPKuAAAGowAAELIAALzHAAAHwwAAzbwAAMy/AAD5qgAAzrIAAKitAABYrgAAT8IAACe1AABynQAAeK4AADaxAADfhgAAxZ0AAPaKAABDdQAAPX0AADpeAAC5MAAACkUAABs+AAA4NAAAGhoAAEUKAAA=",
          "dtype": "i4"
         },
         "yaxis": "y"
        },
        {
         "hovertemplate": "subscription_rideable_type=member_electric_bike<br>variable=count<br>week_start=%{x}<br>value=%{y}<extra></extra>",
         "legendgroup": "member_electric_bike",
         "line": {
          "color": "rgb(255, 30, 30)",
          "dash": "solid"
         },
         "marker": {
          "symbol": "circle"
         },
         "mode": "lines",
         "name": "Member Electric Bike",
         "orientation": "v",
         "showlegend": true,
         "type": "scatter",
         "x": [
          "2024-01-01",
          "2024-01-08",
          "2024-01-15",
          "2024-01-22",
          "2024-01-29",
          "2024-02-05",
          "2024-02-12",
          "2024-02-19",
          "2024-02-26",
          "2024-03-04",
          "2024-03-11",
          "2024-03-18",
          "2024-03-25",
          "2024-04-01",
          "2024-04-08",
          "2024-04-15",
          "2024-04-22",
          "2024-04-29",
          "2024-05-06",
          "2024-05-13",
          "2024-05-20",
          "2024-05-27",
          "2024-06-03",
          "2024-06-10",
          "2024-06-17",
          "2024-06-24",
          "2024-07-01",
          "2024-07-08",
          "2024-07-15",
          "2024-07-22",
          "2024-07-29",
          "2024-08-05",
          "2024-08-12",
          "2024-08-19",
          "2024-08-26",
          "2024-09-02",
          "2024-09-09",
          "2024-09-16",
          "2024-09-23",
          "2024-09-30",
          "2024-10-07",
          "2024-10-14",
          "2024-10-21",
          "2024-10-28",
          "2024-11-04",
          "2024-11-11",
          "2024-11-18",
          "2024-11-25",
          "2024-12-02",
          "2024-12-09",
          "2024-12-16",
          "2024-12-23",
          "2024-12-30"
         ],
         "xaxis": "x",
         "y": {
          "bdata": "EiQeHr8JWhozGYsatxwbKBAvyC9TNwIybze4LqpJJkV8SKtL0EOrSyNK0Ul+VjNUWlbTULRND1PZW+RZU1wYXlhYu2b/YLNZ72elYTRe6Wf9YblUaVg1V+ZN4katOWcg+zELLrMsJBcrCQ==",
          "dtype": "i2"
         },
         "yaxis": "y"
        }
       ],
       "layout": {
        "legend": {
         "title": {
          "text": "Ride type"
         },
         "tracegroupgap": 0
        },
        "margin": {
         "pad": 10,
         "t": 60
        },
        "template": {
         "data": {
          "bar": [
           {
            "error_x": {
             "color": "#f2f5fa"
            },
            "error_y": {
             "color": "#f2f5fa"
            },
            "marker": {
             "line": {
              "color": "rgb(17,17,17)",
              "width": 0.5
             },
             "pattern": {
              "fillmode": "overlay",
              "size": 10,
              "solidity": 0.2
             }
            },
            "type": "bar"
           }
          ],
          "barpolar": [
           {
            "marker": {
             "line": {
              "color": "rgb(17,17,17)",
              "width": 0.5
             },
             "pattern": {
              "fillmode": "overlay",
              "size": 10,
              "solidity": 0.2
             }
            },
            "type": "barpolar"
           }
          ],
          "carpet": [
           {
            "aaxis": {
             "endlinecolor": "#A2B1C6",
             "gridcolor": "#506784",
             "linecolor": "#506784",
             "minorgridcolor": "#506784",
             "startlinecolor": "#A2B1C6"
            },
            "baxis": {
             "endlinecolor": "#A2B1C6",
             "gridcolor": "#506784",
             "linecolor": "#506784",
             "minorgridcolor": "#506784",
             "startlinecolor": "#A2B1C6"
            },
            "type": "carpet"
           }
          ],
          "choropleth": [
           {
            "colorbar": {
             "outlinewidth": 0,
             "ticks": ""
            },
            "type": "choropleth"
           }
          ],
          "contour": [
           {
            "colorbar": {
             "outlinewidth": 0,
             "ticks": ""
            },
            "colorscale": [
             [
              0,
              "#0d0887"
             ],
             [
              0.1111111111111111,
              "#46039f"
             ],
             [
              0.2222222222222222,
              "#7201a8"
             ],
             [
              0.3333333333333333,
              "#9c179e"
             ],
             [
              0.4444444444444444,
              "#bd3786"
             ],
             [
              0.5555555555555556,
              "#d8576b"
             ],
             [
              0.6666666666666666,
              "#ed7953"
             ],
             [
              0.7777777777777778,
              "#fb9f3a"
             ],
             [
              0.8888888888888888,
              "#fdca26"
             ],
             [
              1,
              "#f0f921"
             ]
            ],
            "type": "contour"
           }
          ],
          "contourcarpet": [
           {
            "colorbar": {
             "outlinewidth": 0,
             "ticks": ""
            },
            "type": "contourcarpet"
           }
          ],
          "heatmap": [
           {
            "colorbar": {
             "outlinewidth": 0,
             "ticks": ""
            },
            "colorscale": [
             [
              0,
              "#0d0887"
             ],
             [
              0.1111111111111111,
              "#46039f"
             ],
             [
              0.2222222222222222,
              "#7201a8"
             ],
             [
              0.3333333333333333,
              "#9c179e"
             ],
             [
              0.4444444444444444,
              "#bd3786"
             ],
             [
              0.5555555555555556,
              "#d8576b"
             ],
             [
              0.6666666666666666,
              "#ed7953"
             ],
             [
              0.7777777777777778,
              "#fb9f3a"
             ],
             [
              0.8888888888888888,
              "#fdca26"
             ],
             [
              1,
              "#f0f921"
             ]
            ],
            "type": "heatmap"
           }
          ],
          "histogram": [
           {
            "marker": {
             "pattern": {
              "fillmode": "overlay",
              "size": 10,
              "solidity": 0.2
             }
            },
            "type": "histogram"
           }
          ],
          "histogram2d": [
           {
            "colorbar": {
             "outlinewidth": 0,
             "ticks": ""
            },
            "colorscale": [
             [
              0,
              "#0d0887"
             ],
             [
              0.1111111111111111,
              "#46039f"
             ],
             [
              0.2222222222222222,
              "#7201a8"
             ],
             [
              0.3333333333333333,
              "#9c179e"
             ],
             [
              0.4444444444444444,
              "#bd3786"
             ],
             [
              0.5555555555555556,
              "#d8576b"
             ],
             [
              0.6666666666666666,
              "#ed7953"
             ],
             [
              0.7777777777777778,
              "#fb9f3a"
             ],
             [
              0.8888888888888888,
              "#fdca26"
             ],
             [
              1,
              "#f0f921"
             ]
            ],
            "type": "histogram2d"
           }
          ],
          "histogram2dcontour": [
           {
            "colorbar": {
             "outlinewidth": 0,
             "ticks": ""
            },
            "colorscale": [
             [
              0,
              "#0d0887"
             ],
             [
              0.1111111111111111,
              "#46039f"
             ],
             [
              0.2222222222222222,
              "#7201a8"
             ],
             [
              0.3333333333333333,
              "#9c179e"
             ],
             [
              0.4444444444444444,
              "#bd3786"
             ],
             [
              0.5555555555555556,
              "#d8576b"
             ],
             [
              0.6666666666666666,
              "#ed7953"
             ],
             [
              0.7777777777777778,
              "#fb9f3a"
             ],
             [
              0.8888888888888888,
              "#fdca26"
             ],
             [
              1,
              "#f0f921"
             ]
            ],
            "type": "histogram2dcontour"
           }
          ],
          "mesh3d": [
           {
            "colorbar": {
             "outlinewidth": 0,
             "ticks": ""
            },
            "type": "mesh3d"
           }
          ],
          "parcoords": [
           {
            "line": {
             "colorbar": {
              "outlinewidth": 0,
              "ticks": ""
             }
            },
            "type": "parcoords"
           }
          ],
          "pie": [
           {
            "automargin": true,
            "type": "pie"
           }
          ],
          "scatter": [
           {
            "marker": {
             "line": {
              "color": "#283442"
             }
            },
            "type": "scatter"
           }
          ],
          "scatter3d": [
           {
            "line": {
             "colorbar": {
              "outlinewidth": 0,
              "ticks": ""
             }
            },
            "marker": {
             "colorbar": {
              "outlinewidth": 0,
              "ticks": ""
             }
            },
            "type": "scatter3d"
           }
          ],
          "scattercarpet": [
           {
            "marker": {
             "colorbar": {
              "outlinewidth": 0,
              "ticks": ""
             }
            },
            "type": "scattercarpet"
           }
          ],
          "scattergeo": [
           {
            "marker": {
             "colorbar": {
              "outlinewidth": 0,
              "ticks": ""
             }
            },
            "type": "scattergeo"
           }
          ],
          "scattergl": [
           {
            "marker": {
             "line": {
              "color": "#283442"
             }
            },
            "type": "scattergl"
           }
          ],
          "scattermap": [
           {
            "marker": {
             "colorbar": {
              "outlinewidth": 0,
              "ticks": ""
             }
            },
            "type": "scattermap"
           }
          ],
          "scattermapbox": [
           {
            "marker": {
             "colorbar": {
              "outlinewidth": 0,
              "ticks": ""
             }
            },
            "type": "scattermapbox"
           }
          ],
          "scatterpolar": [
           {
            "marker": {
             "colorbar": {
              "outlinewidth": 0,
              "ticks": ""
             }
            },
            "type": "scatterpolar"
           }
          ],
          "scatterpolargl": [
           {
            "marker": {
             "colorbar": {
              "outlinewidth": 0,
              "ticks": ""
             }
            },
            "type": "scatterpolargl"
           }
          ],
          "scatterternary": [
           {
            "marker": {
             "colorbar": {
              "outlinewidth": 0,
              "ticks": ""
             }
            },
            "type": "scatterternary"
           }
          ],
          "surface": [
           {
            "colorbar": {
             "outlinewidth": 0,
             "ticks": ""
            },
            "colorscale": [
             [
              0,
              "#0d0887"
             ],
             [
              0.1111111111111111,
              "#46039f"
             ],
             [
              0.2222222222222222,
              "#7201a8"
             ],
             [
              0.3333333333333333,
              "#9c179e"
             ],
             [
              0.4444444444444444,
              "#bd3786"
             ],
             [
              0.5555555555555556,
              "#d8576b"
             ],
             [
              0.6666666666666666,
              "#ed7953"
             ],
             [
              0.7777777777777778,
              "#fb9f3a"
             ],
             [
              0.8888888888888888,
              "#fdca26"
             ],
             [
              1,
              "#f0f921"
             ]
            ],
            "type": "surface"
           }
          ],
          "table": [
           {
            "cells": {
             "fill": {
              "color": "#506784"
             },
             "line": {
              "color": "rgb(17,17,17)"
             }
            },
            "header": {
             "fill": {
              "color": "#2a3f5f"
             },
             "line": {
              "color": "rgb(17,17,17)"
             }
            },
            "type": "table"
           }
          ]
         },
         "layout": {
          "annotationdefaults": {
           "arrowcolor": "#f2f5fa",
           "arrowhead": 0,
           "arrowwidth": 1
          },
          "autotypenumbers": "strict",
          "coloraxis": {
           "colorbar": {
            "outlinewidth": 0,
            "ticks": ""
           }
          },
          "colorscale": {
           "diverging": [
            [
             0,
             "#8e0152"
            ],
            [
             0.1,
             "#c51b7d"
            ],
            [
             0.2,
             "#de77ae"
            ],
            [
             0.3,
             "#f1b6da"
            ],
            [
             0.4,
             "#fde0ef"
            ],
            [
             0.5,
             "#f7f7f7"
            ],
            [
             0.6,
             "#e6f5d0"
            ],
            [
             0.7,
             "#b8e186"
            ],
            [
             0.8,
             "#7fbc41"
            ],
            [
             0.9,
             "#4d9221"
            ],
            [
             1,
             "#276419"
            ]
           ],
           "sequential": [
            [
             0,
             "#0d0887"
            ],
            [
             0.1111111111111111,
             "#46039f"
            ],
            [
             0.2222222222222222,
             "#7201a8"
            ],
            [
             0.3333333333333333,
             "#9c179e"
            ],
            [
             0.4444444444444444,
             "#bd3786"
            ],
            [
             0.5555555555555556,
             "#d8576b"
            ],
            [
             0.6666666666666666,
             "#ed7953"
            ],
            [
             0.7777777777777778,
             "#fb9f3a"
            ],
            [
             0.8888888888888888,
             "#fdca26"
            ],
            [
             1,
             "#f0f921"
            ]
           ],
           "sequentialminus": [
            [
             0,
             "#0d0887"
            ],
            [
             0.1111111111111111,
             "#46039f"
            ],
            [
             0.2222222222222222,
             "#7201a8"
            ],
            [
             0.3333333333333333,
             "#9c179e"
            ],
            [
             0.4444444444444444,
             "#bd3786"
            ],
            [
             0.5555555555555556,
             "#d8576b"
            ],
            [
             0.6666666666666666,
             "#ed7953"
            ],
            [
             0.7777777777777778,
             "#fb9f3a"
            ],
            [
             0.8888888888888888,
             "#fdca26"
            ],
            [
             1,
             "#f0f921"
            ]
           ]
          },
          "colorway": [
           "#636efa",
           "#EF553B",
           "#00cc96",
           "#ab63fa",
           "#FFA15A",
           "#19d3f3",
           "#FF6692",
           "#B6E880",
           "#FF97FF",
           "#FECB52"
          ],
          "font": {
           "color": "#f2f5fa"
          },
          "geo": {
           "bgcolor": "rgb(17,17,17)",
           "lakecolor": "rgb(17,17,17)",
           "landcolor": "rgb(17,17,17)",
           "showlakes": true,
           "showland": true,
           "subunitcolor": "#506784"
          },
          "hoverlabel": {
           "align": "left"
          },
          "hovermode": "closest",
          "mapbox": {
           "style": "dark"
          },
          "paper_bgcolor": "rgb(17,17,17)",
          "plot_bgcolor": "rgb(17,17,17)",
          "polar": {
           "angularaxis": {
            "gridcolor": "#506784",
            "linecolor": "#506784",
            "ticks": ""
           },
           "bgcolor": "rgb(17,17,17)",
           "radialaxis": {
            "gridcolor": "#506784",
            "linecolor": "#506784",
            "ticks": ""
           }
          },
          "scene": {
           "xaxis": {
            "backgroundcolor": "rgb(17,17,17)",
            "gridcolor": "#506784",
            "gridwidth": 2,
            "linecolor": "#506784",
            "showbackground": true,
            "ticks": "",
            "zerolinecolor": "#C8D4E3"
           },
           "yaxis": {
            "backgroundcolor": "rgb(17,17,17)",
            "gridcolor": "#506784",
            "gridwidth": 2,
            "linecolor": "#506784",
            "showbackground": true,
            "ticks": "",
            "zerolinecolor": "#C8D4E3"
           },
           "zaxis": {
            "backgroundcolor": "rgb(17,17,17)",
            "gridcolor": "#506784",
            "gridwidth": 2,
            "linecolor": "#506784",
            "showbackground": true,
            "ticks": "",
            "zerolinecolor": "#C8D4E3"
           }
          },
          "shapedefaults": {
           "line": {
            "color": "#f2f5fa"
           }
          },
          "sliderdefaults": {
           "bgcolor": "#C8D4E3",
           "bordercolor": "rgb(17,17,17)",
           "borderwidth": 1,
           "tickwidth": 0
          },
          "ternary": {
           "aaxis": {
            "gridcolor": "#506784",
            "linecolor": "#506784",
            "ticks": ""
           },
           "baxis": {
            "gridcolor": "#506784",
            "linecolor": "#506784",
            "ticks": ""
           },
           "bgcolor": "rgb(17,17,17)",
           "caxis": {
            "gridcolor": "#506784",
            "linecolor": "#506784",
            "ticks": ""
           }
          },
          "title": {
           "x": 0.05
          },
          "updatemenudefaults": {
           "bgcolor": "#506784",
           "borderwidth": 0
          },
          "xaxis": {
           "automargin": true,
           "gridcolor": "#283442",
           "linecolor": "#506784",
           "ticks": "",
           "title": {
            "standoff": 15
           },
           "zerolinecolor": "#283442",
           "zerolinewidth": 2
          },
          "yaxis": {
           "automargin": true,
           "gridcolor": "#283442",
           "linecolor": "#506784",
           "ticks": "",
           "title": {
            "standoff": 15
           },
           "zerolinecolor": "#283442",
           "zerolinewidth": 2
          }
         }
        },
        "title": {
         "text": "Users throughout the Year by Ride and Subscription"
        },
        "width": 1000,
        "xaxis": {
         "anchor": "y",
         "domain": [
          0,
          1
         ],
         "dtick": "M1",
         "tickformat": "%b",
         "title": {
          "text": "Months"
         }
        },
        "yaxis": {
         "anchor": "x",
         "domain": [
          0,
          1
         ],
         "dtick": 10000,
         "range": [
          0,
          null
         ],
         "side": "left",
         "title": {
          "text": "User count"
         }
        }
       }
      }
     },
     "metadata": {},
     "output_type": "display_data"
    }
   ],
   "source": [
    "legend_name = {\n",
    "    'casual_classic_bike': 'Casual Classic Bike',\n",
    "    'member_classic_bike': 'Member Classic Bike',\n",
    "    'casual_electric_bike': 'Casual Electric Bike',\n",
    "    'member_electric_bike': 'Member Electric Bike',\n",
    "}\n",
    "\n",
    "ride_bike_year_line = px.line(\n",
    "    ride_member_year_count_df,\n",
    "    x='week_start',\n",
    "    y=['count'],\n",
    "    color='subscription_rideable_type',\n",
    "    width=1000,\n",
    "    template='plotly_dark',\n",
    "    color_discrete_sequence=[\n",
    "        'rgb(90, 90, 255)',  # Casual Classic Bike\n",
    "        'rgb(30, 30, 255)',  # Casual Electric Bike\n",
    "        'rgb(255, 90, 90)',  # Member Classic Bike\n",
    "        'rgb(255, 30, 30)',  # Member Electric Bike\n",
    "    ]\n",
    ")\n",
    "\n",
    "ride_bike_year_line.update_layout(\n",
    "    xaxis_title='Months', \n",
    "    yaxis_title='User count', \n",
    "    title='Users throughout the Year by Ride and Subscription',\n",
    "    legend_title_text='Ride type',\n",
    "    yaxis=dict(\n",
    "        range=[0, None],\n",
    "        dtick=10000,\n",
    "        side='left'\n",
    "    ),\n",
    "    xaxis=dict(\n",
    "        dtick=\"M1\",\n",
    "        tickformat=\"%b\",\n",
    "    ),\n",
    "    margin=dict(\n",
    "        pad=10\n",
    "    ),\n",
    ")\n",
    "\n",
    "ride_bike_year_line.for_each_trace(lambda x: x.update(name=legend_name[x.name]))\n",
    "\n",
    "ride_bike_year_line.show()"
   ]
  },
  {
   "cell_type": "markdown",
   "id": "4f93b410",
   "metadata": {},
   "source": [
    "According to the graph above:\n",
    "* No additional trends have been noticed compared to the last graphs."
   ]
  },
  {
   "cell_type": "markdown",
   "id": "5bd40701",
   "metadata": {},
   "source": [
    "### Number of Users by Stations"
   ]
  },
  {
   "cell_type": "code",
   "execution_count": 619,
   "id": "9d333ee7",
   "metadata": {},
   "outputs": [
    {
     "data": {
      "text/html": [
       "<div>\n",
       "<style scoped>\n",
       "    .dataframe tbody tr th:only-of-type {\n",
       "        vertical-align: middle;\n",
       "    }\n",
       "\n",
       "    .dataframe tbody tr th {\n",
       "        vertical-align: top;\n",
       "    }\n",
       "\n",
       "    .dataframe thead th {\n",
       "        text-align: right;\n",
       "    }\n",
       "</style>\n",
       "<table border=\"1\" class=\"dataframe\">\n",
       "  <thead>\n",
       "    <tr style=\"text-align: right;\">\n",
       "      <th></th>\n",
       "      <th>start_station_name</th>\n",
       "      <th>count</th>\n",
       "    </tr>\n",
       "  </thead>\n",
       "  <tbody>\n",
       "    <tr>\n",
       "      <th>0</th>\n",
       "      <td>Streeter Dr &amp; Grand Ave</td>\n",
       "      <td>62148</td>\n",
       "    </tr>\n",
       "    <tr>\n",
       "      <th>1</th>\n",
       "      <td>DuSable Lake Shore Dr &amp; Monroe St</td>\n",
       "      <td>41385</td>\n",
       "    </tr>\n",
       "    <tr>\n",
       "      <th>2</th>\n",
       "      <td>DuSable Lake Shore Dr &amp; North Blvd</td>\n",
       "      <td>36587</td>\n",
       "    </tr>\n",
       "    <tr>\n",
       "      <th>3</th>\n",
       "      <td>Michigan Ave &amp; Oak St</td>\n",
       "      <td>36263</td>\n",
       "    </tr>\n",
       "    <tr>\n",
       "      <th>4</th>\n",
       "      <td>Kingsbury St &amp; Kinzie St</td>\n",
       "      <td>35771</td>\n",
       "    </tr>\n",
       "  </tbody>\n",
       "</table>\n",
       "</div>"
      ],
      "text/plain": [
       "                   start_station_name  count\n",
       "0             Streeter Dr & Grand Ave  62148\n",
       "1   DuSable Lake Shore Dr & Monroe St  41385\n",
       "2  DuSable Lake Shore Dr & North Blvd  36587\n",
       "3               Michigan Ave & Oak St  36263\n",
       "4            Kingsbury St & Kinzie St  35771"
      ]
     },
     "execution_count": 619,
     "metadata": {},
     "output_type": "execute_result"
    }
   ],
   "source": [
    "station_df = (\n",
    "    analysis_df\n",
    "    .value_counts(['start_station_name'])\n",
    "    .reset_index()\n",
    ")\n",
    "\n",
    "most_popular_stations_df = station_df.head(20)\n",
    "most_popular_stations_df.head(5)"
   ]
  },
  {
   "cell_type": "code",
   "execution_count": 620,
   "id": "64a86eb4",
   "metadata": {},
   "outputs": [
    {
     "data": {
      "text/html": [
       "<div>\n",
       "<style scoped>\n",
       "    .dataframe tbody tr th:only-of-type {\n",
       "        vertical-align: middle;\n",
       "    }\n",
       "\n",
       "    .dataframe tbody tr th {\n",
       "        vertical-align: top;\n",
       "    }\n",
       "\n",
       "    .dataframe thead th {\n",
       "        text-align: right;\n",
       "    }\n",
       "</style>\n",
       "<table border=\"1\" class=\"dataframe\">\n",
       "  <thead>\n",
       "    <tr style=\"text-align: right;\">\n",
       "      <th></th>\n",
       "      <th>start_station_name</th>\n",
       "      <th>member_casual</th>\n",
       "      <th>count</th>\n",
       "    </tr>\n",
       "  </thead>\n",
       "  <tbody>\n",
       "    <tr>\n",
       "      <th>0</th>\n",
       "      <td>Streeter Dr &amp; Grand Ave</td>\n",
       "      <td>casual</td>\n",
       "      <td>48223</td>\n",
       "    </tr>\n",
       "    <tr>\n",
       "      <th>1</th>\n",
       "      <td>Streeter Dr &amp; Grand Ave</td>\n",
       "      <td>member</td>\n",
       "      <td>13925</td>\n",
       "    </tr>\n",
       "    <tr>\n",
       "      <th>2</th>\n",
       "      <td>DuSable Lake Shore Dr &amp; Monroe St</td>\n",
       "      <td>casual</td>\n",
       "      <td>32115</td>\n",
       "    </tr>\n",
       "    <tr>\n",
       "      <th>3</th>\n",
       "      <td>DuSable Lake Shore Dr &amp; Monroe St</td>\n",
       "      <td>member</td>\n",
       "      <td>9270</td>\n",
       "    </tr>\n",
       "    <tr>\n",
       "      <th>4</th>\n",
       "      <td>DuSable Lake Shore Dr &amp; North Blvd</td>\n",
       "      <td>casual</td>\n",
       "      <td>21326</td>\n",
       "    </tr>\n",
       "    <tr>\n",
       "      <th>5</th>\n",
       "      <td>DuSable Lake Shore Dr &amp; North Blvd</td>\n",
       "      <td>member</td>\n",
       "      <td>15261</td>\n",
       "    </tr>\n",
       "    <tr>\n",
       "      <th>6</th>\n",
       "      <td>Michigan Ave &amp; Oak St</td>\n",
       "      <td>casual</td>\n",
       "      <td>23269</td>\n",
       "    </tr>\n",
       "    <tr>\n",
       "      <th>7</th>\n",
       "      <td>Michigan Ave &amp; Oak St</td>\n",
       "      <td>member</td>\n",
       "      <td>12994</td>\n",
       "    </tr>\n",
       "    <tr>\n",
       "      <th>8</th>\n",
       "      <td>Kingsbury St &amp; Kinzie St</td>\n",
       "      <td>member</td>\n",
       "      <td>26749</td>\n",
       "    </tr>\n",
       "    <tr>\n",
       "      <th>9</th>\n",
       "      <td>Kingsbury St &amp; Kinzie St</td>\n",
       "      <td>casual</td>\n",
       "      <td>9022</td>\n",
       "    </tr>\n",
       "  </tbody>\n",
       "</table>\n",
       "</div>"
      ],
      "text/plain": [
       "                   start_station_name member_casual  count\n",
       "0             Streeter Dr & Grand Ave        casual  48223\n",
       "1             Streeter Dr & Grand Ave        member  13925\n",
       "2   DuSable Lake Shore Dr & Monroe St        casual  32115\n",
       "3   DuSable Lake Shore Dr & Monroe St        member   9270\n",
       "4  DuSable Lake Shore Dr & North Blvd        casual  21326\n",
       "5  DuSable Lake Shore Dr & North Blvd        member  15261\n",
       "6               Michigan Ave & Oak St        casual  23269\n",
       "7               Michigan Ave & Oak St        member  12994\n",
       "8            Kingsbury St & Kinzie St        member  26749\n",
       "9            Kingsbury St & Kinzie St        casual   9022"
      ]
     },
     "execution_count": 620,
     "metadata": {},
     "output_type": "execute_result"
    }
   ],
   "source": [
    "most_popular_stations = most_popular_stations_df['start_station_name'].reset_index(drop=True).to_list()\n",
    "\n",
    "most_popular_stations_df = (\n",
    "    analysis_df\n",
    "    .query('start_station_name in @most_popular_stations')\n",
    "    .value_counts(['start_station_name', 'member_casual'])\n",
    "    .reset_index()\n",
    ")\n",
    "\n",
    "most_popular_stations_df['start_station_name'] = pd.Categorical(most_popular_stations_df['start_station_name'], categories=most_popular_stations, ordered=True)\n",
    "most_popular_stations_df = most_popular_stations_df.sort_values('start_station_name').reset_index(drop=True)\n",
    "\n",
    "most_popular_stations_df.head(10)"
   ]
  },
  {
   "cell_type": "code",
   "execution_count": 624,
   "id": "f232ce34",
   "metadata": {},
   "outputs": [
    {
     "data": {
      "application/vnd.plotly.v1+json": {
       "config": {
        "plotlyServerURL": "https://plot.ly"
       },
       "data": [
        {
         "hovertemplate": "member_casual=casual<br>start_station_name=%{x}<br>count=%{y}<extra></extra>",
         "legendgroup": "casual",
         "marker": {
          "color": "silver",
          "pattern": {
           "shape": ""
          }
         },
         "name": "Casual",
         "orientation": "v",
         "showlegend": true,
         "textposition": "auto",
         "type": "bar",
         "x": [
          "Streeter Dr & Grand Ave",
          "DuSable Lake Shore Dr & Monroe St",
          "DuSable Lake Shore Dr & North Blvd",
          "Michigan Ave & Oak St",
          "Kingsbury St & Kinzie St",
          "Clark St & Elm St",
          "Clinton St & Washington Blvd",
          "Millennium Park",
          "Clinton St & Madison St",
          "Wells St & Concord Ln",
          "Theater on the Lake",
          "Wells St & Elm St",
          "Dearborn St & Erie St",
          "Shedd Aquarium",
          "Indiana Ave & Roosevelt Rd",
          "Clinton St & Jackson Blvd",
          "State St & Chicago Ave",
          "Canal St & Madison St",
          "Wabash Ave & Grand Ave",
          "Dusable Harbor"
         ],
         "xaxis": "x",
         "y": {
          "bdata": "X7wAAHN9AABOUwAA5VoAAD4jAACCJQAAlxcAAENRAAApHAAAdyYAABE8AABEIgAATB0AAG5OAAAIKwAAsBUAADQbAAD/GAAAQiYAAF5DAAA=",
          "dtype": "i4"
         },
         "yaxis": "y"
        },
        {
         "hovertemplate": "member_casual=member<br>start_station_name=%{x}<br>count=%{y}<extra></extra>",
         "legendgroup": "member",
         "marker": {
          "color": "goldenrod",
          "pattern": {
           "shape": ""
          }
         },
         "name": "Member",
         "orientation": "v",
         "showlegend": true,
         "textposition": "auto",
         "type": "bar",
         "x": [
          "Streeter Dr & Grand Ave",
          "DuSable Lake Shore Dr & Monroe St",
          "DuSable Lake Shore Dr & North Blvd",
          "Michigan Ave & Oak St",
          "Kingsbury St & Kinzie St",
          "Clark St & Elm St",
          "Clinton St & Washington Blvd",
          "Millennium Park",
          "Clinton St & Madison St",
          "Wells St & Concord Ln",
          "Theater on the Lake",
          "Wells St & Elm St",
          "Dearborn St & Erie St",
          "Shedd Aquarium",
          "Indiana Ave & Roosevelt Rd",
          "Clinton St & Jackson Blvd",
          "State St & Chicago Ave",
          "Canal St & Madison St",
          "Wabash Ave & Grand Ave",
          "Dusable Harbor"
         ],
         "xaxis": "x",
         "y": {
          "bdata": "ZTY2JJ07wjJ9aClXEWLTJUhYukbKLu1FdUTBEXEzq0jQQZxCJDVaFw==",
          "dtype": "i2"
         },
         "yaxis": "y"
        }
       ],
       "layout": {
        "barmode": "relative",
        "legend": {
         "title": {
          "text": "Subscription"
         },
         "tracegroupgap": 0
        },
        "margin": {
         "pad": 10,
         "t": 60
        },
        "template": {
         "data": {
          "bar": [
           {
            "error_x": {
             "color": "#f2f5fa"
            },
            "error_y": {
             "color": "#f2f5fa"
            },
            "marker": {
             "line": {
              "color": "rgb(17,17,17)",
              "width": 0.5
             },
             "pattern": {
              "fillmode": "overlay",
              "size": 10,
              "solidity": 0.2
             }
            },
            "type": "bar"
           }
          ],
          "barpolar": [
           {
            "marker": {
             "line": {
              "color": "rgb(17,17,17)",
              "width": 0.5
             },
             "pattern": {
              "fillmode": "overlay",
              "size": 10,
              "solidity": 0.2
             }
            },
            "type": "barpolar"
           }
          ],
          "carpet": [
           {
            "aaxis": {
             "endlinecolor": "#A2B1C6",
             "gridcolor": "#506784",
             "linecolor": "#506784",
             "minorgridcolor": "#506784",
             "startlinecolor": "#A2B1C6"
            },
            "baxis": {
             "endlinecolor": "#A2B1C6",
             "gridcolor": "#506784",
             "linecolor": "#506784",
             "minorgridcolor": "#506784",
             "startlinecolor": "#A2B1C6"
            },
            "type": "carpet"
           }
          ],
          "choropleth": [
           {
            "colorbar": {
             "outlinewidth": 0,
             "ticks": ""
            },
            "type": "choropleth"
           }
          ],
          "contour": [
           {
            "colorbar": {
             "outlinewidth": 0,
             "ticks": ""
            },
            "colorscale": [
             [
              0,
              "#0d0887"
             ],
             [
              0.1111111111111111,
              "#46039f"
             ],
             [
              0.2222222222222222,
              "#7201a8"
             ],
             [
              0.3333333333333333,
              "#9c179e"
             ],
             [
              0.4444444444444444,
              "#bd3786"
             ],
             [
              0.5555555555555556,
              "#d8576b"
             ],
             [
              0.6666666666666666,
              "#ed7953"
             ],
             [
              0.7777777777777778,
              "#fb9f3a"
             ],
             [
              0.8888888888888888,
              "#fdca26"
             ],
             [
              1,
              "#f0f921"
             ]
            ],
            "type": "contour"
           }
          ],
          "contourcarpet": [
           {
            "colorbar": {
             "outlinewidth": 0,
             "ticks": ""
            },
            "type": "contourcarpet"
           }
          ],
          "heatmap": [
           {
            "colorbar": {
             "outlinewidth": 0,
             "ticks": ""
            },
            "colorscale": [
             [
              0,
              "#0d0887"
             ],
             [
              0.1111111111111111,
              "#46039f"
             ],
             [
              0.2222222222222222,
              "#7201a8"
             ],
             [
              0.3333333333333333,
              "#9c179e"
             ],
             [
              0.4444444444444444,
              "#bd3786"
             ],
             [
              0.5555555555555556,
              "#d8576b"
             ],
             [
              0.6666666666666666,
              "#ed7953"
             ],
             [
              0.7777777777777778,
              "#fb9f3a"
             ],
             [
              0.8888888888888888,
              "#fdca26"
             ],
             [
              1,
              "#f0f921"
             ]
            ],
            "type": "heatmap"
           }
          ],
          "histogram": [
           {
            "marker": {
             "pattern": {
              "fillmode": "overlay",
              "size": 10,
              "solidity": 0.2
             }
            },
            "type": "histogram"
           }
          ],
          "histogram2d": [
           {
            "colorbar": {
             "outlinewidth": 0,
             "ticks": ""
            },
            "colorscale": [
             [
              0,
              "#0d0887"
             ],
             [
              0.1111111111111111,
              "#46039f"
             ],
             [
              0.2222222222222222,
              "#7201a8"
             ],
             [
              0.3333333333333333,
              "#9c179e"
             ],
             [
              0.4444444444444444,
              "#bd3786"
             ],
             [
              0.5555555555555556,
              "#d8576b"
             ],
             [
              0.6666666666666666,
              "#ed7953"
             ],
             [
              0.7777777777777778,
              "#fb9f3a"
             ],
             [
              0.8888888888888888,
              "#fdca26"
             ],
             [
              1,
              "#f0f921"
             ]
            ],
            "type": "histogram2d"
           }
          ],
          "histogram2dcontour": [
           {
            "colorbar": {
             "outlinewidth": 0,
             "ticks": ""
            },
            "colorscale": [
             [
              0,
              "#0d0887"
             ],
             [
              0.1111111111111111,
              "#46039f"
             ],
             [
              0.2222222222222222,
              "#7201a8"
             ],
             [
              0.3333333333333333,
              "#9c179e"
             ],
             [
              0.4444444444444444,
              "#bd3786"
             ],
             [
              0.5555555555555556,
              "#d8576b"
             ],
             [
              0.6666666666666666,
              "#ed7953"
             ],
             [
              0.7777777777777778,
              "#fb9f3a"
             ],
             [
              0.8888888888888888,
              "#fdca26"
             ],
             [
              1,
              "#f0f921"
             ]
            ],
            "type": "histogram2dcontour"
           }
          ],
          "mesh3d": [
           {
            "colorbar": {
             "outlinewidth": 0,
             "ticks": ""
            },
            "type": "mesh3d"
           }
          ],
          "parcoords": [
           {
            "line": {
             "colorbar": {
              "outlinewidth": 0,
              "ticks": ""
             }
            },
            "type": "parcoords"
           }
          ],
          "pie": [
           {
            "automargin": true,
            "type": "pie"
           }
          ],
          "scatter": [
           {
            "marker": {
             "line": {
              "color": "#283442"
             }
            },
            "type": "scatter"
           }
          ],
          "scatter3d": [
           {
            "line": {
             "colorbar": {
              "outlinewidth": 0,
              "ticks": ""
             }
            },
            "marker": {
             "colorbar": {
              "outlinewidth": 0,
              "ticks": ""
             }
            },
            "type": "scatter3d"
           }
          ],
          "scattercarpet": [
           {
            "marker": {
             "colorbar": {
              "outlinewidth": 0,
              "ticks": ""
             }
            },
            "type": "scattercarpet"
           }
          ],
          "scattergeo": [
           {
            "marker": {
             "colorbar": {
              "outlinewidth": 0,
              "ticks": ""
             }
            },
            "type": "scattergeo"
           }
          ],
          "scattergl": [
           {
            "marker": {
             "line": {
              "color": "#283442"
             }
            },
            "type": "scattergl"
           }
          ],
          "scattermap": [
           {
            "marker": {
             "colorbar": {
              "outlinewidth": 0,
              "ticks": ""
             }
            },
            "type": "scattermap"
           }
          ],
          "scattermapbox": [
           {
            "marker": {
             "colorbar": {
              "outlinewidth": 0,
              "ticks": ""
             }
            },
            "type": "scattermapbox"
           }
          ],
          "scatterpolar": [
           {
            "marker": {
             "colorbar": {
              "outlinewidth": 0,
              "ticks": ""
             }
            },
            "type": "scatterpolar"
           }
          ],
          "scatterpolargl": [
           {
            "marker": {
             "colorbar": {
              "outlinewidth": 0,
              "ticks": ""
             }
            },
            "type": "scatterpolargl"
           }
          ],
          "scatterternary": [
           {
            "marker": {
             "colorbar": {
              "outlinewidth": 0,
              "ticks": ""
             }
            },
            "type": "scatterternary"
           }
          ],
          "surface": [
           {
            "colorbar": {
             "outlinewidth": 0,
             "ticks": ""
            },
            "colorscale": [
             [
              0,
              "#0d0887"
             ],
             [
              0.1111111111111111,
              "#46039f"
             ],
             [
              0.2222222222222222,
              "#7201a8"
             ],
             [
              0.3333333333333333,
              "#9c179e"
             ],
             [
              0.4444444444444444,
              "#bd3786"
             ],
             [
              0.5555555555555556,
              "#d8576b"
             ],
             [
              0.6666666666666666,
              "#ed7953"
             ],
             [
              0.7777777777777778,
              "#fb9f3a"
             ],
             [
              0.8888888888888888,
              "#fdca26"
             ],
             [
              1,
              "#f0f921"
             ]
            ],
            "type": "surface"
           }
          ],
          "table": [
           {
            "cells": {
             "fill": {
              "color": "#506784"
             },
             "line": {
              "color": "rgb(17,17,17)"
             }
            },
            "header": {
             "fill": {
              "color": "#2a3f5f"
             },
             "line": {
              "color": "rgb(17,17,17)"
             }
            },
            "type": "table"
           }
          ]
         },
         "layout": {
          "annotationdefaults": {
           "arrowcolor": "#f2f5fa",
           "arrowhead": 0,
           "arrowwidth": 1
          },
          "autotypenumbers": "strict",
          "coloraxis": {
           "colorbar": {
            "outlinewidth": 0,
            "ticks": ""
           }
          },
          "colorscale": {
           "diverging": [
            [
             0,
             "#8e0152"
            ],
            [
             0.1,
             "#c51b7d"
            ],
            [
             0.2,
             "#de77ae"
            ],
            [
             0.3,
             "#f1b6da"
            ],
            [
             0.4,
             "#fde0ef"
            ],
            [
             0.5,
             "#f7f7f7"
            ],
            [
             0.6,
             "#e6f5d0"
            ],
            [
             0.7,
             "#b8e186"
            ],
            [
             0.8,
             "#7fbc41"
            ],
            [
             0.9,
             "#4d9221"
            ],
            [
             1,
             "#276419"
            ]
           ],
           "sequential": [
            [
             0,
             "#0d0887"
            ],
            [
             0.1111111111111111,
             "#46039f"
            ],
            [
             0.2222222222222222,
             "#7201a8"
            ],
            [
             0.3333333333333333,
             "#9c179e"
            ],
            [
             0.4444444444444444,
             "#bd3786"
            ],
            [
             0.5555555555555556,
             "#d8576b"
            ],
            [
             0.6666666666666666,
             "#ed7953"
            ],
            [
             0.7777777777777778,
             "#fb9f3a"
            ],
            [
             0.8888888888888888,
             "#fdca26"
            ],
            [
             1,
             "#f0f921"
            ]
           ],
           "sequentialminus": [
            [
             0,
             "#0d0887"
            ],
            [
             0.1111111111111111,
             "#46039f"
            ],
            [
             0.2222222222222222,
             "#7201a8"
            ],
            [
             0.3333333333333333,
             "#9c179e"
            ],
            [
             0.4444444444444444,
             "#bd3786"
            ],
            [
             0.5555555555555556,
             "#d8576b"
            ],
            [
             0.6666666666666666,
             "#ed7953"
            ],
            [
             0.7777777777777778,
             "#fb9f3a"
            ],
            [
             0.8888888888888888,
             "#fdca26"
            ],
            [
             1,
             "#f0f921"
            ]
           ]
          },
          "colorway": [
           "#636efa",
           "#EF553B",
           "#00cc96",
           "#ab63fa",
           "#FFA15A",
           "#19d3f3",
           "#FF6692",
           "#B6E880",
           "#FF97FF",
           "#FECB52"
          ],
          "font": {
           "color": "#f2f5fa"
          },
          "geo": {
           "bgcolor": "rgb(17,17,17)",
           "lakecolor": "rgb(17,17,17)",
           "landcolor": "rgb(17,17,17)",
           "showlakes": true,
           "showland": true,
           "subunitcolor": "#506784"
          },
          "hoverlabel": {
           "align": "left"
          },
          "hovermode": "closest",
          "mapbox": {
           "style": "dark"
          },
          "paper_bgcolor": "rgb(17,17,17)",
          "plot_bgcolor": "rgb(17,17,17)",
          "polar": {
           "angularaxis": {
            "gridcolor": "#506784",
            "linecolor": "#506784",
            "ticks": ""
           },
           "bgcolor": "rgb(17,17,17)",
           "radialaxis": {
            "gridcolor": "#506784",
            "linecolor": "#506784",
            "ticks": ""
           }
          },
          "scene": {
           "xaxis": {
            "backgroundcolor": "rgb(17,17,17)",
            "gridcolor": "#506784",
            "gridwidth": 2,
            "linecolor": "#506784",
            "showbackground": true,
            "ticks": "",
            "zerolinecolor": "#C8D4E3"
           },
           "yaxis": {
            "backgroundcolor": "rgb(17,17,17)",
            "gridcolor": "#506784",
            "gridwidth": 2,
            "linecolor": "#506784",
            "showbackground": true,
            "ticks": "",
            "zerolinecolor": "#C8D4E3"
           },
           "zaxis": {
            "backgroundcolor": "rgb(17,17,17)",
            "gridcolor": "#506784",
            "gridwidth": 2,
            "linecolor": "#506784",
            "showbackground": true,
            "ticks": "",
            "zerolinecolor": "#C8D4E3"
           }
          },
          "shapedefaults": {
           "line": {
            "color": "#f2f5fa"
           }
          },
          "sliderdefaults": {
           "bgcolor": "#C8D4E3",
           "bordercolor": "rgb(17,17,17)",
           "borderwidth": 1,
           "tickwidth": 0
          },
          "ternary": {
           "aaxis": {
            "gridcolor": "#506784",
            "linecolor": "#506784",
            "ticks": ""
           },
           "baxis": {
            "gridcolor": "#506784",
            "linecolor": "#506784",
            "ticks": ""
           },
           "bgcolor": "rgb(17,17,17)",
           "caxis": {
            "gridcolor": "#506784",
            "linecolor": "#506784",
            "ticks": ""
           }
          },
          "title": {
           "x": 0.05
          },
          "updatemenudefaults": {
           "bgcolor": "#506784",
           "borderwidth": 0
          },
          "xaxis": {
           "automargin": true,
           "gridcolor": "#283442",
           "linecolor": "#506784",
           "ticks": "",
           "title": {
            "standoff": 15
           },
           "zerolinecolor": "#283442",
           "zerolinewidth": 2
          },
          "yaxis": {
           "automargin": true,
           "gridcolor": "#283442",
           "linecolor": "#506784",
           "ticks": "",
           "title": {
            "standoff": 15
           },
           "zerolinecolor": "#283442",
           "zerolinewidth": 2
          }
         }
        },
        "title": {
         "text": "Users by Most Popular Stations"
        },
        "width": 1400,
        "xaxis": {
         "anchor": "y",
         "domain": [
          0,
          1
         ],
         "dtick": "M1",
         "tickformat": "%b",
         "title": {
          "text": "Station name"
         }
        },
        "yaxis": {
         "anchor": "x",
         "domain": [
          0,
          1
         ],
         "dtick": 10000,
         "range": [
          0,
          null
         ],
         "side": "left",
         "title": {
          "text": "Activity"
         }
        }
       }
      }
     },
     "metadata": {},
     "output_type": "display_data"
    }
   ],
   "source": [
    "legend_name = {\n",
    "    'casual': 'Casual',\n",
    "    'member': 'Member',\n",
    "}\n",
    "\n",
    "most_popular_stations_records_bar = px.bar(\n",
    "    most_popular_stations_df,\n",
    "    x='start_station_name',\n",
    "    y='count',\n",
    "    color='member_casual',\n",
    "    width=1400,\n",
    "    template='plotly_dark',\n",
    "    color_discrete_sequence=['silver', 'goldenrod'],\n",
    ")\n",
    "\n",
    "most_popular_stations_records_bar.for_each_trace(lambda x: x.update(name=legend_name[x.name]))\n",
    "\n",
    "most_popular_stations_records_bar.update_layout(\n",
    "    xaxis_title='Station name', \n",
    "    yaxis_title='Activity', \n",
    "    title='Users by Most Popular Stations',\n",
    "    legend_title_text='Subscription',\n",
    "    yaxis=dict(\n",
    "        range=[0, None],\n",
    "        dtick=10000,\n",
    "        side='left'\n",
    "    ),\n",
    "    xaxis=dict(\n",
    "        dtick=\"M1\",\n",
    "        tickformat=\"%b\",\n",
    "    ),\n",
    "    margin=dict(\n",
    "        pad=10\n",
    "    ),\n",
    ")\n",
    "\n",
    "most_popular_stations_records_bar.show()"
   ]
  },
  {
   "cell_type": "markdown",
   "id": "eead707b",
   "metadata": {},
   "source": [
    "According to the graph above:\n",
    "* Streeter Dr & Grand Ave stands out as the highest used stations with dominant casual users.\n",
    "* Variation in usage patterns across station indicates different roles - some for commute (members) and some for tourist spots (casual)"
   ]
  },
  {
   "cell_type": "markdown",
   "id": "a2e9bf06",
   "metadata": {},
   "source": [
    "### Most popular stations by casual users"
   ]
  },
  {
   "cell_type": "code",
   "execution_count": null,
   "id": "89b76f70",
   "metadata": {},
   "outputs": [],
   "source": []
  }
 ],
 "metadata": {
  "kernelspec": {
   "display_name": "myenv",
   "language": "python",
   "name": "python3"
  },
  "language_info": {
   "codemirror_mode": {
    "name": "ipython",
    "version": 3
   },
   "file_extension": ".py",
   "mimetype": "text/x-python",
   "name": "python",
   "nbconvert_exporter": "python",
   "pygments_lexer": "ipython3",
   "version": "3.13.0"
  }
 },
 "nbformat": 4,
 "nbformat_minor": 5
}
